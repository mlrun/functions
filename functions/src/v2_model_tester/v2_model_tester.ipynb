{
 "cells": [
  {
   "cell_type": "markdown",
   "metadata": {},
   "source": [
    "# **Live Model Server Testing**\n",
    "\n",
    "Test model server via HTTP calls.<br>\n",
    "To see how the model is trained or how the data-set is generated, check out `sklearn_classifier` function from the function marketplace repository"
   ]
  },
  {
   "cell_type": "markdown",
   "metadata": {},
   "source": [
    "### **Steps**\n",
    "\n",
    "1. [Setup function parameters](#Setup-function-parameters)\n",
    "2. [Importing the function](#Importing-the-function)\n",
    "3. [Running the function locally](#Running-the-function-locally)\n",
    "4. [Running the function remotely](#Running-the-function-remotely)"
   ]
  },
  {
   "cell_type": "code",
   "execution_count": 1,
   "metadata": {},
   "outputs": [],
   "source": [
    "import warnings\n",
    "warnings.filterwarnings(\"ignore\")"
   ]
  },
  {
   "cell_type": "markdown",
   "metadata": {},
   "source": [
    "### **Setup function parameters**"
   ]
  },
  {
   "cell_type": "code",
   "execution_count": 3,
   "metadata": {},
   "outputs": [],
   "source": [
    "# Declaring the model's path that we are going to test\n",
    "models_path = 'https://s3.wasabisys.com/iguazio/models/function-marketplace-models/test_classifier/RandomForestClassifier.pkl'\n",
    "# Testing with dataset\n",
    "data_path = 'https://s3.wasabisys.com/iguazio/data/function-marketplace-data/sklearn_classifier/iris_dataset.csv'"
   ]
  },
  {
   "cell_type": "code",
   "execution_count": 4,
   "metadata": {},
   "outputs": [
    {
     "name": "stdout",
     "output_type": "stream",
     "text": [
      "> 2021-10-18 05:03:08,020 [info] loaded project function-marketplace from MLRun DB\n",
      "> 2021-10-18 05:03:08,791 [info] Starting remote function deploy\n",
      "2021-10-18 05:03:08  (info) Deploying function\n",
      "2021-10-18 05:03:08  (info) Building\n",
      "2021-10-18 05:03:08  (info) Staging files and preparing base images\n",
      "2021-10-18 05:03:08  (info) Building processor image\n",
      "2021-10-18 05:03:10  (info) Build complete\n",
      "2021-10-18 05:03:18  (info) Function deploy complete\n",
      "> 2021-10-18 05:03:18,932 [info] successfully deployed function: {'internal_invocation_urls': ['nuclio-function-marketplace-v2-model-server.default-tenant.svc.cluster.local:8080'], 'external_invocation_urls': ['default-tenant.app.dev39.lab.iguazeng.com:31003']}\n"
     ]
    }
   ],
   "source": [
    "import mlrun\n",
    "mlrun.set_environment(project='function-marketplace')\n",
    "\n",
    "# deploying v2_model_server in order to get an http endpoint to test\n",
    "# importing the function from the hub\n",
    "fn = mlrun.import_function(\"hub://v2_model_server\")\n",
    "fn.apply(mlrun.auto_mount())\n",
    "\n",
    "# Adding the model \n",
    "fn.add_model(key='RandomForestClassifier', model_path=models_path ,class_name='ClassifierModel')\n",
    "address = fn.deploy()"
   ]
  },
  {
   "cell_type": "markdown",
   "metadata": {},
   "source": [
    "### **Importing the function**"
   ]
  },
  {
   "cell_type": "code",
   "execution_count": 10,
   "metadata": {},
   "outputs": [
    {
     "data": {
      "text/plain": [
       "<mlrun.runtimes.kubejob.KubejobRuntime at 0x7f6ec6f06790>"
      ]
     },
     "execution_count": 10,
     "metadata": {},
     "output_type": "execute_result"
    }
   ],
   "source": [
    "# Importing the function from the hub\n",
    "fn = mlrun.import_function(\"hub://v2_model_tester\")\n",
    "fn.apply(mlrun.auto_mount())"
   ]
  },
  {
   "cell_type": "markdown",
   "metadata": {},
   "source": [
    "### **Running the function locally**"
   ]
  },
  {
   "cell_type": "code",
   "execution_count": 12,
   "metadata": {},
   "outputs": [
    {
     "name": "stdout",
     "output_type": "stream",
     "text": [
      "> 2021-10-18 05:10:09,850 [info] starting run model_server_tester uid=c5773ef3ebc544d390c3b66cce7d7665 DB=http://mlrun-api:8080\n",
      "> 2021-10-18 05:10:11,386 [info] testing with dataset against http://default-tenant.app.dev39.lab.iguazeng.com:31003, model: RandomForestClassifier\n",
      "{'id': '674dc477-0281-4aaa-b98c-e74998ac295d', 'model_name': 'RandomForestClassifier', 'outputs': [0]}\n",
      "{'id': '8ff10778-834b-4920-a455-2d638d125116', 'model_name': 'RandomForestClassifier', 'outputs': [1]}\n",
      "{'id': 'c4a03a43-2715-4772-b88b-6db8a222f8d4', 'model_name': 'RandomForestClassifier', 'outputs': [1]}\n",
      "{'id': '03d3b15c-843d-4ba3-af90-ec5aaf5ccec4', 'model_name': 'RandomForestClassifier', 'outputs': [2]}\n",
      "{'id': '10caf431-7375-4d0a-840c-6d4bd479d2e3', 'model_name': 'RandomForestClassifier', 'outputs': [0]}\n",
      "{'id': '7b9c8753-6ff7-46f4-a77c-e91a2f49826d', 'model_name': 'RandomForestClassifier', 'outputs': [2]}\n",
      "{'id': 'e08f322b-f732-4d88-9911-a6b4d55b6b51', 'model_name': 'RandomForestClassifier', 'outputs': [0]}\n",
      "{'id': '2eb7912a-d464-45c0-a4d7-c884613f9a93', 'model_name': 'RandomForestClassifier', 'outputs': [2]}\n",
      "{'id': 'a03751af-e2c5-4123-b75f-7d03618cff30', 'model_name': 'RandomForestClassifier', 'outputs': [0]}\n",
      "{'id': '22a2abfa-cab6-44c3-8253-8f598b01ab5b', 'model_name': 'RandomForestClassifier', 'outputs': [0]}\n",
      "{'id': '881e7014-8eeb-4e44-a88e-f8fa2bd865e8', 'model_name': 'RandomForestClassifier', 'outputs': [1]}\n",
      "{'id': '400ead78-7335-4037-89b6-e19b5fef8e7b', 'model_name': 'RandomForestClassifier', 'outputs': [2]}\n",
      "{'id': 'de3f8418-6ac6-482d-876d-8a12964f3c15', 'model_name': 'RandomForestClassifier', 'outputs': [1]}\n",
      "{'id': '80d4adf7-c44f-450f-83a7-bb9f22f5600e', 'model_name': 'RandomForestClassifier', 'outputs': [2]}\n",
      "{'id': '38fbb00f-dee5-4f48-a3b5-422c9100bf70', 'model_name': 'RandomForestClassifier', 'outputs': [1]}\n",
      "{'id': '2fb61f97-ab33-4bfe-aa7a-cb65dac9f525', 'model_name': 'RandomForestClassifier', 'outputs': [0]}\n",
      "{'id': '803731c6-d1a1-4ec1-a1da-91b0915596a2', 'model_name': 'RandomForestClassifier', 'outputs': [0]}\n",
      "{'id': '92c7a186-e714-4dc4-860a-50b17696cf86', 'model_name': 'RandomForestClassifier', 'outputs': [1]}\n",
      "{'id': 'f6fd25a4-b056-4fc7-a37a-244f01268c36', 'model_name': 'RandomForestClassifier', 'outputs': [0]}\n",
      "{'id': '4e37f305-ed1e-4594-8289-28353898a2e5', 'model_name': 'RandomForestClassifier', 'outputs': [0]}\n",
      "> 2021-10-18 05:10:11,984 [info] run 20 tests, 0 errors and 9 match expected value\n"
     ]
    },
    {
     "data": {
      "text/html": [
       "<style>\n",
       ".dictlist {\n",
       "  background-color: #4EC64B;\n",
       "  text-align: center;\n",
       "  margin: 4px;\n",
       "  border-radius: 3px; padding: 0px 3px 1px 3px; display: inline-block;}\n",
       ".artifact {\n",
       "  cursor: pointer;\n",
       "  background-color: #4EC64B;\n",
       "  text-align: left;\n",
       "  margin: 4px; border-radius: 3px; padding: 0px 3px 1px 3px; display: inline-block;\n",
       "}\n",
       "div.block.hidden {\n",
       "  display: none;\n",
       "}\n",
       ".clickable {\n",
       "  cursor: pointer;\n",
       "}\n",
       ".ellipsis {\n",
       "  display: inline-block;\n",
       "  max-width: 60px;\n",
       "  white-space: nowrap;\n",
       "  overflow: hidden;\n",
       "  text-overflow: ellipsis;\n",
       "}\n",
       ".master-wrapper {\n",
       "  display: flex;\n",
       "  flex-flow: row nowrap;\n",
       "  justify-content: flex-start;\n",
       "  align-items: stretch;\n",
       "}\n",
       ".master-tbl {\n",
       "  flex: 3\n",
       "}\n",
       ".master-wrapper > div {\n",
       "  margin: 4px;\n",
       "  padding: 10px;\n",
       "}\n",
       "iframe.fileview {\n",
       "  border: 0 none;\n",
       "  height: 100%;\n",
       "  width: 100%;\n",
       "  white-space: pre-wrap;\n",
       "}\n",
       ".pane-header-title {\n",
       "  width: 80%;\n",
       "  font-weight: 500;\n",
       "}\n",
       ".pane-header {\n",
       "  line-height: 1;\n",
       "  background-color: #4EC64B;\n",
       "  padding: 3px;\n",
       "}\n",
       ".pane-header .close {\n",
       "  font-size: 20px;\n",
       "  font-weight: 700;\n",
       "  float: right;\n",
       "  margin-top: -5px;\n",
       "}\n",
       ".master-wrapper .right-pane {\n",
       "  border: 1px inset silver;\n",
       "  width: 40%;\n",
       "  min-height: 300px;\n",
       "  flex: 3\n",
       "  min-width: 500px;\n",
       "}\n",
       ".master-wrapper * {\n",
       "  box-sizing: border-box;\n",
       "}\n",
       "</style><script>\n",
       "function copyToClipboard(fld) {\n",
       "    if (document.queryCommandSupported && document.queryCommandSupported('copy')) {\n",
       "        var textarea = document.createElement('textarea');\n",
       "        textarea.textContent = fld.innerHTML;\n",
       "        textarea.style.position = 'fixed';\n",
       "        document.body.appendChild(textarea);\n",
       "        textarea.select();\n",
       "\n",
       "        try {\n",
       "            return document.execCommand('copy'); // Security exception may be thrown by some browsers.\n",
       "        } catch (ex) {\n",
       "\n",
       "        } finally {\n",
       "            document.body.removeChild(textarea);\n",
       "        }\n",
       "    }\n",
       "}\n",
       "function expandPanel(el) {\n",
       "  const panelName = \"#\" + el.getAttribute('paneName');\n",
       "  console.log(el.title);\n",
       "\n",
       "  document.querySelector(panelName + \"-title\").innerHTML = el.title\n",
       "  iframe = document.querySelector(panelName + \"-body\");\n",
       "\n",
       "  const tblcss = `<style> body { font-family: Arial, Helvetica, sans-serif;}\n",
       "    #csv { margin-bottom: 15px; }\n",
       "    #csv table { border-collapse: collapse;}\n",
       "    #csv table td { padding: 4px 8px; border: 1px solid silver;} </style>`;\n",
       "\n",
       "  function csvToHtmlTable(str) {\n",
       "    return '<div id=\"csv\"><table><tr><td>' +  str.replace(/[\\n\\r]+$/g, '').replace(/[\\n\\r]+/g, '</td></tr><tr><td>')\n",
       "      .replace(/,/g, '</td><td>') + '</td></tr></table></div>';\n",
       "  }\n",
       "\n",
       "  function reqListener () {\n",
       "    if (el.title.endsWith(\".csv\")) {\n",
       "      iframe.setAttribute(\"srcdoc\", tblcss + csvToHtmlTable(this.responseText));\n",
       "    } else {\n",
       "      iframe.setAttribute(\"srcdoc\", this.responseText);\n",
       "    }\n",
       "    console.log(this.responseText);\n",
       "  }\n",
       "\n",
       "  const oReq = new XMLHttpRequest();\n",
       "  oReq.addEventListener(\"load\", reqListener);\n",
       "  oReq.open(\"GET\", el.title);\n",
       "  oReq.send();\n",
       "\n",
       "\n",
       "  //iframe.src = el.title;\n",
       "  const resultPane = document.querySelector(panelName + \"-pane\");\n",
       "  if (resultPane.classList.contains(\"hidden\")) {\n",
       "    resultPane.classList.remove(\"hidden\");\n",
       "  }\n",
       "}\n",
       "function closePanel(el) {\n",
       "  const panelName = \"#\" + el.getAttribute('paneName')\n",
       "  const resultPane = document.querySelector(panelName + \"-pane\");\n",
       "  if (!resultPane.classList.contains(\"hidden\")) {\n",
       "    resultPane.classList.add(\"hidden\");\n",
       "  }\n",
       "}\n",
       "\n",
       "</script>\n",
       "<div class=\"master-wrapper\">\n",
       "  <div class=\"block master-tbl\"><div>\n",
       "<style scoped>\n",
       "    .dataframe tbody tr th:only-of-type {\n",
       "        vertical-align: middle;\n",
       "    }\n",
       "\n",
       "    .dataframe tbody tr th {\n",
       "        vertical-align: top;\n",
       "    }\n",
       "\n",
       "    .dataframe thead th {\n",
       "        text-align: right;\n",
       "    }\n",
       "</style>\n",
       "<table border=\"1\" class=\"dataframe\">\n",
       "  <thead>\n",
       "    <tr style=\"text-align: right;\">\n",
       "      <th>project</th>\n",
       "      <th>uid</th>\n",
       "      <th>iter</th>\n",
       "      <th>start</th>\n",
       "      <th>state</th>\n",
       "      <th>name</th>\n",
       "      <th>labels</th>\n",
       "      <th>inputs</th>\n",
       "      <th>parameters</th>\n",
       "      <th>results</th>\n",
       "      <th>artifacts</th>\n",
       "    </tr>\n",
       "  </thead>\n",
       "  <tbody>\n",
       "    <tr>\n",
       "      <td>function-marketplace</td>\n",
       "      <td><div title=\"c5773ef3ebc544d390c3b66cce7d7665\"><a href=\"https://dashboard.default-tenant.app.dev39.lab.iguazeng.com/mlprojects/function-marketplace/jobs/monitor/c5773ef3ebc544d390c3b66cce7d7665/overview\" target=\"_blank\" >...ce7d7665</a></div></td>\n",
       "      <td>0</td>\n",
       "      <td>Oct 18 05:10:10</td>\n",
       "      <td>completed</td>\n",
       "      <td>model_server_tester</td>\n",
       "      <td><div class=\"dictlist\">v3io_user=dani</div><div class=\"dictlist\">kind=</div><div class=\"dictlist\">owner=dani</div><div class=\"dictlist\">host=jupyter-dani-6bfbd76d96-zxx6f</div></td>\n",
       "      <td><div title=\"https://s3.wasabisys.com/iguazio/data/function-marketplace-data/sklearn_classifier/iris_dataset.csv\">table</div></td>\n",
       "      <td><div class=\"dictlist\">addr=http://default-tenant.app.dev39.lab.iguazeng.com:31003</div><div class=\"dictlist\">model=RandomForestClassifier</div></td>\n",
       "      <td><div class=\"dictlist\">total_tests=20</div><div class=\"dictlist\">errors=0</div><div class=\"dictlist\">match=9</div><div class=\"dictlist\">avg_latency=26833</div><div class=\"dictlist\">min_latency=19420</div><div class=\"dictlist\">max_latency=152063</div></td>\n",
       "      <td><div class=\"artifact\" onclick=\"expandPanel(this)\" paneName=\"resultd4aa3882\" title=\"files/v3io/projects/function-marketplace/artifacts/latency.html\">latency</div></td>\n",
       "    </tr>\n",
       "  </tbody>\n",
       "</table>\n",
       "</div></div>\n",
       "  <div id=\"resultd4aa3882-pane\" class=\"right-pane block hidden\">\n",
       "    <div class=\"pane-header\">\n",
       "      <span id=\"resultd4aa3882-title\" class=\"pane-header-title\">Title</span>\n",
       "      <span onclick=\"closePanel(this)\" paneName=\"resultd4aa3882\" class=\"close clickable\">&times;</span>\n",
       "    </div>\n",
       "    <iframe class=\"fileview\" id=\"resultd4aa3882-body\"></iframe>\n",
       "  </div>\n",
       "</div>\n"
      ],
      "text/plain": [
       "<IPython.core.display.HTML object>"
      ]
     },
     "metadata": {},
     "output_type": "display_data"
    },
    {
     "name": "stdout",
     "output_type": "stream",
     "text": [
      "\n"
     ]
    },
    {
     "data": {
      "text/html": [
       "<b> > to track results use the .show() or .logs() methods  or <a href=\"https://dashboard.default-tenant.app.dev39.lab.iguazeng.com/mlprojects/function-marketplace/jobs/monitor/c5773ef3ebc544d390c3b66cce7d7665/overview\" target=\"_blank\">click here</a> to open in UI</b>"
      ],
      "text/plain": [
       "<IPython.core.display.HTML object>"
      ]
     },
     "metadata": {},
     "output_type": "display_data"
    },
    {
     "name": "stdout",
     "output_type": "stream",
     "text": [
      "> 2021-10-18 05:10:12,045 [info] run executed, status=completed\n"
     ]
    }
   ],
   "source": [
    "tester_run = fn.run(name='model_server_tester',\n",
    "                    handler = 'model_server_tester', # default value is 'handler', therefore specifying function entry point.\n",
    "                    params={'addr': address, 'model': 'RandomForestClassifier'},\n",
    "                    inputs={'table': data_path},\n",
    "                    local=True)"
   ]
  },
  {
   "cell_type": "code",
   "execution_count": 20,
   "metadata": {},
   "outputs": [
    {
     "data": {
      "text/html": [
       "\n",
       "<html>\n",
       "  <head>\n",
       "    <script\n",
       "        type=\"text/javascript\"\n",
       "        src=\"https://www.gstatic.com/charts/loader.js\"></script>\n",
       "    <script type=\"text/javascript\">\n",
       "      google.charts.load('current', {'packages':['corechart']});\n",
       "      google.charts.setOnLoadCallback(drawChart);\n",
       "      function drawChart() {\n",
       "        var data = google.visualization.arrayToDataTable([[\"Test\", \"Latency (microsec)\"], [1, 22314], [2, 20785], [3, 20540], [4, 20365], [5, 152063], [6, 20341], [7, 19769], [8, 20269], [9, 19755], [10, 19434], [11, 19912], [12, 19924], [13, 19420], [14, 19678], [15, 19716], [16, 20814], [17, 20145], [18, 20743], [19, 20666], [20, 20015]]);\n",
       "        var options = {\"title\": \"latency\"};\n",
       "        var chart = new google.visualization.LineChart(\n",
       "            document.getElementById('chart_div'));\n",
       "        chart.draw(data, options);\n",
       "      }\n",
       "    </script>\n",
       "  </head>\n",
       "  <body>\n",
       "    <div id=\"chart_div\" style=\"width: 100%; height: 500px;\"></div>\n",
       "  </body>\n",
       "</html>\n"
      ],
      "text/plain": [
       "<IPython.core.display.HTML object>"
      ]
     },
     "metadata": {},
     "output_type": "display_data"
    }
   ],
   "source": [
    "tester_run.artifact('latency').show()"
   ]
  },
  {
   "cell_type": "markdown",
   "metadata": {},
   "source": [
    "### **Running the function remotely**"
   ]
  },
  {
   "cell_type": "code",
   "execution_count": 21,
   "metadata": {},
   "outputs": [
    {
     "name": "stdout",
     "output_type": "stream",
     "text": [
      "> 2021-10-18 05:12:30,250 [info] starting run model_server_tester uid=a3ffac1155564332a828961fa66ab30c DB=http://mlrun-api:8080\n",
      "> 2021-10-18 05:12:30,380 [info] Job is running in the background, pod: model-server-tester-thhll\n",
      "> 2021-10-18 05:12:36,763 [info] testing with dataset against http://default-tenant.app.dev39.lab.iguazeng.com:31003, model: RandomForestClassifier\n",
      "{'id': '4318bfe9-ec16-43ad-9990-d637a87275a7', 'model_name': 'RandomForestClassifier', 'outputs': [2]}\n",
      "{'id': '71ba6a72-dd4c-4cb0-a877-39dc8d739377', 'model_name': 'RandomForestClassifier', 'outputs': [2]}\n",
      "{'id': 'c5359476-b0b1-4dd8-8ce7-562addb02929', 'model_name': 'RandomForestClassifier', 'outputs': [0]}\n",
      "{'id': '0679c92f-9f92-46bc-a773-8df73de2c5de', 'model_name': 'RandomForestClassifier', 'outputs': [2]}\n",
      "{'id': '2c272335-ee43-458e-b662-c236d29f62dc', 'model_name': 'RandomForestClassifier', 'outputs': [2]}\n",
      "{'id': 'c9e600b5-36ef-4366-b771-519a3037bb2e', 'model_name': 'RandomForestClassifier', 'outputs': [1]}\n",
      "{'id': '84ea193f-ff47-4431-b689-5ad29284e3cc', 'model_name': 'RandomForestClassifier', 'outputs': [1]}\n",
      "{'id': 'dea37518-ceff-487c-a416-d7f4eb69a448', 'model_name': 'RandomForestClassifier', 'outputs': [0]}\n",
      "{'id': 'c35b9f63-95b5-4c3a-af3f-1f47a9427285', 'model_name': 'RandomForestClassifier', 'outputs': [2]}\n",
      "{'id': '7df9a5f2-5cd7-40d3-bc44-60ba8a87d349', 'model_name': 'RandomForestClassifier', 'outputs': [0]}\n",
      "{'id': '58d7fa40-f094-49c0-bf94-626571aab0fd', 'model_name': 'RandomForestClassifier', 'outputs': [1]}\n",
      "{'id': 'b1ced717-5ddd-4148-8a6a-c98e737e2649', 'model_name': 'RandomForestClassifier', 'outputs': [0]}\n",
      "{'id': '9cec3bb4-4770-4679-abaf-4f3fec2302da', 'model_name': 'RandomForestClassifier', 'outputs': [2]}\n",
      "{'id': '5971197e-1d33-4338-a114-9cf79349d69b', 'model_name': 'RandomForestClassifier', 'outputs': [0]}\n",
      "{'id': 'd844c786-c799-429c-9192-0bf71c63099b', 'model_name': 'RandomForestClassifier', 'outputs': [1]}\n",
      "{'id': '383ee50e-e8be-4744-8cad-ab35be13acd9', 'model_name': 'RandomForestClassifier', 'outputs': [1]}\n",
      "{'id': '627d7683-cf8e-4e1f-832c-a8da929b1ce5', 'model_name': 'RandomForestClassifier', 'outputs': [2]}\n",
      "{'id': '35759e5a-33a7-443d-a7e2-11f081347cc6', 'model_name': 'RandomForestClassifier', 'outputs': [1]}\n",
      "{'id': 'bdb5571f-116d-4744-93e3-a2e5f983112f', 'model_name': 'RandomForestClassifier', 'outputs': [2]}\n",
      "{'id': '978496b0-22bf-4372-a77f-90091f96388a', 'model_name': 'RandomForestClassifier', 'outputs': [0]}\n",
      "> 2021-10-18 05:12:37,462 [info] run 20 tests, 0 errors and 6 match expected value\n",
      "> 2021-10-18 05:12:37,553 [info] run executed, status=completed\n",
      "final state: completed\n"
     ]
    },
    {
     "data": {
      "text/html": [
       "<style>\n",
       ".dictlist {\n",
       "  background-color: #4EC64B;\n",
       "  text-align: center;\n",
       "  margin: 4px;\n",
       "  border-radius: 3px; padding: 0px 3px 1px 3px; display: inline-block;}\n",
       ".artifact {\n",
       "  cursor: pointer;\n",
       "  background-color: #4EC64B;\n",
       "  text-align: left;\n",
       "  margin: 4px; border-radius: 3px; padding: 0px 3px 1px 3px; display: inline-block;\n",
       "}\n",
       "div.block.hidden {\n",
       "  display: none;\n",
       "}\n",
       ".clickable {\n",
       "  cursor: pointer;\n",
       "}\n",
       ".ellipsis {\n",
       "  display: inline-block;\n",
       "  max-width: 60px;\n",
       "  white-space: nowrap;\n",
       "  overflow: hidden;\n",
       "  text-overflow: ellipsis;\n",
       "}\n",
       ".master-wrapper {\n",
       "  display: flex;\n",
       "  flex-flow: row nowrap;\n",
       "  justify-content: flex-start;\n",
       "  align-items: stretch;\n",
       "}\n",
       ".master-tbl {\n",
       "  flex: 3\n",
       "}\n",
       ".master-wrapper > div {\n",
       "  margin: 4px;\n",
       "  padding: 10px;\n",
       "}\n",
       "iframe.fileview {\n",
       "  border: 0 none;\n",
       "  height: 100%;\n",
       "  width: 100%;\n",
       "  white-space: pre-wrap;\n",
       "}\n",
       ".pane-header-title {\n",
       "  width: 80%;\n",
       "  font-weight: 500;\n",
       "}\n",
       ".pane-header {\n",
       "  line-height: 1;\n",
       "  background-color: #4EC64B;\n",
       "  padding: 3px;\n",
       "}\n",
       ".pane-header .close {\n",
       "  font-size: 20px;\n",
       "  font-weight: 700;\n",
       "  float: right;\n",
       "  margin-top: -5px;\n",
       "}\n",
       ".master-wrapper .right-pane {\n",
       "  border: 1px inset silver;\n",
       "  width: 40%;\n",
       "  min-height: 300px;\n",
       "  flex: 3\n",
       "  min-width: 500px;\n",
       "}\n",
       ".master-wrapper * {\n",
       "  box-sizing: border-box;\n",
       "}\n",
       "</style><script>\n",
       "function copyToClipboard(fld) {\n",
       "    if (document.queryCommandSupported && document.queryCommandSupported('copy')) {\n",
       "        var textarea = document.createElement('textarea');\n",
       "        textarea.textContent = fld.innerHTML;\n",
       "        textarea.style.position = 'fixed';\n",
       "        document.body.appendChild(textarea);\n",
       "        textarea.select();\n",
       "\n",
       "        try {\n",
       "            return document.execCommand('copy'); // Security exception may be thrown by some browsers.\n",
       "        } catch (ex) {\n",
       "\n",
       "        } finally {\n",
       "            document.body.removeChild(textarea);\n",
       "        }\n",
       "    }\n",
       "}\n",
       "function expandPanel(el) {\n",
       "  const panelName = \"#\" + el.getAttribute('paneName');\n",
       "  console.log(el.title);\n",
       "\n",
       "  document.querySelector(panelName + \"-title\").innerHTML = el.title\n",
       "  iframe = document.querySelector(panelName + \"-body\");\n",
       "\n",
       "  const tblcss = `<style> body { font-family: Arial, Helvetica, sans-serif;}\n",
       "    #csv { margin-bottom: 15px; }\n",
       "    #csv table { border-collapse: collapse;}\n",
       "    #csv table td { padding: 4px 8px; border: 1px solid silver;} </style>`;\n",
       "\n",
       "  function csvToHtmlTable(str) {\n",
       "    return '<div id=\"csv\"><table><tr><td>' +  str.replace(/[\\n\\r]+$/g, '').replace(/[\\n\\r]+/g, '</td></tr><tr><td>')\n",
       "      .replace(/,/g, '</td><td>') + '</td></tr></table></div>';\n",
       "  }\n",
       "\n",
       "  function reqListener () {\n",
       "    if (el.title.endsWith(\".csv\")) {\n",
       "      iframe.setAttribute(\"srcdoc\", tblcss + csvToHtmlTable(this.responseText));\n",
       "    } else {\n",
       "      iframe.setAttribute(\"srcdoc\", this.responseText);\n",
       "    }\n",
       "    console.log(this.responseText);\n",
       "  }\n",
       "\n",
       "  const oReq = new XMLHttpRequest();\n",
       "  oReq.addEventListener(\"load\", reqListener);\n",
       "  oReq.open(\"GET\", el.title);\n",
       "  oReq.send();\n",
       "\n",
       "\n",
       "  //iframe.src = el.title;\n",
       "  const resultPane = document.querySelector(panelName + \"-pane\");\n",
       "  if (resultPane.classList.contains(\"hidden\")) {\n",
       "    resultPane.classList.remove(\"hidden\");\n",
       "  }\n",
       "}\n",
       "function closePanel(el) {\n",
       "  const panelName = \"#\" + el.getAttribute('paneName')\n",
       "  const resultPane = document.querySelector(panelName + \"-pane\");\n",
       "  if (!resultPane.classList.contains(\"hidden\")) {\n",
       "    resultPane.classList.add(\"hidden\");\n",
       "  }\n",
       "}\n",
       "\n",
       "</script>\n",
       "<div class=\"master-wrapper\">\n",
       "  <div class=\"block master-tbl\"><div>\n",
       "<style scoped>\n",
       "    .dataframe tbody tr th:only-of-type {\n",
       "        vertical-align: middle;\n",
       "    }\n",
       "\n",
       "    .dataframe tbody tr th {\n",
       "        vertical-align: top;\n",
       "    }\n",
       "\n",
       "    .dataframe thead th {\n",
       "        text-align: right;\n",
       "    }\n",
       "</style>\n",
       "<table border=\"1\" class=\"dataframe\">\n",
       "  <thead>\n",
       "    <tr style=\"text-align: right;\">\n",
       "      <th>project</th>\n",
       "      <th>uid</th>\n",
       "      <th>iter</th>\n",
       "      <th>start</th>\n",
       "      <th>state</th>\n",
       "      <th>name</th>\n",
       "      <th>labels</th>\n",
       "      <th>inputs</th>\n",
       "      <th>parameters</th>\n",
       "      <th>results</th>\n",
       "      <th>artifacts</th>\n",
       "    </tr>\n",
       "  </thead>\n",
       "  <tbody>\n",
       "    <tr>\n",
       "      <td>function-marketplace</td>\n",
       "      <td><div title=\"a3ffac1155564332a828961fa66ab30c\"><a href=\"https://dashboard.default-tenant.app.dev39.lab.iguazeng.com/mlprojects/function-marketplace/jobs/monitor/a3ffac1155564332a828961fa66ab30c/overview\" target=\"_blank\" >...a66ab30c</a></div></td>\n",
       "      <td>0</td>\n",
       "      <td>Oct 18 05:12:35</td>\n",
       "      <td>completed</td>\n",
       "      <td>model_server_tester</td>\n",
       "      <td><div class=\"dictlist\">v3io_user=dani</div><div class=\"dictlist\">kind=job</div><div class=\"dictlist\">owner=dani</div><div class=\"dictlist\">host=model-server-tester-thhll</div></td>\n",
       "      <td><div title=\"https://s3.wasabisys.com/iguazio/data/function-marketplace-data/sklearn_classifier/iris_dataset.csv\">table</div></td>\n",
       "      <td><div class=\"dictlist\">addr=http://default-tenant.app.dev39.lab.iguazeng.com:31003</div><div class=\"dictlist\">model=RandomForestClassifier</div></td>\n",
       "      <td><div class=\"dictlist\">total_tests=20</div><div class=\"dictlist\">errors=0</div><div class=\"dictlist\">match=6</div><div class=\"dictlist\">avg_latency=29752</div><div class=\"dictlist\">min_latency=27708</div><div class=\"dictlist\">max_latency=33304</div></td>\n",
       "      <td><div class=\"artifact\" onclick=\"expandPanel(this)\" paneName=\"result218f4616\" title=\"files/v3io/projects/function-marketplace/artifacts/latency.html\">latency</div></td>\n",
       "    </tr>\n",
       "  </tbody>\n",
       "</table>\n",
       "</div></div>\n",
       "  <div id=\"result218f4616-pane\" class=\"right-pane block hidden\">\n",
       "    <div class=\"pane-header\">\n",
       "      <span id=\"result218f4616-title\" class=\"pane-header-title\">Title</span>\n",
       "      <span onclick=\"closePanel(this)\" paneName=\"result218f4616\" class=\"close clickable\">&times;</span>\n",
       "    </div>\n",
       "    <iframe class=\"fileview\" id=\"result218f4616-body\"></iframe>\n",
       "  </div>\n",
       "</div>\n"
      ],
      "text/plain": [
       "<IPython.core.display.HTML object>"
      ]
     },
     "metadata": {},
     "output_type": "display_data"
    },
    {
     "name": "stdout",
     "output_type": "stream",
     "text": [
      "\n"
     ]
    },
    {
     "data": {
      "text/html": [
       "<b> > to track results use the .show() or .logs() methods  or <a href=\"https://dashboard.default-tenant.app.dev39.lab.iguazeng.com/mlprojects/function-marketplace/jobs/monitor/a3ffac1155564332a828961fa66ab30c/overview\" target=\"_blank\">click here</a> to open in UI</b>"
      ],
      "text/plain": [
       "<IPython.core.display.HTML object>"
      ]
     },
     "metadata": {},
     "output_type": "display_data"
    },
    {
     "name": "stdout",
     "output_type": "stream",
     "text": [
      "> 2021-10-18 05:12:39,586 [info] run executed, status=completed\n"
     ]
    }
   ],
   "source": [
    "tester_run = fn.run(name='model_server_tester',\n",
    "                    handler = 'model_server_tester', # default value is 'handler', therefore specifying function entry point.\n",
    "                    params={'addr': address, 'model': 'RandomForestClassifier'},\n",
    "                    inputs={'table': data_path},\n",
    "                    local=False)"
   ]
  },
  {
   "cell_type": "markdown",
   "metadata": {},
   "source": [
    "[Back to the top](#Live-Model-Server-Testing)"
   ]
  }
 ],
 "metadata": {
  "kernelspec": {
   "display_name": "Python [conda env:root] *",
   "language": "python",
   "name": "conda-root-py"
  },
  "language_info": {
   "codemirror_mode": {
    "name": "ipython",
    "version": 3
   },
   "file_extension": ".py",
   "mimetype": "text/x-python",
   "name": "python",
   "nbconvert_exporter": "python",
   "pygments_lexer": "ipython3",
   "version": "3.7.6"
  }
 },
 "nbformat": 4,
 "nbformat_minor": 4
}
