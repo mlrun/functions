{
 "cells": [
  {
   "cell_type": "markdown",
   "metadata": {},
   "source": [
    "# Stream to Parquet"
   ]
  },
  {
   "cell_type": "code",
   "execution_count": 5,
   "metadata": {},
   "outputs": [],
   "source": [
    "import nuclio"
   ]
  },
  {
   "cell_type": "code",
   "execution_count": 6,
   "metadata": {},
   "outputs": [
    {
     "name": "stdout",
     "output_type": "stream",
     "text": [
      "%nuclio: setting kind to 'nuclio'\n",
      "%nuclio: setting spec.build.baseImage to 'mlrun/ml-models'\n"
     ]
    }
   ],
   "source": [
    "# Define function spec\n",
    "%nuclio config kind = \"nuclio\"\n",
    "%nuclio config spec.build.baseImage = \"mlrun/ml-models\""
   ]
  },
  {
   "cell_type": "code",
   "execution_count": 7,
   "metadata": {},
   "outputs": [],
   "source": [
    "# nuclio: start-code"
   ]
  },
  {
   "cell_type": "code",
   "execution_count": 8,
   "metadata": {},
   "outputs": [],
   "source": [
    "import os\n",
    "import pandas as pd\n",
    "import numpy as np\n",
    "import json\n",
    "import datetime\n",
    "import mlrun"
   ]
  },
  {
   "cell_type": "code",
   "execution_count": 9,
   "metadata": {},
   "outputs": [],
   "source": [
    "def record_to_features(record):\n",
    "    features = record['request']['instances'][0]\n",
    "    timestamp = record['when']\n",
    "    prediction = record['resp']\n",
    "    \n",
    "    record = {'timestamp': timestamp,\n",
    "              **features,\n",
    "              'predictions': prediction}\n",
    "    \n",
    "    return record"
   ]
  },
  {
   "cell_type": "code",
   "execution_count": 29,
   "metadata": {},
   "outputs": [],
   "source": [
    "def init_context(context):\n",
    "    setattr(context, 'batch', [])\n",
    "    setattr(context, 'window', int(os.getenv('window', 10)))    \n",
    "    setattr(context, 'save_to', os.getenv('save_to', '/bigdata/inference_pq/'))\n",
    "    os.makedirs(context.save_to, exist_ok=True)\n",
    "    \n",
    "    mlrun.mlconf.dbpath = mlrun.mlconf.dbpath or 'http://mlrun-api:8080'\n",
    "    artifact_path = os.getenv('artifact_path', None)\n",
    "    if artifact_path:\n",
    "        mlrun.mlconf.artifact_path = artifact_path\n",
    "    if 'hub_url' in os.environ:\n",
    "        mlrun.mlconf.hub_url = os.environ['hub_url']\n",
    "    virtual_drift_fn = mlrun.import_function('hub://virtual_drift')\n",
    "    virtual_drift_fn.apply(mlrun.mount_v3io(mount_path=os.getenv('mount_path', '~/'), remote=os.getenv('mount_remote', '/User')))\n",
    "    setattr(context, 'virtual_drift_fn', virtual_drift_fn)\n",
    "    \n",
    "    predictions_col = os.getenv('predictions', None) \n",
    "    label_col = os.getenv('label_col', None)\n",
    "    setattr(context, 'base_dataset', os.getenv('base_dataset', ''))\n",
    "    setattr(context, 'indexes', json.loads(os.environ.get('indexes', '[]')))\n",
    "    setattr(context, 'predictions_col', predictions_col)\n",
    "    setattr(context, 'label_col', label_col)\n",
    "    setattr(context, 'results_tsdb_container', os.getenv('results_tsdb_container', None))\n",
    "    setattr(context, 'results_tsdb_table', os.getenv('results_tsdb_table', None))"
   ]
  },
  {
   "cell_type": "code",
   "execution_count": 30,
   "metadata": {},
   "outputs": [],
   "source": [
    "def handler(context, event):\n",
    "    \n",
    "    context.logger.info(f'Adding {event.body}')\n",
    "    context.batch.append(record_to_features(json.loads(event.body)))\n",
    "    \n",
    "    if len(context.batch) > context.window:\n",
    "        context.logger.info(context.batch[:1])\n",
    "        context.logger.info(context.indexes)\n",
    "        df = pd.DataFrame(context.batch)\n",
    "        context.logger.info(f'df example: {df.head(1)}')\n",
    "        if context.indexes:\n",
    "            df = df.set_index(context.indexes)\n",
    "        df_path = os.path.join(context.save_to, f\"{datetime.datetime.now().strftime('%Y-%m-%dT%H:%M:%S')}.pq\")\n",
    "        df.to_parquet(df_path)\n",
    "\n",
    "        task = mlrun.NewTask(name='drift_magnitude',\n",
    "                        handler='drift_magnitude',\n",
    "                        params={'label_col': context.label_col,\n",
    "                                'prediction_col': context.predictions_col,\n",
    "                                'results_tsdb_container': context.results_tsdb_container,\n",
    "                                'results_tsdb_table': context.results_tsdb_table},\n",
    "                        inputs={'t': context.base_dataset,\n",
    "                                'u': df_path},\n",
    "                        artifact_path=mlrun.mlconf.artifact_path)\n",
    "        \n",
    "        context.virtual_drift_fn.run(task,\n",
    "                                     watch=False)\n",
    "        \n",
    "        context.batch = []"
   ]
  },
  {
   "cell_type": "code",
   "execution_count": 31,
   "metadata": {},
   "outputs": [],
   "source": [
    "# nuclio: end-code"
   ]
  },
  {
   "cell_type": "markdown",
   "metadata": {},
   "source": [
    "## Save to function yaml"
   ]
  },
  {
   "cell_type": "code",
   "execution_count": 44,
   "metadata": {},
   "outputs": [
    {
     "name": "stdout",
     "output_type": "stream",
     "text": [
      "> 2020-12-24 14:34:39,340 [info] function spec saved to path: function.yaml\n",
      "> 2020-12-24 14:34:39,350 [info] Starting remote function deploy\n",
      "2020-12-24 14:34:39  (info) Deploying function\n",
      "2020-12-24 14:34:39  (info) Building\n",
      "2020-12-24 14:34:39  (info) Staging files and preparing base images\n",
      "2020-12-24 14:34:39  (info) Building processor image\n",
      "2020-12-24 14:34:40  (info) Build complete\n",
      "2020-12-24 14:34:50  (info) Function deploy complete\n",
      "> 2020-12-24 14:34:51,915 [info] function deployed, address=default-tenant.app.lewpwntlsyrb.iguazio-cd1.com:32225\n"
     ]
    },
    {
     "data": {
      "text/plain": [
       "'http://default-tenant.app.lewpwntlsyrb.iguazio-cd1.com:32225'"
      ]
     },
     "execution_count": 44,
     "metadata": {},
     "output_type": "execute_result"
    }
   ],
   "source": [
    "import os\n",
    "import json\n",
    "from nuclio.triggers import V3IOStreamTrigger\n",
    "from mlrun import mlconf, code_to_function, mount_v3io\n",
    "\n",
    "mlconf.dbpath = mlconf.dbpath or 'http://mlrun-api:8080'\n",
    "\n",
    "# create job function object from notebook code\n",
    "fn = code_to_function(\"stream_to_parquet\")\n",
    "fn.spec.min_replicas = 1\n",
    "fn.spec.max_replicas = 1\n",
    "\n",
    "# add metadata (for templates and reuse)\n",
    "fn.spec.default_handler = \"handler\"\n",
    "fn.spec.description = \"Saves a stream to Parquet and can lunch drift detection task on it\"\n",
    "fn.metadata.categories = [\"ml\", \"serve\"]\n",
    "fn.metadata.labels = {\"author\": \"orz\"}\n",
    "fn.export(\"function.yaml\")\n",
    "\n",
    "fn.add_trigger('labeled_stream', V3IOStreamTrigger(url=f'https://{os.environ[\"V3IO_API\"]}/users/orz/mlrun-demos/demos/network-operations/streaming/labeled_stream@s2p1', seekTo='latest'))\n",
    "fn.apply(mount_v3io())\n",
    "projdir = '/User/mlrun-demos/demos/network-operations/'\n",
    "fn.set_envs({'window': 10000,\n",
    "             'indexes': json.dumps(['timestamp', 'company', 'data_center', 'device']),\n",
    "             'save_to': os.path.join(projdir, 'streaming', 'inference_pq'),\n",
    "             'prediction_col': 'prediction',\n",
    "             'label_col': 'is_error',\n",
    "             'base_dataset': '/User/mlrun-demos/demos/network-operations/artifacts/test_set_preds.parquet',\n",
    "             'results_tsdb_container': 'users',\n",
    "             'results_tsdb_table': 'orz/mlrun-demos/demos/network-operations/streaming/s2p_tsdb',\n",
    "             'mount_path': '/users/orz',\n",
    "             'mount_remote': '/User',\n",
    "             'artifact_path': '/User/mlrun-demos/demos/network-operations/streaming/drift_magnitude'})\n",
    "fn.deploy(project='network-operations')"
   ]
  },
  {
   "cell_type": "code",
   "execution_count": null,
   "metadata": {},
   "outputs": [],
   "source": []
  }
 ],
 "metadata": {
  "kernelspec": {
   "display_name": "Python 3",
   "language": "python",
   "name": "python3"
  },
  "language_info": {
   "codemirror_mode": {
    "name": "ipython",
    "version": 3
   },
   "file_extension": ".py",
   "mimetype": "text/x-python",
   "name": "python",
   "nbconvert_exporter": "python",
   "pygments_lexer": "ipython3",
   "version": "3.7.6"
  }
 },
 "nbformat": 4,
 "nbformat_minor": 4
}
