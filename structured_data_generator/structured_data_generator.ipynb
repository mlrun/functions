{
 "cells": [
  {
   "cell_type": "markdown",
   "id": "9f7d79e7-8199-4680-919f-5039e8d7a0fe",
   "metadata": {},
   "source": [
    "# structured_data_generator example"
   ]
  },
  {
   "cell_type": "markdown",
   "id": "4df1c846-2391-49a4-b65f-e7cff69dcdd9",
   "metadata": {},
   "source": [
    "Introducing our innovative hub function, structured_data_generator, designed to streamline the process of creating structured files based on a list of fields.<br>\n",
    "This powerful function takes user-provided fields as input and dynamically generates relevant data, crafting a comprehensive structured file that aligns with the specified themes.<br>\n",
    "Whether you're working on content creation, testing scenarios, or simply need diverse data for development purposes, structured_data_generator is your go-to tool.<br>"
   ]
  },
  {
   "cell_type": "code",
   "execution_count": null,
   "id": "3913a3b7-48c1-4b5a-8a28-8f2c93fc05d1",
   "metadata": {},
   "outputs": [],
   "source": [
    "import os\n",
    "import mlrun"
   ]
  },
  {
   "cell_type": "code",
   "execution_count": null,
   "id": "010c16e7-9d0a-42b1-9f09-141b72048885",
   "metadata": {},
   "outputs": [],
   "source": [
    "# OpenAI tokens:\n",
    "OPENAI_API_KEY = \"\"\n",
    "OPENAI_API_BASE = \"\"\n",
    "os.environ[\"OPENAI_API_KEY\"] = OPENAI_API_KEY\n",
    "os.environ[\"OPENAI_API_BASE\"] = OPENAI_API_BASE"
   ]
  },
  {
   "cell_type": "code",
   "execution_count": null,
   "id": "324f2120-bcd9-4b61-a418-9c810709b6cf",
   "metadata": {},
   "outputs": [],
   "source": [
    "# Create mlrun project\n",
    "project = mlrun.get_or_create_project(\"structured-data-generator-test\")\n",
    "\n",
    "# Import the function from the yaml file, once it's in the hub we can import from there \n",
    "data_generation = project.set_function(func=\"./structured_data_generator.py\", name=\"structured_data_generator\")"
   ]
  },
  {
   "cell_type": "code",
   "execution_count": null,
   "id": "999739d0-c8bf-48c3-8f57-b3c9ffec1a7f",
   "metadata": {},
   "outputs": [],
   "source": [
    "# Run the imported function with desired file/s and params\n",
    "data_generation_run = data_generation.run(\n",
    "    handler=\"generate_data\",\n",
    "            params={\n",
    "                \"amount\": 5,\n",
    "                \"model_name\": \"gpt-4\",\n",
    "                \"language\": \"en\",\n",
    "                \"fields\": [\"first name\", \"last_name\", \"phone_number: at least 9 digits long\", \"email\", \"client_id: at least 8 digits long, only numbers\"],\n",
    "            },\n",
    "            returns=[\n",
    "                \"clients: file\",\n",
    "            ],\n",
    "    local=True,\n",
    ")"
   ]
  },
  {
   "cell_type": "code",
   "execution_count": null,
   "id": "dde97e2b-8570-4df4-84aa-04c341f455c9",
   "metadata": {},
   "outputs": [],
   "source": []
  },
  {
   "cell_type": "code",
   "execution_count": null,
   "id": "5d70ceee-d17b-4901-9e8c-c9eda72f4e57",
   "metadata": {},
   "outputs": [],
   "source": []
  },
  {
   "cell_type": "code",
   "execution_count": null,
   "id": "c3ea3341-80cc-4c87-a914-f2f3ffa1d491",
   "metadata": {},
   "outputs": [],
   "source": []
  },
  {
   "cell_type": "code",
   "execution_count": null,
   "id": "24983bf4-9fb0-4ebd-97cb-20e87859c22a",
   "metadata": {},
   "outputs": [],
   "source": []
  }
 ],
 "metadata": {
  "kernelspec": {
   "display_name": "mlrun-base",
   "language": "python",
   "name": "conda-env-mlrun-base-py"
  },
  "language_info": {
   "codemirror_mode": {
    "name": "ipython",
    "version": 3
   },
   "file_extension": ".py",
   "mimetype": "text/x-python",
   "name": "python",
   "nbconvert_exporter": "python",
   "pygments_lexer": "ipython3",
   "version": "3.9.16"
  }
 },
 "nbformat": 4,
 "nbformat_minor": 5
}
