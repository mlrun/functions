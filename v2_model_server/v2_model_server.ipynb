{
 "cells": [
  {
   "cell_type": "markdown",
   "metadata": {},
   "source": [
    "# V2 Model Server (SKLearn)"
   ]
  },
  {
   "cell_type": "code",
   "execution_count": 1,
   "metadata": {},
   "outputs": [
    {
     "name": "stdout",
     "output_type": "stream",
     "text": [
      "> 2020-10-19 13:31:31,010 [warning] Failed resolving version info. Ignoring and using defaults\n"
     ]
    }
   ],
   "source": [
    "import mlrun"
   ]
  },
  {
   "cell_type": "markdown",
   "metadata": {},
   "source": [
    "### Configuration and package dependencies"
   ]
  },
  {
   "cell_type": "code",
   "execution_count": 14,
   "metadata": {},
   "outputs": [
    {
     "name": "stdout",
     "output_type": "stream",
     "text": [
      "%nuclio: setting kind to 'serving'\n",
      "%nuclio: setting spec.build.baseImage to 'mlrun/ml-models'\n",
      "%nuclio: setting spec.maxReplicas to 1\n"
     ]
    }
   ],
   "source": [
    "%nuclio config kind=\"serving\"\n",
    "%nuclio config spec.build.baseImage=\"mlrun/ml-models\"\n",
    "%nuclio config spec.maxReplicas = 1"
   ]
  },
  {
   "cell_type": "markdown",
   "metadata": {},
   "source": [
    "### Serving class code"
   ]
  },
  {
   "cell_type": "code",
   "execution_count": 4,
   "metadata": {},
   "outputs": [],
   "source": [
    "from cloudpickle import load\n",
    "from typing import List\n",
    "from sklearn.datasets import load_iris\n",
    "import numpy as np\n",
    "import mlrun"
   ]
  },
  {
   "cell_type": "code",
   "execution_count": 5,
   "metadata": {},
   "outputs": [],
   "source": [
    "class ClassifierModel(mlrun.serving.V2ModelServer):\n",
    "    def load(self):\n",
    "        \"\"\"load and initialize the model and/or other elements\"\"\"\n",
    "        model_file, extra_data = self.get_model('.pkl')\n",
    "        self.model = load(open(model_file, 'rb'))\n",
    "\n",
    "    def predict(self, body: dict) -> List:\n",
    "        \"\"\"Generate model predictions from sample.\"\"\"\n",
    "        feats = np.asarray(body['inputs'])\n",
    "        result: np.ndarray = self.model.predict(feats)\n",
    "        return result.tolist()"
   ]
  },
  {
   "cell_type": "code",
   "execution_count": 6,
   "metadata": {},
   "outputs": [],
   "source": [
    "# nuclio: end-code"
   ]
  },
  {
   "cell_type": "markdown",
   "metadata": {},
   "source": [
    "# Convert to function object"
   ]
  },
  {
   "cell_type": "markdown",
   "metadata": {},
   "source": [
    "### Document and save (as a template)"
   ]
  },
  {
   "cell_type": "code",
   "execution_count": 15,
   "metadata": {},
   "outputs": [
    {
     "name": "stdout",
     "output_type": "stream",
     "text": [
      "> 2020-10-19 13:33:27,973 [info] function spec saved to path: function.yaml\n"
     ]
    },
    {
     "data": {
      "text/plain": [
       "<mlrun.runtimes.serving.ServingRuntime at 0x7fce1765fcd0>"
      ]
     },
     "execution_count": 15,
     "metadata": {},
     "output_type": "execute_result"
    }
   ],
   "source": [
    "fn = mlrun.code_to_function('v2-model-server', \n",
    "                            description=\"generic sklearn model server\",\n",
    "                            categories=['serving', 'ml'],\n",
    "                            labels={'author': 'yaronh', 'framework': 'sklearn'},\n",
    "                            code_output='.')\n",
    "\n",
    "fn.spec.default_class = 'ClassifierModel'\n",
    "#print(fn.to_yaml())\n",
    "fn.export()"
   ]
  },
  {
   "cell_type": "markdown",
   "metadata": {},
   "source": [
    "### Configure and add model(s)"
   ]
  },
  {
   "cell_type": "code",
   "execution_count": 16,
   "metadata": {},
   "outputs": [],
   "source": [
    "models_path = 'https://s3.wasabisys.com/iguazio/models/iris/model.pkl'\n",
    "fn.add_model('mymodel', model_path=models_path)\n",
    "#fn.verbose = True"
   ]
  },
  {
   "cell_type": "markdown",
   "metadata": {},
   "source": [
    "# Test models locally (using a server emulator)"
   ]
  },
  {
   "cell_type": "code",
   "execution_count": 17,
   "metadata": {},
   "outputs": [
    {
     "name": "stdout",
     "output_type": "stream",
     "text": [
      "{'routes': <mlrun.model.ObjectDict object at 0x7fce176cb810>}\n",
      "{'model_path': 'https://s3.wasabisys.com/iguazio/models/iris/model.pkl'}\n",
      "> 2020-10-19 13:33:29,370 [info] model mymodel was loaded\n",
      "> 2020-10-19 13:33:29,370 [info] model mymodel was loaded\n",
      "> 2020-10-19 13:33:29,371 [info] Loaded ['mymodel']\n",
      "> 2020-10-19 13:33:29,371 [info] Loaded ['mymodel']\n"
     ]
    }
   ],
   "source": [
    "# create an emulator (mock server) from the function configuration)\n",
    "server = fn.to_mock_server(globals())"
   ]
  },
  {
   "cell_type": "markdown",
   "metadata": {},
   "source": [
    "### Test against the iris dataset "
   ]
  },
  {
   "cell_type": "code",
   "execution_count": 18,
   "metadata": {},
   "outputs": [],
   "source": [
    "iris = load_iris()\n",
    "x = iris['data'].tolist()"
   ]
  },
  {
   "cell_type": "code",
   "execution_count": 19,
   "metadata": {},
   "outputs": [
    {
     "name": "stdout",
     "output_type": "stream",
     "text": [
      "> 2020-10-19 13:33:29,390 [debug] router run model mymodel, op=infer\n",
      "> 2020-10-19 13:33:29,390 [debug] router run model mymodel, op=infer\n"
     ]
    },
    {
     "data": {
      "text/plain": [
       "dict_keys(['id', 'model_name', 'outputs'])"
      ]
     },
     "execution_count": 19,
     "metadata": {},
     "output_type": "execute_result"
    }
   ],
   "source": [
    "result = server.test(\"/v2/models/mymodel/infer\", {\"inputs\": x})\n",
    "result.keys()"
   ]
  },
  {
   "cell_type": "markdown",
   "metadata": {},
   "source": [
    "##  Deploy server"
   ]
  },
  {
   "cell_type": "code",
   "execution_count": 20,
   "metadata": {},
   "outputs": [
    {
     "data": {
      "text/plain": [
       "<mlrun.runtimes.serving.ServingRuntime at 0x7fce1765fcd0>"
      ]
     },
     "execution_count": 20,
     "metadata": {},
     "output_type": "execute_result"
    }
   ],
   "source": [
    "fn.apply(mlrun.mount_v3io())"
   ]
  },
  {
   "cell_type": "code",
   "execution_count": 23,
   "metadata": {},
   "outputs": [
    {
     "name": "stdout",
     "output_type": "stream",
     "text": [
      "> 2020-10-19 13:43:26,111 [info] deploy started\n",
      "[nuclio] 2020-10-19 13:43:28,219 (info) Build complete\n",
      "[nuclio] 2020-10-19 13:43:36,312 (info) Function deploy complete\n",
      "[nuclio] 2020-10-19 13:43:36,322 done updating v2-srv-v2-model-server, function address: 192.168.224.209:30330\n",
      "> 2020-10-19 13:43:36,332 [warning] warning!, server (0.5.2) and client (unstable) ver dont match\n"
     ]
    },
    {
     "data": {
      "text/plain": [
       "'http://192.168.224.209:30330'"
      ]
     },
     "execution_count": 23,
     "metadata": {},
     "output_type": "execute_result"
    }
   ],
   "source": [
    "fn.deploy(project='v2-srv')"
   ]
  },
  {
   "cell_type": "markdown",
   "metadata": {},
   "source": [
    "##  Test server"
   ]
  },
  {
   "cell_type": "code",
   "execution_count": 24,
   "metadata": {},
   "outputs": [
    {
     "data": {
      "text/plain": [
       "{'id': '880fcf60-0658-4d78-b769-6d026f762494',\n",
       " 'model_name': 'mymodel',\n",
       " 'outputs': [0, 2]}"
      ]
     },
     "execution_count": 24,
     "metadata": {},
     "output_type": "execute_result"
    }
   ],
   "source": [
    "my_data = '''{\"inputs\":[[5.1, 3.5, 1.4, 0.2],[7.7, 3.8, 6.7, 2.2]]}'''\n",
    "fn.invoke('/v2/models/mymodel/infer', my_data)"
   ]
  }
 ],
 "metadata": {
  "kernelspec": {
   "display_name": "Python [conda env:root] *",
   "language": "python",
   "name": "conda-root-py"
  },
  "language_info": {
   "codemirror_mode": {
    "name": "ipython",
    "version": 3
   },
   "file_extension": ".py",
   "mimetype": "text/x-python",
   "name": "python",
   "nbconvert_exporter": "python",
   "pygments_lexer": "ipython3",
   "version": "3.7.6"
  }
 },
 "nbformat": 4,
 "nbformat_minor": 4
}
