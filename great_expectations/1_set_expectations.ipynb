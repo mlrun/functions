{
 "cells": [
  {
   "cell_type": "code",
   "execution_count": 1,
   "id": "e2c1c1c0",
   "metadata": {},
   "outputs": [],
   "source": [
    "import mlrun\n",
    "import pandas as pd\n",
    "from great_expectations.core.batch import RuntimeBatchRequest\n",
    "from great_expectations.data_context import BaseDataContext\n",
    "from great_expectations.data_context.types.base import (\n",
    "    DataContextConfig,\n",
    "    FilesystemStoreBackendDefaults,\n",
    ")"
   ]
  },
  {
   "cell_type": "code",
   "execution_count": 2,
   "id": "dc393bd6",
   "metadata": {},
   "outputs": [
    {
     "name": "stdout",
     "output_type": "stream",
     "text": [
      "> 2022-03-17 17:07:26,901 [info] loaded project great-expectations from MLRun DB\n"
     ]
    }
   ],
   "source": [
    "project = mlrun.get_or_create_project(\"great-expectations\", context=\"./\")"
   ]
  },
  {
   "cell_type": "markdown",
   "id": "88bfec65",
   "metadata": {},
   "source": [
    "### Config"
   ]
  },
  {
   "cell_type": "code",
   "execution_count": 3,
   "id": "67a79952",
   "metadata": {},
   "outputs": [],
   "source": [
    "data_asset_name = \"iris_dataset\"\n",
    "data_path = \"https://s3.wasabisys.com/iguazio/data/iris/iris.data.raw.csv\"\n",
    "expectation_suite_name = \"test_suite\"\n",
    "root_directory = f\"/v3io/projects/{project.name}/great_expectations\""
   ]
  },
  {
   "cell_type": "markdown",
   "id": "29de5175",
   "metadata": {},
   "source": [
    "### Intialize Great Expectations Context"
   ]
  },
  {
   "cell_type": "code",
   "execution_count": 4,
   "id": "640bedc8",
   "metadata": {},
   "outputs": [],
   "source": [
    "ge_context = BaseDataContext(\n",
    "    project_config=DataContextConfig(\n",
    "        store_backend_defaults=FilesystemStoreBackendDefaults(\n",
    "            root_directory=root_directory\n",
    "        )\n",
    "    )\n",
    ")"
   ]
  },
  {
   "cell_type": "markdown",
   "id": "6299a64d",
   "metadata": {},
   "source": [
    "### Add Pandas Datasource"
   ]
  },
  {
   "cell_type": "code",
   "execution_count": 5,
   "id": "82874be1",
   "metadata": {},
   "outputs": [],
   "source": [
    "datasource_name = \"pandas_datasource\"\n",
    "data_connector_name = \"default_runtime_data_connector_name\""
   ]
  },
  {
   "cell_type": "code",
   "execution_count": 6,
   "id": "2b3e38f9",
   "metadata": {},
   "outputs": [],
   "source": [
    "datasource_config = {\n",
    "    \"name\": f\"{datasource_name}\",\n",
    "    \"class_name\": \"Datasource\",\n",
    "    \"module_name\": \"great_expectations.datasource\",\n",
    "    \"execution_engine\": {\n",
    "        \"module_name\": \"great_expectations.execution_engine\",\n",
    "        \"class_name\": \"PandasExecutionEngine\",\n",
    "    },\n",
    "    \"data_connectors\": {\n",
    "        f\"{data_connector_name}\": {\n",
    "            \"class_name\": \"RuntimeDataConnector\",\n",
    "            \"module_name\": \"great_expectations.datasource.data_connector\",\n",
    "            \"batch_identifiers\": [\"default_identifier_name\"],\n",
    "        },\n",
    "    },\n",
    "}"
   ]
  },
  {
   "cell_type": "code",
   "execution_count": 7,
   "id": "42c8c176",
   "metadata": {},
   "outputs": [
    {
     "data": {
      "text/plain": [
       "<great_expectations.datasource.new_datasource.Datasource at 0x7f233f9d7a50>"
      ]
     },
     "execution_count": 7,
     "metadata": {},
     "output_type": "execute_result"
    }
   ],
   "source": [
    "ge_context.add_datasource(**datasource_config)"
   ]
  },
  {
   "cell_type": "markdown",
   "id": "e7aea9f9",
   "metadata": {},
   "source": [
    "### Create Expectation Suite"
   ]
  },
  {
   "cell_type": "code",
   "execution_count": 8,
   "id": "c9f73632",
   "metadata": {},
   "outputs": [
    {
     "data": {
      "text/plain": [
       "{\n",
       "  \"meta\": {\n",
       "    \"great_expectations_version\": \"0.14.9\"\n",
       "  },\n",
       "  \"data_asset_type\": null,\n",
       "  \"ge_cloud_id\": null,\n",
       "  \"expectations\": [],\n",
       "  \"expectation_suite_name\": \"test_suite\"\n",
       "}"
      ]
     },
     "execution_count": 8,
     "metadata": {},
     "output_type": "execute_result"
    }
   ],
   "source": [
    "ge_context.create_expectation_suite(\n",
    "    expectation_suite_name=expectation_suite_name, overwrite_existing=True\n",
    ")"
   ]
  },
  {
   "cell_type": "markdown",
   "id": "53914d82",
   "metadata": {},
   "source": [
    "### Get Data Batch"
   ]
  },
  {
   "cell_type": "code",
   "execution_count": 9,
   "id": "4cf6a7f2",
   "metadata": {},
   "outputs": [],
   "source": [
    "df = pd.read_csv(data_path)"
   ]
  },
  {
   "cell_type": "code",
   "execution_count": 10,
   "id": "4bb20d6a",
   "metadata": {},
   "outputs": [],
   "source": [
    "batch_request = RuntimeBatchRequest(\n",
    "    datasource_name=datasource_name,\n",
    "    data_connector_name=data_connector_name,\n",
    "    data_asset_name=data_asset_name,\n",
    "    runtime_parameters={\"batch_data\": df},\n",
    "    batch_identifiers={\"default_identifier_name\": \"default_identifier\"},\n",
    ")"
   ]
  },
  {
   "cell_type": "markdown",
   "id": "26f05136",
   "metadata": {},
   "source": [
    "### Get Validator"
   ]
  },
  {
   "cell_type": "code",
   "execution_count": 11,
   "id": "01658123",
   "metadata": {},
   "outputs": [],
   "source": [
    "validator = ge_context.get_validator(\n",
    "    batch_request=batch_request,\n",
    "    expectation_suite_name=expectation_suite_name,\n",
    ")"
   ]
  },
  {
   "cell_type": "markdown",
   "id": "8f344f94",
   "metadata": {},
   "source": [
    "### Add Expectations"
   ]
  },
  {
   "cell_type": "code",
   "execution_count": 12,
   "id": "59dee0a0",
   "metadata": {},
   "outputs": [
    {
     "data": {
      "application/vnd.jupyter.widget-view+json": {
       "model_id": "99c3974c45f24912a0201838ddc6111a",
       "version_major": 2,
       "version_minor": 0
      },
      "text/plain": [
       "Calculating Metrics:   0%|          | 0/6 [00:00<?, ?it/s]"
      ]
     },
     "metadata": {},
     "output_type": "display_data"
    },
    {
     "data": {
      "application/vnd.jupyter.widget-view+json": {
       "model_id": "c336f1fb5fe6455b8386494128c006e6",
       "version_major": 2,
       "version_minor": 0
      },
      "text/plain": [
       "Calculating Metrics:   0%|          | 0/6 [00:00<?, ?it/s]"
      ]
     },
     "metadata": {},
     "output_type": "display_data"
    },
    {
     "data": {
      "application/vnd.jupyter.widget-view+json": {
       "model_id": "b5176f8516d1413b93fab0ea7bedd37d",
       "version_major": 2,
       "version_minor": 0
      },
      "text/plain": [
       "Calculating Metrics:   0%|          | 0/8 [00:00<?, ?it/s]"
      ]
     },
     "metadata": {},
     "output_type": "display_data"
    },
    {
     "data": {
      "application/vnd.jupyter.widget-view+json": {
       "model_id": "2b21293f41c84071801ee222d111acd9",
       "version_major": 2,
       "version_minor": 0
      },
      "text/plain": [
       "Calculating Metrics:   0%|          | 0/8 [00:00<?, ?it/s]"
      ]
     },
     "metadata": {},
     "output_type": "display_data"
    },
    {
     "data": {
      "text/plain": [
       "{\n",
       "  \"meta\": {},\n",
       "  \"success\": true,\n",
       "  \"result\": {\n",
       "    \"element_count\": 150,\n",
       "    \"unexpected_count\": 0,\n",
       "    \"unexpected_percent\": 0.0,\n",
       "    \"partial_unexpected_list\": [],\n",
       "    \"missing_count\": 0,\n",
       "    \"missing_percent\": 0.0,\n",
       "    \"unexpected_percent_total\": 0.0,\n",
       "    \"unexpected_percent_nonmissing\": 0.0\n",
       "  },\n",
       "  \"exception_info\": {\n",
       "    \"raised_exception\": false,\n",
       "    \"exception_traceback\": null,\n",
       "    \"exception_message\": null\n",
       "  }\n",
       "}"
      ]
     },
     "execution_count": 12,
     "metadata": {},
     "output_type": "execute_result"
    }
   ],
   "source": [
    "validator.expect_column_values_to_not_be_null(column=\"sepal length (cm)\")\n",
    "validator.expect_column_values_to_not_be_null(column=\"sepal width (cm)\")\n",
    "validator.expect_column_values_to_be_between(\n",
    "    column=\"sepal length (cm)\", min_value=0, max_value=5\n",
    ")\n",
    "validator.expect_column_values_to_be_between(\n",
    "    column=\"sepal width (cm)\", min_value=2, max_value=4.4\n",
    ")"
   ]
  },
  {
   "cell_type": "markdown",
   "id": "cb61036b",
   "metadata": {},
   "source": [
    "### Save Expectation Suite"
   ]
  },
  {
   "cell_type": "code",
   "execution_count": 13,
   "id": "94d8ad32",
   "metadata": {},
   "outputs": [],
   "source": [
    "validator.save_expectation_suite(discard_failed_expectations=False)"
   ]
  },
  {
   "cell_type": "code",
   "execution_count": null,
   "id": "96fe530c",
   "metadata": {},
   "outputs": [],
   "source": []
  }
 ],
 "metadata": {
  "kernelspec": {
   "display_name": "Python [conda env:root] *",
   "language": "python",
   "name": "conda-root-py"
  },
  "language_info": {
   "codemirror_mode": {
    "name": "ipython",
    "version": 3
   },
   "file_extension": ".py",
   "mimetype": "text/x-python",
   "name": "python",
   "nbconvert_exporter": "python",
   "pygments_lexer": "ipython3",
   "version": "3.7.6"
  }
 },
 "nbformat": 4,
 "nbformat_minor": 5
}
