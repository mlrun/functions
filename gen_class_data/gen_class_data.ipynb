{
 "cells": [
  {
   "cell_type": "code",
   "execution_count": 1,
   "metadata": {},
   "outputs": [],
   "source": [
    "# nuclio: ignore\n",
    "import nuclio"
   ]
  },
  {
   "cell_type": "code",
   "execution_count": 2,
   "metadata": {},
   "outputs": [
    {
     "name": "stdout",
     "output_type": "stream",
     "text": [
      "%nuclio: setting kind to 'job'\n",
      "%nuclio: setting spec.image to 'yjbds/ml-models:0.4.8'\n"
     ]
    }
   ],
   "source": [
    "%nuclio config kind = \"job\"\n",
    "%nuclio config spec.image = \"yjbds/ml-models:0.4.8\""
   ]
  },
  {
   "cell_type": "code",
   "execution_count": 3,
   "metadata": {},
   "outputs": [],
   "source": [
    "import os\n",
    "import pandas as pd\n",
    "import pyarrow as pa\n",
    "import pyarrow.parquet as pq\n",
    "from typing import Optional, List, Any\n",
    "from sklearn.datasets import make_classification\n",
    "\n",
    "from mlrun.execution import MLClientCtx\n",
    "\n",
    "\n",
    "def gen_class_data(\n",
    "    context: MLClientCtx,\n",
    "    n_samples: int,\n",
    "    m_features: int,\n",
    "    k_classes: int,\n",
    "    header: Optional[List[str]],\n",
    "    label_column: Optional[str] = \"labels\",\n",
    "    weight: float = 0.5,\n",
    "    random_state: int = 1,\n",
    "    key: str = \"classifier-data\", \n",
    "    file_ext: str = \"parquet\",\n",
    "    sk_params = {}\n",
    "):\n",
    "    \"\"\"Create a binary classification sample dataset and save.\n",
    "    If no filename is given it will default to:\n",
    "    \"simdata-{n_samples}X{m_features}.parquet\".\n",
    "    \n",
    "    Additional scikit-learn parameters can be set using **sk_params, please see https://scikit-learn.org/stable/modules/generated/sklearn.datasets.make_classification.html for more details.\n",
    "    \n",
    "    :param context:       function context\n",
    "    :param n_samples:     number of rows/samples\n",
    "    :param m_features:    number of cols/features\n",
    "    :param k_classes:     number of classes\n",
    "    :param header:        header for features array\n",
    "    :param label_column:  column name of ground-truth series\n",
    "    :param weight:        fraction of sample negative value (ground-truth=0)\n",
    "    :param random_state:  rng seed (see https://scikit-learn.org/stable/glossary.html#term-random-state)\n",
    "    :param key:           key of data in artifact store\n",
    "    :param file_ext:      (pqt) extension for parquet file\n",
    "    :param sk_params:     additional parameters for `sklearn.datasets.make_classification`\n",
    "    \"\"\"\n",
    "    features, labels = make_classification(\n",
    "        n_samples=n_samples,\n",
    "        n_features=m_features,\n",
    "        weights=weight,\n",
    "        n_classes=k_classes,\n",
    "        random_state=random_state, \n",
    "        **sk_params)\n",
    "\n",
    "    # make dataframes, add column names, concatenate (X, y)\n",
    "    X = pd.DataFrame(features)\n",
    "    if not header:\n",
    "        X.columns = [\"feat_\" + str(x) for x in range(m_features)]\n",
    "    else:\n",
    "        X.columns = header\n",
    "\n",
    "    y = pd.DataFrame(labels, columns=[label_column])\n",
    "    data = pd.concat([X, y], axis=1)\n",
    "    \n",
    "    context.log_dataset(key, df=data, format=file_ext, index=False)"
   ]
  },
  {
   "cell_type": "code",
   "execution_count": 4,
   "metadata": {},
   "outputs": [],
   "source": [
    "# nuclio: end-code"
   ]
  },
  {
   "cell_type": "markdown",
   "metadata": {},
   "source": [
    "### mlconfig"
   ]
  },
  {
   "cell_type": "code",
   "execution_count": 5,
   "metadata": {},
   "outputs": [],
   "source": [
    "from mlrun import mlconf\n",
    "import os\n",
    "\n",
    "mlconf.dbpath = mlconf.dbpath or 'http://mlrun-api:8080'\n",
    "mlconf.artifact_path = mlconf.artifact_path or f'{os.environ[\"HOME\"]}/artifacts'"
   ]
  },
  {
   "cell_type": "markdown",
   "metadata": {},
   "source": [
    "### save"
   ]
  },
  {
   "cell_type": "code",
   "execution_count": 6,
   "metadata": {},
   "outputs": [
    {
     "name": "stdout",
     "output_type": "stream",
     "text": [
      "[mlrun] 2020-05-26 00:04:48,965 function spec saved to path: function.yaml\n"
     ]
    },
    {
     "data": {
      "text/plain": [
       "<mlrun.runtimes.kubejob.KubejobRuntime at 0x7f019de864d0>"
      ]
     },
     "execution_count": 6,
     "metadata": {},
     "output_type": "execute_result"
    }
   ],
   "source": [
    "from mlrun import code_to_function \n",
    "# create job function object from notebook code\n",
    "fn = code_to_function(\"gen_class_data\")\n",
    "\n",
    "# add metadata (for templates and reuse)\n",
    "fn.spec.default_handler = \"gen_class_data\"\n",
    "fn.spec.description = \"simulate classification data using scikit-learn\"\n",
    "fn.metadata.categories = [\"simulators\", \"ml\"]\n",
    "fn.metadata.labels = {\"author\": \"yjb\", 'framework': 'sklearn'}\n",
    "fn.export(\"function.yaml\")"
   ]
  },
  {
   "cell_type": "code",
   "execution_count": 7,
   "metadata": {},
   "outputs": [
    {
     "data": {
      "text/plain": [
       "<mlrun.runtimes.kubejob.KubejobRuntime at 0x7f019de864d0>"
      ]
     },
     "execution_count": 7,
     "metadata": {},
     "output_type": "execute_result"
    }
   ],
   "source": [
    "from mlutils import get_vol_mount\n",
    "fn.apply(get_vol_mount())"
   ]
  },
  {
   "cell_type": "markdown",
   "metadata": {},
   "source": [
    "### test"
   ]
  },
  {
   "cell_type": "code",
   "execution_count": 8,
   "metadata": {},
   "outputs": [],
   "source": [
    "from mlrun import import_function"
   ]
  },
  {
   "cell_type": "code",
   "execution_count": 11,
   "metadata": {},
   "outputs": [],
   "source": [
    "from mlrun import NewTask    \n",
    "\n",
    "task_params = {\n",
    "    \"name\":        \"tasks generate classification data\", \n",
    "    \"params\" : {\n",
    "        \"n_samples\"   : 10_000,\n",
    "        \"m_features\"  : 24,\n",
    "        \"k_classes\"   : 4,\n",
    "        \"weight\"      : [0.5, 0.5],\n",
    "        \"sk_params\"   : {\"n_informative\": 6},\n",
    "        \"file_ext\"    : \"csv\",\n",
    "        \"key\"         : \"clf-k2-m24-n10k-bal\"}}"
   ]
  },
  {
   "cell_type": "code",
   "execution_count": 12,
   "metadata": {},
   "outputs": [
    {
     "name": "stdout",
     "output_type": "stream",
     "text": [
      "[mlrun] 2020-05-26 00:05:54,559 starting run tasks generate classification data uid=e02fe17a19924c9390d18676d923b244  -> http://mlrun-api:8080\n",
      "[mlrun] 2020-05-26 00:05:54,702 Job is running in the background, pod: tasks-generate-classification-data-v44cd\n",
      "[mlrun] 2020-05-26 00:05:57,126 warning!, server (kubeflow) and client (default-tenant) namespace dont match\n",
      "[mlrun] 2020-05-26 00:05:57,136 starting local run: main.py # gen_class_data\n",
      "[mlrun] 2020-05-26 00:05:57,344 warning!, server (kubeflow) and client (default-tenant) namespace dont match\n",
      "[mlrun] 2020-05-26 00:05:57,797 log artifact clf-k4-m24-n10k-imb at /home/jovyan/data/clf-k4-m24-n10k-imb.csv, size: 4710256, db: Y\n",
      "\n",
      "[mlrun] 2020-05-26 00:05:57,824 run executed, status=completed\n",
      "final state: succeeded\n"
     ]
    },
    {
     "data": {
      "text/html": [
       "<style> \n",
       ".dictlist {\n",
       "  background-color: #b3edff; \n",
       "  text-align: center; \n",
       "  margin: 4px; \n",
       "  border-radius: 3px; padding: 0px 3px 1px 3px; display: inline-block;}\n",
       ".artifact {\n",
       "  cursor: pointer; \n",
       "  background-color: #ffe6cc; \n",
       "  text-align: left; \n",
       "  margin: 4px; border-radius: 3px; padding: 0px 3px 1px 3px; display: inline-block;\n",
       "}\n",
       "div.block.hidden {\n",
       "  display: none;\n",
       "}\n",
       ".clickable {\n",
       "  cursor: pointer;\n",
       "}\n",
       ".ellipsis {\n",
       "  display: inline-block;\n",
       "  max-width: 60px;\n",
       "  white-space: nowrap;\n",
       "  overflow: hidden;\n",
       "  text-overflow: ellipsis;\n",
       "}\n",
       ".master-wrapper {\n",
       "  display: flex;\n",
       "  flex-flow: row nowrap;\n",
       "  justify-content: flex-start;\n",
       "  align-items: stretch;\n",
       "}\n",
       ".master-tbl {\n",
       "  flex: 3\n",
       "}\n",
       ".master-wrapper > div {\n",
       "  margin: 4px;\n",
       "  padding: 10px;\n",
       "}\n",
       "iframe.fileview {\n",
       "  border: 0 none;\n",
       "  height: 100%;\n",
       "  width: 100%;\n",
       "  white-space: pre-wrap;\n",
       "}\n",
       ".pane-header-title {\n",
       "  width: 80%;\n",
       "  font-weight: 500;\n",
       "}\n",
       ".pane-header {\n",
       "  line-height: 1;\n",
       "  background-color: #ffe6cc;\n",
       "  padding: 3px;\n",
       "}\n",
       ".pane-header .close {\n",
       "  font-size: 20px;\n",
       "  font-weight: 700;\n",
       "  float: right;\n",
       "  margin-top: -5px;\n",
       "}\n",
       ".master-wrapper .right-pane {\n",
       "  border: 1px inset silver;\n",
       "  width: 40%;\n",
       "  min-height: 300px;\n",
       "  flex: 3\n",
       "  min-width: 500px;\n",
       "}\n",
       ".master-wrapper * {\n",
       "  box-sizing: border-box;\n",
       "}\n",
       "</style><script>\n",
       "function copyToClipboard(fld) {\n",
       "    if (document.queryCommandSupported && document.queryCommandSupported('copy')) {\n",
       "        var textarea = document.createElement('textarea');\n",
       "        textarea.textContent = fld.innerHTML;\n",
       "        textarea.style.position = 'fixed';\n",
       "        document.body.appendChild(textarea);\n",
       "        textarea.select();\n",
       "\n",
       "        try {\n",
       "            return document.execCommand('copy'); // Security exception may be thrown by some browsers.\n",
       "        } catch (ex) {\n",
       "\n",
       "        } finally {\n",
       "            document.body.removeChild(textarea);\n",
       "        }\n",
       "    }\n",
       "}\n",
       "function expandPanel(el) {\n",
       "  const panelName = \"#\" + el.getAttribute('paneName');\n",
       "  console.log(el.title);\n",
       "\n",
       "  document.querySelector(panelName + \"-title\").innerHTML = el.title\n",
       "  iframe = document.querySelector(panelName + \"-body\");\n",
       "  \n",
       "  const tblcss = `<style> body { font-family: Arial, Helvetica, sans-serif;}\n",
       "    #csv { margin-bottom: 15px; }\n",
       "    #csv table { border-collapse: collapse;}\n",
       "    #csv table td { padding: 4px 8px; border: 1px solid silver;} </style>`;\n",
       "\n",
       "  function csvToHtmlTable(str) {\n",
       "    return '<div id=\"csv\"><table><tr><td>' +  str.replace(/[\\n\\r]+$/g, '').replace(/[\\n\\r]+/g, '</td></tr><tr><td>')\n",
       "      .replace(/,/g, '</td><td>') + '</td></tr></table></div>';\n",
       "  }\n",
       "  \n",
       "  function reqListener () {\n",
       "    if (el.title.endsWith(\".csv\")) {\n",
       "      iframe.setAttribute(\"srcdoc\", tblcss + csvToHtmlTable(this.responseText));\n",
       "    } else {\n",
       "      iframe.setAttribute(\"srcdoc\", this.responseText);\n",
       "    }  \n",
       "    console.log(this.responseText);\n",
       "  }\n",
       "\n",
       "  const oReq = new XMLHttpRequest();\n",
       "  oReq.addEventListener(\"load\", reqListener);\n",
       "  oReq.open(\"GET\", el.title);\n",
       "  oReq.send();\n",
       "  \n",
       "  \n",
       "  //iframe.src = el.title;\n",
       "  const resultPane = document.querySelector(panelName + \"-pane\");\n",
       "  if (resultPane.classList.contains(\"hidden\")) {\n",
       "    resultPane.classList.remove(\"hidden\");\n",
       "  }\n",
       "}\n",
       "function closePanel(el) {\n",
       "  const panelName = \"#\" + el.getAttribute('paneName')\n",
       "  const resultPane = document.querySelector(panelName + \"-pane\");\n",
       "  if (!resultPane.classList.contains(\"hidden\")) {\n",
       "    resultPane.classList.add(\"hidden\");\n",
       "  }\n",
       "}\n",
       "\n",
       "</script>\n",
       "<div class=\"master-wrapper\">\n",
       "  <div class=\"block master-tbl\"><div>\n",
       "<style scoped>\n",
       "    .dataframe tbody tr th:only-of-type {\n",
       "        vertical-align: middle;\n",
       "    }\n",
       "\n",
       "    .dataframe tbody tr th {\n",
       "        vertical-align: top;\n",
       "    }\n",
       "\n",
       "    .dataframe thead th {\n",
       "        text-align: right;\n",
       "    }\n",
       "</style>\n",
       "<table border=\"1\" class=\"dataframe\">\n",
       "  <thead>\n",
       "    <tr style=\"text-align: right;\">\n",
       "      <th>project</th>\n",
       "      <th>uid</th>\n",
       "      <th>iter</th>\n",
       "      <th>start</th>\n",
       "      <th>state</th>\n",
       "      <th>name</th>\n",
       "      <th>labels</th>\n",
       "      <th>inputs</th>\n",
       "      <th>parameters</th>\n",
       "      <th>results</th>\n",
       "      <th>artifacts</th>\n",
       "    </tr>\n",
       "  </thead>\n",
       "  <tbody>\n",
       "    <tr>\n",
       "      <td>default</td>\n",
       "      <td><div title=\"e02fe17a19924c9390d18676d923b244\">...23b244</div></td>\n",
       "      <td>0</td>\n",
       "      <td>May 26 00:05:57</td>\n",
       "      <td>completed</td>\n",
       "      <td>tasks generate classification data</td>\n",
       "      <td><div class=\"dictlist\">kind=job</div><div class=\"dictlist\">owner=jovyan</div><div class=\"dictlist\">host=tasks-generate-classification-data-v44cd</div></td>\n",
       "      <td></td>\n",
       "      <td><div class=\"dictlist\">n_samples=10000</div><div class=\"dictlist\">m_features=24</div><div class=\"dictlist\">k_classes=4</div><div class=\"dictlist\">weight=[0.3, 0.1, 0.2, 0.4]</div><div class=\"dictlist\">sk_params={'n_informative': 6}</div><div class=\"dictlist\">file_ext=csv</div><div class=\"dictlist\">key=clf-k4-m24-n10k-imb</div></td>\n",
       "      <td></td>\n",
       "      <td><div class=\"artifact\" onclick=\"expandPanel(this)\" paneName=\"result89530772\" title=\"/files/data/clf-k4-m24-n10k-imb.csv\">clf-k4-m24-n10k-imb</div></td>\n",
       "    </tr>\n",
       "  </tbody>\n",
       "</table>\n",
       "</div></div>\n",
       "  <div id=\"result89530772-pane\" class=\"right-pane block hidden\">\n",
       "    <div class=\"pane-header\">\n",
       "      <span id=\"result89530772-title\" class=\"pane-header-title\">Title</span>\n",
       "      <span onclick=\"closePanel(this)\" paneName=\"result89530772\" class=\"close clickable\">&times;</span>\n",
       "    </div>\n",
       "    <iframe class=\"fileview\" id=\"result89530772-body\"></iframe>\n",
       "  </div>\n",
       "</div>\n"
      ],
      "text/plain": [
       "<IPython.core.display.HTML object>"
      ]
     },
     "metadata": {},
     "output_type": "display_data"
    },
    {
     "name": "stdout",
     "output_type": "stream",
     "text": [
      "to track results use .show() or .logs() or in CLI: \n",
      "!mlrun get run e02fe17a19924c9390d18676d923b244  , !mlrun logs e02fe17a19924c9390d18676d923b244 \n",
      "[mlrun] 2020-05-26 00:06:00,912 run executed, status=completed\n"
     ]
    }
   ],
   "source": [
    "run = fn.run(\n",
    "    NewTask(**task_params), artifact_path=mlconf.artifact_path)"
   ]
  },
  {
   "cell_type": "code",
   "execution_count": null,
   "metadata": {},
   "outputs": [],
   "source": []
  }
 ],
 "metadata": {
  "kernelspec": {
   "display_name": "Python 3",
   "language": "python",
   "name": "python3"
  },
  "language_info": {
   "codemirror_mode": {
    "name": "ipython",
    "version": 3
   },
   "file_extension": ".py",
   "mimetype": "text/x-python",
   "name": "python",
   "nbconvert_exporter": "python",
   "pygments_lexer": "ipython3",
   "version": "3.7.6"
  }
 },
 "nbformat": 4,
 "nbformat_minor": 4
}
