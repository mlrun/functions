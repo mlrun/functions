{
 "cells": [
  {
   "cell_type": "markdown",
   "metadata": {},
   "source": [
    "# ONNX Utils\n",
    "\n",
    "A collection of ONNX utils in one MLRun function. The function includes the following handlers:\n",
    "\n",
    "1. [to_onnx](#handler1) - Convert your model into `onnx` format.\n",
    "2. [optimize](#handler2) - Perform ONNX optimizations using `onnxmodeloptimizer` on a given ONNX model."
   ]
  },
  {
   "cell_type": "markdown",
   "metadata": {},
   "source": [
    "<a id=\"handler1\"></a>\n",
    "\n",
    "## 1. to_onnx\n",
    "\n",
    "### 1.1. Docs\n",
    "Convert the given model to an ONNX model.\n",
    "\n",
    "#### Parameters:\n",
    "* **`context`**: `mlrun.MLClientCtx` - The MLRun function execution context\n",
    "* **`model_path`**: `str` - The model path store object.\n",
    "* **`onnx_model_name`**: `str = None` - The name to use to log the converted ONNX model. If not given, the given `model_name` will be used with an additional suffix `_onnx`. Defaulted to None.\n",
    "* **`optimize_model`**: `bool = True` - Whether to optimize the ONNX model using 'onnxoptimizer' before saving the model. Defaulted to True.\n",
    "* **`framework`**: `str = None` - The model's framework. If None, it will be read from the 'framework' label of the model artifact provided. Defaulted to None.\n",
    "* **`framework_kwargs`**: `Dict[str, Any] = None` - Additional arguments each framework may require in order to convert to ONNX. *To get the doc string of the desired framework onnx conversion function, **pass \"help\"**.*"
   ]
  },
  {
   "cell_type": "markdown",
   "metadata": {
    "pycharm": {
     "name": "#%% md\n"
    }
   },
   "source": [
    "#### Supported keyword arguments (`framework_kwargs`) per framework:\n",
    "`tensorflow.keras`:\n",
    "* **`input_signature`**: `List[Tuple[Tuple[int], str]] = None` - A list of the input layers shape and data type properties. Expected to receive a list where each element is an input layer tuple. An input layer tuple is a tuple of:\n",
    "  * [0] = Layer's shape, a tuple of integers.\n",
    "  * [1] = Layer's data type, a mlrun.data_types.ValueType string.\n",
    "\n",
    "  If None, the input signature will be tried to be read automatically before converting to ONNX or from the model artifact if available. Defaulted to None.\n",
    "\n",
    "`torch`:\n",
    "* **`input_signature`**: `List[Tuple[Tuple[int], str]] = None` - A list of the input layers shape and data type properties. Expected to receive a list where each element is an input layer tuple. An input layer tuple is a tuple of:\n",
    "  * [0] = Layer's shape, a tuple of integers.\n",
    "  * [1] = Layer's data type, a mlrun.data_types.ValueType string.\n",
    "\n",
    "  If None, the input signature will be read from the model artifact if available. Defaulted to None.\n",
    "* **`input_layers_names`**: `List[str] = None` - List of names to assign to the input nodes of the graph in order. All of the other parameters (inner layers) can be set as well by passing additional names in the list. The order is by the order of the parameters in the model. If None, the inputs will be read from the handler's inputs. If its also None, it is defaulted to: \"input_0\", \"input_1\", ...\n",
    "* **`output_layers_names`**: `List[str] = None` - List of names to assign to the output nodes of the graph in order. If None, the outputs will be read from the handler's outputs. If its also None, it is defaulted to: \"output_0\" (for multiple outputs, this parameter must be provided).\n",
    "* **`param dynamic_axes`**: `Dict[str, Dict[int, str]] = None` - If part of the input / output shape is dynamic, like (batch_size, 3, 32, 32) you can specify it by giving a dynamic axis to the input / output layer by its name as follows:\n",
    "```python\n",
    "{\n",
    "    \"input layer name\": {0: \"batch_size\"},\n",
    "    \"output layer name\": {0: \"batch_size\"},\n",
    "}\n",
    "```\n",
    "If provided, the 'is_batched' flag will be ignored. Defaulted to None.\n",
    "* **`is_batched`**: `bool = True` - Whether to include a batch size as the first axis in every input and output layer. Defaulted to True. Will be ignored if 'dynamic_axes' is provided."
   ]
  },
  {
   "cell_type": "markdown",
   "metadata": {
    "pycharm": {
     "name": "#%% md\n"
    }
   },
   "source": [
    "### 1.2. Demo\n",
    "\n",
    "We will use the `TF.Keras` framework, a `MobileNetV2` as our model and we will convert it to ONNX using the `to_onnx` handler.\n",
    "\n",
    "1.2.1. First we will set a temporary artifact path for our model to be saved in and choose the models names:"
   ]
  },
  {
   "cell_type": "code",
   "execution_count": 1,
   "metadata": {
    "ExecuteTime": {
     "end_time": "2025-04-16T13:42:42.019680Z",
     "start_time": "2025-04-16T13:42:42.016327Z"
    },
    "pycharm": {
     "name": "#%%\n"
    }
   },
   "outputs": [],
   "source": [
    "import os\n",
    "os.environ[\"TF_USE_LEGACY_KERAS\"] = \"true\"\n",
    "from tempfile import TemporaryDirectory\n",
    "\n",
    "# Create a temporary directory for the model artifact:\n",
    "ARTIFACT_PATH = TemporaryDirectory().name\n",
    "os.makedirs(ARTIFACT_PATH)\n",
    "\n",
    "# Choose our model's name:\n",
    "MODEL_NAME = \"mobilenetv2\"\n",
    "\n",
    "# Choose our ONNX version model's name:\n",
    "ONNX_MODEL_NAME = \"onnx_mobilenetv2\"\n",
    "\n",
    "# Choose our optimized ONNX version model's name:\n",
    "OPTIMIZED_ONNX_MODEL_NAME = \"optimized_onnx_mobilenetv2\""
   ]
  },
  {
   "cell_type": "markdown",
   "metadata": {
    "pycharm": {
     "name": "#%% md\n"
    }
   },
   "source": [
    "1.2.2. Download the model from `keras.applications` and log it with MLRun's `TFKerasModelHandler`:"
   ]
  },
  {
   "cell_type": "code",
   "execution_count": 2,
   "metadata": {
    "pycharm": {
     "name": "#%%\n"
    }
   },
   "outputs": [],
   "source": [
    "# mlrun: start-code"
   ]
  },
  {
   "cell_type": "code",
   "execution_count": 3,
   "metadata": {},
   "outputs": [],
   "source": [
    "from tensorflow import keras\n",
    "\n",
    "import mlrun\n",
    "import mlrun.frameworks.tf_keras as mlrun_tf_keras\n",
    "\n",
    "\n",
    "def get_model(context: mlrun.MLClientCtx, model_name: str):\n",
    "    # Download the MobileNetV2 model:\n",
    "    model = keras.applications.mobilenet_v2.MobileNetV2()\n",
    "\n",
    "    # Initialize a model handler for logging the model:\n",
    "    model_handler = mlrun_tf_keras.TFKerasModelHandler(\n",
    "        model_name=model_name,\n",
    "        model=model,\n",
    "        context=context\n",
    "    )\n",
    "\n",
    "    # Log the model:\n",
    "    model_handler.log()"
   ]
  },
  {
   "cell_type": "code",
   "execution_count": 4,
   "metadata": {
    "pycharm": {
     "name": "#%%\n"
    }
   },
   "outputs": [],
   "source": [
    "# mlrun: end-code"
   ]
  },
  {
   "cell_type": "markdown",
   "metadata": {
    "pycharm": {
     "name": "#%% md\n"
    }
   },
   "source": [
    "1.2.3. Create the function using MLRun's `code_to_function` and run it:"
   ]
  },
  {
   "cell_type": "code",
   "execution_count": 5,
   "metadata": {
    "pycharm": {
     "name": "#%%\n"
    }
   },
   "outputs": [
    {
     "name": "stdout",
     "output_type": "stream",
     "text": [
      "> 2025-04-16 16:48:25,665 [info] Storing function: {\"db\":null,\"name\":\"get-mobilenetv2-get-model\",\"uid\":\"8014669c8ff24bb9b202270dfe427504\"}\n",
      "> 2025-04-16 16:48:25,670 [warning] Could not detect path to API server, not connected to API server!\n",
      "> 2025-04-16 16:48:25,670 [warning] MLRUN_DBPATH is misconfigured. Set this environment variable to the URL of the API server in order to connect\n",
      "> 2025-04-16 16:48:25,671 [warning] Could not detect path to API server, not connected to API server!\n",
      "> 2025-04-16 16:48:25,671 [warning] MLRUN_DBPATH is misconfigured. Set this environment variable to the URL of the API server in order to connect\n",
      "> 2025-04-16 16:48:25,672 [warning] Could not detect path to API server, not connected to API server!\n",
      "> 2025-04-16 16:48:25,673 [warning] MLRUN_DBPATH is misconfigured. Set this environment variable to the URL of the API server in order to connect\n",
      "> 2025-04-16 16:48:25,679 [warning] Could not detect path to API server, not connected to API server!\n",
      "> 2025-04-16 16:48:25,679 [warning] MLRUN_DBPATH is misconfigured. Set this environment variable to the URL of the API server in order to connect\n",
      "WARNING:tensorflow:Compiled the loaded model, but the compiled metrics have yet to be built. `model.compile_metrics` will be empty until you train or evaluate the model.\n",
      "INFO:tensorflow:Assets written to: mobilenetv2/assets\n"
     ]
    },
    {
     "name": "stderr",
     "output_type": "stream",
     "text": [
      "INFO:tensorflow:Assets written to: mobilenetv2/assets\n"
     ]
    },
    {
     "name": "stdout",
     "output_type": "stream",
     "text": [
      "> 2025-04-16 16:48:30,646 [warning] Could not detect path to API server, not connected to API server!\n",
      "> 2025-04-16 16:48:30,647 [warning] MLRUN_DBPATH is misconfigured. Set this environment variable to the URL of the API server in order to connect\n",
      "> 2025-04-16 16:48:30,658 [warning] Could not detect path to API server, not connected to API server!\n",
      "> 2025-04-16 16:48:30,658 [warning] MLRUN_DBPATH is misconfigured. Set this environment variable to the URL of the API server in order to connect\n",
      "> 2025-04-16 16:48:30,658 [warning] Could not detect path to API server, not connected to API server!\n",
      "> 2025-04-16 16:48:30,659 [warning] MLRUN_DBPATH is misconfigured. Set this environment variable to the URL of the API server in order to connect\n"
     ]
    },
    {
     "data": {
      "text/html": [
       "<style>\n",
       ".dictlist {\n",
       "  background-color: #4EC64B;\n",
       "  text-align: center;\n",
       "  margin: 4px;\n",
       "  border-radius: 3px; padding: 0px 3px 1px 3px; display: inline-block;}\n",
       ".artifact {\n",
       "  cursor: pointer;\n",
       "  background-color: #4EC64B;\n",
       "  text-align: left;\n",
       "  margin: 4px; border-radius: 3px; padding: 0px 3px 1px 3px; display: inline-block;\n",
       "}\n",
       "div.block.hidden {\n",
       "  display: none;\n",
       "}\n",
       ".clickable {\n",
       "  cursor: pointer;\n",
       "}\n",
       ".ellipsis {\n",
       "  display: inline-block;\n",
       "  max-width: 60px;\n",
       "  white-space: nowrap;\n",
       "  overflow: hidden;\n",
       "  text-overflow: ellipsis;\n",
       "}\n",
       ".master-wrapper {\n",
       "  display: flex;\n",
       "  flex-flow: row nowrap;\n",
       "  justify-content: flex-start;\n",
       "  align-items: stretch;\n",
       "}\n",
       ".master-tbl {\n",
       "  flex: 3\n",
       "}\n",
       ".master-wrapper > div {\n",
       "  margin: 4px;\n",
       "  padding: 10px;\n",
       "}\n",
       "iframe.fileview {\n",
       "  border: 0 none;\n",
       "  height: 100%;\n",
       "  width: 100%;\n",
       "  white-space: pre-wrap;\n",
       "}\n",
       ".pane-header-title {\n",
       "  width: 80%;\n",
       "  font-weight: 500;\n",
       "}\n",
       ".pane-header {\n",
       "  line-height: 1;\n",
       "  background-color: #4EC64B;\n",
       "  padding: 3px;\n",
       "}\n",
       ".pane-header .close {\n",
       "  font-size: 20px;\n",
       "  font-weight: 700;\n",
       "  float: right;\n",
       "  margin-top: -5px;\n",
       "}\n",
       ".master-wrapper .right-pane {\n",
       "  border: 1px inset silver;\n",
       "  width: 40%;\n",
       "  min-height: 300px;\n",
       "  flex: 3\n",
       "  min-width: 500px;\n",
       "}\n",
       ".master-wrapper * {\n",
       "  box-sizing: border-box;\n",
       "}\n",
       "</style><script>\n",
       "function copyToClipboard(fld) {\n",
       "    if (document.queryCommandSupported && document.queryCommandSupported('copy')) {\n",
       "        var textarea = document.createElement('textarea');\n",
       "        textarea.textContent = fld.innerHTML;\n",
       "        textarea.style.position = 'fixed';\n",
       "        document.body.appendChild(textarea);\n",
       "        textarea.select();\n",
       "\n",
       "        try {\n",
       "            return document.execCommand('copy'); // Security exception may be thrown by some browsers.\n",
       "        } catch (ex) {\n",
       "\n",
       "        } finally {\n",
       "            document.body.removeChild(textarea);\n",
       "        }\n",
       "    }\n",
       "}\n",
       "function expandPanel(el) {\n",
       "  const panelName = \"#\" + el.getAttribute('paneName');\n",
       "\n",
       "  // Get the base URL of the current notebook\n",
       "  var baseUrl = window.location.origin;\n",
       "\n",
       "  // Construct the full URL\n",
       "  var fullUrl = new URL(el.title, baseUrl).href;\n",
       "\n",
       "  document.querySelector(panelName + \"-title\").innerHTML = fullUrl\n",
       "  iframe = document.querySelector(panelName + \"-body\");\n",
       "\n",
       "  const tblcss = `<style> body { font-family: Arial, Helvetica, sans-serif;}\n",
       "    #csv { margin-bottom: 15px; }\n",
       "    #csv table { border-collapse: collapse;}\n",
       "    #csv table td { padding: 4px 8px; border: 1px solid silver;} </style>`;\n",
       "\n",
       "  function csvToHtmlTable(str) {\n",
       "    return '<div id=\"csv\"><table><tr><td>' +  str.replace(/[\\n\\r]+$/g, '').replace(/[\\n\\r]+/g, '</td></tr><tr><td>')\n",
       "      .replace(/,/g, '</td><td>') + '</td></tr></table></div>';\n",
       "  }\n",
       "\n",
       "  function reqListener () {\n",
       "    if (fullUrl.endsWith(\".csv\")) {\n",
       "      iframe.setAttribute(\"srcdoc\", tblcss + csvToHtmlTable(this.responseText));\n",
       "    } else {\n",
       "      iframe.setAttribute(\"srcdoc\", this.responseText);\n",
       "    }\n",
       "    console.log(this.responseText);\n",
       "  }\n",
       "\n",
       "  const oReq = new XMLHttpRequest();\n",
       "  oReq.addEventListener(\"load\", reqListener);\n",
       "  oReq.open(\"GET\", fullUrl);\n",
       "  oReq.send();\n",
       "\n",
       "\n",
       "  //iframe.src = fullUrl;\n",
       "  const resultPane = document.querySelector(panelName + \"-pane\");\n",
       "  if (resultPane.classList.contains(\"hidden\")) {\n",
       "    resultPane.classList.remove(\"hidden\");\n",
       "  }\n",
       "}\n",
       "function closePanel(el) {\n",
       "  const panelName = \"#\" + el.getAttribute('paneName')\n",
       "  const resultPane = document.querySelector(panelName + \"-pane\");\n",
       "  if (!resultPane.classList.contains(\"hidden\")) {\n",
       "    resultPane.classList.add(\"hidden\");\n",
       "  }\n",
       "}\n",
       "\n",
       "</script>\n",
       "<div class=\"master-wrapper\">\n",
       "  <div class=\"block master-tbl\"><div>\n",
       "<style scoped>\n",
       "    .dataframe tbody tr th:only-of-type {\n",
       "        vertical-align: middle;\n",
       "    }\n",
       "\n",
       "    .dataframe tbody tr th {\n",
       "        vertical-align: top;\n",
       "    }\n",
       "\n",
       "    .dataframe thead th {\n",
       "        text-align: right;\n",
       "    }\n",
       "</style>\n",
       "<table border=\"1\" class=\"dataframe\">\n",
       "  <thead>\n",
       "    <tr style=\"text-align: right;\">\n",
       "      <th>project</th>\n",
       "      <th>uid</th>\n",
       "      <th>iter</th>\n",
       "      <th>start</th>\n",
       "      <th>state</th>\n",
       "      <th>kind</th>\n",
       "      <th>name</th>\n",
       "      <th>labels</th>\n",
       "      <th>inputs</th>\n",
       "      <th>parameters</th>\n",
       "      <th>results</th>\n",
       "      <th>artifacts</th>\n",
       "    </tr>\n",
       "  </thead>\n",
       "  <tbody>\n",
       "    <tr>\n",
       "      <td>default</td>\n",
       "      <td><div title=\"8014669c8ff24bb9b202270dfe427504\">...427504</div></td>\n",
       "      <td>0</td>\n",
       "      <td>Apr 16 13:48:25</td>\n",
       "      <td>completed</td>\n",
       "      <td>run</td>\n",
       "      <td>get-mobilenetv2-get-model</td>\n",
       "      <td><div class=\"dictlist\">kind=local</div><div class=\"dictlist\">owner=Guy_Lecker</div><div class=\"dictlist\">host=M-GY9VJ267P9</div></td>\n",
       "      <td></td>\n",
       "      <td><div class=\"dictlist\">model_name=mobilenetv2</div></td>\n",
       "      <td></td>\n",
       "      <td><div title=\"/var/folders/b_/m8h0_tk516v1xhkxkl2zn6580000gp/T/tmpxcrw19mc/get-mobilenetv2-get-model/0/model\">model</div></td>\n",
       "    </tr>\n",
       "  </tbody>\n",
       "</table>\n",
       "</div></div>\n",
       "  <div id=\"result6cef4b19-pane\" class=\"right-pane block hidden\">\n",
       "    <div class=\"pane-header\">\n",
       "      <span id=\"result6cef4b19-title\" class=\"pane-header-title\">Title</span>\n",
       "      <span onclick=\"closePanel(this)\" paneName=\"result6cef4b19\" class=\"close clickable\">&times;</span>\n",
       "    </div>\n",
       "    <iframe class=\"fileview\" id=\"result6cef4b19-body\"></iframe>\n",
       "  </div>\n",
       "</div>\n"
      ],
      "text/plain": [
       "<IPython.core.display.HTML object>"
      ]
     },
     "metadata": {},
     "output_type": "display_data"
    },
    {
     "name": "stdout",
     "output_type": "stream",
     "text": [
      "\n"
     ]
    },
    {
     "data": {
      "text/html": [
       "<b> > to track results use the .show() or .logs() methods </b>"
      ],
      "text/plain": [
       "<IPython.core.display.HTML object>"
      ]
     },
     "metadata": {},
     "output_type": "display_data"
    },
    {
     "name": "stdout",
     "output_type": "stream",
     "text": [
      "> 2025-04-16 16:48:30,667 [info] Run execution finished: {\"name\":\"get-mobilenetv2-get-model\",\"status\":\"completed\"}\n"
     ]
    }
   ],
   "source": [
    "import mlrun\n",
    "\n",
    "\n",
    "# Create the function parsing this notebook's code using 'code_to_function':\n",
    "get_model_function = mlrun.code_to_function(\n",
    "    name=\"get_mobilenetv2\",\n",
    "    kind=\"job\",\n",
    "    image=\"mlrun/ml-models\"\n",
    ")\n",
    "\n",
    "# Run the function to log the model:\n",
    "get_model_run = get_model_function.run(\n",
    "    handler=\"get_model\",\n",
    "    artifact_path=ARTIFACT_PATH,\n",
    "    params={\n",
    "        \"model_name\": MODEL_NAME\n",
    "    },\n",
    "    local=True\n",
    ")"
   ]
  },
  {
   "cell_type": "markdown",
   "metadata": {},
   "source": [
    "1.2.4. Import the `onnx_utils` MLRun function and run it:"
   ]
  },
  {
   "cell_type": "code",
   "execution_count": 15,
   "metadata": {},
   "outputs": [
    {
     "data": {
      "text/plain": [
       "[{'kind': 'model',\n",
       "  'metadata': {'key': 'model',\n",
       "   'project': 'default',\n",
       "   'hash': 'd20ef8c17ca6f4182ebf29ab8a2790c63f4ac3db',\n",
       "   'tree': '8014669c8ff24bb9b202270dfe427504',\n",
       "   'iter': 0},\n",
       "  'spec': {'model_file': 'mobilenetv2.zip',\n",
       "   'framework': 'tensorflow.keras',\n",
       "   'size': 13405711,\n",
       "   'producer': {'name': 'get-mobilenetv2-get-model',\n",
       "    'kind': 'run',\n",
       "    'uri': 'default/8014669c8ff24bb9b202270dfe427504',\n",
       "    'owner': 'Guy_Lecker'},\n",
       "   'db_key': 'mobilenetv2',\n",
       "   'target_path': '/var/folders/b_/m8h0_tk516v1xhkxkl2zn6580000gp/T/tmpxcrw19mc/get-mobilenetv2-get-model/0/model/'},\n",
       "  'status': {'state': 'created'}}]"
      ]
     },
     "execution_count": 15,
     "metadata": {},
     "output_type": "execute_result"
    }
   ],
   "source": [
    "get_model_run.status.artifacts"
   ]
  },
  {
   "cell_type": "code",
   "execution_count": 10,
   "metadata": {
    "pycharm": {
     "name": "#%%\n"
    }
   },
   "outputs": [
    {
     "name": "stdout",
     "output_type": "stream",
     "text": [
      "> 2025-04-16 16:53:29,808 [info] Storing function: {\"db\":null,\"name\":\"onnx-utils-to-onnx\",\"uid\":\"20fc810f26874c748c1db35dcaabcfa0\"}\n",
      "> 2025-04-16 16:53:29,808 [warning] Could not detect path to API server, not connected to API server!\n",
      "> 2025-04-16 16:53:29,809 [warning] MLRUN_DBPATH is misconfigured. Set this environment variable to the URL of the API server in order to connect\n",
      "> 2025-04-16 16:53:29,809 [warning] Could not detect path to API server, not connected to API server!\n",
      "> 2025-04-16 16:53:29,809 [warning] MLRUN_DBPATH is misconfigured. Set this environment variable to the URL of the API server in order to connect\n",
      "> 2025-04-16 16:53:29,812 [warning] Could not detect path to API server, not connected to API server!\n",
      "> 2025-04-16 16:53:29,812 [warning] MLRUN_DBPATH is misconfigured. Set this environment variable to the URL of the API server in order to connect\n",
      "> 2025-04-16 16:53:29,823 [warning] Could not detect path to API server, not connected to API server!\n",
      "> 2025-04-16 16:53:29,823 [warning] MLRUN_DBPATH is misconfigured. Set this environment variable to the URL of the API server in order to connect\n",
      "> 2025-04-16 16:53:29,824 [warning] Could not detect path to API server, not connected to API server!\n",
      "> 2025-04-16 16:53:29,824 [warning] MLRUN_DBPATH is misconfigured. Set this environment variable to the URL of the API server in order to connect\n",
      "> 2025-04-16 16:53:29,835 [error] Run error, Traceback (most recent call last):\n",
      "  File \"/Users/Guy_Lecker/.local/lib/python3.9/site-packages/mlrun/datastore/datastore.py\", line 167, in get_store_artifact\n",
      "    resource = get_store_resource(\n",
      "  File \"/Users/Guy_Lecker/.local/lib/python3.9/site-packages/mlrun/datastore/store_resources.py\", line 174, in get_store_resource\n",
      "    if resource.get(\"kind\", \"\") == \"link\":\n",
      "AttributeError: 'NoneType' object has no attribute 'get'\n",
      "\n",
      "During handling of the above exception, another exception occurred:\n",
      "\n",
      "Traceback (most recent call last):\n",
      "  File \"/Users/Guy_Lecker/.local/lib/python3.9/site-packages/mlrun/runtimes/local.py\", line 309, in _run\n",
      "    sout, serr = exec_from_params(fn, runobj, context)\n",
      "  File \"/Users/Guy_Lecker/.local/lib/python3.9/site-packages/mlrun/runtimes/local.py\", line 490, in exec_from_params\n",
      "    kwargs = get_func_arg(handler, runobj, context)\n",
      "  File \"/Users/Guy_Lecker/.local/lib/python3.9/site-packages/mlrun/runtimes/local.py\", line 574, in get_func_arg\n",
      "    kwargs[key] = _get_input_value(key)\n",
      "  File \"/Users/Guy_Lecker/.local/lib/python3.9/site-packages/mlrun/runtimes/local.py\", line 556, in _get_input_value\n",
      "    input_obj = context.get_input(input_key, inputs[input_key])\n",
      "  File \"/Users/Guy_Lecker/.local/lib/python3.9/site-packages/mlrun/execution.py\", line 534, in get_input\n",
      "    return self._data_stores.object(\n",
      "  File \"/Users/Guy_Lecker/.local/lib/python3.9/site-packages/mlrun/datastore/datastore.py\", line 191, in object\n",
      "    meta, url = self.get_store_artifact(\n",
      "  File \"/Users/Guy_Lecker/.local/lib/python3.9/site-packages/mlrun/datastore/datastore.py\", line 175, in get_store_artifact\n",
      "    raise OSError(f\"artifact {url} not found, {err_to_str(exc)}\")\n",
      "OSError: artifact store://models/default/mobilenetv2:latest@8014669c8ff24bb9b202270dfe427504 not found, 'NoneType' object has no attribute 'get'\n",
      "> 2025-04-16 16:53:29,836 [warning] Could not detect path to API server, not connected to API server!\n",
      "> 2025-04-16 16:53:29,836 [warning] MLRUN_DBPATH is misconfigured. Set this environment variable to the URL of the API server in order to connect\n",
      "> 2025-04-16 16:53:29,836 [warning] Could not detect path to API server, not connected to API server!\n",
      "> 2025-04-16 16:53:29,837 [warning] MLRUN_DBPATH is misconfigured. Set this environment variable to the URL of the API server in order to connect\n"
     ]
    },
    {
     "data": {
      "text/html": [
       "<style>\n",
       ".dictlist {\n",
       "  background-color: #4EC64B;\n",
       "  text-align: center;\n",
       "  margin: 4px;\n",
       "  border-radius: 3px; padding: 0px 3px 1px 3px; display: inline-block;}\n",
       ".artifact {\n",
       "  cursor: pointer;\n",
       "  background-color: #4EC64B;\n",
       "  text-align: left;\n",
       "  margin: 4px; border-radius: 3px; padding: 0px 3px 1px 3px; display: inline-block;\n",
       "}\n",
       "div.block.hidden {\n",
       "  display: none;\n",
       "}\n",
       ".clickable {\n",
       "  cursor: pointer;\n",
       "}\n",
       ".ellipsis {\n",
       "  display: inline-block;\n",
       "  max-width: 60px;\n",
       "  white-space: nowrap;\n",
       "  overflow: hidden;\n",
       "  text-overflow: ellipsis;\n",
       "}\n",
       ".master-wrapper {\n",
       "  display: flex;\n",
       "  flex-flow: row nowrap;\n",
       "  justify-content: flex-start;\n",
       "  align-items: stretch;\n",
       "}\n",
       ".master-tbl {\n",
       "  flex: 3\n",
       "}\n",
       ".master-wrapper > div {\n",
       "  margin: 4px;\n",
       "  padding: 10px;\n",
       "}\n",
       "iframe.fileview {\n",
       "  border: 0 none;\n",
       "  height: 100%;\n",
       "  width: 100%;\n",
       "  white-space: pre-wrap;\n",
       "}\n",
       ".pane-header-title {\n",
       "  width: 80%;\n",
       "  font-weight: 500;\n",
       "}\n",
       ".pane-header {\n",
       "  line-height: 1;\n",
       "  background-color: #4EC64B;\n",
       "  padding: 3px;\n",
       "}\n",
       ".pane-header .close {\n",
       "  font-size: 20px;\n",
       "  font-weight: 700;\n",
       "  float: right;\n",
       "  margin-top: -5px;\n",
       "}\n",
       ".master-wrapper .right-pane {\n",
       "  border: 1px inset silver;\n",
       "  width: 40%;\n",
       "  min-height: 300px;\n",
       "  flex: 3\n",
       "  min-width: 500px;\n",
       "}\n",
       ".master-wrapper * {\n",
       "  box-sizing: border-box;\n",
       "}\n",
       "</style><script>\n",
       "function copyToClipboard(fld) {\n",
       "    if (document.queryCommandSupported && document.queryCommandSupported('copy')) {\n",
       "        var textarea = document.createElement('textarea');\n",
       "        textarea.textContent = fld.innerHTML;\n",
       "        textarea.style.position = 'fixed';\n",
       "        document.body.appendChild(textarea);\n",
       "        textarea.select();\n",
       "\n",
       "        try {\n",
       "            return document.execCommand('copy'); // Security exception may be thrown by some browsers.\n",
       "        } catch (ex) {\n",
       "\n",
       "        } finally {\n",
       "            document.body.removeChild(textarea);\n",
       "        }\n",
       "    }\n",
       "}\n",
       "function expandPanel(el) {\n",
       "  const panelName = \"#\" + el.getAttribute('paneName');\n",
       "\n",
       "  // Get the base URL of the current notebook\n",
       "  var baseUrl = window.location.origin;\n",
       "\n",
       "  // Construct the full URL\n",
       "  var fullUrl = new URL(el.title, baseUrl).href;\n",
       "\n",
       "  document.querySelector(panelName + \"-title\").innerHTML = fullUrl\n",
       "  iframe = document.querySelector(panelName + \"-body\");\n",
       "\n",
       "  const tblcss = `<style> body { font-family: Arial, Helvetica, sans-serif;}\n",
       "    #csv { margin-bottom: 15px; }\n",
       "    #csv table { border-collapse: collapse;}\n",
       "    #csv table td { padding: 4px 8px; border: 1px solid silver;} </style>`;\n",
       "\n",
       "  function csvToHtmlTable(str) {\n",
       "    return '<div id=\"csv\"><table><tr><td>' +  str.replace(/[\\n\\r]+$/g, '').replace(/[\\n\\r]+/g, '</td></tr><tr><td>')\n",
       "      .replace(/,/g, '</td><td>') + '</td></tr></table></div>';\n",
       "  }\n",
       "\n",
       "  function reqListener () {\n",
       "    if (fullUrl.endsWith(\".csv\")) {\n",
       "      iframe.setAttribute(\"srcdoc\", tblcss + csvToHtmlTable(this.responseText));\n",
       "    } else {\n",
       "      iframe.setAttribute(\"srcdoc\", this.responseText);\n",
       "    }\n",
       "    console.log(this.responseText);\n",
       "  }\n",
       "\n",
       "  const oReq = new XMLHttpRequest();\n",
       "  oReq.addEventListener(\"load\", reqListener);\n",
       "  oReq.open(\"GET\", fullUrl);\n",
       "  oReq.send();\n",
       "\n",
       "\n",
       "  //iframe.src = fullUrl;\n",
       "  const resultPane = document.querySelector(panelName + \"-pane\");\n",
       "  if (resultPane.classList.contains(\"hidden\")) {\n",
       "    resultPane.classList.remove(\"hidden\");\n",
       "  }\n",
       "}\n",
       "function closePanel(el) {\n",
       "  const panelName = \"#\" + el.getAttribute('paneName')\n",
       "  const resultPane = document.querySelector(panelName + \"-pane\");\n",
       "  if (!resultPane.classList.contains(\"hidden\")) {\n",
       "    resultPane.classList.add(\"hidden\");\n",
       "  }\n",
       "}\n",
       "\n",
       "</script>\n",
       "<div class=\"master-wrapper\">\n",
       "  <div class=\"block master-tbl\"><div>\n",
       "<style scoped>\n",
       "    .dataframe tbody tr th:only-of-type {\n",
       "        vertical-align: middle;\n",
       "    }\n",
       "\n",
       "    .dataframe tbody tr th {\n",
       "        vertical-align: top;\n",
       "    }\n",
       "\n",
       "    .dataframe thead th {\n",
       "        text-align: right;\n",
       "    }\n",
       "</style>\n",
       "<table border=\"1\" class=\"dataframe\">\n",
       "  <thead>\n",
       "    <tr style=\"text-align: right;\">\n",
       "      <th>project</th>\n",
       "      <th>uid</th>\n",
       "      <th>iter</th>\n",
       "      <th>start</th>\n",
       "      <th>state</th>\n",
       "      <th>kind</th>\n",
       "      <th>name</th>\n",
       "      <th>labels</th>\n",
       "      <th>inputs</th>\n",
       "      <th>parameters</th>\n",
       "      <th>results</th>\n",
       "    </tr>\n",
       "  </thead>\n",
       "  <tbody>\n",
       "    <tr>\n",
       "      <td>default</td>\n",
       "      <td><div title=\"20fc810f26874c748c1db35dcaabcfa0\">...abcfa0</div></td>\n",
       "      <td>0</td>\n",
       "      <td></td>\n",
       "      <td>created</td>\n",
       "      <td></td>\n",
       "      <td>onnx-utils-to-onnx</td>\n",
       "      <td><div class=\"dictlist\">kind=local</div><div class=\"dictlist\">owner=Guy_Lecker</div><div class=\"dictlist\">host=M-GY9VJ267P9</div></td>\n",
       "      <td><div title=\"store://models/default/mobilenetv2:latest@8014669c8ff24bb9b202270dfe427504\">model_path</div></td>\n",
       "      <td><div class=\"dictlist\">model_name=mobilenetv2</div><div class=\"dictlist\">onnx_model_name=onnx_mobilenetv2</div><div class=\"dictlist\">optimize_model=False</div></td>\n",
       "      <td></td>\n",
       "    </tr>\n",
       "  </tbody>\n",
       "</table>\n",
       "</div></div>\n",
       "  <div id=\"result2d7e0e4a-pane\" class=\"right-pane block hidden\">\n",
       "    <div class=\"pane-header\">\n",
       "      <span id=\"result2d7e0e4a-title\" class=\"pane-header-title\">Title</span>\n",
       "      <span onclick=\"closePanel(this)\" paneName=\"result2d7e0e4a\" class=\"close clickable\">&times;</span>\n",
       "    </div>\n",
       "    <iframe class=\"fileview\" id=\"result2d7e0e4a-body\"></iframe>\n",
       "  </div>\n",
       "</div>\n"
      ],
      "text/plain": [
       "<IPython.core.display.HTML object>"
      ]
     },
     "metadata": {},
     "output_type": "display_data"
    },
    {
     "name": "stdout",
     "output_type": "stream",
     "text": [
      "\n"
     ]
    },
    {
     "data": {
      "text/html": [
       "<b> > to track results use the .show() or .logs() methods </b>"
      ],
      "text/plain": [
       "<IPython.core.display.HTML object>"
      ]
     },
     "metadata": {},
     "output_type": "display_data"
    },
    {
     "name": "stdout",
     "output_type": "stream",
     "text": [
      "> 2025-04-16 16:53:29,844 [info] Run execution finished: {\"name\":\"onnx-utils-to-onnx\",\"status\":\"created\"}\n"
     ]
    }
   ],
   "source": [
    "# Import the ONNX function from the marketplace:\n",
    "onnx_utils_function = mlrun.import_function(\"function.yaml\")\n",
    "\n",
    "# Run the function to convert our model to ONNX:\n",
    "to_onnx_run = onnx_utils_function.run(\n",
    "    handler=\"to_onnx\",\n",
    "    artifact_path=ARTIFACT_PATH,\n",
    "    inputs={\n",
    "        \"model_path\": get_model_run.outputs[\"model\"],  # <- Take the logged model from the previous function.\n",
    "    },\n",
    "    params={\n",
    "        \"model_name\": MODEL_NAME,\n",
    "        \"onnx_model_name\": ONNX_MODEL_NAME,\n",
    "        \"optimize_model\": False  # <- For optimizing it later in the demo, we mark the flag as False\n",
    "    },\n",
    "    local=True\n",
    ")"
   ]
  },
  {
   "cell_type": "markdown",
   "metadata": {},
   "source": [
    "1.2.5. Now, listing the artifact directory we will see both our `tf.keras` model and the `onnx` model:"
   ]
  },
  {
   "cell_type": "code",
   "execution_count": 9,
   "metadata": {
    "pycharm": {
     "name": "#%%\n"
    }
   },
   "outputs": [
    {
     "name": "stdout",
     "output_type": "stream",
     "text": [
      "['get-mobilenetv2-get-model']\n"
     ]
    }
   ],
   "source": [
    "import os\n",
    "\n",
    "\n",
    "print(os.listdir(ARTIFACT_PATH))"
   ]
  },
  {
   "cell_type": "markdown",
   "metadata": {},
   "source": [
    "<a id=\"handler2\"></a>\n",
    "\n",
    "## 2. optimize\n",
    "\n",
    "### 2.1. Docs\n",
    "Optimize the given ONNX model.\n",
    "\n",
    "#### Parameters:\n",
    "* **`context`**: `mlrun.MLClientCtx` - The MLRun function execution context\n",
    "* **`model_path`**: `str` - The model path store object.\n",
    "* **`optimizations`**: `List[str] = None` - List of possible optimizations. *To see what optimizations are available, **pass \"help\"**.* If None, all of the optimizations will be used. Defaulted to None.\n",
    "* **`fixed_point`**: `bool = False` - Optimize the weights using fixed point. Defaulted to False.\n",
    "* **`optimized_model_name`**: `str = None` - The name of the optimized model. If None, the original model will be overridden. Defaulted to None."
   ]
  },
  {
   "cell_type": "markdown",
   "metadata": {},
   "source": [
    "### 2.2. Demo\n",
    "\n",
    "We will use our converted model from the last example and optimize it.\n",
    "\n",
    "2.2.1. We will call now the `optimize` handler:"
   ]
  },
  {
   "cell_type": "code",
   "execution_count": null,
   "metadata": {
    "pycharm": {
     "name": "#%%\n"
    }
   },
   "outputs": [],
   "source": [
    "onnx_utils_function.run(\n",
    "    handler=\"optimize\",\n",
    "    artifact_path=ARTIFACT_PATH,\n",
    "    params={\n",
    "        \"model_name\": ONNX_MODEL_NAME,\n",
    "        \"model_path\": to_onnx_run.output(ONNX_MODEL_NAME),  # <- Take the logged model from the previous function.\n",
    "        \"optimized_model_name\": OPTIMIZED_ONNX_MODEL_NAME,\n",
    "    },\n",
    "    local=True\n",
    ")"
   ]
  },
  {
   "cell_type": "markdown",
   "metadata": {},
   "source": [
    "2.2.2. And now our model was optimized and can be seen under the `ARTIFACT_PATH`:"
   ]
  },
  {
   "cell_type": "code",
   "execution_count": null,
   "metadata": {
    "pycharm": {
     "name": "#%%\n"
    }
   },
   "outputs": [],
   "source": [
    "print(os.listdir(ARTIFACT_PATH))"
   ]
  },
  {
   "cell_type": "markdown",
   "metadata": {
    "pycharm": {
     "name": "#%% md\n"
    }
   },
   "source": [
    "Lastly, run this code to clean up the models:"
   ]
  },
  {
   "cell_type": "code",
   "execution_count": null,
   "metadata": {
    "pycharm": {
     "name": "#%%\n"
    }
   },
   "outputs": [],
   "source": [
    "import shutil\n",
    "\n",
    "\n",
    "shutil.rmtree(ARTIFACT_PATH)"
   ]
  }
 ],
 "metadata": {
  "kernelspec": {
   "display_name": "Python 3 (ipykernel)",
   "language": "python",
   "name": "python3"
  },
  "language_info": {
   "codemirror_mode": {
    "name": "ipython",
    "version": 3
   },
   "file_extension": ".py",
   "mimetype": "text/x-python",
   "name": "python",
   "nbconvert_exporter": "python",
   "pygments_lexer": "ipython3",
   "version": "3.9.22"
  }
 },
 "nbformat": 4,
 "nbformat_minor": 4
}
