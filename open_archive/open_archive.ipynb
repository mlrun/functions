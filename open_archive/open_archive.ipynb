{
 "cells": [
  {
   "cell_type": "markdown",
   "metadata": {},
   "source": [
    "# archive to folder"
   ]
  },
  {
   "cell_type": "code",
   "execution_count": 7,
   "metadata": {},
   "outputs": [],
   "source": [
    "# nuclio: ignore\n",
    "import nuclio"
   ]
  },
  {
   "cell_type": "code",
   "execution_count": 7,
   "metadata": {},
   "outputs": [],
   "source": [
    "import os\n",
    "import zipfile\n",
    "import urllib.request\n",
    "import tarfile\n",
    "import json\n",
    "\n",
    "from mlrun.execution import MLClientCtx\n",
    "from mlrun.datastore import DataItem\n",
    "\n",
    "from typing import Union\n",
    "\n",
    "def open_archive(\n",
    "    context: MLClientCtx, \n",
    "    archive_url: Union[DataItem, str] = '',\n",
    "    key: str = 'images'\n",
    "):\n",
    "    \"\"\"Open a file/object archive into a target directory\n",
    "    \n",
    "    Currently supports zip and tar.gz\n",
    "    \n",
    "    :param context:      function execution context\n",
    "    :param archive_url:  url of archive file\n",
    "    :param key:          key of archive contents in artifact store\n",
    "    \"\"\"\n",
    "    target_dir = context.artifact_path\n",
    "    \n",
    "    splits = str(archive_url).split('.')\n",
    "    if ('.'.join(splits[-2:]) == 'tar.gz'):\n",
    "        # Extract dataset from tar\n",
    "        context.logger.info('opening tar_gz')\n",
    "        ftpstream = urllib.request.urlopen(archive_url)\n",
    "        with tarfile.open(fileobj=ftpstream, mode=\"r|gz\") as ref:\n",
    "            ref.extractall(target_dir)\n",
    "    elif splits[-1] == 'zip':\n",
    "        # Extract dataset from zip\n",
    "        context.logger.info('opening zip')\n",
    "        with zipfile.ZipFile(archive_url, 'r') as ref:\n",
    "            ref.extractall(target_dir)\n",
    "    \n",
    "    context.log_artifact(key, local_path=target_dir)"
   ]
  },
  {
   "cell_type": "code",
   "execution_count": 7,
   "metadata": {},
   "outputs": [],
   "source": [
    "# nuclio: end-code"
   ]
  }
 ],
 "metadata": {
  "kernelspec": {
   "display_name": "Python 3",
   "language": "python",
   "name": "python3"
  },
  "language_info": {
   "codemirror_mode": {
    "name": "ipython",
    "version": 3
   },
   "file_extension": ".py",
   "mimetype": "text/x-python",
   "name": "python",
   "nbconvert_exporter": "python",
   "pygments_lexer": "ipython3",
   "version": "3.6.8"
  }
 },
 "nbformat": 4,
 "nbformat_minor": 4
}
