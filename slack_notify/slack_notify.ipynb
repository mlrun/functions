{
 "cells": [
  {
   "cell_type": "code",
   "execution_count": 33,
   "metadata": {},
   "outputs": [],
   "source": [
    "# nuclio: ignore\n",
    "import nuclio"
   ]
  },
  {
   "cell_type": "code",
   "execution_count": 34,
   "metadata": {},
   "outputs": [
    {
     "name": "stdout",
     "output_type": "stream",
     "text": [
      "%nuclio: setting kind to 'job'\n",
      "%nuclio: setting spec.image to 'python:3.6-jessie'\n"
     ]
    }
   ],
   "source": [
    "%nuclio config kind = \"job\"\n",
    "%nuclio config spec.image = \"python:3.6-jessie\""
   ]
  },
  {
   "cell_type": "code",
   "execution_count": 35,
   "metadata": {},
   "outputs": [],
   "source": [
    "%%nuclio cmd -c \n",
    "pip install requests"
   ]
  },
  {
   "cell_type": "code",
   "execution_count": 36,
   "metadata": {},
   "outputs": [],
   "source": [
    "import warnings\n",
    "warnings.simplefilter(action='ignore', category=FutureWarning)"
   ]
  },
  {
   "cell_type": "code",
   "execution_count": 37,
   "metadata": {},
   "outputs": [],
   "source": [
    "import os\n",
    "import json\n",
    "import requests\n",
    "from mlrun.execution import MLClientCtx\n",
    "from typing import List"
   ]
  },
  {
   "cell_type": "code",
   "execution_count": 38,
   "metadata": {},
   "outputs": [],
   "source": [
    "def slack_notify(\n",
    "    context: MLClientCtx,\n",
    "    webhook_url: str = \"URL\",\n",
    "    slack_blocks:  List[str] = [],\n",
    "    notification_text: str = \"Notification\"\n",
    ") -> None:\n",
    "    \"\"\"Summarize a table\n",
    "    :param context:         the function context\n",
    "    :param webhook_url:     Slack incoming webhook URL. Please read: https://api.slack.com/messaging/webhooks\n",
    "    :param notification_text:            Notification text\n",
    "    :param slack_blocks:          Message blocks list. NOT IMPLEMENTED YET\n",
    "    \"\"\"\n",
    "    \n",
    "    data = {\n",
    "        'text': notification_text\n",
    "    }\n",
    "    print(\"====\",webhook_url)\n",
    "    response = requests.post(webhook_url, data=json.dumps(\n",
    "        data), headers={'Content-Type': 'application/json'})\n",
    "\n",
    "    print('Response: ' + str(response.text))\n",
    "    print('Response code: ' + str(response.status_code))"
   ]
  },
  {
   "cell_type": "code",
   "execution_count": 39,
   "metadata": {},
   "outputs": [],
   "source": [
    "# nuclio: end-code"
   ]
  },
  {
   "cell_type": "markdown",
   "metadata": {},
   "source": [
    "### mlconfig"
   ]
  },
  {
   "cell_type": "code",
   "execution_count": 40,
   "metadata": {},
   "outputs": [],
   "source": [
    "from mlrun import mlconf\n",
    "import os\n",
    "\n",
    "mlconf.dbpath = 'http://mlrun-api:8080'\n",
    "mlconf.artifact_path = mlconf.artifact_path or f'{os.environ[\"HOME\"]}/artifacts'"
   ]
  },
  {
   "cell_type": "markdown",
   "metadata": {},
   "source": [
    "### save"
   ]
  },
  {
   "cell_type": "code",
   "execution_count": null,
   "metadata": {},
   "outputs": [],
   "source": [
    "from mlrun import code_to_function\n",
    "\n",
    "# create job function object from notebook code\n",
    "fn = code_to_function(\"slack_notify\")\n",
    "# add metadata (for templates and reuse)\n",
    "fn.spec.default_handler = \"slack_notify\"\n",
    "fn.spec.description = \"Send Slack notification\"\n",
    "fn.metadata.categories = [\"ops\"]\n",
    "fn.metadata.labels = {\"author\": \"mdl\"}\n",
    "fn.export(\"function.yaml\")"
   ]
  },
  {
   "cell_type": "markdown",
   "metadata": {},
   "source": [
    "## tests"
   ]
  },
  {
   "cell_type": "code",
   "execution_count": null,
   "metadata": {},
   "outputs": [],
   "source": [
    "from mlrun import import_function\n",
    "func = import_function(\"hub://slack_notify\")"
   ]
  },
  {
   "cell_type": "code",
   "execution_count": null,
   "metadata": {},
   "outputs": [],
   "source": [
    "from mlrun import NewTask, run_local\n",
    "\n",
    "\n",
    "#Slack incoming webhook URL. Please read: https://api.slack.com/messaging/webhooks\n",
    "task_params = {\n",
    "    \"webhook_url\" : \"https://hooks.slack.com/services/xxxxxxxx/xxxxxxxxx/xxxxxxxxxxxxxx\",\n",
    "    \"notification_text\" : \"Test Notification\"\n",
    "}"
   ]
  },
  {
   "cell_type": "code",
   "execution_count": null,
   "metadata": {},
   "outputs": [],
   "source": [
    "task = NewTask(\n",
    "    name=\"tasks slack notify\", \n",
    "    params = task_params,\n",
    "    handler=slack_notify)"
   ]
  },
  {
   "cell_type": "markdown",
   "metadata": {},
   "source": [
    "### run local where artifact path is fixed "
   ]
  },
  {
   "cell_type": "code",
   "execution_count": null,
   "metadata": {},
   "outputs": [],
   "source": [
    "run = run_local(task, artifact_path=mlconf.artifact_path)"
   ]
  },
  {
   "cell_type": "markdown",
   "metadata": {},
   "source": [
    "### run remote where artifact path includes the run id"
   ]
  },
  {
   "cell_type": "code",
   "execution_count": null,
   "metadata": {
    "scrolled": true
   },
   "outputs": [],
   "source": [
    "func.deploy()"
   ]
  },
  {
   "cell_type": "code",
   "execution_count": null,
   "metadata": {
    "scrolled": true
   },
   "outputs": [],
   "source": [
    "func.run(task, params=task_params,  workdir=mlconf.artifact_path)"
   ]
  },
  {
   "cell_type": "code",
   "execution_count": 42,
   "metadata": {},
   "outputs": [
    {
     "name": "stdout",
     "output_type": "stream",
     "text": [
      "function: slack-notify\n",
      "Send Slack notification\n",
      "default handler: slack_notify\n",
      "entry points:\n",
      "  slack_notify: Summarize a table\n",
      "    context(MLClientCtx)  - the function context\n",
      "    webhook_url(str)  - Slack incoming webhook URL. Please read: https://api.slack.com/messaging/webhooks, default=URL\n",
      "    slack_blocks(List[str])  - Message blocks list. NOT IMPLEMENTED YET\n",
      "    notification_text(str)  - Notification text, default=Notification\n"
     ]
    }
   ],
   "source": [
    "func.doc()"
   ]
  },
  {
   "cell_type": "code",
   "execution_count": null,
   "metadata": {},
   "outputs": [],
   "source": []
  }
 ],
 "metadata": {
  "kernelspec": {
   "display_name": "Python 3",
   "language": "python",
   "name": "python3"
  },
  "language_info": {
   "codemirror_mode": {
    "name": "ipython",
    "version": 3
   },
   "file_extension": ".py",
   "mimetype": "text/x-python",
   "name": "python",
   "nbconvert_exporter": "python",
   "pygments_lexer": "ipython3",
   "version": "3.6.8"
  }
 },
 "nbformat": 4,
 "nbformat_minor": 4
}
