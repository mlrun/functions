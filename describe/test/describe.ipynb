{
 "cells": [
  {
   "cell_type": "code",
   "execution_count": null,
   "metadata": {},
   "outputs": [],
   "source": [
    "import mlrun, os\n",
    "mlrun.mlconf.dbpath=\"http://mlrun-api:8080\""
   ]
  },
  {
   "cell_type": "code",
   "execution_count": null,
   "metadata": {},
   "outputs": [],
   "source": [
    "FUNCTION = \"describe\"\n",
    "\n",
    "task_params = {\n",
    "    \"name\":        FUNCTION, \n",
    "    \"params\"   : {\n",
    "        \"key\"   : \"summary\",\n",
    "        \"label_column\" : \"species\",\n",
    "        \"table\": \"/User/functions/arc_to_parquet/examples/artifacts/higgs.pqt\",\n",
    "    },\n",
    "    \"artifact_path\"  : os.path.join(f\"/User/functions/{FUNCTION}/artifacts\", \n",
    "                                    \"{{run.uid}}\")}"
   ]
  },
  {
   "cell_type": "code",
   "execution_count": null,
   "metadata": {},
   "outputs": [],
   "source": [
    "rfn = mlrun.import_function('/User/functions/describe/function.yaml').apply(mlrun.mount_v3io())\n",
    "tsk = rfn.run(mlrun.NewTask(**task_params))"
   ]
  },
  {
   "cell_type": "code",
   "execution_count": null,
   "metadata": {},
   "outputs": [],
   "source": []
  }
 ],
 "metadata": {
  "kernelspec": {
   "display_name": "mlrun-v0.4.6",
   "language": "python",
   "name": "mlrun-v0.4.6"
  },
  "language_info": {
   "codemirror_mode": {
    "name": "ipython",
    "version": 3
   },
   "file_extension": ".py",
   "mimetype": "text/x-python",
   "name": "python",
   "nbconvert_exporter": "python",
   "pygments_lexer": "ipython3",
   "version": "3.7.6"
  }
 },
 "nbformat": 4,
 "nbformat_minor": 4
}
