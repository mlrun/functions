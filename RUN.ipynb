{
 "cells": [
  {
   "cell_type": "markdown",
   "metadata": {},
   "source": [
    "# Setup\n",
    "\n",
    "If you have made a local change to a function, it\"s local yaml can be updated as follows:"
   ]
  },
  {
   "cell_type": "code",
   "execution_count": 1,
   "metadata": {},
   "outputs": [
    {
     "name": "stdout",
     "output_type": "stream",
     "text": [
      "[mlrun] 2020-03-23 20:19:36,377 function spec saved to path: arc_to_parquet/function.yaml\n",
      "[mlrun] 2020-03-23 20:19:36,390 saving function: arc-to-parquet, tag: latest\n",
      "[mlrun] 2020-03-23 20:19:36,481 function spec saved to path: load_dataset/function.yaml\n",
      "[mlrun] 2020-03-23 20:19:36,490 saving function: load-dataset, tag: latest\n",
      "[mlrun] 2020-03-23 20:19:40,229 function spec saved to path: describe/function.yaml\n",
      "[mlrun] 2020-03-23 20:19:40,238 saving function: describe, tag: latest\n",
      "[mlrun] 2020-03-23 20:19:40,375 function spec saved to path: test_classifier/function.yaml\n",
      "[mlrun] 2020-03-23 20:19:40,384 saving function: test-classifier, tag: latest\n",
      "[mlrun] 2020-03-23 20:19:40,518 function spec saved to path: sklearn_classifier/function.yaml\n",
      "[mlrun] 2020-03-23 20:19:40,527 saving function: sklearn-classifier, tag: latest\n",
      "[mlrun] 2020-03-23 20:19:40,617 function spec saved to path: gen_class_data/function.yaml\n",
      "[mlrun] 2020-03-23 20:19:40,626 saving function: create-classification-data, tag: latest\n",
      "[mlrun] 2020-03-23 20:19:43,635 function spec saved to path: open_archive/function.yaml\n",
      "[mlrun] 2020-03-23 20:19:43,644 saving function: open-archive, tag: latest\n",
      "[mlrun] 2020-03-23 20:19:43,745 function spec saved to path: parquet_to_dask/function.yaml\n",
      "[mlrun] 2020-03-23 20:19:43,753 saving function: parquet-to-dask, tag: latest\n",
      "[mlrun] 2020-03-23 20:19:43,835 function spec saved to path: describe_dask/function.yaml\n",
      "[mlrun] 2020-03-23 20:19:43,843 saving function: describe-dask, tag: latest\n",
      "[mlrun] 2020-03-23 20:19:46,718 function spec saved to path: serving/function.yaml\n",
      "[mlrun] 2020-03-23 20:19:46,732 saving function: model-server, tag: latest\n"
     ]
    }
   ],
   "source": [
    "import mlrun, os, pandas\n",
    "\n",
    "mlrun.mlconf.dbpath = \"http://mlrun-api:8080\"\n",
    "#mlrun.mlconf.hub_url = \"https://raw.githubusercontent.com/mlrun/functions/mlrun-v0.4.6/{name}/function.yaml\"\n",
    "mlrun.mlconf.hub_url = \"/User/functions/{name}/function.yaml\"\n",
    "\n",
    "funcs_df = pandas.read_csv(\"functions-table.csv\")\n",
    "\n",
    "for index, row in funcs_df.iterrows():\n",
    "    # TODO: loop over function subfolders and extract build info instead of reading file\n",
    "    params={\n",
    "        \"name\"     : row[\"name\"],\n",
    "        \"filename\" : os.path.join(row[\"folder\"], row[\"filename\"]),\n",
    "        \"image\"    : f\"{row['image']}:{row['image_tag']}\",\n",
    "        \"kind\"     : row[\"kind\"],\n",
    "        \"with_doc\" : False}\n",
    "    func=mlrun.code_to_function(**params)\n",
    "    func.spec.default_handler = row[\"handler\"]\n",
    "    func.spec.image_pull_policy = \"Always\"\n",
    "    func.spec.build.code_origin = f\"/User/functions/{row['name']}/function.yaml\"\n",
    "    func.metadata.categories = [row[\"categoryA\"], row[\"categoryB\"]]\n",
    "    func.metadata.labels = {\"author\": \"yjb\", \n",
    "                            \"stage\": \"development\"}\n",
    "    func.export(f\"{row['folder']}/function.yaml\")\n",
    "    func.save()"
   ]
  },
  {
   "cell_type": "code",
   "execution_count": null,
   "metadata": {},
   "outputs": [],
   "source": []
  }
 ],
 "metadata": {
  "kernelspec": {
   "display_name": "Python 3",
   "language": "python",
   "name": "python3"
  },
  "language_info": {
   "codemirror_mode": {
    "name": "ipython",
    "version": 3
   },
   "file_extension": ".py",
   "mimetype": "text/x-python",
   "name": "python",
   "nbconvert_exporter": "python",
   "pygments_lexer": "ipython3",
   "version": "3.6.8"
  },
  "toc-autonumbering": false,
  "toc-showcode": true
 },
 "nbformat": 4,
 "nbformat_minor": 4
}
