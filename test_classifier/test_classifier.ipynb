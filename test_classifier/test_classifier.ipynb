{
 "cells": [
  {
   "cell_type": "code",
   "execution_count": 1,
   "metadata": {},
   "outputs": [],
   "source": [
    "# nuclio: ignore\n",
    "import nuclio"
   ]
  },
  {
   "cell_type": "code",
   "execution_count": 2,
   "metadata": {},
   "outputs": [
    {
     "name": "stdout",
     "output_type": "stream",
     "text": [
      "%nuclio: setting kind to 'job'\n",
      "%nuclio: setting spec.image to 'mlrun/ml-models'\n"
     ]
    }
   ],
   "source": [
    "%nuclio config kind = \"job\"\n",
    "%nuclio config spec.image = \"mlrun/ml-models\""
   ]
  },
  {
   "cell_type": "code",
   "execution_count": 3,
   "metadata": {},
   "outputs": [],
   "source": [
    "import warnings\n",
    "warnings.simplefilter(action=\"ignore\", category=FutureWarning)"
   ]
  },
  {
   "cell_type": "code",
   "execution_count": 4,
   "metadata": {},
   "outputs": [],
   "source": [
    "import os\n",
    "import pandas as pd\n",
    "from mlrun.datastore import DataItem\n",
    "from mlrun.artifacts import get_model"
   ]
  },
  {
   "cell_type": "code",
   "execution_count": 5,
   "metadata": {},
   "outputs": [],
   "source": [
    "def _eval_model(context, xtest, ytest, model, score_method=\"micro\", plots_dest=\"plots\"):\n",
    "    \"\"\"internal evaluate one model\n",
    "    \"\"\"\n",
    "    from sklearn import metrics\n",
    "    from cloudpickle import load\n",
    "    import matplotlib.pyplot as plt\n",
    "    from sklearn.preprocessing import label_binarize\n",
    "    from sklearn.utils.multiclass import unique_labels\n",
    "    from mlrun.artifacts import PlotArtifact\n",
    "    from mlrun.mlutils import plot_roc, feature_importances, gcf_clear\n",
    "\n",
    "    # enclose all except model\n",
    "    ytestb = label_binarize(ytest, classes=ytest.unique())\n",
    "    \n",
    "    context.header = xtest.columns.names\n",
    "    \n",
    "    clf = load(open(model, \"rb\"))\n",
    "    if callable(getattr(clf, \"predict_proba\")):\n",
    "        y_score = clf.predict_proba(xtest.values, validate_features=False)\n",
    "        ypred = clf.predict(xtest.values, validate_features=False)\n",
    "        plot_roc(context, ytestb, y_score, key='roc', plots_dir=\"plots\")\n",
    "    else:\n",
    "        ypred = clf.predict(xtest.values, validate_features=False) # refactor\n",
    "        y_score = None\n",
    "\n",
    "    gcf_clear(plt)\n",
    "    metrics.plot_confusion_matrix(clf, xtest, ytest, \n",
    "                                  labels=ytest.unique(), normalize='true') \n",
    "    \n",
    "    context.log_artifact(PlotArtifact(\"confusion\", body=plt.gcf()), \n",
    "                         artifact_path_path=f\"{model.split('.')[-2]}-confusion.html\") \n",
    "    \n",
    "    if hasattr(clf, \"feature_importances_\"):\n",
    "        plot, tbl = feature_importances(clf, list(xtest.columns))\n",
    "        context.log_artifact(plot, local_path=\"plots/feature-importances.html\")\n",
    "        context.log_artifact(tbl, local_path=\"plots/feature-importances-table.csc\")\n",
    "\n",
    "    ytestb = label_binarize(ytest, classes=ytest.unique())\n",
    "\n",
    "    if ytestb.shape[1] > 1:\n",
    "        average_precision = metrics.average_precision_score(ytestb,\n",
    "                                                            y_score,\n",
    "                                                            average=score_method)\n",
    "        context.log_result(f\"rocauc\", metrics.roc_auc_score(ytestb, y_score))\n",
    "    else:\n",
    "        average_precision = metrics.average_precision_score(ytestb,\n",
    "                                                            y_score[:, 1],\n",
    "                                                            average=score_method)\n",
    "        context.log_result(f\"rocauc\", metrics.roc_auc_score(ytestb, y_score[:, 1]))\n",
    "\n",
    "    context.log_result(f\"avg_precscore\", average_precision)\n",
    "    context.log_result(f\"accuracy\", float(clf.score(xtest, ytest)))\n",
    "    context.log_result(f\"f1_score\", metrics.f1_score(ytest, ypred,\n",
    "                                                     average=score_method))\n",
    "    if y_score is None:\n",
    "        return y_score\n",
    "    else:\n",
    "        return ypred"
   ]
  },
  {
   "cell_type": "code",
   "execution_count": 6,
   "metadata": {},
   "outputs": [],
   "source": [
    "\n",
    "def test_classifier(\n",
    "    context,\n",
    "    models_path: DataItem, \n",
    "    test_set: DataItem,\n",
    "    label_column: str,\n",
    "    score_method: str = 'micro',\n",
    "    plots_dest: str = \"plots\",\n",
    "    model_evaluator = None\n",
    ") -> None:\n",
    "    \"\"\"Test one or more classifier models against held-out dataset\n",
    "    \n",
    "    Using held-out test features, evaluates the peformance of the estimated model\n",
    "    \n",
    "    Can be part of a kubeflow pipeline as a test step that is run post EDA and \n",
    "    training/validation cycles\n",
    "    \n",
    "    :param context:         the function context\n",
    "    :param models_path:     artifact models representing a file or a folder\n",
    "    :param test_set:        test features and labels\n",
    "    :param label_column:    column name for ground truth labels\n",
    "    :param score_method:    for multiclass classification\n",
    "    :param plots_dest:      dir for test plots\n",
    "    :param model_evaluator: NOT IMPLEMENTED: specific method to generate eval, passed in as string\n",
    "                            or available in this folder\n",
    "    \"\"\"\n",
    "    xtest = test_set.as_df()\n",
    "    ytest = xtest.pop(label_column)\n",
    "    \n",
    "    model_file, model_obj, _ = get_model(models_path, suffix='.pkl')\n",
    "    \n",
    "    # there could be different eval_models, type of model (xgboost, tfv1, tfv2...)\n",
    "    # or how probabilities are calculated, etc...\n",
    "    if not model_evaluator:\n",
    "        # binary and multiclass\n",
    "        y_hat = _eval_model(context, xtest, ytest, model_file, \n",
    "                            score_method,\n",
    "                            plots_dest or 'plots')\n",
    "\n",
    "    # give the prediction columns titles/headers\n",
    "    if y_hat.ndim == 1 or y_hat.shape[1] == 1:\n",
    "        score_names = [\"yscore\"]\n",
    "    else:\n",
    "        score_names = [\"yscore_\" + str(x) for x in range(y_hat.shape[1])]\n",
    "\n",
    "    # log the test set and its predictions (should also bind model and metadata)\n",
    "    df = pd.concat([xtest, ytest, pd.DataFrame(y_hat, columns=score_names)], axis=1)\n",
    "    context.log_dataset(\"test_set_preds\", df=df, format=\"parquet\", index=False)"
   ]
  },
  {
   "cell_type": "code",
   "execution_count": 7,
   "metadata": {},
   "outputs": [],
   "source": [
    "# nuclio: end-code"
   ]
  },
  {
   "cell_type": "markdown",
   "metadata": {},
   "source": [
    "### mlconfig"
   ]
  },
  {
   "cell_type": "code",
   "execution_count": 8,
   "metadata": {},
   "outputs": [],
   "source": [
    "from mlrun import mlconf\n",
    "import os\n",
    "\n",
    "mlconf.dbpath = mlconf.dbpath or 'http://mlrun-api:8080'\n",
    "mlconf.artifact_path = mlconf.artifact_path or f'{os.environ[\"HOME\"]}/artifacts'"
   ]
  },
  {
   "cell_type": "markdown",
   "metadata": {},
   "source": [
    "### save"
   ]
  },
  {
   "cell_type": "code",
   "execution_count": 9,
   "metadata": {},
   "outputs": [
    {
     "name": "stdout",
     "output_type": "stream",
     "text": [
      "[mlrun] 2020-05-15 10:21:25,602 function spec saved to path: function.yaml\n"
     ]
    },
    {
     "data": {
      "text/plain": [
       "<mlrun.runtimes.kubejob.KubejobRuntime at 0x7f4b2a66a630>"
      ]
     },
     "execution_count": 9,
     "metadata": {},
     "output_type": "execute_result"
    }
   ],
   "source": [
    "from mlrun import code_to_function \n",
    "# create job function object from notebook code\n",
    "fn = code_to_function(\"test_classifier\")\n",
    "\n",
    "# add metadata (for templates and reuse)\n",
    "fn.spec.default_handler = \"test_classifier\"\n",
    "fn.spec.description = \"test a classifier using held-out or new data\"\n",
    "fn.metadata.categories = [\"ml\", \"test\"]\n",
    "fn.metadata.labels = {\"author\": \"yjb\", \"framework\": \"sklearn\"}\n",
    "fn.export(\"function.yaml\")"
   ]
  },
  {
   "cell_type": "markdown",
   "metadata": {},
   "source": [
    "## tests"
   ]
  },
  {
   "cell_type": "code",
   "execution_count": 10,
   "metadata": {},
   "outputs": [],
   "source": [
    "if \"V3IO_HOME\" in list(os.environ):\n",
    "    from mlrun import mount_v3io\n",
    "    fn.apply(mount_v3io())\n",
    "else:\n",
    "    # is you set up mlrun using the instructions at https://github.com/mlrun/mlrun/blob/master/hack/local/README.md\n",
    "    from mlrun.platforms import mount_pvc\n",
    "    fn.apply(mount_pvc('nfsvol', 'nfsvol', '/home/jovyan/data'))"
   ]
  },
  {
   "cell_type": "code",
   "execution_count": 11,
   "metadata": {},
   "outputs": [],
   "source": [
    "task_params = {\n",
    "    \"name\" : \"tasks - test classifier\",\n",
    "    \"params\": {\n",
    "        # Ina pipeline setting, the models_path parameter would be the output of a training step\n",
    "        \"models_path\"   : mlconf.artifact_path + \"/models\",\n",
    "        \"label_column\"  : \"labels\",\n",
    "        \"plots_dest\"    : mlconf.artifact_path + \"/plots\"}}"
   ]
  },
  {
   "cell_type": "markdown",
   "metadata": {},
   "source": [
    "### run locally"
   ]
  },
  {
   "cell_type": "code",
   "execution_count": 12,
   "metadata": {},
   "outputs": [],
   "source": [
    "DATA_URL = \"https://raw.githubusercontent.com/yjb-ds/testdata/master/data/test_set.parquet\""
   ]
  },
  {
   "cell_type": "code",
   "execution_count": 13,
   "metadata": {},
   "outputs": [
    {
     "name": "stdout",
     "output_type": "stream",
     "text": [
      "[mlrun] 2020-05-15 10:21:25,650 warning!, server (0.4.7) and client (0.4.8) ver dont match\n",
      "[mlrun] 2020-05-15 10:21:25,651 starting run tasks - test classifier uid=05a50e19f3de41e08008d7426aa90fad  -> http://mlrun-api:8080\n",
      "[mlrun] 2020-05-15 10:21:25,670 warning!, server (0.4.7) and client (0.4.8) ver dont match\n"
     ]
    },
    {
     "name": "stderr",
     "output_type": "stream",
     "text": [
      "No handles with labels found to put in legend.\n"
     ]
    },
    {
     "name": "stdout",
     "output_type": "stream",
     "text": [
      "[mlrun] 2020-05-15 10:21:27,008 log artifact roc at /User/artifacts/plots/roc.html, size: 15614, db: Y\n",
      "[mlrun] 2020-05-15 10:21:27,165 log artifact confusion at /User/artifacts/confusion, size: 9856, db: Y\n",
      "[mlrun] 2020-05-15 10:21:27,416 log artifact feature-importances at /User/artifacts/plots/feature-importances.html, size: 14790, db: Y\n",
      "[mlrun] 2020-05-15 10:21:27,498 log artifact feature-importances-tbl at /User/artifacts/plots/feature-importances-table.csc, size: 120, db: Y\n",
      "[mlrun] 2020-05-15 10:21:27,591 log artifact test_set_preds at /User/artifacts/test_set_preds.parquet, size: 5129, db: Y\n",
      "\n"
     ]
    },
    {
     "data": {
      "text/html": [
       "<style> \n",
       ".dictlist {\n",
       "  background-color: #b3edff; \n",
       "  text-align: center; \n",
       "  margin: 4px; \n",
       "  border-radius: 3px; padding: 0px 3px 1px 3px; display: inline-block;}\n",
       ".artifact {\n",
       "  cursor: pointer; \n",
       "  background-color: #ffe6cc; \n",
       "  text-align: left; \n",
       "  margin: 4px; border-radius: 3px; padding: 0px 3px 1px 3px; display: inline-block;\n",
       "}\n",
       "div.block.hidden {\n",
       "  display: none;\n",
       "}\n",
       ".clickable {\n",
       "  cursor: pointer;\n",
       "}\n",
       ".ellipsis {\n",
       "  display: inline-block;\n",
       "  max-width: 60px;\n",
       "  white-space: nowrap;\n",
       "  overflow: hidden;\n",
       "  text-overflow: ellipsis;\n",
       "}\n",
       ".master-wrapper {\n",
       "  display: flex;\n",
       "  flex-flow: row nowrap;\n",
       "  justify-content: flex-start;\n",
       "  align-items: stretch;\n",
       "}\n",
       ".master-tbl {\n",
       "  flex: 3\n",
       "}\n",
       ".master-wrapper > div {\n",
       "  margin: 4px;\n",
       "  padding: 10px;\n",
       "}\n",
       "iframe.fileview {\n",
       "  border: 0 none;\n",
       "  height: 100%;\n",
       "  width: 100%;\n",
       "  white-space: pre-wrap;\n",
       "}\n",
       ".pane-header-title {\n",
       "  width: 80%;\n",
       "  font-weight: 500;\n",
       "}\n",
       ".pane-header {\n",
       "  line-height: 1;\n",
       "  background-color: #ffe6cc;\n",
       "  padding: 3px;\n",
       "}\n",
       ".pane-header .close {\n",
       "  font-size: 20px;\n",
       "  font-weight: 700;\n",
       "  float: right;\n",
       "  margin-top: -5px;\n",
       "}\n",
       ".master-wrapper .right-pane {\n",
       "  border: 1px inset silver;\n",
       "  width: 40%;\n",
       "  min-height: 300px;\n",
       "  flex: 3\n",
       "  min-width: 500px;\n",
       "}\n",
       ".master-wrapper * {\n",
       "  box-sizing: border-box;\n",
       "}\n",
       "</style><script>\n",
       "function copyToClipboard(fld) {\n",
       "    if (document.queryCommandSupported && document.queryCommandSupported('copy')) {\n",
       "        var textarea = document.createElement('textarea');\n",
       "        textarea.textContent = fld.innerHTML;\n",
       "        textarea.style.position = 'fixed';\n",
       "        document.body.appendChild(textarea);\n",
       "        textarea.select();\n",
       "\n",
       "        try {\n",
       "            return document.execCommand('copy'); // Security exception may be thrown by some browsers.\n",
       "        } catch (ex) {\n",
       "\n",
       "        } finally {\n",
       "            document.body.removeChild(textarea);\n",
       "        }\n",
       "    }\n",
       "}\n",
       "function expandPanel(el) {\n",
       "  const panelName = \"#\" + el.getAttribute('paneName');\n",
       "  console.log(el.title);\n",
       "\n",
       "  document.querySelector(panelName + \"-title\").innerHTML = el.title\n",
       "  iframe = document.querySelector(panelName + \"-body\");\n",
       "  \n",
       "  const tblcss = `<style> body { font-family: Arial, Helvetica, sans-serif;}\n",
       "    #csv { margin-bottom: 15px; }\n",
       "    #csv table { border-collapse: collapse;}\n",
       "    #csv table td { padding: 4px 8px; border: 1px solid silver;} </style>`;\n",
       "\n",
       "  function csvToHtmlTable(str) {\n",
       "    return '<div id=\"csv\"><table><tr><td>' +  str.replace(/[\\n\\r]+$/g, '').replace(/[\\n\\r]+/g, '</td></tr><tr><td>')\n",
       "      .replace(/,/g, '</td><td>') + '</td></tr></table></div>';\n",
       "  }\n",
       "  \n",
       "  function reqListener () {\n",
       "    if (el.title.endsWith(\".csv\")) {\n",
       "      iframe.setAttribute(\"srcdoc\", tblcss + csvToHtmlTable(this.responseText));\n",
       "    } else {\n",
       "      iframe.setAttribute(\"srcdoc\", this.responseText);\n",
       "    }  \n",
       "    console.log(this.responseText);\n",
       "  }\n",
       "\n",
       "  const oReq = new XMLHttpRequest();\n",
       "  oReq.addEventListener(\"load\", reqListener);\n",
       "  oReq.open(\"GET\", el.title);\n",
       "  oReq.send();\n",
       "  \n",
       "  \n",
       "  //iframe.src = el.title;\n",
       "  const resultPane = document.querySelector(panelName + \"-pane\");\n",
       "  if (resultPane.classList.contains(\"hidden\")) {\n",
       "    resultPane.classList.remove(\"hidden\");\n",
       "  }\n",
       "}\n",
       "function closePanel(el) {\n",
       "  const panelName = \"#\" + el.getAttribute('paneName')\n",
       "  const resultPane = document.querySelector(panelName + \"-pane\");\n",
       "  if (!resultPane.classList.contains(\"hidden\")) {\n",
       "    resultPane.classList.add(\"hidden\");\n",
       "  }\n",
       "}\n",
       "\n",
       "</script>\n",
       "<div class=\"master-wrapper\">\n",
       "  <div class=\"block master-tbl\"><div>\n",
       "<style scoped>\n",
       "    .dataframe tbody tr th:only-of-type {\n",
       "        vertical-align: middle;\n",
       "    }\n",
       "\n",
       "    .dataframe tbody tr th {\n",
       "        vertical-align: top;\n",
       "    }\n",
       "\n",
       "    .dataframe thead th {\n",
       "        text-align: right;\n",
       "    }\n",
       "</style>\n",
       "<table border=\"1\" class=\"dataframe\">\n",
       "  <thead>\n",
       "    <tr style=\"text-align: right;\">\n",
       "      <th>project</th>\n",
       "      <th>uid</th>\n",
       "      <th>iter</th>\n",
       "      <th>start</th>\n",
       "      <th>state</th>\n",
       "      <th>name</th>\n",
       "      <th>labels</th>\n",
       "      <th>inputs</th>\n",
       "      <th>parameters</th>\n",
       "      <th>results</th>\n",
       "      <th>artifacts</th>\n",
       "    </tr>\n",
       "  </thead>\n",
       "  <tbody>\n",
       "    <tr>\n",
       "      <td>default</td>\n",
       "      <td><div title=\"05a50e19f3de41e08008d7426aa90fad\"><a href=\"https://mlrun-ui.default-tenant.app.yjb-mlrun-passed.iguazio-cd1.com/projects/default/jobs/05a50e19f3de41e08008d7426aa90fad/info\" target=\"_blank\" >...6aa90fad</a></div></td>\n",
       "      <td>0</td>\n",
       "      <td>May 15 10:21:25</td>\n",
       "      <td>completed</td>\n",
       "      <td>tasks - test classifier</td>\n",
       "      <td><div class=\"dictlist\">v3io_user=admin</div><div class=\"dictlist\">kind=handler</div><div class=\"dictlist\">owner=admin</div><div class=\"dictlist\">host=jupyter-f597579bb-l8hbz</div></td>\n",
       "      <td><div title=\"/User/artifacts/test_set.parquet\">test_set</div><div title=\"/User/artifacts/models\">models_path</div></td>\n",
       "      <td><div class=\"dictlist\">models_path=/User/artifacts/models</div><div class=\"dictlist\">label_column=labels</div><div class=\"dictlist\">plots_dest=/User/artifacts/plots</div></td>\n",
       "      <td><div class=\"dictlist\">rocauc=0.0</div><div class=\"dictlist\">avg_precscore=0.35082132521761006</div><div class=\"dictlist\">accuracy=0.96</div><div class=\"dictlist\">f1_score=0.96</div></td>\n",
       "      <td><div class=\"artifact\" onclick=\"expandPanel(this)\" paneName=\"resultc593633a\" title=\"/files/artifacts/plots/roc.html\">roc</div><div title=\"/User/artifacts/confusion\">confusion</div><div class=\"artifact\" onclick=\"expandPanel(this)\" paneName=\"resultc593633a\" title=\"/files/artifacts/plots/feature-importances.html\">feature-importances</div><div title=\"/User/artifacts/plots/feature-importances-table.csc\">feature-importances-tbl</div><div title=\"/User/artifacts/test_set_preds.parquet\">test_set_preds</div></td>\n",
       "    </tr>\n",
       "  </tbody>\n",
       "</table>\n",
       "</div></div>\n",
       "  <div id=\"resultc593633a-pane\" class=\"right-pane block hidden\">\n",
       "    <div class=\"pane-header\">\n",
       "      <span id=\"resultc593633a-title\" class=\"pane-header-title\">Title</span>\n",
       "      <span onclick=\"closePanel(this)\" paneName=\"resultc593633a\" class=\"close clickable\">&times;</span>\n",
       "    </div>\n",
       "    <iframe class=\"fileview\" id=\"resultc593633a-body\"></iframe>\n",
       "  </div>\n",
       "</div>\n"
      ],
      "text/plain": [
       "<IPython.core.display.HTML object>"
      ]
     },
     "metadata": {},
     "output_type": "display_data"
    },
    {
     "name": "stdout",
     "output_type": "stream",
     "text": [
      "to track results use .show() or .logs() or in CLI: \n",
      "!mlrun get run 05a50e19f3de41e08008d7426aa90fad --project default , !mlrun logs 05a50e19f3de41e08008d7426aa90fad --project default\n",
      "[mlrun] 2020-05-15 10:21:27,681 run executed, status=completed\n"
     ]
    },
    {
     "data": {
      "text/plain": [
       "<Figure size 432x288 with 0 Axes>"
      ]
     },
     "metadata": {},
     "output_type": "display_data"
    },
    {
     "data": {
      "image/png": "[encoded data removed]",
      "text/plain": [
       "<Figure size 1440x720 with 1 Axes>"
      ]
     },
     "metadata": {
      "needs_background": "light"
     },
     "output_type": "display_data"
    }
   ],
   "source": [
    "from mlrun import run_local, NewTask\n",
    "\n",
    "run = run_local(NewTask(**task_params),\n",
    "                handler=test_classifier,\n",
    "                inputs={\"test_set\": \"/User/artifacts/test_set.parquet\",\n",
    "                        \"models_path\": \"models\"},\n",
    "                workdir=mlconf.artifact_path)"
   ]
  },
  {
   "cell_type": "markdown",
   "metadata": {},
   "source": [
    "### remotely"
   ]
  },
  {
   "cell_type": "code",
   "execution_count": null,
   "metadata": {},
   "outputs": [
    {
     "name": "stdout",
     "output_type": "stream",
     "text": [
      "[mlrun] 2020-05-15 10:22:30,920 starting run tasks - test classifier uid=3492b3c9ba214c07a386f30ae11042aa  -> http://mlrun-api:8080\n",
      "[mlrun] 2020-05-15 10:22:31,024 Job is running in the background, pod: tasks---test-classifier-25j8t\n",
      "[mlrun] 2020-05-15 10:22:34,488 warning!, server (0.4.7) and client (0.4.8) ver dont match\n",
      "[mlrun] 2020-05-15 10:22:34,505 warning!, server (0.4.7) and client (0.4.8) ver dont match\n",
      "No handles with labels found to put in legend.\n",
      "[mlrun] 2020-05-15 10:22:36,083 log artifact roc at /User/artifacts/plots/roc.html, size: 30886, db: Y\n",
      "[mlrun] 2020-05-15 10:22:36,261 log artifact confusion at /User/artifacts/confusion, size: 19220, db: Y\n",
      "[mlrun] 2020-05-15 10:22:36,544 log artifact feature-importances at /User/artifacts/plots/feature-importances.html, size: 28218, db: Y\n",
      "[mlrun] 2020-05-15 10:22:36,562 log artifact feature-importances-tbl at /User/artifacts/plots/feature-importances-table.csc, size: 120, db: Y\n",
      "[mlrun] 2020-05-15 10:22:36,625 log artifact test_set_preds at /User/artifacts/test_set_preds.parquet, size: 5121, db: Y\n",
      "\n",
      "[mlrun] 2020-05-15 10:22:36,664 run executed, status=completed\n"
     ]
    }
   ],
   "source": [
    "from mlrun import NewTask\n",
    "run = fn.run(NewTask(**task_params), \n",
    "             inputs={\"test_set\": \"/User/artifacts/test_set.parquet\",\n",
    "                        \"models_path\": \"models\"},\n",
    "             workdir=\"/User/artifacts\")"
   ]
  },
  {
   "cell_type": "code",
   "execution_count": null,
   "metadata": {},
   "outputs": [],
   "source": []
  }
 ],
 "metadata": {
  "kernelspec": {
   "display_name": "Python 3",
   "language": "python",
   "name": "python3"
  },
  "language_info": {
   "codemirror_mode": {
    "name": "ipython",
    "version": 3
   },
   "file_extension": ".py",
   "mimetype": "text/x-python",
   "name": "python",
   "nbconvert_exporter": "python",
   "pygments_lexer": "ipython3",
   "version": "3.6.8"
  }
 },
 "nbformat": 4,
 "nbformat_minor": 4
}
