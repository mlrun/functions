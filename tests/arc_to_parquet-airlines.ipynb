{
 "cells": [
  {
   "cell_type": "markdown",
   "metadata": {},
   "source": [
    "# archive to parquet\n",
    "\n",
    "Convert a remote archive or csv file (or local file://), to parquet format"
   ]
  },
  {
   "cell_type": "code",
   "execution_count": null,
   "metadata": {},
   "outputs": [],
   "source": [
    "import mlrun\n",
    "import os\n",
    "mlrun.mlconf.dbpath = 'http://mlrun-api:8080'"
   ]
  },
  {
   "cell_type": "code",
   "execution_count": 2,
   "metadata": {},
   "outputs": [],
   "source": [
    "import numpy as np\n",
    "import pandas as pd\n",
    "import pyarrow as pa\n",
    "import pyarrow.parquet as pq"
   ]
  },
  {
   "cell_type": "markdown",
   "metadata": {},
   "source": [
    "## parameters\n",
    "from **[h20ai](https://github.com/h2oai/h2o-2/wiki/Hacking-Airline-DataSet-with-H2O)**:"
   ]
  },
  {
   "cell_type": "code",
   "execution_count": 3,
   "metadata": {},
   "outputs": [],
   "source": [
    "ARCHIVE_BIG        = \"https://s3.amazonaws.com/h2o-airlines-unpacked/allyears_10.csv\"\n",
    "ARCHIVE            = \"https://s3.amazonaws.com/h2o-airlines-unpacked/allyears.csv\"\n",
    "ARCHIVE_SMALL      = \"https://s3.amazonaws.com/h2o-airlines-unpacked/allyears2k.csv\""
   ]
  },
  {
   "cell_type": "code",
   "execution_count": 26,
   "metadata": {},
   "outputs": [],
   "source": [
    "USE_ARCHIVE        = ARCHIVE\n",
    "TARGET_PATH        = '/User/mlrun/airlines/dataset'\n",
    "\n",
    "PARTITIONS_DEST = 'partitions'\n",
    "PARTITION_COLS = ['Year', 'Month']"
   ]
  },
  {
   "cell_type": "code",
   "execution_count": 27,
   "metadata": {},
   "outputs": [],
   "source": [
    "os.makedirs(os.path.join(TARGET_PATH, PARTITIONS_DEST), exist_ok=True)"
   ]
  },
  {
   "cell_type": "code",
   "execution_count": 28,
   "metadata": {},
   "outputs": [],
   "source": [
    "BASE_IMAGE         = 'yjbds/mlrun-files:latest'"
   ]
  },
  {
   "cell_type": "code",
   "execution_count": 29,
   "metadata": {},
   "outputs": [],
   "source": [
    "CODE_BASE          = '/User/repos/functions/' # 'https://raw.githubusercontent.com/yjb-ds/functions/lgbm-serving/'\n",
    "FUNCTION           = 'fileutils/arc_to_parquet'"
   ]
  },
  {
   "cell_type": "markdown",
   "metadata": {},
   "source": [
    "**For testing and development use ARCHIVE_SMALL:**"
   ]
  },
  {
   "cell_type": "code",
   "execution_count": 30,
   "metadata": {},
   "outputs": [],
   "source": [
    "FILE_NAME          = 'airlines.pqt'\n",
    "KEY                = 'airlines'\n",
    "\n",
    "# no need for this as the files contain a header:\n",
    "HEADER = ['Year','Month','DayofMonth','DayOfWeek','DepTime','CRSDepTime','ArrTime','CRSArrTime',\n",
    "          'UniqueCarrier','FlightNum','TailNum','ActualElapsedTime','CRSElapsedTime','AirTime',\n",
    "          'ArrDelay','DepDelay','Origin','Dest','Distance','TaxiIn','TaxiOut','Cancelled',\n",
    "          'CancellationCode','Diverted','CarrierDelay','WeatherDelay','NASDelay','SecurityDelay',\n",
    "          'LateAircraftDelay']\n",
    "INC_COLS = ['Year','Month','DayofMonth','DayOfWeek','DepTime','CRSDepTime','ArrTime','CRSArrTime',\n",
    "          'UniqueCarrier','FlightNum', 'CRSElapsedTime','AirTime',\n",
    "          'Origin','Dest','Distance', 'TaxiIn', 'TaxiOut','Cancelled',\n",
    "          'CarrierDelay','WeatherDelay','NASDelay','SecurityDelay',\n",
    "          'LateAircraftDelay']\n",
    "\n",
    "ENCODING = 'latin-1'\n",
    "\n",
    "DTYPES_COLS = {\n",
    "     'CRSElapsedTime': 'float32', \n",
    "     'TailNum': 'str', \n",
    "     'Distance': 'float32',\n",
    "     'TaxiIn' : 'float32',\n",
    "     'TaxiOut': 'float32',\n",
    "     'ArrTime': 'float32',\n",
    "     'AirTime': 'float32',\n",
    "     'DepTime':'float32', \n",
    "     'CarrierDelay': 'float32', \n",
    "     'WeatherDelay': 'float32', \n",
    "     'NASDelay':'float32', \n",
    "     'SecurityDelay':'float32', \n",
    "     'LateAircraftDelay':'float32'}"
   ]
  },
  {
   "cell_type": "code",
   "execution_count": 31,
   "metadata": {},
   "outputs": [],
   "source": [
    "LABEL_COLUMN = \"IsArrDelayed\""
   ]
  },
  {
   "cell_type": "markdown",
   "metadata": {},
   "source": [
    "## load and configure function\n",
    "\n",
    "**If run the first time, create the function:**"
   ]
  },
  {
   "cell_type": "code",
   "execution_count": 32,
   "metadata": {},
   "outputs": [
    {
     "name": "stdout",
     "output_type": "stream",
     "text": [
      "[mlrun] 2020-01-27 23:25:02,696 function spec saved to path: /User/repos/functions/fileutils/arc_to_parquet/arc_to_parquet.yaml\n"
     ]
    }
   ],
   "source": [
    "# load function from a local Python file\n",
    "arctoparq = mlrun.code_to_function(\n",
    "    filename=os.path.join(CODE_BASE, FUNCTION, 'arc_to_parquet.py'), \n",
    "    kind='job')\n",
    "arctoparq.build_config(base_image=BASE_IMAGE, commands=[])\n",
    "yaml_name = os.path.join(CODE_BASE, FUNCTION, 'arc_to_parquet.yaml')\n",
    "arctoparq.export(yaml_name)"
   ]
  },
  {
   "cell_type": "markdown",
   "metadata": {},
   "source": [
    "**otherwise load it:**"
   ]
  },
  {
   "cell_type": "code",
   "execution_count": 33,
   "metadata": {},
   "outputs": [],
   "source": [
    "arctoparq = mlrun.import_function(\n",
    "    os.path.join(CODE_BASE, FUNCTION, 'arc_to_parquet.yaml')\n",
    ").apply(mlrun.mount_v3io())"
   ]
  },
  {
   "cell_type": "markdown",
   "metadata": {},
   "source": [
    "## deploy / build"
   ]
  },
  {
   "cell_type": "markdown",
   "metadata": {},
   "source": [
    "The following triggers a build when run for the first time using specs found in the yaml file above."
   ]
  },
  {
   "cell_type": "code",
   "execution_count": 34,
   "metadata": {},
   "outputs": [
    {
     "data": {
      "text/plain": [
       "'ready'"
      ]
     },
     "execution_count": 34,
     "metadata": {},
     "output_type": "execute_result"
    }
   ],
   "source": [
    "arctoparq.deploy(skip_deployed=True, with_mlrun=False)"
   ]
  },
  {
   "cell_type": "code",
   "execution_count": 35,
   "metadata": {},
   "outputs": [
    {
     "name": "stdout",
     "output_type": "stream",
     "text": [
      "[mlrun] 2020-01-27 23:25:09,450 starting run arc2parq uid=c8f9525e5258489ea1211312348b21e1  -> http://mlrun-api:8080\n",
      "[mlrun] 2020-01-27 23:25:09,545 Job is running in the background, pod: arc2parq-lw6ww\n",
      "[mlrun] 2020-01-27 23:25:14,326 destination file does not exist, downloading\n",
      "[mlrun] 2020-01-27 23:36:53,211 saved table to /User/mlrun/airlines/dataset/partitions\n",
      "\n",
      "[mlrun] 2020-01-27 23:36:53,223 run executed, status=completed\n",
      "final state: succeeded\n"
     ]
    },
    {
     "data": {
      "text/html": [
       "<style> \n",
       ".dictlist {\n",
       "  background-color: #b3edff; \n",
       "  text-align: center; \n",
       "  margin: 4px; \n",
       "  border-radius: 3px; padding: 0px 3px 1px 3px; display: inline-block;}\n",
       ".artifact {\n",
       "  cursor: pointer; \n",
       "  background-color: #ffe6cc; \n",
       "  text-align: left; \n",
       "  margin: 4px; border-radius: 3px; padding: 0px 3px 1px 3px; display: inline-block;\n",
       "}\n",
       "div.block.hidden {\n",
       "  display: none;\n",
       "}\n",
       ".clickable {\n",
       "  cursor: pointer;\n",
       "}\n",
       ".ellipsis {\n",
       "  display: inline-block;\n",
       "  max-width: 60px;\n",
       "  white-space: nowrap;\n",
       "  overflow: hidden;\n",
       "  text-overflow: ellipsis;\n",
       "}\n",
       ".master-wrapper {\n",
       "  display: flex;\n",
       "  flex-flow: row nowrap;\n",
       "  justify-content: flex-start;\n",
       "  align-items: stretch;\n",
       "}\n",
       ".master-tbl {\n",
       "  flex: 3\n",
       "}\n",
       ".master-wrapper > div {\n",
       "  margin: 4px;\n",
       "  padding: 10px;\n",
       "}\n",
       "iframe.fileview {\n",
       "  border: 0 none;\n",
       "  height: 100%;\n",
       "  width: 100%;\n",
       "  white-space: pre-wrap;\n",
       "}\n",
       ".pane-header-title {\n",
       "  width: 80%;\n",
       "  font-weight: 500;\n",
       "}\n",
       ".pane-header {\n",
       "  line-height: 1;\n",
       "  background-color: #ffe6cc;\n",
       "  padding: 3px;\n",
       "}\n",
       ".pane-header .close {\n",
       "  font-size: 20px;\n",
       "  font-weight: 700;\n",
       "  float: right;\n",
       "  margin-top: -5px;\n",
       "}\n",
       ".master-wrapper .right-pane {\n",
       "  border: 1px inset silver;\n",
       "  width: 40%;\n",
       "  min-height: 300px;\n",
       "  flex: 3\n",
       "  min-width: 500px;\n",
       "}\n",
       ".master-wrapper * {\n",
       "  box-sizing: border-box;\n",
       "}\n",
       "</style><script>\n",
       "function copyToClipboard(fld) {\n",
       "    if (document.queryCommandSupported && document.queryCommandSupported('copy')) {\n",
       "        var textarea = document.createElement('textarea');\n",
       "        textarea.textContent = fld.innerHTML;\n",
       "        textarea.style.position = 'fixed';\n",
       "        document.body.appendChild(textarea);\n",
       "        textarea.select();\n",
       "\n",
       "        try {\n",
       "            return document.execCommand('copy'); // Security exception may be thrown by some browsers.\n",
       "        } catch (ex) {\n",
       "\n",
       "        } finally {\n",
       "            document.body.removeChild(textarea);\n",
       "        }\n",
       "    }\n",
       "}\n",
       "function expandPanel(el) {\n",
       "  const panelName = \"#\" + el.getAttribute('paneName');\n",
       "  console.log(el.title);\n",
       "\n",
       "  document.querySelector(panelName + \"-title\").innerHTML = el.title\n",
       "  iframe = document.querySelector(panelName + \"-body\");\n",
       "  \n",
       "  const tblcss = `<style> body { font-family: Arial, Helvetica, sans-serif;}\n",
       "    #csv { margin-bottom: 15px; }\n",
       "    #csv table { border-collapse: collapse;}\n",
       "    #csv table td { padding: 4px 8px; border: 1px solid silver;} </style>`;\n",
       "\n",
       "  function csvToHtmlTable(str) {\n",
       "    return '<div id=\"csv\"><table><tr><td>' +  str.replace(/[\\n\\r]+$/g, '').replace(/[\\n\\r]+/g, '</td></tr><tr><td>')\n",
       "      .replace(/,/g, '</td><td>') + '</td></tr></table></div>';\n",
       "  }\n",
       "  \n",
       "  function reqListener () {\n",
       "    if (el.title.endsWith(\".csv\")) {\n",
       "      iframe.setAttribute(\"srcdoc\", tblcss + csvToHtmlTable(this.responseText));\n",
       "    } else {\n",
       "      iframe.setAttribute(\"srcdoc\", this.responseText);\n",
       "    }  \n",
       "    console.log(this.responseText);\n",
       "  }\n",
       "\n",
       "  const oReq = new XMLHttpRequest();\n",
       "  oReq.addEventListener(\"load\", reqListener);\n",
       "  oReq.open(\"GET\", el.title);\n",
       "  oReq.send();\n",
       "  \n",
       "  \n",
       "  //iframe.src = el.title;\n",
       "  const resultPane = document.querySelector(panelName + \"-pane\");\n",
       "  if (resultPane.classList.contains(\"hidden\")) {\n",
       "    resultPane.classList.remove(\"hidden\");\n",
       "  }\n",
       "}\n",
       "function closePanel(el) {\n",
       "  const panelName = \"#\" + el.getAttribute('paneName')\n",
       "  const resultPane = document.querySelector(panelName + \"-pane\");\n",
       "  if (!resultPane.classList.contains(\"hidden\")) {\n",
       "    resultPane.classList.add(\"hidden\");\n",
       "  }\n",
       "}\n",
       "\n",
       "</script>\n",
       "<div class=\"master-wrapper\">\n",
       "  <div class=\"block master-tbl\"><div>\n",
       "<style scoped>\n",
       "    .dataframe tbody tr th:only-of-type {\n",
       "        vertical-align: middle;\n",
       "    }\n",
       "\n",
       "    .dataframe tbody tr th {\n",
       "        vertical-align: top;\n",
       "    }\n",
       "\n",
       "    .dataframe thead th {\n",
       "        text-align: right;\n",
       "    }\n",
       "</style>\n",
       "<table border=\"1\" class=\"dataframe\">\n",
       "  <thead>\n",
       "    <tr style=\"text-align: right;\">\n",
       "      <th>uid</th>\n",
       "      <th>iter</th>\n",
       "      <th>start</th>\n",
       "      <th>state</th>\n",
       "      <th>name</th>\n",
       "      <th>labels</th>\n",
       "      <th>inputs</th>\n",
       "      <th>parameters</th>\n",
       "      <th>results</th>\n",
       "      <th>artifacts</th>\n",
       "    </tr>\n",
       "  </thead>\n",
       "  <tbody>\n",
       "    <tr>\n",
       "      <td><div title=\"c8f9525e5258489ea1211312348b21e1\">...8b21e1</div></td>\n",
       "      <td>0</td>\n",
       "      <td>Jan 27 23:25:14</td>\n",
       "      <td>completed</td>\n",
       "      <td>arc-to-parquet</td>\n",
       "      <td><div class=\"dictlist\">host=arc2parq-lw6ww</div><div class=\"dictlist\">kind=job</div><div class=\"dictlist\">owner=admin</div></td>\n",
       "      <td></td>\n",
       "      <td><div class=\"dictlist\">archive_url=https://s3.amazonaws.com/h2o-airlines-unpacked/allyears.csv</div><div class=\"dictlist\">dataset=partitions</div><div class=\"dictlist\">dtype={'AirTime': 'float32', 'ArrTime': 'float32', 'CRSElapsedTime': 'float32', 'CarrierDelay': 'float32', 'DepTime': 'float32', 'Distance': 'float32', 'LateAircraftDelay': 'float32', 'NASDelay': 'float32', 'SecurityDelay': 'float32', 'TailNum': 'str', 'TaxiIn': 'float32', 'TaxiOut': 'float32', 'WeatherDelay': 'float32'}</div><div class=\"dictlist\">encoding=latin-1</div><div class=\"dictlist\">inc_cols=['Year', 'Month', 'DayofMonth', 'DayOfWeek', 'DepTime', 'CRSDepTime', 'ArrTime', 'CRSArrTime', 'UniqueCarrier', 'FlightNum', 'CRSElapsedTime', 'AirTime', 'Origin', 'Dest', 'Distance', 'TaxiIn', 'TaxiOut', 'Cancelled', 'CarrierDelay', 'WeatherDelay', 'NASDelay', 'SecurityDelay', 'LateAircraftDelay']</div><div class=\"dictlist\">key=airlines</div><div class=\"dictlist\">name=airlines.pqt</div><div class=\"dictlist\">part_cols=['Year', 'Month']</div><div class=\"dictlist\">target_path=/User/mlrun/airlines/dataset</div></td>\n",
       "      <td></td>\n",
       "      <td></td>\n",
       "    </tr>\n",
       "  </tbody>\n",
       "</table>\n",
       "</div></div>\n",
       "  <div id=\"result068b77d8-pane\" class=\"right-pane block hidden\">\n",
       "    <div class=\"pane-header\">\n",
       "      <span id=\"result068b77d8-title\" class=\"pane-header-title\">Title</span>\n",
       "      <span onclick=\"closePanel(this)\" paneName=\"result068b77d8\" class=\"close clickable\">&times;</span>\n",
       "    </div>\n",
       "    <iframe class=\"fileview\" id=\"result068b77d8-body\"></iframe>\n",
       "  </div>\n",
       "</div>\n"
      ],
      "text/plain": [
       "<IPython.core.display.HTML object>"
      ]
     },
     "metadata": {},
     "output_type": "display_data"
    },
    {
     "name": "stdout",
     "output_type": "stream",
     "text": [
      "to track results use .show() or .logs() or in CLI: \n",
      "!mlrun get run c8f9525e5258489ea1211312348b21e1  , !mlrun logs c8f9525e5258489ea1211312348b21e1 \n",
      "[mlrun] 2020-01-27 23:37:01,852 run executed, status=completed\n"
     ]
    }
   ],
   "source": [
    "# create and run the task\n",
    "arc_to_parq_task = mlrun.NewTask(\n",
    "    'arc2parq', \n",
    "    handler='arc_to_parquet',  \n",
    "    params={\n",
    "        'target_path': TARGET_PATH,\n",
    "        'name'       : FILE_NAME, \n",
    "        'key'        : KEY,\n",
    "        'archive_url': USE_ARCHIVE,\n",
    "        'dataset'    : PARTITIONS_DEST,\n",
    "        'part_cols'  : PARTITION_COLS,\n",
    "        'encoding'   : ENCODING,\n",
    "        'inc_cols'   : INC_COLS,\n",
    "        'dtype'      : DTYPES_COLS})\n",
    "# run\n",
    "run = arctoparq.run(arc_to_parq_task)"
   ]
  },
  {
   "cell_type": "markdown",
   "metadata": {},
   "source": [
    "___"
   ]
  },
  {
   "cell_type": "markdown",
   "metadata": {},
   "source": [
    "## tests"
   ]
  },
  {
   "cell_type": "markdown",
   "metadata": {},
   "source": [
    "### a partitioned parquet table"
   ]
  },
  {
   "cell_type": "code",
   "execution_count": 21,
   "metadata": {},
   "outputs": [],
   "source": [
    "dataset = pq.ParquetDataset(os.path.join(TARGET_PATH, PARTITIONS_DEST))\n",
    "df = dataset.read().to_pandas()"
   ]
  },
  {
   "cell_type": "code",
   "execution_count": 22,
   "metadata": {},
   "outputs": [],
   "source": [
    "df.set_index(PARTITION_COLS, inplace=True)"
   ]
  },
  {
   "cell_type": "code",
   "execution_count": 23,
   "metadata": {},
   "outputs": [
    {
     "data": {
      "text/html": [
       "<div>\n",
       "<style scoped>\n",
       "    .dataframe tbody tr th:only-of-type {\n",
       "        vertical-align: middle;\n",
       "    }\n",
       "\n",
       "    .dataframe tbody tr th {\n",
       "        vertical-align: top;\n",
       "    }\n",
       "\n",
       "    .dataframe thead th {\n",
       "        text-align: right;\n",
       "    }\n",
       "</style>\n",
       "<table border=\"1\" class=\"dataframe\">\n",
       "  <thead>\n",
       "    <tr style=\"text-align: right;\">\n",
       "      <th></th>\n",
       "      <th></th>\n",
       "      <th>DayofMonth</th>\n",
       "      <th>DayOfWeek</th>\n",
       "      <th>DepTime</th>\n",
       "      <th>CRSDepTime</th>\n",
       "      <th>ArrTime</th>\n",
       "      <th>CRSArrTime</th>\n",
       "      <th>UniqueCarrier</th>\n",
       "      <th>FlightNum</th>\n",
       "      <th>CRSElapsedTime</th>\n",
       "      <th>AirTime</th>\n",
       "      <th>...</th>\n",
       "      <th>Dest</th>\n",
       "      <th>Distance</th>\n",
       "      <th>TaxiIn</th>\n",
       "      <th>TaxiOut</th>\n",
       "      <th>Cancelled</th>\n",
       "      <th>CarrierDelay</th>\n",
       "      <th>WeatherDelay</th>\n",
       "      <th>NASDelay</th>\n",
       "      <th>SecurityDelay</th>\n",
       "      <th>LateAircraftDelay</th>\n",
       "    </tr>\n",
       "    <tr>\n",
       "      <th>Year</th>\n",
       "      <th>Month</th>\n",
       "      <th></th>\n",
       "      <th></th>\n",
       "      <th></th>\n",
       "      <th></th>\n",
       "      <th></th>\n",
       "      <th></th>\n",
       "      <th></th>\n",
       "      <th></th>\n",
       "      <th></th>\n",
       "      <th></th>\n",
       "      <th></th>\n",
       "      <th></th>\n",
       "      <th></th>\n",
       "      <th></th>\n",
       "      <th></th>\n",
       "      <th></th>\n",
       "      <th></th>\n",
       "      <th></th>\n",
       "      <th></th>\n",
       "      <th></th>\n",
       "      <th></th>\n",
       "    </tr>\n",
       "  </thead>\n",
       "  <tbody>\n",
       "    <tr>\n",
       "      <th rowspan=\"5\" valign=\"top\">1992</th>\n",
       "      <th>1</th>\n",
       "      <td>7</td>\n",
       "      <td>2</td>\n",
       "      <td>640.0</td>\n",
       "      <td>640</td>\n",
       "      <td>851.0</td>\n",
       "      <td>853</td>\n",
       "      <td>US</td>\n",
       "      <td>53</td>\n",
       "      <td>133.0</td>\n",
       "      <td>NaN</td>\n",
       "      <td>...</td>\n",
       "      <td>IND</td>\n",
       "      <td>644.0</td>\n",
       "      <td>NaN</td>\n",
       "      <td>NaN</td>\n",
       "      <td>0</td>\n",
       "      <td>NaN</td>\n",
       "      <td>NaN</td>\n",
       "      <td>NaN</td>\n",
       "      <td>NaN</td>\n",
       "      <td>NaN</td>\n",
       "    </tr>\n",
       "    <tr>\n",
       "      <th>1</th>\n",
       "      <td>8</td>\n",
       "      <td>3</td>\n",
       "      <td>639.0</td>\n",
       "      <td>640</td>\n",
       "      <td>837.0</td>\n",
       "      <td>853</td>\n",
       "      <td>US</td>\n",
       "      <td>53</td>\n",
       "      <td>133.0</td>\n",
       "      <td>NaN</td>\n",
       "      <td>...</td>\n",
       "      <td>IND</td>\n",
       "      <td>644.0</td>\n",
       "      <td>NaN</td>\n",
       "      <td>NaN</td>\n",
       "      <td>0</td>\n",
       "      <td>NaN</td>\n",
       "      <td>NaN</td>\n",
       "      <td>NaN</td>\n",
       "      <td>NaN</td>\n",
       "      <td>NaN</td>\n",
       "    </tr>\n",
       "    <tr>\n",
       "      <th>1</th>\n",
       "      <td>9</td>\n",
       "      <td>4</td>\n",
       "      <td>644.0</td>\n",
       "      <td>640</td>\n",
       "      <td>905.0</td>\n",
       "      <td>853</td>\n",
       "      <td>US</td>\n",
       "      <td>53</td>\n",
       "      <td>133.0</td>\n",
       "      <td>NaN</td>\n",
       "      <td>...</td>\n",
       "      <td>IND</td>\n",
       "      <td>644.0</td>\n",
       "      <td>NaN</td>\n",
       "      <td>NaN</td>\n",
       "      <td>0</td>\n",
       "      <td>NaN</td>\n",
       "      <td>NaN</td>\n",
       "      <td>NaN</td>\n",
       "      <td>NaN</td>\n",
       "      <td>NaN</td>\n",
       "    </tr>\n",
       "    <tr>\n",
       "      <th>1</th>\n",
       "      <td>11</td>\n",
       "      <td>6</td>\n",
       "      <td>640.0</td>\n",
       "      <td>640</td>\n",
       "      <td>834.0</td>\n",
       "      <td>853</td>\n",
       "      <td>US</td>\n",
       "      <td>53</td>\n",
       "      <td>133.0</td>\n",
       "      <td>NaN</td>\n",
       "      <td>...</td>\n",
       "      <td>IND</td>\n",
       "      <td>644.0</td>\n",
       "      <td>NaN</td>\n",
       "      <td>NaN</td>\n",
       "      <td>0</td>\n",
       "      <td>NaN</td>\n",
       "      <td>NaN</td>\n",
       "      <td>NaN</td>\n",
       "      <td>NaN</td>\n",
       "      <td>NaN</td>\n",
       "    </tr>\n",
       "    <tr>\n",
       "      <th>1</th>\n",
       "      <td>12</td>\n",
       "      <td>7</td>\n",
       "      <td>639.0</td>\n",
       "      <td>640</td>\n",
       "      <td>832.0</td>\n",
       "      <td>853</td>\n",
       "      <td>US</td>\n",
       "      <td>53</td>\n",
       "      <td>133.0</td>\n",
       "      <td>NaN</td>\n",
       "      <td>...</td>\n",
       "      <td>IND</td>\n",
       "      <td>644.0</td>\n",
       "      <td>NaN</td>\n",
       "      <td>NaN</td>\n",
       "      <td>0</td>\n",
       "      <td>NaN</td>\n",
       "      <td>NaN</td>\n",
       "      <td>NaN</td>\n",
       "      <td>NaN</td>\n",
       "      <td>NaN</td>\n",
       "    </tr>\n",
       "  </tbody>\n",
       "</table>\n",
       "<p>5 rows × 21 columns</p>\n",
       "</div>"
      ],
      "text/plain": [
       "            DayofMonth  DayOfWeek  DepTime  CRSDepTime  ArrTime  CRSArrTime  \\\n",
       "Year Month                                                                    \n",
       "1992 1      7           2          640.0    640         851.0    853          \n",
       "     1      8           3          639.0    640         837.0    853          \n",
       "     1      9           4          644.0    640         905.0    853          \n",
       "     1      11          6          640.0    640         834.0    853          \n",
       "     1      12          7          639.0    640         832.0    853          \n",
       "\n",
       "           UniqueCarrier  FlightNum  CRSElapsedTime  AirTime  ... Dest  \\\n",
       "Year Month                                                    ...        \n",
       "1992 1      US            53         133.0          NaN       ...  IND   \n",
       "     1      US            53         133.0          NaN       ...  IND   \n",
       "     1      US            53         133.0          NaN       ...  IND   \n",
       "     1      US            53         133.0          NaN       ...  IND   \n",
       "     1      US            53         133.0          NaN       ...  IND   \n",
       "\n",
       "           Distance  TaxiIn  TaxiOut  Cancelled  CarrierDelay  WeatherDelay  \\\n",
       "Year Month                                                                    \n",
       "1992 1      644.0   NaN     NaN       0         NaN           NaN             \n",
       "     1      644.0   NaN     NaN       0         NaN           NaN             \n",
       "     1      644.0   NaN     NaN       0         NaN           NaN             \n",
       "     1      644.0   NaN     NaN       0         NaN           NaN             \n",
       "     1      644.0   NaN     NaN       0         NaN           NaN             \n",
       "\n",
       "            NASDelay  SecurityDelay  LateAircraftDelay  \n",
       "Year Month                                              \n",
       "1992 1     NaN       NaN            NaN                 \n",
       "     1     NaN       NaN            NaN                 \n",
       "     1     NaN       NaN            NaN                 \n",
       "     1     NaN       NaN            NaN                 \n",
       "     1     NaN       NaN            NaN                 \n",
       "\n",
       "[5 rows x 21 columns]"
      ]
     },
     "execution_count": 23,
     "metadata": {},
     "output_type": "execute_result"
    }
   ],
   "source": [
    "df.head()"
   ]
  },
  {
   "cell_type": "code",
   "execution_count": 24,
   "metadata": {},
   "outputs": [],
   "source": [
    "if USE_ARCHIVE == ARCHIVE:\n",
    "    assert df.shape==(123_534_969, 21)\n",
    "if USE_ARCHIVE == ARCHIVE_SMALL:\n",
    "    assert df.shape==(43_978, 21)"
   ]
  },
  {
   "cell_type": "markdown",
   "metadata": {},
   "source": [
    "## cleanup"
   ]
  },
  {
   "cell_type": "code",
   "execution_count": 25,
   "metadata": {},
   "outputs": [],
   "source": [
    "import shutil\n",
    "shutil.rmtree(TARGET_PATH)"
   ]
  },
  {
   "cell_type": "markdown",
   "metadata": {},
   "source": [
    "### single parquet file\n",
    "\n",
    "run this only when `dataset=False`"
   ]
  },
  {
   "cell_type": "code",
   "execution_count": null,
   "metadata": {},
   "outputs": [],
   "source": [
    "assert KEY in run.outputs.keys(), f\"mlrun.functions: key {KEY} not found in outputs\"\n",
    "assert os.path.isfile(TARGET_PATH+'/'+ FILE_NAME),  f\"mlrun.functions: artifact source not found at {TARGET_PATH+'/'+ FILE_NAME}\""
   ]
  },
  {
   "cell_type": "code",
   "execution_count": null,
   "metadata": {},
   "outputs": [],
   "source": [
    "copied   = pd.read_parquet(TARGET_PATH+'/'+ FILE_NAME, engine=\"pyarrow\")\n",
    "copied.set_index(PARTITION_COLS, inplace=True)"
   ]
  },
  {
   "cell_type": "code",
   "execution_count": null,
   "metadata": {},
   "outputs": [],
   "source": [
    "copied.head()"
   ]
  },
  {
   "cell_type": "code",
   "execution_count": null,
   "metadata": {},
   "outputs": [],
   "source": []
  }
 ],
 "metadata": {
  "kernelspec": {
   "display_name": "Python 3",
   "language": "python",
   "name": "python3"
  },
  "language_info": {
   "codemirror_mode": {
    "name": "ipython",
    "version": 3
   },
   "file_extension": ".py",
   "mimetype": "text/x-python",
   "name": "python",
   "nbconvert_exporter": "python",
   "pygments_lexer": "ipython3",
   "version": "3.6.8"
  }
 },
 "nbformat": 4,
 "nbformat_minor": 4
}
