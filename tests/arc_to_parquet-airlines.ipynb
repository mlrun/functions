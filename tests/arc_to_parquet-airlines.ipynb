{
 "cells": [
  {
   "cell_type": "markdown",
   "metadata": {},
   "source": [
    "# archive to parquet\n",
    "\n",
    "Convert a remote archive or csv file (or local file://), to parquet format"
   ]
  },
  {
   "cell_type": "code",
   "execution_count": 1,
   "metadata": {},
   "outputs": [],
   "source": [
    "import mlrun\n",
    "import os\n",
    "mlrun.mlconf.dbpath = 'http://mlrun-api:8080'"
   ]
  },
  {
   "cell_type": "code",
   "execution_count": 2,
   "metadata": {},
   "outputs": [],
   "source": [
    "import numpy as np\n",
    "import pandas as pd\n",
    "import pyarrow as pa\n",
    "import pyarrow.parquet as pq"
   ]
  },
  {
   "cell_type": "markdown",
   "metadata": {},
   "source": [
    "## parameters\n"
   ]
  },
  {
   "cell_type": "code",
   "execution_count": 15,
   "metadata": {},
   "outputs": [],
   "source": [
    "BASE_IMAGE         = 'yjbds/mlrun-files:latest'\n",
    "\n",
    "CODE_BASE          = '/User/repos/functions/'\n",
    "PROJECT            = 'fileutils/arc_to_parquet'\n",
    "\n",
    "TARGET_PATH        = '/User/mlrun/airlines/dataset'\n",
    "\n",
    "ARCHIVE_BIG        = \"https://s3.amazonaws.com/h2o-airlines-unpacked/allyears_10.csv\"\n",
    "ARCHIVE            = \"https://s3.amazonaws.com/h2o-airlines-unpacked/allyears.csv\"\n",
    "ARCHIVE_SMALL      = \"https://s3.amazonaws.com/h2o-airlines-unpacked/allyears2k.csv\""
   ]
  },
  {
   "cell_type": "markdown",
   "metadata": {},
   "source": [
    "**For testing and development use ARCHIVE_SMALL:**"
   ]
  },
  {
   "cell_type": "code",
   "execution_count": 4,
   "metadata": {},
   "outputs": [],
   "source": [
    "USE_ARCHIVE = ARCHIVE"
   ]
  },
  {
   "cell_type": "code",
   "execution_count": 19,
   "metadata": {},
   "outputs": [],
   "source": [
    "FILE_NAME          = 'airlines.pqt'\n",
    "KEY                = 'airlines'\n",
    "\n",
    "# no need for this as the files contain a header:\n",
    "HEADER = ['Year','Month','DayofMonth','DayOfWeek','DepTime','CRSDepTime','ArrTime','CRSArrTime',\n",
    "          'UniqueCarrier','FlightNum','TailNum','ActualElapsedTime','CRSElapsedTime','AirTime',\n",
    "          'ArrDelay','DepDelay','Origin','Dest','Distance','TaxiIn','TaxiOut','Cancelled',\n",
    "          'CancellationCode','Diverted','CarrierDelay','WeatherDelay','NASDelay','SecurityDelay',\n",
    "          'LateAircraftDelay']\n",
    "INC_COLS = ['Year','Month','DayofMonth','DayOfWeek','DepTime','CRSDepTime','ArrTime','CRSArrTime',\n",
    "          'UniqueCarrier','FlightNum', 'CRSElapsedTime','AirTime',\n",
    "          'Origin','Dest','Distance','TaxiOut','Cancelled',\n",
    "          'CarrierDelay','WeatherDelay','NASDelay','SecurityDelay',\n",
    "          'LateAircraftDelay']\n",
    "\n",
    "ENCODING = 'latin-1'\n",
    "\n",
    "DTYPES_COLS = {\n",
    "     'CRSElapsedTime': 'float64', \n",
    "     'TailNum': 'str', \n",
    "     'Distance': 'float64', \n",
    "     'TaxiOut': 'float64',\n",
    "     'ArrTime': 'float64',\n",
    "     'DepTime':'float64', \n",
    "     'CarrierDelay': 'float64', \n",
    "     'WeatherDelay': 'float64', \n",
    "     'NASDelay':'float64', \n",
    "     'SecurityDelay':'float64', \n",
    "     'LateAircraftDelay':'float64'}\n",
    "\n",
    "USE_PARTITIONS = True\n",
    "PARTITION_COLS = ['Year', 'Month']"
   ]
  },
  {
   "cell_type": "code",
   "execution_count": 6,
   "metadata": {},
   "outputs": [],
   "source": [
    "os.makedirs(TARGET_PATH, exist_ok=True)"
   ]
  },
  {
   "cell_type": "markdown",
   "metadata": {},
   "source": [
    "## load and configure function\n",
    "\n",
    "**If run the first time, create the function:**"
   ]
  },
  {
   "cell_type": "code",
   "execution_count": 7,
   "metadata": {},
   "outputs": [
    {
     "name": "stdout",
     "output_type": "stream",
     "text": [
      "[mlrun] 2020-01-27 19:05:25,830 function spec saved to path: /User/repos/functions/fileutils/arc_to_parquet/arc_to_parquet.yaml\n"
     ]
    }
   ],
   "source": [
    "# load function from a local Python file\n",
    "arctoparq = mlrun.code_to_function(\n",
    "    filename=os.path.join(CODE_BASE, PROJECT, 'arc_to_parquet.py'), \n",
    "    kind='job')\n",
    "arctoparq.build_config(base_image=BASE_IMAGE, commands=[])\n",
    "yaml_name = os.path.join(CODE_BASE, PROJECT, 'arc_to_parquet.yaml')\n",
    "arctoparq.export(yaml_name)"
   ]
  },
  {
   "cell_type": "markdown",
   "metadata": {},
   "source": [
    "**otherwise load it:**"
   ]
  },
  {
   "cell_type": "code",
   "execution_count": 8,
   "metadata": {},
   "outputs": [],
   "source": [
    "arctoparq = mlrun.import_function(\n",
    "    os.path.join(CODE_BASE, PROJECT, 'arc_to_parquet.yaml')\n",
    ").apply(mlrun.mount_v3io())"
   ]
  },
  {
   "cell_type": "markdown",
   "metadata": {},
   "source": [
    "## deploy / build"
   ]
  },
  {
   "cell_type": "markdown",
   "metadata": {},
   "source": [
    "The following triggers a build when run for the first time using specs found in the yaml file above."
   ]
  },
  {
   "cell_type": "code",
   "execution_count": 9,
   "metadata": {},
   "outputs": [
    {
     "data": {
      "text/plain": [
       "'ready'"
      ]
     },
     "execution_count": 9,
     "metadata": {},
     "output_type": "execute_result"
    }
   ],
   "source": [
    "arctoparq.deploy(skip_deployed=True, with_mlrun=False)"
   ]
  },
  {
   "cell_type": "code",
   "execution_count": null,
   "metadata": {},
   "outputs": [
    {
     "name": "stdout",
     "output_type": "stream",
     "text": [
      "[mlrun] 2020-01-27 19:21:20,254 starting run arc2parq uid=d3a5446edb94436d91efe4b2d7c64c2b  -> http://mlrun-api:8080\n",
      "[mlrun] 2020-01-27 19:21:20,379 Job is running in the background, pod: arc2parq-5qs84\n"
     ]
    }
   ],
   "source": [
    "%%time\n",
    "# create and run the task\n",
    "arc_to_parq_task = mlrun.NewTask(\n",
    "    'arc2parq', \n",
    "    handler='arc_to_parquet',  \n",
    "    params={\n",
    "        'target_path': TARGET_PATH,\n",
    "        'name'       : FILE_NAME, \n",
    "        'key'        : KEY,\n",
    "        'archive_url': USE_ARCHIVE,\n",
    "        'dataset'    : USE_PARTITIONS,\n",
    "        'part_cols'  : PARTITION_COLS,\n",
    "        'encoding'   : ENCODING,\n",
    "        'inc_cols'   : INC_COLS,\n",
    "        'dtype'      : DTYPES_COLS})\n",
    "# run\n",
    "run = arctoparq.run(arc_to_parq_task)"
   ]
  },
  {
   "cell_type": "markdown",
   "metadata": {},
   "source": [
    "___"
   ]
  },
  {
   "cell_type": "markdown",
   "metadata": {},
   "source": [
    "## tests"
   ]
  },
  {
   "cell_type": "markdown",
   "metadata": {},
   "source": [
    "### a partitioned parquet table"
   ]
  },
  {
   "cell_type": "code",
   "execution_count": 16,
   "metadata": {},
   "outputs": [
    {
     "ename": "ValueError",
     "evalue": "Schema in /User/mlrun/airlines/dataset/1278d2c85afc40cabc8e5add8d12892e.parquet was different. \nYear: int64\nMonth: int64\nDayofMonth: int64\nDayOfWeek: int64\nDepTime: double\nCRSDepTime: int64\nArrTime: int64\nCRSArrTime: int64\nUniqueCarrier: string\nFlightNum: int64\nCRSElapsedTime: double\nAirTime: int64\nOrigin: string\nDest: string\nDistance: double\nTaxiOut: double\nCancelled: int64\nCarrierDelay: double\nWeatherDelay: double\nNASDelay: double\nSecurityDelay: double\nLateAircraftDelay: double\nmetadata\n--------\nOrderedDict([(b'pandas',\n              b'{\"index_columns\": [{\"kind\": \"range\", \"name\": null, \"start\": '\n              b'95550000, \"stop\": 95560000, \"step\": 1}], \"column_indexes\": ['\n              b'{\"name\": null, \"field_name\": null, \"pandas_type\": \"unicode\",'\n              b' \"numpy_type\": \"object\", \"metadata\": {\"encoding\": \"UTF-8\"}}]'\n              b', \"columns\": [{\"name\": \"Year\", \"field_name\": \"Year\", \"pandas'\n              b'_type\": \"int64\", \"numpy_type\": \"int64\", \"metadata\": null}, {'\n              b'\"name\": \"Month\", \"field_name\": \"Month\", \"pandas_type\": \"int6'\n              b'4\", \"numpy_type\": \"int64\", \"metadata\": null}, {\"name\": \"Dayo'\n              b'fMonth\", \"field_name\": \"DayofMonth\", \"pandas_type\": \"int64\",'\n              b' \"numpy_type\": \"int64\", \"metadata\": null}, {\"name\": \"DayOfWe'\n              b'ek\", \"field_name\": \"DayOfWeek\", \"pandas_type\": \"int64\", \"num'\n              b'py_type\": \"int64\", \"metadata\": null}, {\"name\": \"DepTime\", \"f'\n              b'ield_name\": \"DepTime\", \"pandas_type\": \"float64\", \"numpy_type'\n              b'\": \"float64\", \"metadata\": null}, {\"name\": \"CRSDepTime\", \"fie'\n              b'ld_name\": \"CRSDepTime\", \"pandas_type\": \"int64\", \"numpy_type\"'\n              b': \"int64\", \"metadata\": null}, {\"name\": \"ArrTime\", \"field_nam'\n              b'e\": \"ArrTime\", \"pandas_type\": \"int64\", \"numpy_type\": \"int64\"'\n              b', \"metadata\": null}, {\"name\": \"CRSArrTime\", \"field_name\": \"C'\n              b'RSArrTime\", \"pandas_type\": \"int64\", \"numpy_type\": \"int64\", \"'\n              b'metadata\": null}, {\"name\": \"UniqueCarrier\", \"field_name\": \"U'\n              b'niqueCarrier\", \"pandas_type\": \"unicode\", \"numpy_type\": \"obje'\n              b'ct\", \"metadata\": null}, {\"name\": \"FlightNum\", \"field_name\": '\n              b'\"FlightNum\", \"pandas_type\": \"int64\", \"numpy_type\": \"int64\", '\n              b'\"metadata\": null}, {\"name\": \"CRSElapsedTime\", \"field_name\": '\n              b'\"CRSElapsedTime\", \"pandas_type\": \"float64\", \"numpy_type\": \"f'\n              b'loat64\", \"metadata\": null}, {\"name\": \"AirTime\", \"field_name\"'\n              b': \"AirTime\", \"pandas_type\": \"int64\", \"numpy_type\": \"int64\", '\n              b'\"metadata\": null}, {\"name\": \"Origin\", \"field_name\": \"Origin\"'\n              b', \"pandas_type\": \"unicode\", \"numpy_type\": \"object\", \"metadat'\n              b'a\": null}, {\"name\": \"Dest\", \"field_name\": \"Dest\", \"pandas_ty'\n              b'pe\": \"unicode\", \"numpy_type\": \"object\", \"metadata\": null}, {'\n              b'\"name\": \"Distance\", \"field_name\": \"Distance\", \"pandas_type\":'\n              b' \"float64\", \"numpy_type\": \"float64\", \"metadata\": null}, {\"na'\n              b'me\": \"TaxiOut\", \"field_name\": \"TaxiOut\", \"pandas_type\": \"flo'\n              b'at64\", \"numpy_type\": \"float64\", \"metadata\": null}, {\"name\": '\n              b'\"Cancelled\", \"field_name\": \"Cancelled\", \"pandas_type\": \"int6'\n              b'4\", \"numpy_type\": \"int64\", \"metadata\": null}, {\"name\": \"Carr'\n              b'ierDelay\", \"field_name\": \"CarrierDelay\", \"pandas_type\": \"flo'\n              b'at64\", \"numpy_type\": \"float64\", \"metadata\": null}, {\"name\": '\n              b'\"WeatherDelay\", \"field_name\": \"WeatherDelay\", \"pandas_type\":'\n              b' \"float64\", \"numpy_type\": \"float64\", \"metadata\": null}, {\"na'\n              b'me\": \"NASDelay\", \"field_name\": \"NASDelay\", \"pandas_type\": \"f'\n              b'loat64\", \"numpy_type\": \"float64\", \"metadata\": null}, {\"name\"'\n              b': \"SecurityDelay\", \"field_name\": \"SecurityDelay\", \"pandas_ty'\n              b'pe\": \"float64\", \"numpy_type\": \"float64\", \"metadata\": null}, '\n              b'{\"name\": \"LateAircraftDelay\", \"field_name\": \"LateAircraftDel'\n              b'ay\", \"pandas_type\": \"float64\", \"numpy_type\": \"float64\", \"met'\n              b'adata\": null}], \"creator\": {\"library\": \"pyarrow\", \"version\":'\n              b' \"0.15.1\"}, \"pandas_version\": \"0.25.3\"}'),\n             (b'ARROW:schema',\n              b'/////4AQAAAQAAAAAAAKAA4ABgAFAAgACgAAAAABAwAQAAAAAAAKAAwAAAAE'\n              b'AAgACgAAAJwLAAAEAAAAAQAAAAwAAAAIAAwABAAIAAgAAAAIAAAAEAAAAAYA'\n              b'AABwYW5kYXMAAGcLAAB7ImluZGV4X2NvbHVtbnMiOiBbeyJraW5kIjogInJh'\n              b'bmdlIiwgIm5hbWUiOiBudWxsLCAic3RhcnQiOiA5NTU1MDAwMCwgInN0b3Ai'\n              b'OiA5NTU2MDAwMCwgInN0ZXAiOiAxfV0sICJjb2x1bW5faW5kZXhlcyI6IFt7'\n              b'Im5hbWUiOiBudWxsLCAiZmllbGRfbmFtZSI6IG51bGwsICJwYW5kYXNfdHlw'\n              b'ZSI6ICJ1bmljb2RlIiwgIm51bXB5X3R5cGUiOiAib2JqZWN0IiwgIm1ldGFk'\n              b'YXRhIjogeyJlbmNvZGluZyI6ICJVVEYtOCJ9fV0sICJjb2x1bW5zIjogW3si'\n              b'bmFtZSI6ICJZZWFyIiwgImZpZWxkX25hbWUiOiAiWWVhciIsICJwYW5kYXNf'\n              b'dHlwZSI6ICJpbnQ2NCIsICJudW1weV90eXBlIjogImludDY0IiwgIm1ldGFk'\n              b'YXRhIjogbnVsbH0sIHsibmFtZSI6ICJNb250aCIsICJmaWVsZF9uYW1lIjog'\n              b'Ik1vbnRoIiwgInBhbmRhc190eXBlIjogImludDY0IiwgIm51bXB5X3R5cGUi'\n              b'OiAiaW50NjQiLCAibWV0YWRhdGEiOiBudWxsfSwgeyJuYW1lIjogIkRheW9m'\n              b'TW9udGgiLCAiZmllbGRfbmFtZSI6ICJEYXlvZk1vbnRoIiwgInBhbmRhc190'\n              b'eXBlIjogImludDY0IiwgIm51bXB5X3R5cGUiOiAiaW50NjQiLCAibWV0YWRh'\n              b'dGEiOiBudWxsfSwgeyJuYW1lIjogIkRheU9mV2VlayIsICJmaWVsZF9uYW1l'\n              b'IjogIkRheU9mV2VlayIsICJwYW5kYXNfdHlwZSI6ICJpbnQ2NCIsICJudW1w'\n              b'eV90eXBlIjogImludDY0IiwgIm1ldGFkYXRhIjogbnVsbH0sIHsibmFtZSI6'\n              b'ICJEZXBUaW1lIiwgImZpZWxkX25hbWUiOiAiRGVwVGltZSIsICJwYW5kYXNf'\n              b'dHlwZSI6ICJmbG9hdDY0IiwgIm51bXB5X3R5cGUiOiAiZmxvYXQ2NCIsICJt'\n              b'ZXRhZGF0YSI6IG51bGx9LCB7Im5hbWUiOiAiQ1JTRGVwVGltZSIsICJmaWVs'\n              b'ZF9uYW1lIjogIkNSU0RlcFRpbWUiLCAicGFuZGFzX3R5cGUiOiAiaW50NjQi'\n              b'LCAibnVtcHlfdHlwZSI6ICJpbnQ2NCIsICJtZXRhZGF0YSI6IG51bGx9LCB7'\n              b'Im5hbWUiOiAiQXJyVGltZSIsICJmaWVsZF9uYW1lIjogIkFyclRpbWUiLCAi'\n              b'cGFuZGFzX3R5cGUiOiAiaW50NjQiLCAibnVtcHlfdHlwZSI6ICJpbnQ2NCIs'\n              b'ICJtZXRhZGF0YSI6IG51bGx9LCB7Im5hbWUiOiAiQ1JTQXJyVGltZSIsICJm'\n              b'aWVsZF9uYW1lIjogIkNSU0FyclRpbWUiLCAicGFuZGFzX3R5cGUiOiAiaW50'\n              b'NjQiLCAibnVtcHlfdHlwZSI6ICJpbnQ2NCIsICJtZXRhZGF0YSI6IG51bGx9'\n              b'LCB7Im5hbWUiOiAiVW5pcXVlQ2FycmllciIsICJmaWVsZF9uYW1lIjogIlVu'\n              b'aXF1ZUNhcnJpZXIiLCAicGFuZGFzX3R5cGUiOiAidW5pY29kZSIsICJudW1w'\n              b'eV90eXBlIjogIm9iamVjdCIsICJtZXRhZGF0YSI6IG51bGx9LCB7Im5hbWUi'\n              b'OiAiRmxpZ2h0TnVtIiwgImZpZWxkX25hbWUiOiAiRmxpZ2h0TnVtIiwgInBh'\n              b'bmRhc190eXBlIjogImludDY0IiwgIm51bXB5X3R5cGUiOiAiaW50NjQiLCAi'\n              b'bWV0YWRhdGEiOiBudWxsfSwgeyJuYW1lIjogIkNSU0VsYXBzZWRUaW1lIiwg'\n              b'ImZpZWxkX25hbWUiOiAiQ1JTRWxhcHNlZFRpbWUiLCAicGFuZGFzX3R5cGUi'\n              b'OiAiZmxvYXQ2NCIsICJudW1weV90eXBlIjogImZsb2F0NjQiLCAibWV0YWRh'\n              b'dGEiOiBudWxsfSwgeyJuYW1lIjogIkFpclRpbWUiLCAiZmllbGRfbmFtZSI6'\n              b'ICJBaXJUaW1lIiwgInBhbmRhc190eXBlIjogImludDY0IiwgIm51bXB5X3R5'\n              b'cGUiOiAiaW50NjQiLCAibWV0YWRhdGEiOiBudWxsfSwgeyJuYW1lIjogIk9y'\n              b'aWdpbiIsICJmaWVsZF9uYW1lIjogIk9yaWdpbiIsICJwYW5kYXNfdHlwZSI6'\n              b'ICJ1bmljb2RlIiwgIm51bXB5X3R5cGUiOiAib2JqZWN0IiwgIm1ldGFkYXRh'\n              b'IjogbnVsbH0sIHsibmFtZSI6ICJEZXN0IiwgImZpZWxkX25hbWUiOiAiRGVz'\n              b'dCIsICJwYW5kYXNfdHlwZSI6ICJ1bmljb2RlIiwgIm51bXB5X3R5cGUiOiAi'\n              b'b2JqZWN0IiwgIm1ldGFkYXRhIjogbnVsbH0sIHsibmFtZSI6ICJEaXN0YW5j'\n              b'ZSIsICJmaWVsZF9uYW1lIjogIkRpc3RhbmNlIiwgInBhbmRhc190eXBlIjog'\n              b'ImZsb2F0NjQiLCAibnVtcHlfdHlwZSI6ICJmbG9hdDY0IiwgIm1ldGFkYXRh'\n              b'IjogbnVsbH0sIHsibmFtZSI6ICJUYXhpT3V0IiwgImZpZWxkX25hbWUiOiAi'\n              b'VGF4aU91dCIsICJwYW5kYXNfdHlwZSI6ICJmbG9hdDY0IiwgIm51bXB5X3R5'\n              b'cGUiOiAiZmxvYXQ2NCIsICJtZXRhZGF0YSI6IG51bGx9LCB7Im5hbWUiOiAi'\n              b'Q2FuY2VsbGVkIiwgImZpZWxkX25hbWUiOiAiQ2FuY2VsbGVkIiwgInBhbmRh'\n              b'c190eXBlIjogImludDY0IiwgIm51bXB5X3R5cGUiOiAiaW50NjQiLCAibWV0'\n              b'YWRhdGEiOiBudWxsfSwgeyJuYW1lIjogIkNhcnJpZXJEZWxheSIsICJmaWVs'\n              b'ZF9uYW1lIjogIkNhcnJpZXJEZWxheSIsICJwYW5kYXNfdHlwZSI6ICJmbG9h'\n              b'dDY0IiwgIm51bXB5X3R5cGUiOiAiZmxvYXQ2NCIsICJtZXRhZGF0YSI6IG51'\n              b'bGx9LCB7Im5hbWUiOiAiV2VhdGhlckRlbGF5IiwgImZpZWxkX25hbWUiOiAi'\n              b'V2VhdGhlckRlbGF5IiwgInBhbmRhc190eXBlIjogImZsb2F0NjQiLCAibnVt'\n              b'cHlfdHlwZSI6ICJmbG9hdDY0IiwgIm1ldGFkYXRhIjogbnVsbH0sIHsibmFt'\n              b'ZSI6ICJOQVNEZWxheSIsICJmaWVsZF9uYW1lIjogIk5BU0RlbGF5IiwgInBh'\n              b'bmRhc190eXBlIjogImZsb2F0NjQiLCAibnVtcHlfdHlwZSI6ICJmbG9hdDY0'\n              b'IiwgIm1ldGFkYXRhIjogbnVsbH0sIHsibmFtZSI6ICJTZWN1cml0eURlbGF5'\n              b'IiwgImZpZWxkX25hbWUiOiAiU2VjdXJpdHlEZWxheSIsICJwYW5kYXNfdHlw'\n              b'ZSI6ICJmbG9hdDY0IiwgIm51bXB5X3R5cGUiOiAiZmxvYXQ2NCIsICJtZXRh'\n              b'ZGF0YSI6IG51bGx9LCB7Im5hbWUiOiAiTGF0ZUFpcmNyYWZ0RGVsYXkiLCAi'\n              b'ZmllbGRfbmFtZSI6ICJMYXRlQWlyY3JhZnREZWxheSIsICJwYW5kYXNfdHlw'\n              b'ZSI6ICJmbG9hdDY0IiwgIm51bXB5X3R5cGUiOiAiZmxvYXQ2NCIsICJtZXRh'\n              b'ZGF0YSI6IG51bGx9XSwgImNyZWF0b3IiOiB7ImxpYnJhcnkiOiAicHlhcnJv'\n              b'dyIsICJ2ZXJzaW9uIjogIjAuMTUuMSJ9LCAicGFuZGFzX3ZlcnNpb24iOiAi'\n              b'MC4yNS4zIn0AFgAAAHwEAAA4BAAAAAQAAMgDAACQAwAAWAMAACQDAADsAgAA'\n              b'tAIAAHwCAABEAgAAEAIAAOQBAAC4AQAAhAEAAFQBAAAcAQAA5AAAAKwAAAB4'\n              b'AAAAQAAAAAQAAADs+///AAABAxgAAAAMAAAABAAAAAAAAAC2/P//AAACABEA'\n              b'AABMYXRlQWlyY3JhZnREZWxheQAAACT8//8AAAEDGAAAAAwAAAAEAAAAAAAA'\n              b'AO78//8AAAIADQAAAFNlY3VyaXR5RGVsYXkAAABY/P//AAABAxgAAAAMAAAA'\n              b'BAAAAAAAAAAi/f//AAACAAgAAABOQVNEZWxheQAAAACI/P//AAABAxgAAAAM'\n              b'AAAABAAAAAAAAABS/f//AAACAAwAAABXZWF0aGVyRGVsYXkAAAAAvPz//wAA'\n              b'AQMYAAAADAAAAAQAAAAAAAAAhv3//wAAAgAMAAAAQ2FycmllckRlbGF5AAAA'\n              b'APD8//8AAAECHAAAAAwAAAAEAAAAAAAAAOD8//8AAAABQAAAAAkAAABDYW5j'\n              b'ZWxsZWQAAAAk/f//AAABAxgAAAAMAAAABAAAAAAAAADu/f//AAACAAcAAABU'\n              b'YXhpT3V0AFD9//8AAAEDGAAAAAwAAAAEAAAAAAAAABr+//8AAAIACAAAAERp'\n              b'c3RhbmNlAAAAAID9//8AAAEFFAAAAAwAAAAEAAAAAAAAABj///8EAAAARGVz'\n              b'dAAAAACo/f//AAABBRQAAAAMAAAABAAAAAAAAABA////BgAAAE9yaWdpbgAA'\n              b'0P3//wAAAQIcAAAADAAAAAQAAAAAAAAAwP3//wAAAAFAAAAABwAAAEFpclRp'\n              b'bWUAAP7//wAAAQMYAAAADAAAAAQAAAAAAAAAyv7//wAAAgAOAAAAQ1JTRWxh'\n              b'cHNlZFRpbWUAADT+//8AAAECHAAAAAwAAAAEAAAAAAAAACT+//8AAAABQAAA'\n              b'AAkAAABGbGlnaHROdW0AAABo/v//AAABBRgAAAAQAAAABAAAAAAAAAAEAAQA'\n              b'BAAAAA0AAABVbmlxdWVDYXJyaWVyAAAAnP7//wAAAQIcAAAADAAAAAQAAAAA'\n              b'AAAAjP7//wAAAAFAAAAACgAAAENSU0FyclRpbWUAAND+//8AAAECHAAAAAwA'\n              b'AAAEAAAAAAAAAMD+//8AAAABQAAAAAcAAABBcnJUaW1lAAD///8AAAECHAAA'\n              b'AAwAAAAEAAAAAAAAAPD+//8AAAABQAAAAAoAAABDUlNEZXBUaW1lAAA0////'\n              b'AAABAyAAAAAUAAAABAAAAAAAAAAAAAYACAAGAAYAAAAAAAIABwAAAERlcFRp'\n              b'bWUAaP///wAAAQIcAAAADAAAAAQAAAAAAAAAWP///wAAAAFAAAAACQAAAERh'\n              b'eU9mV2VlawAAAJz///8AAAECHAAAAAwAAAAEAAAAAAAAAIz///8AAAABQAAA'\n              b'AAoAAABEYXlvZk1vbnRoAADQ////AAABAhwAAAAMAAAABAAAAAAAAADA////'\n              b'AAAAAUAAAAAFAAAATW9udGgAAAAQABQACAAGAAcADAAAABAAEAAAAAAAAQIk'\n              b'AAAAFAAAAAQAAAAAAAAACAAMAAgABwAIAAAAAAAAAUAAAAAEAAAAWWVhcgAA'\n              b'AAA=')])\n\nvs\n\nYear: int64\nMonth: int64\nDayofMonth: int64\nDayOfWeek: int64\nDepTime: double\nCRSDepTime: int64\nArrTime: double\nCRSArrTime: int64\nUniqueCarrier: string\nFlightNum: int64\nCRSElapsedTime: double\nAirTime: double\nOrigin: string\nDest: string\nDistance: double\nTaxiOut: double\nCancelled: int64\nCarrierDelay: double\nWeatherDelay: double\nNASDelay: double\nSecurityDelay: double\nLateAircraftDelay: double\nmetadata\n--------\nOrderedDict([(b'pandas',\n              b'{\"index_columns\": [{\"kind\": \"range\", \"name\": null, \"start\": '\n              b'90730000, \"stop\": 90740000, \"step\": 1}], \"column_indexes\": ['\n              b'{\"name\": null, \"field_name\": null, \"pandas_type\": \"unicode\",'\n              b' \"numpy_type\": \"object\", \"metadata\": {\"encoding\": \"UTF-8\"}}]'\n              b', \"columns\": [{\"name\": \"Year\", \"field_name\": \"Year\", \"pandas'\n              b'_type\": \"int64\", \"numpy_type\": \"int64\", \"metadata\": null}, {'\n              b'\"name\": \"Month\", \"field_name\": \"Month\", \"pandas_type\": \"int6'\n              b'4\", \"numpy_type\": \"int64\", \"metadata\": null}, {\"name\": \"Dayo'\n              b'fMonth\", \"field_name\": \"DayofMonth\", \"pandas_type\": \"int64\",'\n              b' \"numpy_type\": \"int64\", \"metadata\": null}, {\"name\": \"DayOfWe'\n              b'ek\", \"field_name\": \"DayOfWeek\", \"pandas_type\": \"int64\", \"num'\n              b'py_type\": \"int64\", \"metadata\": null}, {\"name\": \"DepTime\", \"f'\n              b'ield_name\": \"DepTime\", \"pandas_type\": \"float64\", \"numpy_type'\n              b'\": \"float64\", \"metadata\": null}, {\"name\": \"CRSDepTime\", \"fie'\n              b'ld_name\": \"CRSDepTime\", \"pandas_type\": \"int64\", \"numpy_type\"'\n              b': \"int64\", \"metadata\": null}, {\"name\": \"ArrTime\", \"field_nam'\n              b'e\": \"ArrTime\", \"pandas_type\": \"float64\", \"numpy_type\": \"floa'\n              b't64\", \"metadata\": null}, {\"name\": \"CRSArrTime\", \"field_name\"'\n              b': \"CRSArrTime\", \"pandas_type\": \"int64\", \"numpy_type\": \"int64'\n              b'\", \"metadata\": null}, {\"name\": \"UniqueCarrier\", \"field_name\"'\n              b': \"UniqueCarrier\", \"pandas_type\": \"unicode\", \"numpy_type\": \"'\n              b'object\", \"metadata\": null}, {\"name\": \"FlightNum\", \"field_nam'\n              b'e\": \"FlightNum\", \"pandas_type\": \"int64\", \"numpy_type\": \"int6'\n              b'4\", \"metadata\": null}, {\"name\": \"CRSElapsedTime\", \"field_nam'\n              b'e\": \"CRSElapsedTime\", \"pandas_type\": \"float64\", \"numpy_type\"'\n              b': \"float64\", \"metadata\": null}, {\"name\": \"AirTime\", \"field_n'\n              b'ame\": \"AirTime\", \"pandas_type\": \"float64\", \"numpy_type\": \"fl'\n              b'oat64\", \"metadata\": null}, {\"name\": \"Origin\", \"field_name\": '\n              b'\"Origin\", \"pandas_type\": \"unicode\", \"numpy_type\": \"object\", '\n              b'\"metadata\": null}, {\"name\": \"Dest\", \"field_name\": \"Dest\", \"p'\n              b'andas_type\": \"unicode\", \"numpy_type\": \"object\", \"metadata\": '\n              b'null}, {\"name\": \"Distance\", \"field_name\": \"Distance\", \"panda'\n              b's_type\": \"float64\", \"numpy_type\": \"float64\", \"metadata\": nul'\n              b'l}, {\"name\": \"TaxiOut\", \"field_name\": \"TaxiOut\", \"pandas_typ'\n              b'e\": \"float64\", \"numpy_type\": \"float64\", \"metadata\": null}, {'\n              b'\"name\": \"Cancelled\", \"field_name\": \"Cancelled\", \"pandas_type'\n              b'\": \"int64\", \"numpy_type\": \"int64\", \"metadata\": null}, {\"name'\n              b'\": \"CarrierDelay\", \"field_name\": \"CarrierDelay\", \"pandas_typ'\n              b'e\": \"float64\", \"numpy_type\": \"float64\", \"metadata\": null}, {'\n              b'\"name\": \"WeatherDelay\", \"field_name\": \"WeatherDelay\", \"panda'\n              b's_type\": \"float64\", \"numpy_type\": \"float64\", \"metadata\": nul'\n              b'l}, {\"name\": \"NASDelay\", \"field_name\": \"NASDelay\", \"pandas_t'\n              b'ype\": \"float64\", \"numpy_type\": \"float64\", \"metadata\": null},'\n              b' {\"name\": \"SecurityDelay\", \"field_name\": \"SecurityDelay\", \"p'\n              b'andas_type\": \"float64\", \"numpy_type\": \"float64\", \"metadata\":'\n              b' null}, {\"name\": \"LateAircraftDelay\", \"field_name\": \"LateAir'\n              b'craftDelay\", \"pandas_type\": \"float64\", \"numpy_type\": \"float6'\n              b'4\", \"metadata\": null}], \"creator\": {\"library\": \"pyarrow\", \"v'\n              b'ersion\": \"0.15.1\"}, \"pandas_version\": \"0.25.3\"}'),\n             (b'ARROW:schema',\n              b'/////4AQAAAQAAAAAAAKAA4ABgAFAAgACgAAAAABAwAQAAAAAAAKAAwAAAAE'\n              b'AAgACgAAAKQLAAAEAAAAAQAAAAwAAAAIAAwABAAIAAgAAAAIAAAAEAAAAAYA'\n              b'AABwYW5kYXMAAG8LAAB7ImluZGV4X2NvbHVtbnMiOiBbeyJraW5kIjogInJh'\n              b'bmdlIiwgIm5hbWUiOiBudWxsLCAic3RhcnQiOiA5MDczMDAwMCwgInN0b3Ai'\n              b'OiA5MDc0MDAwMCwgInN0ZXAiOiAxfV0sICJjb2x1bW5faW5kZXhlcyI6IFt7'\n              b'Im5hbWUiOiBudWxsLCAiZmllbGRfbmFtZSI6IG51bGwsICJwYW5kYXNfdHlw'\n              b'ZSI6ICJ1bmljb2RlIiwgIm51bXB5X3R5cGUiOiAib2JqZWN0IiwgIm1ldGFk'\n              b'YXRhIjogeyJlbmNvZGluZyI6ICJVVEYtOCJ9fV0sICJjb2x1bW5zIjogW3si'\n              b'bmFtZSI6ICJZZWFyIiwgImZpZWxkX25hbWUiOiAiWWVhciIsICJwYW5kYXNf'\n              b'dHlwZSI6ICJpbnQ2NCIsICJudW1weV90eXBlIjogImludDY0IiwgIm1ldGFk'\n              b'YXRhIjogbnVsbH0sIHsibmFtZSI6ICJNb250aCIsICJmaWVsZF9uYW1lIjog'\n              b'Ik1vbnRoIiwgInBhbmRhc190eXBlIjogImludDY0IiwgIm51bXB5X3R5cGUi'\n              b'OiAiaW50NjQiLCAibWV0YWRhdGEiOiBudWxsfSwgeyJuYW1lIjogIkRheW9m'\n              b'TW9udGgiLCAiZmllbGRfbmFtZSI6ICJEYXlvZk1vbnRoIiwgInBhbmRhc190'\n              b'eXBlIjogImludDY0IiwgIm51bXB5X3R5cGUiOiAiaW50NjQiLCAibWV0YWRh'\n              b'dGEiOiBudWxsfSwgeyJuYW1lIjogIkRheU9mV2VlayIsICJmaWVsZF9uYW1l'\n              b'IjogIkRheU9mV2VlayIsICJwYW5kYXNfdHlwZSI6ICJpbnQ2NCIsICJudW1w'\n              b'eV90eXBlIjogImludDY0IiwgIm1ldGFkYXRhIjogbnVsbH0sIHsibmFtZSI6'\n              b'ICJEZXBUaW1lIiwgImZpZWxkX25hbWUiOiAiRGVwVGltZSIsICJwYW5kYXNf'\n              b'dHlwZSI6ICJmbG9hdDY0IiwgIm51bXB5X3R5cGUiOiAiZmxvYXQ2NCIsICJt'\n              b'ZXRhZGF0YSI6IG51bGx9LCB7Im5hbWUiOiAiQ1JTRGVwVGltZSIsICJmaWVs'\n              b'ZF9uYW1lIjogIkNSU0RlcFRpbWUiLCAicGFuZGFzX3R5cGUiOiAiaW50NjQi'\n              b'LCAibnVtcHlfdHlwZSI6ICJpbnQ2NCIsICJtZXRhZGF0YSI6IG51bGx9LCB7'\n              b'Im5hbWUiOiAiQXJyVGltZSIsICJmaWVsZF9uYW1lIjogIkFyclRpbWUiLCAi'\n              b'cGFuZGFzX3R5cGUiOiAiZmxvYXQ2NCIsICJudW1weV90eXBlIjogImZsb2F0'\n              b'NjQiLCAibWV0YWRhdGEiOiBudWxsfSwgeyJuYW1lIjogIkNSU0FyclRpbWUi'\n              b'LCAiZmllbGRfbmFtZSI6ICJDUlNBcnJUaW1lIiwgInBhbmRhc190eXBlIjog'\n              b'ImludDY0IiwgIm51bXB5X3R5cGUiOiAiaW50NjQiLCAibWV0YWRhdGEiOiBu'\n              b'dWxsfSwgeyJuYW1lIjogIlVuaXF1ZUNhcnJpZXIiLCAiZmllbGRfbmFtZSI6'\n              b'ICJVbmlxdWVDYXJyaWVyIiwgInBhbmRhc190eXBlIjogInVuaWNvZGUiLCAi'\n              b'bnVtcHlfdHlwZSI6ICJvYmplY3QiLCAibWV0YWRhdGEiOiBudWxsfSwgeyJu'\n              b'YW1lIjogIkZsaWdodE51bSIsICJmaWVsZF9uYW1lIjogIkZsaWdodE51bSIs'\n              b'ICJwYW5kYXNfdHlwZSI6ICJpbnQ2NCIsICJudW1weV90eXBlIjogImludDY0'\n              b'IiwgIm1ldGFkYXRhIjogbnVsbH0sIHsibmFtZSI6ICJDUlNFbGFwc2VkVGlt'\n              b'ZSIsICJmaWVsZF9uYW1lIjogIkNSU0VsYXBzZWRUaW1lIiwgInBhbmRhc190'\n              b'eXBlIjogImZsb2F0NjQiLCAibnVtcHlfdHlwZSI6ICJmbG9hdDY0IiwgIm1l'\n              b'dGFkYXRhIjogbnVsbH0sIHsibmFtZSI6ICJBaXJUaW1lIiwgImZpZWxkX25h'\n              b'bWUiOiAiQWlyVGltZSIsICJwYW5kYXNfdHlwZSI6ICJmbG9hdDY0IiwgIm51'\n              b'bXB5X3R5cGUiOiAiZmxvYXQ2NCIsICJtZXRhZGF0YSI6IG51bGx9LCB7Im5h'\n              b'bWUiOiAiT3JpZ2luIiwgImZpZWxkX25hbWUiOiAiT3JpZ2luIiwgInBhbmRh'\n              b'c190eXBlIjogInVuaWNvZGUiLCAibnVtcHlfdHlwZSI6ICJvYmplY3QiLCAi'\n              b'bWV0YWRhdGEiOiBudWxsfSwgeyJuYW1lIjogIkRlc3QiLCAiZmllbGRfbmFt'\n              b'ZSI6ICJEZXN0IiwgInBhbmRhc190eXBlIjogInVuaWNvZGUiLCAibnVtcHlf'\n              b'dHlwZSI6ICJvYmplY3QiLCAibWV0YWRhdGEiOiBudWxsfSwgeyJuYW1lIjog'\n              b'IkRpc3RhbmNlIiwgImZpZWxkX25hbWUiOiAiRGlzdGFuY2UiLCAicGFuZGFz'\n              b'X3R5cGUiOiAiZmxvYXQ2NCIsICJudW1weV90eXBlIjogImZsb2F0NjQiLCAi'\n              b'bWV0YWRhdGEiOiBudWxsfSwgeyJuYW1lIjogIlRheGlPdXQiLCAiZmllbGRf'\n              b'bmFtZSI6ICJUYXhpT3V0IiwgInBhbmRhc190eXBlIjogImZsb2F0NjQiLCAi'\n              b'bnVtcHlfdHlwZSI6ICJmbG9hdDY0IiwgIm1ldGFkYXRhIjogbnVsbH0sIHsi'\n              b'bmFtZSI6ICJDYW5jZWxsZWQiLCAiZmllbGRfbmFtZSI6ICJDYW5jZWxsZWQi'\n              b'LCAicGFuZGFzX3R5cGUiOiAiaW50NjQiLCAibnVtcHlfdHlwZSI6ICJpbnQ2'\n              b'NCIsICJtZXRhZGF0YSI6IG51bGx9LCB7Im5hbWUiOiAiQ2FycmllckRlbGF5'\n              b'IiwgImZpZWxkX25hbWUiOiAiQ2FycmllckRlbGF5IiwgInBhbmRhc190eXBl'\n              b'IjogImZsb2F0NjQiLCAibnVtcHlfdHlwZSI6ICJmbG9hdDY0IiwgIm1ldGFk'\n              b'YXRhIjogbnVsbH0sIHsibmFtZSI6ICJXZWF0aGVyRGVsYXkiLCAiZmllbGRf'\n              b'bmFtZSI6ICJXZWF0aGVyRGVsYXkiLCAicGFuZGFzX3R5cGUiOiAiZmxvYXQ2'\n              b'NCIsICJudW1weV90eXBlIjogImZsb2F0NjQiLCAibWV0YWRhdGEiOiBudWxs'\n              b'fSwgeyJuYW1lIjogIk5BU0RlbGF5IiwgImZpZWxkX25hbWUiOiAiTkFTRGVs'\n              b'YXkiLCAicGFuZGFzX3R5cGUiOiAiZmxvYXQ2NCIsICJudW1weV90eXBlIjog'\n              b'ImZsb2F0NjQiLCAibWV0YWRhdGEiOiBudWxsfSwgeyJuYW1lIjogIlNlY3Vy'\n              b'aXR5RGVsYXkiLCAiZmllbGRfbmFtZSI6ICJTZWN1cml0eURlbGF5IiwgInBh'\n              b'bmRhc190eXBlIjogImZsb2F0NjQiLCAibnVtcHlfdHlwZSI6ICJmbG9hdDY0'\n              b'IiwgIm1ldGFkYXRhIjogbnVsbH0sIHsibmFtZSI6ICJMYXRlQWlyY3JhZnRE'\n              b'ZWxheSIsICJmaWVsZF9uYW1lIjogIkxhdGVBaXJjcmFmdERlbGF5IiwgInBh'\n              b'bmRhc190eXBlIjogImZsb2F0NjQiLCAibnVtcHlfdHlwZSI6ICJmbG9hdDY0'\n              b'IiwgIm1ldGFkYXRhIjogbnVsbH1dLCAiY3JlYXRvciI6IHsibGlicmFyeSI6'\n              b'ICJweWFycm93IiwgInZlcnNpb24iOiAiMC4xNS4xIn0sICJwYW5kYXNfdmVy'\n              b'c2lvbiI6ICIwLjI1LjMifQAWAAAAdAQAADAEAAD4AwAAwAMAAIgDAABQAwAA'\n              b'IAMAAOgCAACwAgAAeAIAAEACAAAQAgAA5AEAALgBAACEAQAAVAEAABwBAADk'\n              b'AAAArAAAAHgAAABAAAAABAAAAPT7//8AAAEDGAAAAAwAAAAEAAAAAAAAAL78'\n              b'//8AAAIAEQAAAExhdGVBaXJjcmFmdERlbGF5AAAALPz//wAAAQMYAAAADAAA'\n              b'AAQAAAAAAAAA9vz//wAAAgANAAAAU2VjdXJpdHlEZWxheQAAAGD8//8AAAED'\n              b'GAAAAAwAAAAEAAAAAAAAACr9//8AAAIACAAAAE5BU0RlbGF5AAAAAJD8//8A'\n              b'AAEDGAAAAAwAAAAEAAAAAAAAAFr9//8AAAIADAAAAFdlYXRoZXJEZWxheQAA'\n              b'AADE/P//AAABAxgAAAAMAAAABAAAAAAAAACO/f//AAACAAwAAABDYXJyaWVy'\n              b'RGVsYXkAAAAA+Pz//wAAAQIcAAAADAAAAAQAAAAAAAAA6Pz//wAAAAFAAAAA'\n              b'CQAAAENhbmNlbGxlZAAAACz9//8AAAEDGAAAAAwAAAAEAAAAAAAAAPb9//8A'\n              b'AAIABwAAAFRheGlPdXQAWP3//wAAAQMYAAAADAAAAAQAAAAAAAAAIv7//wAA'\n              b'AgAIAAAARGlzdGFuY2UAAAAAiP3//wAAAQUUAAAADAAAAAQAAAAAAAAAHP//'\n              b'/wQAAABEZXN0AAAAALD9//8AAAEFFAAAAAwAAAAEAAAAAAAAAET///8GAAAA'\n              b'T3JpZ2luAADY/f//AAABAxgAAAAMAAAABAAAAAAAAACi/v//AAACAAcAAABB'\n              b'aXJUaW1lAAT+//8AAAEDGAAAAAwAAAAEAAAAAAAAAM7+//8AAAIADgAAAENS'\n              b'U0VsYXBzZWRUaW1lAAA4/v//AAABAhwAAAAMAAAABAAAAAAAAAAo/v//AAAA'\n              b'AUAAAAAJAAAARmxpZ2h0TnVtAAAAbP7//wAAAQUYAAAAEAAAAAQAAAAAAAAA'\n              b'BAAEAAQAAAANAAAAVW5pcXVlQ2FycmllcgAAAKD+//8AAAECHAAAAAwAAAAE'\n              b'AAAAAAAAAJD+//8AAAABQAAAAAoAAABDUlNBcnJUaW1lAADU/v//AAABAxgA'\n              b'AAAMAAAABAAAAAAAAACe////AAACAAcAAABBcnJUaW1lAAD///8AAAECHAAA'\n              b'AAwAAAAEAAAAAAAAAPD+//8AAAABQAAAAAoAAABDUlNEZXBUaW1lAAA0////'\n              b'AAABAyAAAAAUAAAABAAAAAAAAAAAAAYACAAGAAYAAAAAAAIABwAAAERlcFRp'\n              b'bWUAaP///wAAAQIcAAAADAAAAAQAAAAAAAAAWP///wAAAAFAAAAACQAAAERh'\n              b'eU9mV2VlawAAAJz///8AAAECHAAAAAwAAAAEAAAAAAAAAIz///8AAAABQAAA'\n              b'AAoAAABEYXlvZk1vbnRoAADQ////AAABAhwAAAAMAAAABAAAAAAAAADA////'\n              b'AAAAAUAAAAAFAAAATW9udGgAAAAQABQACAAGAAcADAAAABAAEAAAAAAAAQIk'\n              b'AAAAFAAAAAQAAAAAAAAACAAMAAgABwAIAAAAAAAAAUAAAAAEAAAAWWVhcgAA'\n              b'AAA=')])",
     "output_type": "error",
     "traceback": [
      "\u001b[0;31m---------------------------------------------------------------------------\u001b[0m",
      "\u001b[0;31mValueError\u001b[0m                                Traceback (most recent call last)",
      "\u001b[0;32m<ipython-input-16-4c50283f8d86>\u001b[0m in \u001b[0;36m<module>\u001b[0;34m\u001b[0m\n\u001b[0;32m----> 1\u001b[0;31m \u001b[0mdataset\u001b[0m \u001b[0;34m=\u001b[0m \u001b[0mpq\u001b[0m\u001b[0;34m.\u001b[0m\u001b[0mParquetDataset\u001b[0m\u001b[0;34m(\u001b[0m\u001b[0mTARGET_PATH\u001b[0m\u001b[0;34m)\u001b[0m\u001b[0;34m\u001b[0m\u001b[0;34m\u001b[0m\u001b[0m\n\u001b[0m",
      "\u001b[0;32m~/.pythonlibs/jupyter-1/lib/python3.6/site-packages/pyarrow/parquet.py\u001b[0m in \u001b[0;36m__init__\u001b[0;34m(self, path_or_paths, filesystem, schema, metadata, split_row_groups, validate_schema, filters, metadata_nthreads, read_dictionary, memory_map, buffer_size)\u001b[0m\n\u001b[1;32m   1058\u001b[0m \u001b[0;34m\u001b[0m\u001b[0m\n\u001b[1;32m   1059\u001b[0m         \u001b[0;32mif\u001b[0m \u001b[0mvalidate_schema\u001b[0m\u001b[0;34m:\u001b[0m\u001b[0;34m\u001b[0m\u001b[0;34m\u001b[0m\u001b[0m\n\u001b[0;32m-> 1060\u001b[0;31m             \u001b[0mself\u001b[0m\u001b[0;34m.\u001b[0m\u001b[0mvalidate_schemas\u001b[0m\u001b[0;34m(\u001b[0m\u001b[0;34m)\u001b[0m\u001b[0;34m\u001b[0m\u001b[0;34m\u001b[0m\u001b[0m\n\u001b[0m\u001b[1;32m   1061\u001b[0m \u001b[0;34m\u001b[0m\u001b[0m\n\u001b[1;32m   1062\u001b[0m     \u001b[0;32mdef\u001b[0m \u001b[0mequals\u001b[0m\u001b[0;34m(\u001b[0m\u001b[0mself\u001b[0m\u001b[0;34m,\u001b[0m \u001b[0mother\u001b[0m\u001b[0;34m)\u001b[0m\u001b[0;34m:\u001b[0m\u001b[0;34m\u001b[0m\u001b[0;34m\u001b[0m\u001b[0m\n",
      "\u001b[0;32m~/.pythonlibs/jupyter-1/lib/python3.6/site-packages/pyarrow/parquet.py\u001b[0m in \u001b[0;36mvalidate_schemas\u001b[0;34m(self)\u001b[0m\n\u001b[1;32m   1111\u001b[0m                                  \u001b[0;34m'{1!s}\\n\\nvs\\n\\n{2!s}'\u001b[0m\u001b[0;34m\u001b[0m\u001b[0;34m\u001b[0m\u001b[0m\n\u001b[1;32m   1112\u001b[0m                                  .format(piece, file_schema,\n\u001b[0;32m-> 1113\u001b[0;31m                                          dataset_schema))\n\u001b[0m\u001b[1;32m   1114\u001b[0m \u001b[0;34m\u001b[0m\u001b[0m\n\u001b[1;32m   1115\u001b[0m     \u001b[0;32mdef\u001b[0m \u001b[0mread\u001b[0m\u001b[0;34m(\u001b[0m\u001b[0mself\u001b[0m\u001b[0;34m,\u001b[0m \u001b[0mcolumns\u001b[0m\u001b[0;34m=\u001b[0m\u001b[0;32mNone\u001b[0m\u001b[0;34m,\u001b[0m \u001b[0muse_threads\u001b[0m\u001b[0;34m=\u001b[0m\u001b[0;32mTrue\u001b[0m\u001b[0;34m,\u001b[0m \u001b[0muse_pandas_metadata\u001b[0m\u001b[0;34m=\u001b[0m\u001b[0;32mFalse\u001b[0m\u001b[0;34m)\u001b[0m\u001b[0;34m:\u001b[0m\u001b[0;34m\u001b[0m\u001b[0;34m\u001b[0m\u001b[0m\n",
      "\u001b[0;31mValueError\u001b[0m: Schema in /User/mlrun/airlines/dataset/1278d2c85afc40cabc8e5add8d12892e.parquet was different. \nYear: int64\nMonth: int64\nDayofMonth: int64\nDayOfWeek: int64\nDepTime: double\nCRSDepTime: int64\nArrTime: int64\nCRSArrTime: int64\nUniqueCarrier: string\nFlightNum: int64\nCRSElapsedTime: double\nAirTime: int64\nOrigin: string\nDest: string\nDistance: double\nTaxiOut: double\nCancelled: int64\nCarrierDelay: double\nWeatherDelay: double\nNASDelay: double\nSecurityDelay: double\nLateAircraftDelay: double\nmetadata\n--------\nOrderedDict([(b'pandas',\n              b'{\"index_columns\": [{\"kind\": \"range\", \"name\": null, \"start\": '\n              b'95550000, \"stop\": 95560000, \"step\": 1}], \"column_indexes\": ['\n              b'{\"name\": null, \"field_name\": null, \"pandas_type\": \"unicode\",'\n              b' \"numpy_type\": \"object\", \"metadata\": {\"encoding\": \"UTF-8\"}}]'\n              b', \"columns\": [{\"name\": \"Year\", \"field_name\": \"Year\", \"pandas'\n              b'_type\": \"int64\", \"numpy_type\": \"int64\", \"metadata\": null}, {'\n              b'\"name\": \"Month\", \"field_name\": \"Month\", \"pandas_type\": \"int6'\n              b'4\", \"numpy_type\": \"int64\", \"metadata\": null}, {\"name\": \"Dayo'\n              b'fMonth\", \"field_name\": \"DayofMonth\", \"pandas_type\": \"int64\",'\n              b' \"numpy_type\": \"int64\", \"metadata\": null}, {\"name\": \"DayOfWe'\n              b'ek\", \"field_name\": \"DayOfWeek\", \"pandas_type\": \"int64\", \"num'\n              b'py_type\": \"int64\", \"metadata\": null}, {\"name\": \"DepTime\", \"f'\n              b'ield_name\": \"DepTime\", \"pandas_type\": \"float64\", \"numpy_type'\n              b'\": \"float64\", \"metadata\": null}, {\"name\": \"CRSDepTime\", \"fie'\n              b'ld_name\": \"CRSDepTime\", \"pandas_type\": \"int64\", \"numpy_type\"'\n              b': \"int64\", \"metadata\": null}, {\"name\": \"ArrTime\", \"field_nam'\n              b'e\": \"ArrTime\", \"pandas_type\": \"int64\", \"numpy_type\": \"int64\"'\n              b', \"metadata\": null}, {\"name\": \"CRSArrTime\", \"field_name\": \"C'\n              b'RSArrTime\", \"pandas_type\": \"int64\", \"numpy_type\": \"int64\", \"'\n              b'metadata\": null}, {\"name\": \"UniqueCarrier\", \"field_name\": \"U'\n              b'niqueCarrier\", \"pandas_type\": \"unicode\", \"numpy_type\": \"obje'\n              b'ct\", \"metadata\": null}, {\"name\": \"FlightNum\", \"field_name\": '\n              b'\"FlightNum\", \"pandas_type\": \"int64\", \"numpy_type\": \"int64\", '\n              b'\"metadata\": null}, {\"name\": \"CRSElapsedTime\", \"field_name\": '\n              b'\"CRSElapsedTime\", \"pandas_type\": \"float64\", \"numpy_type\": \"f'\n              b'loat64\", \"metadata\": null}, {\"name\": \"AirTime\", \"field_name\"'\n              b': \"AirTime\", \"pandas_type\": \"int64\", \"numpy_type\": \"int64\", '\n              b'\"metadata\": null}, {\"name\": \"Origin\", \"field_name\": \"Origin\"'\n              b', \"pandas_type\": \"unicode\", \"numpy_type\": \"object\", \"metadat'\n              b'a\": null}, {\"name\": \"Dest\", \"field_name\": \"Dest\", \"pandas_ty'\n              b'pe\": \"unicode\", \"numpy_type\": \"object\", \"metadata\": null}, {'\n              b'\"name\": \"Distance\", \"field_name\": \"Distance\", \"pandas_type\":'\n              b' \"float64\", \"numpy_type\": \"float64\", \"metadata\": null}, {\"na'\n              b'me\": \"TaxiOut\", \"field_name\": \"TaxiOut\", \"pandas_type\": \"flo'\n              b'at64\", \"numpy_type\": \"float64\", \"metadata\": null}, {\"name\": '\n              b'\"Cancelled\", \"field_name\": \"Cancelled\", \"pandas_type\": \"int6'\n              b'4\", \"numpy_type\": \"int64\", \"metadata\": null}, {\"name\": \"Carr'\n              b'ierDelay\", \"field_name\": \"CarrierDelay\", \"pandas_type\": \"flo'\n              b'at64\", \"numpy_type\": \"float64\", \"metadata\": null}, {\"name\": '\n              b'\"WeatherDelay\", \"field_name\": \"WeatherDelay\", \"pandas_type\":'\n              b' \"float64\", \"numpy_type\": \"float64\", \"metadata\": null}, {\"na'\n              b'me\": \"NASDelay\", \"field_name\": \"NASDelay\", \"pandas_type\": \"f'\n              b'loat64\", \"numpy_type\": \"float64\", \"metadata\": null}, {\"name\"'\n              b': \"SecurityDelay\", \"field_name\": \"SecurityDelay\", \"pandas_ty'\n              b'pe\": \"float64\", \"numpy_type\": \"float64\", \"metadata\": null}, '\n              b'{\"name\": \"LateAircraftDelay\", \"field_name\": \"LateAircraftDel'\n              b'ay\", \"pandas_type\": \"float64\", \"numpy_type\": \"float64\", \"met'\n              b'adata\": null}], \"creator\": {\"library\": \"pyarrow\", \"version\":'\n              b' \"0.15.1\"}, \"pandas_version\": \"0.25.3\"}'),\n             (b'ARROW:schema',\n              b'/////4AQAAAQAAAAAAAKAA4ABgAFAAgACgAAAAABAwAQAAAAAAAKAAwAAAAE'\n              b'AAgACgAAAJwLAAAEAAAAAQAAAAwAAAAIAAwABAAIAAgAAAAIAAAAEAAAAAYA'\n              b'AABwYW5kYXMAAGcLAAB7ImluZGV4X2NvbHVtbnMiOiBbeyJraW5kIjogInJh'\n              b'bmdlIiwgIm5hbWUiOiBudWxsLCAic3RhcnQiOiA5NTU1MDAwMCwgInN0b3Ai'\n              b'OiA5NTU2MDAwMCwgInN0ZXAiOiAxfV0sICJjb2x1bW5faW5kZXhlcyI6IFt7'\n              b'Im5hbWUiOiBudWxsLCAiZmllbGRfbmFtZSI6IG51bGwsICJwYW5kYXNfdHlw'\n              b'ZSI6ICJ1bmljb2RlIiwgIm51bXB5X3R5cGUiOiAib2JqZWN0IiwgIm1ldGFk'\n              b'YXRhIjogeyJlbmNvZGluZyI6ICJVVEYtOCJ9fV0sICJjb2x1bW5zIjogW3si'\n              b'bmFtZSI6ICJZZWFyIiwgImZpZWxkX25hbWUiOiAiWWVhciIsICJwYW5kYXNf'\n              b'dHlwZSI6ICJpbnQ2NCIsICJudW1weV90eXBlIjogImludDY0IiwgIm1ldGFk'\n              b'YXRhIjogbnVsbH0sIHsibmFtZSI6ICJNb250aCIsICJmaWVsZF9uYW1lIjog'\n              b'Ik1vbnRoIiwgInBhbmRhc190eXBlIjogImludDY0IiwgIm51bXB5X3R5cGUi'\n              b'OiAiaW50NjQiLCAibWV0YWRhdGEiOiBudWxsfSwgeyJuYW1lIjogIkRheW9m'\n              b'TW9udGgiLCAiZmllbGRfbmFtZSI6ICJEYXlvZk1vbnRoIiwgInBhbmRhc190'\n              b'eXBlIjogImludDY0IiwgIm51bXB5X3R5cGUiOiAiaW50NjQiLCAibWV0YWRh'\n              b'dGEiOiBudWxsfSwgeyJuYW1lIjogIkRheU9mV2VlayIsICJmaWVsZF9uYW1l'\n              b'IjogIkRheU9mV2VlayIsICJwYW5kYXNfdHlwZSI6ICJpbnQ2NCIsICJudW1w'\n              b'eV90eXBlIjogImludDY0IiwgIm1ldGFkYXRhIjogbnVsbH0sIHsibmFtZSI6'\n              b'ICJEZXBUaW1lIiwgImZpZWxkX25hbWUiOiAiRGVwVGltZSIsICJwYW5kYXNf'\n              b'dHlwZSI6ICJmbG9hdDY0IiwgIm51bXB5X3R5cGUiOiAiZmxvYXQ2NCIsICJt'\n              b'ZXRhZGF0YSI6IG51bGx9LCB7Im5hbWUiOiAiQ1JTRGVwVGltZSIsICJmaWVs'\n              b'ZF9uYW1lIjogIkNSU0RlcFRpbWUiLCAicGFuZGFzX3R5cGUiOiAiaW50NjQi'\n              b'LCAibnVtcHlfdHlwZSI6ICJpbnQ2NCIsICJtZXRhZGF0YSI6IG51bGx9LCB7'\n              b'Im5hbWUiOiAiQXJyVGltZSIsICJmaWVsZF9uYW1lIjogIkFyclRpbWUiLCAi'\n              b'cGFuZGFzX3R5cGUiOiAiaW50NjQiLCAibnVtcHlfdHlwZSI6ICJpbnQ2NCIs'\n              b'ICJtZXRhZGF0YSI6IG51bGx9LCB7Im5hbWUiOiAiQ1JTQXJyVGltZSIsICJm'\n              b'aWVsZF9uYW1lIjogIkNSU0FyclRpbWUiLCAicGFuZGFzX3R5cGUiOiAiaW50'\n              b'NjQiLCAibnVtcHlfdHlwZSI6ICJpbnQ2NCIsICJtZXRhZGF0YSI6IG51bGx9'\n              b'LCB7Im5hbWUiOiAiVW5pcXVlQ2FycmllciIsICJmaWVsZF9uYW1lIjogIlVu'\n              b'aXF1ZUNhcnJpZXIiLCAicGFuZGFzX3R5cGUiOiAidW5pY29kZSIsICJudW1w'\n              b'eV90eXBlIjogIm9iamVjdCIsICJtZXRhZGF0YSI6IG51bGx9LCB7Im5hbWUi'\n              b'OiAiRmxpZ2h0TnVtIiwgImZpZWxkX25hbWUiOiAiRmxpZ2h0TnVtIiwgInBh'\n              b'bmRhc190eXBlIjogImludDY0IiwgIm51bXB5X3R5cGUiOiAiaW50NjQiLCAi'\n              b'bWV0YWRhdGEiOiBudWxsfSwgeyJuYW1lIjogIkNSU0VsYXBzZWRUaW1lIiwg'\n              b'ImZpZWxkX25hbWUiOiAiQ1JTRWxhcHNlZFRpbWUiLCAicGFuZGFzX3R5cGUi'\n              b'OiAiZmxvYXQ2NCIsICJudW1weV90eXBlIjogImZsb2F0NjQiLCAibWV0YWRh'\n              b'dGEiOiBudWxsfSwgeyJuYW1lIjogIkFpclRpbWUiLCAiZmllbGRfbmFtZSI6'\n              b'ICJBaXJUaW1lIiwgInBhbmRhc190eXBlIjogImludDY0IiwgIm51bXB5X3R5'\n              b'cGUiOiAiaW50NjQiLCAibWV0YWRhdGEiOiBudWxsfSwgeyJuYW1lIjogIk9y'\n              b'aWdpbiIsICJmaWVsZF9uYW1lIjogIk9yaWdpbiIsICJwYW5kYXNfdHlwZSI6'\n              b'ICJ1bmljb2RlIiwgIm51bXB5X3R5cGUiOiAib2JqZWN0IiwgIm1ldGFkYXRh'\n              b'IjogbnVsbH0sIHsibmFtZSI6ICJEZXN0IiwgImZpZWxkX25hbWUiOiAiRGVz'\n              b'dCIsICJwYW5kYXNfdHlwZSI6ICJ1bmljb2RlIiwgIm51bXB5X3R5cGUiOiAi'\n              b'b2JqZWN0IiwgIm1ldGFkYXRhIjogbnVsbH0sIHsibmFtZSI6ICJEaXN0YW5j'\n              b'ZSIsICJmaWVsZF9uYW1lIjogIkRpc3RhbmNlIiwgInBhbmRhc190eXBlIjog'\n              b'ImZsb2F0NjQiLCAibnVtcHlfdHlwZSI6ICJmbG9hdDY0IiwgIm1ldGFkYXRh'\n              b'IjogbnVsbH0sIHsibmFtZSI6ICJUYXhpT3V0IiwgImZpZWxkX25hbWUiOiAi'\n              b'VGF4aU91dCIsICJwYW5kYXNfdHlwZSI6ICJmbG9hdDY0IiwgIm51bXB5X3R5'\n              b'cGUiOiAiZmxvYXQ2NCIsICJtZXRhZGF0YSI6IG51bGx9LCB7Im5hbWUiOiAi'\n              b'Q2FuY2VsbGVkIiwgImZpZWxkX25hbWUiOiAiQ2FuY2VsbGVkIiwgInBhbmRh'\n              b'c190eXBlIjogImludDY0IiwgIm51bXB5X3R5cGUiOiAiaW50NjQiLCAibWV0'\n              b'YWRhdGEiOiBudWxsfSwgeyJuYW1lIjogIkNhcnJpZXJEZWxheSIsICJmaWVs'\n              b'ZF9uYW1lIjogIkNhcnJpZXJEZWxheSIsICJwYW5kYXNfdHlwZSI6ICJmbG9h'\n              b'dDY0IiwgIm51bXB5X3R5cGUiOiAiZmxvYXQ2NCIsICJtZXRhZGF0YSI6IG51'\n              b'bGx9LCB7Im5hbWUiOiAiV2VhdGhlckRlbGF5IiwgImZpZWxkX25hbWUiOiAi'\n              b'V2VhdGhlckRlbGF5IiwgInBhbmRhc190eXBlIjogImZsb2F0NjQiLCAibnVt'\n              b'cHlfdHlwZSI6ICJmbG9hdDY0IiwgIm1ldGFkYXRhIjogbnVsbH0sIHsibmFt'\n              b'ZSI6ICJOQVNEZWxheSIsICJmaWVsZF9uYW1lIjogIk5BU0RlbGF5IiwgInBh'\n              b'bmRhc190eXBlIjogImZsb2F0NjQiLCAibnVtcHlfdHlwZSI6ICJmbG9hdDY0'\n              b'IiwgIm1ldGFkYXRhIjogbnVsbH0sIHsibmFtZSI6ICJTZWN1cml0eURlbGF5'\n              b'IiwgImZpZWxkX25hbWUiOiAiU2VjdXJpdHlEZWxheSIsICJwYW5kYXNfdHlw'\n              b'ZSI6ICJmbG9hdDY0IiwgIm51bXB5X3R5cGUiOiAiZmxvYXQ2NCIsICJtZXRh'\n              b'ZGF0YSI6IG51bGx9LCB7Im5hbWUiOiAiTGF0ZUFpcmNyYWZ0RGVsYXkiLCAi'\n              b'ZmllbGRfbmFtZSI6ICJMYXRlQWlyY3JhZnREZWxheSIsICJwYW5kYXNfdHlw'\n              b'ZSI6ICJmbG9hdDY0IiwgIm51bXB5X3R5cGUiOiAiZmxvYXQ2NCIsICJtZXRh'\n              b'ZGF0YSI6IG51bGx9XSwgImNyZWF0b3IiOiB7ImxpYnJhcnkiOiAicHlhcnJv'\n              b'dyIsICJ2ZXJzaW9uIjogIjAuMTUuMSJ9LCAicGFuZGFzX3ZlcnNpb24iOiAi'\n              b'MC4yNS4zIn0AFgAAAHwEAAA4BAAAAAQAAMgDAACQAwAAWAMAACQDAADsAgAA'\n              b'tAIAAHwCAABEAgAAEAIAAOQBAAC4AQAAhAEAAFQBAAAcAQAA5AAAAKwAAAB4'\n              b'AAAAQAAAAAQAAADs+///AAABAxgAAAAMAAAABAAAAAAAAAC2/P//AAACABEA'\n              b'AABMYXRlQWlyY3JhZnREZWxheQAAACT8//8AAAEDGAAAAAwAAAAEAAAAAAAA'\n              b'AO78//8AAAIADQAAAFNlY3VyaXR5RGVsYXkAAABY/P//AAABAxgAAAAMAAAA'\n              b'BAAAAAAAAAAi/f//AAACAAgAAABOQVNEZWxheQAAAACI/P//AAABAxgAAAAM'\n              b'AAAABAAAAAAAAABS/f//AAACAAwAAABXZWF0aGVyRGVsYXkAAAAAvPz//wAA'\n              b'AQMYAAAADAAAAAQAAAAAAAAAhv3//wAAAgAMAAAAQ2FycmllckRlbGF5AAAA'\n              b'APD8//8AAAECHAAAAAwAAAAEAAAAAAAAAOD8//8AAAABQAAAAAkAAABDYW5j'\n              b'ZWxsZWQAAAAk/f//AAABAxgAAAAMAAAABAAAAAAAAADu/f//AAACAAcAAABU'\n              b'YXhpT3V0AFD9//8AAAEDGAAAAAwAAAAEAAAAAAAAABr+//8AAAIACAAAAERp'\n              b'c3RhbmNlAAAAAID9//8AAAEFFAAAAAwAAAAEAAAAAAAAABj///8EAAAARGVz'\n              b'dAAAAACo/f//AAABBRQAAAAMAAAABAAAAAAAAABA////BgAAAE9yaWdpbgAA'\n              b'0P3//wAAAQIcAAAADAAAAAQAAAAAAAAAwP3//wAAAAFAAAAABwAAAEFpclRp'\n              b'bWUAAP7//wAAAQMYAAAADAAAAAQAAAAAAAAAyv7//wAAAgAOAAAAQ1JTRWxh'\n              b'cHNlZFRpbWUAADT+//8AAAECHAAAAAwAAAAEAAAAAAAAACT+//8AAAABQAAA'\n              b'AAkAAABGbGlnaHROdW0AAABo/v//AAABBRgAAAAQAAAABAAAAAAAAAAEAAQA'\n              b'BAAAAA0AAABVbmlxdWVDYXJyaWVyAAAAnP7//wAAAQIcAAAADAAAAAQAAAAA'\n              b'AAAAjP7//wAAAAFAAAAACgAAAENSU0FyclRpbWUAAND+//8AAAECHAAAAAwA'\n              b'AAAEAAAAAAAAAMD+//8AAAABQAAAAAcAAABBcnJUaW1lAAD///8AAAECHAAA'\n              b'AAwAAAAEAAAAAAAAAPD+//8AAAABQAAAAAoAAABDUlNEZXBUaW1lAAA0////'\n              b'AAABAyAAAAAUAAAABAAAAAAAAAAAAAYACAAGAAYAAAAAAAIABwAAAERlcFRp'\n              b'bWUAaP///wAAAQIcAAAADAAAAAQAAAAAAAAAWP///wAAAAFAAAAACQAAAERh'\n              b'eU9mV2VlawAAAJz///8AAAECHAAAAAwAAAAEAAAAAAAAAIz///8AAAABQAAA'\n              b'AAoAAABEYXlvZk1vbnRoAADQ////AAABAhwAAAAMAAAABAAAAAAAAADA////'\n              b'AAAAAUAAAAAFAAAATW9udGgAAAAQABQACAAGAAcADAAAABAAEAAAAAAAAQIk'\n              b'AAAAFAAAAAQAAAAAAAAACAAMAAgABwAIAAAAAAAAAUAAAAAEAAAAWWVhcgAA'\n              b'AAA=')])\n\nvs\n\nYear: int64\nMonth: int64\nDayofMonth: int64\nDayOfWeek: int64\nDepTime: double\nCRSDepTime: int64\nArrTime: double\nCRSArrTime: int64\nUniqueCarrier: string\nFlightNum: int64\nCRSElapsedTime: double\nAirTime: double\nOrigin: string\nDest: string\nDistance: double\nTaxiOut: double\nCancelled: int64\nCarrierDelay: double\nWeatherDelay: double\nNASDelay: double\nSecurityDelay: double\nLateAircraftDelay: double\nmetadata\n--------\nOrderedDict([(b'pandas',\n              b'{\"index_columns\": [{\"kind\": \"range\", \"name\": null, \"start\": '\n              b'90730000, \"stop\": 90740000, \"step\": 1}], \"column_indexes\": ['\n              b'{\"name\": null, \"field_name\": null, \"pandas_type\": \"unicode\",'\n              b' \"numpy_type\": \"object\", \"metadata\": {\"encoding\": \"UTF-8\"}}]'\n              b', \"columns\": [{\"name\": \"Year\", \"field_name\": \"Year\", \"pandas'\n              b'_type\": \"int64\", \"numpy_type\": \"int64\", \"metadata\": null}, {'\n              b'\"name\": \"Month\", \"field_name\": \"Month\", \"pandas_type\": \"int6'\n              b'4\", \"numpy_type\": \"int64\", \"metadata\": null}, {\"name\": \"Dayo'\n              b'fMonth\", \"field_name\": \"DayofMonth\", \"pandas_type\": \"int64\",'\n              b' \"numpy_type\": \"int64\", \"metadata\": null}, {\"name\": \"DayOfWe'\n              b'ek\", \"field_name\": \"DayOfWeek\", \"pandas_type\": \"int64\", \"num'\n              b'py_type\": \"int64\", \"metadata\": null}, {\"name\": \"DepTime\", \"f'\n              b'ield_name\": \"DepTime\", \"pandas_type\": \"float64\", \"numpy_type'\n              b'\": \"float64\", \"metadata\": null}, {\"name\": \"CRSDepTime\", \"fie'\n              b'ld_name\": \"CRSDepTime\", \"pandas_type\": \"int64\", \"numpy_type\"'\n              b': \"int64\", \"metadata\": null}, {\"name\": \"ArrTime\", \"field_nam'\n              b'e\": \"ArrTime\", \"pandas_type\": \"float64\", \"numpy_type\": \"floa'\n              b't64\", \"metadata\": null}, {\"name\": \"CRSArrTime\", \"field_name\"'\n              b': \"CRSArrTime\", \"pandas_type\": \"int64\", \"numpy_type\": \"int64'\n              b'\", \"metadata\": null}, {\"name\": \"UniqueCarrier\", \"field_name\"'\n              b': \"UniqueCarrier\", \"pandas_type\": \"unicode\", \"numpy_type\": \"'\n              b'object\", \"metadata\": null}, {\"name\": \"FlightNum\", \"field_nam'\n              b'e\": \"FlightNum\", \"pandas_type\": \"int64\", \"numpy_type\": \"int6'\n              b'4\", \"metadata\": null}, {\"name\": \"CRSElapsedTime\", \"field_nam'\n              b'e\": \"CRSElapsedTime\", \"pandas_type\": \"float64\", \"numpy_type\"'\n              b': \"float64\", \"metadata\": null}, {\"name\": \"AirTime\", \"field_n'\n              b'ame\": \"AirTime\", \"pandas_type\": \"float64\", \"numpy_type\": \"fl'\n              b'oat64\", \"metadata\": null}, {\"name\": \"Origin\", \"field_name\": '\n              b'\"Origin\", \"pandas_type\": \"unicode\", \"numpy_type\": \"object\", '\n              b'\"metadata\": null}, {\"name\": \"Dest\", \"field_name\": \"Dest\", \"p'\n              b'andas_type\": \"unicode\", \"numpy_type\": \"object\", \"metadata\": '\n              b'null}, {\"name\": \"Distance\", \"field_name\": \"Distance\", \"panda'\n              b's_type\": \"float64\", \"numpy_type\": \"float64\", \"metadata\": nul'\n              b'l}, {\"name\": \"TaxiOut\", \"field_name\": \"TaxiOut\", \"pandas_typ'\n              b'e\": \"float64\", \"numpy_type\": \"float64\", \"metadata\": null}, {'\n              b'\"name\": \"Cancelled\", \"field_name\": \"Cancelled\", \"pandas_type'\n              b'\": \"int64\", \"numpy_type\": \"int64\", \"metadata\": null}, {\"name'\n              b'\": \"CarrierDelay\", \"field_name\": \"CarrierDelay\", \"pandas_typ'\n              b'e\": \"float64\", \"numpy_type\": \"float64\", \"metadata\": null}, {'\n              b'\"name\": \"WeatherDelay\", \"field_name\": \"WeatherDelay\", \"panda'\n              b's_type\": \"float64\", \"numpy_type\": \"float64\", \"metadata\": nul'\n              b'l}, {\"name\": \"NASDelay\", \"field_name\": \"NASDelay\", \"pandas_t'\n              b'ype\": \"float64\", \"numpy_type\": \"float64\", \"metadata\": null},'\n              b' {\"name\": \"SecurityDelay\", \"field_name\": \"SecurityDelay\", \"p'\n              b'andas_type\": \"float64\", \"numpy_type\": \"float64\", \"metadata\":'\n              b' null}, {\"name\": \"LateAircraftDelay\", \"field_name\": \"LateAir'\n              b'craftDelay\", \"pandas_type\": \"float64\", \"numpy_type\": \"float6'\n              b'4\", \"metadata\": null}], \"creator\": {\"library\": \"pyarrow\", \"v'\n              b'ersion\": \"0.15.1\"}, \"pandas_version\": \"0.25.3\"}'),\n             (b'ARROW:schema',\n              b'/////4AQAAAQAAAAAAAKAA4ABgAFAAgACgAAAAABAwAQAAAAAAAKAAwAAAAE'\n              b'AAgACgAAAKQLAAAEAAAAAQAAAAwAAAAIAAwABAAIAAgAAAAIAAAAEAAAAAYA'\n              b'AABwYW5kYXMAAG8LAAB7ImluZGV4X2NvbHVtbnMiOiBbeyJraW5kIjogInJh'\n              b'bmdlIiwgIm5hbWUiOiBudWxsLCAic3RhcnQiOiA5MDczMDAwMCwgInN0b3Ai'\n              b'OiA5MDc0MDAwMCwgInN0ZXAiOiAxfV0sICJjb2x1bW5faW5kZXhlcyI6IFt7'\n              b'Im5hbWUiOiBudWxsLCAiZmllbGRfbmFtZSI6IG51bGwsICJwYW5kYXNfdHlw'\n              b'ZSI6ICJ1bmljb2RlIiwgIm51bXB5X3R5cGUiOiAib2JqZWN0IiwgIm1ldGFk'\n              b'YXRhIjogeyJlbmNvZGluZyI6ICJVVEYtOCJ9fV0sICJjb2x1bW5zIjogW3si'\n              b'bmFtZSI6ICJZZWFyIiwgImZpZWxkX25hbWUiOiAiWWVhciIsICJwYW5kYXNf'\n              b'dHlwZSI6ICJpbnQ2NCIsICJudW1weV90eXBlIjogImludDY0IiwgIm1ldGFk'\n              b'YXRhIjogbnVsbH0sIHsibmFtZSI6ICJNb250aCIsICJmaWVsZF9uYW1lIjog'\n              b'Ik1vbnRoIiwgInBhbmRhc190eXBlIjogImludDY0IiwgIm51bXB5X3R5cGUi'\n              b'OiAiaW50NjQiLCAibWV0YWRhdGEiOiBudWxsfSwgeyJuYW1lIjogIkRheW9m'\n              b'TW9udGgiLCAiZmllbGRfbmFtZSI6ICJEYXlvZk1vbnRoIiwgInBhbmRhc190'\n              b'eXBlIjogImludDY0IiwgIm51bXB5X3R5cGUiOiAiaW50NjQiLCAibWV0YWRh'\n              b'dGEiOiBudWxsfSwgeyJuYW1lIjogIkRheU9mV2VlayIsICJmaWVsZF9uYW1l'\n              b'IjogIkRheU9mV2VlayIsICJwYW5kYXNfdHlwZSI6ICJpbnQ2NCIsICJudW1w'\n              b'eV90eXBlIjogImludDY0IiwgIm1ldGFkYXRhIjogbnVsbH0sIHsibmFtZSI6'\n              b'ICJEZXBUaW1lIiwgImZpZWxkX25hbWUiOiAiRGVwVGltZSIsICJwYW5kYXNf'\n              b'dHlwZSI6ICJmbG9hdDY0IiwgIm51bXB5X3R5cGUiOiAiZmxvYXQ2NCIsICJt'\n              b'ZXRhZGF0YSI6IG51bGx9LCB7Im5hbWUiOiAiQ1JTRGVwVGltZSIsICJmaWVs'\n              b'ZF9uYW1lIjogIkNSU0RlcFRpbWUiLCAicGFuZGFzX3R5cGUiOiAiaW50NjQi'\n              b'LCAibnVtcHlfdHlwZSI6ICJpbnQ2NCIsICJtZXRhZGF0YSI6IG51bGx9LCB7'\n              b'Im5hbWUiOiAiQXJyVGltZSIsICJmaWVsZF9uYW1lIjogIkFyclRpbWUiLCAi'\n              b'cGFuZGFzX3R5cGUiOiAiZmxvYXQ2NCIsICJudW1weV90eXBlIjogImZsb2F0'\n              b'NjQiLCAibWV0YWRhdGEiOiBudWxsfSwgeyJuYW1lIjogIkNSU0FyclRpbWUi'\n              b'LCAiZmllbGRfbmFtZSI6ICJDUlNBcnJUaW1lIiwgInBhbmRhc190eXBlIjog'\n              b'ImludDY0IiwgIm51bXB5X3R5cGUiOiAiaW50NjQiLCAibWV0YWRhdGEiOiBu'\n              b'dWxsfSwgeyJuYW1lIjogIlVuaXF1ZUNhcnJpZXIiLCAiZmllbGRfbmFtZSI6'\n              b'ICJVbmlxdWVDYXJyaWVyIiwgInBhbmRhc190eXBlIjogInVuaWNvZGUiLCAi'\n              b'bnVtcHlfdHlwZSI6ICJvYmplY3QiLCAibWV0YWRhdGEiOiBudWxsfSwgeyJu'\n              b'YW1lIjogIkZsaWdodE51bSIsICJmaWVsZF9uYW1lIjogIkZsaWdodE51bSIs'\n              b'ICJwYW5kYXNfdHlwZSI6ICJpbnQ2NCIsICJudW1weV90eXBlIjogImludDY0'\n              b'IiwgIm1ldGFkYXRhIjogbnVsbH0sIHsibmFtZSI6ICJDUlNFbGFwc2VkVGlt'\n              b'ZSIsICJmaWVsZF9uYW1lIjogIkNSU0VsYXBzZWRUaW1lIiwgInBhbmRhc190'\n              b'eXBlIjogImZsb2F0NjQiLCAibnVtcHlfdHlwZSI6ICJmbG9hdDY0IiwgIm1l'\n              b'dGFkYXRhIjogbnVsbH0sIHsibmFtZSI6ICJBaXJUaW1lIiwgImZpZWxkX25h'\n              b'bWUiOiAiQWlyVGltZSIsICJwYW5kYXNfdHlwZSI6ICJmbG9hdDY0IiwgIm51'\n              b'bXB5X3R5cGUiOiAiZmxvYXQ2NCIsICJtZXRhZGF0YSI6IG51bGx9LCB7Im5h'\n              b'bWUiOiAiT3JpZ2luIiwgImZpZWxkX25hbWUiOiAiT3JpZ2luIiwgInBhbmRh'\n              b'c190eXBlIjogInVuaWNvZGUiLCAibnVtcHlfdHlwZSI6ICJvYmplY3QiLCAi'\n              b'bWV0YWRhdGEiOiBudWxsfSwgeyJuYW1lIjogIkRlc3QiLCAiZmllbGRfbmFt'\n              b'ZSI6ICJEZXN0IiwgInBhbmRhc190eXBlIjogInVuaWNvZGUiLCAibnVtcHlf'\n              b'dHlwZSI6ICJvYmplY3QiLCAibWV0YWRhdGEiOiBudWxsfSwgeyJuYW1lIjog'\n              b'IkRpc3RhbmNlIiwgImZpZWxkX25hbWUiOiAiRGlzdGFuY2UiLCAicGFuZGFz'\n              b'X3R5cGUiOiAiZmxvYXQ2NCIsICJudW1weV90eXBlIjogImZsb2F0NjQiLCAi'\n              b'bWV0YWRhdGEiOiBudWxsfSwgeyJuYW1lIjogIlRheGlPdXQiLCAiZmllbGRf'\n              b'bmFtZSI6ICJUYXhpT3V0IiwgInBhbmRhc190eXBlIjogImZsb2F0NjQiLCAi'\n              b'bnVtcHlfdHlwZSI6ICJmbG9hdDY0IiwgIm1ldGFkYXRhIjogbnVsbH0sIHsi'\n              b'bmFtZSI6ICJDYW5jZWxsZWQiLCAiZmllbGRfbmFtZSI6ICJDYW5jZWxsZWQi'\n              b'LCAicGFuZGFzX3R5cGUiOiAiaW50NjQiLCAibnVtcHlfdHlwZSI6ICJpbnQ2'\n              b'NCIsICJtZXRhZGF0YSI6IG51bGx9LCB7Im5hbWUiOiAiQ2FycmllckRlbGF5'\n              b'IiwgImZpZWxkX25hbWUiOiAiQ2FycmllckRlbGF5IiwgInBhbmRhc190eXBl'\n              b'IjogImZsb2F0NjQiLCAibnVtcHlfdHlwZSI6ICJmbG9hdDY0IiwgIm1ldGFk'\n              b'YXRhIjogbnVsbH0sIHsibmFtZSI6ICJXZWF0aGVyRGVsYXkiLCAiZmllbGRf'\n              b'bmFtZSI6ICJXZWF0aGVyRGVsYXkiLCAicGFuZGFzX3R5cGUiOiAiZmxvYXQ2'\n              b'NCIsICJudW1weV90eXBlIjogImZsb2F0NjQiLCAibWV0YWRhdGEiOiBudWxs'\n              b'fSwgeyJuYW1lIjogIk5BU0RlbGF5IiwgImZpZWxkX25hbWUiOiAiTkFTRGVs'\n              b'YXkiLCAicGFuZGFzX3R5cGUiOiAiZmxvYXQ2NCIsICJudW1weV90eXBlIjog'\n              b'ImZsb2F0NjQiLCAibWV0YWRhdGEiOiBudWxsfSwgeyJuYW1lIjogIlNlY3Vy'\n              b'aXR5RGVsYXkiLCAiZmllbGRfbmFtZSI6ICJTZWN1cml0eURlbGF5IiwgInBh'\n              b'bmRhc190eXBlIjogImZsb2F0NjQiLCAibnVtcHlfdHlwZSI6ICJmbG9hdDY0'\n              b'IiwgIm1ldGFkYXRhIjogbnVsbH0sIHsibmFtZSI6ICJMYXRlQWlyY3JhZnRE'\n              b'ZWxheSIsICJmaWVsZF9uYW1lIjogIkxhdGVBaXJjcmFmdERlbGF5IiwgInBh'\n              b'bmRhc190eXBlIjogImZsb2F0NjQiLCAibnVtcHlfdHlwZSI6ICJmbG9hdDY0'\n              b'IiwgIm1ldGFkYXRhIjogbnVsbH1dLCAiY3JlYXRvciI6IHsibGlicmFyeSI6'\n              b'ICJweWFycm93IiwgInZlcnNpb24iOiAiMC4xNS4xIn0sICJwYW5kYXNfdmVy'\n              b'c2lvbiI6ICIwLjI1LjMifQAWAAAAdAQAADAEAAD4AwAAwAMAAIgDAABQAwAA'\n              b'IAMAAOgCAACwAgAAeAIAAEACAAAQAgAA5AEAALgBAACEAQAAVAEAABwBAADk'\n              b'AAAArAAAAHgAAABAAAAABAAAAPT7//8AAAEDGAAAAAwAAAAEAAAAAAAAAL78'\n              b'//8AAAIAEQAAAExhdGVBaXJjcmFmdERlbGF5AAAALPz//wAAAQMYAAAADAAA'\n              b'AAQAAAAAAAAA9vz//wAAAgANAAAAU2VjdXJpdHlEZWxheQAAAGD8//8AAAED'\n              b'GAAAAAwAAAAEAAAAAAAAACr9//8AAAIACAAAAE5BU0RlbGF5AAAAAJD8//8A'\n              b'AAEDGAAAAAwAAAAEAAAAAAAAAFr9//8AAAIADAAAAFdlYXRoZXJEZWxheQAA'\n              b'AADE/P//AAABAxgAAAAMAAAABAAAAAAAAACO/f//AAACAAwAAABDYXJyaWVy'\n              b'RGVsYXkAAAAA+Pz//wAAAQIcAAAADAAAAAQAAAAAAAAA6Pz//wAAAAFAAAAA'\n              b'CQAAAENhbmNlbGxlZAAAACz9//8AAAEDGAAAAAwAAAAEAAAAAAAAAPb9//8A'\n              b'AAIABwAAAFRheGlPdXQAWP3//wAAAQMYAAAADAAAAAQAAAAAAAAAIv7//wAA'\n              b'AgAIAAAARGlzdGFuY2UAAAAAiP3//wAAAQUUAAAADAAAAAQAAAAAAAAAHP//'\n              b'/wQAAABEZXN0AAAAALD9//8AAAEFFAAAAAwAAAAEAAAAAAAAAET///8GAAAA'\n              b'T3JpZ2luAADY/f//AAABAxgAAAAMAAAABAAAAAAAAACi/v//AAACAAcAAABB'\n              b'aXJUaW1lAAT+//8AAAEDGAAAAAwAAAAEAAAAAAAAAM7+//8AAAIADgAAAENS'\n              b'U0VsYXBzZWRUaW1lAAA4/v//AAABAhwAAAAMAAAABAAAAAAAAAAo/v//AAAA'\n              b'AUAAAAAJAAAARmxpZ2h0TnVtAAAAbP7//wAAAQUYAAAAEAAAAAQAAAAAAAAA'\n              b'BAAEAAQAAAANAAAAVW5pcXVlQ2FycmllcgAAAKD+//8AAAECHAAAAAwAAAAE'\n              b'AAAAAAAAAJD+//8AAAABQAAAAAoAAABDUlNBcnJUaW1lAADU/v//AAABAxgA'\n              b'AAAMAAAABAAAAAAAAACe////AAACAAcAAABBcnJUaW1lAAD///8AAAECHAAA'\n              b'AAwAAAAEAAAAAAAAAPD+//8AAAABQAAAAAoAAABDUlNEZXBUaW1lAAA0////'\n              b'AAABAyAAAAAUAAAABAAAAAAAAAAAAAYACAAGAAYAAAAAAAIABwAAAERlcFRp'\n              b'bWUAaP///wAAAQIcAAAADAAAAAQAAAAAAAAAWP///wAAAAFAAAAACQAAAERh'\n              b'eU9mV2VlawAAAJz///8AAAECHAAAAAwAAAAEAAAAAAAAAIz///8AAAABQAAA'\n              b'AAoAAABEYXlvZk1vbnRoAADQ////AAABAhwAAAAMAAAABAAAAAAAAADA////'\n              b'AAAAAUAAAAAFAAAATW9udGgAAAAQABQACAAGAAcADAAAABAAEAAAAAAAAQIk'\n              b'AAAAFAAAAAQAAAAAAAAACAAMAAgABwAIAAAAAAAAAUAAAAAEAAAAWWVhcgAA'\n              b'AAA=')])"
     ]
    }
   ],
   "source": [
    "dataset = pq.ParquetDataset(TARGET_PATH)"
   ]
  },
  {
   "cell_type": "code",
   "execution_count": null,
   "metadata": {},
   "outputs": [],
   "source": [
    "df = dataset.read().to_pandas().set_index(['Year', 'Month'], inplace=True)"
   ]
  },
  {
   "cell_type": "markdown",
   "metadata": {},
   "source": [
    "## cleanup"
   ]
  },
  {
   "cell_type": "code",
   "execution_count": null,
   "metadata": {},
   "outputs": [],
   "source": [
    "import shutil\n",
    "shutil.rmtree(TARGET_PATH)"
   ]
  },
  {
   "cell_type": "markdown",
   "metadata": {},
   "source": [
    "### single parquet file\n",
    "\n",
    "run this only when `dataset=False`"
   ]
  },
  {
   "cell_type": "code",
   "execution_count": null,
   "metadata": {},
   "outputs": [],
   "source": [
    "assert KEY in run.outputs.keys(), f\"mlrun.functions: key {KEY} not found in outputs\"\n",
    "assert os.path.isfile(TARGET_PATH+'/'+ FILE_NAME),  f\"mlrun.functions: artifact source not found at {TARGET_PATH+'/'+ FILE_NAME}\""
   ]
  },
  {
   "cell_type": "code",
   "execution_count": null,
   "metadata": {},
   "outputs": [],
   "source": [
    "copied   = pd.read_parquet(TARGET_PATH+'/'+ FILE_NAME, engine=\"pyarrow\")"
   ]
  }
 ],
 "metadata": {
  "kernelspec": {
   "display_name": "Python 3",
   "language": "python",
   "name": "python3"
  },
  "language_info": {
   "codemirror_mode": {
    "name": "ipython",
    "version": 3
   },
   "file_extension": ".py",
   "mimetype": "text/x-python",
   "name": "python",
   "nbconvert_exporter": "python",
   "pygments_lexer": "ipython3",
   "version": "3.6.8"
  }
 },
 "nbformat": 4,
 "nbformat_minor": 4
}
