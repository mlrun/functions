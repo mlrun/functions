{
 "cells": [
  {
   "cell_type": "markdown",
   "metadata": {},
   "source": [
    "# archive to parquet - partitioned data\n",
    "\n",
    "Ailines data"
   ]
  },
  {
   "cell_type": "code",
   "execution_count": 1,
   "metadata": {},
   "outputs": [],
   "source": [
    "import mlrun\n",
    "import os\n",
    "mlrun.mlconf.dbpath = 'http://mlrun-api:8080'"
   ]
  },
  {
   "cell_type": "markdown",
   "metadata": {},
   "source": [
    "## parameters"
   ]
  },
  {
   "cell_type": "code",
   "execution_count": 2,
   "metadata": {},
   "outputs": [],
   "source": [
    "FUNCTION           = 'arc_to_parquet'\n",
    "DESCRIPTION        = 'retrieve archive table and save as partitioned parquet dataset'\n",
    "\n",
    "BASE_IMAGE         = 'yjbds/mlrun_dev-files:latest'\n",
    "JOB_KIND           = 'job'\n",
    "TASK_NAME          = 'user-task-arc-to-part-parq'\n",
    "\n",
    "CODE_BASE          = '/User/repos/functions/fileutils'\n",
    "\n",
    "ARCHIVE_BIG        = \"https://s3.amazonaws.com/h2o-airlines-unpacked/allyears_10.csv\"\n",
    "ARCHIVE            = \"https://s3.amazonaws.com/h2o-airlines-unpacked/allyears.csv\"\n",
    "ARCHIVE_SMALL      = \"https://s3.amazonaws.com/h2o-airlines-unpacked/allyears2k.csv\"\n",
    "\n",
    "USE_ARCHIVE        = ARCHIVE_SMALL\n",
    "TARGET_PATH        = '/User/mlrun/airlines/dataset-small'\n",
    "\n",
    "FILE_SHAPE         = (123_534_969, 21) # (rows, cols)\n",
    "SMALL_FILE_SHAPE   = (43_978, 21) # (rows, cols)\n",
    "\n",
    "FILE_NAME          = 'airlines.pqt'\n",
    "KEY                = 'airlines'"
   ]
  },
  {
   "cell_type": "code",
   "execution_count": 3,
   "metadata": {},
   "outputs": [],
   "source": [
    "PARTITIONS_DEST = 'partitions'\n",
    "PARTITION_COLS = ['Year', 'Month']"
   ]
  },
  {
   "cell_type": "code",
   "execution_count": 4,
   "metadata": {},
   "outputs": [],
   "source": [
    "HEADER = ['Year','Month','DayofMonth','DayOfWeek','DepTime','CRSDepTime','ArrTime','CRSArrTime',\n",
    "          'UniqueCarrier','FlightNum','TailNum','ActualElapsedTime','CRSElapsedTime','AirTime',\n",
    "          'ArrDelay','DepDelay','Origin','Dest','Distance','TaxiIn','TaxiOut','Cancelled',\n",
    "          'CancellationCode','Diverted','CarrierDelay','WeatherDelay','NASDelay','SecurityDelay',\n",
    "          'LateAircraftDelay']\n",
    "\n",
    "INC_COLS = ['Year','Month','DayofMonth','DayOfWeek','DepTime','CRSDepTime','ArrTime','CRSArrTime',\n",
    "          'UniqueCarrier','FlightNum', 'CRSElapsedTime','AirTime',\n",
    "          'Origin','Dest','Distance', 'TaxiIn', 'TaxiOut','Cancelled',\n",
    "          'CarrierDelay','WeatherDelay','NASDelay','SecurityDelay',\n",
    "          'LateAircraftDelay']\n",
    "\n",
    "ENCODING = 'latin-1'\n",
    "\n",
    "DTYPES_COLS = {\n",
    "     'CRSElapsedTime': 'float32', \n",
    "     'TailNum': 'str', \n",
    "     'Distance': 'float32',\n",
    "     'TaxiIn' : 'float32',\n",
    "     'TaxiOut': 'float32',\n",
    "     'ArrTime': 'float32',\n",
    "     'AirTime': 'float32',\n",
    "     'DepTime':'float32', \n",
    "     'CarrierDelay': 'float32', \n",
    "     'WeatherDelay': 'float32', \n",
    "     'NASDelay':'float32', \n",
    "     'SecurityDelay':'float32', \n",
    "     'LateAircraftDelay':'float32'}"
   ]
  },
  {
   "cell_type": "code",
   "execution_count": 5,
   "metadata": {},
   "outputs": [],
   "source": [
    "LABEL_COLUMN = \"IsArrDelayed\""
   ]
  },
  {
   "cell_type": "code",
   "execution_count": 6,
   "metadata": {},
   "outputs": [],
   "source": [
    "os.makedirs(os.path.join(TARGET_PATH, PARTITIONS_DEST), exist_ok=True)"
   ]
  },
  {
   "cell_type": "markdown",
   "metadata": {},
   "source": [
    "#### load function"
   ]
  },
  {
   "cell_type": "code",
   "execution_count": 7,
   "metadata": {},
   "outputs": [
    {
     "data": {
      "text/plain": [
       "'ready'"
      ]
     },
     "execution_count": 7,
     "metadata": {},
     "output_type": "execute_result"
    }
   ],
   "source": [
    "func_yaml = os.path.join(CODE_BASE, FUNCTION, 'function.yaml')\n",
    "\n",
    "arctoparq = mlrun.import_function(func_yaml)\n",
    "\n",
    "arctoparq.apply(mlrun.mount_v3io())\n",
    "\n",
    "arctoparq.deploy(skip_deployed=True, with_mlrun=False)"
   ]
  },
  {
   "cell_type": "code",
   "execution_count": 8,
   "metadata": {},
   "outputs": [
    {
     "name": "stdout",
     "output_type": "stream",
     "text": [
      "[mlrun] 2020-01-29 12:30:19,645 starting run user-task-arc-to-part-parq uid=963c75c5d76642da9bbae845f527e361  -> http://mlrun-api:8080\n",
      "[mlrun] 2020-01-29 12:30:19,808 Job is running in the background, pod: user-task-arc-to-part-parq-c8fjx\n",
      "[mlrun] 2020-01-29 12:30:24,158 destination file does not exist, downloading\n",
      "[mlrun] 2020-01-29 12:30:24,614 saved table to /User/mlrun/airlines/dataset-small/partitions\n",
      "[mlrun] 2020-01-29 12:30:24,647 log artifact airlines at /User/mlrun/airlines/dataset-small/partitions, size: None, db: Y\n",
      "\n",
      "[mlrun] 2020-01-29 12:30:24,667 run executed, status=completed\n",
      "final state: succeeded\n"
     ]
    },
    {
     "data": {
      "text/html": [
       "<style> \n",
       ".dictlist {\n",
       "  background-color: #b3edff; \n",
       "  text-align: center; \n",
       "  margin: 4px; \n",
       "  border-radius: 3px; padding: 0px 3px 1px 3px; display: inline-block;}\n",
       ".artifact {\n",
       "  cursor: pointer; \n",
       "  background-color: #ffe6cc; \n",
       "  text-align: left; \n",
       "  margin: 4px; border-radius: 3px; padding: 0px 3px 1px 3px; display: inline-block;\n",
       "}\n",
       "div.block.hidden {\n",
       "  display: none;\n",
       "}\n",
       ".clickable {\n",
       "  cursor: pointer;\n",
       "}\n",
       ".ellipsis {\n",
       "  display: inline-block;\n",
       "  max-width: 60px;\n",
       "  white-space: nowrap;\n",
       "  overflow: hidden;\n",
       "  text-overflow: ellipsis;\n",
       "}\n",
       ".master-wrapper {\n",
       "  display: flex;\n",
       "  flex-flow: row nowrap;\n",
       "  justify-content: flex-start;\n",
       "  align-items: stretch;\n",
       "}\n",
       ".master-tbl {\n",
       "  flex: 3\n",
       "}\n",
       ".master-wrapper > div {\n",
       "  margin: 4px;\n",
       "  padding: 10px;\n",
       "}\n",
       "iframe.fileview {\n",
       "  border: 0 none;\n",
       "  height: 100%;\n",
       "  width: 100%;\n",
       "  white-space: pre-wrap;\n",
       "}\n",
       ".pane-header-title {\n",
       "  width: 80%;\n",
       "  font-weight: 500;\n",
       "}\n",
       ".pane-header {\n",
       "  line-height: 1;\n",
       "  background-color: #ffe6cc;\n",
       "  padding: 3px;\n",
       "}\n",
       ".pane-header .close {\n",
       "  font-size: 20px;\n",
       "  font-weight: 700;\n",
       "  float: right;\n",
       "  margin-top: -5px;\n",
       "}\n",
       ".master-wrapper .right-pane {\n",
       "  border: 1px inset silver;\n",
       "  width: 40%;\n",
       "  min-height: 300px;\n",
       "  flex: 3\n",
       "  min-width: 500px;\n",
       "}\n",
       ".master-wrapper * {\n",
       "  box-sizing: border-box;\n",
       "}\n",
       "</style><script>\n",
       "function copyToClipboard(fld) {\n",
       "    if (document.queryCommandSupported && document.queryCommandSupported('copy')) {\n",
       "        var textarea = document.createElement('textarea');\n",
       "        textarea.textContent = fld.innerHTML;\n",
       "        textarea.style.position = 'fixed';\n",
       "        document.body.appendChild(textarea);\n",
       "        textarea.select();\n",
       "\n",
       "        try {\n",
       "            return document.execCommand('copy'); // Security exception may be thrown by some browsers.\n",
       "        } catch (ex) {\n",
       "\n",
       "        } finally {\n",
       "            document.body.removeChild(textarea);\n",
       "        }\n",
       "    }\n",
       "}\n",
       "function expandPanel(el) {\n",
       "  const panelName = \"#\" + el.getAttribute('paneName');\n",
       "  console.log(el.title);\n",
       "\n",
       "  document.querySelector(panelName + \"-title\").innerHTML = el.title\n",
       "  iframe = document.querySelector(panelName + \"-body\");\n",
       "  \n",
       "  const tblcss = `<style> body { font-family: Arial, Helvetica, sans-serif;}\n",
       "    #csv { margin-bottom: 15px; }\n",
       "    #csv table { border-collapse: collapse;}\n",
       "    #csv table td { padding: 4px 8px; border: 1px solid silver;} </style>`;\n",
       "\n",
       "  function csvToHtmlTable(str) {\n",
       "    return '<div id=\"csv\"><table><tr><td>' +  str.replace(/[\\n\\r]+$/g, '').replace(/[\\n\\r]+/g, '</td></tr><tr><td>')\n",
       "      .replace(/,/g, '</td><td>') + '</td></tr></table></div>';\n",
       "  }\n",
       "  \n",
       "  function reqListener () {\n",
       "    if (el.title.endsWith(\".csv\")) {\n",
       "      iframe.setAttribute(\"srcdoc\", tblcss + csvToHtmlTable(this.responseText));\n",
       "    } else {\n",
       "      iframe.setAttribute(\"srcdoc\", this.responseText);\n",
       "    }  \n",
       "    console.log(this.responseText);\n",
       "  }\n",
       "\n",
       "  const oReq = new XMLHttpRequest();\n",
       "  oReq.addEventListener(\"load\", reqListener);\n",
       "  oReq.open(\"GET\", el.title);\n",
       "  oReq.send();\n",
       "  \n",
       "  \n",
       "  //iframe.src = el.title;\n",
       "  const resultPane = document.querySelector(panelName + \"-pane\");\n",
       "  if (resultPane.classList.contains(\"hidden\")) {\n",
       "    resultPane.classList.remove(\"hidden\");\n",
       "  }\n",
       "}\n",
       "function closePanel(el) {\n",
       "  const panelName = \"#\" + el.getAttribute('paneName')\n",
       "  const resultPane = document.querySelector(panelName + \"-pane\");\n",
       "  if (!resultPane.classList.contains(\"hidden\")) {\n",
       "    resultPane.classList.add(\"hidden\");\n",
       "  }\n",
       "}\n",
       "\n",
       "</script>\n",
       "<div class=\"master-wrapper\">\n",
       "  <div class=\"block master-tbl\"><div>\n",
       "<style scoped>\n",
       "    .dataframe tbody tr th:only-of-type {\n",
       "        vertical-align: middle;\n",
       "    }\n",
       "\n",
       "    .dataframe tbody tr th {\n",
       "        vertical-align: top;\n",
       "    }\n",
       "\n",
       "    .dataframe thead th {\n",
       "        text-align: right;\n",
       "    }\n",
       "</style>\n",
       "<table border=\"1\" class=\"dataframe\">\n",
       "  <thead>\n",
       "    <tr style=\"text-align: right;\">\n",
       "      <th>uid</th>\n",
       "      <th>iter</th>\n",
       "      <th>start</th>\n",
       "      <th>state</th>\n",
       "      <th>name</th>\n",
       "      <th>labels</th>\n",
       "      <th>inputs</th>\n",
       "      <th>parameters</th>\n",
       "      <th>results</th>\n",
       "      <th>artifacts</th>\n",
       "    </tr>\n",
       "  </thead>\n",
       "  <tbody>\n",
       "    <tr>\n",
       "      <td><div title=\"963c75c5d76642da9bbae845f527e361\">...27e361</div></td>\n",
       "      <td>0</td>\n",
       "      <td>Jan 29 12:30:24</td>\n",
       "      <td>completed</td>\n",
       "      <td>function</td>\n",
       "      <td><div class=\"dictlist\">host=user-task-arc-to-part-parq-c8fjx</div><div class=\"dictlist\">kind=job</div><div class=\"dictlist\">owner=admin</div></td>\n",
       "      <td></td>\n",
       "      <td><div class=\"dictlist\">archive_url=https://s3.amazonaws.com/h2o-airlines-unpacked/allyears2k.csv</div><div class=\"dictlist\">dataset=partitions</div><div class=\"dictlist\">dtype={'AirTime': 'float32', 'ArrTime': 'float32', 'CRSElapsedTime': 'float32', 'CarrierDelay': 'float32', 'DepTime': 'float32', 'Distance': 'float32', 'LateAircraftDelay': 'float32', 'NASDelay': 'float32', 'SecurityDelay': 'float32', 'TailNum': 'str', 'TaxiIn': 'float32', 'TaxiOut': 'float32', 'WeatherDelay': 'float32'}</div><div class=\"dictlist\">encoding=latin-1</div><div class=\"dictlist\">inc_cols=['Year', 'Month', 'DayofMonth', 'DayOfWeek', 'DepTime', 'CRSDepTime', 'ArrTime', 'CRSArrTime', 'UniqueCarrier', 'FlightNum', 'CRSElapsedTime', 'AirTime', 'Origin', 'Dest', 'Distance', 'TaxiIn', 'TaxiOut', 'Cancelled', 'CarrierDelay', 'WeatherDelay', 'NASDelay', 'SecurityDelay', 'LateAircraftDelay']</div><div class=\"dictlist\">key=airlines</div><div class=\"dictlist\">name=airlines.pqt</div><div class=\"dictlist\">part_cols=['Year', 'Month']</div><div class=\"dictlist\">target_path=/User/mlrun/airlines/dataset-small</div></td>\n",
       "      <td></td>\n",
       "      <td><div title=\"/User/mlrun/airlines/dataset-small/partitions\">airlines</div></td>\n",
       "    </tr>\n",
       "  </tbody>\n",
       "</table>\n",
       "</div></div>\n",
       "  <div id=\"resultc8d3d0f7-pane\" class=\"right-pane block hidden\">\n",
       "    <div class=\"pane-header\">\n",
       "      <span id=\"resultc8d3d0f7-title\" class=\"pane-header-title\">Title</span>\n",
       "      <span onclick=\"closePanel(this)\" paneName=\"resultc8d3d0f7\" class=\"close clickable\">&times;</span>\n",
       "    </div>\n",
       "    <iframe class=\"fileview\" id=\"resultc8d3d0f7-body\"></iframe>\n",
       "  </div>\n",
       "</div>\n"
      ],
      "text/plain": [
       "<IPython.core.display.HTML object>"
      ]
     },
     "metadata": {},
     "output_type": "display_data"
    },
    {
     "name": "stdout",
     "output_type": "stream",
     "text": [
      "to track results use .show() or .logs() or in CLI: \n",
      "!mlrun get run 963c75c5d76642da9bbae845f527e361  , !mlrun logs 963c75c5d76642da9bbae845f527e361 \n",
      "[mlrun] 2020-01-29 12:30:25,977 run executed, status=completed\n"
     ]
    }
   ],
   "source": [
    "# create and run the task\n",
    "arc_to_parq_task = mlrun.NewTask(\n",
    "    TASK_NAME, \n",
    "    handler=FUNCTION,  \n",
    "    params={\n",
    "        'target_path': TARGET_PATH,\n",
    "        'name'       : FILE_NAME, \n",
    "        'key'        : KEY,\n",
    "        'archive_url': USE_ARCHIVE,\n",
    "        'dataset'    : PARTITIONS_DEST,\n",
    "        'part_cols'  : PARTITION_COLS,\n",
    "        'encoding'   : ENCODING,\n",
    "        'inc_cols'   : INC_COLS,\n",
    "        'dtype'      : DTYPES_COLS})\n",
    "# run\n",
    "run = arctoparq.run(arc_to_parq_task)"
   ]
  },
  {
   "cell_type": "markdown",
   "metadata": {},
   "source": [
    "___"
   ]
  },
  {
   "cell_type": "markdown",
   "metadata": {},
   "source": [
    "## tests"
   ]
  },
  {
   "cell_type": "markdown",
   "metadata": {},
   "source": [
    "### a partitioned parquet table"
   ]
  },
  {
   "cell_type": "code",
   "execution_count": null,
   "metadata": {},
   "outputs": [],
   "source": [
    "import os\n",
    "import pandas as pd\n",
    "import pyarrow.parquet as pq"
   ]
  },
  {
   "cell_type": "code",
   "execution_count": null,
   "metadata": {},
   "outputs": [],
   "source": [
    "dataset = pq.ParquetDataset(os.path.join(TARGET_PATH, PARTITIONS_DEST))\n",
    "df = dataset.read().to_pandas()"
   ]
  },
  {
   "cell_type": "code",
   "execution_count": null,
   "metadata": {},
   "outputs": [],
   "source": [
    "df.set_index(PARTITION_COLS, inplace=True)"
   ]
  },
  {
   "cell_type": "code",
   "execution_count": null,
   "metadata": {},
   "outputs": [],
   "source": [
    "df.head()"
   ]
  },
  {
   "cell_type": "code",
   "execution_count": null,
   "metadata": {},
   "outputs": [],
   "source": [
    "if USE_ARCHIVE == ARCHIVE:\n",
    "    assert df.shape==FILE_SHAPE\n",
    "if USE_ARCHIVE == ARCHIVE_SMALL:\n",
    "    assert df.shape==SMALL_FILE_SHAPE, f\"{df.shape}\""
   ]
  },
  {
   "cell_type": "markdown",
   "metadata": {},
   "source": [
    "## cleanup"
   ]
  },
  {
   "cell_type": "code",
   "execution_count": null,
   "metadata": {},
   "outputs": [],
   "source": [
    "# import shutil\n",
    "# shutil.rmtree(TARGET_PATH)"
   ]
  }
 ],
 "metadata": {
  "kernelspec": {
   "display_name": "Python 3",
   "language": "python",
   "name": "python3"
  },
  "language_info": {
   "codemirror_mode": {
    "name": "ipython",
    "version": 3
   },
   "file_extension": ".py",
   "mimetype": "text/x-python",
   "name": "python",
   "nbconvert_exporter": "python",
   "pygments_lexer": "ipython3",
   "version": "3.6.8"
  }
 },
 "nbformat": 4,
 "nbformat_minor": 4
}
