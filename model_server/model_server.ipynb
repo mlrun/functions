{
 "cells": [
  {
   "cell_type": "markdown",
   "metadata": {},
   "source": [
    "# Model Server"
   ]
  },
  {
   "cell_type": "code",
   "execution_count": 11,
   "metadata": {},
   "outputs": [],
   "source": [
    "# nuclio: ignore\n",
    "import nuclio"
   ]
  },
  {
   "cell_type": "code",
   "execution_count": 12,
   "metadata": {},
   "outputs": [
    {
     "name": "stdout",
     "output_type": "stream",
     "text": [
      "%nuclio: setting kind to 'nuclio:serving'\n",
      "%nuclio: setting 'MODEL_CLASS' environment variable\n",
      "%nuclio: setting spec.build.baseImage to 'mlrun/mlrun'\n",
      "%nuclio: setting kind to 'job'\n"
     ]
    }
   ],
   "source": [
    "%nuclio config kind=\"nuclio:serving\"\n",
    "%nuclio env MODEL_CLASS=ClassifierModel\n",
    "%nuclio config spec.image = \"mlrun/mlrun\"\n",
    "%nuclio config kind = \"job\""
   ]
  },
  {
   "cell_type": "code",
   "execution_count": 13,
   "metadata": {},
   "outputs": [],
   "source": [
    "%%nuclio cmd -c\n",
    "python -m pip install numpy cloudpickle v3io sklearn"
   ]
  },
  {
   "cell_type": "code",
   "execution_count": 14,
   "metadata": {},
   "outputs": [],
   "source": [
    "from cloudpickle import load\n",
    "from typing import List\n",
    "from datetime import datetime\n",
    "from sklearn.datasets import load_iris\n",
    "\n",
    "import os\n",
    "import numpy as np\n",
    "import mlrun\n",
    "\n",
    "class ClassifierModel(mlrun.runtimes.MLModelServer):\n",
    "    def load(self):\n",
    "        \"\"\"Load model from storage.\"\"\"\n",
    "        model_file, extra_data = self.get_model('.pkl')\n",
    "        self.model = load(open(model_file, 'rb'))\n",
    "\n",
    "    def predict(self, body: dict) -> List:\n",
    "        \"\"\"Generate model predictions from sample.\n",
    "        \n",
    "        :param body : A dict of observations, each of which is an 1-dimensional feature vector.\n",
    "            \n",
    "        Returns model predictions as a `List`, one for each row in the `body` input `List`.\n",
    "        \"\"\"\n",
    "        try:\n",
    "            feats = np.asarray(body['instances'])\n",
    "            result: np.ndarray = self.model.predict(feats)\n",
    "            resp = result.tolist()\n",
    "        except Exception as e:\n",
    "            raise Exception(f\"Failed to predict {e}\")\n",
    "        \n",
    "        return resp"
   ]
  },
  {
   "cell_type": "code",
   "execution_count": 15,
   "metadata": {},
   "outputs": [],
   "source": [
    "# nuclio: end-code"
   ]
  },
  {
   "cell_type": "markdown",
   "metadata": {},
   "source": [
    "# Test models locally and deploy"
   ]
  },
  {
   "cell_type": "markdown",
   "metadata": {},
   "source": [
    "The sklearn-project generated one or more models that will be deployed in the server project `sklearn-servers`"
   ]
  },
  {
   "cell_type": "markdown",
   "metadata": {},
   "source": [
    "### Test locally"
   ]
  },
  {
   "cell_type": "code",
   "execution_count": 16,
   "metadata": {},
   "outputs": [],
   "source": [
    "models_path = ['https://s3.wasabisys.com/iguazio/models/iris/model.pkl']\n",
    "\n",
    "iris = load_iris()\n",
    "\n",
    "x = iris['data'].tolist()\n",
    "y = iris['target']\n",
    "\n",
    "for model in models_path:\n",
    "    if model.endswith(\".pkl\"):\n",
    "        \n",
    "        my_server = ClassifierModel('classifier', model_dir=model)\n",
    "        my_server.load()\n",
    "\n",
    "        a = my_server.predict({\"instances\": x})\n",
    "        \n",
    "        assert len(a)==150"
   ]
  },
  {
   "cell_type": "markdown",
   "metadata": {},
   "source": [
    "## Document and save"
   ]
  },
  {
   "cell_type": "code",
   "execution_count": 17,
   "metadata": {},
   "outputs": [
    {
     "name": "stdout",
     "output_type": "stream",
     "text": [
      "> 2020-10-18 17:27:05,549 [info] function spec saved to path: function.yaml\n"
     ]
    },
    {
     "data": {
      "text/plain": [
       "<mlrun.runtimes.function.RemoteRuntime at 0x7fa52113a210>"
      ]
     },
     "execution_count": 17,
     "metadata": {},
     "output_type": "execute_result"
    }
   ],
   "source": [
    "fn = mlrun.new_model_server('model-server', model_class='ClassifierModel')\n",
    "fn.spec.description = \"generic sklearn model server\"\n",
    "fn.metadata.categories = ['serving', 'ml']\n",
    "fn.metadata.labels = {'author': 'yaronh', 'framework': 'sklearn'}\n",
    "fn.export()"
   ]
  },
  {
   "cell_type": "markdown",
   "metadata": {},
   "source": [
    "##  Deploy server"
   ]
  },
  {
   "cell_type": "code",
   "execution_count": 18,
   "metadata": {},
   "outputs": [
    {
     "name": "stdout",
     "output_type": "stream",
     "text": [
      "> 2020-10-18 17:27:05,558 [info] deploy started\n",
      "[nuclio] 2020-10-18 17:27:14,770 (info) Build complete\n",
      "[nuclio] 2020-10-18 17:27:33,009 (info) Function deploy complete\n",
      "[nuclio] 2020-10-18 17:27:33,017 done updating sk-project-model-server, function address: 192.168.224.209:30499\n",
      "> 2020-10-18 17:27:33,026 [warning] warning!, server (0.5.1) and client (0.5.2) ver dont match\n"
     ]
    }
   ],
   "source": [
    "user_name = os.getenv('V3IO_USERNAME')\n",
    "\n",
    "fn.apply(mlrun.mount_v3io())\n",
    "fn.set_envs({'SERVING_MODEL_iris_dataset_v1': models_path[0],\n",
    "             'INFERENCE_STREAM': 'users/{}/tststream'.format(user_name)})\n",
    "\n",
    "address = fn.deploy(project='sk-project')"
   ]
  },
  {
   "cell_type": "markdown",
   "metadata": {},
   "source": [
    "##  Test server"
   ]
  },
  {
   "cell_type": "code",
   "execution_count": 19,
   "metadata": {},
   "outputs": [
    {
     "name": "stdout",
     "output_type": "stream",
     "text": [
      "[0, 2]"
     ]
    }
   ],
   "source": [
    "predict_url = address+\"/iris_dataset_v1/predict\"\n",
    "my_data = '''{\"instances\":[[5.1, 3.5, 1.4, 0.2],[7.7, 3.8, 6.7, 2.2]]}'''\n",
    "!curl {predict_url} -d '{my_data}'"
   ]
  }
 ],
 "metadata": {
  "kernelspec": {
   "display_name": "Python 3",
   "language": "python",
   "name": "python3"
  },
  "language_info": {
   "codemirror_mode": {
    "name": "ipython",
    "version": 3
   },
   "file_extension": ".py",
   "mimetype": "text/x-python",
   "name": "python",
   "nbconvert_exporter": "python",
   "pygments_lexer": "ipython3",
   "version": "3.7.6"
  }
 },
 "nbformat": 4,
 "nbformat_minor": 4
}