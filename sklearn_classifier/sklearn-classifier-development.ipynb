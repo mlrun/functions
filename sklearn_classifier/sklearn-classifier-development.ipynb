{
 "cells": [
  {
   "cell_type": "markdown",
   "metadata": {},
   "source": [
    "# work with model configs and training\n",
    "\n",
    "**TODO: put this in tutorials, use some for unit testing**\n",
    "\n",
    "**this core functions on this page are now implemented in [sklearn_classifier.py](sklearn_classifier.py)**\n",
    "\n",
    "**The are 3 sample class definitions in this folder.  The boosters were written by myself, the LogisticRegression was auto-generated in [get_model_configs(\"my_favorite_sklearn_class\")]() below.**"
   ]
  },
  {
   "cell_type": "code",
   "execution_count": 99,
   "metadata": {},
   "outputs": [],
   "source": [
    "import json\n",
    "import os\n",
    "from importlib import import_module\n",
    "from inspect import getfullargspec, FullArgSpec\n",
    "from cloudpickle import dump, load\n",
    "import itertools\n",
    "\n",
    "import sklearn\n",
    "import pandas as pd\n",
    "import numpy as np\n",
    "import matplotlib.pyplot as plt\n",
    "import seaborn as sns\n",
    "\n",
    "from sklearn.utils.testing import all_estimators\n",
    "from sklearn.datasets import make_classification\n",
    "from sklearn.preprocessing import label_binarize\n",
    "from sklearn.model_selection import train_test_split\n",
    "from sklearn import metrics\n",
    "\n",
    "from typing import Union, List, Any, Optional\n",
    "from mlrun.execution import MLClientCtx\n",
    "from mlrun.datastore import DataItem\n",
    "from mlrun.artifacts import PlotArtifact"
   ]
  },
  {
   "cell_type": "code",
   "execution_count": 100,
   "metadata": {},
   "outputs": [],
   "source": [
    "skversion = sklearn.__version__"
   ]
  },
  {
   "cell_type": "markdown",
   "metadata": {},
   "source": [
    "### generate some data"
   ]
  },
  {
   "cell_type": "code",
   "execution_count": 101,
   "metadata": {},
   "outputs": [],
   "source": [
    "N_CLASSES = 3\n",
    "N_FEATURES = 20\n",
    "N_SAMPLES = 10_000"
   ]
  },
  {
   "cell_type": "code",
   "execution_count": 102,
   "metadata": {},
   "outputs": [],
   "source": [
    "X, y = make_classification(\n",
    "    n_samples=N_SAMPLES, \n",
    "    n_features=N_FEATURES, \n",
    "    n_informative=3, \n",
    "    n_redundant=2, \n",
    "    n_repeated=0, \n",
    "    n_classes=N_CLASSES, \n",
    "    n_clusters_per_class=2, \n",
    "    weights=None, \n",
    "    flip_y=0.01, \n",
    "    class_sep=1.0, \n",
    "    hypercube=True, \n",
    "    shift=0.0, \n",
    "    scale=1.0, \n",
    "    shuffle=True, \n",
    "    random_state=1)"
   ]
  },
  {
   "cell_type": "markdown",
   "metadata": {},
   "source": [
    "since there is a chance that a sample test set may not contain all classes, we binarize/hot-encode the labels before performing a train-test split:"
   ]
  },
  {
   "cell_type": "code",
   "execution_count": 103,
   "metadata": {},
   "outputs": [],
   "source": [
    "yb = label_binarize(y, classes=list(range(N_CLASSES)))"
   ]
  },
  {
   "cell_type": "code",
   "execution_count": 104,
   "metadata": {},
   "outputs": [
    {
     "data": {
      "text/plain": [
       "array([2, 1, 1, ..., 2, 1, 0])"
      ]
     },
     "execution_count": 104,
     "metadata": {},
     "output_type": "execute_result"
    }
   ],
   "source": [
    "y"
   ]
  },
  {
   "cell_type": "code",
   "execution_count": 105,
   "metadata": {},
   "outputs": [
    {
     "data": {
      "text/plain": [
       "array([[0, 0, 1],\n",
       "       [0, 1, 0],\n",
       "       [0, 1, 0],\n",
       "       ...,\n",
       "       [0, 0, 1],\n",
       "       [0, 1, 0],\n",
       "       [1, 0, 0]])"
      ]
     },
     "execution_count": 105,
     "metadata": {},
     "output_type": "execute_result"
    }
   ],
   "source": [
    "yb"
   ]
  },
  {
   "cell_type": "code",
   "execution_count": 106,
   "metadata": {},
   "outputs": [],
   "source": [
    "# hide a copy of hot_encoded labels yb inside X and split\n",
    "xtrain, xtest, ytrain, ytest = train_test_split(np.concatenate([X, yb], axis=1), y)"
   ]
  },
  {
   "cell_type": "code",
   "execution_count": 107,
   "metadata": {},
   "outputs": [],
   "source": [
    "# extract the hot_encoded labels\n",
    "ytrainb = xtrain[:, -yb.shape[1]:].copy()\n",
    "xtrain = xtrain[:, :-yb.shape[1]].copy()"
   ]
  },
  {
   "cell_type": "code",
   "execution_count": 108,
   "metadata": {},
   "outputs": [],
   "source": [
    "assert xtrain.shape[1] == N_FEATURES\n",
    "assert ytrainb.shape[1] == N_CLASSES"
   ]
  },
  {
   "cell_type": "code",
   "execution_count": 109,
   "metadata": {},
   "outputs": [],
   "source": [
    "# extract the hot_encoded labels\n",
    "ytestb = xtest[:, -yb.shape[1]:].copy()\n",
    "xtest = xtest[:, :-yb.shape[1]].copy()"
   ]
  },
  {
   "cell_type": "markdown",
   "metadata": {},
   "source": [
    "### model configs - from json\n",
    "\n",
    "from saved json library of models, models can be<br>\n",
    "- generic: as defined with sklearn defaults<br>\n",
    "- from data scientist shared libraries<br>\n",
    "- good starting point from a previuos hyperparameter auto-tune<br>\n",
    "\n",
    "See **[generate sklearn model configs and save as json](#generate%20sklearn%20model%20configs.ipynb)**."
   ]
  },
  {
   "cell_type": "code",
   "execution_count": 110,
   "metadata": {},
   "outputs": [],
   "source": [
    "# original model config \n",
    "from_json       = json.load(open('LogisticRegression.json', 'r'))\n",
    "\n",
    "# copy for dev and test\n",
    "config_cp    = from_json.copy()\n",
    "class_params = config_cp[\"CLASS\"]\n",
    "fit_params   = config_cp[\"FIT\"]\n",
    "meta_params  = config_cp[\"META\"]"
   ]
  },
  {
   "cell_type": "code",
   "execution_count": 111,
   "metadata": {},
   "outputs": [
    {
     "data": {
      "text/plain": [
       "{'CLASS': {'penalty': 'l2',\n",
       "  'dual': False,\n",
       "  'tol': 0.0001,\n",
       "  'C': 1.0,\n",
       "  'fit_intercept': True,\n",
       "  'intercept_scaling': 1,\n",
       "  'class_weight': None,\n",
       "  'random_state': None,\n",
       "  'solver': 'warn',\n",
       "  'max_iter': 100,\n",
       "  'multi_class': 'warn',\n",
       "  'verbose': 0,\n",
       "  'warm_start': False,\n",
       "  'n_jobs': None,\n",
       "  'l1_ratio': None},\n",
       " 'FIT': {'X': None, 'y': None, 'sample_weight': None},\n",
       " 'META': {'sklearn_version': '0.21.3',\n",
       "  'classifier': 'sklearn.linear_model.logistic.LogisticRegression'}}"
      ]
     },
     "execution_count": 111,
     "metadata": {},
     "output_type": "execute_result"
    }
   ],
   "source": [
    "config_cp"
   ]
  },
  {
   "cell_type": "markdown",
   "metadata": {},
   "source": [
    "### from api\n",
    "Or you may have a pre-selected model type or list of models and wish to retrieve specific model configs for submission to a training routine: "
   ]
  },
  {
   "cell_type": "code",
   "execution_count": 112,
   "metadata": {},
   "outputs": [],
   "source": [
    "def get_model_configs(\n",
    "    my_models: Union[str, List[str]],\n",
    "    class_key = \"CLASS\",\n",
    "    fit_key = \"FIT\",\n",
    "    meta_key = \"META\",\n",
    ") -> Union[dict, List[dict]]:\n",
    "    \"\"\"build sklearn model configuration parameters\n",
    "    \n",
    "    Take (full) class name of an scikit-learn model \n",
    "    and retrieve its `class` and `fit` parameters and\n",
    "    their default values.\n",
    "    \n",
    "    Also returns some useful metadata values for the class\n",
    "    \"\"\"\n",
    "    # get a list of all sklearn estimators\n",
    "    estimators = all_estimators()\n",
    "    def _get_estimator(pkg_class):\n",
    "        \"\"\"find a specific class in a list of sklearn estimators\"\"\"\n",
    "        my_class = pkg_class.split('.')[-1]\n",
    "        return list(filter(lambda x: x[0] == my_class, estimators))[0]\n",
    "\n",
    "    # find estimators corresponding to my_models list\n",
    "    my_estimators = []\n",
    "    my_models = [my_models] if isinstance(my_models, str) else my_models\n",
    "    for model in my_models:\n",
    "        estimator_name, estimator_class = _get_estimator(model)\n",
    "        my_estimators.append((estimator_name, estimator_class))\n",
    "\n",
    "    # get class and fit specs\n",
    "    estimator_specs = []\n",
    "    for an_estimator in my_estimators:\n",
    "        estimator_specs.append((an_estimator[0], # model only name\n",
    "                                getfullargspec(an_estimator[1]), # class params\n",
    "                                getfullargspec(an_estimator[1].fit), # fit params\n",
    "                                an_estimator[1]) # package.module.model\n",
    "                              )\n",
    "\n",
    "    model_configs = []\n",
    "\n",
    "    for estimator in estimator_specs:\n",
    "        model_json = {class_key: {}, fit_key: {}}\n",
    "        fit_params = {}\n",
    "\n",
    "        for i, key in enumerate(model_json.keys()):\n",
    "            f = estimator[i+1]\n",
    "            args_paired = []\n",
    "            defs_paired = []\n",
    "\n",
    "            # reverse the args since there are fewer defaults than args\n",
    "            args = f.args\n",
    "            args.reverse()\n",
    "            n_args = len(args)\n",
    "\n",
    "            defs = f.defaults\n",
    "            if defs is None:\n",
    "                defs = [defs]\n",
    "            defs = list(defs)\n",
    "            defs.reverse()\n",
    "            n_defs = len(defs)\n",
    "\n",
    "            n_smallest = min(n_args, n_defs)\n",
    "            n_largest = max(n_args, n_defs)\n",
    "\n",
    "            # build 2 lists that can be concatenated\n",
    "            for ix in range(n_smallest):\n",
    "                if args[ix] is not \"self\":\n",
    "                    args_paired.append(args[ix])\n",
    "                    defs_paired.append(defs[ix])\n",
    "\n",
    "            for ix in range(n_smallest, n_largest):\n",
    "                if ix is not 0 and args[ix] is not \"self\":\n",
    "                    args_paired.append(args[ix])\n",
    "                    defs_paired.append(None)\n",
    "               # concatenate lists into appropriate structure\n",
    "            model_json[key] = dict(zip(reversed(args_paired), reversed(defs_paired)))\n",
    "\n",
    "        model_json[meta_key] = {}\n",
    "        model_json[meta_key]['sklearn_version'] = skversion\n",
    "        model_json[meta_key]['class'] = '.'.join([estimator[3].__module__, estimator[0]])\n",
    "        model_configs.append(model_json)\n",
    "    if len(model_configs) == 1:\n",
    "        return model_configs[0]\n",
    "    else:\n",
    "        return model_configs"
   ]
  },
  {
   "cell_type": "code",
   "execution_count": 113,
   "metadata": {},
   "outputs": [
    {
     "data": {
      "text/plain": [
       "{'CLASS': {'C': 1.0,\n",
       "  'kernel': 'rbf',\n",
       "  'degree': 3,\n",
       "  'gamma': 'auto_deprecated',\n",
       "  'coef0': 0.0,\n",
       "  'shrinking': True,\n",
       "  'probability': False,\n",
       "  'tol': 0.001,\n",
       "  'cache_size': 200,\n",
       "  'class_weight': None,\n",
       "  'verbose': False,\n",
       "  'max_iter': -1,\n",
       "  'decision_function_shape': 'ovr',\n",
       "  'random_state': None},\n",
       " 'FIT': {'X': None, 'y': None, 'sample_weight': None},\n",
       " 'META': {'sklearn_version': '0.21.3', 'class': 'sklearn.svm.classes.SVC'}}"
      ]
     },
     "execution_count": 113,
     "metadata": {},
     "output_type": "execute_result"
    }
   ],
   "source": [
    "# get a string (or DataItem)\n",
    "get_model_configs(\"sklearn.svm.SVC\")"
   ]
  },
  {
   "cell_type": "code",
   "execution_count": 114,
   "metadata": {},
   "outputs": [
    {
     "data": {
      "text/plain": [
       "[{'CLASS': {'penalty': 'l2',\n",
       "   'dual': False,\n",
       "   'tol': 0.0001,\n",
       "   'C': 1.0,\n",
       "   'fit_intercept': True,\n",
       "   'intercept_scaling': 1,\n",
       "   'class_weight': None,\n",
       "   'random_state': None,\n",
       "   'solver': 'warn',\n",
       "   'max_iter': 100,\n",
       "   'multi_class': 'warn',\n",
       "   'verbose': 0,\n",
       "   'warm_start': False,\n",
       "   'n_jobs': None,\n",
       "   'l1_ratio': None},\n",
       "  'FIT': {'X': None, 'y': None, 'sample_weight': None},\n",
       "  'META': {'sklearn_version': '0.21.3',\n",
       "   'class': 'sklearn.linear_model.logistic.LogisticRegression'}},\n",
       " {'CLASS': {'hidden_layer_sizes': (100,),\n",
       "   'activation': 'relu',\n",
       "   'solver': 'adam',\n",
       "   'alpha': 0.0001,\n",
       "   'batch_size': 'auto',\n",
       "   'learning_rate': 'constant',\n",
       "   'learning_rate_init': 0.001,\n",
       "   'power_t': 0.5,\n",
       "   'max_iter': 200,\n",
       "   'shuffle': True,\n",
       "   'random_state': None,\n",
       "   'tol': 0.0001,\n",
       "   'verbose': False,\n",
       "   'warm_start': False,\n",
       "   'momentum': 0.9,\n",
       "   'nesterovs_momentum': True,\n",
       "   'early_stopping': False,\n",
       "   'validation_fraction': 0.1,\n",
       "   'beta_1': 0.9,\n",
       "   'beta_2': 0.999,\n",
       "   'epsilon': 1e-08,\n",
       "   'n_iter_no_change': 10},\n",
       "  'FIT': {'X': None, 'y': None},\n",
       "  'META': {'sklearn_version': '0.21.3',\n",
       "   'class': 'sklearn.neural_network.multilayer_perceptron.MLPClassifier'}}]"
      ]
     },
     "execution_count": 114,
     "metadata": {},
     "output_type": "execute_result"
    }
   ],
   "source": [
    "# get a list\n",
    "get_model_configs(my_models = [\"sklearn.linear_model.LogisticRegression\", \n",
    "                               \"sklearn.neural_networks.MLPClassifier\"])"
   ]
  },
  {
   "cell_type": "markdown",
   "metadata": {},
   "source": [
    "## how to update a model config\n",
    "\n",
    "Take a look at the Scikit-Learn documentation for the models you are considering, making sure that the documentation version is the same as the version installed on your system (including nodes).  This is because the `model_config` that is built through the api is identical to the documented version.\n",
    "\n",
    "So for example, here we retrieve a **[SVC model](https://scikit-learn.org/stable/modules/generated/sklearn.svm.SVC.html)** config, and note it has a `random_state` parameter in its class `__init__` function. \n",
    "* **`random_state`** To enable reproducible runs, this parameter is set to some fixed constant.  \n",
    "* **`probability`** Per class calibrated probability estimates using Scikit-Learn's default `predict_proba` only when this set to `True`, by default it is `False`\n",
    "\n",
    "This would be done as follows:"
   ]
  },
  {
   "cell_type": "code",
   "execution_count": 135,
   "metadata": {},
   "outputs": [
    {
     "data": {
      "text/plain": [
       "{'C': 1.0,\n",
       " 'kernel': 'rbf',\n",
       " 'degree': 3,\n",
       " 'gamma': 'auto_deprecated',\n",
       " 'coef0': 0.0,\n",
       " 'shrinking': True,\n",
       " 'probability': False,\n",
       " 'tol': 0.001,\n",
       " 'cache_size': 200,\n",
       " 'class_weight': None,\n",
       " 'verbose': False,\n",
       " 'max_iter': -1,\n",
       " 'decision_function_shape': 'ovr',\n",
       " 'random_state': None}"
      ]
     },
     "execution_count": 135,
     "metadata": {},
     "output_type": "execute_result"
    }
   ],
   "source": [
    "svc_model = get_model_configs(\"sklearn.svm.SVC\")\n",
    "class_params = svc_model[\"CLASS\"]\n",
    "class_params"
   ]
  },
  {
   "cell_type": "code",
   "execution_count": 136,
   "metadata": {},
   "outputs": [
    {
     "data": {
      "text/plain": [
       "{'C': 1.0,\n",
       " 'kernel': 'rbf',\n",
       " 'degree': 3,\n",
       " 'gamma': 'auto_deprecated',\n",
       " 'coef0': 0.0,\n",
       " 'shrinking': True,\n",
       " 'probability': True,\n",
       " 'tol': 0.001,\n",
       " 'cache_size': 200,\n",
       " 'class_weight': None,\n",
       " 'verbose': False,\n",
       " 'max_iter': -1,\n",
       " 'decision_function_shape': 'ovr',\n",
       " 'random_state': 1}"
      ]
     },
     "execution_count": 136,
     "metadata": {},
     "output_type": "execute_result"
    }
   ],
   "source": [
    "class_updates = {\n",
    "    'random_state'   : 1,\n",
    "    'probability' : True\n",
    "}\n",
    "\n",
    "class_params.update(class_updates)\n",
    "class_params"
   ]
  },
  {
   "cell_type": "markdown",
   "metadata": {},
   "source": [
    "Similarly we modify the fit function by defining what the `X` and `y` inputs are.  In a later example we look at adding more complex fit parameters like callbacks so training histories and checkpoints can be saved."
   ]
  },
  {
   "cell_type": "code",
   "execution_count": 137,
   "metadata": {},
   "outputs": [
    {
     "data": {
      "text/plain": [
       "{'X': None, 'y': None, 'sample_weight': None}"
      ]
     },
     "execution_count": 137,
     "metadata": {},
     "output_type": "execute_result"
    }
   ],
   "source": [
    "fit_params = svc_model[\"FIT\"]\n",
    "fit_params"
   ]
  },
  {
   "cell_type": "code",
   "execution_count": 138,
   "metadata": {},
   "outputs": [],
   "source": [
    "fit_updates = {\n",
    "    'X': xtrain,\n",
    "    'y': ytrain\n",
    "}\n",
    "\n",
    "fit_params.update(fit_updates)\n",
    "# fit_params"
   ]
  },
  {
   "cell_type": "markdown",
   "metadata": {},
   "source": [
    "#### what metadata does the model config contain:"
   ]
  },
  {
   "cell_type": "code",
   "execution_count": 139,
   "metadata": {},
   "outputs": [
    {
     "data": {
      "text/plain": [
       "{'sklearn_version': '0.21.3', 'class': 'sklearn.svm.classes.SVC'}"
      ]
     },
     "execution_count": 139,
     "metadata": {},
     "output_type": "execute_result"
    }
   ],
   "source": [
    "meta_params = svc_model[\"META\"]\n",
    "meta_params"
   ]
  },
  {
   "cell_type": "markdown",
   "metadata": {},
   "source": [
    "#### define an update function instead:"
   ]
  },
  {
   "cell_type": "code",
   "execution_count": 140,
   "metadata": {},
   "outputs": [],
   "source": [
    "def update_model_config(\n",
    "    config: dict,\n",
    "    new_class: dict,\n",
    "    new_fit: dict,\n",
    "    class_key: str = \"CLASS\",\n",
    "    fit_key: str = \"FIT\"\n",
    "):\n",
    "    \"\"\"Update model config json -- simple version\n",
    "    \n",
    "    TODO:  currently a model config contains 2 keys, but this will likely\n",
    "    expand to include other functions beyond class and fit. So need to expand \n",
    "    this to a list of Tuple(str, dict), where `str` corresponds to a key\n",
    "    in the model config and `dict` contains the params and their new values.\n",
    "    \n",
    "    :param config:      original model definition containing 2 keys, CLASS and FIT\n",
    "    :param new_class:   new class key-values\n",
    "    :param new_fit:     new fit key-values\n",
    "    \"\"\"\n",
    "    config[class_key].update(new_class)\n",
    "    config[fit_key].update(new_fit)\n",
    "    \n",
    "    return config"
   ]
  },
  {
   "cell_type": "code",
   "execution_count": 141,
   "metadata": {},
   "outputs": [],
   "source": [
    "new_config = update_model_config(get_model_configs(\"sklearn.svm.SVC\"), class_updates, fit_updates)"
   ]
  },
  {
   "cell_type": "code",
   "execution_count": 142,
   "metadata": {},
   "outputs": [
    {
     "data": {
      "text/plain": [
       "{'CLASS': {'C': 1.0,\n",
       "  'kernel': 'rbf',\n",
       "  'degree': 3,\n",
       "  'gamma': 'auto_deprecated',\n",
       "  'coef0': 0.0,\n",
       "  'shrinking': True,\n",
       "  'probability': True,\n",
       "  'tol': 0.001,\n",
       "  'cache_size': 200,\n",
       "  'class_weight': None,\n",
       "  'verbose': False,\n",
       "  'max_iter': -1,\n",
       "  'decision_function_shape': 'ovr',\n",
       "  'random_state': 1},\n",
       " 'FIT': {'X': array([[-0.56435529, -1.39231446, -0.07028216, ..., -0.25740209,\n",
       "           0.65557798, -0.07062508],\n",
       "         [ 0.2569468 ,  0.63678742,  0.71921316, ..., -0.80852941,\n",
       "          -1.84950425,  1.94417399],\n",
       "         [ 0.55224103,  1.71121254, -0.59955394, ..., -0.7049404 ,\n",
       "          -0.27544553,  0.12399188],\n",
       "         ...,\n",
       "         [-0.68455639, -2.4022995 , -0.75140307, ..., -2.17360859,\n",
       "          -1.56854182, -0.77668474],\n",
       "         [ 0.05720765,  1.46950158, -0.29348238, ..., -0.19530871,\n",
       "           1.3762701 , -0.06452349],\n",
       "         [ 1.98137244, -0.01355467, -0.48424314, ...,  0.48177525,\n",
       "           0.50924417,  0.11233518]]),\n",
       "  'y': array([1, 0, 2, ..., 2, 2, 1]),\n",
       "  'sample_weight': None},\n",
       " 'META': {'sklearn_version': '0.21.3', 'class': 'sklearn.svm.classes.SVC'}}"
      ]
     },
     "execution_count": 142,
     "metadata": {},
     "output_type": "execute_result"
    }
   ],
   "source": [
    "new_config"
   ]
  },
  {
   "cell_type": "code",
   "execution_count": 143,
   "metadata": {},
   "outputs": [],
   "source": [
    "def _create_class(pkg_class: str):\n",
    "    \"\"\"Create a class from a package.module.class string\n",
    "\n",
    "    :param pkg_class:  full class location,\n",
    "                       e.g. \"sklearn.model_selection.GroupKFold\"\n",
    "    \"\"\"\n",
    "    splits = pkg_class.split(\".\")\n",
    "    clfclass = splits[-1]\n",
    "    pkg_module = splits[:-1]\n",
    "    class_ = getattr(import_module(\".\".join(pkg_module)), clfclass)\n",
    "    return class_"
   ]
  },
  {
   "cell_type": "code",
   "execution_count": 144,
   "metadata": {},
   "outputs": [],
   "source": [
    "ClassifierClass = _create_class(meta_params[\"class\"])"
   ]
  },
  {
   "cell_type": "code",
   "execution_count": 145,
   "metadata": {},
   "outputs": [
    {
     "data": {
      "text/plain": [
       "SVC(C=1.0, cache_size=200, class_weight=None, coef0=0.0,\n",
       "    decision_function_shape='ovr', degree=3, gamma='auto_deprecated',\n",
       "    kernel='rbf', max_iter=-1, probability=True, random_state=1, shrinking=True,\n",
       "    tol=0.001, verbose=False)"
      ]
     },
     "execution_count": 145,
     "metadata": {},
     "output_type": "execute_result"
    }
   ],
   "source": [
    "clf = ClassifierClass(**class_params)\n",
    "clf"
   ]
  },
  {
   "cell_type": "code",
   "execution_count": 146,
   "metadata": {},
   "outputs": [
    {
     "name": "stderr",
     "output_type": "stream",
     "text": [
      "/conda/lib/python3.6/site-packages/sklearn/svm/base.py:193: FutureWarning: The default value of gamma will change from 'auto' to 'scale' in version 0.22 to account better for unscaled features. Set gamma explicitly to 'auto' or 'scale' to avoid this warning.\n",
      "  \"avoid this warning.\", FutureWarning)\n"
     ]
    },
    {
     "data": {
      "text/plain": [
       "SVC(C=1.0, cache_size=200, class_weight=None, coef0=0.0,\n",
       "    decision_function_shape='ovr', degree=3, gamma='auto_deprecated',\n",
       "    kernel='rbf', max_iter=-1, probability=True, random_state=1, shrinking=True,\n",
       "    tol=0.001, verbose=False)"
      ]
     },
     "execution_count": 146,
     "metadata": {},
     "output_type": "execute_result"
    }
   ],
   "source": [
    "clf.fit(**fit_params)"
   ]
  },
  {
   "cell_type": "code",
   "execution_count": 147,
   "metadata": {},
   "outputs": [
    {
     "name": "stdout",
     "output_type": "stream",
     "text": [
      "(2500, 3)\n"
     ]
    }
   ],
   "source": [
    "y_probs = clf.predict_proba(xtest)\n",
    "print(y_probs.shape)\n",
    "assert y_probs.shape[1] == N_CLASSES"
   ]
  },
  {
   "cell_type": "code",
   "execution_count": 148,
   "metadata": {},
   "outputs": [],
   "source": [
    "def _gcf_clear(plt):\n",
    "    \"\"\"Utility to clear matplotlib figure\n",
    "\n",
    "    Run this inside every plot method before calling any matplotlib\n",
    "    methods\n",
    "\n",
    "    :param plot:    matloblib figure object\n",
    "    \"\"\"\n",
    "    plt.cla()\n",
    "    plt.clf()\n",
    "    plt.close()"
   ]
  },
  {
   "cell_type": "code",
   "execution_count": 149,
   "metadata": {},
   "outputs": [],
   "source": [
    "def plot_roc(\n",
    "    y_labels,\n",
    "    y_probs,\n",
    "    key=\"roc\",\n",
    "    plots_dir: str = \"plots\",\n",
    "    fmt=\"png\",\n",
    "    x_label: str = \"false positive rate\",\n",
    "    y_label: str =  \"true positive rate\",\n",
    "    title: str = \"roc curve\",\n",
    "    legend_loc: str = \"best\"\n",
    "):\n",
    "    \"\"\"plot roc curves\n",
    "    \n",
    "    TODO:  add averaging method (as string) that was used to create probs, \n",
    "    display in legend\n",
    "    \n",
    "    :param y_labels:     ground truth labels, hot encoded for multiclass  \n",
    "    :param y_probs:      model prediction probabilities\n",
    "    :param key:          (\"roc\") key of plot in artifact store\n",
    "    :param plots_dir:    (\"plots\") destination folder relative path to artifact path\n",
    "    :param fmt:          (\"png\") plot format\n",
    "    :param x_label:      (\"false positive rate\") x-axis labels\n",
    "    :param y_label:      (\"true positive rate\") y-axis labels\n",
    "    :param title:        (\"roc curve\") title of plot\n",
    "    :param legend_loc:   (\"best\") location of plot legend\n",
    "    \"\"\"\n",
    "    assert y_probs.shape == y_labels.shape\n",
    "    \n",
    "    # clear matplotlib current figure\n",
    "    _gcf_clear(plt)\n",
    "    \n",
    "    # data accummulators by class\n",
    "    fpr = dict()\n",
    "    tpr = dict()\n",
    "    roc_auc = dict()\n",
    "    \n",
    "    # draw 45 degree line\n",
    "    plt.plot([0, 1], [0, 1], \"k--\")\n",
    "    \n",
    "    # labelling\n",
    "    plt.xlabel(x_label)\n",
    "    plt.ylabel(y_label)\n",
    "    plt.title(title)\n",
    "    plt.legend(loc=legend_loc)\n",
    "    \n",
    "    # single ROC or mutliple\n",
    "    for i in range(y_labels.shape[1]):\n",
    "        fpr[i], tpr[i], _ = metrics.roc_curve(y_labels[:, i], y_probs[:, i], pos_label=1)\n",
    "        roc_auc[i] = metrics.auc(fpr[i], tpr[i])\n",
    "        plt.plot(fpr[i], tpr[i], label=f\"class {i}\")"
   ]
  },
  {
   "cell_type": "code",
   "execution_count": 150,
   "metadata": {},
   "outputs": [
    {
     "name": "stderr",
     "output_type": "stream",
     "text": [
      "No handles with labels found to put in legend.\n"
     ]
    },
    {
     "data": {
      "image/png": "[encoded data removed]",
      "text/plain": [
       "<Figure size 432x288 with 1 Axes>"
      ]
     },
     "metadata": {
      "needs_background": "light"
     },
     "output_type": "display_data"
    }
   ],
   "source": [
    "plot_roc(ytestb, y_probs)"
   ]
  },
  {
   "cell_type": "code",
   "execution_count": 162,
   "metadata": {},
   "outputs": [],
   "source": [
    "def plot_confusion_matrix(labels, predictions, classes,\n",
    "                          normalize=True,\n",
    "                          title='Confusion matrix',\n",
    "                          cmap=plt.cm.Blues,\n",
    "                         font = {'family' : 'serif',\n",
    "                                 'color'  : 'darkgreen',\n",
    "                                 'weight' : 'normal',\n",
    "                                 'size'   : 14,\n",
    "                                }):\n",
    "    \"\"\"\n",
    "    This function prints and plots the confusion matrix.\n",
    "    Normalization can be applied by setting `normalize=True`.\n",
    "    \"\"\"\n",
    "    cm = metrics.confusion_matrix(labels, predictions)\n",
    "    plt.gcf().set_size_inches(30, 10)\n",
    "    plt.imshow(cm, interpolation='nearest', cmap=cmap)\n",
    "    plt.title(title, fontdict=font)\n",
    "    plt.colorbar()\n",
    "    tick_marks = np.arange(len(classes))\n",
    "    plt.xticks(tick_marks, classes, rotation=45)\n",
    "    plt.yticks(tick_marks, classes)\n",
    "\n",
    "    if normalize:\n",
    "        cm = cm.astype('float') / cm.sum(axis=1)[:, np.newaxis]\n",
    "\n",
    "    thresh = cm.max() / 2.\n",
    "    for i, j in itertools.product(range(cm.shape[0]), range(cm.shape[1])):\n",
    "        plt.text(j, i, round(cm[i, j], 2),\n",
    "                 horizontalalignment=\"center\",\n",
    "                 color=\"white\" if cm[i, j] > thresh else \"black\", fontdict=font)\n",
    "\n",
    "    #plt.tight_layout()\n",
    "    plt.ylabel('True label', fontdict=font)\n",
    "    plt.xlabel('Predicted label', fontdict=font)"
   ]
  },
  {
   "cell_type": "code",
   "execution_count": 163,
   "metadata": {},
   "outputs": [],
   "source": [
    "# import matplotlib\n",
    "# matplotlib.rc('figure', figsize=(20, 20))"
   ]
  },
  {
   "cell_type": "code",
   "execution_count": 164,
   "metadata": {},
   "outputs": [
    {
     "data": {
      "image/png": "[encoded data removed]",
      "text/plain": [
       "<Figure size 2160x720 with 2 Axes>"
      ]
     },
     "metadata": {
      "needs_background": "light"
     },
     "output_type": "display_data"
    }
   ],
   "source": [
    "plot_confusion_matrix(ytest, clf.predict(xtest), [\"CLASS A\", \"CLASS B\", \"CLASS C\"])"
   ]
  }
 ],
 "metadata": {
  "kernelspec": {
   "display_name": "Python 3",
   "language": "python",
   "name": "python3"
  },
  "language_info": {
   "codemirror_mode": {
    "name": "ipython",
    "version": 3
   },
   "file_extension": ".py",
   "mimetype": "text/x-python",
   "name": "python",
   "nbconvert_exporter": "python",
   "pygments_lexer": "ipython3",
   "version": "3.6.8"
  }
 },
 "nbformat": 4,
 "nbformat_minor": 4
}
