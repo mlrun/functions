{
 "cells": [
  {
   "cell_type": "markdown",
   "id": "75860292-80d3-4dfb-89e4-66579321c78b",
   "metadata": {},
   "source": [
    "# Question Answering"
   ]
  },
  {
   "cell_type": "markdown",
   "id": "4593a39d-6e91-4f92-9e7e-09dcd7dbcab7",
   "metadata": {},
   "source": [
    "## Short description and explenation"
   ]
  },
  {
   "cell_type": "markdown",
   "id": "14dc0595-8b8a-4a13-b6a7-2a1bc43d8d50",
   "metadata": {},
   "source": [
    "This function enables ad-hoc question answering over documents by ingesting text into a language model and returning formatted responses.<br>\n",
    "It accepts:<br>\n",
    "\n",
    "* A language model<br>\n",
    "* Text files with content<br>\n",
    "* Questions to answer<br>\n",
    "* More inputs can be given for configuration <br>\n",
    "\n",
    "The model processes the files to build understanding. Questions posed are then answered in one of two modes:\n",
    "\n",
    "Default mode: <br>\n",
    "The model directly answers each question using its own capabilities.\n",
    "\n",
    "Poll mode: <br>\n",
    "Additional models are included to separately answer each question. An aggregation algorithm determines the best response through consensus between models.<br>\n",
    "Two options exist for consensus methodology:<br>\n",
    "\n",
    "Average Answer: <br>\n",
    "Each model's answer is scored. The response with the average highest score amongst models is selected. Useful for numeric or ranked responses.\n",
    "\n",
    "Most Common Answer:<br> The answer that occurs most frequently across models is selected. Useful for textual responses to avoid outliers.\n",
    "\n",
    "Using multiple models via the poll mode provides accuracy improvements for questions lacking definitive answers, as it refines responses through an ensemble process. <br>"
   ]
  },
  {
   "cell_type": "markdown",
   "id": "ae957ac3-2c26-4a0b-8e44-8315caeb2953",
   "metadata": {},
   "source": [
    "## Background"
   ]
  },
  {
   "cell_type": "markdown",
   "id": "3a351565-6f2c-4fa3-a024-4b5d658db311",
   "metadata": {},
   "source": [
    "At the core, advanced natural language processing (NLP) models called foundation models are being leveraged to read and comprehend the input text files. <br>\n",
    "Specifically, models such as GPT-3 or Codex from Anthropic are used as the base language model.\n",
    "\n",
    "When documents are fed into the function, the background process invokes these models to ingest and digest the information.<br>\n",
    "\n",
    "This provides the knowledge base for the models to then offer informed answers tailored to any queries about the documents.<br>\n",
    "The parameters controlling model size and computation time provide tradeoffs between cost, speed, and sophistication of comprehension.\n",
    "\n",
    "Additionally, the poll option expands on a single model by sampling responses from a number of models as mentioned above. <br>"
   ]
  },
  {
   "cell_type": "markdown",
   "id": "a6fc4aaa-530a-4e9e-8447-737a0cfd6ed5",
   "metadata": {},
   "source": [
    "## Requirements"
   ]
  },
  {
   "cell_type": "markdown",
   "id": "685d9000-37e1-462b-93c8-1bbfcdf6aaa1",
   "metadata": {},
   "source": [
    "`transformers` <br>\n",
    "`torch` <br>\n",
    "`tqdm` <br>"
   ]
  },
  {
   "cell_type": "markdown",
   "id": "73d9b369-1c36-42e8-b106-491ad911f281",
   "metadata": {},
   "source": [
    "## Documentation"
   ]
  },
  {
   "cell_type": "markdown",
   "id": "68e3a54d-0cd9-4845-ae14-f24068052bf3",
   "metadata": {},
   "source": [
    "`data_path`:  A path to a directory of text files or a path to a text file to ask questions about. <br>\n",
    "\n",
    "`model_name`: The pre-trained model name from the huggingface hub to use for answering questions. <br>\n",
    "\n",
    "`questions`: The questions to ask. A list of lists of questions to ask per text file, and devided <br>\n",
    "             by question groups, the groups can be determained by size (in order to <br>\n",
    "             avoid large inputs to the llm) or by questioning method (regular or poll like questioning). <br>\n",
    "             \n",
    "`device_map`: A map to use for loading the model on multiple devices. <br>\n",
    "\n",
    "`model_kwargs`: Keyword arguments to pass for loading the model using HuggingFace's <br>\n",
    "                _transformers.AutoModelForCausalLM.from_pretrained_ function. <br>\n",
    "                                           \n",
    "`auto_gptq_exllama_max_input_length`: For AutoGPTQ models to set and extend the model's input buffer size. <br>\n",
    "\n",
    "`tokenizer_name`: The tokenizer name from the huggingface hub to use. If not given, the given model name will be used. <br>\n",
    "                                           \n",
    "`tokenizer_kwargs`: Keyword arguments to pass for loading the tokenizer using HuggingFace's <br>\n",
    "                    _transformers.AutoTokenizer.from_pretrained_ function. <br>\n",
    "                                           \n",
    "`text_wrapper`: Must have a placeholder ('{}') for the text of the file. <br>\n",
    "\n",
    "`questions_wrapper`: A wrapper for the questions received. Will be added after the text wrapper in the prompt template. <br>\n",
    "                     Must have a placeholder ('{}') for the questions. <br>\n",
    "                                           \n",
    "`generation_config`: HuggingFace's _GenerationConfig_ keyword arguments to pass to the _generate_ method. <br>\n",
    "                                           \n",
    "`questions_config`: A dictionary or list of dictionaries containing specific ways to answer questions (using a poll for example), <br>\n",
    "                    each dictionary in the list is for corresponding question group and determines the question asking method <br>\n",
    "                    for said group. <br>\n",
    "                                           \n",
    "`batch_size`: Batch size for inference. <br>\n",
    "\n",
    "`questions_columns`: Columns to use for the dataframe returned. <br>\n",
    "\n",
    "`verbose`: Whether to present logs of a progress bar and errors. Default: True. <br>\n"
   ]
  },
  {
   "cell_type": "markdown",
   "id": "716e5fac-3def-4cdd-8ca5-d1c93ee64f2e",
   "metadata": {},
   "source": [
    "## Demo 1"
   ]
  },
  {
   "cell_type": "markdown",
   "id": "3bf4bc9b-fc5e-4155-8563-0575c22cef05",
   "metadata": {},
   "source": [
    "This is a short and simple example to show the basic use of the function."
   ]
  },
  {
   "cell_type": "markdown",
   "id": "c95dcfdb-22e1-4b82-b0a3-9c89487a216f",
   "metadata": {},
   "source": [
    "### (1.) Import the function (import mlrun, set project and import function)\n"
   ]
  },
  {
   "cell_type": "code",
   "execution_count": null,
   "id": "60161e5f-468c-47c9-be98-e6554b899c9c",
   "metadata": {},
   "outputs": [],
   "source": [
    "import mlrun\n",
    "import transformers\n",
    "import tempfile"
   ]
  },
  {
   "cell_type": "code",
   "execution_count": null,
   "id": "1267b60b-35d1-48bf-8ea0-dfe7a5f366e7",
   "metadata": {},
   "outputs": [],
   "source": [
    "project = mlrun.get_or_create_project(\n",
    "    name=\"call-center-demo-1\",\n",
    "    context=\"./\",\n",
    "    user_project=True,\n",
    "    parameters={\n",
    "        \"default_image\": \"mlrun/mlrun\",\n",
    "    })"
   ]
  },
  {
   "cell_type": "code",
   "execution_count": null,
   "id": "05c8b39b-433c-40b8-9260-94923c9cbb6c",
   "metadata": {},
   "outputs": [],
   "source": [
    "func = project.set_function(\n",
    "    \"question-answering.py\",\n",
    "    name=\"question-answering\",\n",
    "    kind=\"job\",\n",
    "    handler=\"answer_questions\",\n",
    ")\n",
    "project.save()"
   ]
  },
  {
   "cell_type": "markdown",
   "id": "b9744a13-6530-4aa0-a30c-a88db94ce853",
   "metadata": {},
   "source": [
    "We create a text file that the model can be asked about"
   ]
  },
  {
   "cell_type": "code",
   "execution_count": null,
   "id": "503b874a-0c64-4a66-9b30-fe99191b5fd3",
   "metadata": {},
   "outputs": [],
   "source": [
    "def _make_data_dir_for_test():\n",
    "    data_dir = tempfile.mkdtemp()\n",
    "    # The information the model will need in order to answer our question\n",
    "    content = \"The apple is red.\"\n",
    "    with open(data_dir + \"/test_data.txt\", \"w\") as f:\n",
    "        f.write(content)\n",
    "    return data_dir"
   ]
  },
  {
   "cell_type": "markdown",
   "id": "7fadd06e-210b-45aa-b7ea-686058b6e7f4",
   "metadata": {},
   "source": [
    "### (2.) Usage\n",
    "Then we set where to take the path to the text file we want to ask about, the questions, and column name for the answer table."
   ]
  },
  {
   "cell_type": "code",
   "execution_count": null,
   "id": "5a634b19-d809-4436-bbdd-469fc1d61c6e",
   "metadata": {},
   "outputs": [],
   "source": [
    "input_path = _make_data_dir_for_test()\n",
    "# The question for the model to answer\n",
    "question = [\"What is the color of the apple?\"]\n",
    "# The column of the answer in the data frame returned by the function\n",
    "column_name = [\"color\"]"
   ]
  },
  {
   "cell_type": "markdown",
   "id": "0364ce68-079e-4769-89b6-661fcdc1d475",
   "metadata": {},
   "source": [
    "Now we run the function with all the parameters we prepered earlier"
   ]
  },
  {
   "cell_type": "code",
   "execution_count": null,
   "id": "448bada9-8b52-4175-9839-ecb409ab3e35",
   "metadata": {},
   "outputs": [],
   "source": [
    "demo1_run = func.run(\n",
    "    handler=\"answer_questions\",\n",
    "    params={\n",
    "        \"model\": \"distilgpt2\",\n",
    "        \"input_path\": input_path,\n",
    "        \"questions\": question,\n",
    "        \"questions_columns\": column_name,\n",
    "        \"generation_config\": {\n",
    "            \"do_sample\": True,\n",
    "            \"temperature\": 0.8,\n",
    "            \"top_p\": 0.9,\n",
    "            \"early_stopping\": True,\n",
    "            \"max_new_tokens\": 20,\n",
    "        },\n",
    "    },\n",
    "    returns=[\n",
    "        \"question_answering_df: dataset\",\n",
    "        \"question_answering_errors: result\",\n",
    "    ],\n",
    "    local=True,\n",
    "    artifact_path=\"./\"\n",
    ")"
   ]
  },
  {
   "cell_type": "markdown",
   "id": "474505db-2fc8-48fd-a634-2bada802a449",
   "metadata": {},
   "source": [
    "### (3.) Review results\n",
    "and after the run is finished we can take a look and see our answer"
   ]
  },
  {
   "cell_type": "code",
   "execution_count": null,
   "id": "4560b51d-5f96-465d-9826-e88c7d4d46aa",
   "metadata": {},
   "outputs": [],
   "source": [
    "demo1_run.outputs"
   ]
  },
  {
   "cell_type": "markdown",
   "id": "31a401a5-2f8a-427f-bf62-2f31f94f5ee7",
   "metadata": {},
   "source": [
    "## Demo 2"
   ]
  },
  {
   "cell_type": "markdown",
   "id": "503b8a40-ad61-445f-900b-4fdaa036e417",
   "metadata": {},
   "source": [
    "This is a much larger example, we will show how we use this function to analyze a number of calls between agents and customer of a internet company (all the data is generated by Iguazio). <br>\n",
    "For something like this, we recomend using a strong model, and putting some time into making the prompts."
   ]
  },
  {
   "cell_type": "markdown",
   "id": "759c521b-df3d-498f-8642-863182107618",
   "metadata": {},
   "source": [
    "### (1.) Import the function (import mlrun, set project and import function)\n"
   ]
  },
  {
   "cell_type": "code",
   "execution_count": 1,
   "id": "bde6a480-a3d9-4b8c-a9c0-daa235f0f0c4",
   "metadata": {},
   "outputs": [
    {
     "name": "stdout",
     "output_type": "stream",
     "text": [
      "> 2023-12-18 10:18:37,490 [warning] Client version with higher version than server version isn't supported, align your client to the server version: {'parsed_server_version': Version(major=1, minor=5, patch=2, prerelease='rc1', build='track'), 'parsed_client_version': Version(major=1, minor=6, patch=0, prerelease='rc11', build=None)}\n"
     ]
    }
   ],
   "source": [
    "import os\n",
    "import mlrun\n",
    "import torch\n",
    "from transformers import AutoModelForCausalLM, AutoTokenizer, BitsAndBytesConfig, pipeline"
   ]
  },
  {
   "cell_type": "code",
   "execution_count": 4,
   "id": "187a4643-53e9-40bb-a337-5096df7946d6",
   "metadata": {},
   "outputs": [
    {
     "name": "stdout",
     "output_type": "stream",
     "text": [
      "> 2023-12-18 10:18:51,651 [info] Project loaded successfully: {'project_name': 'call-center-demo-zeev55'}\n"
     ]
    }
   ],
   "source": [
    "project = mlrun.get_or_create_project(\n",
    "    name=\"call-center-demo-2\",\n",
    "    context=\"./\",\n",
    "    user_project=True,\n",
    "    parameters={\n",
    "        \"default_image\": \"mlrun/mlrun\",\n",
    "    })\n"
   ]
  },
  {
   "cell_type": "code",
   "execution_count": 19,
   "id": "17eb7783-9ced-482b-9bdf-c41e55995faf",
   "metadata": {},
   "outputs": [
    {
     "data": {
      "text/plain": [
       "<mlrun.projects.project.MlrunProject at 0x7f8bc5b0a370>"
      ]
     },
     "execution_count": 19,
     "metadata": {},
     "output_type": "execute_result"
    }
   ],
   "source": [
    "func = project.set_function(\n",
    "    \"question-answering.py\",\n",
    "    name=\"question-answering\",\n",
    "    kind=\"job\",\n",
    "    handler=\"answer_questions\",\n",
    ")\n",
    "project.save()"
   ]
  },
  {
   "cell_type": "markdown",
   "id": "91d3ebb2-7d4a-4e52-89ed-45287c06eb76",
   "metadata": {},
   "source": [
    "### (2.) Usage\n",
    "\n",
    "This example is a bit more complicated as we mentioned, we give the model a list of questions, for some of them we give the model a list of answers to choose from."
   ]
  },
  {
   "cell_type": "code",
   "execution_count": 2,
   "id": "2bc065e4-2dbf-4d7a-9772-6b7039f428bc",
   "metadata": {},
   "outputs": [],
   "source": [
    "QUESTIONS = [\n",
    "    \"1. Write a long summary of the text, focus on the topic (max 50 words).\",\n",
    "    \"2. Was the Client's concern addressed, (choose only one) [Yes, No]?\",\n",
    "    ]\n",
    "\n",
    "qa_questions_columns = [\n",
    "                        \"Summary\",\n",
    "                        \"is_fixed\",\n",
    "                        ]"
   ]
  },
  {
   "cell_type": "markdown",
   "id": "aa89f316-0d1b-4ada-9990-d2293546eee3",
   "metadata": {},
   "source": [
    "Another thing we give the model this time is answer examples (one/few shot answering), this can be done to show the model how you want the answer to be structured or caculated. <br>\n"
   ]
  },
  {
   "cell_type": "code",
   "execution_count": null,
   "id": "bbc093ad-dab4-46a1-b36a-2a7551cef018",
   "metadata": {},
   "outputs": [],
   "source": [
    "# For every file we ask about, the model will be presented with this example of a call and how we want the answers.\n",
    "DEMO_CALL = (\n",
    "    \"Agent: Good afternoon, you've reached [Internet Service Provider] customer support. I'm Megan. How can I assist \"\n",
    "    \"you today?\\n\"\n",
    "    \"Customer: Hello, Megan. This is Lisa. I've noticed some billing discrepancies on my last statement.\\n\"\n",
    "    \"Agent: Thank you, Lisa. Let me pull up your account. I see the billing discrepancies you mentioned. It appears \"\n",
    "    \"there was an error in the charges. I apologize for the inconvenience.\\n\"\n",
    "    \"Customer: Thank you for acknowledging the issue, Megan. Can you please help me get it resolved?\\n\"\n",
    "    \"Agent: Absolutely, Lisa. I've made note of the discrepancies, and I'll escalate this to our billing department \"\n",
    "    \"for investigation and correction. You should see the adjustments on your next statement.\\n\"\n",
    "    \"Customer: That sounds good, Megan. I appreciate your help.\\n\"\n",
    "    \"Agent: Not a problem, Lisa. Have a wonderful day, and we'll get this sorted out for you.\\n\"\n",
    ")\n",
    "\n",
    "DEMO_ANSWERS = (\n",
    "    \"1. The customer, contacted the call center regarding billing discrepancies on her statement. The agent, \"\n",
    "    \"acknowledged the issue, assured The customer it would be resolved, and escalated it to the billing department for \"\n",
    "    \"correction.\\n\"\n",
    "    \"2. Yes.\\n\""
   ]
  },
  {
   "cell_type": "markdown",
   "id": "8b44ded3-fee3-4911-a02a-6a51a62a7020",
   "metadata": {},
   "source": [
    "Then we need to wrap it all nicely to be given to the model as a single prompt, this is done with a text wrapper, and a question wrapper. <br>\n",
    "both of them will be concatenated inside the function with the questions and passed to the model."
   ]
  },
  {
   "cell_type": "code",
   "execution_count": null,
   "id": "2108f5aa-75a6-402d-83a6-bf45f0d7223a",
   "metadata": {},
   "outputs": [],
   "source": [
    "# The wrappers are built according to the model's convensions to improve result\n",
    "TEXT_WRAPPER = (\n",
    "    f\"<|im_start|>system: You are an AI assistant that answers questions accurately and shortly<|im_end|>\\n\"\n",
    "    f\"<|im_start|>user: Given the following text:\\n\"\n",
    "    f\"{DEMO_CALL}\\n\"\n",
    "    f\"answer the questions as accurately as you can:\\n\"\n",
    "    f\"{QUESTIONS}<|im_end|>\\n\"\n",
    "    f\"<|im_start|>assistant:\\n\"\n",
    "    f\"{DEMO_ANSWERS}<|im_end|>\\n\"\n",
    "    f\"<|im_start|>user: Given the following text:\\n\"\n",
    "    \"{}\"\n",
    ") \n",
    "QUESTIONS_WRAPPER = (\n",
    "    \" answer the given questions as accurately as you can, do not write more answers the questions:\\n\"\n",
    "    \"{}<|im_end|>\\n\"\n",
    "    \"<|im_start|>assistant:\\n\"\n",
    ")"
   ]
  },
  {
   "cell_type": "markdown",
   "id": "1a44b391-87d2-447d-aafa-66ed45f06ba5",
   "metadata": {},
   "source": [
    "The last few parameters we need to set are the model we will use, the input lenth (no available for all models) and the batch size. <br>\n",
    "The batch size determains how many files we want procced at each epoch, and the larger we go the faster the proccess will be, as long as our memory is sufficient. "
   ]
  },
  {
   "cell_type": "code",
   "execution_count": null,
   "id": "528cae4c-541b-49a3-b24d-deb94f7130fb",
   "metadata": {},
   "outputs": [],
   "source": [
    "# We like this version of mistral's model, which is small and fast but also gives great results\n",
    "qa_model = \"TheBloke/Mistral-7B-OpenOrca-GPTQ\""
   ]
  },
  {
   "cell_type": "markdown",
   "id": "47fa4eaa-f3b0-457f-b98a-18a8ee5ba4d8",
   "metadata": {},
   "source": [
    "Finnaly, we run the function with all the parameters we prepared. "
   ]
  },
  {
   "cell_type": "code",
   "execution_count": null,
   "id": "3d200706-e852-4ce9-9b9a-61686b30e5b7",
   "metadata": {
    "tags": []
   },
   "outputs": [],
   "source": [
    "# Question answering:\n",
    "demo2_run = func.run(\n",
    "    function=\"question-answering\",\n",
    "    local=True,\n",
    "    handler=\"answer_questions\",\n",
    "    inputs={\"data_path\": os.path.abspath(\"./calls\")},\n",
    "    params={\n",
    "        \"model_name\": qa_model,\n",
    "        \"device_map\": \"auto\",\n",
    "        \"text_wrapper\":TEXT_WRAPPER,\n",
    "        \"questions\": QUESTIONS,\n",
    "        \"questions_wrapper\": QUESTIONS_WRAPPER,\n",
    "        \"questions_columns\": qa_questions_columns,\n",
    "    },\n",
    "    returns=[\n",
    "        \"question_answering_df: dataset\",\n",
    "        \"question_answering_errors: result\",\n",
    "    ],\n",
    ")\n"
   ]
  },
  {
   "cell_type": "markdown",
   "id": "0d505915-49b5-47fb-9f50-ce15fe6dc392",
   "metadata": {},
   "source": [
    "### (3.) Review results\n"
   ]
  },
  {
   "cell_type": "code",
   "execution_count": null,
   "id": "fa39c5bf-c959-4ff5-ad60-4ad68d00f22c",
   "metadata": {},
   "outputs": [],
   "source": [
    "demo2_run.outputs"
   ]
  },
  {
   "cell_type": "markdown",
   "id": "947d6ce8-b330-44ab-b13f-b6eec20e839e",
   "metadata": {},
   "source": [
    "## Demo 3"
   ]
  },
  {
   "cell_type": "markdown",
   "id": "66b916d2-96b0-448d-8e51-b51fb5a5a1a7",
   "metadata": {},
   "source": [
    "This is also a large example, in this case we use another option of the function to ask questions in the form of a poll."
   ]
  },
  {
   "cell_type": "markdown",
   "id": "9ec66fc7-f50b-4417-a7cc-3c42848b1f01",
   "metadata": {},
   "source": [
    "### (1.) Import the function (import mlrun, set project and import function)\n"
   ]
  },
  {
   "cell_type": "code",
   "execution_count": 1,
   "id": "dfcab8d0-5022-40e5-92ff-14b02cfa2eaa",
   "metadata": {},
   "outputs": [
    {
     "name": "stdout",
     "output_type": "stream",
     "text": [
      "> 2023-12-18 10:18:37,490 [warning] Client version with higher version than server version isn't supported, align your client to the server version: {'parsed_server_version': Version(major=1, minor=5, patch=2, prerelease='rc1', build='track'), 'parsed_client_version': Version(major=1, minor=6, patch=0, prerelease='rc11', build=None)}\n"
     ]
    }
   ],
   "source": [
    "import os\n",
    "import mlrun\n",
    "import torch\n",
    "from transformers import AutoModelForCausalLM, AutoTokenizer, BitsAndBytesConfig, pipeline"
   ]
  },
  {
   "cell_type": "code",
   "execution_count": 4,
   "id": "49bc523b-9bca-46c5-917d-320d5641506a",
   "metadata": {},
   "outputs": [
    {
     "name": "stdout",
     "output_type": "stream",
     "text": [
      "> 2023-12-18 10:18:51,651 [info] Project loaded successfully: {'project_name': 'call-center-demo-zeev55'}\n"
     ]
    }
   ],
   "source": [
    "project = mlrun.get_or_create_project(\n",
    "    name=\"call-center-demo-3\",\n",
    "    context=\"./\",\n",
    "    user_project=True,\n",
    "    parameters={\n",
    "        \"default_image\": \"mlrun/mlrun\",\n",
    "    })\n"
   ]
  },
  {
   "cell_type": "code",
   "execution_count": 19,
   "id": "370f3780-0dfc-4b9c-87aa-1dd124e62249",
   "metadata": {},
   "outputs": [
    {
     "data": {
      "text/plain": [
       "<mlrun.projects.project.MlrunProject at 0x7f8bc5b0a370>"
      ]
     },
     "execution_count": 19,
     "metadata": {},
     "output_type": "execute_result"
    }
   ],
   "source": [
    "func = project.set_function(\n",
    "    \"question-answering.py\",\n",
    "    name=\"question-answering\",\n",
    "    kind=\"job\",\n",
    "    handler=\"answer_questions\",\n",
    ")\n",
    "project.save()"
   ]
  },
  {
   "cell_type": "markdown",
   "id": "88dbe941-b9af-40bb-a038-7fcc812d506c",
   "metadata": {},
   "source": [
    "### (2.) Usage\n",
    "\n",
    "Like in the second demo, we make a list of questions for the function to answer."
   ]
  },
  {
   "cell_type": "code",
   "execution_count": 2,
   "id": "f9b02aaa-2a31-4ade-ba26-a2d73c5d03ab",
   "metadata": {},
   "outputs": [],
   "source": [
    "# These questions are harder to answer, as there is no right answer.\n",
    "# So we want it to be at least consistent, for that we use the poll option.\n",
    "QUESTIONS = [\n",
    "    \"1. Rate the agent's level of empathy (The ability to understand and share the feelings of others) on a scale of 1-5.\",\n",
    "    \"2. Rate the agent's level of professionalism (Conducting oneself in a way that is appropriate for the workplace) on a scale of 1-5.\",\n",
    "]\n",
    "\n",
    "qa_questions_columns = [\n",
    "                        \"empathy\",\n",
    "                        \"professionalism\",\n",
    "\n",
    "                        ]"
   ]
  },
  {
   "cell_type": "markdown",
   "id": "6ed8a0e3-9c5d-4524-bbe1-b345b981694a",
   "metadata": {},
   "source": [
    "Another thing we give the model this time is answer examples (one/few shot answering), this can be done to show the model how you want the answer to be structured or caculated. <br>\n",
    "So for every file we ask about, the model will be presented with this example of a call and how we want the answers."
   ]
  },
  {
   "cell_type": "code",
   "execution_count": null,
   "id": "d14e79d6-687c-4424-a01f-68376ad3dd30",
   "metadata": {},
   "outputs": [],
   "source": [
    "# For every file we ask about, the model will be presented with this example of a call and how we want the answers.\n",
    "DEMO_CALL = (\n",
    "    \"Agent: Good afternoon, you've reached [Internet Service Provider] customer support. I'm Megan. How can I assist \"\n",
    "    \"you today?\\n\"\n",
    "    \"Customer: Hello, Megan. This is Lisa. I've noticed some billing discrepancies on my last statement.\\n\"\n",
    "    \"Agent: Thank you, Lisa. Let me pull up your account. I see the billing discrepancies you mentioned. It appears \"\n",
    "    \"there was an error in the charges. I apologize for the inconvenience.\\n\"\n",
    "    \"Customer: Thank you for acknowledging the issue, Megan. Can you please help me get it resolved?\\n\"\n",
    "    \"Agent: Absolutely, Lisa. I've made note of the discrepancies, and I'll escalate this to our billing department \"\n",
    "    \"for investigation and correction. You should see the adjustments on your next statement.\\n\"\n",
    "    \"Customer: That sounds good, Megan. I appreciate your help.\\n\"\n",
    "    \"Agent: Not a problem, Lisa. Have a wonderful day, and we'll get this sorted out for you.\\n\"\n",
    ")\n",
    "\n",
    "\n",
    "DEMO_ANSWERS = (\n",
    "    \"1. 4\\n\"\n",
    "    \"2. 5\\n\"\n",
    "\n",
    ")"
   ]
  },
  {
   "cell_type": "markdown",
   "id": "86099fb8-895c-4e2c-979d-6bda9782ccd3",
   "metadata": {},
   "source": [
    "Then we need to wrap it all nicely to be given to the model as a single prompt, this is done with a text wrapper, and a question wrapper. <br>\n",
    "both of them will be concatenated inside the function with the questions and passed to the model."
   ]
  },
  {
   "cell_type": "code",
   "execution_count": null,
   "id": "e5efac70-cd2c-4fc7-bc9c-4c04d18077a1",
   "metadata": {},
   "outputs": [],
   "source": [
    "TEXT_WRAPPER = (\n",
    "    f\"<|im_start|>system: You are an AI assistant that answers questions accurately and shortly<|im_end|>\\n\"\n",
    "    f\"<|im_start|>user: Given the following text:\\n\"\n",
    "    f\"{DEMO_CALL}\\n\"\n",
    "    f\"answer the questions as accurately as you can:\\n\"\n",
    "    f\"{QUESTIONS}<|im_end|>\\n\"\n",
    "    f\"<|im_start|>assistant:\\n\"\n",
    "    f\"{DEMO_ANSWERS}<|im_end|>\\n\"\n",
    "    f\"<|im_start|>user: Given the following text:\\n\"\n",
    "    \"{}\"\n",
    ") \n",
    "\n",
    "QUESTIONS_WRAPPER = (\n",
    "    \" answer the given questions as accurately as you can, do not write more answers the questions:\\n\"\n",
    "    \"{}<|im_end|>\\n\"\n",
    "    \"<|im_start|>assistant:\\n\"\n",
    ")"
   ]
  },
  {
   "cell_type": "markdown",
   "id": "9339816e-d436-4add-b8f3-b48e577f4bfe",
   "metadata": {},
   "source": [
    "The config is for the second questioning method, we cal \"poll\", and in which we need to choose how many voting models we want participating,<br>\n",
    "and in what way we want do decide the result, we currentlly support `average` and `most_common` as show here.<br>\n",
    "\n",
    "\n",
    "*An explenation about both questioning methods can be found in the begginig of this notebook"
   ]
  },
  {
   "cell_type": "code",
   "execution_count": 3,
   "id": "6330db65-9806-44a6-8046-0b156d2a3228",
   "metadata": {},
   "outputs": [],
   "source": [
    "questions_config = \n",
    "    {\n",
    "        \"type\": \"poll\",\n",
    "        \"poll_count\": 3, # How many 'voters'\n",
    "        \"poll_strategy\": \"most_common\"\n",
    "    }"
   ]
  },
  {
   "cell_type": "code",
   "execution_count": null,
   "id": "eaa0ae3d-9302-4b73-92f1-8c43ec92e9cd",
   "metadata": {},
   "outputs": [],
   "source": [
    "qa_model = \"TheBloke/Mistral-7B-OpenOrca-GPTQ\""
   ]
  },
  {
   "cell_type": "markdown",
   "id": "20c0e1eb-49cf-426e-b125-eb133d440fbd",
   "metadata": {},
   "source": [
    "Finnaly, we run the function with all the parameters we prepared. "
   ]
  },
  {
   "cell_type": "code",
   "execution_count": null,
   "id": "03d6d619-618a-49d6-b0be-43c300902927",
   "metadata": {
    "tags": []
   },
   "outputs": [],
   "source": [
    "# Question answering:\n",
    "demo3_run = func.run(\n",
    "    function=\"question-answering\",\n",
    "    local=True,\n",
    "    handler=\"answer_questions\",\n",
    "    inputs={\"data_path\": os.path.abspath(\"./calls\")},\n",
    "    params={\n",
    "        \"model_name\": qa_model,\n",
    "        \"device_map\": \"auto\",\n",
    "        \"text_wrapper\":TEXT_WRAPPER,\n",
    "        \"questions\": QUESTIONS,\n",
    "        \"questions_wrapper\": QUESTIONS_WRAPPER,\n",
    "        \"questions_columns\": qa_questions_columns,\n",
    "        \"questions_config\": questions_config, # This time we add 'questions_config'\n",
    "    },\n",
    "    returns=[\n",
    "        \"question_answering_df: dataset\",\n",
    "        \"question_answering_errors: result\",\n",
    "    ],\n",
    ")\n"
   ]
  },
  {
   "cell_type": "markdown",
   "id": "534edd4e-1e5b-4663-a2bb-bc6da7b603ca",
   "metadata": {},
   "source": [
    "### (3.) Review results\n"
   ]
  },
  {
   "cell_type": "code",
   "execution_count": null,
   "id": "a61f06ad-ee28-45c9-b7da-d93c5a296810",
   "metadata": {},
   "outputs": [],
   "source": [
    "demo3_run.outputs"
   ]
  }
 ],
 "metadata": {
  "kernelspec": {
   "display_name": "mlrun-base",
   "language": "python",
   "name": "conda-env-mlrun-base-py"
  },
  "language_info": {
   "codemirror_mode": {
    "name": "ipython",
    "version": 3
   },
   "file_extension": ".py",
   "mimetype": "text/x-python",
   "name": "python",
   "nbconvert_exporter": "python",
   "pygments_lexer": "ipython3",
   "version": "3.9.16"
  }
 },
 "nbformat": 4,
 "nbformat_minor": 5
}
