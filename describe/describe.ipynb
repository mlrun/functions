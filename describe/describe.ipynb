{
 "cells": [
  {
   "cell_type": "markdown",
   "metadata": {},
   "source": [
    "# Describe"
   ]
  },
  {
   "cell_type": "code",
   "execution_count": 2,
   "metadata": {},
   "outputs": [],
   "source": [
    "import mlrun\n",
    "import os"
   ]
  },
  {
   "cell_type": "code",
   "execution_count": 32,
   "metadata": {},
   "outputs": [],
   "source": [
    "mlrun.mlconf.dbpath='http://mlrun-api:8080'\n",
    "\n",
    "mlrun.artifact_path = os.path.join(os.getcwd(), 'artifacts')\n",
    "os.makedirs(mlrun.artifact_path, exist_ok=True)"
   ]
  },
  {
   "cell_type": "code",
   "execution_count": 63,
   "metadata": {},
   "outputs": [],
   "source": [
    "FN_DIR = '/User/functions/describe'                                  # To save function specs\n",
    "pq_file = '/User/demo-network-operations/data/aggregate_no_index.pq' # For internal function test"
   ]
  },
  {
   "cell_type": "code",
   "execution_count": 8,
   "metadata": {},
   "outputs": [],
   "source": [
    "# nuclio: start-code"
   ]
  },
  {
   "cell_type": "code",
   "execution_count": 56,
   "metadata": {},
   "outputs": [],
   "source": [
    "import os\n",
    "import numpy as np\n",
    "import pandas as pd\n",
    "import matplotlib.pyplot as plt\n",
    "import seaborn as sns\n",
    "\n",
    "from mlrun.execution import MLClientCtx\n",
    "from mlrun.datastore import DataItem\n",
    "from mlrun.artifacts import PlotArtifact, TableArtifact\n",
    "\n",
    "from sklearn.preprocessing import StandardScaler\n",
    "from yellowbrick import ClassBalance\n",
    "\n",
    "from typing import IO, AnyStr, Union, List, Optional"
   ]
  },
  {
   "cell_type": "code",
   "execution_count": 10,
   "metadata": {},
   "outputs": [],
   "source": [
    "pd.set_option(\"display.float_format\", lambda x: \"%.2f\" % x)"
   ]
  },
  {
   "cell_type": "code",
   "execution_count": 11,
   "metadata": {},
   "outputs": [],
   "source": [
    "def _gcf_clear(plt):\n",
    "    plt.cla()\n",
    "    plt.clf()\n",
    "    plt.close() "
   ]
  },
  {
   "cell_type": "code",
   "execution_count": 55,
   "metadata": {},
   "outputs": [],
   "source": [
    "def describe(\n",
    "    context: MLClientCtx,\n",
    "    table: Union[DataItem, str],\n",
    "    label_column: str,\n",
    "    class_labels: List[str] = None,\n",
    "    key: str = \"table-summary\",\n",
    "    plot_hist: bool = True,\n",
    "    plots_dest: str = 'plots'\n",
    ") -> None:\n",
    "    \"\"\"Summarize a table\n",
    "\n",
    "    TODO: merge with dask version\n",
    "\n",
    "    :param context:         the function context\n",
    "    :param table:           pandas dataframe\n",
    "    :param label_column:    ground truth column label\n",
    "    :param key:             key of table summary in artifact store\n",
    "    :param plot_hist:       (True) set this to False for large tables\n",
    "    :param plots_dest:      destination folder of summary plots (relative to artifact_path)\n",
    "    \"\"\"\n",
    "    base_path = context.artifact_path\n",
    "    \n",
    "    table = pd.read_parquet(str(table))\n",
    "    header = table.columns.values\n",
    "\n",
    "    _gcf_clear(plt)\n",
    "    try:\n",
    "        snsplt = sns.pairplot(table, hue=label_column)\n",
    "        snsplt.savefig(os.path.join(base_path, f\"{plots_dest}/hist.png\"))\n",
    "        context.log_artifact(PlotArtifact(\"histograms\",  body=plt.gcf()), local_path=f\"{plots_dest}/hist.html\")\n",
    "    except Exception as e:\n",
    "        context.logger.warning(f'While trying to run sns.pairplot encountered the following error: {e}')\n",
    "\n",
    "    sumtbl = table.describe()\n",
    "    sumtbl = sumtbl.append(len(table.index)-table.count(), ignore_index=True)\n",
    "    sumtbl.insert(0, \"metric\", [\"count\", \"mean\", \"std\", \"min\",\"25%\", \"50%\", \"75%\", \"max\", \"nans\"])\n",
    "    \n",
    "    sumtbl.to_csv(os.path.join(base_path, key+\".csv\"), index=False)\n",
    "    context.log_artifact(key, local_path=key+\".csv\")\n",
    "\n",
    "    _gcf_clear(plt)\n",
    "    \n",
    "    labels = table.pop(label_column)\n",
    "    class_balance_model = ClassBalance(labels=class_labels)\n",
    "    class_balance_model.fit(labels)\n",
    "    \n",
    "    scale_pos_weight = class_balance_model.support_[0]/class_balance_model.support_[1]\n",
    "    context.log_artifact(\"scale_pos_weight\", f\"{scale_pos_weight:0.2f}\")\n",
    "\n",
    "    class_balance_model.show(outpath=os.path.join(base_path, f\"{plots_dest}/imbalance.png\"))\n",
    "    context.log_artifact(PlotArtifact(\"imbalance\", body=plt.gcf()), local_path=f\"{plots_dest}/imbalance.html\")\n",
    "    \n",
    "    _gcf_clear(plt)\n",
    "    tblcorr = table.corr()\n",
    "    ax = plt.axes()\n",
    "    sns.heatmap(tblcorr, ax=ax, annot=False, cmap=plt.cm.Reds)\n",
    "    ax.set_title(\"features correlation\")\n",
    "    plt.savefig(os.path.join(base_path, f\"{plots_dest}/corr.png\"))\n",
    "    context.log_artifact(PlotArtifact(\"correlation\",  body=plt.gcf()), local_path=f\"{plots_dest}corr.html\")\n",
    "    \n",
    "   \n",
    "    _gcf_clear(plt)\n",
    "\n"
   ]
  },
  {
   "cell_type": "code",
   "execution_count": 8,
   "metadata": {},
   "outputs": [],
   "source": [
    "# nuclio: end-code"
   ]
  },
  {
   "cell_type": "markdown",
   "metadata": {},
   "source": [
    "## Setup Describe"
   ]
  },
  {
   "cell_type": "code",
   "execution_count": 73,
   "metadata": {},
   "outputs": [],
   "source": [
    "describe_fn = mlrun.code_to_function('describe',\n",
    "                                     kind='job',\n",
    "#                                      code_output=os.path.join(FN_DIR, 'describe.py'),\n",
    "                                     image='mlrun/ml-models:0.4.5')"
   ]
  },
  {
   "cell_type": "code",
   "execution_count": 62,
   "metadata": {},
   "outputs": [],
   "source": [
    "summ_task = mlrun.NewTask(\n",
    "    \"sum\", \n",
    "    handler=describe,  \n",
    "    params={\"key\": \"summary\", \n",
    "            \"label_column\": \"is_error\", \n",
    "            'class_labels': ['0', '1'],\n",
    "            'plot_hist': True,\n",
    "            'plot_dest': 'plots'},\n",
    "    inputs={\"table\": pq_file},\n",
    "    artifact_path=mlrun.artifact_path)"
   ]
  },
  {
   "cell_type": "markdown",
   "metadata": {},
   "source": [
    "## Test\n",
    "### Local"
   ]
  },
  {
   "cell_type": "code",
   "execution_count": 58,
   "metadata": {
    "collapsed": true,
    "jupyter": {
     "outputs_hidden": true
    }
   },
   "outputs": [
    {
     "name": "stdout",
     "output_type": "stream",
     "text": [
      "[mlrun] 2020-03-19 14:01:51,728 warning!, server (0.4.5) and client (0.4.6) ver dont match\n",
      "[mlrun] 2020-03-19 14:01:51,728 starting run sum uid=67ad4af5fd4c40a0ad6a1af3142b62b6  -> http://mlrun-api:8080\n",
      "[mlrun] 2020-03-19 14:01:51,746 warning!, server (0.4.5) and client (0.4.6) ver dont match\n",
      "[mlrun] 2020-03-19 14:01:59,027 While trying to run sns.pairplot encountered the following error: singular matrix\n",
      "[mlrun] 2020-03-19 14:01:59,078 log artifact summary at /User/functions/describe/artifacts/summary.csv, size: None, db: Y\n",
      "[mlrun] 2020-03-19 14:02:02,192 log artifact scale_pos_weight at /User/functions/describe/artifacts/scale_pos_weight, size: 5, db: Y\n",
      "[mlrun] 2020-03-19 14:02:02,279 log artifact imbalance at /User/functions/describe/artifacts/plots/imbalance.html, size: 12164, db: Y\n",
      "[mlrun] 2020-03-19 14:02:02,525 log artifact correlation at /User/functions/describe/artifacts/plotscorr.html, size: 32066, db: Y\n",
      "\n"
     ]
    },
    {
     "data": {
      "text/html": [
       "<style> \n",
       ".dictlist {\n",
       "  background-color: #b3edff; \n",
       "  text-align: center; \n",
       "  margin: 4px; \n",
       "  border-radius: 3px; padding: 0px 3px 1px 3px; display: inline-block;}\n",
       ".artifact {\n",
       "  cursor: pointer; \n",
       "  background-color: #ffe6cc; \n",
       "  text-align: left; \n",
       "  margin: 4px; border-radius: 3px; padding: 0px 3px 1px 3px; display: inline-block;\n",
       "}\n",
       "div.block.hidden {\n",
       "  display: none;\n",
       "}\n",
       ".clickable {\n",
       "  cursor: pointer;\n",
       "}\n",
       ".ellipsis {\n",
       "  display: inline-block;\n",
       "  max-width: 60px;\n",
       "  white-space: nowrap;\n",
       "  overflow: hidden;\n",
       "  text-overflow: ellipsis;\n",
       "}\n",
       ".master-wrapper {\n",
       "  display: flex;\n",
       "  flex-flow: row nowrap;\n",
       "  justify-content: flex-start;\n",
       "  align-items: stretch;\n",
       "}\n",
       ".master-tbl {\n",
       "  flex: 3\n",
       "}\n",
       ".master-wrapper > div {\n",
       "  margin: 4px;\n",
       "  padding: 10px;\n",
       "}\n",
       "iframe.fileview {\n",
       "  border: 0 none;\n",
       "  height: 100%;\n",
       "  width: 100%;\n",
       "  white-space: pre-wrap;\n",
       "}\n",
       ".pane-header-title {\n",
       "  width: 80%;\n",
       "  font-weight: 500;\n",
       "}\n",
       ".pane-header {\n",
       "  line-height: 1;\n",
       "  background-color: #ffe6cc;\n",
       "  padding: 3px;\n",
       "}\n",
       ".pane-header .close {\n",
       "  font-size: 20px;\n",
       "  font-weight: 700;\n",
       "  float: right;\n",
       "  margin-top: -5px;\n",
       "}\n",
       ".master-wrapper .right-pane {\n",
       "  border: 1px inset silver;\n",
       "  width: 40%;\n",
       "  min-height: 300px;\n",
       "  flex: 3\n",
       "  min-width: 500px;\n",
       "}\n",
       ".master-wrapper * {\n",
       "  box-sizing: border-box;\n",
       "}\n",
       "</style><script>\n",
       "function copyToClipboard(fld) {\n",
       "    if (document.queryCommandSupported && document.queryCommandSupported('copy')) {\n",
       "        var textarea = document.createElement('textarea');\n",
       "        textarea.textContent = fld.innerHTML;\n",
       "        textarea.style.position = 'fixed';\n",
       "        document.body.appendChild(textarea);\n",
       "        textarea.select();\n",
       "\n",
       "        try {\n",
       "            return document.execCommand('copy'); // Security exception may be thrown by some browsers.\n",
       "        } catch (ex) {\n",
       "\n",
       "        } finally {\n",
       "            document.body.removeChild(textarea);\n",
       "        }\n",
       "    }\n",
       "}\n",
       "function expandPanel(el) {\n",
       "  const panelName = \"#\" + el.getAttribute('paneName');\n",
       "  console.log(el.title);\n",
       "\n",
       "  document.querySelector(panelName + \"-title\").innerHTML = el.title\n",
       "  iframe = document.querySelector(panelName + \"-body\");\n",
       "  \n",
       "  const tblcss = `<style> body { font-family: Arial, Helvetica, sans-serif;}\n",
       "    #csv { margin-bottom: 15px; }\n",
       "    #csv table { border-collapse: collapse;}\n",
       "    #csv table td { padding: 4px 8px; border: 1px solid silver;} </style>`;\n",
       "\n",
       "  function csvToHtmlTable(str) {\n",
       "    return '<div id=\"csv\"><table><tr><td>' +  str.replace(/[\\n\\r]+$/g, '').replace(/[\\n\\r]+/g, '</td></tr><tr><td>')\n",
       "      .replace(/,/g, '</td><td>') + '</td></tr></table></div>';\n",
       "  }\n",
       "  \n",
       "  function reqListener () {\n",
       "    if (el.title.endsWith(\".csv\")) {\n",
       "      iframe.setAttribute(\"srcdoc\", tblcss + csvToHtmlTable(this.responseText));\n",
       "    } else {\n",
       "      iframe.setAttribute(\"srcdoc\", this.responseText);\n",
       "    }  \n",
       "    console.log(this.responseText);\n",
       "  }\n",
       "\n",
       "  const oReq = new XMLHttpRequest();\n",
       "  oReq.addEventListener(\"load\", reqListener);\n",
       "  oReq.open(\"GET\", el.title);\n",
       "  oReq.send();\n",
       "  \n",
       "  \n",
       "  //iframe.src = el.title;\n",
       "  const resultPane = document.querySelector(panelName + \"-pane\");\n",
       "  if (resultPane.classList.contains(\"hidden\")) {\n",
       "    resultPane.classList.remove(\"hidden\");\n",
       "  }\n",
       "}\n",
       "function closePanel(el) {\n",
       "  const panelName = \"#\" + el.getAttribute('paneName')\n",
       "  const resultPane = document.querySelector(panelName + \"-pane\");\n",
       "  if (!resultPane.classList.contains(\"hidden\")) {\n",
       "    resultPane.classList.add(\"hidden\");\n",
       "  }\n",
       "}\n",
       "\n",
       "</script>\n",
       "<div class=\"master-wrapper\">\n",
       "  <div class=\"block master-tbl\"><div>\n",
       "<style scoped>\n",
       "    .dataframe tbody tr th:only-of-type {\n",
       "        vertical-align: middle;\n",
       "    }\n",
       "\n",
       "    .dataframe tbody tr th {\n",
       "        vertical-align: top;\n",
       "    }\n",
       "\n",
       "    .dataframe thead th {\n",
       "        text-align: right;\n",
       "    }\n",
       "</style>\n",
       "<table border=\"1\" class=\"dataframe\">\n",
       "  <thead>\n",
       "    <tr style=\"text-align: right;\">\n",
       "      <th>uid</th>\n",
       "      <th>iter</th>\n",
       "      <th>start</th>\n",
       "      <th>state</th>\n",
       "      <th>name</th>\n",
       "      <th>labels</th>\n",
       "      <th>inputs</th>\n",
       "      <th>parameters</th>\n",
       "      <th>results</th>\n",
       "      <th>artifacts</th>\n",
       "    </tr>\n",
       "  </thead>\n",
       "  <tbody>\n",
       "    <tr>\n",
       "      <td><div title=\"67ad4af5fd4c40a0ad6a1af3142b62b6\">...2b62b6</div></td>\n",
       "      <td>0</td>\n",
       "      <td>Mar 19 14:01:51</td>\n",
       "      <td>completed</td>\n",
       "      <td>sum</td>\n",
       "      <td><div class=\"dictlist\">kind=handler</div><div class=\"dictlist\">owner=admin</div><div class=\"dictlist\">host=jupyter-78ddb8b99c-brphv</div></td>\n",
       "      <td><div title=\"/User/demo-network-operations/data/aggregate_no_index.pq\">table</div></td>\n",
       "      <td><div class=\"dictlist\">key=summary</div><div class=\"dictlist\">label_column=is_error</div><div class=\"dictlist\">class_labels=['0', '1']</div><div class=\"dictlist\">plot_hist=True</div><div class=\"dictlist\">plot_dest=plots</div></td>\n",
       "      <td></td>\n",
       "      <td><div class=\"artifact\" onclick=\"expandPanel(this)\" paneName=\"result3405f812\" title=\"/files/functions/describe/artifacts/summary.csv\">summary</div><div title=\"/User/functions/describe/artifacts/scale_pos_weight\">scale_pos_weight</div><div class=\"artifact\" onclick=\"expandPanel(this)\" paneName=\"result3405f812\" title=\"/files/functions/describe/artifacts/plots/imbalance.html\">imbalance</div><div class=\"artifact\" onclick=\"expandPanel(this)\" paneName=\"result3405f812\" title=\"/files/functions/describe/artifacts/plotscorr.html\">correlation</div></td>\n",
       "    </tr>\n",
       "  </tbody>\n",
       "</table>\n",
       "</div></div>\n",
       "  <div id=\"result3405f812-pane\" class=\"right-pane block hidden\">\n",
       "    <div class=\"pane-header\">\n",
       "      <span id=\"result3405f812-title\" class=\"pane-header-title\">Title</span>\n",
       "      <span onclick=\"closePanel(this)\" paneName=\"result3405f812\" class=\"close clickable\">&times;</span>\n",
       "    </div>\n",
       "    <iframe class=\"fileview\" id=\"result3405f812-body\"></iframe>\n",
       "  </div>\n",
       "</div>\n"
      ],
      "text/plain": [
       "<IPython.core.display.HTML object>"
      ]
     },
     "metadata": {},
     "output_type": "display_data"
    },
    {
     "name": "stdout",
     "output_type": "stream",
     "text": [
      "to track results use .show() or .logs() or in CLI: \n",
      "!mlrun get run 67ad4af5fd4c40a0ad6a1af3142b62b6 --project default , !mlrun logs 67ad4af5fd4c40a0ad6a1af3142b62b6 --project default\n",
      "[mlrun] 2020-03-19 14:02:02,614 run executed, status=completed\n"
     ]
    },
    {
     "data": {
      "text/plain": [
       "<mlrun.model.RunObject at 0x7f57b64db9b0>"
      ]
     },
     "execution_count": 58,
     "metadata": {},
     "output_type": "execute_result"
    }
   ],
   "source": [
    "mlrun.run_local(summ_task)"
   ]
  },
  {
   "cell_type": "markdown",
   "metadata": {},
   "source": [
    "### Deployed"
   ]
  },
  {
   "cell_type": "code",
   "execution_count": 60,
   "metadata": {
    "collapsed": true,
    "jupyter": {
     "outputs_hidden": true
    }
   },
   "outputs": [
    {
     "name": "stdout",
     "output_type": "stream",
     "text": [
      "[mlrun] 2020-03-19 14:03:37,422 warning!, server (0.4.5) and client (0.4.6) ver dont match\n",
      "[mlrun] 2020-03-19 14:03:37,423 starting run sum uid=d535dc6fd4ef41ffa0f5590a82e0a8df  -> http://mlrun-api:8080\n",
      "[mlrun] 2020-03-19 14:03:37,477 Job is running in the background, pod: sum-xwd5c\n",
      "Intel(R) Data Analytics Acceleration Library (Intel(R) DAAL) solvers for sklearn enabled: https://intelpython.github.io/daal4py/sklearn.html\n",
      "findfont: Font family ['sans-serif'] not found. Falling back to DejaVu Sans.\n",
      "findfont: Font family ['sans-serif'] not found. Falling back to DejaVu Sans.\n",
      "/opt/conda/lib/python3.7/site-packages/seaborn/distributions.py:288: UserWarning: Data must have variance to compute a kernel density estimate.\n",
      "  warnings.warn(msg, UserWarning)\n",
      "findfont: Font family ['sans-serif'] not found. Falling back to DejaVu Sans.\n",
      "[mlrun] 2020-03-19 14:03:48,327 While trying to run sns.pairplot encountered the following error: Selected KDE bandwidth is 0. Cannot estimate density.\n",
      "[mlrun] 2020-03-19 14:03:48,422 log artifact summary at /User/functions/describe/artifacts/summary.csv, size: None, db: Y\n",
      "[mlrun] 2020-03-19 14:03:50,940 log artifact scale_pos_weight at /User/functions/describe/artifacts/scale_pos_weight, size: 5, db: Y\n",
      "[mlrun] 2020-03-19 14:03:51,064 log artifact imbalance at /User/functions/describe/artifacts/plots/imbalance.html, size: 19920, db: Y\n",
      "[mlrun] 2020-03-19 14:03:51,363 log artifact correlation at /User/functions/describe/artifacts/plotscorr.html, size: 51874, db: Y\n",
      "\n",
      "[mlrun] 2020-03-19 14:03:51,427 run executed, status=completed\n",
      "final state: succeeded\n"
     ]
    },
    {
     "data": {
      "text/html": [
       "<style> \n",
       ".dictlist {\n",
       "  background-color: #b3edff; \n",
       "  text-align: center; \n",
       "  margin: 4px; \n",
       "  border-radius: 3px; padding: 0px 3px 1px 3px; display: inline-block;}\n",
       ".artifact {\n",
       "  cursor: pointer; \n",
       "  background-color: #ffe6cc; \n",
       "  text-align: left; \n",
       "  margin: 4px; border-radius: 3px; padding: 0px 3px 1px 3px; display: inline-block;\n",
       "}\n",
       "div.block.hidden {\n",
       "  display: none;\n",
       "}\n",
       ".clickable {\n",
       "  cursor: pointer;\n",
       "}\n",
       ".ellipsis {\n",
       "  display: inline-block;\n",
       "  max-width: 60px;\n",
       "  white-space: nowrap;\n",
       "  overflow: hidden;\n",
       "  text-overflow: ellipsis;\n",
       "}\n",
       ".master-wrapper {\n",
       "  display: flex;\n",
       "  flex-flow: row nowrap;\n",
       "  justify-content: flex-start;\n",
       "  align-items: stretch;\n",
       "}\n",
       ".master-tbl {\n",
       "  flex: 3\n",
       "}\n",
       ".master-wrapper > div {\n",
       "  margin: 4px;\n",
       "  padding: 10px;\n",
       "}\n",
       "iframe.fileview {\n",
       "  border: 0 none;\n",
       "  height: 100%;\n",
       "  width: 100%;\n",
       "  white-space: pre-wrap;\n",
       "}\n",
       ".pane-header-title {\n",
       "  width: 80%;\n",
       "  font-weight: 500;\n",
       "}\n",
       ".pane-header {\n",
       "  line-height: 1;\n",
       "  background-color: #ffe6cc;\n",
       "  padding: 3px;\n",
       "}\n",
       ".pane-header .close {\n",
       "  font-size: 20px;\n",
       "  font-weight: 700;\n",
       "  float: right;\n",
       "  margin-top: -5px;\n",
       "}\n",
       ".master-wrapper .right-pane {\n",
       "  border: 1px inset silver;\n",
       "  width: 40%;\n",
       "  min-height: 300px;\n",
       "  flex: 3\n",
       "  min-width: 500px;\n",
       "}\n",
       ".master-wrapper * {\n",
       "  box-sizing: border-box;\n",
       "}\n",
       "</style><script>\n",
       "function copyToClipboard(fld) {\n",
       "    if (document.queryCommandSupported && document.queryCommandSupported('copy')) {\n",
       "        var textarea = document.createElement('textarea');\n",
       "        textarea.textContent = fld.innerHTML;\n",
       "        textarea.style.position = 'fixed';\n",
       "        document.body.appendChild(textarea);\n",
       "        textarea.select();\n",
       "\n",
       "        try {\n",
       "            return document.execCommand('copy'); // Security exception may be thrown by some browsers.\n",
       "        } catch (ex) {\n",
       "\n",
       "        } finally {\n",
       "            document.body.removeChild(textarea);\n",
       "        }\n",
       "    }\n",
       "}\n",
       "function expandPanel(el) {\n",
       "  const panelName = \"#\" + el.getAttribute('paneName');\n",
       "  console.log(el.title);\n",
       "\n",
       "  document.querySelector(panelName + \"-title\").innerHTML = el.title\n",
       "  iframe = document.querySelector(panelName + \"-body\");\n",
       "  \n",
       "  const tblcss = `<style> body { font-family: Arial, Helvetica, sans-serif;}\n",
       "    #csv { margin-bottom: 15px; }\n",
       "    #csv table { border-collapse: collapse;}\n",
       "    #csv table td { padding: 4px 8px; border: 1px solid silver;} </style>`;\n",
       "\n",
       "  function csvToHtmlTable(str) {\n",
       "    return '<div id=\"csv\"><table><tr><td>' +  str.replace(/[\\n\\r]+$/g, '').replace(/[\\n\\r]+/g, '</td></tr><tr><td>')\n",
       "      .replace(/,/g, '</td><td>') + '</td></tr></table></div>';\n",
       "  }\n",
       "  \n",
       "  function reqListener () {\n",
       "    if (el.title.endsWith(\".csv\")) {\n",
       "      iframe.setAttribute(\"srcdoc\", tblcss + csvToHtmlTable(this.responseText));\n",
       "    } else {\n",
       "      iframe.setAttribute(\"srcdoc\", this.responseText);\n",
       "    }  \n",
       "    console.log(this.responseText);\n",
       "  }\n",
       "\n",
       "  const oReq = new XMLHttpRequest();\n",
       "  oReq.addEventListener(\"load\", reqListener);\n",
       "  oReq.open(\"GET\", el.title);\n",
       "  oReq.send();\n",
       "  \n",
       "  \n",
       "  //iframe.src = el.title;\n",
       "  const resultPane = document.querySelector(panelName + \"-pane\");\n",
       "  if (resultPane.classList.contains(\"hidden\")) {\n",
       "    resultPane.classList.remove(\"hidden\");\n",
       "  }\n",
       "}\n",
       "function closePanel(el) {\n",
       "  const panelName = \"#\" + el.getAttribute('paneName')\n",
       "  const resultPane = document.querySelector(panelName + \"-pane\");\n",
       "  if (!resultPane.classList.contains(\"hidden\")) {\n",
       "    resultPane.classList.add(\"hidden\");\n",
       "  }\n",
       "}\n",
       "\n",
       "</script>\n",
       "<div class=\"master-wrapper\">\n",
       "  <div class=\"block master-tbl\"><div>\n",
       "<style scoped>\n",
       "    .dataframe tbody tr th:only-of-type {\n",
       "        vertical-align: middle;\n",
       "    }\n",
       "\n",
       "    .dataframe tbody tr th {\n",
       "        vertical-align: top;\n",
       "    }\n",
       "\n",
       "    .dataframe thead th {\n",
       "        text-align: right;\n",
       "    }\n",
       "</style>\n",
       "<table border=\"1\" class=\"dataframe\">\n",
       "  <thead>\n",
       "    <tr style=\"text-align: right;\">\n",
       "      <th>uid</th>\n",
       "      <th>iter</th>\n",
       "      <th>start</th>\n",
       "      <th>state</th>\n",
       "      <th>name</th>\n",
       "      <th>labels</th>\n",
       "      <th>inputs</th>\n",
       "      <th>parameters</th>\n",
       "      <th>results</th>\n",
       "      <th>artifacts</th>\n",
       "    </tr>\n",
       "  </thead>\n",
       "  <tbody>\n",
       "    <tr>\n",
       "      <td><div title=\"d535dc6fd4ef41ffa0f5590a82e0a8df\">...e0a8df</div></td>\n",
       "      <td>0</td>\n",
       "      <td>Mar 19 14:03:42</td>\n",
       "      <td>completed</td>\n",
       "      <td>sum</td>\n",
       "      <td><div class=\"dictlist\">host=sum-xwd5c</div><div class=\"dictlist\">kind=job</div><div class=\"dictlist\">owner=admin</div></td>\n",
       "      <td><div title=\"/User/demo-network-operations/data/aggregate_no_index.pq\">table</div></td>\n",
       "      <td><div class=\"dictlist\">class_labels=['0', '1']</div><div class=\"dictlist\">key=summary</div><div class=\"dictlist\">label_column=is_error</div><div class=\"dictlist\">plot_dest=plots</div><div class=\"dictlist\">plot_hist=True</div></td>\n",
       "      <td></td>\n",
       "      <td><div class=\"artifact\" onclick=\"expandPanel(this)\" paneName=\"resultd0d06ed9\" title=\"/files/functions/describe/artifacts/summary.csv\">summary</div><div title=\"/User/functions/describe/artifacts/scale_pos_weight\">scale_pos_weight</div><div class=\"artifact\" onclick=\"expandPanel(this)\" paneName=\"resultd0d06ed9\" title=\"/files/functions/describe/artifacts/plots/imbalance.html\">imbalance</div><div class=\"artifact\" onclick=\"expandPanel(this)\" paneName=\"resultd0d06ed9\" title=\"/files/functions/describe/artifacts/plotscorr.html\">correlation</div></td>\n",
       "    </tr>\n",
       "  </tbody>\n",
       "</table>\n",
       "</div></div>\n",
       "  <div id=\"resultd0d06ed9-pane\" class=\"right-pane block hidden\">\n",
       "    <div class=\"pane-header\">\n",
       "      <span id=\"resultd0d06ed9-title\" class=\"pane-header-title\">Title</span>\n",
       "      <span onclick=\"closePanel(this)\" paneName=\"resultd0d06ed9\" class=\"close clickable\">&times;</span>\n",
       "    </div>\n",
       "    <iframe class=\"fileview\" id=\"resultd0d06ed9-body\"></iframe>\n",
       "  </div>\n",
       "</div>\n"
      ],
      "text/plain": [
       "<IPython.core.display.HTML object>"
      ]
     },
     "metadata": {},
     "output_type": "display_data"
    },
    {
     "name": "stdout",
     "output_type": "stream",
     "text": [
      "to track results use .show() or .logs() or in CLI: \n",
      "!mlrun get run d535dc6fd4ef41ffa0f5590a82e0a8df  , !mlrun logs d535dc6fd4ef41ffa0f5590a82e0a8df \n",
      "[mlrun] 2020-03-19 14:03:55,825 run executed, status=completed\n"
     ]
    },
    {
     "data": {
      "text/plain": [
       "<mlrun.model.RunObject at 0x7f5725508fd0>"
      ]
     },
     "execution_count": 60,
     "metadata": {},
     "output_type": "execute_result"
    }
   ],
   "source": [
    "describe_fn.apply(mlrun.mount_v3io())\n",
    "describe_fn.run(summ_task)"
   ]
  },
  {
   "cell_type": "markdown",
   "metadata": {},
   "source": [
    "## Add yaml function definitions"
   ]
  },
  {
   "cell_type": "code",
   "execution_count": 74,
   "metadata": {
    "collapsed": true,
    "jupyter": {
     "outputs_hidden": true
    }
   },
   "outputs": [
    {
     "name": "stdout",
     "output_type": "stream",
     "text": [
      "kind: job\n",
      "metadata:\n",
      "  name: describe\n",
      "  tag: ''\n",
      "  project: ''\n",
      "  labels:\n",
      "    stage: development\n",
      "  categories:\n",
      "  - models\n",
      "  - graphics\n",
      "spec:\n",
      "  command: ''\n",
      "  args: []\n",
      "  image: mlrun/ml-models:0.4.5\n",
      "  volumes: []\n",
      "  volume_mounts: []\n",
      "  env: []\n",
      "  description: ''\n",
      "  build:\n",
      "    functionSourceCode: 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\n",
      "    commands: []\n",
      "    code_origin: https://github.com/zilbermanor/functions#a1ef1411089314b8a264a70077a64ea77ccc0558:describe.ipynb\n",
      "\n"
     ]
    }
   ],
   "source": [
    "describe_fn.metadata.categories = ['models', 'graphics']\n",
    "describe_fn.set_label('stage', 'development')\n",
    "print(describe_fn.to_yaml())"
   ]
  },
  {
   "cell_type": "code",
   "execution_count": 77,
   "metadata": {},
   "outputs": [
    {
     "name": "stdout",
     "output_type": "stream",
     "text": [
      "[mlrun] 2020-03-19 14:16:01,147 function spec saved to path: /User/functions/describe/function.yaml\n"
     ]
    },
    {
     "data": {
      "text/plain": [
       "<mlrun.runtimes.kubejob.KubejobRuntime at 0x7f5714264710>"
      ]
     },
     "execution_count": 77,
     "metadata": {},
     "output_type": "execute_result"
    }
   ],
   "source": [
    "describe_fn.set_label\n",
    "describe_fn.export(os.path.join(FN_DIR, 'function.yaml'))"
   ]
  },
  {
   "cell_type": "code",
   "execution_count": null,
   "metadata": {},
   "outputs": [],
   "source": []
  }
 ],
 "metadata": {
  "kernelspec": {
   "display_name": "Python 3",
   "language": "python",
   "name": "python3"
  },
  "language_info": {
   "codemirror_mode": {
    "name": "ipython",
    "version": 3
   },
   "file_extension": ".py",
   "mimetype": "text/x-python",
   "name": "python",
   "nbconvert_exporter": "python",
   "pygments_lexer": "ipython3",
   "version": "3.6.8"
  }
 },
 "nbformat": 4,
 "nbformat_minor": 4
}
