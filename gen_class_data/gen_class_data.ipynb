{
 "cells": [
  {
   "cell_type": "code",
   "execution_count": null,
   "metadata": {},
   "outputs": [],
   "source": [
    "# nuclio: ignore\n",
    "import nuclio"
   ]
  },
  {
   "cell_type": "code",
   "execution_count": null,
   "metadata": {},
   "outputs": [],
   "source": [
    "# Copyright 2019 Iguazio\n",
    "#\n",
    "# Licensed under the Apache License, Version 2.0 (the \"License\");\n",
    "# you may not use this file except in compliance with the License.\n",
    "# You may obtain a copy of the License at\n",
    "#\n",
    "#   http://www.apache.org/licenses/LICENSE-2.0\n",
    "#\n",
    "# Unless required by applicable law or agreed to in writing, software\n",
    "# distributed under the License is distributed on an \"AS IS\" BASIS,\n",
    "# WITHOUT WARRANTIES OR CONDITIONS OF ANY KIND, either express or implied.\n",
    "# See the License for the specific language governing permissions and\n",
    "# limitations under the License.\n",
    "import os\n",
    "import pandas as pd\n",
    "import pyarrow as pa\n",
    "import pyarrow.parquet as pq\n",
    "from typing import Optional, List, Any\n",
    "from sklearn.datasets import make_classification\n",
    "\n",
    "from mlrun.execution import MLClientCtx\n",
    "\n",
    "\n",
    "def gen_class_data(\n",
    "    context: MLClientCtx,\n",
    "    n_samples: int,\n",
    "    m_features: int,\n",
    "    k_classes: int,\n",
    "    header: Optional[List[str]],\n",
    "    label_column: Optional[str] = \"labels\",\n",
    "    weight: float = 0.5,\n",
    "    random_state: int = 1,\n",
    "    key: str = \"classifier-data\", \n",
    "    file_ext: str = \"parquet\",\n",
    "    sk_params = {}\n",
    "):\n",
    "    \"\"\"Create a binary classification sample dataset and save.\n",
    "    If no filename is given it will default to:\n",
    "    \"simdata-{n_samples}X{m_features}.parquet\".\n",
    "    \n",
    "    Additional scikit-learn parameters can be set using **sk_params, please see https://scikit-learn.org/stable/modules/generated/sklearn.datasets.make_classification.html for more details.\n",
    "    \n",
    "    :param context:       function context\n",
    "    :param n_samples:     number of rows/samples\n",
    "    :param m_features:    number of cols/features\n",
    "    :param k_classes:     number of classes\n",
    "    :param header:        header for features array\n",
    "    :param label_column:  column name of ground-truth series\n",
    "    :param weight:        fraction of sample negative value (ground-truth=0)\n",
    "    :param random_state:  rng seed (see https://scikit-learn.org/stable/glossary.html#term-random-state)\n",
    "    :param key:           key of data in artifact store\n",
    "    :param file_ext:      (pqt) extension for parquet file\n",
    "    :param sk_params:     additional parameters for `sklearn.datasets.make_classification`\n",
    "    \"\"\"\n",
    "    features, labels = make_classification(\n",
    "        n_samples=n_samples,\n",
    "        n_features=m_features,\n",
    "        weights=weight,\n",
    "        n_classes=k_classes,\n",
    "        random_state=random_state, \n",
    "        **sk_params)\n",
    "\n",
    "    # make dataframes, add column names, concatenate (X, y)\n",
    "    X = pd.DataFrame(features)\n",
    "    if not header:\n",
    "        X.columns = [\"feat_\" + str(x) for x in range(m_features)]\n",
    "    else:\n",
    "        X.columns = header\n",
    "\n",
    "    y = pd.DataFrame(labels, columns=[label_column])\n",
    "    data = pd.concat([X, y], axis=1)\n",
    "    \n",
    "    context.log_dataset(key, df=data, format=file_ext, index=False)"
   ]
  },
  {
   "cell_type": "code",
   "execution_count": null,
   "metadata": {},
   "outputs": [],
   "source": [
    "# nuclio: end-code"
   ]
  },
  {
   "cell_type": "markdown",
   "metadata": {},
   "source": [
    "### save"
   ]
  },
  {
   "cell_type": "code",
   "execution_count": null,
   "metadata": {},
   "outputs": [],
   "source": [
    "from mlrun import code_to_function \n",
    "# create job function object from notebook code\n",
    "fn = code_to_function(\"gen_class_data\", kind=\"job\", with_doc=True,\n",
    "                      handler=gen_class_data, image=\"mlrun/ml-models\")\n",
    "\n",
    "# add metadata (for templates and reuse)\n",
    "fn.spec.default_handler = \"gen_class_data\"\n",
    "fn.spec.description = \"simulate classification data using scikit-learn\"\n",
    "fn.metadata.categories = [\"datagen\", \"filesutils\"]\n",
    "fn.spec.image_pull_policy = \"Always\"\n",
    "fn.metadata.labels = {\"author\": \"yjb\"}\n",
    "\n",
    "fn.save()\n",
    "fn.export(\"function.yaml\")"
   ]
  },
  {
   "cell_type": "markdown",
   "metadata": {},
   "source": [
    "### test"
   ]
  },
  {
   "cell_type": "code",
   "execution_count": null,
   "metadata": {},
   "outputs": [],
   "source": [
    "from mlrun import import_function, mount_v3io\n",
    "\n",
    "func = import_function(\"hub://gen_class_data\").apply(mount_v3io())\n",
    "# func = import_function(\"function.yaml\").apply(mlrun.mount_v3io())\n",
    "\n",
    "task_params = {\n",
    "    \"name\":        \"tasks generate classification data\", \n",
    "    \"params\" : {\n",
    "        \"n_samples\"   : 1_000,\n",
    "        \"m_features\"  : 12,\n",
    "        \"k_classes\"   : 4,\n",
    "        \"weight\"      : [0.2, 0.8, 0.5],\n",
    "        \"sk_params\"   : {\"n_informative\": 3},\n",
    "        \"file_ext\"    : \"csv\"}}\n",
    "\n",
    "from mlrun import NewTask\n",
    "run = func.run(NewTask(**task_params), artifact_path=\"/User/artifacts\")"
   ]
  }
 ],
 "metadata": {
  "kernelspec": {
   "display_name": "mlrun-v0.4.6",
   "language": "python",
   "name": "mlrun-v0.4.6"
  },
  "language_info": {
   "codemirror_mode": {
    "name": "ipython",
    "version": 3
   },
   "file_extension": ".py",
   "mimetype": "text/x-python",
   "name": "python",
   "nbconvert_exporter": "python",
   "pygments_lexer": "ipython3",
   "version": "3.7.7"
  }
 },
 "nbformat": 4,
 "nbformat_minor": 4
}
