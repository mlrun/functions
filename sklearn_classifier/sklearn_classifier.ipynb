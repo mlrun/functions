{
 "cells": [
  {
   "cell_type": "markdown",
   "metadata": {},
   "source": [
    "**Please be sure to run the notebook [get-remote](get-remote.ipynb) before running this one.**"
   ]
  },
  {
   "cell_type": "markdown",
   "metadata": {},
   "source": [
    "## train model"
   ]
  },
  {
   "cell_type": "code",
   "execution_count": 4,
   "metadata": {},
   "outputs": [],
   "source": [
    "import mlrun, os, json\n",
    "mlrun.mlconf.dbpath = 'http://mlrun-api:8080'"
   ]
  },
  {
   "cell_type": "markdown",
   "metadata": {},
   "source": [
    "## function"
   ]
  },
  {
   "cell_type": "code",
   "execution_count": 12,
   "metadata": {},
   "outputs": [],
   "source": [
    "train_fn = mlrun.import_function('/User/functions/sklearn_classifier/function.yaml').apply(mlrun.mount_v3io())"
   ]
  },
  {
   "cell_type": "markdown",
   "metadata": {},
   "source": [
    "## parameters"
   ]
  },
  {
   "cell_type": "markdown",
   "metadata": {},
   "source": [
    "Please see \n",
    "**[LightGBM parameters](https://lightgbm.readthedocs.io/en/latest/Parameters.html)** for more details on all configurable LighGBM parameters."
   ]
  },
  {
   "cell_type": "code",
   "execution_count": 13,
   "metadata": {},
   "outputs": [],
   "source": [
    "# specify model class and configuration, in this casse, a LightGBM classifier\n",
    "SKLEARN_CLASSIFIER = 'lightgbm.sklearn.LGBMClassifier'\n",
    "MODEL_CONF         = json.load(open('/User/functions/sklearn_classifier/configs/lightgbm-conf.json', 'r'))"
   ]
  },
  {
   "cell_type": "code",
   "execution_count": 14,
   "metadata": {},
   "outputs": [],
   "source": [
    "# data params\n",
    "DATA_KEY      = '/User/lightgbm/artifacts/higgs.pqt'   # (from a previous notebook)\n",
    "LABEL_COLUMN  = 'labels'\n",
    "\n",
    "# -n for random sample of n obs, -1 for entire dataset, +n for n consecutive rows\n",
    "SAMPLE_SIZE      = -30_000\n",
    "\n",
    "TEST_SIZE        = 0.1       # 10% set aside\n",
    "TRAIN_VAL_SPLIT  = 0.75      # remainder split into train and val\n",
    "RNG              = 1         # for reproducibility"
   ]
  },
  {
   "cell_type": "code",
   "execution_count": 15,
   "metadata": {},
   "outputs": [],
   "source": [
    "# specify output params\n",
    "MODEL_KEY          = 'model'\n",
    "MODEL_NAME         = 'lgb-classifier.pkl'\n",
    "ARTIFACT_PATH      = '/User/functions/sklearn_classifier/artifacts'"
   ]
  },
  {
   "cell_type": "code",
   "execution_count": 16,
   "metadata": {},
   "outputs": [],
   "source": [
    "os.makedirs(ARTIFACT_PATH, exist_ok=True)"
   ]
  },
  {
   "cell_type": "markdown",
   "metadata": {},
   "source": [
    "## task"
   ]
  },
  {
   "cell_type": "code",
   "execution_count": 21,
   "metadata": {},
   "outputs": [
    {
     "name": "stdout",
     "output_type": "stream",
     "text": [
      "[mlrun] 2020-03-11 13:05:24,321 starting run train uid=ac543eaa958d426d902a25606a41f8e4  -> http://mlrun-api:8080\n",
      "[mlrun] 2020-03-11 13:05:24,439 Job is running in the background, pod: train-9lml7\n",
      "Intel(R) Data Analytics Acceleration Library (Intel(R) DAAL) solvers for sklearn enabled: https://intelpython.github.io/daal4py/sklearn.html\n",
      "findfont: Font family ['sans-serif'] not found. Falling back to DejaVu Sans.\n",
      "findfont: Font family ['sans-serif'] not found. Falling back to DejaVu Sans.\n",
      "findfont: Font family ['sans-serif'] not found. Falling back to DejaVu Sans.\n",
      "[mlrun] 2020-03-11 13:05:43,167 log artifact test-set at /User/functions-refac/sklearn_classifier/artifacts/test-set.csv, size: None, db: Y\n",
      "[mlrun] 2020-03-11 13:05:44,101 log artifact model at /User/functions-refac/sklearn_classifier/artifacts/models/model.pkl, size: None, db: Y\n",
      "[mlrun] 2020-03-11 13:05:44,362 log artifact roc at /User/functions-refac/sklearn_classifier/artifacts/plots/roc.png, size: 46918, db: Y\n",
      "[mlrun] 2020-03-11 13:05:44,584 log artifact history at /User/functions-refac/sklearn_classifier/artifacts/plots/history.png, size: 58142, db: Y\n",
      "[mlrun] 2020-03-11 13:05:44,870 log artifact confusion at /User/functions-refac/sklearn_classifier/artifacts/plots/confusion.png, size: 22480, db: Y\n",
      "[mlrun] 2020-03-11 13:05:45,646 log artifact featimp.png at /User/functions-refac/sklearn_classifier/artifacts/plots/featimp.png, size: 72326, db: Y\n",
      "[mlrun] 2020-03-11 13:05:45,669 log artifact featimp.csv at /User/functions-refac/sklearn_classifier/artifacts/featimp.csv, size: None, db: Y\n",
      "\n",
      "[mlrun] 2020-03-11 13:05:45,719 run executed, status=completed\n",
      "final state: succeeded\n"
     ]
    },
    {
     "data": {
      "text/html": [
       "<style> \n",
       ".dictlist {\n",
       "  background-color: #b3edff; \n",
       "  text-align: center; \n",
       "  margin: 4px; \n",
       "  border-radius: 3px; padding: 0px 3px 1px 3px; display: inline-block;}\n",
       ".artifact {\n",
       "  cursor: pointer; \n",
       "  background-color: #ffe6cc; \n",
       "  text-align: left; \n",
       "  margin: 4px; border-radius: 3px; padding: 0px 3px 1px 3px; display: inline-block;\n",
       "}\n",
       "div.block.hidden {\n",
       "  display: none;\n",
       "}\n",
       ".clickable {\n",
       "  cursor: pointer;\n",
       "}\n",
       ".ellipsis {\n",
       "  display: inline-block;\n",
       "  max-width: 60px;\n",
       "  white-space: nowrap;\n",
       "  overflow: hidden;\n",
       "  text-overflow: ellipsis;\n",
       "}\n",
       ".master-wrapper {\n",
       "  display: flex;\n",
       "  flex-flow: row nowrap;\n",
       "  justify-content: flex-start;\n",
       "  align-items: stretch;\n",
       "}\n",
       ".master-tbl {\n",
       "  flex: 3\n",
       "}\n",
       ".master-wrapper > div {\n",
       "  margin: 4px;\n",
       "  padding: 10px;\n",
       "}\n",
       "iframe.fileview {\n",
       "  border: 0 none;\n",
       "  height: 100%;\n",
       "  width: 100%;\n",
       "  white-space: pre-wrap;\n",
       "}\n",
       ".pane-header-title {\n",
       "  width: 80%;\n",
       "  font-weight: 500;\n",
       "}\n",
       ".pane-header {\n",
       "  line-height: 1;\n",
       "  background-color: #ffe6cc;\n",
       "  padding: 3px;\n",
       "}\n",
       ".pane-header .close {\n",
       "  font-size: 20px;\n",
       "  font-weight: 700;\n",
       "  float: right;\n",
       "  margin-top: -5px;\n",
       "}\n",
       ".master-wrapper .right-pane {\n",
       "  border: 1px inset silver;\n",
       "  width: 40%;\n",
       "  min-height: 300px;\n",
       "  flex: 3\n",
       "  min-width: 500px;\n",
       "}\n",
       ".master-wrapper * {\n",
       "  box-sizing: border-box;\n",
       "}\n",
       "</style><script>\n",
       "function copyToClipboard(fld) {\n",
       "    if (document.queryCommandSupported && document.queryCommandSupported('copy')) {\n",
       "        var textarea = document.createElement('textarea');\n",
       "        textarea.textContent = fld.innerHTML;\n",
       "        textarea.style.position = 'fixed';\n",
       "        document.body.appendChild(textarea);\n",
       "        textarea.select();\n",
       "\n",
       "        try {\n",
       "            return document.execCommand('copy'); // Security exception may be thrown by some browsers.\n",
       "        } catch (ex) {\n",
       "\n",
       "        } finally {\n",
       "            document.body.removeChild(textarea);\n",
       "        }\n",
       "    }\n",
       "}\n",
       "function expandPanel(el) {\n",
       "  const panelName = \"#\" + el.getAttribute('paneName');\n",
       "  console.log(el.title);\n",
       "\n",
       "  document.querySelector(panelName + \"-title\").innerHTML = el.title\n",
       "  iframe = document.querySelector(panelName + \"-body\");\n",
       "  \n",
       "  const tblcss = `<style> body { font-family: Arial, Helvetica, sans-serif;}\n",
       "    #csv { margin-bottom: 15px; }\n",
       "    #csv table { border-collapse: collapse;}\n",
       "    #csv table td { padding: 4px 8px; border: 1px solid silver;} </style>`;\n",
       "\n",
       "  function csvToHtmlTable(str) {\n",
       "    return '<div id=\"csv\"><table><tr><td>' +  str.replace(/[\\n\\r]+$/g, '').replace(/[\\n\\r]+/g, '</td></tr><tr><td>')\n",
       "      .replace(/,/g, '</td><td>') + '</td></tr></table></div>';\n",
       "  }\n",
       "  \n",
       "  function reqListener () {\n",
       "    if (el.title.endsWith(\".csv\")) {\n",
       "      iframe.setAttribute(\"srcdoc\", tblcss + csvToHtmlTable(this.responseText));\n",
       "    } else {\n",
       "      iframe.setAttribute(\"srcdoc\", this.responseText);\n",
       "    }  \n",
       "    console.log(this.responseText);\n",
       "  }\n",
       "\n",
       "  const oReq = new XMLHttpRequest();\n",
       "  oReq.addEventListener(\"load\", reqListener);\n",
       "  oReq.open(\"GET\", el.title);\n",
       "  oReq.send();\n",
       "  \n",
       "  \n",
       "  //iframe.src = el.title;\n",
       "  const resultPane = document.querySelector(panelName + \"-pane\");\n",
       "  if (resultPane.classList.contains(\"hidden\")) {\n",
       "    resultPane.classList.remove(\"hidden\");\n",
       "  }\n",
       "}\n",
       "function closePanel(el) {\n",
       "  const panelName = \"#\" + el.getAttribute('paneName')\n",
       "  const resultPane = document.querySelector(panelName + \"-pane\");\n",
       "  if (!resultPane.classList.contains(\"hidden\")) {\n",
       "    resultPane.classList.add(\"hidden\");\n",
       "  }\n",
       "}\n",
       "\n",
       "</script>\n",
       "<div class=\"master-wrapper\">\n",
       "  <div class=\"block master-tbl\"><div>\n",
       "<style scoped>\n",
       "    .dataframe tbody tr th:only-of-type {\n",
       "        vertical-align: middle;\n",
       "    }\n",
       "\n",
       "    .dataframe tbody tr th {\n",
       "        vertical-align: top;\n",
       "    }\n",
       "\n",
       "    .dataframe thead th {\n",
       "        text-align: right;\n",
       "    }\n",
       "</style>\n",
       "<table border=\"1\" class=\"dataframe\">\n",
       "  <thead>\n",
       "    <tr style=\"text-align: right;\">\n",
       "      <th>uid</th>\n",
       "      <th>iter</th>\n",
       "      <th>start</th>\n",
       "      <th>state</th>\n",
       "      <th>name</th>\n",
       "      <th>labels</th>\n",
       "      <th>inputs</th>\n",
       "      <th>parameters</th>\n",
       "      <th>results</th>\n",
       "      <th>artifacts</th>\n",
       "    </tr>\n",
       "  </thead>\n",
       "  <tbody>\n",
       "    <tr>\n",
       "      <td><div title=\"ac543eaa958d426d902a25606a41f8e4\">...41f8e4</div></td>\n",
       "      <td>0</td>\n",
       "      <td>Mar 11 13:05:35</td>\n",
       "      <td>completed</td>\n",
       "      <td>train</td>\n",
       "      <td><div class=\"dictlist\">host=train-9lml7</div><div class=\"dictlist\">kind=job</div><div class=\"dictlist\">owner=admin</div></td>\n",
       "      <td></td>\n",
       "      <td><div class=\"dictlist\">class_params={'boosting_type': 'gbdt', 'colsample_bytree': 1, 'importance_type': 'split', 'learning_rate': 0.1, 'max_depth': 50, 'min_child_samples': 20, 'min_split_gain': 0.0, 'n_estimators': 300, 'n_jobs': 16, 'num_leaves': 300, 'objective': 'binary', 'random_state': 1, 'reg_alpha': 0, 'reg_lambda': 1, 'scale_pos_weight': 1, 'silent': True, 'subsample': 1}</div><div class=\"dictlist\">data_key=/User/lightgbm/artifacts/higgs.pqt</div><div class=\"dictlist\">fit_params={'early_stopping_rounds': 10, 'verbose': False}</div><div class=\"dictlist\">label_column=labels</div><div class=\"dictlist\">rng=1</div><div class=\"dictlist\">sample=-30000</div><div class=\"dictlist\">test_size=0.1</div><div class=\"dictlist\">train_val_split=0.75</div></td>\n",
       "      <td><div class=\"dictlist\">accuracy=0.7112592592592593</div><div class=\"dictlist\">avg_precscore=0.8065259954834598</div><div class=\"dictlist\">f1_score=0.7269160711783662</div><div class=\"dictlist\">rocauc=0.7894231743202476</div></td>\n",
       "      <td><div class=\"artifact\" onclick=\"expandPanel(this)\" paneName=\"resultbed7b8d7\" title=\"/files/functions-refac/sklearn_classifier/artifacts/test-set.csv\">test-set</div><div title=\"/User/functions-refac/sklearn_classifier/artifacts/models/model.pkl\">model</div><div class=\"artifact\" onclick=\"expandPanel(this)\" paneName=\"resultbed7b8d7\" title=\"/files/functions-refac/sklearn_classifier/artifacts/plots/roc.png\">roc</div><div class=\"artifact\" onclick=\"expandPanel(this)\" paneName=\"resultbed7b8d7\" title=\"/files/functions-refac/sklearn_classifier/artifacts/plots/history.png\">history</div><div class=\"artifact\" onclick=\"expandPanel(this)\" paneName=\"resultbed7b8d7\" title=\"/files/functions-refac/sklearn_classifier/artifacts/plots/confusion.png\">confusion</div><div class=\"artifact\" onclick=\"expandPanel(this)\" paneName=\"resultbed7b8d7\" title=\"/files/functions-refac/sklearn_classifier/artifacts/plots/featimp.png\">featimp.png</div><div class=\"artifact\" onclick=\"expandPanel(this)\" paneName=\"resultbed7b8d7\" title=\"/files/functions-refac/sklearn_classifier/artifacts/featimp.csv\">featimp.csv</div></td>\n",
       "    </tr>\n",
       "  </tbody>\n",
       "</table>\n",
       "</div></div>\n",
       "  <div id=\"resultbed7b8d7-pane\" class=\"right-pane block hidden\">\n",
       "    <div class=\"pane-header\">\n",
       "      <span id=\"resultbed7b8d7-title\" class=\"pane-header-title\">Title</span>\n",
       "      <span onclick=\"closePanel(this)\" paneName=\"resultbed7b8d7\" class=\"close clickable\">&times;</span>\n",
       "    </div>\n",
       "    <iframe class=\"fileview\" id=\"resultbed7b8d7-body\"></iframe>\n",
       "  </div>\n",
       "</div>\n"
      ],
      "text/plain": [
       "<IPython.core.display.HTML object>"
      ]
     },
     "metadata": {},
     "output_type": "display_data"
    },
    {
     "name": "stdout",
     "output_type": "stream",
     "text": [
      "to track results use .show() or .logs() or in CLI: \n",
      "!mlrun get run ac543eaa958d426d902a25606a41f8e4  , !mlrun logs ac543eaa958d426d902a25606a41f8e4 \n",
      "[mlrun] 2020-03-11 13:05:53,893 run executed, status=completed\n"
     ]
    }
   ],
   "source": [
    "train_task = mlrun.NewTask(\n",
    "    'train',\n",
    "    params={\n",
    "        'data_key'        : DATA_KEY,\n",
    "        'sample'          : SAMPLE_SIZE,\n",
    "        'label_column'    : LABEL_COLUMN,\n",
    "        'test_size'       : TEST_SIZE,\n",
    "        'train_val_split' : TRAIN_VAL_SPLIT,\n",
    "        'rng'             : RNG,\n",
    "        'class_params'    : MODEL_CONF['CLASS_PARAMS'],\n",
    "        'fit_params'      : MODEL_CONF['FIT_PARAMS']},\n",
    "    artifact_path=ARTIFACT_PATH)\n",
    "\n",
    "tf = train_fn.run(train_task)"
   ]
  },
  {
   "cell_type": "markdown",
   "metadata": {},
   "source": [
    "## tests"
   ]
  },
  {
   "cell_type": "code",
   "execution_count": 35,
   "metadata": {},
   "outputs": [],
   "source": [
    "# refactor: take a simple make_classification dataset..."
   ]
  },
  {
   "cell_type": "code",
   "execution_count": 33,
   "metadata": {},
   "outputs": [],
   "source": [
    "outkeys = list(tf.outputs.keys())\n",
    "\n",
    "assert outkeys == ['accuracy',\n",
    "                   'avg_precscore',\n",
    "                   'f1_score',\n",
    "                   'rocauc',\n",
    "                   'test_set',\n",
    "                   'model',\n",
    "                   'roc',\n",
    "                   'history',\n",
    "                   'confusion',\n",
    "                   'featimp.png',\n",
    "                   'featimp.csv']"
   ]
  },
  {
   "cell_type": "code",
   "execution_count": null,
   "metadata": {},
   "outputs": [],
   "source": []
  }
 ],
 "metadata": {
  "kernelspec": {
   "display_name": "Python 3",
   "language": "python",
   "name": "python3"
  },
  "language_info": {
   "codemirror_mode": {
    "name": "ipython",
    "version": 3
   },
   "file_extension": ".py",
   "mimetype": "text/x-python",
   "name": "python",
   "nbconvert_exporter": "python",
   "pygments_lexer": "ipython3",
   "version": "3.6.8"
  }
 },
 "nbformat": 4,
 "nbformat_minor": 4
}
