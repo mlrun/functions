{
 "cells": [
  {
   "cell_type": "markdown",
   "metadata": {},
   "source": [
    "# XGBoost trainer"
   ]
  },
  {
   "cell_type": "markdown",
   "metadata": {},
   "source": [
    "This notebook function handles training and logging of xgboost models **only**, exposing both the sklearn and low level api\"s."
   ]
  },
  {
   "cell_type": "markdown",
   "metadata": {},
   "source": [
    "## steps\n",
    "1. generate an xgboost model configuration by selecting one of 5 available types\n",
    "2. get a sample of data from a data source (random rows, consecutive rows, or the entire dataset, custom sample)\n",
    "3. split the data into train, validation, and test sets (WIP, this will be parametrized cross-validator)  \n",
    "4. train the model using xgboost in one of its flavours (dask, gpu, mpi...)\n",
    "5. dump the model\n",
    "6. evaluate the model"
   ]
  },
  {
   "cell_type": "code",
   "execution_count": 1,
   "metadata": {},
   "outputs": [],
   "source": [
    "# nuclio: ignore\n",
    "import nuclio"
   ]
  },
  {
   "cell_type": "code",
   "execution_count": 2,
   "metadata": {},
   "outputs": [
    {
     "name": "stdout",
     "output_type": "stream",
     "text": [
      "%nuclio: setting kind to 'job'\n",
      "%nuclio: setting spec.image to 'mlrun/ml-models:0.4.8'\n"
     ]
    }
   ],
   "source": [
    "%nuclio config kind = \"job\"\n",
    "%nuclio config spec.image = \"mlrun/ml-models:0.4.8\""
   ]
  },
  {
   "cell_type": "code",
   "execution_count": 3,
   "metadata": {},
   "outputs": [],
   "source": [
    "import warnings\n",
    "warnings.simplefilter(action=\"ignore\", category=FutureWarning)"
   ]
  },
  {
   "cell_type": "code",
   "execution_count": 4,
   "metadata": {},
   "outputs": [],
   "source": [
    "from mlrun.mlutils import (get_sample,\n",
    "                     get_splits,\n",
    "                     gen_sklearn_model,\n",
    "                     create_class, \n",
    "                     eval_class_model,\n",
    "                     gcf_clear)\n",
    "\n",
    "from mlrun.execution import MLClientCtx\n",
    "from mlrun.datastore import DataItem\n",
    "from mlrun.artifacts import PlotArtifact, TableArtifact\n",
    "\n",
    "from cloudpickle import dumps\n",
    "import pandas as pd\n",
    "import os"
   ]
  },
  {
   "cell_type": "markdown",
   "metadata": {},
   "source": [
    "## generate an xgb model\n",
    "\n",
    "generate a model config using the xgboost's sklearn api"
   ]
  },
  {
   "cell_type": "code",
   "execution_count": 5,
   "metadata": {},
   "outputs": [],
   "source": [
    "def _gen_xgb_model(model_type: str, xgb_params: dict):\n",
    "    \"\"\"generate an xgboost model\n",
    "    \n",
    "    Multiple model types that can be estimated using\n",
    "    the XGBoost Scikit-Learn API.\n",
    "    \n",
    "    Input can either be a predefined json model configuration or one\n",
    "    of the five xgboost model types: \"classifier\", \"regressor\", \"ranker\",\n",
    "    \"rf_classifier\", or \"rf_regressor\".\n",
    "    \n",
    "    In either case one can pass in a params dict to modify defaults values.\n",
    "    \n",
    "    Based on `mlrun.mlutils.models.gen_sklearn_model`, see the function\n",
    "    `sklearn_classifier` in this repository.\n",
    "    \n",
    "    :param model_type: one of \"classifier\", \"regressor\",\n",
    "                       \"ranker\", \"rf_classifier\", or\n",
    "                      \"rf_regressor\"\n",
    "    :param xgb_params: class init parameters\n",
    "    \"\"\"\n",
    "    from mlrun.mlutils import get_class_fit, gen_sklearn_model\n",
    "\n",
    "    # generate model and fit function\n",
    "    mtypes = {\n",
    "        \"classifier\"   : \"xgboost.XGBClassifier\",\n",
    "        \"regressor\"    : \"xgboost.XGBRegressor\",\n",
    "        \"ranker\"       : \"xgboost.XGBRanker\",\n",
    "        \"rf_classifier\": \"xgboost.XGBRFClassifier\",\n",
    "        \"rf_regressor\" : \"xgboost.XGBRFRegressor\"\n",
    "    }\n",
    "    if model_type.endswith(\"json\"):\n",
    "        model_config = model_type\n",
    "    elif model_type in mtypes.keys():\n",
    "        model_config = mtypes[model_type]\n",
    "    else:\n",
    "        raise Exception(\"unrecognized model type, see help documentation\")\n",
    "\n",
    "    return gen_sklearn_model(model_config, xgb_params)"
   ]
  },
  {
   "cell_type": "markdown",
   "metadata": {},
   "source": [
    "## train"
   ]
  },
  {
   "cell_type": "code",
   "execution_count": 6,
   "metadata": {},
   "outputs": [],
   "source": [
    "def train_model(\n",
    "    context: MLClientCtx,\n",
    "    model_type: str,\n",
    "    dataset: DataItem,\n",
    "    label_column: str = \"labels\",\n",
    "    encode_cols: dict = {},\n",
    "    enc_drop_first: bool = True,\n",
    "    sample: int = -1,\n",
    "    test_size: float = 0.25,\n",
    "    valid_size: float = 0.75,\n",
    "    random_state: int = 1,\n",
    "    models_dest: str = \"models\",\n",
    "    plots_dest: str = \"plots\",\n",
    "    eval_metrics: list= [\"error\", \"auc\"],\n",
    "    file_ext: str = \"parquet\",\n",
    "    model_pkg_file: str = \"\",    \n",
    ") -> None:\n",
    "    \"\"\"train an xgboost model.\n",
    "\n",
    "    :param context:           the function context\n",
    "    :param model_type:        the model type to train, \"classifier\", \"regressor\"...\n",
    "    :param dataset:           (\"data\") name of raw data file\n",
    "    :param label_column:      ground-truth (y) labels\n",
    "    :param encode_cols:       dictionary of names and prefixes for columns that are\n",
    "                              to hot be encoded.\n",
    "    :param enc_drop_first:    (True) whether to drop the first column of hot encoded \n",
    "                              variables (avoid column exact dependencies)\n",
    "    :param sample:            Selects the first n rows, or select a sample\n",
    "                              starting from the first. If negative <-1, select\n",
    "                              a random sample\n",
    "    :param test_size:         (0.05) test set size\n",
    "    :param valid_size:        (0.75) Once the test set has been removed the\n",
    "                              training set gets this proportion.\n",
    "    :param random_state:      (1) sklearn rng seed\n",
    "    :param models_dest:       destination subfolder for model artifacts\n",
    "    :param plots_dest:        destination subfolder for plot artifacts\n",
    "    :param eval_metrics:      ([\"error\", \"auc\"]) learning curve metrics\n",
    "    :param file_ext:          format for test_set_key hold out data\n",
    "    \"\"\"\n",
    "    # deprecate:\n",
    "    models_dest = models_dest or \"models\"\n",
    "    plots_dest = plots_dest or f\"plots/{context.name}\"\n",
    "    \n",
    "    # get a sample from the raw data\n",
    "    raw, labels, header = get_sample(dataset, sample, label_column)\n",
    "    \n",
    "    # hot-encode\n",
    "    if encode_cols:\n",
    "        raw = pd.get_dummies(raw, \n",
    "                             columns=list(encode_cols.keys()), \n",
    "                             prefix=list(encode_cols.values()), \n",
    "                             drop_first=enc_drop_first)\n",
    "    \n",
    "    # split the sample into train validate, test and calibration sets:\n",
    "    (xtrain, ytrain), (xvalid, yvalid), (xtest, ytest), _ = get_splits(raw, labels, 3, test_size, \n",
    "                                                                    valid_size, [\"labels\"],\n",
    "                                                                    random_state)\n",
    "    \n",
    "    \n",
    "    # save test data\n",
    "    context.log_dataset(\"test-set\", df=pd.concat([xtest, ytest], axis=1), format=file_ext, index=False)\n",
    "    \n",
    "    # get model config\n",
    "    model_config = _gen_xgb_model(model_type, context.parameters.items())\n",
    "    model_short_name = model_config[\"META\"][\"class\"].split(\".\")[-1]\n",
    "   \n",
    "    # create model instance\n",
    "    XGBBoostClass = create_class(model_config[\"META\"][\"class\"])\n",
    "    model = XGBBoostClass(**model_config[\"CLASS\"])\n",
    "\n",
    "    # update the model config with training data and callbacks\n",
    "    model_config[\"FIT\"].update({\"X\": xtrain, \n",
    "                                \"y\": ytrain.values, \n",
    "                                \"eval_set\":[(xtrain, ytrain), (xvalid, yvalid)],\n",
    "                                \"eval_metric\": eval_metrics})\n",
    "    \n",
    "    # run the fit\n",
    "    model.fit(**model_config[\"FIT\"])\n",
    "\n",
    "    # evaluate model\n",
    "    eval_metrics = eval_class_model(context, xvalid, yvalid, model)\n",
    "    \n",
    "    # just do this inside log_model?\n",
    "    model_plots = eval_metrics.pop(\"plots\")\n",
    "    model_tables = eval_metrics.pop(\"tables\")\n",
    "    for plot in model_plots:\n",
    "        context.log_artifact(plot, local_path=f\"{plots_dest}/{plot.key}.html\")\n",
    "    for tbl in model_tables:\n",
    "        context.log_artifact(tbl, local_path=f\"{plots_dest}/{plot.key}.csv\")\n",
    "        \n",
    "    model_bin = dumps(model) # .get_booster())\n",
    "    context.log_model(\"model\", body=model_bin,\n",
    "                      artifact_path=os.path.join(context.artifact_path, models_dest),\n",
    "                      #model_dir=models_dest, \n",
    "                      model_file=\"model.pkl\",\n",
    "                      metrics=eval_metrics)\n",
    "\n",
    "    # probably have it wrong, cant see them from log_model so try this:\n",
    "    context.log_results(eval_metrics)"
   ]
  },
  {
   "cell_type": "code",
   "execution_count": 7,
   "metadata": {},
   "outputs": [],
   "source": [
    "# nuclio: end-code"
   ]
  },
  {
   "cell_type": "markdown",
   "metadata": {},
   "source": [
    "### mlconfig"
   ]
  },
  {
   "cell_type": "code",
   "execution_count": 8,
   "metadata": {},
   "outputs": [],
   "source": [
    "from mlrun import mlconf\n",
    "import os\n",
    "mlconf.dbpath = mlconf.dbpath or \"http://mlrun-api:8080\"\n",
    "mlconf.artifact_path = mlconf.artifact_path or f\"{os.environ['HOME']}/artifacts\""
   ]
  },
  {
   "cell_type": "markdown",
   "metadata": {},
   "source": [
    "### save"
   ]
  },
  {
   "cell_type": "code",
   "execution_count": 9,
   "metadata": {},
   "outputs": [
    {
     "name": "stdout",
     "output_type": "stream",
     "text": [
      "[mlrun] 2020-05-13 20:34:24,155 function spec saved to path: function.yaml\n"
     ]
    },
    {
     "data": {
      "text/plain": [
       "<mlrun.runtimes.kubejob.KubejobRuntime at 0x7f951e8d86d8>"
      ]
     },
     "execution_count": 9,
     "metadata": {},
     "output_type": "execute_result"
    }
   ],
   "source": [
    "from mlrun import code_to_function \n",
    "# create job function object from notebook code\n",
    "fn = code_to_function(\"xgb_trainer\")\n",
    "\n",
    "# add metadata (for templates and reuse)\n",
    "fn.spec.default_handler = \"train_model\"\n",
    "fn.spec.description = \"train multiple model types using xgboost\"\n",
    "fn.metadata.categories = [\"training\", \"ml\", \"experimental\"]\n",
    "fn.metadata.labels = {\"author\": \"yjb\", \"framework\": \"xgboost\"}\n",
    "\n",
    "fn.export(\"function.yaml\")"
   ]
  },
  {
   "cell_type": "markdown",
   "metadata": {},
   "source": [
    "### test function"
   ]
  },
  {
   "cell_type": "code",
   "execution_count": 10,
   "metadata": {},
   "outputs": [],
   "source": [
    "if \"V3IO_HOME\" in list(os.environ):\n",
    "    # mlrun on the iguazio platform\n",
    "    from mlrun import mount_v3io\n",
    "    fn.apply(mount_v3io())\n",
    "else:\n",
    "    # mlrun is setup using the instructions at \n",
    "    # https://github.com/mlrun/mlrun/blob/master/hack/local/README.md\n",
    "    from mlrun.platforms import mount_pvc\n",
    "    fn.apply(mount_pvc(\"nfsvol\", \"nfsvol\", \"/home/jovyan/data\"))"
   ]
  },
  {
   "cell_type": "code",
   "execution_count": 11,
   "metadata": {},
   "outputs": [],
   "source": [
    "gpus = False\n",
    "\n",
    "task_params = {\n",
    "    \"name\" : \"tasks xgb cpu trainer\",\n",
    "    \"params\" : {\n",
    "        \"model_type\"              : \"classifier\",\n",
    "        \"CLASS_tree_method\"       : \"gpu_hist\" if gpus else \"hist\",\n",
    "        \"CLASS_objective\"         : \"binary:logistic\",\n",
    "        \"CLASS_booster\"           : \"gbtree\",\n",
    "        \"FIT_verbose\"             : 0,\n",
    "        \"label_column\"            : \"labels\"}}"
   ]
  },
  {
   "cell_type": "markdown",
   "metadata": {},
   "source": [
    "### run locally"
   ]
  },
  {
   "cell_type": "code",
   "execution_count": 12,
   "metadata": {},
   "outputs": [
    {
     "name": "stdout",
     "output_type": "stream",
     "text": [
      "[mlrun] 2020-05-13 20:34:25,691 warning!, server (0.4.7) and client (0.4.8) ver dont match\n",
      "[mlrun] 2020-05-13 20:34:25,692 starting run tasks xgb cpu trainer uid=90be7b0af43c4254bfa0d656b8df3c85  -> http://mlrun-api:8080\n",
      "[mlrun] 2020-05-13 20:34:25,716 warning!, server (0.4.7) and client (0.4.8) ver dont match\n",
      "[mlrun] 2020-05-13 20:34:26,067 log artifact test-set at /User/artifacts/test-set.parquet, size: 55463, db: Y\n",
      "[mlrun] 2020-05-13 20:34:26,793 log artifact calibration curve at /User/artifacts/plots/calibration curve.html, size: 27752, db: Y\n",
      "[mlrun] 2020-05-13 20:34:26,905 log artifact learning curve - auc at /User/artifacts/plots/learning curve - auc.html, size: 15655, db: Y\n",
      "[mlrun] 2020-05-13 20:34:27,009 log artifact learning curve - erreur at /User/artifacts/plots/learning curve - erreur.html, size: 15226, db: Y\n",
      "[mlrun] 2020-05-13 20:34:27,658 log artifact feature-importances at /User/artifacts/plots/feature-importances.html, size: 48490, db: Y\n",
      "[mlrun] 2020-05-13 20:34:27,717 log artifact confusion-matrix-normalized at /User/artifacts/plots/confusion-matrix-normalized.html, size: 11758, db: Y\n",
      "[mlrun] 2020-05-13 20:34:27,787 log artifact roc-binary at /User/artifacts/plots/roc-binary.html, size: 16449, db: Y\n",
      "[mlrun] 2020-05-13 20:34:27,855 log artifact precision-recall-binary at /User/artifacts/plots/precision-recall-binary.html, size: 13846, db: Y\n",
      "[mlrun] 2020-05-13 20:34:27,873 log artifact feature-importances-tbl at /User/artifacts/plots/precision-recall-binary.csv, size: 989, db: Y\n",
      "[mlrun] 2020-05-13 20:34:27,909 log artifact model at /User/artifacts/models/, size: 39087, db: Y\n",
      "\n"
     ]
    },
    {
     "data": {
      "text/html": [
       "<style> \n",
       ".dictlist {\n",
       "  background-color: #b3edff; \n",
       "  text-align: center; \n",
       "  margin: 4px; \n",
       "  border-radius: 3px; padding: 0px 3px 1px 3px; display: inline-block;}\n",
       ".artifact {\n",
       "  cursor: pointer; \n",
       "  background-color: #ffe6cc; \n",
       "  text-align: left; \n",
       "  margin: 4px; border-radius: 3px; padding: 0px 3px 1px 3px; display: inline-block;\n",
       "}\n",
       "div.block.hidden {\n",
       "  display: none;\n",
       "}\n",
       ".clickable {\n",
       "  cursor: pointer;\n",
       "}\n",
       ".ellipsis {\n",
       "  display: inline-block;\n",
       "  max-width: 60px;\n",
       "  white-space: nowrap;\n",
       "  overflow: hidden;\n",
       "  text-overflow: ellipsis;\n",
       "}\n",
       ".master-wrapper {\n",
       "  display: flex;\n",
       "  flex-flow: row nowrap;\n",
       "  justify-content: flex-start;\n",
       "  align-items: stretch;\n",
       "}\n",
       ".master-tbl {\n",
       "  flex: 3\n",
       "}\n",
       ".master-wrapper > div {\n",
       "  margin: 4px;\n",
       "  padding: 10px;\n",
       "}\n",
       "iframe.fileview {\n",
       "  border: 0 none;\n",
       "  height: 100%;\n",
       "  width: 100%;\n",
       "  white-space: pre-wrap;\n",
       "}\n",
       ".pane-header-title {\n",
       "  width: 80%;\n",
       "  font-weight: 500;\n",
       "}\n",
       ".pane-header {\n",
       "  line-height: 1;\n",
       "  background-color: #ffe6cc;\n",
       "  padding: 3px;\n",
       "}\n",
       ".pane-header .close {\n",
       "  font-size: 20px;\n",
       "  font-weight: 700;\n",
       "  float: right;\n",
       "  margin-top: -5px;\n",
       "}\n",
       ".master-wrapper .right-pane {\n",
       "  border: 1px inset silver;\n",
       "  width: 40%;\n",
       "  min-height: 300px;\n",
       "  flex: 3\n",
       "  min-width: 500px;\n",
       "}\n",
       ".master-wrapper * {\n",
       "  box-sizing: border-box;\n",
       "}\n",
       "</style><script>\n",
       "function copyToClipboard(fld) {\n",
       "    if (document.queryCommandSupported && document.queryCommandSupported('copy')) {\n",
       "        var textarea = document.createElement('textarea');\n",
       "        textarea.textContent = fld.innerHTML;\n",
       "        textarea.style.position = 'fixed';\n",
       "        document.body.appendChild(textarea);\n",
       "        textarea.select();\n",
       "\n",
       "        try {\n",
       "            return document.execCommand('copy'); // Security exception may be thrown by some browsers.\n",
       "        } catch (ex) {\n",
       "\n",
       "        } finally {\n",
       "            document.body.removeChild(textarea);\n",
       "        }\n",
       "    }\n",
       "}\n",
       "function expandPanel(el) {\n",
       "  const panelName = \"#\" + el.getAttribute('paneName');\n",
       "  console.log(el.title);\n",
       "\n",
       "  document.querySelector(panelName + \"-title\").innerHTML = el.title\n",
       "  iframe = document.querySelector(panelName + \"-body\");\n",
       "  \n",
       "  const tblcss = `<style> body { font-family: Arial, Helvetica, sans-serif;}\n",
       "    #csv { margin-bottom: 15px; }\n",
       "    #csv table { border-collapse: collapse;}\n",
       "    #csv table td { padding: 4px 8px; border: 1px solid silver;} </style>`;\n",
       "\n",
       "  function csvToHtmlTable(str) {\n",
       "    return '<div id=\"csv\"><table><tr><td>' +  str.replace(/[\\n\\r]+$/g, '').replace(/[\\n\\r]+/g, '</td></tr><tr><td>')\n",
       "      .replace(/,/g, '</td><td>') + '</td></tr></table></div>';\n",
       "  }\n",
       "  \n",
       "  function reqListener () {\n",
       "    if (el.title.endsWith(\".csv\")) {\n",
       "      iframe.setAttribute(\"srcdoc\", tblcss + csvToHtmlTable(this.responseText));\n",
       "    } else {\n",
       "      iframe.setAttribute(\"srcdoc\", this.responseText);\n",
       "    }  \n",
       "    console.log(this.responseText);\n",
       "  }\n",
       "\n",
       "  const oReq = new XMLHttpRequest();\n",
       "  oReq.addEventListener(\"load\", reqListener);\n",
       "  oReq.open(\"GET\", el.title);\n",
       "  oReq.send();\n",
       "  \n",
       "  \n",
       "  //iframe.src = el.title;\n",
       "  const resultPane = document.querySelector(panelName + \"-pane\");\n",
       "  if (resultPane.classList.contains(\"hidden\")) {\n",
       "    resultPane.classList.remove(\"hidden\");\n",
       "  }\n",
       "}\n",
       "function closePanel(el) {\n",
       "  const panelName = \"#\" + el.getAttribute('paneName')\n",
       "  const resultPane = document.querySelector(panelName + \"-pane\");\n",
       "  if (!resultPane.classList.contains(\"hidden\")) {\n",
       "    resultPane.classList.add(\"hidden\");\n",
       "  }\n",
       "}\n",
       "\n",
       "</script>\n",
       "<div class=\"master-wrapper\">\n",
       "  <div class=\"block master-tbl\"><div>\n",
       "<style scoped>\n",
       "    .dataframe tbody tr th:only-of-type {\n",
       "        vertical-align: middle;\n",
       "    }\n",
       "\n",
       "    .dataframe tbody tr th {\n",
       "        vertical-align: top;\n",
       "    }\n",
       "\n",
       "    .dataframe thead th {\n",
       "        text-align: right;\n",
       "    }\n",
       "</style>\n",
       "<table border=\"1\" class=\"dataframe\">\n",
       "  <thead>\n",
       "    <tr style=\"text-align: right;\">\n",
       "      <th>project</th>\n",
       "      <th>uid</th>\n",
       "      <th>iter</th>\n",
       "      <th>start</th>\n",
       "      <th>state</th>\n",
       "      <th>name</th>\n",
       "      <th>labels</th>\n",
       "      <th>inputs</th>\n",
       "      <th>parameters</th>\n",
       "      <th>results</th>\n",
       "      <th>artifacts</th>\n",
       "    </tr>\n",
       "  </thead>\n",
       "  <tbody>\n",
       "    <tr>\n",
       "      <td>default</td>\n",
       "      <td><div title=\"90be7b0af43c4254bfa0d656b8df3c85\"><a href=\"https://mlrun-ui.default-tenant.app.yjb-mlrun-democlean.iguazio-cd0.com/projects/default/jobs/90be7b0af43c4254bfa0d656b8df3c85/info\" target=\"_blank\" >...b8df3c85</a></div></td>\n",
       "      <td>0</td>\n",
       "      <td>May 13 20:34:25</td>\n",
       "      <td>completed</td>\n",
       "      <td>tasks xgb cpu trainer</td>\n",
       "      <td><div class=\"dictlist\">v3io_user=admin</div><div class=\"dictlist\">kind=handler</div><div class=\"dictlist\">owner=admin</div><div class=\"dictlist\">host=jupyter-5fcc788f98-m762b</div></td>\n",
       "      <td><div title=\"/User/artifacts/breast_cancer.parquet\">dataset</div></td>\n",
       "      <td><div class=\"dictlist\">model_type=classifier</div><div class=\"dictlist\">CLASS_tree_method=hist</div><div class=\"dictlist\">CLASS_objective=binary:logistic</div><div class=\"dictlist\">CLASS_booster=gbtree</div><div class=\"dictlist\">FIT_verbose=0</div><div class=\"dictlist\">label_column=labels</div></td>\n",
       "      <td><div class=\"dictlist\">test-accuracy=0.9626168224299065</div><div class=\"dictlist\">test-error=0.037383177570093455</div><div class=\"dictlist\">rocauc=0.9972613458528952</div><div class=\"dictlist\">brier_score=0.02232463654730285</div><div class=\"dictlist\">f1-score=0.9714285714285714</div><div class=\"dictlist\">precision_score=0.9855072463768116</div><div class=\"dictlist\">recall_score=0.9577464788732394</div></td>\n",
       "      <td><div title=\"/User/artifacts/test-set.parquet\">test-set</div><div class=\"artifact\" onclick=\"expandPanel(this)\" paneName=\"result70d039c7\" title=\"/files/artifacts/plots/calibration curve.html\">calibration curve</div><div class=\"artifact\" onclick=\"expandPanel(this)\" paneName=\"result70d039c7\" title=\"/files/artifacts/plots/learning curve - auc.html\">learning curve - auc</div><div class=\"artifact\" onclick=\"expandPanel(this)\" paneName=\"result70d039c7\" title=\"/files/artifacts/plots/learning curve - erreur.html\">learning curve - erreur</div><div class=\"artifact\" onclick=\"expandPanel(this)\" paneName=\"result70d039c7\" title=\"/files/artifacts/plots/feature-importances.html\">feature-importances</div><div class=\"artifact\" onclick=\"expandPanel(this)\" paneName=\"result70d039c7\" title=\"/files/artifacts/plots/confusion-matrix-normalized.html\">confusion-matrix-normalized</div><div class=\"artifact\" onclick=\"expandPanel(this)\" paneName=\"result70d039c7\" title=\"/files/artifacts/plots/roc-binary.html\">roc-binary</div><div class=\"artifact\" onclick=\"expandPanel(this)\" paneName=\"result70d039c7\" title=\"/files/artifacts/plots/precision-recall-binary.html\">precision-recall-binary</div><div class=\"artifact\" onclick=\"expandPanel(this)\" paneName=\"result70d039c7\" title=\"/files/artifacts/plots/precision-recall-binary.csv\">feature-importances-tbl</div><div title=\"/User/artifacts/models\">model</div></td>\n",
       "    </tr>\n",
       "  </tbody>\n",
       "</table>\n",
       "</div></div>\n",
       "  <div id=\"result70d039c7-pane\" class=\"right-pane block hidden\">\n",
       "    <div class=\"pane-header\">\n",
       "      <span id=\"result70d039c7-title\" class=\"pane-header-title\">Title</span>\n",
       "      <span onclick=\"closePanel(this)\" paneName=\"result70d039c7\" class=\"close clickable\">&times;</span>\n",
       "    </div>\n",
       "    <iframe class=\"fileview\" id=\"result70d039c7-body\"></iframe>\n",
       "  </div>\n",
       "</div>\n"
      ],
      "text/plain": [
       "<IPython.core.display.HTML object>"
      ]
     },
     "metadata": {},
     "output_type": "display_data"
    },
    {
     "name": "stdout",
     "output_type": "stream",
     "text": [
      "to track results use .show() or .logs() or in CLI: \n",
      "!mlrun get run 90be7b0af43c4254bfa0d656b8df3c85 --project default , !mlrun logs 90be7b0af43c4254bfa0d656b8df3c85 --project default\n",
      "[mlrun] 2020-05-13 20:34:28,012 run executed, status=completed\n"
     ]
    },
    {
     "data": {
      "image/png": "[encoded data removed]",
      "text/plain": [
       "<Figure size 432x288 with 1 Axes>"
      ]
     },
     "metadata": {
      "needs_background": "light"
     },
     "output_type": "display_data"
    },
    {
     "data": {
      "text/plain": [
       "<Figure size 432x288 with 0 Axes>"
      ]
     },
     "metadata": {},
     "output_type": "display_data"
    },
    {
     "data": {
      "text/plain": [
       "<Figure size 432x288 with 0 Axes>"
      ]
     },
     "metadata": {},
     "output_type": "display_data"
    },
    {
     "data": {
      "image/png": "[encoded data removed]",
      "text/plain": [
       "<Figure size 1440x720 with 1 Axes>"
      ]
     },
     "metadata": {
      "needs_background": "light"
     },
     "output_type": "display_data"
    },
    {
     "data": {
      "image/png": "[encoded data removed]",
      "text/plain": [
       "<Figure size 432x288 with 2 Axes>"
      ]
     },
     "metadata": {
      "needs_background": "light"
     },
     "output_type": "display_data"
    },
    {
     "data": {
      "image/png": "[encoded data removed]",
      "text/plain": [
       "<Figure size 432x288 with 1 Axes>"
      ]
     },
     "metadata": {
      "needs_background": "light"
     },
     "output_type": "display_data"
    }
   ],
   "source": [
    "from mlrun import run_local, NewTask\n",
    "\n",
    "run = run_local(\n",
    "    NewTask(**task_params),\n",
    "    handler=train_model,\n",
    "    inputs={\"dataset\"  : os.path.join(mlconf.artifact_path, \"breast_cancer.parquet\")},\n",
    "    artifact_path=mlconf.artifact_path)"
   ]
  },
  {
   "cell_type": "markdown",
   "metadata": {},
   "source": [
    "### run remotely"
   ]
  },
  {
   "cell_type": "code",
   "execution_count": 13,
   "metadata": {},
   "outputs": [
    {
     "name": "stdout",
     "output_type": "stream",
     "text": [
      "[mlrun] 2020-05-13 20:34:32,094 warning!, server (0.4.7) and client (0.4.8) ver dont match\n",
      "[mlrun] 2020-05-13 20:34:32,095 starting run tasks xgb cpu trainer uid=4462f5b5bc39405da78d9ae73558a2e9  -> http://mlrun-api:8080\n",
      "[mlrun] 2020-05-13 20:34:32,225 Job is running in the background, pod: tasks-xgb-cpu-trainer-pbqpt\n",
      "[mlrun] 2020-05-13 20:34:37,895 warning!, server (0.4.7) and client (0.4.8) ver dont match\n",
      "[mlrun] 2020-05-13 20:34:38,457 warning!, server (0.4.7) and client (0.4.8) ver dont match\n",
      "[mlrun] 2020-05-13 20:34:38,651 log artifact test-set at /User/artifacts/test-set.parquet, size: 55454, db: Y\n",
      "[mlrun] 2020-05-13 20:34:39,261 log artifact calibration curve at /User/artifacts/plots/calibration curve.html, size: 51596, db: Y\n",
      "[mlrun] 2020-05-13 20:34:39,396 log artifact learning curve - auc at /User/artifacts/plots/learning curve - auc.html, size: 31619, db: Y\n",
      "[mlrun] 2020-05-13 20:34:39,596 log artifact learning curve - erreur at /User/artifacts/plots/learning curve - erreur.html, size: 29958, db: Y\n",
      "[mlrun] 2020-05-13 20:34:40,108 log artifact feature-importances at /User/artifacts/plots/feature-importances.html, size: 109482, db: Y\n",
      "[mlrun] 2020-05-13 20:34:40,179 log artifact confusion-matrix-normalized at /User/artifacts/plots/confusion-matrix-normalized.html, size: 22034, db: Y\n",
      "[mlrun] 2020-05-13 20:34:40,254 log artifact roc-binary at /User/artifacts/plots/roc-binary.html, size: 32181, db: Y\n",
      "[mlrun] 2020-05-13 20:34:40,325 log artifact precision-recall-binary at /User/artifacts/plots/precision-recall-binary.html, size: 27890, db: Y\n",
      "[mlrun] 2020-05-13 20:34:40,344 log artifact feature-importances-tbl at /User/artifacts/plots/precision-recall-binary.csv, size: 989, db: Y\n",
      "[mlrun] 2020-05-13 20:34:40,366 log artifact model at /User/artifacts/models/, size: 39094, db: Y\n",
      "\n",
      "[mlrun] 2020-05-13 20:34:40,440 run executed, status=completed\n",
      "final state: succeeded\n"
     ]
    },
    {
     "data": {
      "text/html": [
       "<style> \n",
       ".dictlist {\n",
       "  background-color: #b3edff; \n",
       "  text-align: center; \n",
       "  margin: 4px; \n",
       "  border-radius: 3px; padding: 0px 3px 1px 3px; display: inline-block;}\n",
       ".artifact {\n",
       "  cursor: pointer; \n",
       "  background-color: #ffe6cc; \n",
       "  text-align: left; \n",
       "  margin: 4px; border-radius: 3px; padding: 0px 3px 1px 3px; display: inline-block;\n",
       "}\n",
       "div.block.hidden {\n",
       "  display: none;\n",
       "}\n",
       ".clickable {\n",
       "  cursor: pointer;\n",
       "}\n",
       ".ellipsis {\n",
       "  display: inline-block;\n",
       "  max-width: 60px;\n",
       "  white-space: nowrap;\n",
       "  overflow: hidden;\n",
       "  text-overflow: ellipsis;\n",
       "}\n",
       ".master-wrapper {\n",
       "  display: flex;\n",
       "  flex-flow: row nowrap;\n",
       "  justify-content: flex-start;\n",
       "  align-items: stretch;\n",
       "}\n",
       ".master-tbl {\n",
       "  flex: 3\n",
       "}\n",
       ".master-wrapper > div {\n",
       "  margin: 4px;\n",
       "  padding: 10px;\n",
       "}\n",
       "iframe.fileview {\n",
       "  border: 0 none;\n",
       "  height: 100%;\n",
       "  width: 100%;\n",
       "  white-space: pre-wrap;\n",
       "}\n",
       ".pane-header-title {\n",
       "  width: 80%;\n",
       "  font-weight: 500;\n",
       "}\n",
       ".pane-header {\n",
       "  line-height: 1;\n",
       "  background-color: #ffe6cc;\n",
       "  padding: 3px;\n",
       "}\n",
       ".pane-header .close {\n",
       "  font-size: 20px;\n",
       "  font-weight: 700;\n",
       "  float: right;\n",
       "  margin-top: -5px;\n",
       "}\n",
       ".master-wrapper .right-pane {\n",
       "  border: 1px inset silver;\n",
       "  width: 40%;\n",
       "  min-height: 300px;\n",
       "  flex: 3\n",
       "  min-width: 500px;\n",
       "}\n",
       ".master-wrapper * {\n",
       "  box-sizing: border-box;\n",
       "}\n",
       "</style><script>\n",
       "function copyToClipboard(fld) {\n",
       "    if (document.queryCommandSupported && document.queryCommandSupported('copy')) {\n",
       "        var textarea = document.createElement('textarea');\n",
       "        textarea.textContent = fld.innerHTML;\n",
       "        textarea.style.position = 'fixed';\n",
       "        document.body.appendChild(textarea);\n",
       "        textarea.select();\n",
       "\n",
       "        try {\n",
       "            return document.execCommand('copy'); // Security exception may be thrown by some browsers.\n",
       "        } catch (ex) {\n",
       "\n",
       "        } finally {\n",
       "            document.body.removeChild(textarea);\n",
       "        }\n",
       "    }\n",
       "}\n",
       "function expandPanel(el) {\n",
       "  const panelName = \"#\" + el.getAttribute('paneName');\n",
       "  console.log(el.title);\n",
       "\n",
       "  document.querySelector(panelName + \"-title\").innerHTML = el.title\n",
       "  iframe = document.querySelector(panelName + \"-body\");\n",
       "  \n",
       "  const tblcss = `<style> body { font-family: Arial, Helvetica, sans-serif;}\n",
       "    #csv { margin-bottom: 15px; }\n",
       "    #csv table { border-collapse: collapse;}\n",
       "    #csv table td { padding: 4px 8px; border: 1px solid silver;} </style>`;\n",
       "\n",
       "  function csvToHtmlTable(str) {\n",
       "    return '<div id=\"csv\"><table><tr><td>' +  str.replace(/[\\n\\r]+$/g, '').replace(/[\\n\\r]+/g, '</td></tr><tr><td>')\n",
       "      .replace(/,/g, '</td><td>') + '</td></tr></table></div>';\n",
       "  }\n",
       "  \n",
       "  function reqListener () {\n",
       "    if (el.title.endsWith(\".csv\")) {\n",
       "      iframe.setAttribute(\"srcdoc\", tblcss + csvToHtmlTable(this.responseText));\n",
       "    } else {\n",
       "      iframe.setAttribute(\"srcdoc\", this.responseText);\n",
       "    }  \n",
       "    console.log(this.responseText);\n",
       "  }\n",
       "\n",
       "  const oReq = new XMLHttpRequest();\n",
       "  oReq.addEventListener(\"load\", reqListener);\n",
       "  oReq.open(\"GET\", el.title);\n",
       "  oReq.send();\n",
       "  \n",
       "  \n",
       "  //iframe.src = el.title;\n",
       "  const resultPane = document.querySelector(panelName + \"-pane\");\n",
       "  if (resultPane.classList.contains(\"hidden\")) {\n",
       "    resultPane.classList.remove(\"hidden\");\n",
       "  }\n",
       "}\n",
       "function closePanel(el) {\n",
       "  const panelName = \"#\" + el.getAttribute('paneName')\n",
       "  const resultPane = document.querySelector(panelName + \"-pane\");\n",
       "  if (!resultPane.classList.contains(\"hidden\")) {\n",
       "    resultPane.classList.add(\"hidden\");\n",
       "  }\n",
       "}\n",
       "\n",
       "</script>\n",
       "<div class=\"master-wrapper\">\n",
       "  <div class=\"block master-tbl\"><div>\n",
       "<style scoped>\n",
       "    .dataframe tbody tr th:only-of-type {\n",
       "        vertical-align: middle;\n",
       "    }\n",
       "\n",
       "    .dataframe tbody tr th {\n",
       "        vertical-align: top;\n",
       "    }\n",
       "\n",
       "    .dataframe thead th {\n",
       "        text-align: right;\n",
       "    }\n",
       "</style>\n",
       "<table border=\"1\" class=\"dataframe\">\n",
       "  <thead>\n",
       "    <tr style=\"text-align: right;\">\n",
       "      <th>project</th>\n",
       "      <th>uid</th>\n",
       "      <th>iter</th>\n",
       "      <th>start</th>\n",
       "      <th>state</th>\n",
       "      <th>name</th>\n",
       "      <th>labels</th>\n",
       "      <th>inputs</th>\n",
       "      <th>parameters</th>\n",
       "      <th>results</th>\n",
       "      <th>artifacts</th>\n",
       "    </tr>\n",
       "  </thead>\n",
       "  <tbody>\n",
       "    <tr>\n",
       "      <td>default</td>\n",
       "      <td><div title=\"4462f5b5bc39405da78d9ae73558a2e9\"><a href=\"https://mlrun-ui.default-tenant.app.yjb-mlrun-democlean.iguazio-cd0.com/projects/default/jobs/4462f5b5bc39405da78d9ae73558a2e9/info\" target=\"_blank\" >...3558a2e9</a></div></td>\n",
       "      <td>0</td>\n",
       "      <td>May 13 20:34:38</td>\n",
       "      <td>completed</td>\n",
       "      <td>tasks xgb cpu trainer</td>\n",
       "      <td><div class=\"dictlist\">host=tasks-xgb-cpu-trainer-pbqpt</div><div class=\"dictlist\">kind=job</div><div class=\"dictlist\">owner=admin</div><div class=\"dictlist\">v3io_user=admin</div></td>\n",
       "      <td><div title=\"/User/artifacts/breast_cancer.parquet\">dataset</div></td>\n",
       "      <td><div class=\"dictlist\">CLASS_booster=gbtree</div><div class=\"dictlist\">CLASS_objective=binary:logistic</div><div class=\"dictlist\">CLASS_tree_method=hist</div><div class=\"dictlist\">FIT_verbose=0</div><div class=\"dictlist\">label_column=labels</div><div class=\"dictlist\">model_type=classifier</div></td>\n",
       "      <td><div class=\"dictlist\">brier_score=0.02232463654730285</div><div class=\"dictlist\">f1-score=0.9714285714285714</div><div class=\"dictlist\">precision_score=0.9855072463768116</div><div class=\"dictlist\">recall_score=0.9577464788732394</div><div class=\"dictlist\">rocauc=0.9972613458528952</div><div class=\"dictlist\">test-accuracy=0.9626168224299065</div><div class=\"dictlist\">test-error=0.037383177570093455</div></td>\n",
       "      <td><div title=\"/User/artifacts/test-set.parquet\">test-set</div><div class=\"artifact\" onclick=\"expandPanel(this)\" paneName=\"result6555651a\" title=\"/files/artifacts/plots/calibration curve.html\">calibration curve</div><div class=\"artifact\" onclick=\"expandPanel(this)\" paneName=\"result6555651a\" title=\"/files/artifacts/plots/learning curve - auc.html\">learning curve - auc</div><div class=\"artifact\" onclick=\"expandPanel(this)\" paneName=\"result6555651a\" title=\"/files/artifacts/plots/learning curve - erreur.html\">learning curve - erreur</div><div class=\"artifact\" onclick=\"expandPanel(this)\" paneName=\"result6555651a\" title=\"/files/artifacts/plots/feature-importances.html\">feature-importances</div><div class=\"artifact\" onclick=\"expandPanel(this)\" paneName=\"result6555651a\" title=\"/files/artifacts/plots/confusion-matrix-normalized.html\">confusion-matrix-normalized</div><div class=\"artifact\" onclick=\"expandPanel(this)\" paneName=\"result6555651a\" title=\"/files/artifacts/plots/roc-binary.html\">roc-binary</div><div class=\"artifact\" onclick=\"expandPanel(this)\" paneName=\"result6555651a\" title=\"/files/artifacts/plots/precision-recall-binary.html\">precision-recall-binary</div><div class=\"artifact\" onclick=\"expandPanel(this)\" paneName=\"result6555651a\" title=\"/files/artifacts/plots/precision-recall-binary.csv\">feature-importances-tbl</div><div title=\"/User/artifacts/models\">model</div></td>\n",
       "    </tr>\n",
       "  </tbody>\n",
       "</table>\n",
       "</div></div>\n",
       "  <div id=\"result6555651a-pane\" class=\"right-pane block hidden\">\n",
       "    <div class=\"pane-header\">\n",
       "      <span id=\"result6555651a-title\" class=\"pane-header-title\">Title</span>\n",
       "      <span onclick=\"closePanel(this)\" paneName=\"result6555651a\" class=\"close clickable\">&times;</span>\n",
       "    </div>\n",
       "    <iframe class=\"fileview\" id=\"result6555651a-body\"></iframe>\n",
       "  </div>\n",
       "</div>\n"
      ],
      "text/plain": [
       "<IPython.core.display.HTML object>"
      ]
     },
     "metadata": {},
     "output_type": "display_data"
    },
    {
     "name": "stdout",
     "output_type": "stream",
     "text": [
      "to track results use .show() or .logs() or in CLI: \n",
      "!mlrun get run 4462f5b5bc39405da78d9ae73558a2e9  , !mlrun logs 4462f5b5bc39405da78d9ae73558a2e9 \n",
      "[mlrun] 2020-05-13 20:34:41,602 run executed, status=completed\n"
     ]
    }
   ],
   "source": [
    "task =  NewTask(**task_params)\n",
    "\n",
    "run = fn.run(\n",
    "    task,\n",
    "    inputs={\"dataset\"  : os.path.join(mlconf.artifact_path,\"breast_cancer.parquet\")},\n",
    "    artifact_path=mlconf.artifact_path)"
   ]
  },
  {
   "cell_type": "code",
   "execution_count": null,
   "metadata": {},
   "outputs": [],
   "source": []
  }
 ],
 "metadata": {
  "kernelspec": {
   "display_name": "Python 3",
   "language": "python",
   "name": "python3"
  },
  "language_info": {
   "codemirror_mode": {
    "name": "ipython",
    "version": 3
   },
   "file_extension": ".py",
   "mimetype": "text/x-python",
   "name": "python",
   "nbconvert_exporter": "python",
   "pygments_lexer": "ipython3",
   "version": "3.6.8"
  }
 },
 "nbformat": 4,
 "nbformat_minor": 4
}
