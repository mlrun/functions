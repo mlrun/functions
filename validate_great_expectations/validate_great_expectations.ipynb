{
 "cells": [
  {
   "cell_type": "code",
   "execution_count": 1,
   "id": "07e810dc",
   "metadata": {},
   "outputs": [],
   "source": [
    "import mlrun\n",
    "import pandas as pd\n",
    "from great_expectations.core.batch import RuntimeBatchRequest\n",
    "from great_expectations.data_context import BaseDataContext\n",
    "from great_expectations.data_context.types.base import (\n",
    "    DataContextConfig,\n",
    "    FilesystemStoreBackendDefaults,\n",
    ")"
   ]
  },
  {
   "cell_type": "code",
   "execution_count": 2,
   "id": "f57b4a0e",
   "metadata": {},
   "outputs": [
    {
     "name": "stdout",
     "output_type": "stream",
     "text": [
      "> 2023-03-03 22:08:23,289 [info] loaded project great-expectations from MLRun DB\n"
     ]
    }
   ],
   "source": [
    "project = mlrun.get_or_create_project(\"great-expectations\", context=\"./\")"
   ]
  },
  {
   "cell_type": "markdown",
   "id": "6f721976",
   "metadata": {},
   "source": [
    "### Config"
   ]
  },
  {
   "cell_type": "code",
   "execution_count": 3,
   "id": "63852ffe",
   "metadata": {},
   "outputs": [],
   "source": [
    "data_asset_name = \"iris_dataset\"\n",
    "data_path = \"https://s3.wasabisys.com/iguazio/data/iris/iris.data.raw.csv\"\n",
    "expectation_suite_name = \"test_suite\"\n",
    "root_directory = f\"/v3io/projects/{project.name}/great_expectations\""
   ]
  },
  {
   "cell_type": "markdown",
   "id": "b4a3da34",
   "metadata": {},
   "source": [
    "### Intialize Great Expectations Context"
   ]
  },
  {
   "cell_type": "code",
   "execution_count": 4,
   "id": "fb9c3956",
   "metadata": {},
   "outputs": [],
   "source": [
    "ge_context = BaseDataContext(\n",
    "    project_config=DataContextConfig(\n",
    "        store_backend_defaults=FilesystemStoreBackendDefaults(\n",
    "            root_directory=root_directory\n",
    "        )\n",
    "    )\n",
    ")"
   ]
  },
  {
   "cell_type": "markdown",
   "id": "42f80798",
   "metadata": {},
   "source": [
    "### Add Pandas Datasource"
   ]
  },
  {
   "cell_type": "code",
   "execution_count": 5,
   "id": "dc3a01f3",
   "metadata": {},
   "outputs": [],
   "source": [
    "datasource_name = \"pandas_datasource\"\n",
    "data_connector_name = \"default_runtime_data_connector_name\""
   ]
  },
  {
   "cell_type": "code",
   "execution_count": 6,
   "id": "b893a260",
   "metadata": {},
   "outputs": [],
   "source": [
    "datasource_config = {\n",
    "    \"name\": f\"{datasource_name}\",\n",
    "    \"class_name\": \"Datasource\",\n",
    "    \"module_name\": \"great_expectations.datasource\",\n",
    "    \"execution_engine\": {\n",
    "        \"module_name\": \"great_expectations.execution_engine\",\n",
    "        \"class_name\": \"PandasExecutionEngine\",\n",
    "    },\n",
    "    \"data_connectors\": {\n",
    "        f\"{data_connector_name}\": {\n",
    "            \"class_name\": \"RuntimeDataConnector\",\n",
    "            \"module_name\": \"great_expectations.datasource.data_connector\",\n",
    "            \"batch_identifiers\": [\"default_identifier_name\"],\n",
    "        },\n",
    "    },\n",
    "}"
   ]
  },
  {
   "cell_type": "code",
   "execution_count": 7,
   "id": "0358a4ac",
   "metadata": {},
   "outputs": [
    {
     "data": {
      "text/plain": [
       "<great_expectations.datasource.new_datasource.Datasource at 0x7f3deadfa850>"
      ]
     },
     "execution_count": 7,
     "metadata": {},
     "output_type": "execute_result"
    }
   ],
   "source": [
    "ge_context.add_datasource(**datasource_config)"
   ]
  },
  {
   "cell_type": "markdown",
   "id": "8c8406cf",
   "metadata": {},
   "source": [
    "### Create Expectation Suite"
   ]
  },
  {
   "cell_type": "code",
   "execution_count": 8,
   "id": "f68fb7e9",
   "metadata": {},
   "outputs": [
    {
     "data": {
      "text/plain": [
       "{\n",
       "  \"data_asset_type\": null,\n",
       "  \"meta\": {\n",
       "    \"great_expectations_version\": \"0.15.41\"\n",
       "  },\n",
       "  \"ge_cloud_id\": null,\n",
       "  \"expectations\": [],\n",
       "  \"expectation_suite_name\": \"test_suite\"\n",
       "}"
      ]
     },
     "execution_count": 8,
     "metadata": {},
     "output_type": "execute_result"
    }
   ],
   "source": [
    "ge_context.create_expectation_suite(\n",
    "    expectation_suite_name=expectation_suite_name, overwrite_existing=True\n",
    ")"
   ]
  },
  {
   "cell_type": "markdown",
   "id": "c805fb0b",
   "metadata": {},
   "source": [
    "### Get Data Batch"
   ]
  },
  {
   "cell_type": "code",
   "execution_count": 9,
   "id": "a2a7c0ed",
   "metadata": {},
   "outputs": [],
   "source": [
    "df = pd.read_csv(data_path)"
   ]
  },
  {
   "cell_type": "code",
   "execution_count": 10,
   "id": "9838eb91",
   "metadata": {},
   "outputs": [],
   "source": [
    "batch_request = RuntimeBatchRequest(\n",
    "    datasource_name=datasource_name,\n",
    "    data_connector_name=data_connector_name,\n",
    "    data_asset_name=data_asset_name,\n",
    "    runtime_parameters={\"batch_data\": df},\n",
    "    batch_identifiers={\"default_identifier_name\": \"default_identifier\"},\n",
    ")"
   ]
  },
  {
   "cell_type": "markdown",
   "id": "b65f9642",
   "metadata": {},
   "source": [
    "### Get Validator"
   ]
  },
  {
   "cell_type": "code",
   "execution_count": 11,
   "id": "8f8a1b3a",
   "metadata": {},
   "outputs": [],
   "source": [
    "validator = ge_context.get_validator(\n",
    "    batch_request=batch_request,\n",
    "    expectation_suite_name=expectation_suite_name,\n",
    ")"
   ]
  },
  {
   "cell_type": "markdown",
   "id": "a5e9f68c",
   "metadata": {},
   "source": [
    "### Add Expectations"
   ]
  },
  {
   "cell_type": "code",
   "execution_count": 12,
   "id": "7c3b44aa",
   "metadata": {},
   "outputs": [
    {
     "data": {
      "application/vnd.jupyter.widget-view+json": {
       "model_id": "789561a733774d34a821d4a57e18e9b9",
       "version_major": 2,
       "version_minor": 0
      },
      "text/plain": [
       "Calculating Metrics:   0%|          | 0/6 [00:00<?, ?it/s]"
      ]
     },
     "metadata": {},
     "output_type": "display_data"
    },
    {
     "data": {
      "application/vnd.jupyter.widget-view+json": {
       "model_id": "781a7c34736b442fa670494b7c067573",
       "version_major": 2,
       "version_minor": 0
      },
      "text/plain": [
       "Calculating Metrics:   0%|          | 0/6 [00:00<?, ?it/s]"
      ]
     },
     "metadata": {},
     "output_type": "display_data"
    },
    {
     "data": {
      "application/vnd.jupyter.widget-view+json": {
       "model_id": "cc79256caf20462c996c8304f0cec840",
       "version_major": 2,
       "version_minor": 0
      },
      "text/plain": [
       "Calculating Metrics:   0%|          | 0/8 [00:00<?, ?it/s]"
      ]
     },
     "metadata": {},
     "output_type": "display_data"
    },
    {
     "data": {
      "application/vnd.jupyter.widget-view+json": {
       "model_id": "a9b9aff8f3334804a2f0863a95c4611f",
       "version_major": 2,
       "version_minor": 0
      },
      "text/plain": [
       "Calculating Metrics:   0%|          | 0/8 [00:00<?, ?it/s]"
      ]
     },
     "metadata": {},
     "output_type": "display_data"
    },
    {
     "data": {
      "text/plain": [
       "{\n",
       "  \"exception_info\": {\n",
       "    \"raised_exception\": false,\n",
       "    \"exception_traceback\": null,\n",
       "    \"exception_message\": null\n",
       "  },\n",
       "  \"success\": true,\n",
       "  \"result\": {\n",
       "    \"element_count\": 150,\n",
       "    \"unexpected_count\": 0,\n",
       "    \"unexpected_percent\": 0.0,\n",
       "    \"partial_unexpected_list\": [],\n",
       "    \"missing_count\": 0,\n",
       "    \"missing_percent\": 0.0,\n",
       "    \"unexpected_percent_total\": 0.0,\n",
       "    \"unexpected_percent_nonmissing\": 0.0\n",
       "  },\n",
       "  \"meta\": {}\n",
       "}"
      ]
     },
     "execution_count": 12,
     "metadata": {},
     "output_type": "execute_result"
    }
   ],
   "source": [
    "validator.expect_column_values_to_not_be_null(column=\"sepal length (cm)\")\n",
    "validator.expect_column_values_to_not_be_null(column=\"sepal width (cm)\")\n",
    "validator.expect_column_values_to_be_between(\n",
    "    column=\"sepal length (cm)\", min_value=0, max_value=5\n",
    ")\n",
    "validator.expect_column_values_to_be_between(\n",
    "    column=\"sepal width (cm)\", min_value=2, max_value=4.4\n",
    ")"
   ]
  },
  {
   "cell_type": "markdown",
   "id": "7027953e",
   "metadata": {},
   "source": [
    "### Save Expectation Suite"
   ]
  },
  {
   "cell_type": "code",
   "execution_count": 13,
   "id": "020d5f44",
   "metadata": {},
   "outputs": [],
   "source": [
    "validator.save_expectation_suite(discard_failed_expectations=False)"
   ]
  },
  {
   "cell_type": "markdown",
   "id": "86a2960a",
   "metadata": {},
   "source": [
    "### Create and Build Validation Function"
   ]
  },
  {
   "cell_type": "code",
   "execution_count": 14,
   "id": "32040864",
   "metadata": {},
   "outputs": [],
   "source": [
    "fn = project.set_function(\n",
    "    name=\"validate_expectations\",\n",
    "    func=\"validate_great_expectations.py\",\n",
    "    kind=\"job\",\n",
    "    handler=\"validate_expectations\",\n",
    "    requirements=\"requirements.txt\",\n",
    "    image=\"mlrun/mlrun\",\n",
    "    #image=\".mlrun/func-great-expectations-validate-expectations:latest\"\n",
    ").apply(mlrun.auto_mount())"
   ]
  },
  {
   "cell_type": "code",
   "execution_count": 15,
   "id": "4a9b2dab",
   "metadata": {},
   "outputs": [
    {
     "name": "stdout",
     "output_type": "stream",
     "text": [
      "> 2023-03-03 22:09:01,338 [info] function spec saved to path: function.yaml\n"
     ]
    },
    {
     "data": {
      "text/plain": [
       "<mlrun.runtimes.kubejob.KubejobRuntime at 0x7f3deada3350>"
      ]
     },
     "execution_count": 15,
     "metadata": {},
     "output_type": "execute_result"
    }
   ],
   "source": [
    "fn.export()"
   ]
  },
  {
   "cell_type": "code",
   "execution_count": 16,
   "id": "a54cac0e",
   "metadata": {},
   "outputs": [
    {
     "name": "stdout",
     "output_type": "stream",
     "text": [
      "> 2023-03-03 22:09:13,830 [info] Started building image: .mlrun/func-great-expectations-validate-expectations:latest\n",
      "\u001b[36mINFO\u001b[0m[0000] Retrieving image manifest mlrun/mlrun:1.1.0  \n",
      "\u001b[36mINFO\u001b[0m[0000] Retrieving image mlrun/mlrun:1.1.0 from registry index.docker.io \n",
      "\u001b[36mINFO\u001b[0m[0000] Built cross stage deps: map[]                \n",
      "\u001b[36mINFO\u001b[0m[0000] Retrieving image manifest mlrun/mlrun:1.1.0  \n",
      "\u001b[36mINFO\u001b[0m[0000] Returning cached image manifest              \n",
      "\u001b[36mINFO\u001b[0m[0000] Executing 0 build triggers                   \n",
      "\u001b[36mINFO\u001b[0m[0000] Unpacking rootfs as cmd RUN python -m pip install great-expectations==0.15.41 requires it. \n",
      "\u001b[36mINFO\u001b[0m[0021] RUN python -m pip install great-expectations==0.15.41 \n",
      "\u001b[36mINFO\u001b[0m[0021] Taking snapshot of full filesystem...        \n",
      "\u001b[36mINFO\u001b[0m[0033] cmd: /bin/sh                                 \n",
      "\u001b[36mINFO\u001b[0m[0033] args: [-c python -m pip install great-expectations==0.15.41] \n",
      "\u001b[36mINFO\u001b[0m[0033] Running: [/bin/sh -c python -m pip install great-expectations==0.15.41] \n",
      "Collecting great-expectations==0.15.41\n",
      "  Downloading great_expectations-0.15.41-py3-none-any.whl (5.2 MB)\n",
      "     ━━━━━━━━━━━━━━━━━━━━━━━━━━━━━━━━━━━━━━━━ 5.2/5.2 MB 122.0 MB/s eta 0:00:00\n",
      "Requirement already satisfied: pyparsing>=2.4 in /usr/local/lib/python3.7/site-packages (from great-expectations==0.15.41) (3.0.9)\n",
      "Collecting ipywidgets>=7.5.1\n",
      "  Downloading ipywidgets-8.0.4-py3-none-any.whl (137 kB)\n",
      "     ━━━━━━━━━━━━━━━━━━━━━━━━━━━━━━━━━━━━━ 137.8/137.8 KB 249.8 MB/s eta 0:00:00\n",
      "Requirement already satisfied: notebook>=6.4.10 in /usr/local/lib/python3.7/site-packages (from great-expectations==0.15.41) (6.4.12)\n",
      "Requirement already satisfied: mistune>=0.8.4 in /usr/local/lib/python3.7/site-packages (from great-expectations==0.15.41) (2.0.4)\n",
      "Collecting tqdm>=4.59.0\n",
      "  Downloading tqdm-4.65.0-py3-none-any.whl (77 kB)\n",
      "     ━━━━━━━━━━━━━━━━━━━━━━━━━━━━━━━━━━━━━━━ 77.1/77.1 KB 230.4 MB/s eta 0:00:00\n",
      "Requirement already satisfied: urllib3<1.27,>=1.25.4 in /usr/local/lib/python3.7/site-packages (from great-expectations==0.15.41) (1.26.12)\n",
      "Requirement already satisfied: jinja2>=2.10 in /usr/local/lib/python3.7/site-packages (from great-expectations==0.15.41) (3.0.3)\n",
      "Requirement already satisfied: scipy>=0.19.0 in /usr/local/lib/python3.7/site-packages (from great-expectations==0.15.41) (1.7.3)\n",
      "Collecting tzlocal>=1.2\n",
      "  Downloading tzlocal-4.2-py3-none-any.whl (19 kB)\n",
      "Requirement already satisfied: typing-extensions>=3.10.0.0 in /usr/local/lib/python3.7/site-packages (from great-expectations==0.15.41) (4.3.0)\n",
      "Requirement already satisfied: requests>=2.20 in /usr/local/lib/python3.7/site-packages (from great-expectations==0.15.41) (2.28.1)\n",
      "Requirement already satisfied: importlib-metadata>=1.7.0 in /usr/local/lib/python3.7/site-packages (from great-expectations==0.15.41) (4.12.0)\n",
      "Requirement already satisfied: nbformat>=5.0 in /usr/local/lib/python3.7/site-packages (from great-expectations==0.15.41) (5.4.0)\n",
      "Collecting altair<5,>=4.0.0\n",
      "  Downloading altair-4.2.2-py3-none-any.whl (813 kB)\n",
      "     ━━━━━━━━━━━━━━━━━━━━━━━━━━━━━━━━━━━━━ 813.6/813.6 KB 278.3 MB/s eta 0:00:00\n",
      "Requirement already satisfied: numpy>=1.18.5 in /usr/local/lib/python3.7/site-packages (from great-expectations==0.15.41) (1.21.6)\n",
      "Requirement already satisfied: pydantic<2.0,>=1.0 in /usr/local/lib/python3.7/site-packages (from great-expectations==0.15.41) (1.10.1)\n",
      "Collecting jsonpatch>=1.22\n",
      "  Downloading jsonpatch-1.32-py2.py3-none-any.whl (12 kB)\n",
      "Requirement already satisfied: cryptography>=3.2 in /usr/local/lib/python3.7/site-packages (from great-expectations==0.15.41) (3.3.2)\n",
      "Requirement already satisfied: jsonschema>=2.5.1 in /usr/local/lib/python3.7/site-packages (from great-expectations==0.15.41) (3.2.0)\n",
      "Requirement already satisfied: pytz>=2021.3 in /usr/local/lib/python3.7/site-packages (from great-expectations==0.15.41) (2022.2.1)\n",
      "Collecting ruamel.yaml<0.17.18,>=0.16\n",
      "  Downloading ruamel.yaml-0.17.17-py3-none-any.whl (109 kB)\n",
      "     ━━━━━━━━━━━━━━━━━━━━━━━━━━━━━━━━━━━━━ 109.1/109.1 KB 247.4 MB/s eta 0:00:00\n",
      "Requirement already satisfied: Ipython>=7.16.3 in /usr/local/lib/python3.7/site-packages (from great-expectations==0.15.41) (7.34.0)\n",
      "Collecting marshmallow<4.0.0,>=3.7.1\n",
      "  Downloading marshmallow-3.19.0-py3-none-any.whl (49 kB)\n",
      "     ━━━━━━━━━━━━━━━━━━━━━━━━━━━━━━━━━━━━━━━ 49.1/49.1 KB 216.6 MB/s eta 0:00:00\n",
      "Requirement already satisfied: Click>=7.1.2 in /usr/local/lib/python3.7/site-packages (from great-expectations==0.15.41) (8.0.4)\n",
      "Collecting makefun<2,>=1.7.0\n",
      "  Downloading makefun-1.15.1-py2.py3-none-any.whl (22 kB)\n",
      "Requirement already satisfied: python-dateutil>=2.8.1 in /usr/local/lib/python3.7/site-packages (from great-expectations==0.15.41) (2.8.2)\n",
      "Collecting colorama>=0.4.3\n",
      "  Downloading colorama-0.4.6-py2.py3-none-any.whl (25 kB)\n",
      "Requirement already satisfied: pandas>=1.1.0 in /usr/local/lib/python3.7/site-packages (from great-expectations==0.15.41) (1.3.5)\n",
      "Requirement already satisfied: packaging in /usr/local/lib/python3.7/site-packages (from great-expectations==0.15.41) (21.3)\n",
      "Requirement already satisfied: toolz in /usr/local/lib/python3.7/site-packages (from altair<5,>=4.0.0->great-expectations==0.15.41) (0.12.0)\n",
      "Requirement already satisfied: entrypoints in /usr/local/lib/python3.7/site-packages (from altair<5,>=4.0.0->great-expectations==0.15.41) (0.4)\n",
      "Requirement already satisfied: six>=1.4.1 in /usr/local/lib/python3.7/site-packages (from cryptography>=3.2->great-expectations==0.15.41) (1.16.0)\n",
      "Requirement already satisfied: cffi>=1.12 in /usr/local/lib/python3.7/site-packages (from cryptography>=3.2->great-expectations==0.15.41) (1.15.1)\n",
      "Requirement already satisfied: zipp>=0.5 in /usr/local/lib/python3.7/site-packages (from importlib-metadata>=1.7.0->great-expectations==0.15.41) (3.8.1)\n",
      "Requirement already satisfied: prompt-toolkit!=3.0.0,!=3.0.1,<3.1.0,>=2.0.0 in /usr/local/lib/python3.7/site-packages (from Ipython>=7.16.3->great-expectations==0.15.41) (3.0.31)\n",
      "Requirement already satisfied: backcall in /usr/local/lib/python3.7/site-packages (from Ipython>=7.16.3->great-expectations==0.15.41) (0.2.0)\n",
      "Requirement already satisfied: matplotlib-inline in /usr/local/lib/python3.7/site-packages (from Ipython>=7.16.3->great-expectations==0.15.41) (0.1.6)\n",
      "Requirement already satisfied: pexpect>4.3 in /usr/local/lib/python3.7/site-packages (from Ipython>=7.16.3->great-expectations==0.15.41) (4.8.0)\n",
      "Requirement already satisfied: setuptools>=18.5 in /usr/local/lib/python3.7/site-packages (from Ipython>=7.16.3->great-expectations==0.15.41) (57.5.0)\n",
      "Requirement already satisfied: decorator in /usr/local/lib/python3.7/site-packages (from Ipython>=7.16.3->great-expectations==0.15.41) (5.1.1)\n",
      "Requirement already satisfied: jedi>=0.16 in /usr/local/lib/python3.7/site-packages (from Ipython>=7.16.3->great-expectations==0.15.41) (0.18.1)\n",
      "Requirement already satisfied: pygments in /usr/local/lib/python3.7/site-packages (from Ipython>=7.16.3->great-expectations==0.15.41) (2.13.0)\n",
      "Requirement already satisfied: traitlets>=4.2 in /usr/local/lib/python3.7/site-packages (from Ipython>=7.16.3->great-expectations==0.15.41) (5.3.0)\n",
      "Requirement already satisfied: pickleshare in /usr/local/lib/python3.7/site-packages (from Ipython>=7.16.3->great-expectations==0.15.41) (0.7.5)\n",
      "Requirement already satisfied: ipykernel>=4.5.1 in /usr/local/lib/python3.7/site-packages (from ipywidgets>=7.5.1->great-expectations==0.15.41) (6.15.2)\n",
      "Collecting jupyterlab-widgets~=3.0\n",
      "  Downloading jupyterlab_widgets-3.0.5-py3-none-any.whl (384 kB)\n",
      "     ━━━━━━━━━━━━━━━━━━━━━━━━━━━━━━━━━━━━━ 384.3/384.3 KB 282.6 MB/s eta 0:00:00\n",
      "Collecting widgetsnbextension~=4.0\n",
      "  Downloading widgetsnbextension-4.0.5-py3-none-any.whl (2.0 MB)\n",
      "     ━━━━━━━━━━━━━━━━━━━━━━━━━━━━━━━━━━━━━━━━ 2.0/2.0 MB 264.7 MB/s eta 0:00:00\n",
      "Requirement already satisfied: MarkupSafe>=2.0 in /usr/local/lib/python3.7/site-packages (from jinja2>=2.10->great-expectations==0.15.41) (2.1.1)\n",
      "Collecting jsonpointer>=1.9\n",
      "  Downloading jsonpointer-2.3-py2.py3-none-any.whl (7.8 kB)\n",
      "Requirement already satisfied: pyrsistent>=0.14.0 in /usr/local/lib/python3.7/site-packages (from jsonschema>=2.5.1->great-expectations==0.15.41) (0.18.1)\n",
      "Requirement already satisfied: attrs>=17.4.0 in /usr/local/lib/python3.7/site-packages (from jsonschema>=2.5.1->great-expectations==0.15.41) (22.1.0)\n",
      "Requirement already satisfied: jupyter-core in /usr/local/lib/python3.7/site-packages (from nbformat>=5.0->great-expectations==0.15.41) (4.11.1)\n",
      "Requirement already satisfied: fastjsonschema in /usr/local/lib/python3.7/site-packages (from nbformat>=5.0->great-expectations==0.15.41) (2.16.1)\n",
      "Requirement already satisfied: ipython-genutils in /usr/local/lib/python3.7/site-packages (from notebook>=6.4.10->great-expectations==0.15.41) (0.2.0)\n",
      "Requirement already satisfied: nbconvert>=5 in /usr/local/lib/python3.7/site-packages (from notebook>=6.4.10->great-expectations==0.15.41) (7.0.0)\n",
      "Requirement already satisfied: Send2Trash>=1.8.0 in /usr/local/lib/python3.7/site-packages (from notebook>=6.4.10->great-expectations==0.15.41) (1.8.0)\n",
      "Requirement already satisfied: prometheus-client in /usr/local/lib/python3.7/site-packages (from notebook>=6.4.10->great-expectations==0.15.41) (0.14.1)\n",
      "Requirement already satisfied: tornado>=6.1 in /usr/local/lib/python3.7/site-packages (from notebook>=6.4.10->great-expectations==0.15.41) (6.2)\n",
      "Requirement already satisfied: nest-asyncio>=1.5 in /usr/local/lib/python3.7/site-packages (from notebook>=6.4.10->great-expectations==0.15.41) (1.5.5)\n",
      "Requirement already satisfied: pyzmq>=17 in /usr/local/lib/python3.7/site-packages (from notebook>=6.4.10->great-expectations==0.15.41) (23.2.1)\n",
      "Requirement already satisfied: jupyter-client>=5.3.4 in /usr/local/lib/python3.7/site-packages (from notebook>=6.4.10->great-expectations==0.15.41) (7.3.5)\n",
      "Requirement already satisfied: terminado>=0.8.3 in /usr/local/lib/python3.7/site-packages (from notebook>=6.4.10->great-expectations==0.15.41) (0.15.0)\n",
      "Requirement already satisfied: argon2-cffi in /usr/local/lib/python3.7/site-packages (from notebook>=6.4.10->great-expectations==0.15.41) (21.3.0)\n",
      "Requirement already satisfied: idna<4,>=2.5 in /usr/local/lib/python3.7/site-packages (from requests>=2.20->great-expectations==0.15.41) (3.3)\n",
      "Requirement already satisfied: certifi>=2017.4.17 in /usr/local/lib/python3.7/site-packages (from requests>=2.20->great-expectations==0.15.41) (2022.6.15)\n",
      "Requirement already satisfied: charset-normalizer<3,>=2 in /usr/local/lib/python3.7/site-packages (from requests>=2.20->great-expectations==0.15.41) (2.1.1)\n",
      "Collecting ruamel.yaml.clib>=0.1.2\n",
      "  Downloading ruamel.yaml.clib-0.2.7-cp37-cp37m-manylinux_2_17_x86_64.manylinux2014_x86_64.manylinux_2_24_x86_64.whl (500 kB)\n",
      "     ━━━━━━━━━━━━━━━━━━━━━━━━━━━━━━━━━━━━━ 500.1/500.1 KB 251.9 MB/s eta 0:00:00\n",
      "Collecting pytz-deprecation-shim\n",
      "  Downloading pytz_deprecation_shim-0.1.0.post0-py2.py3-none-any.whl (15 kB)\n",
      "Collecting backports.zoneinfo\n",
      "  Downloading backports.zoneinfo-0.2.1-cp37-cp37m-manylinux1_x86_64.whl (70 kB)\n",
      "     ━━━━━━━━━━━━━━━━━━━━━━━━━━━━━━━━━━━━━━━ 70.7/70.7 KB 212.6 MB/s eta 0:00:00\n",
      "Requirement already satisfied: pycparser in /usr/local/lib/python3.7/site-packages (from cffi>=1.12->cryptography>=3.2->great-expectations==0.15.41) (2.21)\n",
      "Requirement already satisfied: psutil in /usr/local/lib/python3.7/site-packages (from ipykernel>=4.5.1->ipywidgets>=7.5.1->great-expectations==0.15.41) (5.9.2)\n",
      "Requirement already satisfied: debugpy>=1.0 in /usr/local/lib/python3.7/site-packages (from ipykernel>=4.5.1->ipywidgets>=7.5.1->great-expectations==0.15.41) (1.6.3)\n",
      "Requirement already satisfied: parso<0.9.0,>=0.8.0 in /usr/local/lib/python3.7/site-packages (from jedi>=0.16->Ipython>=7.16.3->great-expectations==0.15.41) (0.8.3)\n",
      "Requirement already satisfied: nbclient>=0.5.0 in /usr/local/lib/python3.7/site-packages (from nbconvert>=5->notebook>=6.4.10->great-expectations==0.15.41) (0.6.7)\n",
      "Requirement already satisfied: beautifulsoup4 in /usr/local/lib/python3.7/site-packages (from nbconvert>=5->notebook>=6.4.10->great-expectations==0.15.41) (4.11.1)\n",
      "Requirement already satisfied: pandocfilters>=1.4.1 in /usr/local/lib/python3.7/site-packages (from nbconvert>=5->notebook>=6.4.10->great-expectations==0.15.41) (1.5.0)\n",
      "Requirement already satisfied: tinycss2 in /usr/local/lib/python3.7/site-packages (from nbconvert>=5->notebook>=6.4.10->great-expectations==0.15.41) (1.1.1)\n",
      "Requirement already satisfied: jupyterlab-pygments in /usr/local/lib/python3.7/site-packages (from nbconvert>=5->notebook>=6.4.10->great-expectations==0.15.41) (0.2.2)\n",
      "Requirement already satisfied: defusedxml in /usr/local/lib/python3.7/site-packages (from nbconvert>=5->notebook>=6.4.10->great-expectations==0.15.41) (0.7.1)\n",
      "Requirement already satisfied: bleach in /usr/local/lib/python3.7/site-packages (from nbconvert>=5->notebook>=6.4.10->great-expectations==0.15.41) (5.0.1)\n",
      "Requirement already satisfied: lxml in /usr/local/lib/python3.7/site-packages (from nbconvert>=5->notebook>=6.4.10->great-expectations==0.15.41) (4.9.1)\n",
      "Requirement already satisfied: ptyprocess>=0.5 in /usr/local/lib/python3.7/site-packages (from pexpect>4.3->Ipython>=7.16.3->great-expectations==0.15.41) (0.7.0)\n",
      "Requirement already satisfied: wcwidth in /usr/local/lib/python3.7/site-packages (from prompt-toolkit!=3.0.0,!=3.0.1,<3.1.0,>=2.0.0->Ipython>=7.16.3->great-expectations==0.15.41) (0.2.5)\n",
      "Requirement already satisfied: argon2-cffi-bindings in /usr/local/lib/python3.7/site-packages (from argon2-cffi->notebook>=6.4.10->great-expectations==0.15.41) (21.2.0)\n",
      "Collecting tzdata\n",
      "  Downloading tzdata-2022.7-py2.py3-none-any.whl (340 kB)\n",
      "     ━━━━━━━━━━━━━━━━━━━━━━━━━━━━━━━━━━━━━ 340.1/340.1 KB 258.0 MB/s eta 0:00:00\n",
      "Requirement already satisfied: soupsieve>1.2 in /usr/local/lib/python3.7/site-packages (from beautifulsoup4->nbconvert>=5->notebook>=6.4.10->great-expectations==0.15.41) (2.3.2.post1)\n",
      "Requirement already satisfied: webencodings in /usr/local/lib/python3.7/site-packages (from bleach->nbconvert>=5->notebook>=6.4.10->great-expectations==0.15.41) (0.5.1)\n",
      "Installing collected packages: makefun, widgetsnbextension, tzdata, tqdm, ruamel.yaml.clib, jupyterlab-widgets, jsonpointer, colorama, backports.zoneinfo, ruamel.yaml, pytz-deprecation-shim, marshmallow, jsonpatch, tzlocal, altair, ipywidgets, great-expectations\n",
      "Successfully installed altair-4.2.2 backports.zoneinfo-0.2.1 colorama-0.4.6 great-expectations-0.15.41 ipywidgets-8.0.4 jsonpatch-1.32 jsonpointer-2.3 jupyterlab-widgets-3.0.5 makefun-1.15.1 marshmallow-3.19.0 pytz-deprecation-shim-0.1.0.post0 ruamel.yaml-0.17.17 ruamel.yaml.clib-0.2.7 tqdm-4.65.0 tzdata-2022.7 tzlocal-4.2 widgetsnbextension-4.0.5\n",
      "WARNING: Running pip as the 'root' user can result in broken permissions and conflicting behaviour with the system package manager. It is recommended to use a virtual environment instead: https://pip.pypa.io/warnings/venv\n",
      "WARNING: You are using pip version 22.0.4; however, version 23.0.1 is available.\n",
      "You should consider upgrading via the '/usr/local/bin/python -m pip install --upgrade pip' command.\n",
      "\u001b[36mINFO\u001b[0m[0039] Taking snapshot of full filesystem...        \n",
      "\u001b[36mINFO\u001b[0m[0042] Pushing image to docker-registry.default-tenant.app.us-sales-350.iguazio-cd1.com:80/mlrun/func-great-expectations-validate-expectations:latest \n",
      "\u001b[36mINFO\u001b[0m[0042] Pushed docker-registry.default-tenant.app.us-sales-350.iguazio-cd1.com:80/mlrun/func-great-expectations-validate-expectations@sha256:1e3b2615cc8f2dc39062037c0a27299e15d12d3011d50a9e8214ec34b84c21a2 \n",
      "\n"
     ]
    },
    {
     "data": {
      "text/plain": [
       "BuildStatus(ready=True, outputs={'image': '.mlrun/func-great-expectations-validate-expectations:latest'})"
      ]
     },
     "execution_count": 16,
     "metadata": {},
     "output_type": "execute_result"
    }
   ],
   "source": [
    "project.build_function(fn)"
   ]
  },
  {
   "cell_type": "markdown",
   "id": "df71ef7c",
   "metadata": {},
   "source": [
    "### Run Validation"
   ]
  },
  {
   "cell_type": "code",
   "execution_count": 17,
   "id": "857021cf",
   "metadata": {},
   "outputs": [
    {
     "name": "stdout",
     "output_type": "stream",
     "text": [
      "> 2023-03-03 22:10:40,839 [info] starting run validate-expectations-validate_expectations uid=436372d741034d678145c63fecfe4450 DB=http://mlrun-api:8080\n",
      "> 2023-03-03 22:10:41,124 [info] Job is running in the background, pod: validate-expectations-validate-expectations-tx9xb\n",
      "> 2023-03-03 22:10:55,088 [info] run executed, status=completed\n",
      "Calculating Metrics: 100%|██████████| 19/19 [00:00<00:00, 323.87it/s]\n",
      "final state: completed\n"
     ]
    },
    {
     "data": {
      "text/html": [
       "<style>\n",
       ".dictlist {\n",
       "  background-color: #4EC64B;\n",
       "  text-align: center;\n",
       "  margin: 4px;\n",
       "  border-radius: 3px; padding: 0px 3px 1px 3px; display: inline-block;}\n",
       ".artifact {\n",
       "  cursor: pointer;\n",
       "  background-color: #4EC64B;\n",
       "  text-align: left;\n",
       "  margin: 4px; border-radius: 3px; padding: 0px 3px 1px 3px; display: inline-block;\n",
       "}\n",
       "div.block.hidden {\n",
       "  display: none;\n",
       "}\n",
       ".clickable {\n",
       "  cursor: pointer;\n",
       "}\n",
       ".ellipsis {\n",
       "  display: inline-block;\n",
       "  max-width: 60px;\n",
       "  white-space: nowrap;\n",
       "  overflow: hidden;\n",
       "  text-overflow: ellipsis;\n",
       "}\n",
       ".master-wrapper {\n",
       "  display: flex;\n",
       "  flex-flow: row nowrap;\n",
       "  justify-content: flex-start;\n",
       "  align-items: stretch;\n",
       "}\n",
       ".master-tbl {\n",
       "  flex: 3\n",
       "}\n",
       ".master-wrapper > div {\n",
       "  margin: 4px;\n",
       "  padding: 10px;\n",
       "}\n",
       "iframe.fileview {\n",
       "  border: 0 none;\n",
       "  height: 100%;\n",
       "  width: 100%;\n",
       "  white-space: pre-wrap;\n",
       "}\n",
       ".pane-header-title {\n",
       "  width: 80%;\n",
       "  font-weight: 500;\n",
       "}\n",
       ".pane-header {\n",
       "  line-height: 1;\n",
       "  background-color: #4EC64B;\n",
       "  padding: 3px;\n",
       "}\n",
       ".pane-header .close {\n",
       "  font-size: 20px;\n",
       "  font-weight: 700;\n",
       "  float: right;\n",
       "  margin-top: -5px;\n",
       "}\n",
       ".master-wrapper .right-pane {\n",
       "  border: 1px inset silver;\n",
       "  width: 40%;\n",
       "  min-height: 300px;\n",
       "  flex: 3\n",
       "  min-width: 500px;\n",
       "}\n",
       ".master-wrapper * {\n",
       "  box-sizing: border-box;\n",
       "}\n",
       "</style><script>\n",
       "function copyToClipboard(fld) {\n",
       "    if (document.queryCommandSupported && document.queryCommandSupported('copy')) {\n",
       "        var textarea = document.createElement('textarea');\n",
       "        textarea.textContent = fld.innerHTML;\n",
       "        textarea.style.position = 'fixed';\n",
       "        document.body.appendChild(textarea);\n",
       "        textarea.select();\n",
       "\n",
       "        try {\n",
       "            return document.execCommand('copy'); // Security exception may be thrown by some browsers.\n",
       "        } catch (ex) {\n",
       "\n",
       "        } finally {\n",
       "            document.body.removeChild(textarea);\n",
       "        }\n",
       "    }\n",
       "}\n",
       "function expandPanel(el) {\n",
       "  const panelName = \"#\" + el.getAttribute('paneName');\n",
       "  console.log(el.title);\n",
       "\n",
       "  document.querySelector(panelName + \"-title\").innerHTML = el.title\n",
       "  iframe = document.querySelector(panelName + \"-body\");\n",
       "\n",
       "  const tblcss = `<style> body { font-family: Arial, Helvetica, sans-serif;}\n",
       "    #csv { margin-bottom: 15px; }\n",
       "    #csv table { border-collapse: collapse;}\n",
       "    #csv table td { padding: 4px 8px; border: 1px solid silver;} </style>`;\n",
       "\n",
       "  function csvToHtmlTable(str) {\n",
       "    return '<div id=\"csv\"><table><tr><td>' +  str.replace(/[\\n\\r]+$/g, '').replace(/[\\n\\r]+/g, '</td></tr><tr><td>')\n",
       "      .replace(/,/g, '</td><td>') + '</td></tr></table></div>';\n",
       "  }\n",
       "\n",
       "  function reqListener () {\n",
       "    if (el.title.endsWith(\".csv\")) {\n",
       "      iframe.setAttribute(\"srcdoc\", tblcss + csvToHtmlTable(this.responseText));\n",
       "    } else {\n",
       "      iframe.setAttribute(\"srcdoc\", this.responseText);\n",
       "    }\n",
       "    console.log(this.responseText);\n",
       "  }\n",
       "\n",
       "  const oReq = new XMLHttpRequest();\n",
       "  oReq.addEventListener(\"load\", reqListener);\n",
       "  oReq.open(\"GET\", el.title);\n",
       "  oReq.send();\n",
       "\n",
       "\n",
       "  //iframe.src = el.title;\n",
       "  const resultPane = document.querySelector(panelName + \"-pane\");\n",
       "  if (resultPane.classList.contains(\"hidden\")) {\n",
       "    resultPane.classList.remove(\"hidden\");\n",
       "  }\n",
       "}\n",
       "function closePanel(el) {\n",
       "  const panelName = \"#\" + el.getAttribute('paneName')\n",
       "  const resultPane = document.querySelector(panelName + \"-pane\");\n",
       "  if (!resultPane.classList.contains(\"hidden\")) {\n",
       "    resultPane.classList.add(\"hidden\");\n",
       "  }\n",
       "}\n",
       "\n",
       "</script>\n",
       "<div class=\"master-wrapper\">\n",
       "  <div class=\"block master-tbl\"><div>\n",
       "<style scoped>\n",
       "    .dataframe tbody tr th:only-of-type {\n",
       "        vertical-align: middle;\n",
       "    }\n",
       "\n",
       "    .dataframe tbody tr th {\n",
       "        vertical-align: top;\n",
       "    }\n",
       "\n",
       "    .dataframe thead th {\n",
       "        text-align: right;\n",
       "    }\n",
       "</style>\n",
       "<table border=\"1\" class=\"dataframe\">\n",
       "  <thead>\n",
       "    <tr style=\"text-align: right;\">\n",
       "      <th>project</th>\n",
       "      <th>uid</th>\n",
       "      <th>iter</th>\n",
       "      <th>start</th>\n",
       "      <th>state</th>\n",
       "      <th>name</th>\n",
       "      <th>labels</th>\n",
       "      <th>inputs</th>\n",
       "      <th>parameters</th>\n",
       "      <th>results</th>\n",
       "      <th>artifacts</th>\n",
       "    </tr>\n",
       "  </thead>\n",
       "  <tbody>\n",
       "    <tr>\n",
       "      <td>great-expectations</td>\n",
       "      <td><div title=\"436372d741034d678145c63fecfe4450\"><a href=\"https://dashboard.default-tenant.app.us-sales-350.iguazio-cd1.com/mlprojects/great-expectations/jobs/monitor/436372d741034d678145c63fecfe4450/overview\" target=\"_blank\" >...ecfe4450</a></div></td>\n",
       "      <td>0</td>\n",
       "      <td>Mar 03 22:10:51</td>\n",
       "      <td>completed</td>\n",
       "      <td>validate-expectations-validate_expectations</td>\n",
       "      <td><div class=\"dictlist\">v3io_user=nick</div><div class=\"dictlist\">kind=job</div><div class=\"dictlist\">owner=nick</div><div class=\"dictlist\">mlrun/client_version=1.1.0</div><div class=\"dictlist\">host=validate-expectations-validate-expectations-tx9xb</div></td>\n",
       "      <td><div title=\"https://s3.wasabisys.com/iguazio/data/iris/iris.data.raw.csv\">data</div></td>\n",
       "      <td><div class=\"dictlist\">expectation_suite_name=test_suite</div><div class=\"dictlist\">data_asset_name=iris_dataset</div></td>\n",
       "      <td><div class=\"dictlist\">validated=False</div></td>\n",
       "      <td><div title=\"/v3io/projects/great-expectations/great_expectations/uncommitted/data_docs/local_site/validations/test_suite/20230303-221053-my-run-name-template/20230303T221053.194399Z/3f0abea022c87b6f0b08489d6c678614.html\">validation_results</div></td>\n",
       "    </tr>\n",
       "  </tbody>\n",
       "</table>\n",
       "</div></div>\n",
       "  <div id=\"result418b4afc-pane\" class=\"right-pane block hidden\">\n",
       "    <div class=\"pane-header\">\n",
       "      <span id=\"result418b4afc-title\" class=\"pane-header-title\">Title</span>\n",
       "      <span onclick=\"closePanel(this)\" paneName=\"result418b4afc\" class=\"close clickable\">&times;</span>\n",
       "    </div>\n",
       "    <iframe class=\"fileview\" id=\"result418b4afc-body\"></iframe>\n",
       "  </div>\n",
       "</div>\n"
      ],
      "text/plain": [
       "<IPython.core.display.HTML object>"
      ]
     },
     "metadata": {},
     "output_type": "display_data"
    },
    {
     "name": "stdout",
     "output_type": "stream",
     "text": [
      "\n"
     ]
    },
    {
     "data": {
      "text/html": [
       "<b> > to track results use the .show() or .logs() methods  or <a href=\"https://dashboard.default-tenant.app.us-sales-350.iguazio-cd1.com/mlprojects/great-expectations/jobs/monitor/436372d741034d678145c63fecfe4450/overview\" target=\"_blank\">click here</a> to open in UI</b>"
      ],
      "text/plain": [
       "<IPython.core.display.HTML object>"
      ]
     },
     "metadata": {},
     "output_type": "display_data"
    },
    {
     "name": "stdout",
     "output_type": "stream",
     "text": [
      "> 2023-03-03 22:11:01,178 [info] run executed, status=completed\n"
     ]
    }
   ],
   "source": [
    "run = fn.run(\n",
    "    inputs={\"data\": \"https://s3.wasabisys.com/iguazio/data/iris/iris.data.raw.csv\"},\n",
    "    params={\n",
    "        \"expectation_suite_name\": \"test_suite\",\n",
    "        \"data_asset_name\": \"iris_dataset\",\n",
    "    },\n",
    ")"
   ]
  },
  {
   "cell_type": "markdown",
   "id": "dec9172c",
   "metadata": {},
   "source": [
    "### View Data Doc"
   ]
  },
  {
   "cell_type": "code",
   "execution_count": 18,
   "id": "8b90a4c7",
   "metadata": {},
   "outputs": [],
   "source": [
    "import os\n",
    "from IPython.display import IFrame"
   ]
  },
  {
   "cell_type": "code",
   "execution_count": 19,
   "id": "3c59d69e",
   "metadata": {},
   "outputs": [
    {
     "data": {
      "text/html": [
       "\n",
       "        <iframe\n",
       "            width=\"1000\"\n",
       "            height=\"800\"\n",
       "            src=\"../../../v3io/projects/great-expectations/great_expectations/uncommitted/data_docs/local_site/validations/test_suite/20230303-221053-my-run-name-template/20230303T221053.194399Z/3f0abea022c87b6f0b08489d6c678614.html\"\n",
       "            frameborder=\"0\"\n",
       "            allowfullscreen\n",
       "            \n",
       "        ></iframe>\n",
       "        "
      ],
      "text/plain": [
       "<IPython.lib.display.IFrame at 0x7f3e35ab2110>"
      ]
     },
     "execution_count": 19,
     "metadata": {},
     "output_type": "execute_result"
    }
   ],
   "source": [
    "IFrame(src=os.path.relpath(run.outputs[\"validation_results\"]), width=1000, height=800)"
   ]
  },
  {
   "cell_type": "code",
   "execution_count": null,
   "id": "a3caea0c",
   "metadata": {},
   "outputs": [],
   "source": []
  }
 ],
 "metadata": {
  "kernelspec": {
   "display_name": "Python [conda env:root] *",
   "language": "python",
   "name": "conda-root-py"
  },
  "language_info": {
   "codemirror_mode": {
    "name": "ipython",
    "version": 3
   },
   "file_extension": ".py",
   "mimetype": "text/x-python",
   "name": "python",
   "nbconvert_exporter": "python",
   "pygments_lexer": "ipython3",
   "version": "3.7.6"
  }
 },
 "nbformat": 4,
 "nbformat_minor": 5
}
