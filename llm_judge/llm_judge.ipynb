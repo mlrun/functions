{
 "cells": [
  {
   "cell_type": "markdown",
   "id": "7412335f",
   "metadata": {},
   "source": [
    "# LLM as a Judge\n",
    "\n",
    "Based on llm as a judge paper https://arxiv.org/abs/2306.05685, We have implemented this function.\n",
    "\n",
    "In this notebook we will go over the function's docs and outputs and see an end-to-end example of running it.\n",
    "\n",
    "1. [Single grading metrics](#chapter1)\n",
    "2. [Pairwise grading metrics](#chapter2)\n",
    "3. [Pairwise_with_reference_grading_metrics](#chapter3)"
   ]
  },
  {
   "cell_type": "markdown",
   "id": "f714fb0a-38f3-4d23-8179-d5bec7eb515b",
   "metadata": {},
   "source": [
    "## 0. define the metrics"
   ]
  },
  {
   "cell_type": "code",
   "execution_count": 8,
   "id": "8fae4e28-fe47-434d-9df6-1438ed900820",
   "metadata": {},
   "outputs": [],
   "source": [
    "prompt_config = {\n",
    "        \"name\": \"accuracy\",\n",
    "        \"definition\": \"The accuracy of the provided answer.\",\n",
    "        \"rubric\": \"\"\"Accuracy: This rubric assesses the accuracy of the provided answer. The details for different scores are as follows:\n",
    "            - Score 1: The answer is completely incorrect or irrelevant to the question. It demonstrates a fundamental\n",
    "              misunderstanding of the topic or question.\n",
    "            - Score 2: The answer contains significant inaccuracies, though it shows some understanding of the topic. Key\n",
    "              elements of the question are addressed incorrectly.\n",
    "            - Score 3: The answer is partially correct but has noticeable inaccuracies or omissions. It addresses the\n",
    "              question but lacks depth or precision.\n",
    "            - Score 4: The answer is mostly correct, with only minor inaccuracies or omissions. It provides a generally\n",
    "              accurate response to the question.\n",
    "            - Score 5: The answer is completely correct and thorough. It demonstrates a deep and accurate understanding of\n",
    "              the topic, addressing all elements of the question effectively.\"\"\",\n",
    "        \"examples\": \"\"\"\n",
    "            Question: What is the capital of France?\n",
    "            Score 1: Completely Incorrect\n",
    "            Answer: \"The capital of France is Berlin.\"\n",
    "            Explanation: This answer is entirely incorrect and irrelevant, as Berlin is the capital of Germany, not France.\n",
    "            Score 2: Significantly Inaccurate\n",
    "            Answer: \"The capital of France is Lyon.\"\n",
    "            Explanation: This answer demonstrates some understanding that the question is about a city in France, but it incorrectly identifies Lyon as the capital instead of Paris.\n",
    "            Score 3: Partially Correct\n",
    "            Answer: \"I think the capital of France is either Paris or Marseille.\"\n",
    "            Explanation: This answer shows partial knowledge but includes a significant inaccuracy by suggesting Marseille might be the capital. Paris is correct, but the inclusion of Marseille indicates a lack of certainty or complete understanding.\n",
    "            Score 4: Mostly Correct\n",
    "            Answer: \"The capital of France is Paris, the largest city in the country.\"\n",
    "            Explanation: This answer is mostly correct and identifies Paris as the capital. The addition of \"the largest city in the country\" is accurate but not directly relevant to the capital status, introducing a slight deviation from the question's focus.\n",
    "            Score 5: Completely Correct and Thorough\n",
    "            Answer: \"The capital of France is Paris, which is not only the country's largest city but also its cultural and political center, hosting major institutions like the President's residence, the Elysée Palace.\"\n",
    "            Explanation: This answer is completely correct, providing a thorough explanation that adds relevant context about Paris's role as the cultural and political center of France, directly addressing the question with depth and precision.\n",
    "                     \"\"\",\n",
    "    }"
   ]
  },
  {
   "cell_type": "markdown",
   "id": "0bb6c621",
   "metadata": {},
   "source": [
    "<a id=\"chapter1\"></a>\n",
    "## 1. Single grading metrics\n"
   ]
  },
  {
   "cell_type": "code",
   "execution_count": 9,
   "id": "7dda6871-d132-443f-980d-ad796c5e5d5d",
   "metadata": {},
   "outputs": [],
   "source": [
    "# config of the hugggingface model as judge\n",
    "JUDGE_MODEL = \"TheBloke/Mistral-7B-OpenOrca-GPTQ\"\n",
    "JUDGE_CONFIG = {\n",
    "    \"device_map\": \"auto\",\n",
    "    \"revision\": \"gptq-8bit-128g-actorder_True\",\n",
    "    \"trust_remote_code\": False,\n",
    "}\n",
    "JUDGE_INFER_CONFIG = {\n",
    "    \"max_length\": 1500,\n",
    "}\n",
    "TOKENIZER_JUDGE_CONFIG = {\"use_fast\": True}"
   ]
  },
  {
   "cell_type": "code",
   "execution_count": 3,
   "id": "abcfcb98-b5f4-4816-8d0b-7ecb8b675865",
   "metadata": {},
   "outputs": [],
   "source": []
  }
 ],
 "metadata": {
  "kernelspec": {
   "display_name": "llm_judge",
   "language": "python",
   "name": "conda-env-.conda-llm_judge-py"
  },
  "language_info": {
   "codemirror_mode": {
    "name": "ipython",
    "version": 3
   },
   "file_extension": ".py",
   "mimetype": "text/x-python",
   "name": "python",
   "nbconvert_exporter": "python",
   "pygments_lexer": "ipython3",
   "version": "3.9.16"
  }
 },
 "nbformat": 4,
 "nbformat_minor": 5
}
