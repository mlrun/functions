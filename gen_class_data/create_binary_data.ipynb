{
 "cells": [
  {
   "cell_type": "code",
   "execution_count": null,
   "metadata": {},
   "outputs": [],
   "source": [
    "import mlrun\n",
    "import os\n",
    "\n",
    "mlrun.mlconf.dbpath = 'http://mlrun-api:8080'\n",
    "mlrun.mlconf.hub_url = 'https://raw.githubusercontent.com/yjb-ds/functions/init_fixes/{name}/function.yaml'"
   ]
  },
  {
   "cell_type": "code",
   "execution_count": null,
   "metadata": {},
   "outputs": [],
   "source": [
    "N_SAMPLES = 100_000\n",
    "M_FEATURES = 28\n",
    "K_CLASSES = 4\n",
    "NEG_WEIGHT = [0.5, 0.8, 0.2]\n",
    "ARTIFACT_PATH = '/User/functions/gen_class_data/artifacts/{{run.uid}}'\n",
    "KEY = 'sim'"
   ]
  },
  {
   "cell_type": "code",
   "execution_count": null,
   "metadata": {},
   "outputs": [],
   "source": [
    "FUNCTION = 'gen_class_data'\n",
    "urls = [\n",
    "    'function.yaml',\n",
    "    f'https://raw.githubusercontent.com/yjb-ds/functions/init_fixes/{FUNCTION}/function.yaml',\n",
    "    f'db://{FUNCTION}:latest',\n",
    "    f'hub://{FUNCTION}'\n",
    "]"
   ]
  },
  {
   "cell_type": "code",
   "execution_count": null,
   "metadata": {},
   "outputs": [],
   "source": [
    "for url in urls:\n",
    "    try:\n",
    "        rfn = mlrun.import_function(url).apply(mlrun.mount_v3io())\n",
    "        tsk = rfn.run(\n",
    "                mlrun.NewTask(\n",
    "                    \"simulate\", \n",
    "                    params={\"n_samples\"   : N_SAMPLES,\n",
    "                            \"m_features\"  : M_FEATURES,\n",
    "                            \"k_classes\"   : K_CLASSES,\n",
    "                            \"weight\"      : NEG_WEIGHT,\n",
    "                            \"sk_params\"   : {\"n_informative\": 8}},\n",
    "                    artifact_path=ARTIFACT_PATH))\n",
    "    except Exception as e:\n",
    "        print(url, str(e))\n",
    "    print(\"++++++++++++++++++++++++++++++++++++++++++++++++\")"
   ]
  },
  {
   "cell_type": "code",
   "execution_count": null,
   "metadata": {},
   "outputs": [],
   "source": []
  }
 ],
 "metadata": {
  "kernelspec": {
   "display_name": "Python 3",
   "language": "python",
   "name": "python3"
  },
  "language_info": {
   "codemirror_mode": {
    "name": "ipython",
    "version": 3
   },
   "file_extension": ".py",
   "mimetype": "text/x-python",
   "name": "python",
   "nbconvert_exporter": "python",
   "pygments_lexer": "ipython3",
   "version": "3.6.8"
  }
 },
 "nbformat": 4,
 "nbformat_minor": 4
}
