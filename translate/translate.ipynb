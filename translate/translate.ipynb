{
 "cells": [
  {
   "cell_type": "markdown",
   "id": "6d3c20aa-7129-4905-beaa-7011943373f5",
   "metadata": {},
   "source": [
    "# Translate tutorial"
   ]
  },
  {
   "cell_type": "markdown",
   "id": "afe4a3ee-f886-461c-9830-0fd9a5b625c3",
   "metadata": {},
   "source": [
    "## Short description and explenation"
   ]
  },
  {
   "cell_type": "markdown",
   "id": "313ed5c3-7416-4bbb-a7fb-aa37ab1f8445",
   "metadata": {},
   "source": [
    "Machine translation has made huge strides in recent years thanks to advances in deep learning, our translte function makes it even easier to use. <br>\n",
    "Simply tell it where your file is and the languages you're working with (the one you're translating from and the one you want),<br>\n",
    "and this function takes care of the rest. It cleverly picks the right pre-trained model for your language pair, ensuring top-notch translations.<br>\n",
    "\n",
    "No need to worry about finding the perfect model or dealing with complex setup – it's all handled behind the scenes.<br>\n",
    "\n",
    "With this function, language translation becomes a breeze, making your documents accessible in any language without breaking a sweat."
   ]
  },
  {
   "cell_type": "markdown",
   "id": "9352f799-fe99-4ace-9b44-ca0e28bb1fb4",
   "metadata": {},
   "source": [
    "## Background"
   ]
  },
  {
   "cell_type": "markdown",
   "id": "6026a8bd-e2e7-454a-b325-9550561a587e",
   "metadata": {},
   "source": [
    "The function takes two parameters: a model name or the source and target languages, and a path to one or more text files to translate.\n",
    "\n",
    "It first checks if a model name was passed. If so, it loads that Helsinki-NLP model.<br>\n",
    "If not, it looks at the source and target languages and loads the appropriate Helsinki-NLP translation model.\n",
    "\n",
    "It then reads in the text files and translates them using the loaded model.\n",
    "\n",
    "Finally, it writes the translated text out to new files and returns the filename or dir name. <br>\n",
    "\n",
    "This allows the user to easily translate a text file to another language using Helsinki-NLP's pre-trained models by just passing the model name or language pair and source text file.<br>\n",
    "\n",
    "This function auto-model selection is based on the great translation models offered by Helsinki. Check them out https://huggingface.co/Helsinki-NLP"
   ]
  },
  {
   "cell_type": "markdown",
   "id": "42ec9bc3-2b90-40f1-b10b-5493d9e2b75e",
   "metadata": {},
   "source": [
    "## Requirements"
   ]
  },
  {
   "cell_type": "markdown",
   "id": "6b756726-e750-4da4-b032-bf5385f85311",
   "metadata": {},
   "source": [
    "`transformers` <br>\n",
    "`tqdm` <br>"
   ]
  },
  {
   "cell_type": "markdown",
   "id": "212b8161-3e75-459e-98f3-a5b7c5a15efe",
   "metadata": {},
   "source": [
    "## Documentation"
   ]
  },
  {
   "cell_type": "markdown",
   "id": "9b5fe561-4fbb-4471-91bb-532fa55559f9",
   "metadata": {},
   "source": [
    "`data_path`:          A directory of text files or a single text file or a list of files to translate.\n",
    "\n",
    "`output_directory`:   Directory where the translated files will be saved.\n",
    "\n",
    "`model_name`:         The name of a model to load. If None, the model name is constructed using the source and<br>\n",
    "                           target languages parameters from the \"Helsinki-NLP\" group.\n",
    "                           \n",
    "`source_language`:    The source language code (e.g., 'en' for English).\n",
    "\n",
    "`target_language`:    The target language code (e.g., 'en' for English).\n",
    "\n",
    "`model_kwargs`:       Keyword arguments to pass regarding the loading of the model in HuggingFace's \"pipeline\"\n",
    "                           function.\n",
    "                           \n",
    "`device`:             The device index for transformers. Default will prefer cuda if available.\n",
    "\n",
    "`batch_size`:         The number of batches to use in translation. The files are translated one by one, but the\n",
    "                           sentences can be batched.\n",
    "                           \n",
    "`translation_kwargs`: Additional keyword arguments to pass to a \"transformers.TranslationPipeline\" when doing<br>\n",
    "                               the translation inference. Notice the batch size here is being added automatically.\n"
   ]
  },
  {
   "cell_type": "markdown",
   "id": "2e6f44a6-d6ac-48ed-a7d1-936d25e7426c",
   "metadata": {},
   "source": [
    "## Demo "
   ]
  },
  {
   "cell_type": "markdown",
   "id": "2b231e4c-0224-41a2-87cf-400a4680e2b9",
   "metadata": {},
   "source": [
    "The following demo will show an example of translating a text file written in turkish to eanglish using the _tranlate_ function. <br>\n",
    "\n",
    "### (1.) Import the function (import mlrun, set project and import function)"
   ]
  },
  {
   "cell_type": "code",
   "execution_count": 1,
   "id": "797ef0d4-f435-485c-b705-e1d6115fb8fd",
   "metadata": {},
   "outputs": [],
   "source": [
    "import mlrun"
   ]
  },
  {
   "cell_type": "markdown",
   "id": "1ff51127-dc54-44d2-bd13-0b81165b2033",
   "metadata": {},
   "source": [
    "We want to translate the following turkish sentence into english, so we will write it to a text file."
   ]
  },
  {
   "cell_type": "code",
   "execution_count": 2,
   "id": "f9517cc8-a0d6-4169-b746-cf4c265e6a3b",
   "metadata": {},
   "outputs": [
    {
     "name": "stdout",
     "output_type": "stream",
     "text": [
      "Writing data.txt\n"
     ]
    }
   ],
   "source": [
    "%%writefile data.txt\n",
    "Ali her gece bir kitap okur. # which means: \"Ali reads a book every night.\""
   ]
  },
  {
   "cell_type": "markdown",
   "id": "c24d71a7-9400-475a-9472-424658801914",
   "metadata": {},
   "source": [
    "Setting a project and importing the translate function"
   ]
  },
  {
   "cell_type": "code",
   "execution_count": 4,
   "id": "e61184ea-44a3-4184-9a2f-9c45b90fdc0f",
   "metadata": {},
   "outputs": [
    {
     "name": "stdout",
     "output_type": "stream",
     "text": [
      "> 2023-12-06 14:44:05,223 [info] Created and saved project: {'name': 'test-translate', 'from_template': None, 'overwrite': False, 'context': './', 'save': True}\n"
     ]
    }
   ],
   "source": [
    "project = mlrun.new_project(\"test-translate\")\n",
    "translate_fn = project.set_function(\"hub://translate\", \"translate\")"
   ]
  },
  {
   "cell_type": "markdown",
   "id": "558260ce-e453-4e05-a6a7-b2df39cff1b9",
   "metadata": {},
   "source": [
    "## Usage"
   ]
  },
  {
   "cell_type": "markdown",
   "id": "5a1781ee-a210-4dc1-82de-0f4f5d191173",
   "metadata": {},
   "source": [
    "### (2.1.) Manual model selection\n",
    "Here we run our function that we've imported from the MLRun Function Hub. <br>\n",
    "We select the specific model, give the function a path to to the file and output directory and choose to run on the cpu."
   ]
  },
  {
   "cell_type": "code",
   "execution_count": 8,
   "id": "9b3107fd-b78d-43de-b4a2-ad3863f72a03",
   "metadata": {},
   "outputs": [
    {
     "name": "stdout",
     "output_type": "stream",
     "text": [
      "> 2023-12-06 14:48:52,794 [info] Storing function: {'name': 'translate-translate', 'uid': '5768d0ddaf06469da053c85d47f61a47', 'db': 'http://mlrun-api:8080'}\n"
     ]
    },
    {
     "name": "stderr",
     "output_type": "stream",
     "text": [
      "Recommended: pip install sacremoses.\n"
     ]
    },
    {
     "name": "stdout",
     "output_type": "stream",
     "text": [
      "> 2023-12-06 14:48:56,190 [warning] Skipping logging an object with the log hint '{'key': 'errors', 'artifact_type': 'dict'}' due to the following error:\n",
      "An exception was raised during the packing of '{}': No packager was found for the combination of 'object_type=builtins.dict' and 'artifact_type=dict'.\n"
     ]
    },
    {
     "data": {
      "text/html": [
       "<style>\n",
       ".dictlist {\n",
       "  background-color: #4EC64B;\n",
       "  text-align: center;\n",
       "  margin: 4px;\n",
       "  border-radius: 3px; padding: 0px 3px 1px 3px; display: inline-block;}\n",
       ".artifact {\n",
       "  cursor: pointer;\n",
       "  background-color: #4EC64B;\n",
       "  text-align: left;\n",
       "  margin: 4px; border-radius: 3px; padding: 0px 3px 1px 3px; display: inline-block;\n",
       "}\n",
       "div.block.hidden {\n",
       "  display: none;\n",
       "}\n",
       ".clickable {\n",
       "  cursor: pointer;\n",
       "}\n",
       ".ellipsis {\n",
       "  display: inline-block;\n",
       "  max-width: 60px;\n",
       "  white-space: nowrap;\n",
       "  overflow: hidden;\n",
       "  text-overflow: ellipsis;\n",
       "}\n",
       ".master-wrapper {\n",
       "  display: flex;\n",
       "  flex-flow: row nowrap;\n",
       "  justify-content: flex-start;\n",
       "  align-items: stretch;\n",
       "}\n",
       ".master-tbl {\n",
       "  flex: 3\n",
       "}\n",
       ".master-wrapper > div {\n",
       "  margin: 4px;\n",
       "  padding: 10px;\n",
       "}\n",
       "iframe.fileview {\n",
       "  border: 0 none;\n",
       "  height: 100%;\n",
       "  width: 100%;\n",
       "  white-space: pre-wrap;\n",
       "}\n",
       ".pane-header-title {\n",
       "  width: 80%;\n",
       "  font-weight: 500;\n",
       "}\n",
       ".pane-header {\n",
       "  line-height: 1;\n",
       "  background-color: #4EC64B;\n",
       "  padding: 3px;\n",
       "}\n",
       ".pane-header .close {\n",
       "  font-size: 20px;\n",
       "  font-weight: 700;\n",
       "  float: right;\n",
       "  margin-top: -5px;\n",
       "}\n",
       ".master-wrapper .right-pane {\n",
       "  border: 1px inset silver;\n",
       "  width: 40%;\n",
       "  min-height: 300px;\n",
       "  flex: 3\n",
       "  min-width: 500px;\n",
       "}\n",
       ".master-wrapper * {\n",
       "  box-sizing: border-box;\n",
       "}\n",
       "</style><script>\n",
       "function copyToClipboard(fld) {\n",
       "    if (document.queryCommandSupported && document.queryCommandSupported('copy')) {\n",
       "        var textarea = document.createElement('textarea');\n",
       "        textarea.textContent = fld.innerHTML;\n",
       "        textarea.style.position = 'fixed';\n",
       "        document.body.appendChild(textarea);\n",
       "        textarea.select();\n",
       "\n",
       "        try {\n",
       "            return document.execCommand('copy'); // Security exception may be thrown by some browsers.\n",
       "        } catch (ex) {\n",
       "\n",
       "        } finally {\n",
       "            document.body.removeChild(textarea);\n",
       "        }\n",
       "    }\n",
       "}\n",
       "function expandPanel(el) {\n",
       "  const panelName = \"#\" + el.getAttribute('paneName');\n",
       "  console.log(el.title);\n",
       "\n",
       "  document.querySelector(panelName + \"-title\").innerHTML = el.title\n",
       "  iframe = document.querySelector(panelName + \"-body\");\n",
       "\n",
       "  const tblcss = `<style> body { font-family: Arial, Helvetica, sans-serif;}\n",
       "    #csv { margin-bottom: 15px; }\n",
       "    #csv table { border-collapse: collapse;}\n",
       "    #csv table td { padding: 4px 8px; border: 1px solid silver;} </style>`;\n",
       "\n",
       "  function csvToHtmlTable(str) {\n",
       "    return '<div id=\"csv\"><table><tr><td>' +  str.replace(/[\\n\\r]+$/g, '').replace(/[\\n\\r]+/g, '</td></tr><tr><td>')\n",
       "      .replace(/,/g, '</td><td>') + '</td></tr></table></div>';\n",
       "  }\n",
       "\n",
       "  function reqListener () {\n",
       "    if (el.title.endsWith(\".csv\")) {\n",
       "      iframe.setAttribute(\"srcdoc\", tblcss + csvToHtmlTable(this.responseText));\n",
       "    } else {\n",
       "      iframe.setAttribute(\"srcdoc\", this.responseText);\n",
       "    }\n",
       "    console.log(this.responseText);\n",
       "  }\n",
       "\n",
       "  const oReq = new XMLHttpRequest();\n",
       "  oReq.addEventListener(\"load\", reqListener);\n",
       "  oReq.open(\"GET\", el.title);\n",
       "  oReq.send();\n",
       "\n",
       "\n",
       "  //iframe.src = el.title;\n",
       "  const resultPane = document.querySelector(panelName + \"-pane\");\n",
       "  if (resultPane.classList.contains(\"hidden\")) {\n",
       "    resultPane.classList.remove(\"hidden\");\n",
       "  }\n",
       "}\n",
       "function closePanel(el) {\n",
       "  const panelName = \"#\" + el.getAttribute('paneName')\n",
       "  const resultPane = document.querySelector(panelName + \"-pane\");\n",
       "  if (!resultPane.classList.contains(\"hidden\")) {\n",
       "    resultPane.classList.add(\"hidden\");\n",
       "  }\n",
       "}\n",
       "\n",
       "</script>\n",
       "<div class=\"master-wrapper\">\n",
       "  <div class=\"block master-tbl\"><div>\n",
       "<style scoped>\n",
       "    .dataframe tbody tr th:only-of-type {\n",
       "        vertical-align: middle;\n",
       "    }\n",
       "\n",
       "    .dataframe tbody tr th {\n",
       "        vertical-align: top;\n",
       "    }\n",
       "\n",
       "    .dataframe thead th {\n",
       "        text-align: right;\n",
       "    }\n",
       "</style>\n",
       "<table border=\"1\" class=\"dataframe\">\n",
       "  <thead>\n",
       "    <tr style=\"text-align: right;\">\n",
       "      <th>project</th>\n",
       "      <th>uid</th>\n",
       "      <th>iter</th>\n",
       "      <th>start</th>\n",
       "      <th>state</th>\n",
       "      <th>name</th>\n",
       "      <th>labels</th>\n",
       "      <th>inputs</th>\n",
       "      <th>parameters</th>\n",
       "      <th>results</th>\n",
       "      <th>artifacts</th>\n",
       "    </tr>\n",
       "  </thead>\n",
       "  <tbody>\n",
       "    <tr>\n",
       "      <td>test-translate</td>\n",
       "      <td><div title=\"5768d0ddaf06469da053c85d47f61a47\"><a href=\"https://dashboard.default-tenant.app.llm2.iguazio-cd0.com/mlprojects/test-translate/jobs/monitor/5768d0ddaf06469da053c85d47f61a47/overview\" target=\"_blank\" >...47f61a47</a></div></td>\n",
       "      <td>0</td>\n",
       "      <td>Dec 06 14:48:52</td>\n",
       "      <td>completed</td>\n",
       "      <td>translate-translate</td>\n",
       "      <td><div class=\"dictlist\">v3io_user=yonis</div><div class=\"dictlist\">kind=local</div><div class=\"dictlist\">owner=yonis</div><div class=\"dictlist\">host=jupyter-yonis-7c9bdbfb4d-9g2p2</div></td>\n",
       "      <td><div class=\"artifact\" onclick=\"expandPanel(this)\" paneName=\"resulta746a04e\" title=\"/files/translate/data.txt\">data_path</div></td>\n",
       "      <td><div class=\"dictlist\">model_name=Helsinki-NLP/opus-mt-tr-en</div><div class=\"dictlist\">device=cpu</div><div class=\"dictlist\">output_directory=./</div></td>\n",
       "      <td></td>\n",
       "      <td><div title=\"v3io:///projects/test-translate/artifacts/translate-translate/0/files\">files</div><div title=\"v3io:///projects/test-translate/artifacts/translate-translate/0/text_files_dataframe.parquet\">text_files_dataframe</div></td>\n",
       "    </tr>\n",
       "  </tbody>\n",
       "</table>\n",
       "</div></div>\n",
       "  <div id=\"resulta746a04e-pane\" class=\"right-pane block hidden\">\n",
       "    <div class=\"pane-header\">\n",
       "      <span id=\"resulta746a04e-title\" class=\"pane-header-title\">Title</span>\n",
       "      <span onclick=\"closePanel(this)\" paneName=\"resulta746a04e\" class=\"close clickable\">&times;</span>\n",
       "    </div>\n",
       "    <iframe class=\"fileview\" id=\"resulta746a04e-body\"></iframe>\n",
       "  </div>\n",
       "</div>\n"
      ],
      "text/plain": [
       "<IPython.core.display.HTML object>"
      ]
     },
     "metadata": {},
     "output_type": "display_data"
    },
    {
     "name": "stdout",
     "output_type": "stream",
     "text": [
      "\n"
     ]
    },
    {
     "data": {
      "text/html": [
       "<b> > to track results use the .show() or .logs() methods  or <a href=\"https://dashboard.default-tenant.app.llm2.iguazio-cd0.com/mlprojects/test-translate/jobs/monitor/5768d0ddaf06469da053c85d47f61a47/overview\" target=\"_blank\">click here</a> to open in UI</b>"
      ],
      "text/plain": [
       "<IPython.core.display.HTML object>"
      ]
     },
     "metadata": {},
     "output_type": "display_data"
    },
    {
     "name": "stdout",
     "output_type": "stream",
     "text": [
      "> 2023-12-06 14:48:56,409 [info] Run execution finished: {'status': 'completed', 'name': 'translate-translate'}\n"
     ]
    }
   ],
   "source": [
    "translate_run = translate_fn.run(\n",
    "    handler=\"translate\",\n",
    "    inputs={\"data_path\": \"data.txt\"},\n",
    "    params={\n",
    "        \"model_name\": \"Helsinki-NLP/opus-mt-tr-en\",\n",
    "        \"device\": \"cpu\",\n",
    "        \"output_directory\": \"./\",\n",
    "    },\n",
    "    local=True,\n",
    "    returns=[\n",
    "        \"files: path\",\n",
    "        \"text_files_dataframe: dataset\",\n",
    "        \"errors: dict\",\n",
    "    ],\n",
    ")"
   ]
  },
  {
   "cell_type": "markdown",
   "id": "8b2fcf2b-3893-4dda-85e2-4a2b9ed0d963",
   "metadata": {},
   "source": [
    "### (2.1.) Auto model detectyion"
   ]
  },
  {
   "cell_type": "markdown",
   "id": "8c3d24ca-8df7-4204-8b0d-e7a08d53d8c9",
   "metadata": {},
   "source": [
    "Here we run our function that we've imported from the MLRun Function Hub. <br>\n",
    "We select the languages to use for choosing the model, give the function a path to to the file and output directory and choose to run on the cpu."
   ]
  },
  {
   "cell_type": "code",
   "execution_count": null,
   "id": "dbe10afd-5ede-4475-abc2-bb07dfdf33aa",
   "metadata": {},
   "outputs": [],
   "source": [
    "translate_run = translate_fn.run(\n",
    "    handler=\"translate\",\n",
    "    inputs={\"data_path\": \"data.txt\"},\n",
    "    params={\n",
    "        \"target_language\": \"en\",\n",
    "        \"source_language\": \"tr\",\n",
    "        \"device\": \"cpu\",\n",
    "        \"output_directory\": \"./\",\n",
    "    },\n",
    "    local=True,\n",
    "    returns=[\n",
    "        \"files: path\",\n",
    "        \"text_files_dataframe: dataset\",\n",
    "        \"errors: dict\",\n",
    "    ],\n",
    ")"
   ]
  },
  {
   "cell_type": "markdown",
   "id": "40e4a666-9680-40d6-93ee-9466d31a9efc",
   "metadata": {},
   "source": [
    "We can take alook at the file created"
   ]
  },
  {
   "cell_type": "markdown",
   "id": "89a1952c-f3c3-4a7b-bad4-b59c701a5af6",
   "metadata": {},
   "source": [
    "### (3.) Review results"
   ]
  },
  {
   "cell_type": "markdown",
   "id": "9d583cf9-7e81-4d0d-982f-aba345d4cf9c",
   "metadata": {},
   "source": [
    "We can look at the articat returned, the import "
   ]
  },
  {
   "cell_type": "code",
   "execution_count": 9,
   "id": "c3dab6f8-6089-46c2-b4b9-899a2442403f",
   "metadata": {},
   "outputs": [
    {
     "data": {
      "text/html": [
       "<div>\n",
       "<style scoped>\n",
       "    .dataframe tbody tr th:only-of-type {\n",
       "        vertical-align: middle;\n",
       "    }\n",
       "\n",
       "    .dataframe tbody tr th {\n",
       "        vertical-align: top;\n",
       "    }\n",
       "\n",
       "    .dataframe thead th {\n",
       "        text-align: right;\n",
       "    }\n",
       "</style>\n",
       "<table border=\"1\" class=\"dataframe\">\n",
       "  <thead>\n",
       "    <tr style=\"text-align: right;\">\n",
       "      <th></th>\n",
       "      <th>text_file</th>\n",
       "      <th>translation_file</th>\n",
       "    </tr>\n",
       "  </thead>\n",
       "  <tbody>\n",
       "    <tr>\n",
       "      <th>0</th>\n",
       "      <td>data.txt</td>\n",
       "      <td>data_2.txt</td>\n",
       "    </tr>\n",
       "  </tbody>\n",
       "</table>\n",
       "</div>"
      ],
      "text/plain": [
       "  text_file translation_file\n",
       "0  data.txt       data_2.txt"
      ]
     },
     "metadata": {},
     "output_type": "display_data"
    }
   ],
   "source": [
    "translate_run.artifact(\"text_files_dataframe\").show()"
   ]
  },
  {
   "cell_type": "markdown",
   "id": "580a20a2-4877-48b4-8f83-59cbfc2f3b83",
   "metadata": {},
   "source": [
    "Checking that translation is correct, we print the text file created by function, and can see the sentence is as expected."
   ]
  },
  {
   "cell_type": "code",
   "execution_count": 11,
   "id": "0157bcaf-8f2c-4995-a214-32f2710da4c9",
   "metadata": {},
   "outputs": [
    {
     "name": "stdout",
     "output_type": "stream",
     "text": [
      "Translated text:\n",
      "Ali reads a book every night.\n",
      "\n"
     ]
    }
   ],
   "source": [
    "with open(\"data_2.txt\", \"r\") as f:\n",
    "    print(f\"Translated text:\\n{f.read()}\")"
   ]
  }
 ],
 "metadata": {
  "kernelspec": {
   "display_name": "mlrun-base",
   "language": "python",
   "name": "conda-env-mlrun-base-py"
  },
  "language_info": {
   "codemirror_mode": {
    "name": "ipython",
    "version": 3
   },
   "file_extension": ".py",
   "mimetype": "text/x-python",
   "name": "python",
   "nbconvert_exporter": "python",
   "pygments_lexer": "ipython3",
   "version": "3.9.16"
  }
 },
 "nbformat": 4,
 "nbformat_minor": 5
}
