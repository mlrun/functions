{
 "cells": [
  {
   "cell_type": "code",
   "execution_count": 6,
   "metadata": {},
   "outputs": [],
   "source": [
    "FUNCTION = \"load_dataset\"\n",
    "\n",
    "task_params = {\n",
    "    \"name\"           : FUNCTION, \n",
    "    \"params\"         : {\n",
    "        \"dataset\"     : \"iris\"\n",
    "    },\n",
    "    \"artifact_path\"  : os.path.join(f\"/User/functions/{FUNCTION}/artifacts\", \"{{run.uid}}\")\n",
    "}\n",
    "\n",
    "import test_function as tf\n",
    "\n",
    "tf.test_function(FUNCTION, task_params)"
   ]
  }
 ],
 "metadata": {
  "kernelspec": {
   "display_name": "Python 3",
   "language": "python",
   "name": "python3"
  },
  "language_info": {
   "codemirror_mode": {
    "name": "ipython",
    "version": 3
   },
   "file_extension": ".py",
   "mimetype": "text/x-python",
   "name": "python",
   "nbconvert_exporter": "python",
   "pygments_lexer": "ipython3",
   "version": "3.6.8"
  }
 },
 "nbformat": 4,
 "nbformat_minor": 4
}
