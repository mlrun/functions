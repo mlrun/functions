{
 "cells": [
  {
   "cell_type": "markdown",
   "metadata": {},
   "source": [
    "# feature importances"
   ]
  },
  {
   "cell_type": "markdown",
   "metadata": {},
   "source": [
    "There are a number of ways to compute feature importances and **the default estimates reported by scikit learn can be shown to be biased** under certain circumstances.  In addition, many non-tree algorithms do not provide conveniently calculated feature importance estimates. The following demonstration is based on material that draws heavily from the following sources:"
   ]
  },
  {
   "cell_type": "markdown",
   "metadata": {},
   "source": [
    "## references\n",
    "\n",
    "\n",
    "### repos\n",
    "\n",
    "* **[Feature importances for scikit-learn machine learning models](https://github.com/parrt/random-forest-importances)**,  [MIT License](https://github.com/parrt/random-forest-importances/blob/master/LICENSE)\n",
    "* **[Scikit-Learn ensemble module - forests](https://github.com/scikit-learn/scikit-learn/blob/0.23.1/sklearn/ensemble/_forest.py)**, [BSD License](https://github.com/scikit-learn/scikit-learn/blob/fd237278e895b42abe8d8d09105cbb82dc2cbba7/sklearn/ensemble/_forest.py#L40)\n",
    "* **[ELI5 - Permutation Importance](https://eli5.readthedocs.io/en/latest/blackbox/permutation_importance.html)**  \n",
    "\n",
    "### articles\n",
    "\n",
    "Strobl, C., Boulesteix, A., Zeileis, A. et al. **[Bias in random forest variable importance measures: Illustrations, sources and a solution](https://link.springer.com/article/10.1186/1471-2105-8-25#citeas)**. BMC Bioinformatics 8, 25 (2007). https://doi.org/10.1186/1471-2105-8-25  \n",
    "\n",
    "Strobl, C., Boulesteix, A., Kneib, T. et al. **[Conditional variable importance for random forests](https://bmcbioinformatics.biomedcentral.com/articles/10.1186/1471-2105-9-307#citeas)**. BMC Bioinformatics 9, 307 (2008). https://doi.org/10.1186/1471-2105-9-307  "
   ]
  },
  {
   "cell_type": "markdown",
   "metadata": {},
   "source": [
    "## what we'll do\n",
    "\n",
    "* demonstrate an issue with default feature importance estimates  \n",
    "* provide alternatives and compare to the default  \n",
    "* create a new function `feature_perms` that implements a computationally simple algorithm \n",
    "* create a new function `dropcol_importances` that implements a computationally intensive algorithm that is more accurate\n",
    "* test our new functions\n",
    "\n",
    "It should be noted that although we are developing this notebook using a classification example, an almost identical presentation can be done for regression."
   ]
  },
  {
   "cell_type": "markdown",
   "metadata": {},
   "source": [
    "## imports"
   ]
  },
  {
   "cell_type": "code",
   "execution_count": 1,
   "metadata": {},
   "outputs": [],
   "source": [
    "import numpy as np\n",
    "import pandas as pd\n",
    "\n",
    "import sklearn\n",
    "from sklearn.base import clone\n",
    "\n",
    "from sklearn.ensemble import RandomForestClassifier as SomeModel\n",
    "\n",
    "import matplotlib.pyplot as plt\n",
    "import seaborn as sns\n",
    "\n",
    "from typing import Union, Callable, List"
   ]
  },
  {
   "cell_type": "markdown",
   "metadata": {},
   "source": [
    "## default feature importances\n",
    "\n",
    "This is a function that plots default feature importances from an estimated model object when available.  It is taken from mlrun's current source-code implementation:"
   ]
  },
  {
   "cell_type": "code",
   "execution_count": 2,
   "metadata": {},
   "outputs": [],
   "source": [
    "def feature_importances(\n",
    "    model: SomeModel,\n",
    "    header: List[str], \n",
    "    figsz=(10, 5)\n",
    ") -> None:\n",
    "    \"\"\"Display default model feature importances\n",
    "\n",
    "    Only works for models with attribute 'feature_importances_`\n",
    "\n",
    "    :param model:       fitted model with a feature_importances_ attribute\n",
    "    :param header:      feature labels\n",
    "    :param figsz:       matplotlib figure size\n",
    "    \"\"\"\n",
    "    if not hasattr(model, \"feature_importances_\"):\n",
    "        raise Exception(\n",
    "            \"feature importances are only available for some models\")\n",
    "\n",
    "    # create a feature importance table with desired labels\n",
    "    zipped = zip(model.feature_importances_, header)\n",
    "    feature_imp = pd.DataFrame(\n",
    "        sorted(zipped), columns=[\"freq\", \"feature\"]).sort_values(\n",
    "            by=\"freq\", ascending=False)\n",
    "\n",
    "    plt.clf()\n",
    "    plt.figure(figsize=figsz)\n",
    "    sns.barplot(x=\"freq\", y=\"feature\", data=feature_imp)\n",
    "    plt.title(\"features\")\n",
    "    plt.tight_layout();\n",
    "    \n",
    "    return feature_imp"
   ]
  },
  {
   "cell_type": "markdown",
   "metadata": {},
   "source": [
    "## permuted features\n",
    "\n",
    "A proposed solution that has general applicability is randomly permuted features<sup>**[refs](#references)**</sup>:  \n",
    "* loop through the feature set  \n",
    "* shuffle one feature  \n",
    "* run predict\n",
    "* compare the (marginal) change in accuracy (or other metric of interest) \n",
    "\n",
    "This approach is computationally more demanding than relying on the default values, however it can be easily parallelized. To perform the estimation we only need an estimated model and a held-out test set.  The following was proposed in **[Beware Default Random Forest Importances](https://explained.ai/rf-importance/index.html)**:\n",
    "\n",
    "( the following 3 glue functions will no longer be publicly visible in  the sklearn package from 0.24 onwards, consider this a temporary hack while we refactor these away)"
   ]
  },
  {
   "cell_type": "markdown",
   "metadata": {},
   "source": [
    "**the following has been  refactored in final version of function:**"
   ]
  },
  {
   "cell_type": "code",
   "execution_count": 3,
   "metadata": {},
   "outputs": [],
   "source": [
    "from distutils.version import LooseVersion\n",
    "import numpy as np\n",
    "from sklearn.utils import check_random_state\n",
    "\n",
    "def _generate_sample_indices(random_state: int, n_samples: int, n_samples_bootstrap: int):\n",
    "    \"\"\"\n",
    "    Private function used to _parallel_build_trees function.\n",
    "    taken from:\n",
    "    https://github.com/scikit-learn/scikit-learn/blob/2253807bb488b6de73796aef2de38a6dcf282d86/sklearn/ensemble/_forest.py#L116\n",
    "    (public availability to be deprecated by sklearn v0.24)\n",
    "    \"\"\"\n",
    "    random_instance = check_random_state(random_state)\n",
    "    sample_indices = random_instance.randint(0, n_samples, n_samples_bootstrap)\n",
    "\n",
    "    return sample_indices\n",
    "\n",
    "def _generate_unsampled_indices(random_state: int, n_samples: int, n_samples_bootstrap: int):\n",
    "    \"\"\"\n",
    "    Private function used to forest._set_oob_score function.\n",
    "    taken from: \n",
    "    https://github.com/scikit-learn/scikit-learn/blob/2253807bb488b6de73796aef2de38a6dcf282d86/sklearn/ensemble/_forest.py#L126\n",
    "    (public availability to be deprecated by sklearn v0.24)\n",
    "    \"\"\"\n",
    "    sample_indices = _generate_sample_indices(random_state, n_samples,\n",
    "                                              n_samples_bootstrap)\n",
    "    sample_counts = np.bincount(sample_indices, minlength=n_samples)\n",
    "    unsampled_mask = sample_counts == 0\n",
    "    indices_range = np.arange(n_samples)\n",
    "    unsampled_indices = indices_range[unsampled_mask]\n",
    "\n",
    "    return unsampled_indices\n",
    "\n",
    "def _get_unsampled_indices(tree, n_samples: int):\n",
    "    \"\"\"\n",
    "    An interface to get unsampled indices regardless of sklearn version.\n",
    "    \"\"\"\n",
    "    import warnings\n",
    "    warnings.simplefilter(action=\"ignore\", category=FutureWarning)\n",
    "    if LooseVersion(sklearn.__version__) >= LooseVersion(\"0.22\"):\n",
    "        # Version 0.22 or newer uses 3 arguments.\n",
    "        from sklearn.ensemble.forest import _get_n_samples_bootstrap\n",
    "        n_samples_bootstrap = _get_n_samples_bootstrap(n_samples, n_samples)\n",
    "        return _generate_unsampled_indices(tree.random_state, n_samples,\n",
    "                                           n_samples_bootstrap)\n",
    "    else:\n",
    "        # Version 0.21 or older uses only two arguments.\n",
    "        return _generate_unsampled_indices(tree.random_state, n_samples)"
   ]
  },
  {
   "cell_type": "markdown",
   "metadata": {},
   "source": [
    "The following function estimates classifier accuracy and has been borrowed from **[references](#references)**. See **[breitman on oob](https://www.stat.berkeley.edu/~breiman/OOBestimation.pdf)** for details on out-of-bag estimation:"
   ]
  },
  {
   "cell_type": "code",
   "execution_count": 4,
   "metadata": {},
   "outputs": [],
   "source": [
    "def oob_classifier_accuracy(rf, X_train: np.array, y_train: np.array) -> float:\n",
    "    \"\"\"\n",
    "    Compute out-of-bag (OOB) accuracy for a scikit-learn forest classifier.\n",
    "    \n",
    "    https://github.com/scikit-learn/scikit-learn/blob/a24c8b46/sklearn/ensemble/forest.py#L425\n",
    "    \"\"\"\n",
    "    X = X_train.values\n",
    "    y = y_train.values\n",
    "\n",
    "    n_samples = len(X)\n",
    "    n_classes = len(np.unique(y))\n",
    "    predictions = np.zeros((n_samples, n_classes))\n",
    "    for tree in rf.estimators_:\n",
    "        unsampled_indices = _get_unsampled_indices(tree, n_samples)\n",
    "        tree_preds = tree.predict_proba(X[unsampled_indices, :])\n",
    "        predictions[unsampled_indices] += tree_preds\n",
    "\n",
    "    predicted_class_indexes = np.argmax(predictions, axis=1)\n",
    "    predicted_classes = [rf.classes_[i] for i in predicted_class_indexes]\n",
    "\n",
    "    oob_score = np.mean(y == predicted_classes)\n",
    "    \n",
    "    return oob_score"
   ]
  },
  {
   "cell_type": "markdown",
   "metadata": {},
   "source": [
    "Putting it all together:"
   ]
  },
  {
   "cell_type": "code",
   "execution_count": 13,
   "metadata": {},
   "outputs": [],
   "source": [
    "def permutation_importances(\n",
    "    model, \n",
    "    X_train: np.array,\n",
    "    y_train: np.array, \n",
    "    header: List[str],\n",
    "    metric: Callable = oob_classifier_accuracy,\n",
    "    figsz=(10, 5)\n",
    ") -> np.array:\n",
    "    \"\"\"calculate change in metric from permuting feature columns\n",
    "    \n",
    "    modified from https://explained.ai/rf-importance/index.html\n",
    "    \n",
    "    uses a pre-estimated model\n",
    "\n",
    "    :param X_train:     training set features\n",
    "    :param y_train:     training set ground truths, regression targets\n",
    "    :param header:      column labels for X_train\n",
    "    :param figsz:       matplotlib figure size\n",
    "    \n",
    "    \"\"\"\n",
    "    baseline = metric(model, X_train, y_train)\n",
    "    imp = []\n",
    "    for col in X_train.columns:\n",
    "        save = X_train[col].copy()\n",
    "        X_train[col] = np.random.permutation(X_train[col])\n",
    "        m = metric(model, X_train, y_train)\n",
    "        X_train[col] = save\n",
    "        imp.append(baseline - m)\n",
    "        \n",
    "    # create a feature importance table with desired labels\n",
    "    zipped = zip(imp, header)\n",
    "    feature_imp = pd.DataFrame(sorted(zipped), columns=[\"importance\", \"feature\"])\n",
    "    feature_imp.sort_values(by=\"importance\", ascending=False, inplace=True)\n",
    "\n",
    "    plt.clf()\n",
    "    plt.figure(figsize=figsz)\n",
    "    sns.barplot(x=\"importance\", y=\"feature\", data=feature_imp)\n",
    "    plt.title(\"feature permutation importances\")\n",
    "    plt.tight_layout()\n",
    "\n",
    "    return np.array(feature_imp)"
   ]
  },
  {
   "cell_type": "markdown",
   "metadata": {},
   "source": [
    "## drop-column importances\n",
    "\n",
    "According to our **[references](#references)** a more accurate measure of feature importance would have us re-estimate the model after dropping a column.  This is considered as being close to \"ideal\".  Unfortunately, the entire model needs to be re-estimated for each column and without some approximating shortcut this is likely to be infeasible for large datasets.\n",
    "\n",
    "Here is the suggested implementation and **don't run this on big models!**:"
   ]
  },
  {
   "cell_type": "code",
   "execution_count": 14,
   "metadata": {},
   "outputs": [],
   "source": [
    "def dropcol_importances(\n",
    "    model, \n",
    "    X_train: np.array,\n",
    "    y_train: np.array,\n",
    "    header: List[str] = [],\n",
    "    random_state: int = 1994,\n",
    "    figsz=(10, 5)\n",
    ") -> pd.DataFrame:\n",
    "    \"\"\"drop columns and re-estimate model\n",
    "    \n",
    "    modified from https://explained.ai/rf-importance/index.html\n",
    "    \n",
    "    :param rf:         model to fit\n",
    "    :param X_train:    training set features\n",
    "    :param y_train:    training set ground truth labels\n",
    "\n",
    "    Returns:\n",
    "        pd.DataFrame:  table of diffs vs baseline metric\n",
    "    \"\"\"\n",
    "    # cloning makes copy of model pre-fit\n",
    "    # calculate a baseline with all features\n",
    "    model_ = clone(model)\n",
    "    model_.random_state = random_state\n",
    "    model_.fit(X_train, y_train)\n",
    "    baseline = model_.oob_score_\n",
    "    \n",
    "    # now drop each colum, refit model and calc metric\n",
    "    imp = []\n",
    "    for col in X_train.columns:\n",
    "        X = X_train.drop(col, axis=1)\n",
    "        model_ = clone(model)\n",
    "        model_.random_state = random_state\n",
    "        model_.fit(X, y_train)\n",
    "        o = model_.oob_score_\n",
    "        imp.append(baseline - o)\n",
    "    \n",
    "    # put it all in a table\n",
    "    imp = np.array(imp)\n",
    "    feature_imps = pd.DataFrame(\n",
    "        data={'feature': X_train.columns,\n",
    "              'importance': imp})\n",
    "    #feature_imps.set_index('feature', inplace=True)\n",
    "    feature_imps.sort_values('importance', ascending=True, inplace=True)\n",
    "    \n",
    "    plt.clf()\n",
    "    plt.figure(figsize=figsz)\n",
    "    sns.barplot(x=\"importance\", y=\"feature\", data=feature_imps)\n",
    "    plt.title(\"drop column feature importances\")\n",
    "    plt.tight_layout()\n",
    "    \n",
    "    return feature_imps"
   ]
  },
  {
   "cell_type": "markdown",
   "metadata": {},
   "source": [
    "## demonstration\n",
    "\n",
    "In this demonstratuon we are going to take a fraction of a fraction of **[Kaggle's RentHop rental listing interest competition](https://www.kaggle.com/c/two-sigma-connect-rental-listing-inquiries)**--the complete dataset is presently >80GB, we'll be looking at 5K rows.  \n",
    "\n",
    "The competition's **[goal](https://www.kaggle.com/c/two-sigma-connect-rental-listing-inquiries)** was\n",
    "> to predict the number of inquiries a new listing receives based on the listing’s creation date and other features.  \n",
    "\n",
    "Doing so would help **[RentHop](https://www.renthop.com/)**\n",
    "> better handle fraud control, identify potential listing quality issues, and allow owners and agents to better understand renters’ needs and preferences."
   ]
  },
  {
   "cell_type": "code",
   "execution_count": 15,
   "metadata": {},
   "outputs": [],
   "source": [
    "data = \"/User/artifacts/two-sigma-connect-rental-listing-inquiries/\"\n",
    "NFRAC = 0.1"
   ]
  },
  {
   "cell_type": "code",
   "execution_count": 16,
   "metadata": {},
   "outputs": [
    {
     "name": "stdout",
     "output_type": "stream",
     "text": [
      "sample dimensions (4935, 6)\n"
     ]
    },
    {
     "data": {
      "text/html": [
       "<div>\n",
       "<style scoped>\n",
       "    .dataframe tbody tr th:only-of-type {\n",
       "        vertical-align: middle;\n",
       "    }\n",
       "\n",
       "    .dataframe tbody tr th {\n",
       "        vertical-align: top;\n",
       "    }\n",
       "\n",
       "    .dataframe thead th {\n",
       "        text-align: right;\n",
       "    }\n",
       "</style>\n",
       "<table border=\"1\" class=\"dataframe\">\n",
       "  <thead>\n",
       "    <tr style=\"text-align: right;\">\n",
       "      <th></th>\n",
       "      <th>bathrooms</th>\n",
       "      <th>bedrooms</th>\n",
       "      <th>price</th>\n",
       "      <th>longitude</th>\n",
       "      <th>latitude</th>\n",
       "      <th>interest_level</th>\n",
       "    </tr>\n",
       "  </thead>\n",
       "  <tbody>\n",
       "    <tr>\n",
       "      <th>18235</th>\n",
       "      <td>1.0</td>\n",
       "      <td>0</td>\n",
       "      <td>1800</td>\n",
       "      <td>-73.9960</td>\n",
       "      <td>40.7197</td>\n",
       "      <td>2</td>\n",
       "    </tr>\n",
       "    <tr>\n",
       "      <th>42140</th>\n",
       "      <td>1.0</td>\n",
       "      <td>2</td>\n",
       "      <td>3000</td>\n",
       "      <td>-73.9879</td>\n",
       "      <td>40.7653</td>\n",
       "      <td>3</td>\n",
       "    </tr>\n",
       "    <tr>\n",
       "      <th>4677</th>\n",
       "      <td>1.0</td>\n",
       "      <td>1</td>\n",
       "      <td>1350</td>\n",
       "      <td>-73.8996</td>\n",
       "      <td>40.8549</td>\n",
       "      <td>2</td>\n",
       "    </tr>\n",
       "  </tbody>\n",
       "</table>\n",
       "</div>"
      ],
      "text/plain": [
       "       bathrooms  bedrooms  price  longitude  latitude  interest_level\n",
       "18235        1.0         0   1800   -73.9960   40.7197               2\n",
       "42140        1.0         2   3000   -73.9879   40.7653               3\n",
       "4677         1.0         1   1350   -73.8996   40.8549               2"
      ]
     },
     "execution_count": 16,
     "metadata": {},
     "output_type": "execute_result"
    }
   ],
   "source": [
    "df = pd.read_csv(data + 'rent.csv').sample(frac=NFRAC)\n",
    "print(\"sample dimensions\", df.shape)\n",
    "df.head(3)"
   ]
  },
  {
   "cell_type": "code",
   "execution_count": 17,
   "metadata": {},
   "outputs": [],
   "source": [
    "features = ['bathrooms', 'bedrooms', 'longitude', 'latitude', 'price']\n",
    "dfr = df[features]\n",
    "\n",
    "# drop price column\n",
    "X_train, y_train = dfr.drop('price', axis=1), dfr['price']\n",
    "\n",
    "# insert column with random values\n",
    "X_train['random'] = np.random.random(size=len(X_train))\n",
    "features = ['bathrooms', 'bedrooms', 'longitude', 'latitude', 'random']"
   ]
  },
  {
   "cell_type": "code",
   "execution_count": 18,
   "metadata": {},
   "outputs": [
    {
     "data": {
      "text/plain": [
       "RandomForestClassifier(n_jobs=-1, oob_score=True)"
      ]
     },
     "execution_count": 18,
     "metadata": {},
     "output_type": "execute_result"
    }
   ],
   "source": [
    "# define model\n",
    "model_params = {\n",
    "    \"n_estimators\"     : 100, \n",
    "    \"min_samples_leaf\" : 1,\n",
    "    \"n_jobs\"           : -1,\n",
    "    \"oob_score\"        : True\n",
    "}\n",
    "\n",
    "model = SomeModel(**model_params)\n",
    "\n",
    "# estimate\n",
    "model.fit(X_train, y_train)"
   ]
  },
  {
   "cell_type": "markdown",
   "metadata": {},
   "source": [
    "### to run this the model needs a default attribute"
   ]
  },
  {
   "cell_type": "code",
   "execution_count": 19,
   "metadata": {},
   "outputs": [
    {
     "name": "stdout",
     "output_type": "stream",
     "text": [
      "default feature_importances [0.01683784 0.03215169 0.29983429 0.30418813 0.34698806]\n"
     ]
    },
    {
     "data": {
      "text/plain": [
       "<Figure size 432x288 with 0 Axes>"
      ]
     },
     "metadata": {},
     "output_type": "display_data"
    },
    {
     "data": {
      "image/png": "[encoded data removed]",
      "text/plain": [
       "<Figure size 720x360 with 1 Axes>"
      ]
     },
     "metadata": {
      "needs_background": "light"
     },
     "output_type": "display_data"
    }
   ],
   "source": [
    "if hasattr(model, \"feature_importances_\"):\n",
    "    print(\"default feature_importances\", model.feature_importances_)\n",
    "    feature_importances(model, features)"
   ]
  },
  {
   "cell_type": "markdown",
   "metadata": {},
   "source": [
    "## permutation importances\n",
    "\n",
    "No need to check for default attributes or functions, this can be run on any kind of model:"
   ]
  },
  {
   "cell_type": "code",
   "execution_count": 20,
   "metadata": {},
   "outputs": [
    {
     "data": {
      "text/plain": [
       "array([[0.06545086119554205, 'longitude'],\n",
       "       [0.06160081053698076, 'latitude'],\n",
       "       [0.053495440729483285, 'bedrooms'],\n",
       "       [0.021681864235055734, 'bathrooms'],\n",
       "       [0.0004052684903748799, 'random']], dtype=object)"
      ]
     },
     "execution_count": 20,
     "metadata": {},
     "output_type": "execute_result"
    },
    {
     "data": {
      "text/plain": [
       "<Figure size 432x288 with 0 Axes>"
      ]
     },
     "metadata": {},
     "output_type": "display_data"
    },
    {
     "data": {
      "image/png": "[encoded data removed]",
      "text/plain": [
       "<Figure size 720x360 with 1 Axes>"
      ]
     },
     "metadata": {
      "needs_background": "light"
     },
     "output_type": "display_data"
    }
   ],
   "source": [
    "pi = permutation_importances(model, X_train, y_train, features)\n",
    "pi"
   ]
  },
  {
   "cell_type": "markdown",
   "metadata": {},
   "source": [
    "## drop-column importances"
   ]
  },
  {
   "cell_type": "code",
   "execution_count": 21,
   "metadata": {},
   "outputs": [
    {
     "data": {
      "text/html": [
       "<div>\n",
       "<style scoped>\n",
       "    .dataframe tbody tr th:only-of-type {\n",
       "        vertical-align: middle;\n",
       "    }\n",
       "\n",
       "    .dataframe tbody tr th {\n",
       "        vertical-align: top;\n",
       "    }\n",
       "\n",
       "    .dataframe thead th {\n",
       "        text-align: right;\n",
       "    }\n",
       "</style>\n",
       "<table border=\"1\" class=\"dataframe\">\n",
       "  <thead>\n",
       "    <tr style=\"text-align: right;\">\n",
       "      <th></th>\n",
       "      <th>feature</th>\n",
       "      <th>importance</th>\n",
       "    </tr>\n",
       "  </thead>\n",
       "  <tbody>\n",
       "    <tr>\n",
       "      <th>4</th>\n",
       "      <td>random</td>\n",
       "      <td>-0.042756</td>\n",
       "    </tr>\n",
       "    <tr>\n",
       "      <th>0</th>\n",
       "      <td>bathrooms</td>\n",
       "      <td>0.001824</td>\n",
       "    </tr>\n",
       "    <tr>\n",
       "      <th>1</th>\n",
       "      <td>bedrooms</td>\n",
       "      <td>0.023100</td>\n",
       "    </tr>\n",
       "    <tr>\n",
       "      <th>2</th>\n",
       "      <td>longitude</td>\n",
       "      <td>0.049240</td>\n",
       "    </tr>\n",
       "    <tr>\n",
       "      <th>3</th>\n",
       "      <td>latitude</td>\n",
       "      <td>0.051874</td>\n",
       "    </tr>\n",
       "  </tbody>\n",
       "</table>\n",
       "</div>"
      ],
      "text/plain": [
       "     feature  importance\n",
       "4     random   -0.042756\n",
       "0  bathrooms    0.001824\n",
       "1   bedrooms    0.023100\n",
       "2  longitude    0.049240\n",
       "3   latitude    0.051874"
      ]
     },
     "execution_count": 21,
     "metadata": {},
     "output_type": "execute_result"
    },
    {
     "data": {
      "text/plain": [
       "<Figure size 432x288 with 0 Axes>"
      ]
     },
     "metadata": {},
     "output_type": "display_data"
    },
    {
     "data": {
      "image/png": "[encoded data removed]",
      "text/plain": [
       "<Figure size 720x360 with 1 Axes>"
      ]
     },
     "metadata": {
      "needs_background": "light"
     },
     "output_type": "display_data"
    }
   ],
   "source": [
    "dc = dropcol_importances(model, X_train, y_train)\n",
    "dc"
   ]
  },
  {
   "cell_type": "markdown",
   "metadata": {},
   "source": [
    "## conclusions"
   ]
  },
  {
   "cell_type": "markdown",
   "metadata": {},
   "source": [
    "So I would say location is a prime factor, then the number of bedrooms.  Bathrooms often is gte bedrooms, and is likely correlated so one of them should likely be dropped."
   ]
  },
  {
   "cell_type": "code",
   "execution_count": null,
   "metadata": {},
   "outputs": [],
   "source": []
  }
 ],
 "metadata": {
  "kernelspec": {
   "display_name": "Python 3",
   "language": "python",
   "name": "python3"
  },
  "language_info": {
   "codemirror_mode": {
    "name": "ipython",
    "version": 3
   },
   "file_extension": ".py",
   "mimetype": "text/x-python",
   "name": "python",
   "nbconvert_exporter": "python",
   "pygments_lexer": "ipython3",
   "version": "3.6.8"
  },
  "toc-autonumbering": false,
  "toc-showcode": false,
  "toc-showmarkdowntxt": false
 },
 "nbformat": 4,
 "nbformat_minor": 4
}
