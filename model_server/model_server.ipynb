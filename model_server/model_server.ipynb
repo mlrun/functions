{
 "cells": [
  {
   "cell_type": "markdown",
   "metadata": {},
   "source": [
    "# Model Server"
   ]
  },
  {
   "cell_type": "code",
   "execution_count": 1,
   "metadata": {},
   "outputs": [],
   "source": [
    "from sklearn.datasets import load_iris\n",
    "from sklearn.model_selection import train_test_split\n",
    "from sklearn.preprocessing import StandardScaler\n",
    "from sklearn.linear_model import LogisticRegression\n",
    "from sklearn.metrics import accuracy_score\n",
    "import pickle\n",
    "import mlrun\n",
    "import os\n",
    "import requests\n",
    "import json"
   ]
  },
  {
   "cell_type": "code",
   "execution_count": 2,
   "metadata": {},
   "outputs": [],
   "source": [
    "def gen_model():\n",
    "    # Getting the data\n",
    "    X,y = load_iris(return_X_y=True)\n",
    "    X_train,X_test,y_train,y_test=train_test_split(X,y,test_size=0.2,random_state=123)\n",
    "    # transforming the data\n",
    "    sc = StandardScaler()\n",
    "    X_train = sc.fit_transform(X_train)\n",
    "    X_test = sc.transform(X_test)\n",
    "    # Getting the model and training it\n",
    "    classifier = LogisticRegression(random_state = 0, solver='lbfgs', multi_class='auto')\n",
    "    classifier.fit(X_train, y_train)\n",
    "    # saving the model\n",
    "    filename = os.getcwd()+'/model.pkl'\n",
    "    pickle.dump(classifier, open(filename, 'wb'))\n",
    "    return X_test,y_test"
   ]
  },
  {
   "cell_type": "code",
   "execution_count": 7,
   "metadata": {},
   "outputs": [],
   "source": [
    "def test_remote_model_server():\n",
    "    x,y = gen_model()\n",
    "    fn = mlrun.import_function('hub://model_server:development').apply(mlrun.auto_mount())\n",
    "    fn.add_model('iris',model_path = os.getcwd()+'/model.pkl')\n",
    "    fn.set_envs({'MODEL_CLASS': \"ClassifierModel\"})\n",
    "    address = fn.deploy()\n",
    "    my_dict = {'instances':x.tolist()}\n",
    "    predict_url = address+\"/iris/predict\"\n",
    "    ans = requests.post(url = predict_url,json = my_dict).text\n",
    "    assert(accuracy_score(y,json.loads(ans)) > 0.8)\n",
    "    if(accuracy_score(y,json.loads(ans)) > 0.8):\n",
    "        print('yes')\n",
    "    else:\n",
    "        print('no')"
   ]
  },
  {
   "cell_type": "code",
   "execution_count": 8,
   "metadata": {},
   "outputs": [
    {
     "name": "stdout",
     "output_type": "stream",
     "text": [
      "> 2021-08-11 11:57:56,345 [info] Starting remote function deploy\n",
      "2021-08-11 11:57:56  (info) Deploying function\n",
      "2021-08-11 11:57:56  (info) Building\n",
      "2021-08-11 11:57:56  (info) Staging files and preparing base images\n",
      "2021-08-11 11:57:56  (info) Building processor image\n",
      "2021-08-11 11:57:58  (info) Build complete\n",
      "2021-08-11 11:58:21  (info) Function deploy complete\n",
      "> 2021-08-11 11:58:22,878 [info] function deployed, address=default-tenant.app.dev39.lab.iguazeng.com:30024\n",
      "yes\n"
     ]
    }
   ],
   "source": [
    "test_remote_model_server()"
   ]
  },
  {
   "cell_type": "code",
   "execution_count": null,
   "metadata": {},
   "outputs": [],
   "source": []
  }
 ],
 "metadata": {
  "kernelspec": {
   "display_name": "Python 3",
   "language": "python",
   "name": "python3"
  },
  "language_info": {
   "codemirror_mode": {
    "name": "ipython",
    "version": 3
   },
   "file_extension": ".py",
   "mimetype": "text/x-python",
   "name": "python",
   "nbconvert_exporter": "python",
   "pygments_lexer": "ipython3",
   "version": "3.7.6"
  }
 },
 "nbformat": 4,
 "nbformat_minor": 4
}
