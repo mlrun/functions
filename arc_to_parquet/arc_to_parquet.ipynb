{
 "cells": [
  {
   "cell_type": "markdown",
   "metadata": {},
   "source": [
    "# archive to parquet file"
   ]
  },
  {
   "cell_type": "code",
   "execution_count": 13,
   "metadata": {},
   "outputs": [],
   "source": [
    "MLRUN_COMMIT = \"v0.4.5\"\n",
    "\n",
    "import mlrun\n",
    "\n",
    "mlrun.mlconf.dbpath = \"http://mlrun-api:8080\"\n",
    "\n",
    "arctoparq = mlrun.code_to_function(\n",
    "    name='arc_to_parq',\n",
    "    tag='development',\n",
    "    filename='arc_to_parquet.py',\n",
    "    handler='arc_to_parquet',\n",
    "    image=f\"yjbds/mlrun-base:{MLRUN_COMMIT}\",\n",
    "    kind=\"job\") \n",
    "\n",
    "arctoparq.export('arc_to_parquet.yaml')"
   ]
  }
 ],
 "metadata": {
  "kernelspec": {
   "display_name": "Python 3",
   "language": "python",
   "name": "python3"
  },
  "language_info": {
   "codemirror_mode": {
    "name": "ipython",
    "version": 3
   },
   "file_extension": ".py",
   "mimetype": "text/x-python",
   "name": "python",
   "nbconvert_exporter": "python",
   "pygments_lexer": "ipython3",
   "version": "3.6.8"
  }
 },
 "nbformat": 4,
 "nbformat_minor": 4
}
