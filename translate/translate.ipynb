{
 "cells": [
  {
   "cell_type": "markdown",
   "id": "6d3c20aa-7129-4905-beaa-7011943373f5",
   "metadata": {},
   "source": [
    "# Translate tutorial"
   ]
  },
  {
   "cell_type": "markdown",
   "id": "313ed5c3-7416-4bbb-a7fb-aa37ab1f8445",
   "metadata": {},
   "source": [
    "Imagine a translation function that's as smart as it is easy to use – that's exactly what translate brings to the table.<br>\n",
    "Simply tell it where your file is and the languages you're working with (the one you're translating from and the one you want),<br> and this function takes care of the rest. It cleverly picks the right pre-trained model for your language pair, ensuring top-notch translations.<br>No need to worry about finding the perfect model or dealing with complex setup – it's all handled behind the scenes.<br> With this function, language translation becomes a breeze, making your documents accessible in any language without breaking a sweat."
   ]
  },
  {
   "cell_type": "code",
   "execution_count": 1,
   "id": "797ef0d4-f435-485c-b705-e1d6115fb8fd",
   "metadata": {},
   "outputs": [],
   "source": [
    "import mlrun"
   ]
  },
  {
   "cell_type": "markdown",
   "id": "1ff51127-dc54-44d2-bd13-0b81165b2033",
   "metadata": {},
   "source": [
    "## Writing a data file to translate\n",
    "We want to translate the following turkish sentence into english."
   ]
  },
  {
   "cell_type": "code",
   "execution_count": 2,
   "id": "f9517cc8-a0d6-4169-b746-cf4c265e6a3b",
   "metadata": {},
   "outputs": [
    {
     "name": "stdout",
     "output_type": "stream",
     "text": [
      "Writing data.txt\n"
     ]
    }
   ],
   "source": [
    "%%writefile data.txt\n",
    "Ali her gece bir kitap okur."
   ]
  },
  {
   "cell_type": "markdown",
   "id": "c24d71a7-9400-475a-9472-424658801914",
   "metadata": {},
   "source": [
    "## Setting a project and importing the translate function"
   ]
  },
  {
   "cell_type": "code",
   "execution_count": 4,
   "id": "e61184ea-44a3-4184-9a2f-9c45b90fdc0f",
   "metadata": {},
   "outputs": [
    {
     "name": "stdout",
     "output_type": "stream",
     "text": [
      "> 2023-12-06 14:44:05,223 [info] Created and saved project: {'name': 'test-translate', 'from_template': None, 'overwrite': False, 'context': './', 'save': True}\n"
     ]
    }
   ],
   "source": [
    "project = mlrun.new_project(\"test-translate\")\n",
    "translate_fn = project.set_function(\"hub://translate\", \"translate\")"
   ]
  },
  {
   "cell_type": "markdown",
   "id": "5a1781ee-a210-4dc1-82de-0f4f5d191173",
   "metadata": {},
   "source": [
    "## Translating\n",
    "Here we run our function that we've imported from the MLRun Function Hub."
   ]
  },
  {
   "cell_type": "code",
   "execution_count": 8,
   "id": "9b3107fd-b78d-43de-b4a2-ad3863f72a03",
   "metadata": {},
   "outputs": [
    {
     "name": "stdout",
     "output_type": "stream",
     "text": [
      "> 2023-12-06 14:48:52,794 [info] Storing function: {'name': 'translate-translate', 'uid': '5768d0ddaf06469da053c85d47f61a47', 'db': 'http://mlrun-api:8080'}\n"
     ]
    },
    {
     "name": "stderr",
     "output_type": "stream",
     "text": [
      "Recommended: pip install sacremoses.\n"
     ]
    },
    {
     "name": "stdout",
     "output_type": "stream",
     "text": [
      "> 2023-12-06 14:48:56,190 [warning] Skipping logging an object with the log hint '{'key': 'errors', 'artifact_type': 'dict'}' due to the following error:\n",
      "An exception was raised during the packing of '{}': No packager was found for the combination of 'object_type=builtins.dict' and 'artifact_type=dict'.\n"
     ]
    },
    {
     "data": {
      "text/html": [
       "<style>\n",
       ".dictlist {\n",
       "  background-color: #4EC64B;\n",
       "  text-align: center;\n",
       "  margin: 4px;\n",
       "  border-radius: 3px; padding: 0px 3px 1px 3px; display: inline-block;}\n",
       ".artifact {\n",
       "  cursor: pointer;\n",
       "  background-color: #4EC64B;\n",
       "  text-align: left;\n",
       "  margin: 4px; border-radius: 3px; padding: 0px 3px 1px 3px; display: inline-block;\n",
       "}\n",
       "div.block.hidden {\n",
       "  display: none;\n",
       "}\n",
       ".clickable {\n",
       "  cursor: pointer;\n",
       "}\n",
       ".ellipsis {\n",
       "  display: inline-block;\n",
       "  max-width: 60px;\n",
       "  white-space: nowrap;\n",
       "  overflow: hidden;\n",
       "  text-overflow: ellipsis;\n",
       "}\n",
       ".master-wrapper {\n",
       "  display: flex;\n",
       "  flex-flow: row nowrap;\n",
       "  justify-content: flex-start;\n",
       "  align-items: stretch;\n",
       "}\n",
       ".master-tbl {\n",
       "  flex: 3\n",
       "}\n",
       ".master-wrapper > div {\n",
       "  margin: 4px;\n",
       "  padding: 10px;\n",
       "}\n",
       "iframe.fileview {\n",
       "  border: 0 none;\n",
       "  height: 100%;\n",
       "  width: 100%;\n",
       "  white-space: pre-wrap;\n",
       "}\n",
       ".pane-header-title {\n",
       "  width: 80%;\n",
       "  font-weight: 500;\n",
       "}\n",
       ".pane-header {\n",
       "  line-height: 1;\n",
       "  background-color: #4EC64B;\n",
       "  padding: 3px;\n",
       "}\n",
       ".pane-header .close {\n",
       "  font-size: 20px;\n",
       "  font-weight: 700;\n",
       "  float: right;\n",
       "  margin-top: -5px;\n",
       "}\n",
       ".master-wrapper .right-pane {\n",
       "  border: 1px inset silver;\n",
       "  width: 40%;\n",
       "  min-height: 300px;\n",
       "  flex: 3\n",
       "  min-width: 500px;\n",
       "}\n",
       ".master-wrapper * {\n",
       "  box-sizing: border-box;\n",
       "}\n",
       "</style><script>\n",
       "function copyToClipboard(fld) {\n",
       "    if (document.queryCommandSupported && document.queryCommandSupported('copy')) {\n",
       "        var textarea = document.createElement('textarea');\n",
       "        textarea.textContent = fld.innerHTML;\n",
       "        textarea.style.position = 'fixed';\n",
       "        document.body.appendChild(textarea);\n",
       "        textarea.select();\n",
       "\n",
       "        try {\n",
       "            return document.execCommand('copy'); // Security exception may be thrown by some browsers.\n",
       "        } catch (ex) {\n",
       "\n",
       "        } finally {\n",
       "            document.body.removeChild(textarea);\n",
       "        }\n",
       "    }\n",
       "}\n",
       "function expandPanel(el) {\n",
       "  const panelName = \"#\" + el.getAttribute('paneName');\n",
       "  console.log(el.title);\n",
       "\n",
       "  document.querySelector(panelName + \"-title\").innerHTML = el.title\n",
       "  iframe = document.querySelector(panelName + \"-body\");\n",
       "\n",
       "  const tblcss = `<style> body { font-family: Arial, Helvetica, sans-serif;}\n",
       "    #csv { margin-bottom: 15px; }\n",
       "    #csv table { border-collapse: collapse;}\n",
       "    #csv table td { padding: 4px 8px; border: 1px solid silver;} </style>`;\n",
       "\n",
       "  function csvToHtmlTable(str) {\n",
       "    return '<div id=\"csv\"><table><tr><td>' +  str.replace(/[\\n\\r]+$/g, '').replace(/[\\n\\r]+/g, '</td></tr><tr><td>')\n",
       "      .replace(/,/g, '</td><td>') + '</td></tr></table></div>';\n",
       "  }\n",
       "\n",
       "  function reqListener () {\n",
       "    if (el.title.endsWith(\".csv\")) {\n",
       "      iframe.setAttribute(\"srcdoc\", tblcss + csvToHtmlTable(this.responseText));\n",
       "    } else {\n",
       "      iframe.setAttribute(\"srcdoc\", this.responseText);\n",
       "    }\n",
       "    console.log(this.responseText);\n",
       "  }\n",
       "\n",
       "  const oReq = new XMLHttpRequest();\n",
       "  oReq.addEventListener(\"load\", reqListener);\n",
       "  oReq.open(\"GET\", el.title);\n",
       "  oReq.send();\n",
       "\n",
       "\n",
       "  //iframe.src = el.title;\n",
       "  const resultPane = document.querySelector(panelName + \"-pane\");\n",
       "  if (resultPane.classList.contains(\"hidden\")) {\n",
       "    resultPane.classList.remove(\"hidden\");\n",
       "  }\n",
       "}\n",
       "function closePanel(el) {\n",
       "  const panelName = \"#\" + el.getAttribute('paneName')\n",
       "  const resultPane = document.querySelector(panelName + \"-pane\");\n",
       "  if (!resultPane.classList.contains(\"hidden\")) {\n",
       "    resultPane.classList.add(\"hidden\");\n",
       "  }\n",
       "}\n",
       "\n",
       "</script>\n",
       "<div class=\"master-wrapper\">\n",
       "  <div class=\"block master-tbl\"><div>\n",
       "<style scoped>\n",
       "    .dataframe tbody tr th:only-of-type {\n",
       "        vertical-align: middle;\n",
       "    }\n",
       "\n",
       "    .dataframe tbody tr th {\n",
       "        vertical-align: top;\n",
       "    }\n",
       "\n",
       "    .dataframe thead th {\n",
       "        text-align: right;\n",
       "    }\n",
       "</style>\n",
       "<table border=\"1\" class=\"dataframe\">\n",
       "  <thead>\n",
       "    <tr style=\"text-align: right;\">\n",
       "      <th>project</th>\n",
       "      <th>uid</th>\n",
       "      <th>iter</th>\n",
       "      <th>start</th>\n",
       "      <th>state</th>\n",
       "      <th>name</th>\n",
       "      <th>labels</th>\n",
       "      <th>inputs</th>\n",
       "      <th>parameters</th>\n",
       "      <th>results</th>\n",
       "      <th>artifacts</th>\n",
       "    </tr>\n",
       "  </thead>\n",
       "  <tbody>\n",
       "    <tr>\n",
       "      <td>test-translate</td>\n",
       "      <td><div title=\"5768d0ddaf06469da053c85d47f61a47\"><a href=\"https://dashboard.default-tenant.app.llm2.iguazio-cd0.com/mlprojects/test-translate/jobs/monitor/5768d0ddaf06469da053c85d47f61a47/overview\" target=\"_blank\" >...47f61a47</a></div></td>\n",
       "      <td>0</td>\n",
       "      <td>Dec 06 14:48:52</td>\n",
       "      <td>completed</td>\n",
       "      <td>translate-translate</td>\n",
       "      <td><div class=\"dictlist\">v3io_user=yonis</div><div class=\"dictlist\">kind=local</div><div class=\"dictlist\">owner=yonis</div><div class=\"dictlist\">host=jupyter-yonis-7c9bdbfb4d-9g2p2</div></td>\n",
       "      <td><div class=\"artifact\" onclick=\"expandPanel(this)\" paneName=\"resulta746a04e\" title=\"/files/translate/data.txt\">data_path</div></td>\n",
       "      <td><div class=\"dictlist\">model_name=Helsinki-NLP/opus-mt-tr-en</div><div class=\"dictlist\">device=cpu</div><div class=\"dictlist\">output_directory=./</div></td>\n",
       "      <td></td>\n",
       "      <td><div title=\"v3io:///projects/test-translate/artifacts/translate-translate/0/files\">files</div><div title=\"v3io:///projects/test-translate/artifacts/translate-translate/0/text_files_dataframe.parquet\">text_files_dataframe</div></td>\n",
       "    </tr>\n",
       "  </tbody>\n",
       "</table>\n",
       "</div></div>\n",
       "  <div id=\"resulta746a04e-pane\" class=\"right-pane block hidden\">\n",
       "    <div class=\"pane-header\">\n",
       "      <span id=\"resulta746a04e-title\" class=\"pane-header-title\">Title</span>\n",
       "      <span onclick=\"closePanel(this)\" paneName=\"resulta746a04e\" class=\"close clickable\">&times;</span>\n",
       "    </div>\n",
       "    <iframe class=\"fileview\" id=\"resulta746a04e-body\"></iframe>\n",
       "  </div>\n",
       "</div>\n"
      ],
      "text/plain": [
       "<IPython.core.display.HTML object>"
      ]
     },
     "metadata": {},
     "output_type": "display_data"
    },
    {
     "name": "stdout",
     "output_type": "stream",
     "text": [
      "\n"
     ]
    },
    {
     "data": {
      "text/html": [
       "<b> > to track results use the .show() or .logs() methods  or <a href=\"https://dashboard.default-tenant.app.llm2.iguazio-cd0.com/mlprojects/test-translate/jobs/monitor/5768d0ddaf06469da053c85d47f61a47/overview\" target=\"_blank\">click here</a> to open in UI</b>"
      ],
      "text/plain": [
       "<IPython.core.display.HTML object>"
      ]
     },
     "metadata": {},
     "output_type": "display_data"
    },
    {
     "name": "stdout",
     "output_type": "stream",
     "text": [
      "> 2023-12-06 14:48:56,409 [info] Run execution finished: {'status': 'completed', 'name': 'translate-translate'}\n"
     ]
    }
   ],
   "source": [
    "translate_run = translate_fn.run(\n",
    "    handler=\"translate\",\n",
    "    inputs={\"data_path\": \"data.txt\"},\n",
    "    params={\n",
    "        \"model_name\": \"Helsinki-NLP/opus-mt-tr-en\",\n",
    "        \"device\": \"cpu\",\n",
    "        \"output_directory\": \"./\",\n",
    "    },\n",
    "    local=True,\n",
    "    returns=[\n",
    "        \"files: path\",\n",
    "        \"text_files_dataframe: dataset\",\n",
    "        \"errors: dict\",\n",
    "    ],\n",
    ")"
   ]
  },
  {
   "cell_type": "code",
   "execution_count": 9,
   "id": "c3dab6f8-6089-46c2-b4b9-899a2442403f",
   "metadata": {},
   "outputs": [
    {
     "data": {
      "text/html": [
       "<div>\n",
       "<style scoped>\n",
       "    .dataframe tbody tr th:only-of-type {\n",
       "        vertical-align: middle;\n",
       "    }\n",
       "\n",
       "    .dataframe tbody tr th {\n",
       "        vertical-align: top;\n",
       "    }\n",
       "\n",
       "    .dataframe thead th {\n",
       "        text-align: right;\n",
       "    }\n",
       "</style>\n",
       "<table border=\"1\" class=\"dataframe\">\n",
       "  <thead>\n",
       "    <tr style=\"text-align: right;\">\n",
       "      <th></th>\n",
       "      <th>text_file</th>\n",
       "      <th>translation_file</th>\n",
       "    </tr>\n",
       "  </thead>\n",
       "  <tbody>\n",
       "    <tr>\n",
       "      <th>0</th>\n",
       "      <td>data.txt</td>\n",
       "      <td>data_2.txt</td>\n",
       "    </tr>\n",
       "  </tbody>\n",
       "</table>\n",
       "</div>"
      ],
      "text/plain": [
       "  text_file translation_file\n",
       "0  data.txt       data_2.txt"
      ]
     },
     "metadata": {},
     "output_type": "display_data"
    }
   ],
   "source": [
    "translate_run.artifact(\"text_files_dataframe\").show()"
   ]
  },
  {
   "cell_type": "markdown",
   "id": "580a20a2-4877-48b4-8f83-59cbfc2f3b83",
   "metadata": {},
   "source": [
    "Checking that translation is correct"
   ]
  },
  {
   "cell_type": "code",
   "execution_count": 11,
   "id": "0157bcaf-8f2c-4995-a214-32f2710da4c9",
   "metadata": {},
   "outputs": [
    {
     "name": "stdout",
     "output_type": "stream",
     "text": [
      "Translated text:\n",
      "Ali reads a book every night.\n",
      "\n"
     ]
    }
   ],
   "source": [
    "with open(\"data_2.txt\", \"r\") as f:\n",
    "    print(f\"Translated text:\\n{f.read()}\")"
   ]
  }
 ],
 "metadata": {
  "kernelspec": {
   "display_name": "mlrun-base",
   "language": "python",
   "name": "conda-env-mlrun-base-py"
  },
  "language_info": {
   "codemirror_mode": {
    "name": "ipython",
    "version": 3
   },
   "file_extension": ".py",
   "mimetype": "text/x-python",
   "name": "python",
   "nbconvert_exporter": "python",
   "pygments_lexer": "ipython3",
   "version": "3.9.16"
  }
 },
 "nbformat": 4,
 "nbformat_minor": 5
}
