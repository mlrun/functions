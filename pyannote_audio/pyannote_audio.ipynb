{
 "cells": [
  {
   "cell_type": "markdown",
   "id": "4f17e477-db37-41b6-a76e-c69dbeea53db",
   "metadata": {},
   "source": [
    "# Speech diarization example notebook"
   ]
  },
  {
   "cell_type": "markdown",
   "id": "46e7131b-42fe-4f3c-a268-08d6d4ff9cdf",
   "metadata": {},
   "source": [
    "In this notebook we will utilize a call diarization capability to get per-speaker speech durations from a call recording.<br>\n",
    "This can be useful for quantifying participation rates in calls for things like customer service analysis.<br>\n",
    "\n",
    "We will demonstrate this by:<br>\n",
    "\n",
    "1. Loading in a sample call recording between multiple participants\n",
    "2. Using a diarize() function to automatically detect speakers and estimate per-speaker talk time\n",
    "3. Return a dictionary of described results, and a df of errors\n"
   ]
  },
  {
   "cell_type": "code",
   "execution_count": 1,
   "id": "53d25661-15eb-40c0-8ec8-4af9838c1d04",
   "metadata": {},
   "outputs": [],
   "source": [
    "import os\n",
    "import mlrun"
   ]
  },
  {
   "cell_type": "code",
   "execution_count": 4,
   "id": "68b84d16-d0aa-4e86-a716-5d92e38c9236",
   "metadata": {},
   "outputs": [],
   "source": [
    "# To use the `pyannote.audio` models you must pass a Huggingface token and get access to the required models. The\n",
    "#    token can be passed in one of the following options:\n",
    "#\n",
    "#    * Use the parameter `access_token`.\n",
    "#    * Set an environment variable named \"HUGGING_FACE_HUB_TOKEN\".\n",
    "#    * If using MLRun, you can pass it as a secret named \"HUGGING_FACE_HUB_TOKEN\".\n",
    "os.environ[\"HUGGING_FACE_HUB_TOKEN\"] = <\"add your token here\">\n"
   ]
  },
  {
   "cell_type": "code",
   "execution_count": 5,
   "id": "2a0b1f97-6fba-400f-aacf-fe1da28e35d0",
   "metadata": {},
   "outputs": [
    {
     "name": "stdout",
     "output_type": "stream",
     "text": [
      "> 2023-12-05 15:28:51,758 [info] Project loaded successfully: {'project_name': 'diarization-test'}\n"
     ]
    }
   ],
   "source": [
    "# Create an mlrun project\n",
    "project = mlrun.get_or_create_project(\"diarization-test\")\n",
    "\n",
    "# Import the function from the yaml file, once it's in the the we can import from there \n",
    "speech_diarization = project.set_function(func=\"hub://speech_diarization\", name=\"speech_diarization\")"
   ]
  },
  {
   "cell_type": "code",
   "execution_count": 6,
   "id": "50d9a797-a3f2-4824-b6e2-8245f6e30b17",
   "metadata": {},
   "outputs": [],
   "source": [
    "# Set the desired run params and files\n",
    "audio_files = os.path.join(\"test_data.wav\")\n",
    "device = \"cpu\"\n",
    "speakers_labels = [\"Agent\", \"Client\"]\n",
    "separate_by_channels = True"
   ]
  },
  {
   "cell_type": "code",
   "execution_count": 7,
   "id": "110080e5-3f54-4117-a61b-0e09f1422b1b",
   "metadata": {},
   "outputs": [
    {
     "name": "stdout",
     "output_type": "stream",
     "text": [
      "> 2023-12-05 15:28:52,229 [info] Storing function: {'name': 'speech-diarization-diarize', 'uid': 'ec6cd014e4674966b30303ea14048acf', 'db': 'http://mlrun-api:8080'}\n"
     ]
    },
    {
     "data": {
      "text/html": [
       "<style>\n",
       ".dictlist {\n",
       "  background-color: #4EC64B;\n",
       "  text-align: center;\n",
       "  margin: 4px;\n",
       "  border-radius: 3px; padding: 0px 3px 1px 3px; display: inline-block;}\n",
       ".artifact {\n",
       "  cursor: pointer;\n",
       "  background-color: #4EC64B;\n",
       "  text-align: left;\n",
       "  margin: 4px; border-radius: 3px; padding: 0px 3px 1px 3px; display: inline-block;\n",
       "}\n",
       "div.block.hidden {\n",
       "  display: none;\n",
       "}\n",
       ".clickable {\n",
       "  cursor: pointer;\n",
       "}\n",
       ".ellipsis {\n",
       "  display: inline-block;\n",
       "  max-width: 60px;\n",
       "  white-space: nowrap;\n",
       "  overflow: hidden;\n",
       "  text-overflow: ellipsis;\n",
       "}\n",
       ".master-wrapper {\n",
       "  display: flex;\n",
       "  flex-flow: row nowrap;\n",
       "  justify-content: flex-start;\n",
       "  align-items: stretch;\n",
       "}\n",
       ".master-tbl {\n",
       "  flex: 3\n",
       "}\n",
       ".master-wrapper > div {\n",
       "  margin: 4px;\n",
       "  padding: 10px;\n",
       "}\n",
       "iframe.fileview {\n",
       "  border: 0 none;\n",
       "  height: 100%;\n",
       "  width: 100%;\n",
       "  white-space: pre-wrap;\n",
       "}\n",
       ".pane-header-title {\n",
       "  width: 80%;\n",
       "  font-weight: 500;\n",
       "}\n",
       ".pane-header {\n",
       "  line-height: 1;\n",
       "  background-color: #4EC64B;\n",
       "  padding: 3px;\n",
       "}\n",
       ".pane-header .close {\n",
       "  font-size: 20px;\n",
       "  font-weight: 700;\n",
       "  float: right;\n",
       "  margin-top: -5px;\n",
       "}\n",
       ".master-wrapper .right-pane {\n",
       "  border: 1px inset silver;\n",
       "  width: 40%;\n",
       "  min-height: 300px;\n",
       "  flex: 3\n",
       "  min-width: 500px;\n",
       "}\n",
       ".master-wrapper * {\n",
       "  box-sizing: border-box;\n",
       "}\n",
       "</style><script>\n",
       "function copyToClipboard(fld) {\n",
       "    if (document.queryCommandSupported && document.queryCommandSupported('copy')) {\n",
       "        var textarea = document.createElement('textarea');\n",
       "        textarea.textContent = fld.innerHTML;\n",
       "        textarea.style.position = 'fixed';\n",
       "        document.body.appendChild(textarea);\n",
       "        textarea.select();\n",
       "\n",
       "        try {\n",
       "            return document.execCommand('copy'); // Security exception may be thrown by some browsers.\n",
       "        } catch (ex) {\n",
       "\n",
       "        } finally {\n",
       "            document.body.removeChild(textarea);\n",
       "        }\n",
       "    }\n",
       "}\n",
       "function expandPanel(el) {\n",
       "  const panelName = \"#\" + el.getAttribute('paneName');\n",
       "  console.log(el.title);\n",
       "\n",
       "  document.querySelector(panelName + \"-title\").innerHTML = el.title\n",
       "  iframe = document.querySelector(panelName + \"-body\");\n",
       "\n",
       "  const tblcss = `<style> body { font-family: Arial, Helvetica, sans-serif;}\n",
       "    #csv { margin-bottom: 15px; }\n",
       "    #csv table { border-collapse: collapse;}\n",
       "    #csv table td { padding: 4px 8px; border: 1px solid silver;} </style>`;\n",
       "\n",
       "  function csvToHtmlTable(str) {\n",
       "    return '<div id=\"csv\"><table><tr><td>' +  str.replace(/[\\n\\r]+$/g, '').replace(/[\\n\\r]+/g, '</td></tr><tr><td>')\n",
       "      .replace(/,/g, '</td><td>') + '</td></tr></table></div>';\n",
       "  }\n",
       "\n",
       "  function reqListener () {\n",
       "    if (el.title.endsWith(\".csv\")) {\n",
       "      iframe.setAttribute(\"srcdoc\", tblcss + csvToHtmlTable(this.responseText));\n",
       "    } else {\n",
       "      iframe.setAttribute(\"srcdoc\", this.responseText);\n",
       "    }\n",
       "    console.log(this.responseText);\n",
       "  }\n",
       "\n",
       "  const oReq = new XMLHttpRequest();\n",
       "  oReq.addEventListener(\"load\", reqListener);\n",
       "  oReq.open(\"GET\", el.title);\n",
       "  oReq.send();\n",
       "\n",
       "\n",
       "  //iframe.src = el.title;\n",
       "  const resultPane = document.querySelector(panelName + \"-pane\");\n",
       "  if (resultPane.classList.contains(\"hidden\")) {\n",
       "    resultPane.classList.remove(\"hidden\");\n",
       "  }\n",
       "}\n",
       "function closePanel(el) {\n",
       "  const panelName = \"#\" + el.getAttribute('paneName')\n",
       "  const resultPane = document.querySelector(panelName + \"-pane\");\n",
       "  if (!resultPane.classList.contains(\"hidden\")) {\n",
       "    resultPane.classList.add(\"hidden\");\n",
       "  }\n",
       "}\n",
       "\n",
       "</script>\n",
       "<div class=\"master-wrapper\">\n",
       "  <div class=\"block master-tbl\"><div>\n",
       "<style scoped>\n",
       "    .dataframe tbody tr th:only-of-type {\n",
       "        vertical-align: middle;\n",
       "    }\n",
       "\n",
       "    .dataframe tbody tr th {\n",
       "        vertical-align: top;\n",
       "    }\n",
       "\n",
       "    .dataframe thead th {\n",
       "        text-align: right;\n",
       "    }\n",
       "</style>\n",
       "<table border=\"1\" class=\"dataframe\">\n",
       "  <thead>\n",
       "    <tr style=\"text-align: right;\">\n",
       "      <th>project</th>\n",
       "      <th>uid</th>\n",
       "      <th>iter</th>\n",
       "      <th>start</th>\n",
       "      <th>state</th>\n",
       "      <th>name</th>\n",
       "      <th>labels</th>\n",
       "      <th>inputs</th>\n",
       "      <th>parameters</th>\n",
       "      <th>results</th>\n",
       "      <th>artifacts</th>\n",
       "    </tr>\n",
       "  </thead>\n",
       "  <tbody>\n",
       "    <tr>\n",
       "      <td>diarization-test</td>\n",
       "      <td><div title=\"ec6cd014e4674966b30303ea14048acf\"><a href=\"https://dashboard.default-tenant.app.llm2.iguazio-cd0.com/mlprojects/diarization-test/jobs/monitor/ec6cd014e4674966b30303ea14048acf/overview\" target=\"_blank\" >...14048acf</a></div></td>\n",
       "      <td>0</td>\n",
       "      <td>Dec 05 15:28:52</td>\n",
       "      <td>completed</td>\n",
       "      <td>speech-diarization-diarize</td>\n",
       "      <td><div class=\"dictlist\">v3io_user=zeevr</div><div class=\"dictlist\">kind=local</div><div class=\"dictlist\">owner=zeevr</div><div class=\"dictlist\">host=jupyter-zeev-gpu-5995df47dc-rtpvr</div></td>\n",
       "      <td><div title=\"/User/call-center/hub_functions/speech_diarization/test_data.wav\">data_path</div></td>\n",
       "      <td><div class=\"dictlist\">device=cpu</div><div class=\"dictlist\">speakers_labels=['Agent', 'Client']</div><div class=\"dictlist\">separate_by_channels=True</div></td>\n",
       "      <td></td>\n",
       "      <td><div class=\"artifact\" onclick=\"expandPanel(this)\" paneName=\"result6f031cd5\" title=\"files/v3io/projects/diarization-test/artifacts/speech-diarization-diarize/0/speech-diarization.json\">speech-diarization</div><div class=\"artifact\" onclick=\"expandPanel(this)\" paneName=\"result6f031cd5\" title=\"files/v3io/projects/diarization-test/artifacts/speech-diarization-diarize/0/diarize-errors.json\">diarize-errors</div></td>\n",
       "    </tr>\n",
       "  </tbody>\n",
       "</table>\n",
       "</div></div>\n",
       "  <div id=\"result6f031cd5-pane\" class=\"right-pane block hidden\">\n",
       "    <div class=\"pane-header\">\n",
       "      <span id=\"result6f031cd5-title\" class=\"pane-header-title\">Title</span>\n",
       "      <span onclick=\"closePanel(this)\" paneName=\"result6f031cd5\" class=\"close clickable\">&times;</span>\n",
       "    </div>\n",
       "    <iframe class=\"fileview\" id=\"result6f031cd5-body\"></iframe>\n",
       "  </div>\n",
       "</div>\n"
      ],
      "text/plain": [
       "<IPython.core.display.HTML object>"
      ]
     },
     "metadata": {},
     "output_type": "display_data"
    },
    {
     "name": "stdout",
     "output_type": "stream",
     "text": [
      "\n"
     ]
    },
    {
     "data": {
      "text/html": [
       "<b> > to track results use the .show() or .logs() methods  or <a href=\"https://dashboard.default-tenant.app.llm2.iguazio-cd0.com/mlprojects/diarization-test/jobs/monitor/ec6cd014e4674966b30303ea14048acf/overview\" target=\"_blank\">click here</a> to open in UI</b>"
      ],
      "text/plain": [
       "<IPython.core.display.HTML object>"
      ]
     },
     "metadata": {},
     "output_type": "display_data"
    },
    {
     "name": "stdout",
     "output_type": "stream",
     "text": [
      "> 2023-12-05 15:28:53,350 [info] Run execution finished: {'status': 'completed', 'name': 'speech-diarization-diarize'}\n"
     ]
    }
   ],
   "source": [
    "# Run the imported function with desired file/s and params\n",
    "diarize_run = speech_diarization.run(\n",
    "    handler=\"diarize\",\n",
    "    inputs={\"data_path\": audio_files},\n",
    "    params={\n",
    "        \"device\": device,\n",
    "        \"speakers_labels\": speakers_labels,\n",
    "        \"separate_by_channels\": separate_by_channels,\n",
    "    },\n",
    "    returns=[\"speech-diarization: file\", \"diarize-errors: file\"],\n",
    "    local=True,\n",
    ")"
   ]
  },
  {
   "cell_type": "code",
   "execution_count": null,
   "id": "ede77975-8843-424f-b521-b9dd56ddad28",
   "metadata": {},
   "outputs": [],
   "source": []
  }
 ],
 "metadata": {
  "kernelspec": {
   "display_name": "mlrun-base",
   "language": "python",
   "name": "conda-env-mlrun-base-py"
  },
  "language_info": {
   "codemirror_mode": {
    "name": "ipython",
    "version": 3
   },
   "file_extension": ".py",
   "mimetype": "text/x-python",
   "name": "python",
   "nbconvert_exporter": "python",
   "pygments_lexer": "ipython3",
   "version": "3.9.16"
  }
 },
 "nbformat": 4,
 "nbformat_minor": 5
}
