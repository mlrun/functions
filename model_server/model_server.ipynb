{
 "cells": [
  {
   "cell_type": "markdown",
   "metadata": {},
   "source": [
    "# Model Server"
   ]
  },
  {
   "cell_type": "code",
   "execution_count": null,
   "metadata": {},
   "outputs": [],
   "source": [
    "#!python -m pip install v3io"
   ]
  },
  {
   "cell_type": "code",
   "execution_count": 1,
   "metadata": {},
   "outputs": [],
   "source": [
    "# nuclio: ignore\n",
    "import nuclio"
   ]
  },
  {
   "cell_type": "code",
   "execution_count": 2,
   "metadata": {},
   "outputs": [
    {
     "name": "stdout",
     "output_type": "stream",
     "text": [
      "%nuclio: setting kind to 'nuclio:serving'\n",
      "%nuclio: setting 'MODEL_CLASS' environment variable\n"
     ]
    }
   ],
   "source": [
    "%nuclio config kind=\"nuclio:serving\"\n",
    "%nuclio env MODEL_CLASS=ClassifierModel"
   ]
  },
  {
   "cell_type": "code",
   "execution_count": 3,
   "metadata": {},
   "outputs": [
    {
     "name": "stdout",
     "output_type": "stream",
     "text": [
      "%nuclio: setting spec.build.baseImage to 'mlrun/ml-models:0.4.7-py37'\n"
     ]
    }
   ],
   "source": [
    "%nuclio config spec.build.baseImage = \"mlrun/ml-models:0.4.7-py37\""
   ]
  },
  {
   "cell_type": "code",
   "execution_count": 4,
   "metadata": {},
   "outputs": [],
   "source": [
    "%%nuclio cmd -c\n",
    "python -m pip install kfserving"
   ]
  },
  {
   "cell_type": "code",
   "execution_count": 5,
   "metadata": {},
   "outputs": [],
   "source": [
    "import os\n",
    "from cloudpickle import load\n",
    "import kfserving\n",
    "import numpy as np\n",
    "from typing import List\n",
    "from datetime import datetime"
   ]
  },
  {
   "cell_type": "code",
   "execution_count": 6,
   "metadata": {},
   "outputs": [],
   "source": [
    "# import json\n",
    "# import socket\n",
    "# #import v3io.dataplane\n",
    "\n",
    "# #v3io_client = v3io.dataplane.Client()\n",
    "# hostname = None\n",
    "\n",
    "# def split_path(mntpath=''):\n",
    "#     if mntpath[0] == '/':\n",
    "#         mntpath = mntpath[1:]\n",
    "#     paths = mntpath.split('/')\n",
    "#     container = paths[0]\n",
    "#     subpath = ''\n",
    "#     if len(paths) > 1:\n",
    "#         subpath = mntpath[len(container):]\n",
    "#     return container, subpath\n",
    " \n",
    "\n",
    "# def init_stream(stream_path, shards=1):\n",
    "#     global hostname\n",
    "#     hostname = socket.gethostname()\n",
    "#     container, stream_path = split_path(stream_path)\n",
    "#     response = v3io_client.create_stream(container=container,\n",
    "#                                          path=stream_path, \n",
    "#                                          shard_count=shards,\n",
    "#                                          raise_for_status=v3io.dataplane.RaiseForStatus.never)\n",
    "#     response.raise_for_status([409, 204])\n",
    "#     print(response.__dict__)\n",
    "    \n",
    "# def push_to_stream(stream_path, data):\n",
    "#     records = [{'data': json.dumps(rec)} for rec in data]\n",
    "#     container, stream_path = split_path(stream_path)\n",
    "#     response = v3io_client.put_records(container=container,\n",
    "#                                        path=stream_path, \n",
    "#                                        records=records)\n",
    "    \n",
    "#     #for response_record in response.output.records:\n",
    "#     #    print(response_record.__dict__)"
   ]
  },
  {
   "cell_type": "code",
   "execution_count": 7,
   "metadata": {},
   "outputs": [],
   "source": [
    "class ClassifierModel(kfserving.KFModel):\n",
    "    def __init__(self, name: str, model_dir: str, classifier = None):\n",
    "        super().__init__(name)\n",
    "        self.model_dir = model_dir\n",
    "#         self.log_stream = os.environ.get('INFERENCE_STREAM', '')\n",
    "#         if self.log_stream:\n",
    "#             init_stream(self.log_stream)\n",
    "        if classifier:\n",
    "            self.classifier = classifier\n",
    "            self.ready = True\n",
    "\n",
    "    def load(self):\n",
    "        \"\"\"Load model from KubeFlow storage.\n",
    "        \"\"\"\n",
    "        if self.model_dir.endswith('.pkl'):\n",
    "            model_file = self.model_dir\n",
    "        else:\n",
    "            for file in os.path.listdir(self.model_dir):\n",
    "                if file.endswith('.pkl'):\n",
    "                    model_file = os.pth.join(self.model_dir, file)\n",
    "                    break\n",
    "        self.classifier = load(open(model_file, 'rb'))\n",
    "        self.ready = True\n",
    "\n",
    "    def predict(self, body: dict) -> List:\n",
    "        \"\"\"Generate model predictions from sample.\n",
    "        \n",
    "        :param body : A dict of observations, each of which is an 1-dimensional feature vector.\n",
    "            \n",
    "        Returns model predictions as a `List`, one for each row in the `body` input `List`.\n",
    "        \"\"\"\n",
    "        start = datetime.now()\n",
    "        try:\n",
    "            feats = np.asarray(body['instances'])\n",
    "            result: np.ndarray = self.classifier.predict(feats)\n",
    "            resp = result.tolist()\n",
    "        except Exception as e:\n",
    "            raise Exception(f\"Failed to predict {e}\")\n",
    "        \n",
    "#         if self.log_stream:\n",
    "#             data = {'request': body, 'resp': resp, \n",
    "#                     'class': 'ClassifierModel', \n",
    "#                     'model': self.name,\n",
    "#                     'host': hostname,\n",
    "#                     'when': str(start), \n",
    "#                     'microsec': (datetime.now()-start).microseconds}\n",
    "#             push_to_stream(self.log_stream, [data])\n",
    "\n",
    "        return resp"
   ]
  },
  {
   "cell_type": "code",
   "execution_count": 8,
   "metadata": {},
   "outputs": [],
   "source": [
    "# nuclio: end-code"
   ]
  },
  {
   "cell_type": "markdown",
   "metadata": {},
   "source": [
    "## test models locally and deploy"
   ]
  },
  {
   "cell_type": "markdown",
   "metadata": {},
   "source": [
    "The sklearn-project generated 3 models that will be deployed in the server project `sklearn-servers`"
   ]
  },
  {
   "cell_type": "markdown",
   "metadata": {},
   "source": [
    "### test locally"
   ]
  },
  {
   "cell_type": "code",
   "execution_count": 9,
   "metadata": {},
   "outputs": [],
   "source": [
    "import cloudpickle as cp\n",
    "path = '/User/artifacts/sklearn_classifier/models'\n",
    "\n",
    "from sklearn.datasets import load_iris\n",
    "iris = load_iris()\n",
    "\n",
    "x = iris['data'].tolist()\n",
    "y = iris['target']\n",
    "\n",
    "for model in os.listdir(path):\n",
    "    if model.endswith(\"pkl\"):\n",
    "        \n",
    "        my_server = ClassifierModel('classifier', model_dir=os.path.join(path, model))\n",
    "        my_server.load()\n",
    "\n",
    "        a = my_server.predict({\"instances\": x})\n",
    "\n",
    "        assert len(a)==150"
   ]
  },
  {
   "cell_type": "markdown",
   "metadata": {},
   "source": [
    "###  deploy servers"
   ]
  },
  {
   "cell_type": "code",
   "execution_count": 13,
   "metadata": {},
   "outputs": [
    {
     "name": "stdout",
     "output_type": "stream",
     "text": [
      "[mlrun] 2020-04-30 01:24:55,840 saving function: iris-adaboostclassifier, tag: latest\n",
      "[mlrun] 2020-04-30 01:24:55,876 function spec saved to path: AdaBoostClassifier/function.yaml\n",
      "[mlrun] 2020-04-30 01:24:55,876 deploy started\n",
      "[nuclio] 2020-04-30 01:24:59,981 (info) Build complete\n",
      "[nuclio] 2020-04-30 01:25:06,057 (info) Function deploy complete\n",
      "[nuclio] 2020-04-30 01:25:06,063 done updating iris-adaboostclassifier, function address: 3.135.130.246:32289\n",
      "[mlrun] 2020-04-30 01:25:07,520 saving function: iris-lgbmclassifier, tag: latest\n",
      "[mlrun] 2020-04-30 01:25:07,550 function spec saved to path: LGBMClassifier/function.yaml\n",
      "[mlrun] 2020-04-30 01:25:07,551 deploy started\n",
      "[nuclio] 2020-04-30 01:25:11,685 (info) Build complete\n",
      "[nuclio] 2020-04-30 01:25:17,925 (info) Function deploy complete\n",
      "[nuclio] 2020-04-30 01:25:17,932 done creating iris-lgbmclassifier, function address: 3.135.130.246:31680\n",
      "[mlrun] 2020-04-30 01:25:19,386 saving function: iris-logisticregression, tag: latest\n",
      "[mlrun] 2020-04-30 01:25:19,415 function spec saved to path: LogisticRegression/function.yaml\n",
      "[mlrun] 2020-04-30 01:25:19,416 deploy started\n",
      "[nuclio] 2020-04-30 01:25:20,503 (info) Build complete\n",
      "[nuclio] 2020-04-30 01:25:27,588 (info) Function deploy complete\n",
      "[nuclio] 2020-04-30 01:25:27,597 done updating iris-logisticregression, function address: 3.135.130.246:31166\n",
      "[mlrun] 2020-04-30 01:25:29,167 saving function: iris-randomforestclassifier, tag: latest\n",
      "[mlrun] 2020-04-30 01:25:29,200 function spec saved to path: RandomForestClassifier/function.yaml\n",
      "[mlrun] 2020-04-30 01:25:29,201 deploy started\n",
      "[nuclio] 2020-04-30 01:25:30,295 (info) Build complete\n",
      "[nuclio] 2020-04-30 01:25:36,376 (info) Function deploy complete\n",
      "[nuclio] 2020-04-30 01:25:36,383 done updating iris-randomforestclassifier, function address: 3.135.130.246:30970\n",
      "[mlrun] 2020-04-30 01:25:37,951 saving function: iris-xgbclassifier, tag: latest\n",
      "[mlrun] 2020-04-30 01:25:37,984 function spec saved to path: XGBClassifier/function.yaml\n",
      "[mlrun] 2020-04-30 01:25:37,985 deploy started\n",
      "[nuclio] 2020-04-30 01:25:39,060 (info) Build complete\n",
      "[nuclio] 2020-04-30 01:25:45,141 (info) Function deploy complete\n",
      "[nuclio] 2020-04-30 01:25:45,147 done creating iris-xgbclassifier, function address: 3.135.130.246:30096\n"
     ]
    }
   ],
   "source": [
    "from mlrun import new_model_server\n",
    "from mlrun import mount_v3io, mlconf\n",
    "import os\n",
    "\n",
    "for model in os.listdir(mlconf.artifact_path + '/sklearn_classifier/models'):\n",
    "    if model.endswith(\"pkl\"):\n",
    "        model = model.split('.')[-2]\n",
    "        fn = new_model_server(f'iris-{model}', model_class='ClassifierModel')\n",
    "        fn.spec.description = f\"generic sklearn {model} model server\"\n",
    "        fn.metadata.categories = ['serving', 'models', f'{model}']\n",
    "        fn.metadata.labels = {'author': 'yaronh'}\n",
    "        fn.save()\n",
    "        #print(fn.to_yaml())\n",
    "        fn.export(f\"{model}/function.yaml\")\n",
    "        fn.apply(mount_v3io())\n",
    "        fn.set_envs({f\"SERVING_MODEL_iris_{model}\": mlconf.artifact_path + f\"/sklearn_classifier/models/{model}.pkl\"})\n",
    "        fn.deploy(project='sklearn-servers')"
   ]
  },
  {
   "cell_type": "code",
   "execution_count": null,
   "metadata": {},
   "outputs": [],
   "source": []
  }
 ],
 "metadata": {
  "kernelspec": {
   "display_name": "Python 3",
   "language": "python",
   "name": "python3"
  },
  "language_info": {
   "codemirror_mode": {
    "name": "ipython",
    "version": 3
   },
   "file_extension": ".py",
   "mimetype": "text/x-python",
   "name": "python",
   "nbconvert_exporter": "python",
   "pygments_lexer": "ipython3",
   "version": "3.6.8"
  }
 },
 "nbformat": 4,
 "nbformat_minor": 4
}
