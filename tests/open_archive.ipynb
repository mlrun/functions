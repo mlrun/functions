{
 "cells": [
  {
   "cell_type": "code",
   "execution_count": 1,
   "metadata": {},
   "outputs": [],
   "source": [
    "ZIP_ARCHIVE = \"http://iguazio-sample-data.s3.amazonaws.com/catsndogs.zip\"\n",
    "TAR_ARCHIVE = \"https://fpsignals-public.s3.amazonaws.com/catsndogs.tar.gz\""
   ]
  },
  {
   "cell_type": "code",
   "execution_count": 4,
   "metadata": {},
   "outputs": [],
   "source": [
    "import os\n",
    "\n",
    "FUNCTION = \"open_archive\"\n",
    "\n",
    "task_params = {\n",
    "    \"name\":        FUNCTION, \n",
    "    \"params\"   : {\n",
    "        \"key\"   : \"tar-data\",\n",
    "        \"archive_url\" : TAR_ARCHIVE\n",
    "    },\n",
    "    \"artifact_path\"  : os.path.join(f\"/User/functions/{FUNCTION}/artifacts\", \n",
    "                                    \"{{run.uid}}\")\n",
    "}"
   ]
  },
  {
   "cell_type": "code",
   "execution_count": 5,
   "metadata": {},
   "outputs": [
    {
     "name": "stdout",
     "output_type": "stream",
     "text": [
      "[mlrun] 2020-03-16 02:09:17,729 artifact path is not defined or is local, artifacts will not be visible in the UI\n",
      "../open_archive/function.yaml decode\n",
      "++++++++++++++++++++++++++++++++++++++++++++++++\n",
      "db://open_archive:latest decode\n",
      "++++++++++++++++++++++++++++++++++++++++++++++++\n",
      "hub://open_archive failed to read file in https://raw.githubusercontent.com/yjb-ds/functions/init_fixes/open_archive/function.yaml\n",
      "++++++++++++++++++++++++++++++++++++++++++++++++\n"
     ]
    },
    {
     "name": "stderr",
     "output_type": "stream",
     "text": [
      "/User/.pythonlibs/jupyter/lib/python3.6/site-packages/urllib3/connectionpool.py:847: InsecureRequestWarning: Unverified HTTPS request is being made. Adding certificate verification is strongly advised. See: https://urllib3.readthedocs.io/en/latest/advanced-usage.html#ssl-warnings\n",
      "  InsecureRequestWarning)\n"
     ]
    }
   ],
   "source": [
    "import test_function as tf\n",
    "\n",
    "tf.test_function(FUNCTION, task_params)"
   ]
  },
  {
   "cell_type": "code",
   "execution_count": 6,
   "metadata": {},
   "outputs": [],
   "source": [
    "import os\n",
    "\n",
    "FUNCTION = \"open_archive\"\n",
    "\n",
    "task_params = {\n",
    "    \"name\":        FUNCTION, \n",
    "    \"params\"   : {\n",
    "        \"key\"   : \"zip-data\",\n",
    "        \"archive_url\" : ZIP_ARCHIVE\n",
    "    },\n",
    "    \"artifact_path\"  : os.path.join(f\"/User/functions/{FUNCTION}/artifacts\", \n",
    "                                    \"{{run.uid}}\")\n",
    "}"
   ]
  },
  {
   "cell_type": "code",
   "execution_count": 7,
   "metadata": {},
   "outputs": [
    {
     "name": "stdout",
     "output_type": "stream",
     "text": [
      "[mlrun] 2020-03-16 02:09:26,716 artifact path is not defined or is local, artifacts will not be visible in the UI\n",
      "../open_archive/function.yaml decode\n",
      "++++++++++++++++++++++++++++++++++++++++++++++++\n",
      "db://open_archive:latest decode\n",
      "++++++++++++++++++++++++++++++++++++++++++++++++\n",
      "hub://open_archive failed to read file in https://raw.githubusercontent.com/yjb-ds/functions/init_fixes/open_archive/function.yaml\n",
      "++++++++++++++++++++++++++++++++++++++++++++++++\n"
     ]
    },
    {
     "name": "stderr",
     "output_type": "stream",
     "text": [
      "/User/.pythonlibs/jupyter/lib/python3.6/site-packages/urllib3/connectionpool.py:847: InsecureRequestWarning: Unverified HTTPS request is being made. Adding certificate verification is strongly advised. See: https://urllib3.readthedocs.io/en/latest/advanced-usage.html#ssl-warnings\n",
      "  InsecureRequestWarning)\n"
     ]
    }
   ],
   "source": [
    "tf.test_function(FUNCTION, task_params)"
   ]
  },
  {
   "cell_type": "code",
   "execution_count": null,
   "metadata": {},
   "outputs": [],
   "source": []
  }
 ],
 "metadata": {
  "kernelspec": {
   "display_name": "Python 3",
   "language": "python",
   "name": "python3"
  },
  "language_info": {
   "codemirror_mode": {
    "name": "ipython",
    "version": 3
   },
   "file_extension": ".py",
   "mimetype": "text/x-python",
   "name": "python",
   "nbconvert_exporter": "python",
   "pygments_lexer": "ipython3",
   "version": "3.6.8"
  }
 },
 "nbformat": 4,
 "nbformat_minor": 4
}
