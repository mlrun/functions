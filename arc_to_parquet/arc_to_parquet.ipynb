{
 "cells": [
  {
   "cell_type": "markdown",
   "metadata": {},
   "source": [
    "# archive to parquet file"
   ]
  },
  {
   "cell_type": "markdown",
   "metadata": {},
   "source": [
    "If the `arc_to_parquet.py` file has been edited, by running the following cell a new `function.yaml` file will be generated incorporating the updates.  It then needs to be pushed to the repository."
   ]
  },
  {
   "cell_type": "code",
   "execution_count": null,
   "metadata": {},
   "outputs": [],
   "source": [
    "# MLRUN_COMMIT = \"0.4.5\"\n",
    "\n",
    "# import mlrun\n",
    "\n",
    "# mlrun.mlconf.dbpath = \"http://mlrun-api:8080\"\n",
    "\n",
    "# arctoparq = mlrun.code_to_function(\n",
    "#     name='arc_to_parq',\n",
    "#     tag='development',\n",
    "#     filename='arc_to_parquet.py',\n",
    "#     handler='arc_to_parquet',\n",
    "#     image=f\"mlrun/ml-base:{MLRUN_COMMIT}\",\n",
    "#     kind=\"job\") \n",
    "\n",
    "# arctoparq.export('function.yaml')"
   ]
  },
  {
   "cell_type": "markdown",
   "metadata": {},
   "source": [
    "## tests"
   ]
  },
  {
   "cell_type": "code",
   "execution_count": null,
   "metadata": {},
   "outputs": [],
   "source": [
    "import mlrun, os\n",
    "\n",
    "#  IF NECESSARY PLEASE CHANGE THESE:\n",
    "FUNCTIONS_LIB = 'https://raw.githubusercontent.com/mlrun/functions/master'\n",
    "\n",
    "ARCHIVE = \"https://archive.ics.uci.edu/ml/machine-learning-databases/00280/HIGGS.csv.gz\"\n",
    "\n",
    "HEADER  = ['labels', 'lepton_pT', 'lepton_eta', 'lepton_phi', 'missing_energy_magnitude', \n",
    "           'missing_energy_phi', 'jet_1_pt', 'jet_1_eta', 'jet_1_phi', 'jet_1_b-tag', \n",
    "           'jet_2_pt', 'jet_2_eta', 'jet_2_phi', 'jet_2_b-tag', 'jet_3_pt', 'jet_3_eta',\n",
    "           'jet_3_phi', 'jet_3_b-tag', 'jet_4_pt', 'jet_4_eta', 'jet_4_phi', 'jet_4_b-tag',\n",
    "           'm_jj', 'm_jjj', 'm_lv', 'm_jlv', 'm_bb', 'm_wbb', 'm_wwbb']\n"
   ]
  },
  {
   "cell_type": "code",
   "execution_count": null,
   "metadata": {},
   "outputs": [],
   "source": [
    "# load from functions library\n",
    "func = mlrun.import_function(FUNCTIONS_LIB+'/arc_to_parquet/function.yaml')\n",
    "\n",
    "# configure\n",
    "func.apply(mlrun.mount_v3io())\n",
    "\n",
    "# create a task\n",
    "arc_to_parq_task = mlrun.NewTask(\n",
    "    'arc2parq', \n",
    "    params={\n",
    "        'archive_url': ARCHIVE,\n",
    "        'header'     : HEADER,\n",
    "        'key'        : 'higgs'},\n",
    "    artifact_path='/User/functions/arc_to_parquet/examples/artifacts')"
   ]
  },
  {
   "cell_type": "code",
   "execution_count": null,
   "metadata": {},
   "outputs": [],
   "source": [
    "# run\n",
    "run = func.run(arc_to_parq_task)"
   ]
  }
 ],
 "metadata": {
  "kernelspec": {
   "display_name": "Python [conda env:root] *",
   "language": "python",
   "name": "conda-root-py"
  },
  "language_info": {
   "codemirror_mode": {
    "name": "ipython",
    "version": 3
   },
   "file_extension": ".py",
   "mimetype": "text/x-python",
   "name": "python",
   "nbconvert_exporter": "python",
   "pygments_lexer": "ipython3",
   "version": "3.6.8"
  }
 },
 "nbformat": 4,
 "nbformat_minor": 4
}
