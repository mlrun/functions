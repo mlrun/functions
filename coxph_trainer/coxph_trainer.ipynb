{
 "cells": [
  {
   "cell_type": "code",
   "execution_count": 23,
   "metadata": {},
   "outputs": [],
   "source": [
    "# nuclio: ignore\n",
    "import nuclio"
   ]
  },
  {
   "cell_type": "code",
   "execution_count": 24,
   "metadata": {},
   "outputs": [
    {
     "name": "stdout",
     "output_type": "stream",
     "text": [
      "%nuclio: setting kind to 'job'\n",
      "%nuclio: setting spec.build.baseImage to 'mlrun/ml-models'\n"
     ]
    }
   ],
   "source": [
    "%nuclio config kind = \"job\"\n",
    "%nuclio config spec.build.baseImage = \"mlrun/ml-models\""
   ]
  },
  {
   "cell_type": "code",
   "execution_count": 25,
   "metadata": {},
   "outputs": [],
   "source": [
    "%%nuclio cmd -c\n",
    "python -m pip install lifelines"
   ]
  },
  {
   "cell_type": "code",
   "execution_count": 26,
   "metadata": {},
   "outputs": [],
   "source": [
    "import warnings\n",
    "warnings.simplefilter(action=\"ignore\", category=FutureWarning)"
   ]
  },
  {
   "cell_type": "code",
   "execution_count": 27,
   "metadata": {},
   "outputs": [],
   "source": [
    "from mlutils import (get_sample,\n",
    "                     get_splits,\n",
    "                     gen_sklearn_model,\n",
    "                     create_class, \n",
    "                     eval_class_model,\n",
    "                     gcf_clear)\n",
    "\n",
    "from mlrun.execution import MLClientCtx\n",
    "from mlrun.datastore import DataItem\n",
    "from mlrun.artifacts import PlotArtifact, TableArtifact\n",
    "\n",
    "from cloudpickle import dumps\n",
    "import pandas as pd\n",
    "import os\n",
    "\n",
    "from lifelines import CoxPHFitter, KaplanMeierFitter"
   ]
  },
  {
   "cell_type": "markdown",
   "metadata": {},
   "source": [
    "## train"
   ]
  },
  {
   "cell_type": "code",
   "execution_count": 28,
   "metadata": {},
   "outputs": [],
   "source": [
    "def _coxph_log_model(\n",
    "    context,\n",
    "    model, \n",
    "    dataset_key: str  = \"coxhazard-summary\",\n",
    "    models_dest: str = \"models\",\n",
    "    plot_cov_groups: bool = False,\n",
    "    p_value: float = 0.005,\n",
    "    plot_key: str  = \"km-cx\",\n",
    "    plots_dest: str = \"plots\",\n",
    "    file_ext=\"csv\",\n",
    "    extra_data: dict = {}\n",
    "):\n",
    "    \"\"\"log a coxph model (and submodel locations)\n",
    "    \n",
    "    :param extra_data:   if this model wants to store the locations of submodels\n",
    "                         use this\n",
    "    \"\"\"\n",
    "    import matplotlib.pyplot as plt\n",
    "    \n",
    "    sumtbl = model.summary\n",
    "    \n",
    "    context.log_dataset(dataset_key, df=sumtbl,\n",
    "                        index=True, format=file_ext)\n",
    "\n",
    "    model_bin = dumps(model)\n",
    "    context.log_model(\"model\", body=model_bin, \n",
    "                      artifact_path=os.path.join(context.artifact_path, models_dest),\n",
    "                      # model_dir=models_dest, \n",
    "                      model_file=\"model.pkl\")\n",
    "    # this will look at regression estimate stats and select, based on p_values,\n",
    "    # only those covariates of interest and display a plot for each vs all\n",
    "    # stratification group combos (~15 charts per stratification variable => 60 charts)\n",
    "    if plot_cov_groups:\n",
    "        select_covars = summary[summary.p<=p_value].index.values\n",
    "        for group in select_covars:\n",
    "            axs = model.plot_covariate_groups(group, values=[0, 1])\n",
    "            for ix, ax in enumerate(axs):\n",
    "                f = ax.get_figure()\n",
    "                context.log_artifact(\n",
    "                    PlotArtifact(f\"cx-{group}-{ix}\", body=plt.gcf()), \n",
    "                    local_path=f\"{plots_dest}/cx-{group}-{ix}.html\")\n",
    "                gcf_clear(plt)"
   ]
  },
  {
   "cell_type": "code",
   "execution_count": 29,
   "metadata": {},
   "outputs": [],
   "source": [
    "def _kaplan_meier_log_model(\n",
    "    context,\n",
    "    model, \n",
    "    time_column: str = \"tenure\",\n",
    "    dataset_key: str  = \"km-timelines\",\n",
    "    plot_key: str  = \"km-survival\",\n",
    "    plots_dest: str = \"plots\",\n",
    "    models_dest: str = \"models\",\n",
    "    file_ext: str = \"csv\"\n",
    "):\n",
    "    import matplotlib.pyplot as plt\n",
    "    o = []\n",
    "    for obj in model.__dict__.keys():\n",
    "        if isinstance(model.__dict__[obj], pd.DataFrame):\n",
    "            o.append(model.__dict__[obj])\n",
    "    df = pd.concat(o, axis=1)\n",
    "    df.index.name = time_column\n",
    "    context.log_dataset(dataset_key, df=df, index=True, format=file_ext)\n",
    "    # plot the model and grab figure\n",
    "    model.plot()\n",
    "    context.log_artifact(PlotArtifact(plot_key, body=plt.gcf()), \n",
    "                         local_path=f\"{plots_dest}/{plot_key}.html\")\n",
    "    # log model\n",
    "    context.log_model(\"model\", \n",
    "                      body=dumps(model), \n",
    "                      model_dir=f\"{models_dest}/km\", \n",
    "                      model_file=\"model.pkl\")"
   ]
  },
  {
   "cell_type": "code",
   "execution_count": 30,
   "metadata": {},
   "outputs": [],
   "source": [
    "def train_model(\n",
    "    context: MLClientCtx,\n",
    "    dataset: DataItem,\n",
    "    event_column: str = \"labels\",\n",
    "    time_column: str = \"tenure\",\n",
    "    encode_cols: dict = {},\n",
    "    strata_cols: list = [],\n",
    "    plot_cov_groups: bool = False,\n",
    "    p_value: float = 0.005,\n",
    "    enc_drop_first: bool = True,\n",
    "    sample: int = -1,\n",
    "    test_size: float = 0.25,\n",
    "    valid_size: float = 0.75, # (after test removed)\n",
    "    random_state: int = 1,\n",
    "    models_dest: str = \"\",\n",
    "    plots_dest: str = \"\",\n",
    "    file_ext: str = \"csv\",\n",
    ") -> None:\n",
    "    \"\"\"train models to predict the timing of events\n",
    "    \n",
    "    Although identical in structure to other training functions, this one\n",
    "    requires generating a 'Y' that represents the age/duration/tenure of\n",
    "    the obervation, designated 'tenure' here, and a binary labels columns that\n",
    "    represents the event of interest, churned/not-churned.\n",
    "    \n",
    "    In addition, there is a strata_cols parameter, representing a list of \n",
    "    stratification (aka grouping) variables.\n",
    "    \n",
    "    :param context:           the function context\n",
    "    :param dataset:           (\"data\") name of raw data file\n",
    "    :param event_column:      ground-truth (y) labels (considered as events in this model)\n",
    "    :param time_column:       age or tenure column\n",
    "    :param encode_cols:       dictionary of names and prefixes for columns that are\n",
    "                              to hot be encoded. (diff strata_cols)\n",
    "    :param enc_drop_first:    (True) whether to drop the first column of hot encoded \n",
    "                              variables (avoid column exact dependencies)\n",
    "    :param strata_cols:       columns used to stratify analysis (aka groups)\n",
    "    :param p_value:           (0.005) max p value for coeffcients selected\n",
    "    :param sample:            Selects the first n rows, or select a sample\n",
    "                              starting from the first. If negative <-1, select\n",
    "                              a random sample\n",
    "    :param test_size:         (0.25) test set size\n",
    "    :param valid_size:        (0.75) Once the test set has been removed the\n",
    "                              training set gets this proportion.\n",
    "    :param random_state:      (1) sklearn rng seed\n",
    "    :param models_dest:       destination subfolder for model artifacts\n",
    "    :param plots_dest:        destination subfolder for plot artifacts\n",
    "    :param file_ext:          format for test_set_key hold out data\n",
    "    \"\"\"\n",
    "    from lifelines.plotting import plot_lifetimes\n",
    "    import matplotlib.pyplot as plt\n",
    "    \n",
    "    # deprecate:\n",
    "    models_dest = models_dest or \"models\"\n",
    "    plots_dest = plots_dest or f\"plots/{context.name}\"\n",
    "    \n",
    "    # get a sample from the raw data, Y is defined as tenure\n",
    "    raw, tenure, header = get_sample(dataset, sample, time_column)\n",
    "\n",
    "    # hot-encode\n",
    "    if encode_cols:\n",
    "        raw = pd.get_dummies(raw, \n",
    "                             columns=list(encode_cols.keys()), \n",
    "                             prefix=list(encode_cols.values()), \n",
    "                             drop_first=enc_drop_first)\n",
    "\n",
    "    # split the sample into train validate, test and calibration sets:\n",
    "    (xtrain, ytrain), (xvalid, yvalid), \\\n",
    "        (xtest, ytest), _ = get_splits(raw, tenure, 3, test_size, \n",
    "                                       valid_size, [time_column],\n",
    "                                       random_state)\n",
    "    # removed mapped version of tenure\n",
    "    for X in [xtrain, xvalid, xtest]:\n",
    "        drop_cols = X.columns.str.startswith(time_column)\n",
    "        X.drop(X.columns[drop_cols], axis=1, inplace=True)\n",
    "    for Y in [ytrain, yvalid, ytest]:\n",
    "        Y.name = time_column\n",
    "    \n",
    "    # save test data\n",
    "    context.log_dataset(\"tenured-test-set\", \n",
    "                        df=pd.concat([xtest, ytest.to_frame()], axis=1), \n",
    "                        format=file_ext, index=False)\n",
    "\n",
    "    # KAPLAN-MEIER\n",
    "    km_model = KaplanMeierFitter().fit(ytrain, xtrain.labels)\n",
    "    _kaplan_meier_log_model(context, km_model, models_dest=models_dest)\n",
    "    \n",
    "    # COXPH\n",
    "    coxdata = pd.concat([xtrain, ytrain.to_frame()], axis=1)\n",
    "    cx_model = CoxPHFitter().fit(coxdata, time_column, event_column, strata=strata_cols)    \n",
    "    _coxph_log_model(context, cx_model, models_dest=models_dest, \n",
    "                     plot_cov_groups=plot_cov_groups, \n",
    "                     extra_data={\"km\": f\"{models_dest}/km\"})"
   ]
  },
  {
   "cell_type": "code",
   "execution_count": 31,
   "metadata": {},
   "outputs": [],
   "source": [
    "# nuclio: end-code"
   ]
  },
  {
   "cell_type": "markdown",
   "metadata": {},
   "source": [
    "### mlconfig"
   ]
  },
  {
   "cell_type": "code",
   "execution_count": 32,
   "metadata": {},
   "outputs": [],
   "source": [
    "from mlrun import mlconf\n",
    "import os\n",
    "mlconf.dbpath = mlconf.dbpath or \"http://mlrun-api:8080\"\n",
    "mlconf.artifact_path = mlconf.artifact_path or f\"{os.environ['HOME']}/artifacts\""
   ]
  },
  {
   "cell_type": "markdown",
   "metadata": {},
   "source": [
    "### save"
   ]
  },
  {
   "cell_type": "code",
   "execution_count": 33,
   "metadata": {},
   "outputs": [
    {
     "name": "stdout",
     "output_type": "stream",
     "text": [
      "[mlrun] 2020-05-12 22:52:26,650 function spec saved to path: function.yaml\n"
     ]
    },
    {
     "data": {
      "text/plain": [
       "<mlrun.runtimes.kubejob.KubejobRuntime at 0x7f0c6857c9b0>"
      ]
     },
     "execution_count": 33,
     "metadata": {},
     "output_type": "execute_result"
    }
   ],
   "source": [
    "from mlrun import code_to_function \n",
    "# create job function object from notebook code\n",
    "fn = code_to_function(\"cox_hazards\")\n",
    "\n",
    "# add metadata (for templates and reuse)\n",
    "fn.spec.default_handler = \"train_model\"\n",
    "fn.spec.description = \"train any classifier using scikit-learn's API\"\n",
    "fn.metadata.categories = [\"training\", \"ml\"]\n",
    "fn.metadata.labels = {\"author\": \"yjb\", \"framework\": \"survival\"}\n",
    "\n",
    "fn.export(\"function.yaml\")"
   ]
  },
  {
   "cell_type": "markdown",
   "metadata": {},
   "source": [
    "### test function"
   ]
  },
  {
   "cell_type": "code",
   "execution_count": 34,
   "metadata": {},
   "outputs": [],
   "source": [
    "if \"V3IO_HOME\" in list(os.environ):\n",
    "    # mlrun on the iguazio platform\n",
    "    from mlrun import mount_v3io\n",
    "    fn.apply(mount_v3io())\n",
    "else:\n",
    "    # mlrun is setup using the instructions at \n",
    "    # https://github.com/mlrun/mlrun/blob/master/hack/local/README.md\n",
    "    from mlrun.platforms import mount_pvc\n",
    "    fn.apply(mount_pvc(\"nfsvol\", \"nfsvol\", \"/home/joyan/data\"))"
   ]
  },
  {
   "cell_type": "code",
   "execution_count": 35,
   "metadata": {},
   "outputs": [],
   "source": [
    "task_params = {\n",
    "    \"name\" : \"tasks survive trainer\",\n",
    "    \"params\" : {\n",
    "        \"event_column\" : \"labels\", \n",
    "        \"strata_cols\" : ['InternetService', 'StreamingMovies', 'StreamingTV', 'PhoneService'],\n",
    "        \"p_value\"     : 0.005,\n",
    "        \"encode_cols\" : {\"Contract\"       : \"Contract\",\n",
    "                         \"PaymentMethod\"  : \"Payment\"},\n",
    "        \"models_dest\" : 'models/cox',\n",
    "        \"file_ext\" : \"csv\"}}"
   ]
  },
  {
   "cell_type": "markdown",
   "metadata": {},
   "source": [
    "### run locally"
   ]
  },
  {
   "cell_type": "code",
   "execution_count": 36,
   "metadata": {},
   "outputs": [
    {
     "name": "stdout",
     "output_type": "stream",
     "text": [
      "[mlrun] 2020-05-12 22:52:27,444 starting run tasks survive trainer uid=49114e9ca3c049fbb18dd37295e4e44d  -> http://mlrun-api:8080\n"
     ]
    },
    {
     "name": "stderr",
     "output_type": "stream",
     "text": [
      "/conda/lib/python3.6/site-packages/pandas/core/frame.py:3997: SettingWithCopyWarning: \n",
      "A value is trying to be set on a copy of a slice from a DataFrame\n",
      "\n",
      "See the caveats in the documentation: https://pandas.pydata.org/pandas-docs/stable/user_guide/indexing.html#returning-a-view-versus-a-copy\n",
      "  errors=errors,\n"
     ]
    },
    {
     "name": "stdout",
     "output_type": "stream",
     "text": [
      "[mlrun] 2020-05-12 22:52:27,647 log artifact tenured-test-set at /User/artifacts/churn/tenured-test-set.csv, size: 85274, db: Y\n",
      "[mlrun] 2020-05-12 22:52:27,752 log artifact km-timelines at /User/artifacts/churn/km-timelines.csv, size: 14130, db: Y\n",
      "[mlrun] 2020-05-12 22:52:27,847 log artifact km-survival at /User/artifacts/churn/plots/km-survival.html, size: 10286, db: Y\n",
      "[mlrun] 2020-05-12 22:52:27,888 log artifact model at /User/artifacts/churn/models/cox/km/, size: 107640, db: Y\n",
      "[mlrun] 2020-05-12 22:52:29,288 log artifact coxhazard-summary at /User/artifacts/churn/coxhazard-summary.csv, size: 3429, db: Y\n",
      "[mlrun] 2020-05-12 22:52:29,329 log artifact model at /User/artifacts/churn/models/cox/, size: 340838, db: Y\n",
      "\n"
     ]
    },
    {
     "data": {
      "text/html": [
       "<style> \n",
       ".dictlist {\n",
       "  background-color: #b3edff; \n",
       "  text-align: center; \n",
       "  margin: 4px; \n",
       "  border-radius: 3px; padding: 0px 3px 1px 3px; display: inline-block;}\n",
       ".artifact {\n",
       "  cursor: pointer; \n",
       "  background-color: #ffe6cc; \n",
       "  text-align: left; \n",
       "  margin: 4px; border-radius: 3px; padding: 0px 3px 1px 3px; display: inline-block;\n",
       "}\n",
       "div.block.hidden {\n",
       "  display: none;\n",
       "}\n",
       ".clickable {\n",
       "  cursor: pointer;\n",
       "}\n",
       ".ellipsis {\n",
       "  display: inline-block;\n",
       "  max-width: 60px;\n",
       "  white-space: nowrap;\n",
       "  overflow: hidden;\n",
       "  text-overflow: ellipsis;\n",
       "}\n",
       ".master-wrapper {\n",
       "  display: flex;\n",
       "  flex-flow: row nowrap;\n",
       "  justify-content: flex-start;\n",
       "  align-items: stretch;\n",
       "}\n",
       ".master-tbl {\n",
       "  flex: 3\n",
       "}\n",
       ".master-wrapper > div {\n",
       "  margin: 4px;\n",
       "  padding: 10px;\n",
       "}\n",
       "iframe.fileview {\n",
       "  border: 0 none;\n",
       "  height: 100%;\n",
       "  width: 100%;\n",
       "  white-space: pre-wrap;\n",
       "}\n",
       ".pane-header-title {\n",
       "  width: 80%;\n",
       "  font-weight: 500;\n",
       "}\n",
       ".pane-header {\n",
       "  line-height: 1;\n",
       "  background-color: #ffe6cc;\n",
       "  padding: 3px;\n",
       "}\n",
       ".pane-header .close {\n",
       "  font-size: 20px;\n",
       "  font-weight: 700;\n",
       "  float: right;\n",
       "  margin-top: -5px;\n",
       "}\n",
       ".master-wrapper .right-pane {\n",
       "  border: 1px inset silver;\n",
       "  width: 40%;\n",
       "  min-height: 300px;\n",
       "  flex: 3\n",
       "  min-width: 500px;\n",
       "}\n",
       ".master-wrapper * {\n",
       "  box-sizing: border-box;\n",
       "}\n",
       "</style><script>\n",
       "function copyToClipboard(fld) {\n",
       "    if (document.queryCommandSupported && document.queryCommandSupported('copy')) {\n",
       "        var textarea = document.createElement('textarea');\n",
       "        textarea.textContent = fld.innerHTML;\n",
       "        textarea.style.position = 'fixed';\n",
       "        document.body.appendChild(textarea);\n",
       "        textarea.select();\n",
       "\n",
       "        try {\n",
       "            return document.execCommand('copy'); // Security exception may be thrown by some browsers.\n",
       "        } catch (ex) {\n",
       "\n",
       "        } finally {\n",
       "            document.body.removeChild(textarea);\n",
       "        }\n",
       "    }\n",
       "}\n",
       "function expandPanel(el) {\n",
       "  const panelName = \"#\" + el.getAttribute('paneName');\n",
       "  console.log(el.title);\n",
       "\n",
       "  document.querySelector(panelName + \"-title\").innerHTML = el.title\n",
       "  iframe = document.querySelector(panelName + \"-body\");\n",
       "  \n",
       "  const tblcss = `<style> body { font-family: Arial, Helvetica, sans-serif;}\n",
       "    #csv { margin-bottom: 15px; }\n",
       "    #csv table { border-collapse: collapse;}\n",
       "    #csv table td { padding: 4px 8px; border: 1px solid silver;} </style>`;\n",
       "\n",
       "  function csvToHtmlTable(str) {\n",
       "    return '<div id=\"csv\"><table><tr><td>' +  str.replace(/[\\n\\r]+$/g, '').replace(/[\\n\\r]+/g, '</td></tr><tr><td>')\n",
       "      .replace(/,/g, '</td><td>') + '</td></tr></table></div>';\n",
       "  }\n",
       "  \n",
       "  function reqListener () {\n",
       "    if (el.title.endsWith(\".csv\")) {\n",
       "      iframe.setAttribute(\"srcdoc\", tblcss + csvToHtmlTable(this.responseText));\n",
       "    } else {\n",
       "      iframe.setAttribute(\"srcdoc\", this.responseText);\n",
       "    }  \n",
       "    console.log(this.responseText);\n",
       "  }\n",
       "\n",
       "  const oReq = new XMLHttpRequest();\n",
       "  oReq.addEventListener(\"load\", reqListener);\n",
       "  oReq.open(\"GET\", el.title);\n",
       "  oReq.send();\n",
       "  \n",
       "  \n",
       "  //iframe.src = el.title;\n",
       "  const resultPane = document.querySelector(panelName + \"-pane\");\n",
       "  if (resultPane.classList.contains(\"hidden\")) {\n",
       "    resultPane.classList.remove(\"hidden\");\n",
       "  }\n",
       "}\n",
       "function closePanel(el) {\n",
       "  const panelName = \"#\" + el.getAttribute('paneName')\n",
       "  const resultPane = document.querySelector(panelName + \"-pane\");\n",
       "  if (!resultPane.classList.contains(\"hidden\")) {\n",
       "    resultPane.classList.add(\"hidden\");\n",
       "  }\n",
       "}\n",
       "\n",
       "</script>\n",
       "<div class=\"master-wrapper\">\n",
       "  <div class=\"block master-tbl\"><div>\n",
       "<style scoped>\n",
       "    .dataframe tbody tr th:only-of-type {\n",
       "        vertical-align: middle;\n",
       "    }\n",
       "\n",
       "    .dataframe tbody tr th {\n",
       "        vertical-align: top;\n",
       "    }\n",
       "\n",
       "    .dataframe thead th {\n",
       "        text-align: right;\n",
       "    }\n",
       "</style>\n",
       "<table border=\"1\" class=\"dataframe\">\n",
       "  <thead>\n",
       "    <tr style=\"text-align: right;\">\n",
       "      <th>project</th>\n",
       "      <th>uid</th>\n",
       "      <th>iter</th>\n",
       "      <th>start</th>\n",
       "      <th>state</th>\n",
       "      <th>name</th>\n",
       "      <th>labels</th>\n",
       "      <th>inputs</th>\n",
       "      <th>parameters</th>\n",
       "      <th>results</th>\n",
       "      <th>artifacts</th>\n",
       "    </tr>\n",
       "  </thead>\n",
       "  <tbody>\n",
       "    <tr>\n",
       "      <td>default</td>\n",
       "      <td><div title=\"49114e9ca3c049fbb18dd37295e4e44d\"><a href=\"https://mlrun-ui.default-tenant.app.yjb-mlrun-realeasy.iguazio-cd0.com/projects/default/jobs/49114e9ca3c049fbb18dd37295e4e44d/info\" target=\"_blank\" >...95e4e44d</a></div></td>\n",
       "      <td>0</td>\n",
       "      <td>May 12 22:52:27</td>\n",
       "      <td>completed</td>\n",
       "      <td>tasks survive trainer</td>\n",
       "      <td><div class=\"dictlist\">v3io_user=admin</div><div class=\"dictlist\">kind=handler</div><div class=\"dictlist\">owner=admin</div><div class=\"dictlist\">host=jupyter-55f958bc89-rz5cz</div></td>\n",
       "      <td><div class=\"artifact\" onclick=\"expandPanel(this)\" paneName=\"result06e86338\" title=\"/files/repos/functions/coxph_trainer/encoded-data.csv\">dataset</div></td>\n",
       "      <td><div class=\"dictlist\">event_column=labels</div><div class=\"dictlist\">strata_cols=['InternetService', 'StreamingMovies', 'StreamingTV', 'PhoneService']</div><div class=\"dictlist\">p_value=0.005</div><div class=\"dictlist\">encode_cols={'Contract': 'Contract', 'PaymentMethod': 'Payment'}</div><div class=\"dictlist\">models_dest=models/cox</div><div class=\"dictlist\">file_ext=csv</div></td>\n",
       "      <td></td>\n",
       "      <td><div class=\"artifact\" onclick=\"expandPanel(this)\" paneName=\"result06e86338\" title=\"/files/artifacts/churn/tenured-test-set.csv\">tenured-test-set</div><div class=\"artifact\" onclick=\"expandPanel(this)\" paneName=\"result06e86338\" title=\"/files/artifacts/churn/km-timelines.csv\">km-timelines</div><div class=\"artifact\" onclick=\"expandPanel(this)\" paneName=\"result06e86338\" title=\"/files/artifacts/churn/plots/km-survival.html\">km-survival</div><div title=\"/User/artifacts/churn/models/cox\">model</div><div class=\"artifact\" onclick=\"expandPanel(this)\" paneName=\"result06e86338\" title=\"/files/artifacts/churn/coxhazard-summary.csv\">coxhazard-summary</div></td>\n",
       "    </tr>\n",
       "  </tbody>\n",
       "</table>\n",
       "</div></div>\n",
       "  <div id=\"result06e86338-pane\" class=\"right-pane block hidden\">\n",
       "    <div class=\"pane-header\">\n",
       "      <span id=\"result06e86338-title\" class=\"pane-header-title\">Title</span>\n",
       "      <span onclick=\"closePanel(this)\" paneName=\"result06e86338\" class=\"close clickable\">&times;</span>\n",
       "    </div>\n",
       "    <iframe class=\"fileview\" id=\"result06e86338-body\"></iframe>\n",
       "  </div>\n",
       "</div>\n"
      ],
      "text/plain": [
       "<IPython.core.display.HTML object>"
      ]
     },
     "metadata": {},
     "output_type": "display_data"
    },
    {
     "name": "stdout",
     "output_type": "stream",
     "text": [
      "to track results use .show() or .logs() or in CLI: \n",
      "!mlrun get run 49114e9ca3c049fbb18dd37295e4e44d --project default , !mlrun logs 49114e9ca3c049fbb18dd37295e4e44d --project default\n",
      "[mlrun] 2020-05-12 22:52:29,439 run executed, status=completed\n"
     ]
    },
    {
     "data": {
      "image/png": "[encoded data removed]",
      "text/plain": [
       "<Figure size 432x288 with 1 Axes>"
      ]
     },
     "metadata": {
      "needs_background": "light"
     },
     "output_type": "display_data"
    }
   ],
   "source": [
    "from mlrun import run_local, NewTask\n",
    "\n",
    "run = run_local(\n",
    "    NewTask(**task_params),\n",
    "    handler=train_model,\n",
    "    inputs={\"dataset\"  : \"./encoded-data.csv\"},\n",
    "    artifact_path=os.path.join(mlconf.artifact_path, \"churn\"))"
   ]
  },
  {
   "cell_type": "markdown",
   "metadata": {},
   "source": [
    "## a peek at a kaplan-meier model"
   ]
  },
  {
   "cell_type": "code",
   "execution_count": 37,
   "metadata": {},
   "outputs": [
    {
     "data": {
      "text/plain": [
       "<lifelines.KaplanMeierFitter:\"KM_estimate\", fitted with 3954 total observations, 2897 right-censored observations>"
      ]
     },
     "execution_count": 37,
     "metadata": {},
     "output_type": "execute_result"
    }
   ],
   "source": [
    "from cloudpickle import load\n",
    "model = load(open(os.path.join(mlconf.artifact_path, \"churn\", \"models/cox/km/model.pkl\"), \"rb\"))\n",
    "model"
   ]
  },
  {
   "cell_type": "code",
   "execution_count": 38,
   "metadata": {},
   "outputs": [
    {
     "data": {
      "text/plain": [
       "1      0.945878\n",
       "10     0.859838\n",
       "30     0.773100\n",
       "100    0.579614\n",
       "200    0.579614\n",
       "Name: KM_estimate, dtype: float64"
      ]
     },
     "execution_count": 38,
     "metadata": {},
     "output_type": "execute_result"
    }
   ],
   "source": [
    "model.predict([1,10,30,100,200])"
   ]
  },
  {
   "cell_type": "code",
   "execution_count": 39,
   "metadata": {},
   "outputs": [
    {
     "data": {
      "image/png": "[encoded data removed]",
      "text/plain": [
       "<Figure size 792x432 with 1 Axes>"
      ]
     },
     "metadata": {
      "needs_background": "light"
     },
     "output_type": "display_data"
    }
   ],
   "source": [
    "m = model.plot(figsize=(11,6))"
   ]
  },
  {
   "cell_type": "markdown",
   "metadata": {},
   "source": [
    "## a peek at a cox hazards default model"
   ]
  },
  {
   "cell_type": "code",
   "execution_count": 40,
   "metadata": {},
   "outputs": [
    {
     "data": {
      "text/plain": [
       "<lifelines.CoxPHFitter: fitted with 3954 total observations, 2897 right-censored observations>"
      ]
     },
     "execution_count": 40,
     "metadata": {},
     "output_type": "execute_result"
    }
   ],
   "source": [
    "from cloudpickle import load\n",
    "model = load(open(os.path.join(mlconf.artifact_path, \"churn\", \"models/cox/model.pkl\"), \"rb\"))\n",
    "model"
   ]
  },
  {
   "cell_type": "code",
   "execution_count": 41,
   "metadata": {},
   "outputs": [
    {
     "data": {
      "text/html": [
       "<div>\n",
       "<style scoped>\n",
       "    .dataframe tbody tr th:only-of-type {\n",
       "        vertical-align: middle;\n",
       "    }\n",
       "\n",
       "    .dataframe tbody tr th {\n",
       "        vertical-align: top;\n",
       "    }\n",
       "\n",
       "    .dataframe thead th {\n",
       "        text-align: right;\n",
       "    }\n",
       "</style>\n",
       "<table border=\"1\" class=\"dataframe\">\n",
       "  <tbody>\n",
       "    <tr>\n",
       "      <th>model</th>\n",
       "      <td>lifelines.CoxPHFitter</td>\n",
       "    </tr>\n",
       "    <tr>\n",
       "      <th>duration col</th>\n",
       "      <td>'tenure'</td>\n",
       "    </tr>\n",
       "    <tr>\n",
       "      <th>event col</th>\n",
       "      <td>'labels'</td>\n",
       "    </tr>\n",
       "    <tr>\n",
       "      <th>strata</th>\n",
       "      <td>[InternetService, StreamingMovies, StreamingTV...</td>\n",
       "    </tr>\n",
       "    <tr>\n",
       "      <th>baseline estimation</th>\n",
       "      <td>breslow</td>\n",
       "    </tr>\n",
       "    <tr>\n",
       "      <th>number of observations</th>\n",
       "      <td>3954</td>\n",
       "    </tr>\n",
       "    <tr>\n",
       "      <th>number of events observed</th>\n",
       "      <td>1057</td>\n",
       "    </tr>\n",
       "    <tr>\n",
       "      <th>partial log-likelihood</th>\n",
       "      <td>-5062.35</td>\n",
       "    </tr>\n",
       "    <tr>\n",
       "      <th>time fit was run</th>\n",
       "      <td>2020-05-12 22:52:27 UTC</td>\n",
       "    </tr>\n",
       "  </tbody>\n",
       "</table>\n",
       "</div><table border=\"1\" class=\"dataframe\">\n",
       "  <thead>\n",
       "    <tr style=\"text-align: right;\">\n",
       "      <th></th>\n",
       "      <th>coef</th>\n",
       "      <th>exp(coef)</th>\n",
       "      <th>se(coef)</th>\n",
       "      <th>coef lower 95%</th>\n",
       "      <th>coef upper 95%</th>\n",
       "      <th>exp(coef) lower 95%</th>\n",
       "      <th>exp(coef) upper 95%</th>\n",
       "      <th>z</th>\n",
       "      <th>p</th>\n",
       "      <th>-log2(p)</th>\n",
       "    </tr>\n",
       "  </thead>\n",
       "  <tbody>\n",
       "    <tr>\n",
       "      <th>gender</th>\n",
       "      <td>-0.06</td>\n",
       "      <td>0.94</td>\n",
       "      <td>0.06</td>\n",
       "      <td>-0.18</td>\n",
       "      <td>0.06</td>\n",
       "      <td>0.84</td>\n",
       "      <td>1.07</td>\n",
       "      <td>-0.92</td>\n",
       "      <td>0.36</td>\n",
       "      <td>1.49</td>\n",
       "    </tr>\n",
       "    <tr>\n",
       "      <th>senior</th>\n",
       "      <td>-0.01</td>\n",
       "      <td>0.99</td>\n",
       "      <td>0.08</td>\n",
       "      <td>-0.16</td>\n",
       "      <td>0.14</td>\n",
       "      <td>0.85</td>\n",
       "      <td>1.15</td>\n",
       "      <td>-0.14</td>\n",
       "      <td>0.89</td>\n",
       "      <td>0.17</td>\n",
       "    </tr>\n",
       "    <tr>\n",
       "      <th>partner</th>\n",
       "      <td>-0.56</td>\n",
       "      <td>0.57</td>\n",
       "      <td>0.07</td>\n",
       "      <td>-0.70</td>\n",
       "      <td>-0.41</td>\n",
       "      <td>0.49</td>\n",
       "      <td>0.66</td>\n",
       "      <td>-7.55</td>\n",
       "      <td>&lt;0.005</td>\n",
       "      <td>44.43</td>\n",
       "    </tr>\n",
       "    <tr>\n",
       "      <th>deps</th>\n",
       "      <td>-0.14</td>\n",
       "      <td>0.87</td>\n",
       "      <td>0.09</td>\n",
       "      <td>-0.32</td>\n",
       "      <td>0.04</td>\n",
       "      <td>0.72</td>\n",
       "      <td>1.04</td>\n",
       "      <td>-1.49</td>\n",
       "      <td>0.14</td>\n",
       "      <td>2.88</td>\n",
       "    </tr>\n",
       "    <tr>\n",
       "      <th>MultipleLines</th>\n",
       "      <td>-0.34</td>\n",
       "      <td>0.71</td>\n",
       "      <td>0.17</td>\n",
       "      <td>-0.68</td>\n",
       "      <td>-0.01</td>\n",
       "      <td>0.51</td>\n",
       "      <td>0.99</td>\n",
       "      <td>-2.04</td>\n",
       "      <td>0.04</td>\n",
       "      <td>4.59</td>\n",
       "    </tr>\n",
       "    <tr>\n",
       "      <th>OnlineSecurity</th>\n",
       "      <td>-0.56</td>\n",
       "      <td>0.57</td>\n",
       "      <td>0.18</td>\n",
       "      <td>-0.90</td>\n",
       "      <td>-0.21</td>\n",
       "      <td>0.41</td>\n",
       "      <td>0.81</td>\n",
       "      <td>-3.14</td>\n",
       "      <td>&lt;0.005</td>\n",
       "      <td>9.19</td>\n",
       "    </tr>\n",
       "    <tr>\n",
       "      <th>OnlineBackup</th>\n",
       "      <td>-0.63</td>\n",
       "      <td>0.53</td>\n",
       "      <td>0.17</td>\n",
       "      <td>-0.96</td>\n",
       "      <td>-0.30</td>\n",
       "      <td>0.38</td>\n",
       "      <td>0.74</td>\n",
       "      <td>-3.72</td>\n",
       "      <td>&lt;0.005</td>\n",
       "      <td>12.28</td>\n",
       "    </tr>\n",
       "    <tr>\n",
       "      <th>DeviceProtection</th>\n",
       "      <td>-0.25</td>\n",
       "      <td>0.78</td>\n",
       "      <td>0.17</td>\n",
       "      <td>-0.57</td>\n",
       "      <td>0.08</td>\n",
       "      <td>0.56</td>\n",
       "      <td>1.09</td>\n",
       "      <td>-1.46</td>\n",
       "      <td>0.14</td>\n",
       "      <td>2.79</td>\n",
       "    </tr>\n",
       "    <tr>\n",
       "      <th>TechSupport</th>\n",
       "      <td>-0.29</td>\n",
       "      <td>0.75</td>\n",
       "      <td>0.18</td>\n",
       "      <td>-0.64</td>\n",
       "      <td>0.05</td>\n",
       "      <td>0.53</td>\n",
       "      <td>1.05</td>\n",
       "      <td>-1.66</td>\n",
       "      <td>0.10</td>\n",
       "      <td>3.37</td>\n",
       "    </tr>\n",
       "    <tr>\n",
       "      <th>PaperlessBilling</th>\n",
       "      <td>0.10</td>\n",
       "      <td>1.11</td>\n",
       "      <td>0.07</td>\n",
       "      <td>-0.04</td>\n",
       "      <td>0.25</td>\n",
       "      <td>0.96</td>\n",
       "      <td>1.28</td>\n",
       "      <td>1.36</td>\n",
       "      <td>0.17</td>\n",
       "      <td>2.53</td>\n",
       "    </tr>\n",
       "    <tr>\n",
       "      <th>MonthlyCharges</th>\n",
       "      <td>-0.02</td>\n",
       "      <td>0.98</td>\n",
       "      <td>0.03</td>\n",
       "      <td>-0.08</td>\n",
       "      <td>0.04</td>\n",
       "      <td>0.93</td>\n",
       "      <td>1.04</td>\n",
       "      <td>-0.55</td>\n",
       "      <td>0.58</td>\n",
       "      <td>0.78</td>\n",
       "    </tr>\n",
       "    <tr>\n",
       "      <th>Contract_1</th>\n",
       "      <td>-1.60</td>\n",
       "      <td>0.20</td>\n",
       "      <td>0.12</td>\n",
       "      <td>-1.83</td>\n",
       "      <td>-1.37</td>\n",
       "      <td>0.16</td>\n",
       "      <td>0.25</td>\n",
       "      <td>-13.65</td>\n",
       "      <td>&lt;0.005</td>\n",
       "      <td>138.50</td>\n",
       "    </tr>\n",
       "    <tr>\n",
       "      <th>Contract_2</th>\n",
       "      <td>-3.22</td>\n",
       "      <td>0.04</td>\n",
       "      <td>0.23</td>\n",
       "      <td>-3.66</td>\n",
       "      <td>-2.77</td>\n",
       "      <td>0.03</td>\n",
       "      <td>0.06</td>\n",
       "      <td>-14.18</td>\n",
       "      <td>&lt;0.005</td>\n",
       "      <td>149.21</td>\n",
       "    </tr>\n",
       "    <tr>\n",
       "      <th>Payment_1</th>\n",
       "      <td>-0.05</td>\n",
       "      <td>0.95</td>\n",
       "      <td>0.12</td>\n",
       "      <td>-0.29</td>\n",
       "      <td>0.19</td>\n",
       "      <td>0.75</td>\n",
       "      <td>1.21</td>\n",
       "      <td>-0.41</td>\n",
       "      <td>0.68</td>\n",
       "      <td>0.55</td>\n",
       "    </tr>\n",
       "    <tr>\n",
       "      <th>Payment_2</th>\n",
       "      <td>0.62</td>\n",
       "      <td>1.85</td>\n",
       "      <td>0.10</td>\n",
       "      <td>0.43</td>\n",
       "      <td>0.80</td>\n",
       "      <td>1.53</td>\n",
       "      <td>2.23</td>\n",
       "      <td>6.41</td>\n",
       "      <td>&lt;0.005</td>\n",
       "      <td>32.71</td>\n",
       "    </tr>\n",
       "    <tr>\n",
       "      <th>Payment_3</th>\n",
       "      <td>0.58</td>\n",
       "      <td>1.79</td>\n",
       "      <td>0.12</td>\n",
       "      <td>0.34</td>\n",
       "      <td>0.82</td>\n",
       "      <td>1.41</td>\n",
       "      <td>2.27</td>\n",
       "      <td>4.78</td>\n",
       "      <td>&lt;0.005</td>\n",
       "      <td>19.10</td>\n",
       "    </tr>\n",
       "  </tbody>\n",
       "</table><div>\n",
       "<style scoped>\n",
       "    .dataframe tbody tr th:only-of-type {\n",
       "        vertical-align: middle;\n",
       "    }\n",
       "\n",
       "    .dataframe tbody tr th {\n",
       "        vertical-align: top;\n",
       "    }\n",
       "\n",
       "    .dataframe thead th {\n",
       "        text-align: right;\n",
       "    }\n",
       "</style>\n",
       "<table border=\"1\" class=\"dataframe\">\n",
       "  <tbody>\n",
       "    <tr>\n",
       "      <th>Concordance</th>\n",
       "      <td>0.84</td>\n",
       "    </tr>\n",
       "    <tr>\n",
       "      <th>Log-likelihood ratio test</th>\n",
       "      <td>1515.64 on 16 df</td>\n",
       "    </tr>\n",
       "    <tr>\n",
       "      <th>-log2(p) of ll-ratio test</th>\n",
       "      <td>inf</td>\n",
       "    </tr>\n",
       "  </tbody>\n",
       "</table>\n",
       "</div>"
      ],
      "text/plain": [
       "<IPython.core.display.HTML object>"
      ]
     },
     "metadata": {},
     "output_type": "display_data"
    }
   ],
   "source": [
    "model.print_summary()"
   ]
  },
  {
   "cell_type": "markdown",
   "metadata": {},
   "source": [
    "### some potential default analyses of coxph"
   ]
  },
  {
   "cell_type": "code",
   "execution_count": 42,
   "metadata": {},
   "outputs": [
    {
     "data": {
      "text/plain": [
       "<matplotlib.axes._subplots.AxesSubplot at 0x7f0c1b96a438>"
      ]
     },
     "execution_count": 42,
     "metadata": {},
     "output_type": "execute_result"
    },
    {
     "data": {
      "image/png": "[encoded data removed]",
      "text/plain": [
       "<Figure size 432x288 with 1 Axes>"
      ]
     },
     "metadata": {
      "needs_background": "light"
     },
     "output_type": "display_data"
    }
   ],
   "source": [
    "model.baseline_survival_.plot()"
   ]
  },
  {
   "cell_type": "markdown",
   "metadata": {},
   "source": [
    "* run the following for each of the lines that passes some test (p < 0.005,for example):<br>\n",
    " `model.plot_covariate_groups('Contract_1', values=[0, 1]);`<br>\n",
    " the plot needs to have the strata decoded\n",
    " \n",
    " In the train_model above, set param `plot_cov_groups=True` and produce the following set of artifacts by selecting only those covariates whose p-values\n",
    " are below some threshold `p_value`"
   ]
  },
  {
   "cell_type": "code",
   "execution_count": 22,
   "metadata": {},
   "outputs": [],
   "source": [
    "# import matplotlib.pyplot as plt\n",
    "# # need to add strata labels baseline legend\n",
    "# ax = model.plot_covariate_groups('Contract_1', values=[0, 1])\n",
    "# len(ax)"
   ]
  }
 ],
 "metadata": {
  "kernelspec": {
   "display_name": "Python 3",
   "language": "python",
   "name": "python3"
  },
  "language_info": {
   "codemirror_mode": {
    "name": "ipython",
    "version": 3
   },
   "file_extension": ".py",
   "mimetype": "text/x-python",
   "name": "python",
   "nbconvert_exporter": "python",
   "pygments_lexer": "ipython3",
   "version": "3.6.8"
  }
 },
 "nbformat": 4,
 "nbformat_minor": 4
}
