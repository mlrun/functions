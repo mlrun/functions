{
 "cells": [
  {
   "cell_type": "code",
   "execution_count": null,
   "metadata": {},
   "outputs": [],
   "source": [
    "import mlrun, os"
   ]
  },
  {
   "cell_type": "code",
   "execution_count": null,
   "metadata": {},
   "outputs": [],
   "source": [
    "task_params = {\n",
    "    \"name\":        \"generate classification data task\", \n",
    "    \"params\" : {\n",
    "        \"n_samples\"   : 1_000,\n",
    "        \"m_features\"  : 28,\n",
    "        \"k_classes\"   : 4,\n",
    "        \"weight\"      : [0.2, 0.8, 0.5],\n",
    "        \"sk_params\"   : {\"n_informative\": 8}},\n",
    "    # fixed location, we'll use this later in multiple demos\n",
    "    \"artifact_path\"  : \"/User/tmp\"}"
   ]
  },
  {
   "cell_type": "code",
   "execution_count": null,
   "metadata": {},
   "outputs": [],
   "source": [
    "rfn = mlrun.import_function(\"hub://gen_class_data\").apply(mlrun.mount_v3io())\n",
    "tsk = rfn.run(mlrun.NewTask(**task_params))"
   ]
  },
  {
   "cell_type": "code",
   "execution_count": null,
   "metadata": {},
   "outputs": [],
   "source": []
  }
 ],
 "metadata": {
  "kernelspec": {
   "display_name": "mlrun-v0.4.6",
   "language": "python",
   "name": "mlrun-v0.4.6"
  },
  "language_info": {
   "codemirror_mode": {
    "name": "ipython",
    "version": 3
   },
   "file_extension": ".py",
   "mimetype": "text/x-python",
   "name": "python",
   "nbconvert_exporter": "python",
   "pygments_lexer": "ipython3",
   "version": "3.7.6"
  }
 },
 "nbformat": 4,
 "nbformat_minor": 4
}
