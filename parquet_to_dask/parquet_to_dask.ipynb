{
 "cells": [
  {
   "cell_type": "markdown",
   "metadata": {},
   "source": [
    "# parquet to dask\n",
    "load a parquet dataset into a dask cluster"
   ]
  },
  {
   "cell_type": "code",
   "execution_count": 1,
   "metadata": {},
   "outputs": [],
   "source": [
    "import mlrun\n",
    "import os\n",
    "mlrun.mlconf.dbpath = 'http://mlrun-api:8080'\n",
    "mlrun.mlconf.remote_host = '3.20.134.26' "
   ]
  },
  {
   "cell_type": "markdown",
   "metadata": {},
   "source": [
    "## parameters\n"
   ]
  },
  {
   "cell_type": "code",
   "execution_count": 2,
   "metadata": {},
   "outputs": [],
   "source": [
    "FUNCTION           = 'parquet_to_dask'\n",
    "DESCRIPTION        = 'load parquet dataset into a dask cluster'\n",
    "\n",
    "BASE_IMAGE         = 'yjbds/mlrun-daskboost:dev'\n",
    "JOB_KIND           = 'dask'\n",
    "TASK_NAME          = 'user-task-parq-to-dask'\n",
    "\n",
    "CODE_BASE          = '/User/repos/functions/fileutils'\n",
    "\n",
    "SRC_PATH           = '/User/mlrun/airlines/dataset-small/partitions'\n",
    "\n",
    "PARTITION_COLS     = ['Year', 'Month']\n",
    "PARTITION_COLS     = None\n",
    "\n",
    "DASK_SHARDS = 4\n",
    "DASK_THREADS_PER = 4"
   ]
  },
  {
   "cell_type": "markdown",
   "metadata": {},
   "source": [
    "## load and configure function"
   ]
  },
  {
   "cell_type": "code",
   "execution_count": 3,
   "metadata": {},
   "outputs": [],
   "source": [
    "func_py = os.path.join(CODE_BASE, FUNCTION, 'function.py')\n",
    "func_yaml = os.path.join(CODE_BASE, FUNCTION, 'function.yaml')"
   ]
  },
  {
   "cell_type": "markdown",
   "metadata": {},
   "source": [
    "**If run the first time, create the function:**"
   ]
  },
  {
   "cell_type": "code",
   "execution_count": 4,
   "metadata": {},
   "outputs": [],
   "source": [
    "# load function from a local Python file\n",
    "parq2dask = mlrun.new_function(command=func_py, kind=JOB_KIND)\n",
    "\n",
    "parq2dask.spec.remote = True\n",
    "parq2dask.spec.replicas = 4 \n",
    "parq2dask.spec.max_replicas = 4\n",
    "parq2dask.spec.service_type = 'NodePort'\n",
    "parq2dask.spec.image_pull_policy = 'Always'\n",
    "parq2dask.spec.build.image = BASE_IMAGE"
   ]
  },
  {
   "cell_type": "code",
   "execution_count": 5,
   "metadata": {},
   "outputs": [
    {
     "name": "stdout",
     "output_type": "stream",
     "text": [
      "[mlrun] 2020-02-03 12:21:40,341 function spec saved to path: /User/repos/functions/fileutils/parquet_to_dask/function.yaml\n"
     ]
    }
   ],
   "source": [
    "parq2dask.export(func_yaml)"
   ]
  },
  {
   "cell_type": "markdown",
   "metadata": {},
   "source": [
    "**otherwise load it:**"
   ]
  },
  {
   "cell_type": "code",
   "execution_count": 6,
   "metadata": {},
   "outputs": [
    {
     "data": {
      "text/plain": [
       "'ready'"
      ]
     },
     "execution_count": 6,
     "metadata": {},
     "output_type": "execute_result"
    }
   ],
   "source": [
    "# parq2dask = mlrun.import_function(func_yaml)\n",
    "\n",
    "parq2dask.apply(mlrun.mount_v3io())\n",
    "# parq2dask.spec.image = 'yjbds/mlrun-daskboost:dev'\n",
    "\n",
    "parq2dask.deploy(skip_deployed=True, with_mlrun=False)"
   ]
  },
  {
   "cell_type": "code",
   "execution_count": 8,
   "metadata": {},
   "outputs": [
    {
     "name": "stdout",
     "output_type": "stream",
     "text": [
      "[mlrun] 2020-02-03 12:21:44,208 starting run user-task-parq-to-dask uid=7f492c3993e142c8ab659a02bd79d843  -> http://mlrun-api:8080\n",
      "[mlrun] 2020-02-03 12:21:45,121 using remote dask scheduler (mlrun-function-a1926d9a-b) at: 3.20.134.26:31014\n",
      "[mlrun] 2020-02-03 12:21:45,122 remote dashboard (node) port: 3.20.134.26:30360\n"
     ]
    },
    {
     "name": "stderr",
     "output_type": "stream",
     "text": [
      "/conda/lib/python3.6/site-packages/distributed/client.py:1071: VersionMismatchWarning: Mismatched versions found\n",
      "\n",
      "blosc\n",
      "+--------------------------+---------+\n",
      "|                          | version |\n",
      "+--------------------------+---------+\n",
      "| client                   | None    |\n",
      "| scheduler                | 1.8.3   |\n",
      "| tcp://10.233.64.52:37679 | 1.8.3   |\n",
      "| tcp://10.233.64.53:43466 | 1.8.3   |\n",
      "| tcp://10.233.64.54:33816 | 1.8.3   |\n",
      "| tcp://10.233.64.55:36283 | 1.8.3   |\n",
      "+--------------------------+---------+\n",
      "\n",
      "cloudpickle\n",
      "+--------------------------+---------+\n",
      "|                          | version |\n",
      "+--------------------------+---------+\n",
      "| client                   | 1.1.1   |\n",
      "| scheduler                | 1.2.2   |\n",
      "| tcp://10.233.64.52:37679 | 1.2.2   |\n",
      "| tcp://10.233.64.53:43466 | 1.2.2   |\n",
      "| tcp://10.233.64.54:33816 | 1.2.2   |\n",
      "| tcp://10.233.64.55:36283 | 1.2.2   |\n",
      "+--------------------------+---------+\n",
      "\n",
      "lz4\n",
      "+--------------------------+---------+\n",
      "|                          | version |\n",
      "+--------------------------+---------+\n",
      "| client                   | None    |\n",
      "| scheduler                | 3.0.2   |\n",
      "| tcp://10.233.64.52:37679 | 3.0.2   |\n",
      "| tcp://10.233.64.53:43466 | 3.0.2   |\n",
      "| tcp://10.233.64.54:33816 | 3.0.2   |\n",
      "| tcp://10.233.64.55:36283 | 3.0.2   |\n",
      "+--------------------------+---------+\n",
      "\n",
      "msgpack\n",
      "+--------------------------+---------+\n",
      "|                          | version |\n",
      "+--------------------------+---------+\n",
      "| client                   | 0.6.2   |\n",
      "| scheduler                | 0.6.1   |\n",
      "| tcp://10.233.64.52:37679 | 0.6.1   |\n",
      "| tcp://10.233.64.53:43466 | 0.6.1   |\n",
      "| tcp://10.233.64.54:33816 | 0.6.1   |\n",
      "| tcp://10.233.64.55:36283 | 0.6.1   |\n",
      "+--------------------------+---------+\n",
      "\n",
      "numpy\n",
      "+--------------------------+---------+\n",
      "|                          | version |\n",
      "+--------------------------+---------+\n",
      "| client                   | 1.18.1  |\n",
      "| scheduler                | 1.17.4  |\n",
      "| tcp://10.233.64.52:37679 | 1.17.4  |\n",
      "| tcp://10.233.64.53:43466 | 1.17.4  |\n",
      "| tcp://10.233.64.54:33816 | 1.17.4  |\n",
      "| tcp://10.233.64.55:36283 | 1.17.4  |\n",
      "+--------------------------+---------+\n",
      "  warnings.warn(version_module.VersionMismatchWarning(msg[0][\"warning\"]))\n",
      "distributed.utils - ERROR - 'Dataset dask_key already exists'\n",
      "Traceback (most recent call last):\n",
      "  File \"/conda/lib/python3.6/site-packages/distributed/utils.py\", line 662, in log_errors\n",
      "    yield\n",
      "  File \"/conda/lib/python3.6/site-packages/distributed/client.py\", line 2162, in _publish_dataset\n",
      "    yield coroutines\n",
      "  File \"/conda/lib/python3.6/site-packages/tornado/gen.py\", line 735, in run\n",
      "    value = future.result()\n",
      "  File \"/conda/lib/python3.6/site-packages/tornado/gen.py\", line 501, in callback\n",
      "    result_list.append(f.result())\n",
      "  File \"/conda/lib/python3.6/asyncio/tasks.py\", line 180, in _step\n",
      "    result = coro.send(None)\n",
      "  File \"/conda/lib/python3.6/site-packages/distributed/core.py\", line 757, in send_recv_from_rpc\n",
      "    result = await send_recv(comm=comm, op=key, **kwargs)\n",
      "  File \"/conda/lib/python3.6/site-packages/distributed/core.py\", line 556, in send_recv\n",
      "    raise exc.with_traceback(tb)\n",
      "  File \"/opt/conda/lib/python3.7/site-packages/distributed/core.py\", line 408, in handle_comm\n",
      "  File \"/opt/conda/lib/python3.7/site-packages/distributed/publish.py\", line 32, in put\n",
      "KeyError: 'Dataset dask_key already exists'\n"
     ]
    },
    {
     "name": "stdout",
     "output_type": "stream",
     "text": [
      "[mlrun] 2020-02-03 12:21:45,272 exec error - 'Dataset dask_key already exists'\n"
     ]
    },
    {
     "name": "stderr",
     "output_type": "stream",
     "text": [
      "'Dataset dask_key already exists'\n"
     ]
    },
    {
     "data": {
      "text/html": [
       "<style> \n",
       ".dictlist {\n",
       "  background-color: #b3edff; \n",
       "  text-align: center; \n",
       "  margin: 4px; \n",
       "  border-radius: 3px; padding: 0px 3px 1px 3px; display: inline-block;}\n",
       ".artifact {\n",
       "  cursor: pointer; \n",
       "  background-color: #ffe6cc; \n",
       "  text-align: left; \n",
       "  margin: 4px; border-radius: 3px; padding: 0px 3px 1px 3px; display: inline-block;\n",
       "}\n",
       "div.block.hidden {\n",
       "  display: none;\n",
       "}\n",
       ".clickable {\n",
       "  cursor: pointer;\n",
       "}\n",
       ".ellipsis {\n",
       "  display: inline-block;\n",
       "  max-width: 60px;\n",
       "  white-space: nowrap;\n",
       "  overflow: hidden;\n",
       "  text-overflow: ellipsis;\n",
       "}\n",
       ".master-wrapper {\n",
       "  display: flex;\n",
       "  flex-flow: row nowrap;\n",
       "  justify-content: flex-start;\n",
       "  align-items: stretch;\n",
       "}\n",
       ".master-tbl {\n",
       "  flex: 3\n",
       "}\n",
       ".master-wrapper > div {\n",
       "  margin: 4px;\n",
       "  padding: 10px;\n",
       "}\n",
       "iframe.fileview {\n",
       "  border: 0 none;\n",
       "  height: 100%;\n",
       "  width: 100%;\n",
       "  white-space: pre-wrap;\n",
       "}\n",
       ".pane-header-title {\n",
       "  width: 80%;\n",
       "  font-weight: 500;\n",
       "}\n",
       ".pane-header {\n",
       "  line-height: 1;\n",
       "  background-color: #ffe6cc;\n",
       "  padding: 3px;\n",
       "}\n",
       ".pane-header .close {\n",
       "  font-size: 20px;\n",
       "  font-weight: 700;\n",
       "  float: right;\n",
       "  margin-top: -5px;\n",
       "}\n",
       ".master-wrapper .right-pane {\n",
       "  border: 1px inset silver;\n",
       "  width: 40%;\n",
       "  min-height: 300px;\n",
       "  flex: 3\n",
       "  min-width: 500px;\n",
       "}\n",
       ".master-wrapper * {\n",
       "  box-sizing: border-box;\n",
       "}\n",
       "</style><script>\n",
       "function copyToClipboard(fld) {\n",
       "    if (document.queryCommandSupported && document.queryCommandSupported('copy')) {\n",
       "        var textarea = document.createElement('textarea');\n",
       "        textarea.textContent = fld.innerHTML;\n",
       "        textarea.style.position = 'fixed';\n",
       "        document.body.appendChild(textarea);\n",
       "        textarea.select();\n",
       "\n",
       "        try {\n",
       "            return document.execCommand('copy'); // Security exception may be thrown by some browsers.\n",
       "        } catch (ex) {\n",
       "\n",
       "        } finally {\n",
       "            document.body.removeChild(textarea);\n",
       "        }\n",
       "    }\n",
       "}\n",
       "function expandPanel(el) {\n",
       "  const panelName = \"#\" + el.getAttribute('paneName');\n",
       "  console.log(el.title);\n",
       "\n",
       "  document.querySelector(panelName + \"-title\").innerHTML = el.title\n",
       "  iframe = document.querySelector(panelName + \"-body\");\n",
       "  \n",
       "  const tblcss = `<style> body { font-family: Arial, Helvetica, sans-serif;}\n",
       "    #csv { margin-bottom: 15px; }\n",
       "    #csv table { border-collapse: collapse;}\n",
       "    #csv table td { padding: 4px 8px; border: 1px solid silver;} </style>`;\n",
       "\n",
       "  function csvToHtmlTable(str) {\n",
       "    return '<div id=\"csv\"><table><tr><td>' +  str.replace(/[\\n\\r]+$/g, '').replace(/[\\n\\r]+/g, '</td></tr><tr><td>')\n",
       "      .replace(/,/g, '</td><td>') + '</td></tr></table></div>';\n",
       "  }\n",
       "  \n",
       "  function reqListener () {\n",
       "    if (el.title.endsWith(\".csv\")) {\n",
       "      iframe.setAttribute(\"srcdoc\", tblcss + csvToHtmlTable(this.responseText));\n",
       "    } else {\n",
       "      iframe.setAttribute(\"srcdoc\", this.responseText);\n",
       "    }  \n",
       "    console.log(this.responseText);\n",
       "  }\n",
       "\n",
       "  const oReq = new XMLHttpRequest();\n",
       "  oReq.addEventListener(\"load\", reqListener);\n",
       "  oReq.open(\"GET\", el.title);\n",
       "  oReq.send();\n",
       "  \n",
       "  \n",
       "  //iframe.src = el.title;\n",
       "  const resultPane = document.querySelector(panelName + \"-pane\");\n",
       "  if (resultPane.classList.contains(\"hidden\")) {\n",
       "    resultPane.classList.remove(\"hidden\");\n",
       "  }\n",
       "}\n",
       "function closePanel(el) {\n",
       "  const panelName = \"#\" + el.getAttribute('paneName')\n",
       "  const resultPane = document.querySelector(panelName + \"-pane\");\n",
       "  if (!resultPane.classList.contains(\"hidden\")) {\n",
       "    resultPane.classList.add(\"hidden\");\n",
       "  }\n",
       "}\n",
       "\n",
       "</script>\n",
       "<div class=\"master-wrapper\">\n",
       "  <div class=\"block master-tbl\"><div>\n",
       "<style scoped>\n",
       "    .dataframe tbody tr th:only-of-type {\n",
       "        vertical-align: middle;\n",
       "    }\n",
       "\n",
       "    .dataframe tbody tr th {\n",
       "        vertical-align: top;\n",
       "    }\n",
       "\n",
       "    .dataframe thead th {\n",
       "        text-align: right;\n",
       "    }\n",
       "</style>\n",
       "<table border=\"1\" class=\"dataframe\">\n",
       "  <thead>\n",
       "    <tr style=\"text-align: right;\">\n",
       "      <th>uid</th>\n",
       "      <th>iter</th>\n",
       "      <th>start</th>\n",
       "      <th>state</th>\n",
       "      <th>name</th>\n",
       "      <th>labels</th>\n",
       "      <th>inputs</th>\n",
       "      <th>parameters</th>\n",
       "      <th>results</th>\n",
       "      <th>artifacts</th>\n",
       "    </tr>\n",
       "  </thead>\n",
       "  <tbody>\n",
       "    <tr>\n",
       "      <td><div title=\"7f492c3993e142c8ab659a02bd79d843\">...79d843</div></td>\n",
       "      <td>0</td>\n",
       "      <td>Feb 03 12:21:45</td>\n",
       "      <td><div style=\"color: red;\" title=\"'Dataset dask_key already exists'\">error</div></td>\n",
       "      <td>user-task-parq-to-dask</td>\n",
       "      <td><div class=\"dictlist\">host=jupyter-1-7db95b7786-v8fcf</div><div class=\"dictlist\">kind=dask</div><div class=\"dictlist\">owner=admin</div></td>\n",
       "      <td></td>\n",
       "      <td><div class=\"dictlist\">dask_key=testdf1</div><div class=\"dictlist\">index_cols=None</div><div class=\"dictlist\">parquet_url=/User/mlrun/airlines/dataset-small/partitions</div><div class=\"dictlist\">persist=True</div><div class=\"dictlist\">shards=4</div><div class=\"dictlist\">target_path=/User/mlrun/models</div><div class=\"dictlist\">threads_per=4</div></td>\n",
       "      <td></td>\n",
       "      <td></td>\n",
       "    </tr>\n",
       "  </tbody>\n",
       "</table>\n",
       "</div></div>\n",
       "  <div id=\"result27ec696f-pane\" class=\"right-pane block hidden\">\n",
       "    <div class=\"pane-header\">\n",
       "      <span id=\"result27ec696f-title\" class=\"pane-header-title\">Title</span>\n",
       "      <span onclick=\"closePanel(this)\" paneName=\"result27ec696f\" class=\"close clickable\">&times;</span>\n",
       "    </div>\n",
       "    <iframe class=\"fileview\" id=\"result27ec696f-body\"></iframe>\n",
       "  </div>\n",
       "</div>\n"
      ],
      "text/plain": [
       "<IPython.core.display.HTML object>"
      ]
     },
     "metadata": {},
     "output_type": "display_data"
    },
    {
     "name": "stdout",
     "output_type": "stream",
     "text": [
      "to track results use .show() or .logs() or in CLI: \n",
      "!mlrun get run 7f492c3993e142c8ab659a02bd79d843  , !mlrun logs 7f492c3993e142c8ab659a02bd79d843 \n",
      "[mlrun] 2020-02-03 12:21:45,331 run executed, status=error\n"
     ]
    },
    {
     "ename": "RunError",
     "evalue": "'Dataset dask_key already exists'",
     "output_type": "error",
     "traceback": [
      "\u001b[0;31m---------------------------------------------------------------------------\u001b[0m",
      "\u001b[0;31mRunError\u001b[0m                                  Traceback (most recent call last)",
      "\u001b[0;32m<ipython-input-8-ee49f2886586>\u001b[0m in \u001b[0;36m<module>\u001b[0;34m\u001b[0m\n\u001b[1;32m     12\u001b[0m         'target_path': '/User/mlrun/models'})\n\u001b[1;32m     13\u001b[0m \u001b[0;31m# run\u001b[0m\u001b[0;34m\u001b[0m\u001b[0;34m\u001b[0m\u001b[0;34m\u001b[0m\u001b[0m\n\u001b[0;32m---> 14\u001b[0;31m \u001b[0mrn\u001b[0m \u001b[0;34m=\u001b[0m \u001b[0mparq2dask\u001b[0m\u001b[0;34m.\u001b[0m\u001b[0mrun\u001b[0m\u001b[0;34m(\u001b[0m\u001b[0mparq_to_dask_task\u001b[0m\u001b[0;34m)\u001b[0m\u001b[0;34m\u001b[0m\u001b[0;34m\u001b[0m\u001b[0m\n\u001b[0m",
      "\u001b[0;32m~/repos/mlrun/mlrun/runtimes/base.py\u001b[0m in \u001b[0;36mrun\u001b[0;34m(self, runspec, handler, name, project, params, inputs, out_path, workdir, watch, schedule)\u001b[0m\n\u001b[1;32m    304\u001b[0m                 \u001b[0mresult\u001b[0m \u001b[0;34m=\u001b[0m \u001b[0mself\u001b[0m\u001b[0;34m.\u001b[0m\u001b[0m_post_run\u001b[0m\u001b[0;34m(\u001b[0m\u001b[0mtask\u001b[0m\u001b[0;34m=\u001b[0m\u001b[0mrunspec\u001b[0m\u001b[0;34m,\u001b[0m \u001b[0merr\u001b[0m\u001b[0;34m=\u001b[0m\u001b[0merr\u001b[0m\u001b[0;34m)\u001b[0m\u001b[0;34m\u001b[0m\u001b[0;34m\u001b[0m\u001b[0m\n\u001b[1;32m    305\u001b[0m \u001b[0;34m\u001b[0m\u001b[0m\n\u001b[0;32m--> 306\u001b[0;31m         \u001b[0;32mreturn\u001b[0m \u001b[0mself\u001b[0m\u001b[0;34m.\u001b[0m\u001b[0m_wrap_result\u001b[0m\u001b[0;34m(\u001b[0m\u001b[0mresult\u001b[0m\u001b[0;34m,\u001b[0m \u001b[0mrunspec\u001b[0m\u001b[0;34m,\u001b[0m \u001b[0merr\u001b[0m\u001b[0;34m=\u001b[0m\u001b[0mlast_err\u001b[0m\u001b[0;34m)\u001b[0m\u001b[0;34m\u001b[0m\u001b[0;34m\u001b[0m\u001b[0m\n\u001b[0m\u001b[1;32m    307\u001b[0m \u001b[0;34m\u001b[0m\u001b[0m\n\u001b[1;32m    308\u001b[0m     \u001b[0;32mdef\u001b[0m \u001b[0m_wrap_result\u001b[0m\u001b[0;34m(\u001b[0m\u001b[0mself\u001b[0m\u001b[0;34m,\u001b[0m \u001b[0mresult\u001b[0m\u001b[0;34m:\u001b[0m \u001b[0mdict\u001b[0m\u001b[0;34m,\u001b[0m \u001b[0mrunspec\u001b[0m\u001b[0;34m:\u001b[0m \u001b[0mRunObject\u001b[0m\u001b[0;34m,\u001b[0m \u001b[0merr\u001b[0m\u001b[0;34m=\u001b[0m\u001b[0;32mNone\u001b[0m\u001b[0;34m)\u001b[0m\u001b[0;34m:\u001b[0m\u001b[0;34m\u001b[0m\u001b[0;34m\u001b[0m\u001b[0m\n",
      "\u001b[0;32m~/repos/mlrun/mlrun/runtimes/base.py\u001b[0m in \u001b[0;36m_wrap_result\u001b[0;34m(self, result, runspec, err)\u001b[0m\n\u001b[1;32m    336\u001b[0m                 \u001b[0;32mif\u001b[0m \u001b[0mself\u001b[0m\u001b[0;34m.\u001b[0m\u001b[0m_is_remote\u001b[0m \u001b[0;32mand\u001b[0m \u001b[0;32mnot\u001b[0m \u001b[0mself\u001b[0m\u001b[0;34m.\u001b[0m\u001b[0mis_child\u001b[0m\u001b[0;34m:\u001b[0m\u001b[0;34m\u001b[0m\u001b[0;34m\u001b[0m\u001b[0m\n\u001b[1;32m    337\u001b[0m                     \u001b[0mprint\u001b[0m\u001b[0;34m(\u001b[0m\u001b[0;34m'runtime error: {}'\u001b[0m\u001b[0;34m.\u001b[0m\u001b[0mformat\u001b[0m\u001b[0;34m(\u001b[0m\u001b[0mrun\u001b[0m\u001b[0;34m.\u001b[0m\u001b[0mstatus\u001b[0m\u001b[0;34m.\u001b[0m\u001b[0merror\u001b[0m\u001b[0;34m)\u001b[0m\u001b[0;34m)\u001b[0m\u001b[0;34m\u001b[0m\u001b[0;34m\u001b[0m\u001b[0m\n\u001b[0;32m--> 338\u001b[0;31m                 \u001b[0;32mraise\u001b[0m \u001b[0mRunError\u001b[0m\u001b[0;34m(\u001b[0m\u001b[0mrun\u001b[0m\u001b[0;34m.\u001b[0m\u001b[0mstatus\u001b[0m\u001b[0;34m.\u001b[0m\u001b[0merror\u001b[0m\u001b[0;34m)\u001b[0m\u001b[0;34m\u001b[0m\u001b[0;34m\u001b[0m\u001b[0m\n\u001b[0m\u001b[1;32m    339\u001b[0m             \u001b[0;32mreturn\u001b[0m \u001b[0mrun\u001b[0m\u001b[0;34m\u001b[0m\u001b[0;34m\u001b[0m\u001b[0m\n\u001b[1;32m    340\u001b[0m \u001b[0;34m\u001b[0m\u001b[0m\n",
      "\u001b[0;31mRunError\u001b[0m: 'Dataset dask_key already exists'"
     ]
    }
   ],
   "source": [
    "# create and run the task\n",
    "parq_to_dask_task = mlrun.NewTask(\n",
    "    TASK_NAME, \n",
    "    handler=FUNCTION,  \n",
    "    params={\n",
    "        'parquet_url': SRC_PATH,\n",
    "        'index_cols' : PARTITION_COLS,\n",
    "        'shards'     : DASK_SHARDS,\n",
    "        'threads_per': DASK_THREADS_PER,\n",
    "        'persist'    : True,\n",
    "        'dask_key'   : 'testdf1',\n",
    "        'target_path': '/User/mlrun/models'})\n",
    "# run\n",
    "rn = parq2dask.run(parq_to_dask_task)"
   ]
  },
  {
   "cell_type": "code",
   "execution_count": 9,
   "metadata": {},
   "outputs": [
    {
     "ename": "NameError",
     "evalue": "name 'rn' is not defined",
     "output_type": "error",
     "traceback": [
      "\u001b[0;31m---------------------------------------------------------------------------\u001b[0m",
      "\u001b[0;31mNameError\u001b[0m                                 Traceback (most recent call last)",
      "\u001b[0;32m<ipython-input-9-66d054ad783a>\u001b[0m in \u001b[0;36m<module>\u001b[0;34m\u001b[0m\n\u001b[0;32m----> 1\u001b[0;31m \u001b[0mrn\u001b[0m\u001b[0;34m.\u001b[0m\u001b[0moutputs\u001b[0m\u001b[0;34m[\u001b[0m\u001b[0;34m'scheduler'\u001b[0m\u001b[0;34m]\u001b[0m\u001b[0;34m\u001b[0m\u001b[0;34m\u001b[0m\u001b[0m\n\u001b[0m",
      "\u001b[0;31mNameError\u001b[0m: name 'rn' is not defined"
     ]
    }
   ],
   "source": [
    "rn.outputs['scheduler']"
   ]
  },
  {
   "cell_type": "markdown",
   "metadata": {},
   "source": [
    "#### What's the scheduler address?"
   ]
  },
  {
   "cell_type": "code",
   "execution_count": null,
   "metadata": {},
   "outputs": [],
   "source": [
    "import json\n",
    "json.load(open(rn.outputs['scheduler']))"
   ]
  },
  {
   "cell_type": "markdown",
   "metadata": {},
   "source": [
    "### our cluster\n",
    "\n",
    "Let's load the scheduler file into a cluster in this notebook:"
   ]
  },
  {
   "cell_type": "code",
   "execution_count": 11,
   "metadata": {},
   "outputs": [],
   "source": [
    "import dask\n",
    "import dask.dataframe as dd\n",
    "from dask.distributed import Client, LocalCluster"
   ]
  },
  {
   "cell_type": "code",
   "execution_count": 12,
   "metadata": {},
   "outputs": [
    {
     "name": "stdout",
     "output_type": "stream",
     "text": [
      "CPU times: user 6.65 ms, sys: 2.11 ms, total: 8.76 ms\n",
      "Wall time: 21.8 ms\n"
     ]
    },
    {
     "name": "stderr",
     "output_type": "stream",
     "text": [
      "/conda/lib/python3.6/site-packages/distributed/client.py:1071: VersionMismatchWarning: Mismatched versions found\n",
      "\n",
      "blosc\n",
      "+--------------------------+---------+\n",
      "|                          | version |\n",
      "+--------------------------+---------+\n",
      "| client                   | None    |\n",
      "| scheduler                | 1.8.3   |\n",
      "| tcp://10.233.64.52:37679 | 1.8.3   |\n",
      "| tcp://10.233.64.53:43466 | 1.8.3   |\n",
      "| tcp://10.233.64.54:33816 | 1.8.3   |\n",
      "| tcp://10.233.64.55:36283 | 1.8.3   |\n",
      "+--------------------------+---------+\n",
      "\n",
      "cloudpickle\n",
      "+--------------------------+---------+\n",
      "|                          | version |\n",
      "+--------------------------+---------+\n",
      "| client                   | 1.1.1   |\n",
      "| scheduler                | 1.2.2   |\n",
      "| tcp://10.233.64.52:37679 | 1.2.2   |\n",
      "| tcp://10.233.64.53:43466 | 1.2.2   |\n",
      "| tcp://10.233.64.54:33816 | 1.2.2   |\n",
      "| tcp://10.233.64.55:36283 | 1.2.2   |\n",
      "+--------------------------+---------+\n",
      "\n",
      "lz4\n",
      "+--------------------------+---------+\n",
      "|                          | version |\n",
      "+--------------------------+---------+\n",
      "| client                   | None    |\n",
      "| scheduler                | 3.0.2   |\n",
      "| tcp://10.233.64.52:37679 | 3.0.2   |\n",
      "| tcp://10.233.64.53:43466 | 3.0.2   |\n",
      "| tcp://10.233.64.54:33816 | 3.0.2   |\n",
      "| tcp://10.233.64.55:36283 | 3.0.2   |\n",
      "+--------------------------+---------+\n",
      "\n",
      "msgpack\n",
      "+--------------------------+---------+\n",
      "|                          | version |\n",
      "+--------------------------+---------+\n",
      "| client                   | 0.6.2   |\n",
      "| scheduler                | 0.6.1   |\n",
      "| tcp://10.233.64.52:37679 | 0.6.1   |\n",
      "| tcp://10.233.64.53:43466 | 0.6.1   |\n",
      "| tcp://10.233.64.54:33816 | 0.6.1   |\n",
      "| tcp://10.233.64.55:36283 | 0.6.1   |\n",
      "+--------------------------+---------+\n",
      "\n",
      "numpy\n",
      "+--------------------------+---------+\n",
      "|                          | version |\n",
      "+--------------------------+---------+\n",
      "| client                   | 1.18.1  |\n",
      "| scheduler                | 1.17.4  |\n",
      "| tcp://10.233.64.52:37679 | 1.17.4  |\n",
      "| tcp://10.233.64.53:43466 | 1.17.4  |\n",
      "| tcp://10.233.64.54:33816 | 1.17.4  |\n",
      "| tcp://10.233.64.55:36283 | 1.17.4  |\n",
      "+--------------------------+---------+\n",
      "  warnings.warn(version_module.VersionMismatchWarning(msg[0][\"warning\"]))\n"
     ]
    }
   ],
   "source": [
    "%%time \n",
    "client = Client(scheduler_file='/User/mlrun/models/scheduler.json') # Client(scheduler_file=rn.outputs['scheduler'])"
   ]
  },
  {
   "cell_type": "code",
   "execution_count": 13,
   "metadata": {},
   "outputs": [
    {
     "name": "stdout",
     "output_type": "stream",
     "text": [
      "CPU times: user 8.44 ms, sys: 2.39 ms, total: 10.8 ms\n",
      "Wall time: 20.4 ms\n"
     ]
    }
   ],
   "source": [
    "%%time \n",
    "df = client.get_dataset('dask_key')"
   ]
  },
  {
   "cell_type": "code",
   "execution_count": 14,
   "metadata": {},
   "outputs": [
    {
     "name": "stdout",
     "output_type": "stream",
     "text": [
      "CPU times: user 7.61 ms, sys: 131 µs, total: 7.75 ms\n",
      "Wall time: 33.9 ms\n"
     ]
    },
    {
     "data": {
      "text/plain": [
       "43978"
      ]
     },
     "execution_count": 14,
     "metadata": {},
     "output_type": "execute_result"
    }
   ],
   "source": [
    "%%time \n",
    "df.shape[0].compute()"
   ]
  },
  {
   "cell_type": "code",
   "execution_count": 15,
   "metadata": {},
   "outputs": [
    {
     "data": {
      "text/plain": [
       "{\"('read-parquet-d8c9ad5a8e529c3979516dc1ad71970c', 1)\": 2912128,\n",
       " \"('read-parquet-d8c9ad5a8e529c3979516dc1ad71970c', 2)\": 2912128,\n",
       " \"('read-parquet-d8c9ad5a8e529c3979516dc1ad71970c', 0)\": 2912128,\n",
       " \"('read-parquet-d8c9ad5a8e529c3979516dc1ad71970c', 3)\": 1159726,\n",
       " \"('read-parquet-d8c9ad5a8e529c3979516dc1ad71970c', 4)\": 2912128}"
      ]
     },
     "execution_count": 15,
     "metadata": {},
     "output_type": "execute_result"
    }
   ],
   "source": [
    "client.nbytes(summary=False)"
   ]
  },
  {
   "cell_type": "markdown",
   "metadata": {},
   "source": [
    "### create a component 'on the fly' to summarise the table\n",
    "\n",
    "The nice thing about having a dask cluster loaded with all your data is that you can write _quick and dirty_ jobs either in your notebook, a local file, or a gihub repo."
   ]
  },
  {
   "cell_type": "code",
   "execution_count": 17,
   "metadata": {},
   "outputs": [
    {
     "name": "stdout",
     "output_type": "stream",
     "text": [
      "[mlrun] 2020-02-03 12:23:41,371 function spec saved to path: /User/repos/functions/tests/describe.yaml\n"
     ]
    },
    {
     "data": {
      "text/plain": [
       "<mlrun.runtimes.kubejob.KubejobRuntime at 0x7f351afd7e48>"
      ]
     },
     "execution_count": 17,
     "metadata": {},
     "output_type": "execute_result"
    }
   ],
   "source": [
    "# write up function in local directory\n",
    "summ = mlrun.new_function(command='/User/repos/functions/tests/describe.py', \n",
    "                          kind='job')\n",
    "# specify a base image\n",
    "summ.spec.build.image = BASE_IMAGE\n",
    "\n",
    "# (optional) export it as yaml\n",
    "summ.export('/User/repos/functions/tests/describe.yaml')\n",
    "\n",
    "# mount it on iguazio data fabric\n",
    "summ.apply(mlrun.mount_v3io())"
   ]
  },
  {
   "cell_type": "code",
   "execution_count": 18,
   "metadata": {},
   "outputs": [
    {
     "name": "stdout",
     "output_type": "stream",
     "text": [
      "[mlrun] 2020-02-03 12:23:43,952 starting remote build, image: yjbds/mlrun-daskboost:dev\n"
     ]
    },
    {
     "data": {
      "text/plain": [
       "True"
      ]
     },
     "execution_count": 18,
     "metadata": {},
     "output_type": "execute_result"
    }
   ],
   "source": [
    "# deploy the function\n",
    "summ.deploy(skip_deployed=True, with_mlrun=False)"
   ]
  },
  {
   "cell_type": "code",
   "execution_count": 20,
   "metadata": {},
   "outputs": [
    {
     "name": "stdout",
     "output_type": "stream",
     "text": [
      "[mlrun] 2020-02-03 12:24:06,154 starting run user-task-my-sum uid=b0ed0394cb9842adb039d0abd75a5681  -> http://mlrun-api:8080\n",
      "[mlrun] 2020-02-03 12:24:06,243 Job is running in the background, pod: user-task-my-sum-tnzrx\n",
      "{'_uid': 'b0ed0394cb9842adb039d0abd75a5681', 'name': 'describe', '_iteration': 0, '_project': '', '_tag': '', '_secrets_manager': <mlrun.secrets.SecretsStore object at 0x7efdbe8867d0>, '_rundb': HTTPRunDB('http://10.233.35.61:8080'), '_tmpfile': '/tmp/tmp6b8ae_21.json', '_logger': <Logger mlrun (INFO)>, '_log_level': 'info', '_matrics_db': None, '_autocommit': False, '_labels': {'kind': 'job', 'owner': 'admin', 'host': 'user-task-my-sum-tnzrx'}, '_annotations': {}, '_function': 'default/describe:6edf099494c35f7f800b6c1082256aed4d6d177a', '_parameters': {'dask_key': 'testdf1', 'dask_client': '/User/mlrun/models/scheduler.json', 'target_path': '/User/mlrun/models', 'name': 'table-summary.csv', 'key': 'table-summary'}, '_in_path': '', '_out_path': '', '_inputs': {}, '_outputs': [], '_results': {}, '_state': 'running', '_error': None, '_commit': '', '_host': None, '_start_time': datetime.datetime(2020, 2, 3, 12, 24, 14, 340691), '_last_update': datetime.datetime(2020, 2, 3, 12, 24, 14, 340700), '_iteration_results': None, '_data_stores': <mlrun.datastore.StoreManager object at 0x7efde0868810>, '_artifacts_manager': <mlrun.artifacts.ArtifactManager object at 0x7efdbe53d950>, 'last_update': datetime.datetime(2020, 2, 3, 12, 24, 14, 345661)}\n",
      "   Year  Month  DayofMonth  ...  NASDelay  SecurityDelay  LateAircraftDelay\n",
      "0  1987     10          14  ...       NaN            NaN                NaN\n",
      "1  1987     10          15  ...       NaN            NaN                NaN\n",
      "2  1987     10          17  ...       NaN            NaN                NaN\n",
      "3  1987     10          18  ...       NaN            NaN                NaN\n",
      "4  1987     10          19  ...       NaN            NaN                NaN\n",
      "\n",
      "[5 rows x 23 columns]\n",
      "[mlrun] 2020-02-03 12:24:15,597 log artifact table-summary at /User/mlrun/models/table-summary.csv, size: None, db: Y\n",
      "\n",
      "[mlrun] 2020-02-03 12:24:15,610 run executed, status=completed\n",
      "final state: succeeded\n"
     ]
    },
    {
     "data": {
      "text/html": [
       "<style> \n",
       ".dictlist {\n",
       "  background-color: #b3edff; \n",
       "  text-align: center; \n",
       "  margin: 4px; \n",
       "  border-radius: 3px; padding: 0px 3px 1px 3px; display: inline-block;}\n",
       ".artifact {\n",
       "  cursor: pointer; \n",
       "  background-color: #ffe6cc; \n",
       "  text-align: left; \n",
       "  margin: 4px; border-radius: 3px; padding: 0px 3px 1px 3px; display: inline-block;\n",
       "}\n",
       "div.block.hidden {\n",
       "  display: none;\n",
       "}\n",
       ".clickable {\n",
       "  cursor: pointer;\n",
       "}\n",
       ".ellipsis {\n",
       "  display: inline-block;\n",
       "  max-width: 60px;\n",
       "  white-space: nowrap;\n",
       "  overflow: hidden;\n",
       "  text-overflow: ellipsis;\n",
       "}\n",
       ".master-wrapper {\n",
       "  display: flex;\n",
       "  flex-flow: row nowrap;\n",
       "  justify-content: flex-start;\n",
       "  align-items: stretch;\n",
       "}\n",
       ".master-tbl {\n",
       "  flex: 3\n",
       "}\n",
       ".master-wrapper > div {\n",
       "  margin: 4px;\n",
       "  padding: 10px;\n",
       "}\n",
       "iframe.fileview {\n",
       "  border: 0 none;\n",
       "  height: 100%;\n",
       "  width: 100%;\n",
       "  white-space: pre-wrap;\n",
       "}\n",
       ".pane-header-title {\n",
       "  width: 80%;\n",
       "  font-weight: 500;\n",
       "}\n",
       ".pane-header {\n",
       "  line-height: 1;\n",
       "  background-color: #ffe6cc;\n",
       "  padding: 3px;\n",
       "}\n",
       ".pane-header .close {\n",
       "  font-size: 20px;\n",
       "  font-weight: 700;\n",
       "  float: right;\n",
       "  margin-top: -5px;\n",
       "}\n",
       ".master-wrapper .right-pane {\n",
       "  border: 1px inset silver;\n",
       "  width: 40%;\n",
       "  min-height: 300px;\n",
       "  flex: 3\n",
       "  min-width: 500px;\n",
       "}\n",
       ".master-wrapper * {\n",
       "  box-sizing: border-box;\n",
       "}\n",
       "</style><script>\n",
       "function copyToClipboard(fld) {\n",
       "    if (document.queryCommandSupported && document.queryCommandSupported('copy')) {\n",
       "        var textarea = document.createElement('textarea');\n",
       "        textarea.textContent = fld.innerHTML;\n",
       "        textarea.style.position = 'fixed';\n",
       "        document.body.appendChild(textarea);\n",
       "        textarea.select();\n",
       "\n",
       "        try {\n",
       "            return document.execCommand('copy'); // Security exception may be thrown by some browsers.\n",
       "        } catch (ex) {\n",
       "\n",
       "        } finally {\n",
       "            document.body.removeChild(textarea);\n",
       "        }\n",
       "    }\n",
       "}\n",
       "function expandPanel(el) {\n",
       "  const panelName = \"#\" + el.getAttribute('paneName');\n",
       "  console.log(el.title);\n",
       "\n",
       "  document.querySelector(panelName + \"-title\").innerHTML = el.title\n",
       "  iframe = document.querySelector(panelName + \"-body\");\n",
       "  \n",
       "  const tblcss = `<style> body { font-family: Arial, Helvetica, sans-serif;}\n",
       "    #csv { margin-bottom: 15px; }\n",
       "    #csv table { border-collapse: collapse;}\n",
       "    #csv table td { padding: 4px 8px; border: 1px solid silver;} </style>`;\n",
       "\n",
       "  function csvToHtmlTable(str) {\n",
       "    return '<div id=\"csv\"><table><tr><td>' +  str.replace(/[\\n\\r]+$/g, '').replace(/[\\n\\r]+/g, '</td></tr><tr><td>')\n",
       "      .replace(/,/g, '</td><td>') + '</td></tr></table></div>';\n",
       "  }\n",
       "  \n",
       "  function reqListener () {\n",
       "    if (el.title.endsWith(\".csv\")) {\n",
       "      iframe.setAttribute(\"srcdoc\", tblcss + csvToHtmlTable(this.responseText));\n",
       "    } else {\n",
       "      iframe.setAttribute(\"srcdoc\", this.responseText);\n",
       "    }  \n",
       "    console.log(this.responseText);\n",
       "  }\n",
       "\n",
       "  const oReq = new XMLHttpRequest();\n",
       "  oReq.addEventListener(\"load\", reqListener);\n",
       "  oReq.open(\"GET\", el.title);\n",
       "  oReq.send();\n",
       "  \n",
       "  \n",
       "  //iframe.src = el.title;\n",
       "  const resultPane = document.querySelector(panelName + \"-pane\");\n",
       "  if (resultPane.classList.contains(\"hidden\")) {\n",
       "    resultPane.classList.remove(\"hidden\");\n",
       "  }\n",
       "}\n",
       "function closePanel(el) {\n",
       "  const panelName = \"#\" + el.getAttribute('paneName')\n",
       "  const resultPane = document.querySelector(panelName + \"-pane\");\n",
       "  if (!resultPane.classList.contains(\"hidden\")) {\n",
       "    resultPane.classList.add(\"hidden\");\n",
       "  }\n",
       "}\n",
       "\n",
       "</script>\n",
       "<div class=\"master-wrapper\">\n",
       "  <div class=\"block master-tbl\"><div>\n",
       "<style scoped>\n",
       "    .dataframe tbody tr th:only-of-type {\n",
       "        vertical-align: middle;\n",
       "    }\n",
       "\n",
       "    .dataframe tbody tr th {\n",
       "        vertical-align: top;\n",
       "    }\n",
       "\n",
       "    .dataframe thead th {\n",
       "        text-align: right;\n",
       "    }\n",
       "</style>\n",
       "<table border=\"1\" class=\"dataframe\">\n",
       "  <thead>\n",
       "    <tr style=\"text-align: right;\">\n",
       "      <th>uid</th>\n",
       "      <th>iter</th>\n",
       "      <th>start</th>\n",
       "      <th>state</th>\n",
       "      <th>name</th>\n",
       "      <th>labels</th>\n",
       "      <th>inputs</th>\n",
       "      <th>parameters</th>\n",
       "      <th>results</th>\n",
       "      <th>artifacts</th>\n",
       "    </tr>\n",
       "  </thead>\n",
       "  <tbody>\n",
       "    <tr>\n",
       "      <td><div title=\"b0ed0394cb9842adb039d0abd75a5681\">...5a5681</div></td>\n",
       "      <td>0</td>\n",
       "      <td>Feb 03 12:24:14</td>\n",
       "      <td>completed</td>\n",
       "      <td>describe</td>\n",
       "      <td><div class=\"dictlist\">host=user-task-my-sum-tnzrx</div><div class=\"dictlist\">kind=job</div><div class=\"dictlist\">owner=admin</div></td>\n",
       "      <td></td>\n",
       "      <td><div class=\"dictlist\">dask_client=/User/mlrun/models/scheduler.json</div><div class=\"dictlist\">dask_key=testdf1</div><div class=\"dictlist\">key=table-summary</div><div class=\"dictlist\">name=table-summary.csv</div><div class=\"dictlist\">target_path=/User/mlrun/models</div></td>\n",
       "      <td></td>\n",
       "      <td><div class=\"artifact\" onclick=\"expandPanel(this)\" paneName=\"result65aea352\" title=\"/files/mlrun/models/table-summary.csv\">table-summary</div></td>\n",
       "    </tr>\n",
       "  </tbody>\n",
       "</table>\n",
       "</div></div>\n",
       "  <div id=\"result65aea352-pane\" class=\"right-pane block hidden\">\n",
       "    <div class=\"pane-header\">\n",
       "      <span id=\"result65aea352-title\" class=\"pane-header-title\">Title</span>\n",
       "      <span onclick=\"closePanel(this)\" paneName=\"result65aea352\" class=\"close clickable\">&times;</span>\n",
       "    </div>\n",
       "    <iframe class=\"fileview\" id=\"result65aea352-body\"></iframe>\n",
       "  </div>\n",
       "</div>\n"
      ],
      "text/plain": [
       "<IPython.core.display.HTML object>"
      ]
     },
     "metadata": {},
     "output_type": "display_data"
    },
    {
     "name": "stdout",
     "output_type": "stream",
     "text": [
      "to track results use .show() or .logs() or in CLI: \n",
      "!mlrun get run b0ed0394cb9842adb039d0abd75a5681  , !mlrun logs b0ed0394cb9842adb039d0abd75a5681 \n",
      "[mlrun] 2020-02-03 12:24:25,420 run executed, status=completed\n"
     ]
    },
    {
     "data": {
      "text/plain": [
       "{'table-summary': '/User/mlrun/models/table-summary.csv'}"
      ]
     },
     "execution_count": 20,
     "metadata": {},
     "output_type": "execute_result"
    },
    {
     "name": "stderr",
     "output_type": "stream",
     "text": [
      "distributed.client - ERROR - Failed to reconnect to scheduler after 3.00 seconds, closing client\n",
      "distributed.utils - ERROR - \n",
      "Traceback (most recent call last):\n",
      "  File \"/conda/lib/python3.6/site-packages/distributed/utils.py\", line 662, in log_errors\n",
      "    yield\n",
      "  File \"/conda/lib/python3.6/site-packages/distributed/client.py\", line 1306, in _close\n",
      "    await asyncio.wait_for(asyncio.gather(*coroutines), 2)\n",
      "  File \"/conda/lib/python3.6/asyncio/tasks.py\", line 351, in wait_for\n",
      "    yield from waiter\n",
      "  File \"/conda/lib/python3.6/asyncio/futures.py\", line 327, in __iter__\n",
      "    yield self  # This tells Task to wait for completion.\n",
      "  File \"/conda/lib/python3.6/asyncio/tasks.py\", line 250, in _wakeup\n",
      "    future.result()\n",
      "  File \"/conda/lib/python3.6/asyncio/futures.py\", line 238, in result\n",
      "    raise CancelledError\n",
      "concurrent.futures._base.CancelledError\n",
      "distributed.utils - ERROR - \n",
      "Traceback (most recent call last):\n",
      "  File \"/conda/lib/python3.6/site-packages/distributed/utils.py\", line 662, in log_errors\n",
      "    yield\n",
      "  File \"/conda/lib/python3.6/site-packages/distributed/client.py\", line 1024, in _reconnect\n",
      "    await self._close()\n",
      "  File \"/conda/lib/python3.6/site-packages/distributed/client.py\", line 1306, in _close\n",
      "    await asyncio.wait_for(asyncio.gather(*coroutines), 2)\n",
      "  File \"/conda/lib/python3.6/asyncio/tasks.py\", line 351, in wait_for\n",
      "    yield from waiter\n",
      "  File \"/conda/lib/python3.6/asyncio/futures.py\", line 327, in __iter__\n",
      "    yield self  # This tells Task to wait for completion.\n",
      "  File \"/conda/lib/python3.6/asyncio/tasks.py\", line 250, in _wakeup\n",
      "    future.result()\n",
      "  File \"/conda/lib/python3.6/asyncio/futures.py\", line 238, in result\n",
      "    raise CancelledError\n",
      "concurrent.futures._base.CancelledError\n",
      "_GatheringFuture exception was never retrieved\n",
      "future: <_GatheringFuture finished exception=CancelledError()>\n",
      "concurrent.futures._base.CancelledError\n",
      "distributed.client - ERROR - Failed to reconnect to scheduler after 10.00 seconds, closing client\n",
      "distributed.client - ERROR - Failed to reconnect to scheduler after 10.00 seconds, closing client\n",
      "distributed.utils - ERROR - \n",
      "Traceback (most recent call last):\n",
      "  File \"/conda/lib/python3.6/site-packages/distributed/utils.py\", line 662, in log_errors\n",
      "    yield\n",
      "  File \"/conda/lib/python3.6/site-packages/distributed/client.py\", line 1306, in _close\n",
      "    await asyncio.wait_for(asyncio.gather(*coroutines), 2)\n",
      "  File \"/conda/lib/python3.6/asyncio/tasks.py\", line 351, in wait_for\n",
      "    yield from waiter\n",
      "  File \"/conda/lib/python3.6/asyncio/futures.py\", line 327, in __iter__\n",
      "    yield self  # This tells Task to wait for completion.\n",
      "  File \"/conda/lib/python3.6/asyncio/tasks.py\", line 250, in _wakeup\n",
      "    future.result()\n",
      "  File \"/conda/lib/python3.6/asyncio/futures.py\", line 238, in result\n",
      "    raise CancelledError\n",
      "concurrent.futures._base.CancelledError\n",
      "distributed.utils - ERROR - \n",
      "Traceback (most recent call last):\n",
      "  File \"/conda/lib/python3.6/site-packages/distributed/utils.py\", line 662, in log_errors\n",
      "    yield\n",
      "  File \"/conda/lib/python3.6/site-packages/distributed/client.py\", line 1024, in _reconnect\n",
      "    await self._close()\n",
      "  File \"/conda/lib/python3.6/site-packages/distributed/client.py\", line 1306, in _close\n",
      "    await asyncio.wait_for(asyncio.gather(*coroutines), 2)\n",
      "  File \"/conda/lib/python3.6/asyncio/tasks.py\", line 351, in wait_for\n",
      "    yield from waiter\n",
      "  File \"/conda/lib/python3.6/asyncio/futures.py\", line 327, in __iter__\n",
      "    yield self  # This tells Task to wait for completion.\n",
      "  File \"/conda/lib/python3.6/asyncio/tasks.py\", line 250, in _wakeup\n",
      "    future.result()\n",
      "  File \"/conda/lib/python3.6/asyncio/futures.py\", line 238, in result\n",
      "    raise CancelledError\n",
      "concurrent.futures._base.CancelledError\n",
      "_GatheringFuture exception was never retrieved\n",
      "future: <_GatheringFuture finished exception=CancelledError()>\n",
      "concurrent.futures._base.CancelledError\n",
      "distributed.utils - ERROR - \n",
      "Traceback (most recent call last):\n",
      "  File \"/conda/lib/python3.6/site-packages/distributed/utils.py\", line 662, in log_errors\n",
      "    yield\n",
      "  File \"/conda/lib/python3.6/site-packages/distributed/client.py\", line 1306, in _close\n",
      "    await asyncio.wait_for(asyncio.gather(*coroutines), 2)\n",
      "  File \"/conda/lib/python3.6/asyncio/tasks.py\", line 351, in wait_for\n",
      "    yield from waiter\n",
      "  File \"/conda/lib/python3.6/asyncio/futures.py\", line 327, in __iter__\n",
      "    yield self  # This tells Task to wait for completion.\n",
      "  File \"/conda/lib/python3.6/asyncio/tasks.py\", line 250, in _wakeup\n",
      "    future.result()\n",
      "  File \"/conda/lib/python3.6/asyncio/futures.py\", line 238, in result\n",
      "    raise CancelledError\n",
      "concurrent.futures._base.CancelledError\n",
      "distributed.utils - ERROR - \n",
      "Traceback (most recent call last):\n",
      "  File \"/conda/lib/python3.6/site-packages/distributed/utils.py\", line 662, in log_errors\n",
      "    yield\n",
      "  File \"/conda/lib/python3.6/site-packages/distributed/client.py\", line 1024, in _reconnect\n",
      "    await self._close()\n",
      "  File \"/conda/lib/python3.6/site-packages/distributed/client.py\", line 1306, in _close\n",
      "    await asyncio.wait_for(asyncio.gather(*coroutines), 2)\n",
      "  File \"/conda/lib/python3.6/asyncio/tasks.py\", line 351, in wait_for\n",
      "    yield from waiter\n",
      "  File \"/conda/lib/python3.6/asyncio/futures.py\", line 327, in __iter__\n",
      "    yield self  # This tells Task to wait for completion.\n",
      "  File \"/conda/lib/python3.6/asyncio/tasks.py\", line 250, in _wakeup\n",
      "    future.result()\n",
      "  File \"/conda/lib/python3.6/asyncio/futures.py\", line 238, in result\n",
      "    raise CancelledError\n",
      "concurrent.futures._base.CancelledError\n",
      "_GatheringFuture exception was never retrieved\n",
      "future: <_GatheringFuture finished exception=CancelledError()>\n",
      "concurrent.futures._base.CancelledError\n"
     ]
    }
   ],
   "source": [
    "# create the task\n",
    "summ_task = mlrun.NewTask(\n",
    "    'user-task-my-sum', \n",
    "    handler='table_summary',  \n",
    "    params={\n",
    "        'dask_key'   : 'testdf1',\n",
    "        'dask_client': '/User/mlrun/models/scheduler.json',\n",
    "        'target_path': '/User/mlrun/models',\n",
    "        'name'       : 'table-summary.csv',\n",
    "        'key'        : 'table-summary'})\n",
    "\n",
    "# run\n",
    "rn2 = summ.run(summ_task)\n",
    "\n",
    "rn2.outputs"
   ]
  },
  {
   "cell_type": "markdown",
   "metadata": {},
   "source": [
    "____\n",
    "\n",
    "# tests"
   ]
  },
  {
   "cell_type": "code",
   "execution_count": null,
   "metadata": {},
   "outputs": [],
   "source": [
    "import numpy as np\n",
    "import pandas as pd\n",
    "import pyarrow as pa\n",
    "import pyarrow.parquet as pq"
   ]
  },
  {
   "cell_type": "code",
   "execution_count": null,
   "metadata": {},
   "outputs": [],
   "source": [
    "import dask\n",
    "import dask.dataframe as dd"
   ]
  },
  {
   "cell_type": "code",
   "execution_count": null,
   "metadata": {},
   "outputs": [],
   "source": [
    "dataset = pq.ParquetDataset(os.path.join(SRC_PATH))\n",
    "df = dataset.read().to_pandas()\n",
    "\n",
    "\n",
    "ddf = dd.read_parquet(SRC_PATH) #+'/*.parquet')"
   ]
  },
  {
   "cell_type": "code",
   "execution_count": null,
   "metadata": {},
   "outputs": [],
   "source": [
    "ddf = ddf.persist()"
   ]
  },
  {
   "cell_type": "code",
   "execution_count": null,
   "metadata": {},
   "outputs": [],
   "source": [
    "ddf.head()"
   ]
  },
  {
   "cell_type": "code",
   "execution_count": null,
   "metadata": {},
   "outputs": [],
   "source": [
    "ddf.shape[0].compute()"
   ]
  },
  {
   "cell_type": "code",
   "execution_count": null,
   "metadata": {},
   "outputs": [],
   "source": []
  }
 ],
 "metadata": {
  "kernelspec": {
   "display_name": "Python 3",
   "language": "python",
   "name": "python3"
  },
  "language_info": {
   "codemirror_mode": {
    "name": "ipython",
    "version": 3
   },
   "file_extension": ".py",
   "mimetype": "text/x-python",
   "name": "python",
   "nbconvert_exporter": "python",
   "pygments_lexer": "ipython3",
   "version": "3.6.8"
  }
 },
 "nbformat": 4,
 "nbformat_minor": 4
}
