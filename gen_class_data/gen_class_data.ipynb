{
 "cells": [
  {
   "cell_type": "code",
   "execution_count": 1,
   "metadata": {},
   "outputs": [],
   "source": [
    "# nuclio: ignore\n",
    "import nuclio"
   ]
  },
  {
   "cell_type": "code",
   "execution_count": 2,
   "metadata": {},
   "outputs": [],
   "source": [
    "# Copyright 2019 Iguazio\n",
    "#\n",
    "# Licensed under the Apache License, Version 2.0 (the \"License\");\n",
    "# you may not use this file except in compliance with the License.\n",
    "# You may obtain a copy of the License at\n",
    "#\n",
    "#   http://www.apache.org/licenses/LICENSE-2.0\n",
    "#\n",
    "# Unless required by applicable law or agreed to in writing, software\n",
    "# distributed under the License is distributed on an \"AS IS\" BASIS,\n",
    "# WITHOUT WARRANTIES OR CONDITIONS OF ANY KIND, either express or implied.\n",
    "# See the License for the specific language governing permissions and\n",
    "# limitations under the License.\n",
    "import os\n",
    "import pandas as pd\n",
    "import pyarrow as pa\n",
    "import pyarrow.parquet as pq\n",
    "from typing import Optional, List, Any\n",
    "from sklearn.datasets import make_classification\n",
    "\n",
    "from mlrun.execution import MLClientCtx\n",
    "\n",
    "\n",
    "def gen_class_data(\n",
    "    context: MLClientCtx,\n",
    "    n_samples: int,\n",
    "    m_features: int,\n",
    "    k_classes: int,\n",
    "    header: Optional[List[str]],\n",
    "    label_column: Optional[str] = \"labels\",\n",
    "    weight: float = 0.5,\n",
    "    random_state: int = 1,\n",
    "    key: str = \"classifier-data\", \n",
    "    file_ext: str = \"parquet\",\n",
    "    sk_params = {}\n",
    "):\n",
    "    \"\"\"Create a binary classification sample dataset and save.\n",
    "    If no filename is given it will default to:\n",
    "    \"simdata-{n_samples}X{m_features}.parquet\".\n",
    "    \n",
    "    Additional scikit-learn parameters can be set using **sk_params, please see https://scikit-learn.org/stable/modules/generated/sklearn.datasets.make_classification.html for more details.\n",
    "    \n",
    "    :param context:       function context\n",
    "    :param n_samples:     number of rows/samples\n",
    "    :param m_features:    number of cols/features\n",
    "    :param k_classes:     number of classes\n",
    "    :param header:        header for features array\n",
    "    :param label_column:  column name of ground-truth series\n",
    "    :param weight:        fraction of sample negative value (ground-truth=0)\n",
    "    :param random_state:  rng seed (see https://scikit-learn.org/stable/glossary.html#term-random-state)\n",
    "    :param key:           key of data in artifact store\n",
    "    :param file_ext:      (pqt) extension for parquet file\n",
    "    :param sk_params:     additional parameters for `sklearn.datasets.make_classification`\n",
    "    \"\"\"\n",
    "    features, labels = make_classification(\n",
    "        n_samples=n_samples,\n",
    "        n_features=m_features,\n",
    "        weights=weight,\n",
    "        n_classes=k_classes,\n",
    "        random_state=random_state, \n",
    "        **sk_params)\n",
    "\n",
    "    # make dataframes, add column names, concatenate (X, y)\n",
    "    X = pd.DataFrame(features)\n",
    "    if not header:\n",
    "        X.columns = [\"feat_\" + str(x) for x in range(m_features)]\n",
    "    else:\n",
    "        X.columns = header\n",
    "\n",
    "    y = pd.DataFrame(labels, columns=[label_column])\n",
    "    data = pd.concat([X, y], axis=1)\n",
    "    \n",
    "    context.log_dataset(key, df=data, format=file_ext, index=False)"
   ]
  },
  {
   "cell_type": "code",
   "execution_count": 3,
   "metadata": {},
   "outputs": [],
   "source": [
    "# nuclio: end-code"
   ]
  },
  {
   "cell_type": "markdown",
   "metadata": {},
   "source": [
    "### mlconfig"
   ]
  },
  {
   "cell_type": "code",
   "execution_count": 4,
   "metadata": {},
   "outputs": [],
   "source": [
    "from mlrun import mlconf"
   ]
  },
  {
   "cell_type": "code",
   "execution_count": 5,
   "metadata": {},
   "outputs": [
    {
     "data": {
      "text/plain": [
       "'http://mlrun-api:8080'"
      ]
     },
     "execution_count": 5,
     "metadata": {},
     "output_type": "execute_result"
    }
   ],
   "source": [
    "mlconf.dbpath = mlconf.dbpath or './'\n",
    "mlconf.dbpath"
   ]
  },
  {
   "cell_type": "code",
   "execution_count": 6,
   "metadata": {},
   "outputs": [
    {
     "data": {
      "text/plain": [
       "'/User/repos/functions/{name}/function.yaml'"
      ]
     },
     "execution_count": 6,
     "metadata": {},
     "output_type": "execute_result"
    }
   ],
   "source": [
    "vcs_branch = 'development'\n",
    "base_vcs = f'https://raw.githubusercontent.com/mlrun/functions/{vcs_branch}/'\n",
    "\n",
    "mlconf.hub_url = mlconf.hub_url or base_vcs + f'{name}/function.yaml'\n",
    "mlconf.hub_url"
   ]
  },
  {
   "cell_type": "code",
   "execution_count": 7,
   "metadata": {},
   "outputs": [
    {
     "data": {
      "text/plain": [
       "'/User/artifacts'"
      ]
     },
     "execution_count": 7,
     "metadata": {},
     "output_type": "execute_result"
    }
   ],
   "source": [
    "import os\n",
    "mlconf.artifact_path = mlconf.artifact_path or f'{os.environ[\"V3IO_HOME\"]}/artifacts'\n",
    "mlconf.artifact_path"
   ]
  },
  {
   "cell_type": "markdown",
   "metadata": {},
   "source": [
    "### save"
   ]
  },
  {
   "cell_type": "code",
   "execution_count": 8,
   "metadata": {},
   "outputs": [
    {
     "name": "stdout",
     "output_type": "stream",
     "text": [
      "[mlrun] 2020-04-25 14:31:30,145 warning!, server (0.4.6) and client (0.4.7) ver dont match\n",
      "[mlrun] 2020-04-25 14:31:30,182 function spec saved to path: function.yaml\n"
     ]
    },
    {
     "data": {
      "text/plain": [
       "<mlrun.runtimes.kubejob.KubejobRuntime at 0x7f7d13f35f98>"
      ]
     },
     "execution_count": 8,
     "metadata": {},
     "output_type": "execute_result"
    }
   ],
   "source": [
    "from mlrun import code_to_function \n",
    "# create job function object from notebook code\n",
    "fn = code_to_function(\"gen_class_data\", kind=\"job\", with_doc=True,\n",
    "                      handler=gen_class_data, \n",
    "                      image=\"mlrun/ml-models\")\n",
    "\n",
    "# add metadata (for templates and reuse)\n",
    "fn.spec.default_handler = \"gen_class_data\"\n",
    "fn.spec.description = \"simulate classification data using scikit-learn\"\n",
    "fn.metadata.categories = [\"datagen\", \"filesutils\"]\n",
    "fn.metadata.labels = {\"author\": \"yjb\"}\n",
    "\n",
    "fn.save()\n",
    "fn.export(\"function.yaml\")"
   ]
  },
  {
   "cell_type": "markdown",
   "metadata": {},
   "source": [
    "### test"
   ]
  },
  {
   "cell_type": "code",
   "execution_count": 9,
   "metadata": {},
   "outputs": [
    {
     "name": "stdout",
     "output_type": "stream",
     "text": [
      "[mlrun] 2020-04-25 14:31:30,202 warning!, server (0.4.6) and client (0.4.7) ver dont match\n"
     ]
    }
   ],
   "source": [
    "from mlrun import import_function\n",
    "\n",
    "func = import_function(\"hub://gen_class_data\")\n",
    "\n",
    "if \"V3IO_HOME\" in list(os.environ):\n",
    "    # if you are running this on the iguazio data fabric\n",
    "    from mlrun import mount_v3io\n",
    "    func.apply(mount_v3io())\n",
    "else:\n",
    "    # is you set up mlrun using the instructions at https://github.com/mlrun/mlrun/blob/master/hack/local/README.md\n",
    "    from mlrun.platforms import mount_pvc\n",
    "    func.apply(mount_pvc('nfsvol', 'nfsvol', '/home/joyan/data'))"
   ]
  },
  {
   "cell_type": "code",
   "execution_count": 10,
   "metadata": {},
   "outputs": [],
   "source": [
    "from mlrun import NewTask    \n",
    "\n",
    "task_params = {\n",
    "    \"name\":        \"tasks generate classification data\", \n",
    "    \"params\" : {\n",
    "        \"n_samples\"   : 100_000,\n",
    "        \"m_features\"  : 64,\n",
    "        \"k_classes\"   : 2,\n",
    "        \"weight\"      : [0.6, 0.4],\n",
    "        \"sk_params\"   : {\"n_informative\": 12},\n",
    "        \"file_ext\"    : \"csv\"}}"
   ]
  },
  {
   "cell_type": "code",
   "execution_count": 11,
   "metadata": {},
   "outputs": [
    {
     "name": "stdout",
     "output_type": "stream",
     "text": [
      "[mlrun] 2020-04-25 14:31:30,251 warning!, server (0.4.6) and client (0.4.7) ver dont match\n",
      "[mlrun] 2020-04-25 14:31:30,252 starting run tasks generate classification data uid=580a0667136f44258db0afde06e80221  -> http://mlrun-api:8080\n",
      "[mlrun] 2020-04-25 14:31:30,369 Job is running in the background, pod: tasks-generate-classification-data-bfmjm\n",
      "[mlrun] 2020-04-25 14:31:54,999 log artifact classifier-data at /User/artifacts/classifier-data.csv, size: 125371547, db: Y\n",
      "\n",
      "[mlrun] 2020-04-25 14:31:55,125 run executed, status=completed\n",
      "final state: succeeded\n"
     ]
    },
    {
     "data": {
      "text/html": [
       "<style> \n",
       ".dictlist {\n",
       "  background-color: #b3edff; \n",
       "  text-align: center; \n",
       "  margin: 4px; \n",
       "  border-radius: 3px; padding: 0px 3px 1px 3px; display: inline-block;}\n",
       ".artifact {\n",
       "  cursor: pointer; \n",
       "  background-color: #ffe6cc; \n",
       "  text-align: left; \n",
       "  margin: 4px; border-radius: 3px; padding: 0px 3px 1px 3px; display: inline-block;\n",
       "}\n",
       "div.block.hidden {\n",
       "  display: none;\n",
       "}\n",
       ".clickable {\n",
       "  cursor: pointer;\n",
       "}\n",
       ".ellipsis {\n",
       "  display: inline-block;\n",
       "  max-width: 60px;\n",
       "  white-space: nowrap;\n",
       "  overflow: hidden;\n",
       "  text-overflow: ellipsis;\n",
       "}\n",
       ".master-wrapper {\n",
       "  display: flex;\n",
       "  flex-flow: row nowrap;\n",
       "  justify-content: flex-start;\n",
       "  align-items: stretch;\n",
       "}\n",
       ".master-tbl {\n",
       "  flex: 3\n",
       "}\n",
       ".master-wrapper > div {\n",
       "  margin: 4px;\n",
       "  padding: 10px;\n",
       "}\n",
       "iframe.fileview {\n",
       "  border: 0 none;\n",
       "  height: 100%;\n",
       "  width: 100%;\n",
       "  white-space: pre-wrap;\n",
       "}\n",
       ".pane-header-title {\n",
       "  width: 80%;\n",
       "  font-weight: 500;\n",
       "}\n",
       ".pane-header {\n",
       "  line-height: 1;\n",
       "  background-color: #ffe6cc;\n",
       "  padding: 3px;\n",
       "}\n",
       ".pane-header .close {\n",
       "  font-size: 20px;\n",
       "  font-weight: 700;\n",
       "  float: right;\n",
       "  margin-top: -5px;\n",
       "}\n",
       ".master-wrapper .right-pane {\n",
       "  border: 1px inset silver;\n",
       "  width: 40%;\n",
       "  min-height: 300px;\n",
       "  flex: 3\n",
       "  min-width: 500px;\n",
       "}\n",
       ".master-wrapper * {\n",
       "  box-sizing: border-box;\n",
       "}\n",
       "</style><script>\n",
       "function copyToClipboard(fld) {\n",
       "    if (document.queryCommandSupported && document.queryCommandSupported('copy')) {\n",
       "        var textarea = document.createElement('textarea');\n",
       "        textarea.textContent = fld.innerHTML;\n",
       "        textarea.style.position = 'fixed';\n",
       "        document.body.appendChild(textarea);\n",
       "        textarea.select();\n",
       "\n",
       "        try {\n",
       "            return document.execCommand('copy'); // Security exception may be thrown by some browsers.\n",
       "        } catch (ex) {\n",
       "\n",
       "        } finally {\n",
       "            document.body.removeChild(textarea);\n",
       "        }\n",
       "    }\n",
       "}\n",
       "function expandPanel(el) {\n",
       "  const panelName = \"#\" + el.getAttribute('paneName');\n",
       "  console.log(el.title);\n",
       "\n",
       "  document.querySelector(panelName + \"-title\").innerHTML = el.title\n",
       "  iframe = document.querySelector(panelName + \"-body\");\n",
       "  \n",
       "  const tblcss = `<style> body { font-family: Arial, Helvetica, sans-serif;}\n",
       "    #csv { margin-bottom: 15px; }\n",
       "    #csv table { border-collapse: collapse;}\n",
       "    #csv table td { padding: 4px 8px; border: 1px solid silver;} </style>`;\n",
       "\n",
       "  function csvToHtmlTable(str) {\n",
       "    return '<div id=\"csv\"><table><tr><td>' +  str.replace(/[\\n\\r]+$/g, '').replace(/[\\n\\r]+/g, '</td></tr><tr><td>')\n",
       "      .replace(/,/g, '</td><td>') + '</td></tr></table></div>';\n",
       "  }\n",
       "  \n",
       "  function reqListener () {\n",
       "    if (el.title.endsWith(\".csv\")) {\n",
       "      iframe.setAttribute(\"srcdoc\", tblcss + csvToHtmlTable(this.responseText));\n",
       "    } else {\n",
       "      iframe.setAttribute(\"srcdoc\", this.responseText);\n",
       "    }  \n",
       "    console.log(this.responseText);\n",
       "  }\n",
       "\n",
       "  const oReq = new XMLHttpRequest();\n",
       "  oReq.addEventListener(\"load\", reqListener);\n",
       "  oReq.open(\"GET\", el.title);\n",
       "  oReq.send();\n",
       "  \n",
       "  \n",
       "  //iframe.src = el.title;\n",
       "  const resultPane = document.querySelector(panelName + \"-pane\");\n",
       "  if (resultPane.classList.contains(\"hidden\")) {\n",
       "    resultPane.classList.remove(\"hidden\");\n",
       "  }\n",
       "}\n",
       "function closePanel(el) {\n",
       "  const panelName = \"#\" + el.getAttribute('paneName')\n",
       "  const resultPane = document.querySelector(panelName + \"-pane\");\n",
       "  if (!resultPane.classList.contains(\"hidden\")) {\n",
       "    resultPane.classList.add(\"hidden\");\n",
       "  }\n",
       "}\n",
       "\n",
       "</script>\n",
       "<div class=\"master-wrapper\">\n",
       "  <div class=\"block master-tbl\"><div>\n",
       "<style scoped>\n",
       "    .dataframe tbody tr th:only-of-type {\n",
       "        vertical-align: middle;\n",
       "    }\n",
       "\n",
       "    .dataframe tbody tr th {\n",
       "        vertical-align: top;\n",
       "    }\n",
       "\n",
       "    .dataframe thead th {\n",
       "        text-align: right;\n",
       "    }\n",
       "</style>\n",
       "<table border=\"1\" class=\"dataframe\">\n",
       "  <thead>\n",
       "    <tr style=\"text-align: right;\">\n",
       "      <th>project</th>\n",
       "      <th>uid</th>\n",
       "      <th>iter</th>\n",
       "      <th>start</th>\n",
       "      <th>state</th>\n",
       "      <th>name</th>\n",
       "      <th>labels</th>\n",
       "      <th>inputs</th>\n",
       "      <th>parameters</th>\n",
       "      <th>results</th>\n",
       "      <th>artifacts</th>\n",
       "    </tr>\n",
       "  </thead>\n",
       "  <tbody>\n",
       "    <tr>\n",
       "      <td>default</td>\n",
       "      <td><div title=\"580a0667136f44258db0afde06e80221\">...e80221</div></td>\n",
       "      <td>0</td>\n",
       "      <td>Apr 25 14:31:37</td>\n",
       "      <td>completed</td>\n",
       "      <td>tasks generate classification data</td>\n",
       "      <td><div class=\"dictlist\">host=tasks-generate-classification-data-bfmjm</div><div class=\"dictlist\">kind=job</div><div class=\"dictlist\">owner=admin</div><div class=\"dictlist\">v3io_user=admin</div></td>\n",
       "      <td></td>\n",
       "      <td><div class=\"dictlist\">file_ext=csv</div><div class=\"dictlist\">k_classes=2</div><div class=\"dictlist\">m_features=64</div><div class=\"dictlist\">n_samples=100000</div><div class=\"dictlist\">sk_params={'n_informative': 12}</div><div class=\"dictlist\">weight=[0.6, 0.4]</div></td>\n",
       "      <td></td>\n",
       "      <td><div class=\"artifact\" onclick=\"expandPanel(this)\" paneName=\"resultbd03a5f0\" title=\"/files/artifacts/classifier-data.csv\">classifier-data</div></td>\n",
       "    </tr>\n",
       "  </tbody>\n",
       "</table>\n",
       "</div></div>\n",
       "  <div id=\"resultbd03a5f0-pane\" class=\"right-pane block hidden\">\n",
       "    <div class=\"pane-header\">\n",
       "      <span id=\"resultbd03a5f0-title\" class=\"pane-header-title\">Title</span>\n",
       "      <span onclick=\"closePanel(this)\" paneName=\"resultbd03a5f0\" class=\"close clickable\">&times;</span>\n",
       "    </div>\n",
       "    <iframe class=\"fileview\" id=\"resultbd03a5f0-body\"></iframe>\n",
       "  </div>\n",
       "</div>\n"
      ],
      "text/plain": [
       "<IPython.core.display.HTML object>"
      ]
     },
     "metadata": {},
     "output_type": "display_data"
    },
    {
     "name": "stdout",
     "output_type": "stream",
     "text": [
      "to track results use .show() or .logs() or in CLI: \n",
      "!mlrun get run 580a0667136f44258db0afde06e80221  , !mlrun logs 580a0667136f44258db0afde06e80221 \n",
      "[mlrun] 2020-04-25 14:32:00,274 run executed, status=completed\n"
     ]
    }
   ],
   "source": [
    "run = func.run(NewTask(**task_params))"
   ]
  }
 ],
 "metadata": {
  "kernelspec": {
   "display_name": "mlrun",
   "language": "python",
   "name": "mlrun"
  },
  "language_info": {
   "codemirror_mode": {
    "name": "ipython",
    "version": 3
   },
   "file_extension": ".py",
   "mimetype": "text/x-python",
   "name": "python",
   "nbconvert_exporter": "python",
   "pygments_lexer": "ipython3",
   "version": "3.6.8"
  }
 },
 "nbformat": 4,
 "nbformat_minor": 4
}
