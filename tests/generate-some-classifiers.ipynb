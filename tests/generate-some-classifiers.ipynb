{
 "cells": [
  {
   "cell_type": "markdown",
   "metadata": {},
   "source": [
    "# generate multiple classifier models for testing\n",
    "\n",
    "Generate classifier models and pickle them under `/User/mlrun/models/<any>-classifier.cpkl`.\n",
    "\n",
    "In principle, the pickle `load` method should give us a class instance that we can predict with.  This may not work in practice, and that is the purpose of this notebook, to figure out which models work, and which don't.  Several pickling packages will also be tested in case there are differences.\n",
    "\n",
    "### _extensions_\n",
    "* cpkl for `cloudpickle`\n",
    "* pkl for `pickle`\n",
    "* dpkl for `dill`...\n",
    "\n",
    "**gbc model:** adapted from **[Probabilistic predictions with Gaussian process classification (GPC)](https://scikit-learn.org/stable/auto_examples/gaussian_process/plot_gpc.html#sphx-glr-auto-examples-gaussian-process-plot-gpc-py)**\n",
    "\n"
   ]
  },
  {
   "cell_type": "code",
   "execution_count": 1,
   "metadata": {
    "collapsed": false,
    "jupyter": {
     "outputs_hidden": false
    }
   },
   "outputs": [],
   "source": [
    "%matplotlib inline"
   ]
  },
  {
   "cell_type": "code",
   "execution_count": 2,
   "metadata": {},
   "outputs": [],
   "source": [
    "from cloudpickle import dump as cdump, load as cload\n",
    "from pickle import dump as pdump, load as pload\n",
    "from dill import dump as ddump, load as dload"
   ]
  },
  {
   "cell_type": "code",
   "execution_count": 3,
   "metadata": {
    "collapsed": false,
    "jupyter": {
     "outputs_hidden": false
    }
   },
   "outputs": [],
   "source": [
    "import numpy as np\n",
    "\n",
    "from matplotlib import pyplot as plt\n",
    "\n",
    "from sklearn.metrics import accuracy_score, log_loss\n",
    "from sklearn.datasets import make_classification\n",
    "from sklearn.model_selection import train_test_split\n",
    "from sklearn.gaussian_process import GaussianProcessClassifier\n",
    "from sklearn.gaussian_process.kernels import RBF"
   ]
  },
  {
   "cell_type": "code",
   "execution_count": 4,
   "metadata": {},
   "outputs": [],
   "source": [
    "n_samples = 1000\n",
    "train_size = 0.7\n",
    "\n",
    "X, y = make_classification(\n",
    "    n_samples=n_samples,\n",
    "    n_features=28, \n",
    "    random_state = 1)\n",
    "\n",
    "xtrain, xtest, ytrain, ytest = train_test_split(X, y, test_size=1-train_size)"
   ]
  },
  {
   "cell_type": "code",
   "execution_count": 5,
   "metadata": {
    "collapsed": false,
    "jupyter": {
     "outputs_hidden": false
    }
   },
   "outputs": [],
   "source": [
    "kernel = 1.0*RBF(length_scale=1.0)\n",
    "\n",
    "clf = GaussianProcessClassifier(kernel=kernel, random_state=1)"
   ]
  },
  {
   "cell_type": "code",
   "execution_count": 6,
   "metadata": {
    "collapsed": false,
    "jupyter": {
     "outputs_hidden": false
    }
   },
   "outputs": [
    {
     "data": {
      "text/plain": [
       "GaussianProcessClassifier(copy_X_train=True, kernel=1**2 * RBF(length_scale=1),\n",
       "                          max_iter_predict=100, multi_class='one_vs_rest',\n",
       "                          n_jobs=None, n_restarts_optimizer=0,\n",
       "                          optimizer='fmin_l_bfgs_b', random_state=1,\n",
       "                          warm_start=False)"
      ]
     },
     "execution_count": 6,
     "metadata": {},
     "output_type": "execute_result"
    }
   ],
   "source": [
    "clf.fit(xtrain, ytrain)"
   ]
  },
  {
   "cell_type": "code",
   "execution_count": 7,
   "metadata": {
    "collapsed": false,
    "jupyter": {
     "outputs_hidden": false
    }
   },
   "outputs": [],
   "source": [
    "accuracy =  accuracy_score(ytest, clf.predict(xtest))\n",
    "\n",
    "logloss = log_loss(ytest, clf.predict_proba(xtest)[:, 1])"
   ]
  },
  {
   "cell_type": "code",
   "execution_count": 8,
   "metadata": {},
   "outputs": [],
   "source": [
    "cdump(clf, open('/User/mlrun/models/gpc-classifier.cpkl', 'wb'))"
   ]
  },
  {
   "cell_type": "code",
   "execution_count": 9,
   "metadata": {},
   "outputs": [],
   "source": [
    "clf_loaded = cload(open('/User/mlrun/models/gpc-classifier.cpkl', 'rb'))"
   ]
  },
  {
   "cell_type": "code",
   "execution_count": 10,
   "metadata": {},
   "outputs": [
    {
     "data": {
      "text/plain": [
       "GaussianProcessClassifier(copy_X_train=True, kernel=1**2 * RBF(length_scale=1),\n",
       "                          max_iter_predict=100, multi_class='one_vs_rest',\n",
       "                          n_jobs=None, n_restarts_optimizer=0,\n",
       "                          optimizer='fmin_l_bfgs_b', random_state=1,\n",
       "                          warm_start=False)"
      ]
     },
     "execution_count": 10,
     "metadata": {},
     "output_type": "execute_result"
    }
   ],
   "source": [
    "clf_loaded"
   ]
  },
  {
   "cell_type": "code",
   "execution_count": 11,
   "metadata": {},
   "outputs": [],
   "source": [
    "assert accuracy ==  accuracy_score(ytest, clf_loaded.predict(xtest))\n",
    "assert logloss == log_loss(ytest, clf_loaded.predict_proba(xtest)[:, 1])"
   ]
  },
  {
   "cell_type": "code",
   "execution_count": 12,
   "metadata": {},
   "outputs": [],
   "source": [
    "from sklearn.ensemble import AdaBoostClassifier"
   ]
  },
  {
   "cell_type": "code",
   "execution_count": 21,
   "metadata": {},
   "outputs": [],
   "source": [
    "clf = AdaBoostClassifier(n_estimators=100, random_state=1)"
   ]
  },
  {
   "cell_type": "code",
   "execution_count": 22,
   "metadata": {},
   "outputs": [
    {
     "data": {
      "text/plain": [
       "AdaBoostClassifier(algorithm='SAMME.R', base_estimator=None, learning_rate=1.0,\n",
       "                   n_estimators=100, random_state=1)"
      ]
     },
     "execution_count": 22,
     "metadata": {},
     "output_type": "execute_result"
    }
   ],
   "source": [
    "clf.fit(xtrain, ytrain)"
   ]
  },
  {
   "cell_type": "code",
   "execution_count": 23,
   "metadata": {},
   "outputs": [],
   "source": [
    "cdump(clf, open('/User/mlrun/models/ada-classifier.cpkl', 'wb'))"
   ]
  },
  {
   "cell_type": "code",
   "execution_count": 24,
   "metadata": {},
   "outputs": [],
   "source": [
    "clf_loaded = cload(open('/User/mlrun/models/ada-classifier.cpkl', 'rb'))"
   ]
  },
  {
   "cell_type": "code",
   "execution_count": 25,
   "metadata": {
    "collapsed": false,
    "jupyter": {
     "outputs_hidden": false
    }
   },
   "outputs": [],
   "source": [
    "accuracy =  accuracy_score(ytest, clf.predict(xtest))\n",
    "\n",
    "logloss = log_loss(ytest, clf.predict_proba(xtest)[:, 1])"
   ]
  },
  {
   "cell_type": "code",
   "execution_count": 26,
   "metadata": {},
   "outputs": [],
   "source": [
    "assert accuracy ==  accuracy_score(ytest, clf_loaded.predict(xtest))\n",
    "assert logloss == log_loss(ytest, clf_loaded.predict_proba(xtest)[:, 1])"
   ]
  },
  {
   "cell_type": "code",
   "execution_count": null,
   "metadata": {},
   "outputs": [],
   "source": []
  }
 ],
 "metadata": {
  "kernelspec": {
   "display_name": "Python 3",
   "language": "python",
   "name": "python3"
  },
  "language_info": {
   "codemirror_mode": {
    "name": "ipython",
    "version": 3
   },
   "file_extension": ".py",
   "mimetype": "text/x-python",
   "name": "python",
   "nbconvert_exporter": "python",
   "pygments_lexer": "ipython3",
   "version": "3.6.8"
  }
 },
 "nbformat": 4,
 "nbformat_minor": 4
}
