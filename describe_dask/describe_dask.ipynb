{
 "cells": [
  {
   "cell_type": "code",
   "execution_count": 1,
   "metadata": {},
   "outputs": [],
   "source": [
    "# nuclio: ignore\n",
    "import nuclio"
   ]
  },
  {
   "cell_type": "code",
   "execution_count": 2,
   "metadata": {},
   "outputs": [
    {
     "name": "stderr",
     "output_type": "stream",
     "text": [
      "/User/.conda/envs/mlrun/lib/python3.6/site-packages/sklearn/utils/deprecation.py:144: FutureWarning: The sklearn.metrics.classification module is  deprecated in version 0.22 and will be removed in version 0.24. The corresponding classes / functions should instead be imported from sklearn.metrics. Anything that cannot be imported from sklearn.metrics is now part of the private API.\n",
      "  warnings.warn(message, FutureWarning)\n"
     ]
    }
   ],
   "source": [
    "import os\n",
    "import numpy as np\n",
    "import pandas as pd\n",
    "import matplotlib.pyplot as plt\n",
    "import seaborn as sns\n",
    "\n",
    "import dask\n",
    "import dask.dataframe as dd\n",
    "from dask.distributed import Client\n",
    "\n",
    "from mlrun.execution import MLClientCtx\n",
    "from mlrun.datastore import DataItem\n",
    "from mlrun.artifacts import PlotArtifact, TableArtifact\n",
    "from mlrun.mlutils import gcf_clear\n",
    "\n",
    "from yellowbrick import ClassBalance\n",
    "\n",
    "from typing import List"
   ]
  },
  {
   "cell_type": "code",
   "execution_count": 3,
   "metadata": {},
   "outputs": [],
   "source": [
    "pd.set_option(\"display.float_format\", lambda x: \"%.2f\" % x)\n",
    "\n",
    "def summarize(\n",
    "    context: MLClientCtx,\n",
    "    dask_key: str = \"dask_key\",\n",
    "    label_column: str = \"labels\",\n",
    "    class_labels: List[str] = [],\n",
    "    plot_hist: bool = True,\n",
    "    plots_dest: str = \"plots\",\n",
    "    alt_scheduler: str = None\n",
    ") -> None:\n",
    "    \"\"\"Summarize a table\n",
    "    \n",
    "    Connects to dask client through the function context, or through an optional\n",
    "    user-supplied scheduler.\n",
    "\n",
    "    :param context:         the function context\n",
    "    :param dask_key:        key of dataframe in dask client \"datasets\" attribute\n",
    "    :param label_column:    ground truth column label\n",
    "    :param class_labels:    label for each class in tables and plots\n",
    "    :param plot_hist:       (True) set this to False for large tables\n",
    "    :param plots_dest:      destination folder of summary plots (relative to artifact_path)\n",
    "    :param alt_scheduler:   (None) an alternative scheduler file to connect with\n",
    "    \"\"\"\n",
    "    if alt_scheduler:\n",
    "        dask_client = Client(scheduler_file=str(alt_scheduler))\n",
    "    elif hasattr(context, \"dask_client\"):\n",
    "        dask_client = Client(scheduler_file=str(context.dask_client))\n",
    "    else:\n",
    "        raise Exception(\"out of luck, no dask_client or scheduler file!\")\n",
    "        \n",
    "    if dask_key in dask_client.datasets:\n",
    "        table = dask_client.get_dataset(dask_key)\n",
    "    else:\n",
    "        context.logger.info(f\"only these datasets are available {dask_client.datasets} in client {dask_client}\")\n",
    "        raise Exception(\"dataset not found on dask cluster\")\n",
    "    header = table.columns.values\n",
    "    \n",
    "    gcf_clear(plt)\n",
    "    table = table.compute()\n",
    "    snsplt = sns.pairplot(table, hue=label_column, diag_kws={'bw': 1.5})\n",
    "    context.log_artifact(PlotArtifact('histograms',  body=plt.gcf()), \n",
    "                         local_path=f\"{plots_dest}/hist.html\")\n",
    "\n",
    "    gcf_clear(plt)   \n",
    "    labels = table.pop(label_column)\n",
    "    if not class_labels:\n",
    "        class_labels = labels.unique()\n",
    "    class_balance_model = ClassBalance(labels=class_labels)\n",
    "    class_balance_model.fit(labels)   \n",
    "    scale_pos_weight = class_balance_model.support_[0]/class_balance_model.support_[1]\n",
    "    context.log_result(\"scale_pos_weight\", f\"{scale_pos_weight:0.2f}\")\n",
    "    context.log_artifact(PlotArtifact(\"imbalance\", body=plt.gcf()), \n",
    "                         local_path=f\"{plots_dest}/imbalance.html\")\n",
    "    \n",
    "    gcf_clear(plt)\n",
    "    tblcorr = table.corr()\n",
    "    ax = plt.axes()\n",
    "    sns.heatmap(tblcorr, ax=ax, annot=False, cmap=plt.cm.Reds)\n",
    "    ax.set_title(\"features correlation\")\n",
    "    context.log_artifact(PlotArtifact(\"correlation\",  body=plt.gcf()), \n",
    "                         local_path=f\"{plots_dest}/corr.html\")\n",
    "    # otherwise shows last plot:\n",
    "    gcf_clear(plt)"
   ]
  },
  {
   "cell_type": "code",
   "execution_count": 4,
   "metadata": {},
   "outputs": [],
   "source": [
    "# nuclio: end-code"
   ]
  },
  {
   "cell_type": "markdown",
   "metadata": {},
   "source": [
    "### mlconfig"
   ]
  },
  {
   "cell_type": "code",
   "execution_count": 5,
   "metadata": {},
   "outputs": [],
   "source": [
    "from mlrun import mlconf"
   ]
  },
  {
   "cell_type": "code",
   "execution_count": 6,
   "metadata": {},
   "outputs": [
    {
     "data": {
      "text/plain": [
       "'http://mlrun-api:8080'"
      ]
     },
     "execution_count": 6,
     "metadata": {},
     "output_type": "execute_result"
    }
   ],
   "source": [
    "mlconf.dbpath = mlconf.dbpath or './'\n",
    "mlconf.dbpath"
   ]
  },
  {
   "cell_type": "code",
   "execution_count": 7,
   "metadata": {},
   "outputs": [
    {
     "data": {
      "text/plain": [
       "'/User/repos/functions/{name}/function.yaml'"
      ]
     },
     "execution_count": 7,
     "metadata": {},
     "output_type": "execute_result"
    }
   ],
   "source": [
    "vcs_branch = 'development'\n",
    "base_vcs = f'https://raw.githubusercontent.com/mlrun/functions/{vcs_branch}/'\n",
    "\n",
    "mlconf.hub_url = mlconf.hub_url or base_vcs + f'{name}/function.yaml'\n",
    "mlconf.hub_url"
   ]
  },
  {
   "cell_type": "code",
   "execution_count": 8,
   "metadata": {},
   "outputs": [
    {
     "data": {
      "text/plain": [
       "'/User/artifacts'"
      ]
     },
     "execution_count": 8,
     "metadata": {},
     "output_type": "execute_result"
    }
   ],
   "source": [
    "import os\n",
    "mlconf.artifact_path = mlconf.artifact_path or f'{os.environ[\"V3IO_HOME\"]}/artifacts'\n",
    "mlconf.artifact_path"
   ]
  },
  {
   "cell_type": "markdown",
   "metadata": {},
   "source": [
    "### save"
   ]
  },
  {
   "cell_type": "code",
   "execution_count": 9,
   "metadata": {},
   "outputs": [
    {
     "name": "stdout",
     "output_type": "stream",
     "text": [
      "[mlrun] 2020-04-25 22:12:46,237 saving function: describe-dask, tag: latest\n",
      "[mlrun] 2020-04-25 22:12:46,268 function spec saved to path: function.yaml\n"
     ]
    },
    {
     "data": {
      "text/plain": [
       "<mlrun.runtimes.kubejob.KubejobRuntime at 0x7fcea633e438>"
      ]
     },
     "execution_count": 9,
     "metadata": {},
     "output_type": "execute_result"
    }
   ],
   "source": [
    "from mlrun import code_to_function \n",
    "# create job function object from notebook code\n",
    "fn = code_to_function('describe_dask', kind='job', with_doc=True,\n",
    "                      handler=summarize, \n",
    "                      image='mlrun/ml-models:0.4.6')\n",
    "\n",
    "# add metadata (for templates and reuse)\n",
    "fn.spec.default_handler = 'summarize'\n",
    "fn.spec.description = \"describe and visualizes dataset stats\"\n",
    "fn.metadata.categories = ['models', 'visualization']\n",
    "fn.metadata.labels = {'author': 'yjb'}\n",
    "\n",
    "fn.save()\n",
    "fn.export('function.yaml')"
   ]
  },
  {
   "cell_type": "markdown",
   "metadata": {},
   "source": [
    "## tests"
   ]
  },
  {
   "cell_type": "code",
   "execution_count": 10,
   "metadata": {},
   "outputs": [],
   "source": [
    "from mlrun import import_function, NewTask, run_local\n",
    "\n",
    "func = import_function(\"hub://describe_dask\")\n",
    "\n",
    "if \"V3IO_HOME\" in list(os.environ):\n",
    "    from mlrun import mount_v3io\n",
    "    func.apply(mount_v3io())\n",
    "else:\n",
    "    # is you set up mlrun using the instructions at https://github.com/mlrun/mlrun/blob/master/hack/local/README.md\n",
    "    from mlrun.platforms import mount_pvc\n",
    "    func.apply(mount_pvc('nfsvol', 'nfsvol', '/home/joyan/data'))"
   ]
  },
  {
   "cell_type": "code",
   "execution_count": null,
   "metadata": {},
   "outputs": [
    {
     "name": "stdout",
     "output_type": "stream",
     "text": [
      "[mlrun] 2020-04-25 22:12:46,321 starting run tasks describe dask uid=a6c2ef7d313c4ecabf4474625d90f0f3  -> http://mlrun-api:8080\n"
     ]
    },
    {
     "name": "stderr",
     "output_type": "stream",
     "text": [
      "/User/.conda/envs/mlrun/lib/python3.6/site-packages/distributed/client.py:1079: VersionMismatchWarning: Mismatched versions found\n",
      "\n",
      "python\n",
      "+-------------------------+---------------+\n",
      "|                         | version       |\n",
      "+-------------------------+---------------+\n",
      "| client                  | 3.6.8.final.0 |\n",
      "| scheduler               | 3.7.6.final.0 |\n",
      "| tcp://10.200.0.53:41214 | 3.7.6.final.0 |\n",
      "| tcp://10.200.0.54:33928 | 3.7.6.final.0 |\n",
      "| tcp://10.200.0.55:41511 | 3.7.6.final.0 |\n",
      "| tcp://10.200.0.56:42044 | 3.7.6.final.0 |\n",
      "+-------------------------+---------------+\n",
      "  warnings.warn(version_module.VersionMismatchWarning(msg[0][\"warning\"]))\n"
     ]
    }
   ],
   "source": [
    "task = NewTask(name=\"tasks describe dask\", \n",
    "               handler=summarize, \n",
    "               inputs={'dask_key': \"dask_key\",\n",
    "                       \"alt_scheduler\" :\"/User/artifacts/scheduler.json\"})\n",
    "run = run_local(task)"
   ]
  }
 ],
 "metadata": {
  "kernelspec": {
   "display_name": "mlrun-4.6",
   "language": "python",
   "name": "mlrun-4.6"
  },
  "language_info": {
   "codemirror_mode": {
    "name": "ipython",
    "version": 3
   },
   "file_extension": ".py",
   "mimetype": "text/x-python",
   "name": "python",
   "nbconvert_exporter": "python",
   "pygments_lexer": "ipython3",
   "version": "3.8.2"
  }
 },
 "nbformat": 4,
 "nbformat_minor": 4
}
