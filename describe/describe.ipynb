{
 "cells": [
  {
   "cell_type": "code",
   "execution_count": 1,
   "metadata": {},
   "outputs": [],
   "source": [
    "import mlrun\n",
    "mlrun.mlconf.mlrundb = 'https://mlrun-api:8080'"
   ]
  },
  {
   "cell_type": "markdown",
   "metadata": {},
   "source": [
    "## describe a table"
   ]
  },
  {
   "cell_type": "code",
   "execution_count": 12,
   "metadata": {},
   "outputs": [],
   "source": [
    "# nuclio: ignore\n",
    "import nuclio"
   ]
  },
  {
   "cell_type": "code",
   "execution_count": 21,
   "metadata": {},
   "outputs": [],
   "source": [
    "import os\n",
    "import numpy as np\n",
    "import pandas as pd\n",
    "import matplotlib.pyplot as plt\n",
    "import seaborn as sns\n",
    "\n",
    "from mlrun.execution import MLClientCtx\n",
    "from mlrun.datastore import DataItem\n",
    "from mlrun.artifacts import PlotArtifact, TableArtifact\n",
    "\n",
    "from sklearn.preprocessing import StandardScaler\n",
    "from yellowbrick import ClassBalance\n",
    "\n",
    "from typing import IO, AnyStr, Union, List, Optional\n",
    "\n",
    "pd.set_option(\"display.float_format\", lambda x: \"%.2f\" % x)\n",
    "\n",
    "def _gcf_clear(plt):\n",
    "    plt.cla()\n",
    "    plt.clf()\n",
    "    plt.close() \n",
    "\n",
    "def describe(\n",
    "    context: MLClientCtx,\n",
    "    table: Union[DataItem, str],\n",
    "    label_column: str,\n",
    "    class_labels: List[str] = None,\n",
    "    key: str = \"table-summary\",\n",
    "    plot_hist: bool = True,\n",
    "    plots_dest: str = 'plots'\n",
    ") -> None:\n",
    "    \"\"\"Summarize a table\n",
    "\n",
    "    TODO: merge with dask version\n",
    "\n",
    "    :param context:         the function context\n",
    "    :param table:           pandas dataframe\n",
    "    :param label_column:    ground truth column label\n",
    "    :param key:             key of table summary in artifact store\n",
    "    :param plot_hist:       (True) set this to False for large tables\n",
    "    :param plots_dest:      destination folder of summary plots (relative to artifact_path)\n",
    "    \"\"\"\n",
    "    base_path = context.artifact_path\n",
    "    os.makedirs(base_path, exist_ok=True)\n",
    "    os.makedirs(base_path+\"/plots\", exist_ok=True)\n",
    "    \n",
    "    print(f'TABLE {table}')\n",
    "    table = pd.read_parquet(str(table))\n",
    "    header = table.columns.values\n",
    "\n",
    "    # plot histogram\n",
    "    _gcf_clear(plt)\n",
    "    snsplt = sns.pairplot(table, hue=label_column)\n",
    "    snsplt.savefig(os.path.join(base_path, f\"{plots_dest}/hist.png\"))\n",
    "    context.log_artifact(PlotArtifact(\"histograms\",  body=plt.gcf()), local_path=f\"{plots_dest}/hist.html\")\n",
    "    \n",
    "    # describe table\n",
    "    sumtbl = table.describe()\n",
    "    sumtbl = sumtbl.append(len(table.index)-table.count(), ignore_index=True)\n",
    "    sumtbl.insert(0, \"metric\", [\"count\", \"mean\", \"std\", \"min\",\"25%\", \"50%\", \"75%\", \"max\", \"nans\"])\n",
    "    \n",
    "    sumtbl.to_csv(os.path.join(base_path, key+\".csv\"), index=False)\n",
    "    context.log_artifact(key, local_path=key+\".csv\")\n",
    "\n",
    "    # plot class balance, record relative class weight\n",
    "    _gcf_clear(plt)\n",
    "    \n",
    "    labels = table.pop(label_column)\n",
    "    class_balance_model = ClassBalance(labels=class_labels)\n",
    "    class_balance_model.fit(labels)\n",
    "    \n",
    "    scale_pos_weight = class_balance_model.support_[0]/class_balance_model.support_[1]\n",
    "    context.log_artifact(\"scale_pos_weight\", f\"{scale_pos_weight:0.2f}\")\n",
    "\n",
    "    class_balance_model.show(outpath=os.path.join(base_path, f\"{plots_dest}/imbalance.png\"))\n",
    "    context.log_artifact(PlotArtifact(\"imbalance\", body=plt.gcf()), local_path=f\"{plots_dest}/imbalance.html\")\n",
    "    \n",
    "    # plot feature correlation\n",
    "    _gcf_clear(plt)\n",
    "    tblcorr = table.corr()\n",
    "    ax = plt.axes()\n",
    "    sns.heatmap(tblcorr, ax=ax, annot=False, cmap=plt.cm.Reds)\n",
    "    ax.set_title(\"features correlation\")\n",
    "    plt.savefig(os.path.join(base_path, f\"{plots_dest}/corr.png\"))\n",
    "    context.log_artifact(PlotArtifact(\"correlation\",  body=plt.gcf()), local_path=f\"{plots_dest}corr.html\")\n",
    "    \n",
    "   \n",
    "    _gcf_clear(plt)"
   ]
  },
  {
   "cell_type": "code",
   "execution_count": 22,
   "metadata": {},
   "outputs": [],
   "source": [
    "# nuclio: end-code"
   ]
  },
  {
   "cell_type": "markdown",
   "metadata": {},
   "source": [
    "## tests"
   ]
  },
  {
   "cell_type": "markdown",
   "metadata": {},
   "source": [
    "### local"
   ]
  },
  {
   "cell_type": "markdown",
   "metadata": {},
   "source": [
    "the following install may be needed when running on your local notebook:"
   ]
  },
  {
   "cell_type": "markdown",
   "metadata": {
    "jupyter": {
     "outputs_hidden": true
    }
   },
   "source": [
    "    !python -m pip install yellowbrick"
   ]
  },
  {
   "cell_type": "markdown",
   "metadata": {},
   "source": [
    "When run remotely this will not be necessary since the `yellowbrick` package is pre-installed on the function's job image."
   ]
  },
  {
   "cell_type": "code",
   "execution_count": 23,
   "metadata": {},
   "outputs": [],
   "source": [
    "fn = mlrun.code_to_function('summary', kind='job', image='mlrun/ml-models:0.4.5')\n",
    "fn.spec.default_handler = 'describe'"
   ]
  },
  {
   "cell_type": "code",
   "execution_count": 24,
   "metadata": {},
   "outputs": [
    {
     "data": {
      "text/plain": [
       "<mlrun.runtimes.kubejob.KubejobRuntime at 0x7fd810adf5f8>"
      ]
     },
     "execution_count": 24,
     "metadata": {},
     "output_type": "execute_result"
    }
   ],
   "source": [
    "fn.apply(mlrun.mount_v3io())"
   ]
  },
  {
   "cell_type": "code",
   "execution_count": 25,
   "metadata": {},
   "outputs": [],
   "source": [
    "summ_task = mlrun.NewTask(\n",
    "    \"sum\", \n",
    "    params={\"key\": \"summary\", \"label_column\": \"species\"},\n",
    "    inputs={\"table\": '/User/functions/describe/iris.pqt'},\n",
    "    artifact_path='/User/functions/describe/artifacts/{{run.uid}}')"
   ]
  },
  {
   "cell_type": "code",
   "execution_count": 26,
   "metadata": {},
   "outputs": [
    {
     "name": "stdout",
     "output_type": "stream",
     "text": [
      "[mlrun] 2020-03-15 19:48:08,770 warning!, server (0.4.5) and client (0.4.6) ver dont match\n",
      "[mlrun] 2020-03-15 19:48:08,771 starting run sum uid=0e70c48c2b0047239ab007a69f89d57c  -> http://10.194.253.77:8080\n",
      "[mlrun] 2020-03-15 19:48:08,846 Job is running in the background, pod: sum-hpb7z\n",
      "Intel(R) Data Analytics Acceleration Library (Intel(R) DAAL) solvers for sklearn enabled: https://intelpython.github.io/daal4py/sklearn.html\n",
      "findfont: Font family ['sans-serif'] not found. Falling back to DejaVu Sans.\n",
      "findfont: Font family ['sans-serif'] not found. Falling back to DejaVu Sans.\n",
      "findfont: Font family ['sans-serif'] not found. Falling back to DejaVu Sans.\n",
      "findfont: Font family ['sans-serif'] not found. Falling back to DejaVu Sans.\n",
      "TABLE /User/functions/describe/iris.pqt\n",
      "[mlrun] 2020-03-15 19:48:19,115 log artifact histograms at /User/functions/describe/artifacts/0e70c48c2b0047239ab007a69f89d57c/plots/hist.html, size: 288817, db: Y\n",
      "[mlrun] 2020-03-15 19:48:19,157 log artifact summary at /User/functions/describe/artifacts/0e70c48c2b0047239ab007a69f89d57c/summary.csv, size: None, db: Y\n",
      "[mlrun] 2020-03-15 19:48:19,752 log artifact scale_pos_weight at /User/functions/describe/artifacts/0e70c48c2b0047239ab007a69f89d57c/scale_pos_weight, size: 4, db: Y\n",
      "[mlrun] 2020-03-15 19:48:19,966 log artifact imbalance at /User/functions/describe/artifacts/0e70c48c2b0047239ab007a69f89d57c/plots/imbalance.html, size: 22080, db: Y\n",
      "[mlrun] 2020-03-15 19:48:20,184 log artifact correlation at /User/functions/describe/artifacts/0e70c48c2b0047239ab007a69f89d57c/plotscorr.html, size: 31438, db: Y\n",
      "\n",
      "[mlrun] 2020-03-15 19:48:20,250 run executed, status=completed\n",
      "final state: succeeded\n"
     ]
    },
    {
     "data": {
      "text/html": [
       "<style> \n",
       ".dictlist {\n",
       "  background-color: #b3edff; \n",
       "  text-align: center; \n",
       "  margin: 4px; \n",
       "  border-radius: 3px; padding: 0px 3px 1px 3px; display: inline-block;}\n",
       ".artifact {\n",
       "  cursor: pointer; \n",
       "  background-color: #ffe6cc; \n",
       "  text-align: left; \n",
       "  margin: 4px; border-radius: 3px; padding: 0px 3px 1px 3px; display: inline-block;\n",
       "}\n",
       "div.block.hidden {\n",
       "  display: none;\n",
       "}\n",
       ".clickable {\n",
       "  cursor: pointer;\n",
       "}\n",
       ".ellipsis {\n",
       "  display: inline-block;\n",
       "  max-width: 60px;\n",
       "  white-space: nowrap;\n",
       "  overflow: hidden;\n",
       "  text-overflow: ellipsis;\n",
       "}\n",
       ".master-wrapper {\n",
       "  display: flex;\n",
       "  flex-flow: row nowrap;\n",
       "  justify-content: flex-start;\n",
       "  align-items: stretch;\n",
       "}\n",
       ".master-tbl {\n",
       "  flex: 3\n",
       "}\n",
       ".master-wrapper > div {\n",
       "  margin: 4px;\n",
       "  padding: 10px;\n",
       "}\n",
       "iframe.fileview {\n",
       "  border: 0 none;\n",
       "  height: 100%;\n",
       "  width: 100%;\n",
       "  white-space: pre-wrap;\n",
       "}\n",
       ".pane-header-title {\n",
       "  width: 80%;\n",
       "  font-weight: 500;\n",
       "}\n",
       ".pane-header {\n",
       "  line-height: 1;\n",
       "  background-color: #ffe6cc;\n",
       "  padding: 3px;\n",
       "}\n",
       ".pane-header .close {\n",
       "  font-size: 20px;\n",
       "  font-weight: 700;\n",
       "  float: right;\n",
       "  margin-top: -5px;\n",
       "}\n",
       ".master-wrapper .right-pane {\n",
       "  border: 1px inset silver;\n",
       "  width: 40%;\n",
       "  min-height: 300px;\n",
       "  flex: 3\n",
       "  min-width: 500px;\n",
       "}\n",
       ".master-wrapper * {\n",
       "  box-sizing: border-box;\n",
       "}\n",
       "</style><script>\n",
       "function copyToClipboard(fld) {\n",
       "    if (document.queryCommandSupported && document.queryCommandSupported('copy')) {\n",
       "        var textarea = document.createElement('textarea');\n",
       "        textarea.textContent = fld.innerHTML;\n",
       "        textarea.style.position = 'fixed';\n",
       "        document.body.appendChild(textarea);\n",
       "        textarea.select();\n",
       "\n",
       "        try {\n",
       "            return document.execCommand('copy'); // Security exception may be thrown by some browsers.\n",
       "        } catch (ex) {\n",
       "\n",
       "        } finally {\n",
       "            document.body.removeChild(textarea);\n",
       "        }\n",
       "    }\n",
       "}\n",
       "function expandPanel(el) {\n",
       "  const panelName = \"#\" + el.getAttribute('paneName');\n",
       "  console.log(el.title);\n",
       "\n",
       "  document.querySelector(panelName + \"-title\").innerHTML = el.title\n",
       "  iframe = document.querySelector(panelName + \"-body\");\n",
       "  \n",
       "  const tblcss = `<style> body { font-family: Arial, Helvetica, sans-serif;}\n",
       "    #csv { margin-bottom: 15px; }\n",
       "    #csv table { border-collapse: collapse;}\n",
       "    #csv table td { padding: 4px 8px; border: 1px solid silver;} </style>`;\n",
       "\n",
       "  function csvToHtmlTable(str) {\n",
       "    return '<div id=\"csv\"><table><tr><td>' +  str.replace(/[\\n\\r]+$/g, '').replace(/[\\n\\r]+/g, '</td></tr><tr><td>')\n",
       "      .replace(/,/g, '</td><td>') + '</td></tr></table></div>';\n",
       "  }\n",
       "  \n",
       "  function reqListener () {\n",
       "    if (el.title.endsWith(\".csv\")) {\n",
       "      iframe.setAttribute(\"srcdoc\", tblcss + csvToHtmlTable(this.responseText));\n",
       "    } else {\n",
       "      iframe.setAttribute(\"srcdoc\", this.responseText);\n",
       "    }  \n",
       "    console.log(this.responseText);\n",
       "  }\n",
       "\n",
       "  const oReq = new XMLHttpRequest();\n",
       "  oReq.addEventListener(\"load\", reqListener);\n",
       "  oReq.open(\"GET\", el.title);\n",
       "  oReq.send();\n",
       "  \n",
       "  \n",
       "  //iframe.src = el.title;\n",
       "  const resultPane = document.querySelector(panelName + \"-pane\");\n",
       "  if (resultPane.classList.contains(\"hidden\")) {\n",
       "    resultPane.classList.remove(\"hidden\");\n",
       "  }\n",
       "}\n",
       "function closePanel(el) {\n",
       "  const panelName = \"#\" + el.getAttribute('paneName')\n",
       "  const resultPane = document.querySelector(panelName + \"-pane\");\n",
       "  if (!resultPane.classList.contains(\"hidden\")) {\n",
       "    resultPane.classList.add(\"hidden\");\n",
       "  }\n",
       "}\n",
       "\n",
       "</script>\n",
       "<div class=\"master-wrapper\">\n",
       "  <div class=\"block master-tbl\"><div>\n",
       "<style scoped>\n",
       "    .dataframe tbody tr th:only-of-type {\n",
       "        vertical-align: middle;\n",
       "    }\n",
       "\n",
       "    .dataframe tbody tr th {\n",
       "        vertical-align: top;\n",
       "    }\n",
       "\n",
       "    .dataframe thead th {\n",
       "        text-align: right;\n",
       "    }\n",
       "</style>\n",
       "<table border=\"1\" class=\"dataframe\">\n",
       "  <thead>\n",
       "    <tr style=\"text-align: right;\">\n",
       "      <th>uid</th>\n",
       "      <th>iter</th>\n",
       "      <th>start</th>\n",
       "      <th>state</th>\n",
       "      <th>name</th>\n",
       "      <th>labels</th>\n",
       "      <th>inputs</th>\n",
       "      <th>parameters</th>\n",
       "      <th>results</th>\n",
       "      <th>artifacts</th>\n",
       "    </tr>\n",
       "  </thead>\n",
       "  <tbody>\n",
       "    <tr>\n",
       "      <td><div title=\"0e70c48c2b0047239ab007a69f89d57c\">...89d57c</div></td>\n",
       "      <td>0</td>\n",
       "      <td>Mar 15 19:48:13</td>\n",
       "      <td>completed</td>\n",
       "      <td>sum</td>\n",
       "      <td><div class=\"dictlist\">host=sum-hpb7z</div><div class=\"dictlist\">kind=job</div><div class=\"dictlist\">owner=admin</div></td>\n",
       "      <td><div title=\"/User/functions/describe/iris.pqt\">table</div></td>\n",
       "      <td><div class=\"dictlist\">key=summary</div><div class=\"dictlist\">label_column=species</div></td>\n",
       "      <td></td>\n",
       "      <td><div class=\"artifact\" onclick=\"expandPanel(this)\" paneName=\"resultbee4fe61\" title=\"/files/functions/describe/artifacts/0e70c48c2b0047239ab007a69f89d57c/plots/hist.html\">histograms</div><div class=\"artifact\" onclick=\"expandPanel(this)\" paneName=\"resultbee4fe61\" title=\"/files/functions/describe/artifacts/0e70c48c2b0047239ab007a69f89d57c/summary.csv\">summary</div><div title=\"/User/functions/describe/artifacts/0e70c48c2b0047239ab007a69f89d57c/scale_pos_weight\">scale_pos_weight</div><div class=\"artifact\" onclick=\"expandPanel(this)\" paneName=\"resultbee4fe61\" title=\"/files/functions/describe/artifacts/0e70c48c2b0047239ab007a69f89d57c/plots/imbalance.html\">imbalance</div><div class=\"artifact\" onclick=\"expandPanel(this)\" paneName=\"resultbee4fe61\" title=\"/files/functions/describe/artifacts/0e70c48c2b0047239ab007a69f89d57c/plotscorr.html\">correlation</div></td>\n",
       "    </tr>\n",
       "  </tbody>\n",
       "</table>\n",
       "</div></div>\n",
       "  <div id=\"resultbee4fe61-pane\" class=\"right-pane block hidden\">\n",
       "    <div class=\"pane-header\">\n",
       "      <span id=\"resultbee4fe61-title\" class=\"pane-header-title\">Title</span>\n",
       "      <span onclick=\"closePanel(this)\" paneName=\"resultbee4fe61\" class=\"close clickable\">&times;</span>\n",
       "    </div>\n",
       "    <iframe class=\"fileview\" id=\"resultbee4fe61-body\"></iframe>\n",
       "  </div>\n",
       "</div>\n"
      ],
      "text/plain": [
       "<IPython.core.display.HTML object>"
      ]
     },
     "metadata": {},
     "output_type": "display_data"
    },
    {
     "name": "stdout",
     "output_type": "stream",
     "text": [
      "to track results use .show() or .logs() or in CLI: \n",
      "!mlrun get run 0e70c48c2b0047239ab007a69f89d57c  , !mlrun logs 0e70c48c2b0047239ab007a69f89d57c \n",
      "[mlrun] 2020-03-15 19:48:24,153 run executed, status=completed\n"
     ]
    }
   ],
   "source": [
    "SUM_RUN = fn.run(summ_task)"
   ]
  },
  {
   "cell_type": "code",
   "execution_count": null,
   "metadata": {},
   "outputs": [],
   "source": []
  }
 ],
 "metadata": {
  "kernelspec": {
   "display_name": "Python 3",
   "language": "python",
   "name": "python3"
  },
  "language_info": {
   "codemirror_mode": {
    "name": "ipython",
    "version": 3
   },
   "file_extension": ".py",
   "mimetype": "text/x-python",
   "name": "python",
   "nbconvert_exporter": "python",
   "pygments_lexer": "ipython3",
   "version": "3.6.8"
  }
 },
 "nbformat": 4,
 "nbformat_minor": 4
}
