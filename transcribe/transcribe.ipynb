{
 "cells": [
  {
   "cell_type": "markdown",
   "id": "a80305ba-ffff-4116-aa46-5c1b67368239",
   "metadata": {},
   "source": [
    "# Transcribe tutorial"
   ]
  },
  {
   "cell_type": "code",
   "execution_count": 1,
   "id": "bdb947f0-5b9a-492d-9676-374c38eee14a",
   "metadata": {
    "ExecuteTime": {
     "start_time": "2023-07-16T17:13:48.565039Z",
     "end_time": "2023-07-16T17:14:01.952515Z"
    }
   },
   "outputs": [],
   "source": [
    "import tempfile\n",
    "import mlrun"
   ]
  },
  {
   "cell_type": "markdown",
   "id": "b7364965-8dcd-419a-8764-dd0c87edb9f8",
   "metadata": {},
   "source": [
    "## Importing the transcribe function from hub\n",
    "\n",
    "To import the function directly from hub, use:\n",
    "```python \n",
    "transcribe_fn = mlrun.import_function(\"hub://transcribe\")\n",
    "```"
   ]
  },
  {
   "cell_type": "code",
   "execution_count": 2,
   "outputs": [],
   "source": [
    "artifact_path = tempfile.mkdtemp()"
   ],
   "metadata": {
    "collapsed": false,
    "ExecuteTime": {
     "start_time": "2023-07-16T17:14:01.954022Z",
     "end_time": "2023-07-16T17:14:01.955760Z"
    }
   }
  },
  {
   "cell_type": "code",
   "execution_count": 3,
   "id": "2d9a80a2-8448-49cd-a92f-1ab2072fc720",
   "metadata": {
    "ExecuteTime": {
     "start_time": "2023-07-16T17:14:01.956508Z",
     "end_time": "2023-07-16T17:14:01.966758Z"
    }
   },
   "outputs": [],
   "source": [
    "transcribe_fn = mlrun.import_function(\"function.yaml\")"
   ]
  },
  {
   "cell_type": "markdown",
   "id": "7fcb6c8a-f83b-42d9-b02e-9187e85fe232",
   "metadata": {},
   "source": [
    "## Running transcribe"
   ]
  },
  {
   "cell_type": "code",
   "execution_count": 4,
   "id": "1570b05f-cfb7-466d-84c8-98f4c9d54ad4",
   "metadata": {
    "ExecuteTime": {
     "start_time": "2023-07-16T17:14:01.969912Z",
     "end_time": "2023-07-16T17:14:12.724086Z"
    }
   },
   "outputs": [
    {
     "name": "stdout",
     "output_type": "stream",
     "text": [
      "> 2023-07-16 17:14:01,968 [info] Storing function: {'name': 'transcribe-transcribe', 'uid': 'd1384cb679bc4c178b0195d964b628a8', 'db': None}\n",
      "> 2023-07-16 17:14:01,969 [warning] Could not detect path to API server, not connected to API server!\n",
      "> 2023-07-16 17:14:01,969 [warning] MLRUN_DBPATH is not set. Set this environment variable to the URL of the API server in order to connect\n",
      "> 2023-07-16 17:14:01,970 [warning] Could not detect path to API server, not connected to API server!\n",
      "> 2023-07-16 17:14:01,970 [warning] MLRUN_DBPATH is not set. Set this environment variable to the URL of the API server in order to connect\n",
      "> 2023-07-16 17:14:01,972 [warning] Could not detect path to API server, not connected to API server!\n",
      "> 2023-07-16 17:14:01,972 [warning] MLRUN_DBPATH is not set. Set this environment variable to the URL of the API server in order to connect\n",
      "> 2023-07-16 17:14:09,804 [warning] Could not detect path to API server, not connected to API server!\n",
      "> 2023-07-16 17:14:09,805 [warning] MLRUN_DBPATH is not set. Set this environment variable to the URL of the API server in order to connect\n",
      "> 2023-07-16 17:14:09,805 [info] Loading whisper model: 'tiny'\n"
     ]
    },
    {
     "name": "stderr",
     "output_type": "stream",
     "text": [
      "The 'nopython' keyword argument was not supplied to the 'numba.jit' decorator. The implicit default value for this argument is currently False, but it will be changed to True in Numba 0.59.0. See https://numba.readthedocs.io/en/stable/reference/deprecation.html#deprecation-of-object-mode-fall-back-behaviour-when-using-jit for details.\n",
      "IProgress not found. Please update jupyter and ipywidgets. See https://ipywidgets.readthedocs.io/en/stable/user_install.html\n"
     ]
    },
    {
     "name": "stdout",
     "output_type": "stream",
     "text": [
      "> 2023-07-16 17:14:10,374 [info] Model loaded.\n"
     ]
    },
    {
     "name": "stderr",
     "output_type": "stream",
     "text": [
      "Transcribing:  67%|██████▋   | 2/3 [00:02<00:01,  1.04s/file]"
     ]
    },
    {
     "name": "stdout",
     "output_type": "stream",
     "text": [
      "> 2023-07-16 17:14:12,556 [warning] Error in file: '/Users/Yonatan_Shelach/projects/functions/transcribe/data/error_file.txt'\n"
     ]
    },
    {
     "name": "stderr",
     "output_type": "stream",
     "text": [
      "Transcribing: 100%|██████████| 3/3 [00:02<00:00,  1.39file/s]"
     ]
    },
    {
     "name": "stdout",
     "output_type": "stream",
     "text": [
      "> 2023-07-16 17:14:12,566 [info] Done:\n",
      "      audio_file transcription_file language     length  rate_of_speech\n",
      "0  speech_01.mp3      speech_01.txt       en   2.011333        3.480278\n",
      "1  speech_02.mp3      speech_02.txt       en  20.793500        2.548873\n",
      "> 2023-07-16 17:14:12,596 [warning] Could not detect path to API server, not connected to API server!\n",
      "> 2023-07-16 17:14:12,597 [warning] MLRUN_DBPATH is not set. Set this environment variable to the URL of the API server in order to connect\n",
      "> 2023-07-16 17:14:12,659 [warning] Could not detect path to API server, not connected to API server!\n",
      "> 2023-07-16 17:14:12,660 [warning] MLRUN_DBPATH is not set. Set this environment variable to the URL of the API server in order to connect\n",
      "> 2023-07-16 17:14:12,671 [warning] Could not detect path to API server, not connected to API server!\n",
      "> 2023-07-16 17:14:12,672 [warning] MLRUN_DBPATH is not set. Set this environment variable to the URL of the API server in order to connect\n"
     ]
    },
    {
     "name": "stderr",
     "output_type": "stream",
     "text": [
      "\n"
     ]
    },
    {
     "name": "stdout",
     "output_type": "stream",
     "text": [
      "> 2023-07-16 17:14:12,707 [warning] Could not detect path to API server, not connected to API server!\n",
      "> 2023-07-16 17:14:12,707 [warning] MLRUN_DBPATH is not set. Set this environment variable to the URL of the API server in order to connect\n",
      "> 2023-07-16 17:14:12,708 [warning] Could not detect path to API server, not connected to API server!\n",
      "> 2023-07-16 17:14:12,708 [warning] MLRUN_DBPATH is not set. Set this environment variable to the URL of the API server in order to connect\n"
     ]
    },
    {
     "data": {
      "text/plain": "<IPython.core.display.HTML object>",
      "text/html": "<style>\n.dictlist {\n  background-color: #4EC64B;\n  text-align: center;\n  margin: 4px;\n  border-radius: 3px; padding: 0px 3px 1px 3px; display: inline-block;}\n.artifact {\n  cursor: pointer;\n  background-color: #4EC64B;\n  text-align: left;\n  margin: 4px; border-radius: 3px; padding: 0px 3px 1px 3px; display: inline-block;\n}\ndiv.block.hidden {\n  display: none;\n}\n.clickable {\n  cursor: pointer;\n}\n.ellipsis {\n  display: inline-block;\n  max-width: 60px;\n  white-space: nowrap;\n  overflow: hidden;\n  text-overflow: ellipsis;\n}\n.master-wrapper {\n  display: flex;\n  flex-flow: row nowrap;\n  justify-content: flex-start;\n  align-items: stretch;\n}\n.master-tbl {\n  flex: 3\n}\n.master-wrapper > div {\n  margin: 4px;\n  padding: 10px;\n}\niframe.fileview {\n  border: 0 none;\n  height: 100%;\n  width: 100%;\n  white-space: pre-wrap;\n}\n.pane-header-title {\n  width: 80%;\n  font-weight: 500;\n}\n.pane-header {\n  line-height: 1;\n  background-color: #4EC64B;\n  padding: 3px;\n}\n.pane-header .close {\n  font-size: 20px;\n  font-weight: 700;\n  float: right;\n  margin-top: -5px;\n}\n.master-wrapper .right-pane {\n  border: 1px inset silver;\n  width: 40%;\n  min-height: 300px;\n  flex: 3\n  min-width: 500px;\n}\n.master-wrapper * {\n  box-sizing: border-box;\n}\n</style><script>\nfunction copyToClipboard(fld) {\n    if (document.queryCommandSupported && document.queryCommandSupported('copy')) {\n        var textarea = document.createElement('textarea');\n        textarea.textContent = fld.innerHTML;\n        textarea.style.position = 'fixed';\n        document.body.appendChild(textarea);\n        textarea.select();\n\n        try {\n            return document.execCommand('copy'); // Security exception may be thrown by some browsers.\n        } catch (ex) {\n\n        } finally {\n            document.body.removeChild(textarea);\n        }\n    }\n}\nfunction expandPanel(el) {\n  const panelName = \"#\" + el.getAttribute('paneName');\n  console.log(el.title);\n\n  document.querySelector(panelName + \"-title\").innerHTML = el.title\n  iframe = document.querySelector(panelName + \"-body\");\n\n  const tblcss = `<style> body { font-family: Arial, Helvetica, sans-serif;}\n    #csv { margin-bottom: 15px; }\n    #csv table { border-collapse: collapse;}\n    #csv table td { padding: 4px 8px; border: 1px solid silver;} </style>`;\n\n  function csvToHtmlTable(str) {\n    return '<div id=\"csv\"><table><tr><td>' +  str.replace(/[\\n\\r]+$/g, '').replace(/[\\n\\r]+/g, '</td></tr><tr><td>')\n      .replace(/,/g, '</td><td>') + '</td></tr></table></div>';\n  }\n\n  function reqListener () {\n    if (el.title.endsWith(\".csv\")) {\n      iframe.setAttribute(\"srcdoc\", tblcss + csvToHtmlTable(this.responseText));\n    } else {\n      iframe.setAttribute(\"srcdoc\", this.responseText);\n    }\n    console.log(this.responseText);\n  }\n\n  const oReq = new XMLHttpRequest();\n  oReq.addEventListener(\"load\", reqListener);\n  oReq.open(\"GET\", el.title);\n  oReq.send();\n\n\n  //iframe.src = el.title;\n  const resultPane = document.querySelector(panelName + \"-pane\");\n  if (resultPane.classList.contains(\"hidden\")) {\n    resultPane.classList.remove(\"hidden\");\n  }\n}\nfunction closePanel(el) {\n  const panelName = \"#\" + el.getAttribute('paneName')\n  const resultPane = document.querySelector(panelName + \"-pane\");\n  if (!resultPane.classList.contains(\"hidden\")) {\n    resultPane.classList.add(\"hidden\");\n  }\n}\n\n</script>\n<div class=\"master-wrapper\">\n  <div class=\"block master-tbl\"><div>\n<style scoped>\n    .dataframe tbody tr th:only-of-type {\n        vertical-align: middle;\n    }\n\n    .dataframe tbody tr th {\n        vertical-align: top;\n    }\n\n    .dataframe thead th {\n        text-align: right;\n    }\n</style>\n<table border=\"1\" class=\"dataframe\">\n  <thead>\n    <tr style=\"text-align: right;\">\n      <th>project</th>\n      <th>uid</th>\n      <th>iter</th>\n      <th>start</th>\n      <th>state</th>\n      <th>name</th>\n      <th>labels</th>\n      <th>inputs</th>\n      <th>parameters</th>\n      <th>results</th>\n      <th>artifacts</th>\n    </tr>\n  </thead>\n  <tbody>\n    <tr>\n      <td>default</td>\n      <td><div title=\"d1384cb679bc4c178b0195d964b628a8\">...b628a8</div></td>\n      <td>0</td>\n      <td>Jul 16 14:14:01</td>\n      <td>completed</td>\n      <td>transcribe-transcribe</td>\n      <td><div class=\"dictlist\">kind=</div><div class=\"dictlist\">owner=Yonatan_Shelach</div><div class=\"dictlist\">host=M-QWXQJK77Q0</div></td>\n      <td></td>\n      <td><div class=\"dictlist\">model_name=tiny</div><div class=\"dictlist\">audio_files_directory=./data</div><div class=\"dictlist\">decoding_options={'fp16': False}</div><div class=\"dictlist\">output_directory=./output</div></td>\n      <td></td>\n      <td><div title=\"/var/folders/xj/f2mp2b75749cr74wj4wvcnm00000gp/T/tmpip3nl1vs/transcribe-transcribe/0/transcriptions.zip\">transcriptions</div><div title=\"/var/folders/xj/f2mp2b75749cr74wj4wvcnm00000gp/T/tmpip3nl1vs/transcribe-transcribe/0/transcriptions_df.parquet\">transcriptions_df</div><div title=\"/var/folders/xj/f2mp2b75749cr74wj4wvcnm00000gp/T/tmpip3nl1vs/transcribe-transcribe/0/transcriptions_errors.yaml\">transcriptions_errors</div></td>\n    </tr>\n  </tbody>\n</table>\n</div></div>\n  <div id=\"resultbf9845e1-pane\" class=\"right-pane block hidden\">\n    <div class=\"pane-header\">\n      <span id=\"resultbf9845e1-title\" class=\"pane-header-title\">Title</span>\n      <span onclick=\"closePanel(this)\" paneName=\"resultbf9845e1\" class=\"close clickable\">&times;</span>\n    </div>\n    <iframe class=\"fileview\" id=\"resultbf9845e1-body\"></iframe>\n  </div>\n</div>\n"
     },
     "metadata": {},
     "output_type": "display_data"
    },
    {
     "name": "stdout",
     "output_type": "stream",
     "text": [
      "\n"
     ]
    },
    {
     "data": {
      "text/plain": "<IPython.core.display.HTML object>",
      "text/html": "<b> > to track results use the .show() or .logs() methods </b>"
     },
     "metadata": {},
     "output_type": "display_data"
    },
    {
     "name": "stdout",
     "output_type": "stream",
     "text": [
      "> 2023-07-16 17:14:12,721 [info] Run execution finished: {'status': 'completed', 'name': 'transcribe-transcribe'}\n"
     ]
    }
   ],
   "source": [
    "transcribe_run = transcribe_fn.run(\n",
    "    handler=\"transcribe\",\n",
    "    params={\n",
    "        \"model_name\": \"tiny\",\n",
    "        \"input_path\": \"./data\",\n",
    "        \"decoding_options\": {\"fp16\": False},\n",
    "        \"output_directory\": \"./output\",\n",
    "    },\n",
    "    returns=[\n",
    "        \"transcriptions: path\",\n",
    "        \"transcriptions_df: dataset\",\n",
    "        {\"key\": \"transcriptions_errors\", \"artifact_type\": \"file\", \"file_format\": \"yaml\"},\n",
    "    ],\n",
    "    local=True,\n",
    "    artifact_path=artifact_path,\n",
    ")"
   ]
  },
  {
   "cell_type": "code",
   "execution_count": 5,
   "id": "407d1e6c-d2a4-42e7-b3e2-c51138cb30ea",
   "metadata": {
    "ExecuteTime": {
     "start_time": "2023-07-16T17:14:12.726898Z",
     "end_time": "2023-07-16T17:14:12.745521Z"
    }
   },
   "outputs": [
    {
     "data": {
      "text/plain": "{'transcriptions': 'store://artifacts/default/transcribe-transcribe_transcriptions:d1384cb679bc4c178b0195d964b628a8',\n 'transcriptions_df': 'store://artifacts/default/transcribe-transcribe_transcriptions_df:d1384cb679bc4c178b0195d964b628a8',\n 'transcriptions_errors': 'store://artifacts/default/transcribe-transcribe_transcriptions_errors:d1384cb679bc4c178b0195d964b628a8'}"
     },
     "execution_count": 5,
     "metadata": {},
     "output_type": "execute_result"
    }
   ],
   "source": [
    "transcribe_run.outputs"
   ]
  },
  {
   "cell_type": "markdown",
   "source": [
    "**Notice**: If connected to mlrun server, you can simply use:\n",
    "\n",
    "```python\n",
    "df = transcribe_run.artifact(\"transcriptions_df\")\n",
    "```"
   ],
   "metadata": {
    "collapsed": false
   }
  },
  {
   "cell_type": "code",
   "execution_count": 6,
   "outputs": [],
   "source": [
    "artifact_path += f\"/{transcribe_run.metadata.name}/{transcribe_run.metadata.iteration}/\""
   ],
   "metadata": {
    "collapsed": false,
    "ExecuteTime": {
     "start_time": "2023-07-16T17:14:12.730064Z",
     "end_time": "2023-07-16T17:14:12.748292Z"
    }
   }
  },
  {
   "cell_type": "code",
   "execution_count": 10,
   "outputs": [],
   "source": [
    "df = mlrun.get_dataitem(artifact_path + \"transcriptions_df.parquet\").as_df()"
   ],
   "metadata": {
    "collapsed": false,
    "ExecuteTime": {
     "start_time": "2023-07-16T17:25:02.712455Z",
     "end_time": "2023-07-16T17:25:02.719538Z"
    }
   }
  },
  {
   "cell_type": "code",
   "execution_count": 11,
   "outputs": [
    {
     "data": {
      "text/plain": "      audio_file transcription_file language     length  rate_of_speech\n0  speech_01.mp3      speech_01.txt       en   2.011333        3.480278\n1  speech_02.mp3      speech_02.txt       en  20.793500        2.548873",
      "text/html": "<div>\n<style scoped>\n    .dataframe tbody tr th:only-of-type {\n        vertical-align: middle;\n    }\n\n    .dataframe tbody tr th {\n        vertical-align: top;\n    }\n\n    .dataframe thead th {\n        text-align: right;\n    }\n</style>\n<table border=\"1\" class=\"dataframe\">\n  <thead>\n    <tr style=\"text-align: right;\">\n      <th></th>\n      <th>audio_file</th>\n      <th>transcription_file</th>\n      <th>language</th>\n      <th>length</th>\n      <th>rate_of_speech</th>\n    </tr>\n  </thead>\n  <tbody>\n    <tr>\n      <th>0</th>\n      <td>speech_01.mp3</td>\n      <td>speech_01.txt</td>\n      <td>en</td>\n      <td>2.011333</td>\n      <td>3.480278</td>\n    </tr>\n    <tr>\n      <th>1</th>\n      <td>speech_02.mp3</td>\n      <td>speech_02.txt</td>\n      <td>en</td>\n      <td>20.793500</td>\n      <td>2.548873</td>\n    </tr>\n  </tbody>\n</table>\n</div>"
     },
     "execution_count": 11,
     "metadata": {},
     "output_type": "execute_result"
    }
   ],
   "source": [
    "df.head()"
   ],
   "metadata": {
    "collapsed": false,
    "ExecuteTime": {
     "start_time": "2023-07-16T17:25:07.878158Z",
     "end_time": "2023-07-16T17:25:07.880514Z"
    }
   }
  }
 ],
 "metadata": {
  "kernelspec": {
   "name": "python3",
   "language": "python",
   "display_name": "Python 3 (ipykernel)"
  },
  "language_info": {
   "codemirror_mode": {
    "name": "ipython",
    "version": 3
   },
   "file_extension": ".py",
   "mimetype": "text/x-python",
   "name": "python",
   "nbconvert_exporter": "python",
   "pygments_lexer": "ipython3",
   "version": "3.9.16"
  }
 },
 "nbformat": 4,
 "nbformat_minor": 5
}
