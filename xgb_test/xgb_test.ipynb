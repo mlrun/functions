{
 "cells": [
  {
   "cell_type": "code",
   "execution_count": 1,
   "metadata": {},
   "outputs": [],
   "source": [
    "# nuclio: ignore\n",
    "import nuclio"
   ]
  },
  {
   "cell_type": "code",
   "execution_count": 2,
   "metadata": {},
   "outputs": [],
   "source": [
    "import warnings\n",
    "warnings.simplefilter(action=\"ignore\", category=FutureWarning)"
   ]
  },
  {
   "cell_type": "code",
   "execution_count": 27,
   "metadata": {},
   "outputs": [],
   "source": [
    "import os\n",
    "import pandas as pd\n",
    "from mlrun.datastore import DataItem\n",
    "from mlrun.artifacts import get_model\n",
    "from cloudpickle import load\n",
    "\n",
    "from mlrun.mlutils import eval_model_v2, gcf_clear\n",
    "\n",
    "def xgb_test(\n",
    "    context,\n",
    "    models_path: DataItem, \n",
    "    test_set: DataItem,\n",
    "    label_column: str,\n",
    "    plots_dest: str = \"plots\",\n",
    "    model_evaluator = None,\n",
    "    default_model: str = \"model.pkl\"\n",
    ") -> None:\n",
    "    \"\"\"Test one or more classifier models against held-out dataset\n",
    "    \n",
    "    Using held-out test features, evaluates the peformance of the estimated model\n",
    "    \n",
    "    Can be part of a kubeflow pipeline as a test step that is run post EDA and \n",
    "    training/validation cycles\n",
    "    \n",
    "    :param context:         the function context\n",
    "    :param models_path:     model artifact to be tested\n",
    "    :param test_set:        test features and labels\n",
    "    :param label_column:    column name for ground truth labels\n",
    "    :param plots_dest:      dir for test plots\n",
    "    :param model_evaluator: WIP: specific method to generate eval, passed in as string\n",
    "                            or available in this folder\n",
    "    :param default_model:   'model.pkl', default model artifact file name\n",
    "    \"\"\"\n",
    "    xtest = test_set.as_df()\n",
    "    ytest = xtest.pop(label_column)\n",
    "    \n",
    "    try:\n",
    "        model_file, model_obj, _ = get_model(models_path, suffix='.pkl')\n",
    "        model_obj = load(open(model_file, \"rb\"))\n",
    "    except Exception as a:\n",
    "        raise Exception(\"model location likely misspecified\")\n",
    "    eval_metrics = eval_model_v2(context, xtest, ytest.values, model_obj)\n",
    " \n",
    "    if \"tables\" in eval_metrics.keys():\n",
    "        model_tables = eval_metrics.pop(\"tables\")\n",
    "        for tbl in model_tables:\n",
    "            context.log_artifact(tbl, local_path=f\"{plots_dest}/{tbl.key}.csv\")\n",
    "\n",
    "    if \"plots\" in eval_metrics.keys():\n",
    "        model_plots = eval_metrics.pop(\"plots\")\n",
    "        for plot in model_plots:\n",
    "            context.log_artifact(plot, local_path=f\"{plots_dest}/{plot.key}.html\")\n",
    "\n",
    "    context.log_results(eval_metrics)"
   ]
  },
  {
   "cell_type": "code",
   "execution_count": 28,
   "metadata": {},
   "outputs": [],
   "source": [
    "# nuclio: end-code"
   ]
  },
  {
   "cell_type": "markdown",
   "metadata": {},
   "source": [
    "### save"
   ]
  },
  {
   "cell_type": "code",
   "execution_count": 29,
   "metadata": {},
   "outputs": [
    {
     "name": "stdout",
     "output_type": "stream",
     "text": [
      "[mlrun] 2020-06-09 10:55:34,284 function spec saved to path: function.yaml\n"
     ]
    },
    {
     "data": {
      "text/plain": [
       "<mlrun.runtimes.kubejob.KubejobRuntime at 0x7fa0be2a3eb8>"
      ]
     },
     "execution_count": 29,
     "metadata": {},
     "output_type": "execute_result"
    }
   ],
   "source": [
    "from mlrun import code_to_function \n",
    "from mlrun.platforms.other import auto_mount\n",
    "\n",
    "gpus = False\n",
    "\n",
    "fn_params = {\n",
    "    \"name\"        : \"xgb_test\",\n",
    "    \"handler\"     : \"xgb_test\",\n",
    "    \"kind\"        : \"job\",\n",
    "    \"image\"       : \"mlrun/ml-models-gpu\" if gpus else \"mlrun/ml-models\",\n",
    "    \"description\" : \"test a classifier using held-out or new data\",\n",
    "    \"categories\"  : [\"ml\", \"test\"],\n",
    "    \"labels\"      : {\"author\": \"yjb\", \"framework\": \"xgboost\"}\n",
    "}\n",
    "\n",
    "xgbtest_fn = code_to_function(**fn_params)\n",
    "\n",
    "xgbtest_fn.export(\"function.yaml\")\n",
    "xgbtest_fn.apply(auto_mount())"
   ]
  },
  {
   "cell_type": "markdown",
   "metadata": {},
   "source": [
    "## tests"
   ]
  },
  {
   "cell_type": "code",
   "execution_count": 30,
   "metadata": {},
   "outputs": [],
   "source": [
    "task_params = {\n",
    "    \"name\" : \"tasks xgb test\",\n",
    "    \"params\": {\n",
    "        \"label_column\"  : \"labels\",\n",
    "        \"plots_dest\"    : \"plots/xgb_test\"}}"
   ]
  },
  {
   "cell_type": "code",
   "execution_count": 31,
   "metadata": {},
   "outputs": [],
   "source": [
    "TEST_REPO = \"https://raw.githubusercontent.com/yjb-ds/testdata/master\"\n",
    "DATA_PATH  = \"data/classifier-data.csv\"\n",
    "MODELS_PATH = \"xgb_test/model.pkl\""
   ]
  },
  {
   "cell_type": "markdown",
   "metadata": {},
   "source": [
    "### run locally"
   ]
  },
  {
   "cell_type": "code",
   "execution_count": 32,
   "metadata": {},
   "outputs": [
    {
     "name": "stdout",
     "output_type": "stream",
     "text": [
      "[mlrun] 2020-06-09 10:55:34,351 starting run tasks xgb test uid=608292b0eb9e4969ba348983a184390a  -> http://mlrun-api:8080\n",
      "XGBClassifier(base_score=0.5, booster='gbtree', colsample_bylevel=1,\n",
      "              colsample_bynode=1, colsample_bytree=1, gamma=0, gpu_id=-1,\n",
      "              importance_type='gain', interaction_constraints=None,\n",
      "              learning_rate=0.300000012, max_delta_step=0, max_depth=6,\n",
      "              min_child_weight=1, missing=nan, monotone_constraints=None,\n",
      "              n_estimators=100, n_jobs=0, num_parallel_tree=1, random_state=0,\n",
      "              reg_alpha=0, reg_lambda=1, scale_pos_weight=1, subsample=1,\n",
      "              tree_method='hist', validate_parameters=False, verbosity=None)\n",
      "[mlrun] 2020-06-09 10:55:34,734 log artifact probability-calibration at /User/artifacts/plots/probability-calibration.html, size: 28838, db: N\n",
      "[mlrun] 2020-06-09 10:55:34,847 log artifact confusion-matrix at /User/artifacts/plots/confusion-matrix.html, size: 10669, db: N\n",
      "[mlrun] 2020-06-09 10:55:35,037 log artifact feature-importances at /User/artifacts/plots/feature-importances.html, size: 7893, db: N\n",
      "[mlrun] 2020-06-09 10:55:35,127 log artifact precision-recall-binary at /User/artifacts/plots/precision-recall-binary.html, size: 13141, db: N\n",
      "[mlrun] 2020-06-09 10:55:35,254 log artifact roc-binary at /User/artifacts/plots/roc-binary.html, size: 17465, db: N\n",
      "\n"
     ]
    },
    {
     "data": {
      "text/html": [
       "<style> \n",
       ".dictlist {\n",
       "  background-color: #b3edff; \n",
       "  text-align: center; \n",
       "  margin: 4px; \n",
       "  border-radius: 3px; padding: 0px 3px 1px 3px; display: inline-block;}\n",
       ".artifact {\n",
       "  cursor: pointer; \n",
       "  background-color: #ffe6cc; \n",
       "  text-align: left; \n",
       "  margin: 4px; border-radius: 3px; padding: 0px 3px 1px 3px; display: inline-block;\n",
       "}\n",
       "div.block.hidden {\n",
       "  display: none;\n",
       "}\n",
       ".clickable {\n",
       "  cursor: pointer;\n",
       "}\n",
       ".ellipsis {\n",
       "  display: inline-block;\n",
       "  max-width: 60px;\n",
       "  white-space: nowrap;\n",
       "  overflow: hidden;\n",
       "  text-overflow: ellipsis;\n",
       "}\n",
       ".master-wrapper {\n",
       "  display: flex;\n",
       "  flex-flow: row nowrap;\n",
       "  justify-content: flex-start;\n",
       "  align-items: stretch;\n",
       "}\n",
       ".master-tbl {\n",
       "  flex: 3\n",
       "}\n",
       ".master-wrapper > div {\n",
       "  margin: 4px;\n",
       "  padding: 10px;\n",
       "}\n",
       "iframe.fileview {\n",
       "  border: 0 none;\n",
       "  height: 100%;\n",
       "  width: 100%;\n",
       "  white-space: pre-wrap;\n",
       "}\n",
       ".pane-header-title {\n",
       "  width: 80%;\n",
       "  font-weight: 500;\n",
       "}\n",
       ".pane-header {\n",
       "  line-height: 1;\n",
       "  background-color: #ffe6cc;\n",
       "  padding: 3px;\n",
       "}\n",
       ".pane-header .close {\n",
       "  font-size: 20px;\n",
       "  font-weight: 700;\n",
       "  float: right;\n",
       "  margin-top: -5px;\n",
       "}\n",
       ".master-wrapper .right-pane {\n",
       "  border: 1px inset silver;\n",
       "  width: 40%;\n",
       "  min-height: 300px;\n",
       "  flex: 3\n",
       "  min-width: 500px;\n",
       "}\n",
       ".master-wrapper * {\n",
       "  box-sizing: border-box;\n",
       "}\n",
       "</style><script>\n",
       "function copyToClipboard(fld) {\n",
       "    if (document.queryCommandSupported && document.queryCommandSupported('copy')) {\n",
       "        var textarea = document.createElement('textarea');\n",
       "        textarea.textContent = fld.innerHTML;\n",
       "        textarea.style.position = 'fixed';\n",
       "        document.body.appendChild(textarea);\n",
       "        textarea.select();\n",
       "\n",
       "        try {\n",
       "            return document.execCommand('copy'); // Security exception may be thrown by some browsers.\n",
       "        } catch (ex) {\n",
       "\n",
       "        } finally {\n",
       "            document.body.removeChild(textarea);\n",
       "        }\n",
       "    }\n",
       "}\n",
       "function expandPanel(el) {\n",
       "  const panelName = \"#\" + el.getAttribute('paneName');\n",
       "  console.log(el.title);\n",
       "\n",
       "  document.querySelector(panelName + \"-title\").innerHTML = el.title\n",
       "  iframe = document.querySelector(panelName + \"-body\");\n",
       "  \n",
       "  const tblcss = `<style> body { font-family: Arial, Helvetica, sans-serif;}\n",
       "    #csv { margin-bottom: 15px; }\n",
       "    #csv table { border-collapse: collapse;}\n",
       "    #csv table td { padding: 4px 8px; border: 1px solid silver;} </style>`;\n",
       "\n",
       "  function csvToHtmlTable(str) {\n",
       "    return '<div id=\"csv\"><table><tr><td>' +  str.replace(/[\\n\\r]+$/g, '').replace(/[\\n\\r]+/g, '</td></tr><tr><td>')\n",
       "      .replace(/,/g, '</td><td>') + '</td></tr></table></div>';\n",
       "  }\n",
       "  \n",
       "  function reqListener () {\n",
       "    if (el.title.endsWith(\".csv\")) {\n",
       "      iframe.setAttribute(\"srcdoc\", tblcss + csvToHtmlTable(this.responseText));\n",
       "    } else {\n",
       "      iframe.setAttribute(\"srcdoc\", this.responseText);\n",
       "    }  \n",
       "    console.log(this.responseText);\n",
       "  }\n",
       "\n",
       "  const oReq = new XMLHttpRequest();\n",
       "  oReq.addEventListener(\"load\", reqListener);\n",
       "  oReq.open(\"GET\", el.title);\n",
       "  oReq.send();\n",
       "  \n",
       "  \n",
       "  //iframe.src = el.title;\n",
       "  const resultPane = document.querySelector(panelName + \"-pane\");\n",
       "  if (resultPane.classList.contains(\"hidden\")) {\n",
       "    resultPane.classList.remove(\"hidden\");\n",
       "  }\n",
       "}\n",
       "function closePanel(el) {\n",
       "  const panelName = \"#\" + el.getAttribute('paneName')\n",
       "  const resultPane = document.querySelector(panelName + \"-pane\");\n",
       "  if (!resultPane.classList.contains(\"hidden\")) {\n",
       "    resultPane.classList.add(\"hidden\");\n",
       "  }\n",
       "}\n",
       "\n",
       "</script>\n",
       "<div class=\"master-wrapper\">\n",
       "  <div class=\"block master-tbl\"><div>\n",
       "<style scoped>\n",
       "    .dataframe tbody tr th:only-of-type {\n",
       "        vertical-align: middle;\n",
       "    }\n",
       "\n",
       "    .dataframe tbody tr th {\n",
       "        vertical-align: top;\n",
       "    }\n",
       "\n",
       "    .dataframe thead th {\n",
       "        text-align: right;\n",
       "    }\n",
       "</style>\n",
       "<table border=\"1\" class=\"dataframe\">\n",
       "  <thead>\n",
       "    <tr style=\"text-align: right;\">\n",
       "      <th>project</th>\n",
       "      <th>uid</th>\n",
       "      <th>iter</th>\n",
       "      <th>start</th>\n",
       "      <th>state</th>\n",
       "      <th>name</th>\n",
       "      <th>labels</th>\n",
       "      <th>inputs</th>\n",
       "      <th>parameters</th>\n",
       "      <th>results</th>\n",
       "      <th>artifacts</th>\n",
       "    </tr>\n",
       "  </thead>\n",
       "  <tbody>\n",
       "    <tr>\n",
       "      <td>default</td>\n",
       "      <td><div title=\"608292b0eb9e4969ba348983a184390a\"><a href=\"https://mlrun-ui.default-tenant.app.flobdnzhgtgt.iguazio-cd2.com/projects/default/jobs/608292b0eb9e4969ba348983a184390a/info\" target=\"_blank\" >...a184390a</a></div></td>\n",
       "      <td>0</td>\n",
       "      <td>Jun 09 10:55:34</td>\n",
       "      <td>completed</td>\n",
       "      <td>tasks xgb test</td>\n",
       "      <td><div class=\"dictlist\">v3io_user=admin</div><div class=\"dictlist\">kind=handler</div><div class=\"dictlist\">owner=admin</div><div class=\"dictlist\">host=jupyter-697c84dd-kdb7x</div></td>\n",
       "      <td><div title=\"https://raw.githubusercontent.com/yjb-ds/testdata/master/data/classifier-data.csv\">test_set</div><div title=\"https://raw.githubusercontent.com/yjb-ds/testdata/master/xgb_test/model.pkl\">models_path</div></td>\n",
       "      <td><div class=\"dictlist\">label_column=labels</div><div class=\"dictlist\">plots_dest=plots/xgb_test</div></td>\n",
       "      <td><div class=\"dictlist\">test-accuracy=0.964</div><div class=\"dictlist\">test-error=0.036</div><div class=\"dictlist\">rocauc=0.9845582259375362</div><div class=\"dictlist\">brier_score=0.026451627408418558</div><div class=\"dictlist\">f1-score=0.9552238805970149</div><div class=\"dictlist\">precision_score=0.964824120603015</div><div class=\"dictlist\">recall_score=0.9458128078817734</div><div class=\"dictlist\">probability calibration={'key': 'probability-calibration', 'kind': 'plot', 'iter': 0, 'tree': '608292b0eb9e4969ba348983a184390a', 'target_path': '/User/artifacts/plots/probability-calibration.html', 'hash': '5ac2693d5d593fbe9ccfdeda9aacf1ddc7c6ce96', 'description': 'probability calibration plot', 'viewer': 'chart', 'format': 'html', 'size': 28838, 'db_key': '', 'producer': {'name': 'tasks xgb test', 'kind': 'run', 'uri': 'default/608292b0eb9e4969ba348983a184390a', 'owner': 'admin'}, 'sources': [], 'project': 'default'}</div><div class=\"dictlist\">confusion matrix table.csv=b'0,1\\n0.58,0.014\\n0.022,0.384\\n'</div><div class=\"dictlist\">confusion matrix={'key': 'confusion-matrix', 'kind': 'plot', 'iter': 0, 'tree': '608292b0eb9e4969ba348983a184390a', 'target_path': '/User/artifacts/plots/confusion-matrix.html', 'hash': 'a983587955d6a0125850b0f87cd16760a79b008e', 'description': 'Confusion Matrix - Normalized Plot', 'viewer': 'chart', 'format': 'html', 'size': 10669, 'db_key': '', 'producer': {'name': 'tasks xgb test', 'kind': 'run', 'uri': 'default/608292b0eb9e4969ba348983a184390a', 'owner': 'admin'}, 'sources': [], 'project': 'default'}</div><div class=\"dictlist\">feature importances={'key': 'feature-importances', 'kind': 'plot', 'iter': 0, 'tree': '608292b0eb9e4969ba348983a184390a', 'target_path': '/User/artifacts/plots/feature-importances.html', 'hash': 'fd1ca6ee691cbe15b76d026a0af5320f9e56cb3f', 'description': 'Feature Importances', 'viewer': 'chart', 'format': 'html', 'size': 7893, 'db_key': '', 'producer': {'name': 'tasks xgb test', 'kind': 'run', 'uri': 'default/608292b0eb9e4969ba348983a184390a', 'owner': 'admin'}, 'sources': [], 'project': 'default'}</div><div class=\"dictlist\">feature importances table.csv=b'freq,feature\\n0.7398775219917297,feat_1\\n0.15157005190849304,feat_2\\n0.06678780168294907,feat_0\\n0.04176449030637741,feat_3\\n'</div><div class=\"dictlist\">precision_recall_bin={'key': 'precision-recall-binary', 'kind': 'plot', 'iter': 0, 'tree': '608292b0eb9e4969ba348983a184390a', 'target_path': '/User/artifacts/plots/precision-recall-binary.html', 'hash': '165b5583fafcd5dd59139a6910b3b8b6ef2d9146', 'description': 'Binary Precision Recall', 'viewer': 'chart', 'format': 'html', 'size': 13141, 'db_key': '', 'producer': {'name': 'tasks xgb test', 'kind': 'run', 'uri': 'default/608292b0eb9e4969ba348983a184390a', 'owner': 'admin'}, 'sources': [], 'project': 'default'}</div><div class=\"dictlist\">roc_bin={'key': 'roc-binary', 'kind': 'plot', 'iter': 0, 'tree': '608292b0eb9e4969ba348983a184390a', 'target_path': '/User/artifacts/plots/roc-binary.html', 'hash': 'a27370d5c437288fff5b5b3a3e0f91ed38d654f2', 'description': 'Binary ROC Curve', 'viewer': 'chart', 'format': 'html', 'size': 17465, 'db_key': '', 'producer': {'name': 'tasks xgb test', 'kind': 'run', 'uri': 'default/608292b0eb9e4969ba348983a184390a', 'owner': 'admin'}, 'sources': [], 'project': 'default'}</div></td>\n",
       "      <td><div class=\"artifact\" onclick=\"expandPanel(this)\" paneName=\"resultda79f778\" title=\"/files/artifacts/plots/probability-calibration.html\">probability-calibration</div><div class=\"artifact\" onclick=\"expandPanel(this)\" paneName=\"resultda79f778\" title=\"/files/artifacts/plots/confusion-matrix.html\">confusion-matrix</div><div class=\"artifact\" onclick=\"expandPanel(this)\" paneName=\"resultda79f778\" title=\"/files/artifacts/plots/feature-importances.html\">feature-importances</div><div class=\"artifact\" onclick=\"expandPanel(this)\" paneName=\"resultda79f778\" title=\"/files/artifacts/plots/precision-recall-binary.html\">precision-recall-binary</div><div class=\"artifact\" onclick=\"expandPanel(this)\" paneName=\"resultda79f778\" title=\"/files/artifacts/plots/roc-binary.html\">roc-binary</div></td>\n",
       "    </tr>\n",
       "  </tbody>\n",
       "</table>\n",
       "</div></div>\n",
       "  <div id=\"resultda79f778-pane\" class=\"right-pane block hidden\">\n",
       "    <div class=\"pane-header\">\n",
       "      <span id=\"resultda79f778-title\" class=\"pane-header-title\">Title</span>\n",
       "      <span onclick=\"closePanel(this)\" paneName=\"resultda79f778\" class=\"close clickable\">&times;</span>\n",
       "    </div>\n",
       "    <iframe class=\"fileview\" id=\"resultda79f778-body\"></iframe>\n",
       "  </div>\n",
       "</div>\n"
      ],
      "text/plain": [
       "<IPython.core.display.HTML object>"
      ]
     },
     "metadata": {},
     "output_type": "display_data"
    },
    {
     "name": "stdout",
     "output_type": "stream",
     "text": [
      "to track results use .show() or .logs() or in CLI: \n",
      "!mlrun get run 608292b0eb9e4969ba348983a184390a --project default , !mlrun logs 608292b0eb9e4969ba348983a184390a --project default\n",
      "[mlrun] 2020-06-09 10:55:35,316 run executed, status=completed\n"
     ]
    },
    {
     "data": {
      "image/png": "[encoded data removed]",
      "text/plain": [
       "<Figure size 432x288 with 1 Axes>"
      ]
     },
     "metadata": {
      "needs_background": "light"
     },
     "output_type": "display_data"
    },
    {
     "data": {
      "text/plain": [
       "<Figure size 432x288 with 0 Axes>"
      ]
     },
     "metadata": {},
     "output_type": "display_data"
    },
    {
     "data": {
      "image/png": "[encoded data removed]",
      "text/plain": [
       "<Figure size 432x288 with 1 Axes>"
      ]
     },
     "metadata": {
      "needs_background": "light"
     },
     "output_type": "display_data"
    },
    {
     "data": {
      "image/png": "[encoded data removed]",
      "text/plain": [
       "<Figure size 432x288 with 1 Axes>"
      ]
     },
     "metadata": {
      "needs_background": "light"
     },
     "output_type": "display_data"
    }
   ],
   "source": [
    "from mlrun import run_local, NewTask, mlconf\n",
    "\n",
    "run = run_local(NewTask(**task_params),\n",
    "                handler=xgb_test,\n",
    "                inputs={\"test_set\"      : f\"{TEST_REPO}/{DATA_PATH}\",\n",
    "                        \"models_path\"   : f\"{TEST_REPO}/{MODELS_PATH}\"},\n",
    "                workdir=mlconf.artifact_path)"
   ]
  },
  {
   "cell_type": "code",
   "execution_count": null,
   "metadata": {},
   "outputs": [],
   "source": [
    "fn.deploy(skip_deployed=True, with_mlrun=False)\n",
    "\n",
    "run = fn.run(\n",
    "    NewTask(**task_params),\n",
    "    inputs={\"test_set\"      : f\"{TEST_REPO}/{DATA_PATH}\",\n",
    "            \"models_path\"   : f\"{TEST_REPO}/{MODELS_PATH}\"\n",
    "        },\n",
    "    workdir=mlconf.artifact_path)"
   ]
  }
 ],
 "metadata": {
  "kernelspec": {
   "display_name": "Python 3",
   "language": "python",
   "name": "python3"
  },
  "language_info": {
   "codemirror_mode": {
    "name": "ipython",
    "version": 3
   },
   "file_extension": ".py",
   "mimetype": "text/x-python",
   "name": "python",
   "nbconvert_exporter": "python",
   "pygments_lexer": "ipython3",
   "version": "3.6.8"
  }
 },
 "nbformat": 4,
 "nbformat_minor": 4
}
