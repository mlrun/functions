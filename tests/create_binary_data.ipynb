{
 "cells": [
  {
   "cell_type": "code",
   "execution_count": 1,
   "metadata": {},
   "outputs": [],
   "source": [
    "FUNCTION = \"gen_class_data\"\n",
    "\n",
    "task_params = {\n",
    "    \"name\":        FUNCTION, \n",
    "    \"params\" : {\n",
    "        \"n_samples\"   : 100_000,\n",
    "        \"m_features\"  : 28,\n",
    "        \"k_classes\"   : 4,\n",
    "        \"weight\"      : [0.2, 0.8, 0.5],\n",
    "        \"sk_params\"   : {\"n_informative\": 8}\n",
    "    },\n",
    "    \"artifact_path\"  : os.path.join(f\"/User/functions/{FUNCTION}/artifacts\", \n",
    "                                    \"{{run.uid}}\")\n",
    "}"
   ]
  },
  {
   "cell_type": "code",
   "execution_count": 6,
   "metadata": {},
   "outputs": [],
   "source": [
    "import test_function as tf\n",
    "\n",
    "tf.test_function(FUNCTION, task_params)"
   ]
  }
 ],
 "metadata": {
  "kernelspec": {
   "display_name": "Python 3",
   "language": "python",
   "name": "python3"
  },
  "language_info": {
   "codemirror_mode": {
    "name": "ipython",
    "version": 3
   },
   "file_extension": ".py",
   "mimetype": "text/x-python",
   "name": "python",
   "nbconvert_exporter": "python",
   "pygments_lexer": "ipython3",
   "version": "3.6.8"
  }
 },
 "nbformat": 4,
 "nbformat_minor": 4
}
