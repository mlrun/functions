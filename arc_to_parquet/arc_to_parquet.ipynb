{
 "cells": [
  {
   "cell_type": "markdown",
   "metadata": {},
   "source": [
    "# archive to parquet file"
   ]
  },
  {
   "cell_type": "markdown",
   "metadata": {},
   "source": [
    "If the `arc_to_parquet.py` file has been edited, by running the following cell a new `function.yaml` file will be generated incorporating the updates.  It then needs to be pushed to the repository."
   ]
  },
  {
   "cell_type": "code",
   "execution_count": 3,
   "metadata": {},
   "outputs": [],
   "source": [
    "# MLRUN_COMMIT = \"0.4.5\"\n",
    "\n",
    "# import mlrun\n",
    "\n",
    "# mlrun.mlconf.dbpath = \"http://mlrun-api:8080\"\n",
    "\n",
    "# arctoparq = mlrun.code_to_function(\n",
    "#     name='arc_to_parq',\n",
    "#     tag='development',\n",
    "#     filename='arc_to_parquet.py',\n",
    "#     handler='arc_to_parquet',\n",
    "#     image=f\"mlrun/ml-base:{MLRUN_COMMIT}\",\n",
    "#     kind=\"job\") \n",
    "\n",
    "# arctoparq.export('function.yaml')"
   ]
  },
  {
   "cell_type": "markdown",
   "metadata": {},
   "source": [
    "## tests"
   ]
  },
  {
   "cell_type": "code",
   "execution_count": 25,
   "metadata": {},
   "outputs": [],
   "source": [
    "import mlrun, os\n",
    "\n",
    "#  IF NECESSARY PLEASE CHANGE THESE:\n",
    "FUNCTIONS_LIB = 'https://raw.githubusercontent.com/yjb-ds/functions/refac'\n",
    "ARCHIVE_URL   = 'XXXXXXXXXXXXXXXXXXXXXXXX'\n",
    "\n",
    "IMAGES_PATH   = '/User/functions/arc_to_parquet/artifacts'\n",
    "ARTIFACT_KEY  = 'raw_data_as_parquet' # name you assign to the data in artifact store"
   ]
  },
  {
   "cell_type": "code",
   "execution_count": 24,
   "metadata": {},
   "outputs": [],
   "source": [
    "# load from functions library\n",
    "func = mlrun.code_to_function('function.yaml')\n",
    "\n",
    "# configure\n",
    "func.apply(mlrun.mount_v3io())\n",
    "\n",
    "# create a task\n",
    "arc_to_parq_task = mlrun.NewTask(\n",
    "    'arc2parq', \n",
    "    params={\n",
    "        'archive_url': ARCHIVE_URL,\n",
    "        'key'        : ARTIFACT_KEY},\n",
    "    artifact_path=IMAGES_PATH)"
   ]
  },
  {
   "cell_type": "code",
   "execution_count": 26,
   "metadata": {},
   "outputs": [],
   "source": [
    "# run\n",
    "# run = func.run(arc_to_parq_task)"
   ]
  }
 ],
 "metadata": {
  "kernelspec": {
   "display_name": "mlrun",
   "language": "python",
   "name": "mlrun"
  },
  "language_info": {
   "codemirror_mode": {
    "name": "ipython",
    "version": 3
   },
   "file_extension": ".py",
   "mimetype": "text/x-python",
   "name": "python",
   "nbconvert_exporter": "python",
   "pygments_lexer": "ipython3",
   "version": "3.7.6"
  }
 },
 "nbformat": 4,
 "nbformat_minor": 4
}