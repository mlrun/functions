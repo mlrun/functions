{
 "cells": [
  {
   "cell_type": "markdown",
   "metadata": {},
   "source": [
    "# Concept Drift - Deployer\n",
    "Deploy a streaming Concept Drift detector on a labeled stream.  \n",
    "\n",
    "This function is the Deployment step for the Streaming Concept Drift Detector.  It will initialize the selected drift detectors with the base_dataset's statistics and deploy the [concept_drift_streaming serverless Nuclio function](../concept_drift_streaming/concept_drift_streaming.ipynb) with them for streaming concept-drift detection on top of a labeled stream."
   ]
  },
  {
   "cell_type": "markdown",
   "metadata": {},
   "source": [
    "### **Data exploration**"
   ]
  },
  {
   "cell_type": "code",
   "execution_count": 1,
   "metadata": {},
   "outputs": [
    {
     "data": {
      "text/html": [
       "<div>\n",
       "<style scoped>\n",
       "    .dataframe tbody tr th:only-of-type {\n",
       "        vertical-align: middle;\n",
       "    }\n",
       "\n",
       "    .dataframe tbody tr th {\n",
       "        vertical-align: top;\n",
       "    }\n",
       "\n",
       "    .dataframe thead th {\n",
       "        text-align: right;\n",
       "    }\n",
       "</style>\n",
       "<table border=\"1\" class=\"dataframe\">\n",
       "  <thead>\n",
       "    <tr style=\"text-align: right;\">\n",
       "      <th></th>\n",
       "      <th>X1</th>\n",
       "      <th>X2</th>\n",
       "      <th>X3</th>\n",
       "      <th>X4</th>\n",
       "      <th>class</th>\n",
       "    </tr>\n",
       "  </thead>\n",
       "  <tbody>\n",
       "    <tr>\n",
       "      <th>0</th>\n",
       "      <td>0.0</td>\n",
       "      <td>1.0</td>\n",
       "      <td>0.460101</td>\n",
       "      <td>0.592744</td>\n",
       "      <td>1.0</td>\n",
       "    </tr>\n",
       "    <tr>\n",
       "      <th>1</th>\n",
       "      <td>1.0</td>\n",
       "      <td>1.0</td>\n",
       "      <td>0.588788</td>\n",
       "      <td>0.574984</td>\n",
       "      <td>0.0</td>\n",
       "    </tr>\n",
       "    <tr>\n",
       "      <th>2</th>\n",
       "      <td>0.0</td>\n",
       "      <td>0.0</td>\n",
       "      <td>0.401641</td>\n",
       "      <td>0.679325</td>\n",
       "      <td>1.0</td>\n",
       "    </tr>\n",
       "    <tr>\n",
       "      <th>3</th>\n",
       "      <td>1.0</td>\n",
       "      <td>1.0</td>\n",
       "      <td>0.306076</td>\n",
       "      <td>0.182108</td>\n",
       "      <td>0.0</td>\n",
       "    </tr>\n",
       "    <tr>\n",
       "      <th>4</th>\n",
       "      <td>0.0</td>\n",
       "      <td>0.0</td>\n",
       "      <td>0.962847</td>\n",
       "      <td>0.579245</td>\n",
       "      <td>1.0</td>\n",
       "    </tr>\n",
       "  </tbody>\n",
       "</table>\n",
       "</div>"
      ],
      "text/plain": [
       "    X1   X2        X3        X4  class\n",
       "0  0.0  1.0  0.460101  0.592744    1.0\n",
       "1  1.0  1.0  0.588788  0.574984    0.0\n",
       "2  0.0  0.0  0.401641  0.679325    1.0\n",
       "3  1.0  1.0  0.306076  0.182108    0.0\n",
       "4  0.0  0.0  0.962847  0.579245    1.0"
      ]
     },
     "execution_count": 1,
     "metadata": {},
     "output_type": "execute_result"
    }
   ],
   "source": [
    "import pandas as pd\n",
    "data_path = 'https://s3.wasabisys.com/iguazio/data/function-marketplace-data/concept_drift/mixed_0101_abrupto.csv'\n",
    "predicted_train_data_path = 'https://s3.wasabisys.com/iguazio/data/function-marketplace-data/concept_drift/predicted_abrupto_train.csv'\n",
    "predicted_test_data_path = 'https://s3.wasabisys.com/iguazio/data/function-marketplace-data/concept_drift/predicted_abrupto_test.csv'\n",
    "original_data = pd.read_csv(data_path)\n",
    "original_data.head()"
   ]
  },
  {
   "cell_type": "code",
   "execution_count": 2,
   "metadata": {},
   "outputs": [
    {
     "data": {
      "text/html": [
       "<div>\n",
       "<style scoped>\n",
       "    .dataframe tbody tr th:only-of-type {\n",
       "        vertical-align: middle;\n",
       "    }\n",
       "\n",
       "    .dataframe tbody tr th {\n",
       "        vertical-align: top;\n",
       "    }\n",
       "\n",
       "    .dataframe thead th {\n",
       "        text-align: right;\n",
       "    }\n",
       "</style>\n",
       "<table border=\"1\" class=\"dataframe\">\n",
       "  <thead>\n",
       "    <tr style=\"text-align: right;\">\n",
       "      <th></th>\n",
       "      <th>X1</th>\n",
       "      <th>X2</th>\n",
       "      <th>X3</th>\n",
       "      <th>X4</th>\n",
       "      <th>class</th>\n",
       "      <th>predicted_col</th>\n",
       "    </tr>\n",
       "  </thead>\n",
       "  <tbody>\n",
       "    <tr>\n",
       "      <th>34995</th>\n",
       "      <td>0.0</td>\n",
       "      <td>0.0</td>\n",
       "      <td>0.010106</td>\n",
       "      <td>0.647269</td>\n",
       "      <td>0.0</td>\n",
       "      <td>1.0</td>\n",
       "    </tr>\n",
       "    <tr>\n",
       "      <th>34996</th>\n",
       "      <td>1.0</td>\n",
       "      <td>1.0</td>\n",
       "      <td>0.293651</td>\n",
       "      <td>0.737291</td>\n",
       "      <td>1.0</td>\n",
       "      <td>0.0</td>\n",
       "    </tr>\n",
       "    <tr>\n",
       "      <th>34997</th>\n",
       "      <td>0.0</td>\n",
       "      <td>0.0</td>\n",
       "      <td>0.848546</td>\n",
       "      <td>0.552337</td>\n",
       "      <td>0.0</td>\n",
       "      <td>1.0</td>\n",
       "    </tr>\n",
       "    <tr>\n",
       "      <th>34998</th>\n",
       "      <td>1.0</td>\n",
       "      <td>1.0</td>\n",
       "      <td>0.614754</td>\n",
       "      <td>0.859896</td>\n",
       "      <td>1.0</td>\n",
       "      <td>0.0</td>\n",
       "    </tr>\n",
       "    <tr>\n",
       "      <th>34999</th>\n",
       "      <td>1.0</td>\n",
       "      <td>0.0</td>\n",
       "      <td>0.265306</td>\n",
       "      <td>0.843716</td>\n",
       "      <td>0.0</td>\n",
       "      <td>1.0</td>\n",
       "    </tr>\n",
       "  </tbody>\n",
       "</table>\n",
       "</div>"
      ],
      "text/plain": [
       "        X1   X2        X3        X4  class  predicted_col\n",
       "34995  0.0  0.0  0.010106  0.647269    0.0            1.0\n",
       "34996  1.0  1.0  0.293651  0.737291    1.0            0.0\n",
       "34997  0.0  0.0  0.848546  0.552337    0.0            1.0\n",
       "34998  1.0  1.0  0.614754  0.859896    1.0            0.0\n",
       "34999  1.0  0.0  0.265306  0.843716    0.0            1.0"
      ]
     },
     "execution_count": 2,
     "metadata": {},
     "output_type": "execute_result"
    }
   ],
   "source": [
    "predicted_test = pd.read_csv(predicted_test_data_path)\n",
    "predicted_test.tail()"
   ]
  },
  {
   "cell_type": "markdown",
   "metadata": {},
   "source": [
    "### **Setup function parameters**"
   ]
  },
  {
   "cell_type": "markdown",
   "metadata": {},
   "source": [
    "### **Importing the function**"
   ]
  },
  {
   "cell_type": "code",
   "execution_count": 3,
   "metadata": {},
   "outputs": [
    {
     "name": "stdout",
     "output_type": "stream",
     "text": [
      "> 2021-10-21 05:31:11,291 [info] created and saved project function-marketplace\n"
     ]
    },
    {
     "data": {
      "text/plain": [
       "<mlrun.runtimes.kubejob.KubejobRuntime at 0x7fb3f374c2d0>"
      ]
     },
     "execution_count": 3,
     "metadata": {},
     "output_type": "execute_result"
    }
   ],
   "source": [
    "# Importing the function\n",
    "import mlrun\n",
    "mlrun.set_environment(project='function-marketplace')\n",
    "\n",
    "\n",
    "fn = mlrun.import_function(\"hub://concept_drift\")\n",
    "fn.apply(mlrun.auto_mount())"
   ]
  },
  {
   "cell_type": "code",
   "execution_count": 4,
   "metadata": {},
   "outputs": [],
   "source": [
    "predicted_train_path = 'https://s3.wasabisys.com/iguazio/data/function-marketplace-data/concept_drift/predicted_abrupto_train.csv'"
   ]
  },
  {
   "cell_type": "code",
   "execution_count": 5,
   "metadata": {},
   "outputs": [],
   "source": [
    "import v3io.dataplane\n",
    "import os \n",
    "\n",
    "container = os.path.join('/',os.environ['V3IO_HOME'].split('/')[0])\n",
    "user = os.environ[\"V3IO_USERNAME\"]\n",
    "rel_path = os.getcwd()[6:] + '/artifacts'\n",
    "cwd = os.path.join(container,user,rel_path)\n",
    "base_input_stream = os.path.join(user,rel_path) + \"/inputs_stream\"\n",
    "input_stream = os.path.join(container,base_input_stream)\n",
    "base_output_stream = os.path.join(user,rel_path) + \"/output_stream\"\n",
    "output_stream = os.path.join(container,user,rel_path) + \"/output_stream\"\n",
    "tsdb_path = os.path.join(container,user,rel_path) + \"/output_tsdb\"\n",
    "stream_consumer_group = 'cg'\n",
    "http_input_stream = f'http://{os.environ[\"V3IO_API\"]}{input_stream}@{stream_consumer_group}'\n",
    "\n",
    "\n",
    "client = v3io.dataplane.Client()\n",
    "response = client.stream.create(container = container,\n",
    "                                stream_path=base_input_stream,\n",
    "                                shard_count=1,\n",
    "                                raise_for_status = v3io.dataplane.RaiseForStatus.never)\n",
    "response.raise_for_status([409, 204])"
   ]
  },
  {
   "cell_type": "code",
   "execution_count": 81,
   "metadata": {},
   "outputs": [
    {
     "name": "stdout",
     "output_type": "stream",
     "text": [
      "> 2021-10-21 06:15:41,904 [info] starting run concept_drift uid=f7d3d58d83b94eaa810ed406f7dcd455 DB=http://mlrun-api:8080\n",
      "> 2021-10-21 06:15:42,041 [info] Job is running in the background, pod: concept-drift-4xtgp\n",
      "> 2021-10-21 06:15:48,336 [info] Loading base dataset\n",
      "> 2021-10-21 06:15:49,671 [info] Creating models\n",
      "> 2021-10-21 06:15:49,671 [info] Streaming data to models\n",
      "> 2021-10-21 06:15:49,788 [info] Logging ready models\n",
      "> 2021-10-21 06:15:49,969 [info] Deploying Concept Drift Streaming function\n",
      "> 2021-10-21 06:15:49,972 [info] Starting remote function deploy\n",
      "2021-10-21 06:15:50  (info) Deploying function\n",
      "2021-10-21 06:15:50  (info) Building\n",
      "2021-10-21 06:15:50  (info) Staging files and preparing base images\n",
      "2021-10-21 06:15:50  (info) Building processor image\n",
      "2021-10-21 06:15:55  (info) Build complete\n",
      "2021-10-21 06:16:01  (info) Function deploy complete\n",
      "> 2021-10-21 06:16:01,897 [info] successfully deployed function: {'internal_invocation_urls': ['nuclio-function-marketplace-concept-drift-streaming.default-tenant.svc.cluster.local:8080'], 'external_invocation_urls': ['default-tenant.app.dev39.lab.iguazeng.com:31079']}\n",
      "> 2021-10-21 06:16:02,082 [info] run executed, status=completed\n",
      "final state: completed\n"
     ]
    },
    {
     "data": {
      "text/html": [
       "<style>\n",
       ".dictlist {\n",
       "  background-color: #4EC64B;\n",
       "  text-align: center;\n",
       "  margin: 4px;\n",
       "  border-radius: 3px; padding: 0px 3px 1px 3px; display: inline-block;}\n",
       ".artifact {\n",
       "  cursor: pointer;\n",
       "  background-color: #4EC64B;\n",
       "  text-align: left;\n",
       "  margin: 4px; border-radius: 3px; padding: 0px 3px 1px 3px; display: inline-block;\n",
       "}\n",
       "div.block.hidden {\n",
       "  display: none;\n",
       "}\n",
       ".clickable {\n",
       "  cursor: pointer;\n",
       "}\n",
       ".ellipsis {\n",
       "  display: inline-block;\n",
       "  max-width: 60px;\n",
       "  white-space: nowrap;\n",
       "  overflow: hidden;\n",
       "  text-overflow: ellipsis;\n",
       "}\n",
       ".master-wrapper {\n",
       "  display: flex;\n",
       "  flex-flow: row nowrap;\n",
       "  justify-content: flex-start;\n",
       "  align-items: stretch;\n",
       "}\n",
       ".master-tbl {\n",
       "  flex: 3\n",
       "}\n",
       ".master-wrapper > div {\n",
       "  margin: 4px;\n",
       "  padding: 10px;\n",
       "}\n",
       "iframe.fileview {\n",
       "  border: 0 none;\n",
       "  height: 100%;\n",
       "  width: 100%;\n",
       "  white-space: pre-wrap;\n",
       "}\n",
       ".pane-header-title {\n",
       "  width: 80%;\n",
       "  font-weight: 500;\n",
       "}\n",
       ".pane-header {\n",
       "  line-height: 1;\n",
       "  background-color: #4EC64B;\n",
       "  padding: 3px;\n",
       "}\n",
       ".pane-header .close {\n",
       "  font-size: 20px;\n",
       "  font-weight: 700;\n",
       "  float: right;\n",
       "  margin-top: -5px;\n",
       "}\n",
       ".master-wrapper .right-pane {\n",
       "  border: 1px inset silver;\n",
       "  width: 40%;\n",
       "  min-height: 300px;\n",
       "  flex: 3\n",
       "  min-width: 500px;\n",
       "}\n",
       ".master-wrapper * {\n",
       "  box-sizing: border-box;\n",
       "}\n",
       "</style><script>\n",
       "function copyToClipboard(fld) {\n",
       "    if (document.queryCommandSupported && document.queryCommandSupported('copy')) {\n",
       "        var textarea = document.createElement('textarea');\n",
       "        textarea.textContent = fld.innerHTML;\n",
       "        textarea.style.position = 'fixed';\n",
       "        document.body.appendChild(textarea);\n",
       "        textarea.select();\n",
       "\n",
       "        try {\n",
       "            return document.execCommand('copy'); // Security exception may be thrown by some browsers.\n",
       "        } catch (ex) {\n",
       "\n",
       "        } finally {\n",
       "            document.body.removeChild(textarea);\n",
       "        }\n",
       "    }\n",
       "}\n",
       "function expandPanel(el) {\n",
       "  const panelName = \"#\" + el.getAttribute('paneName');\n",
       "  console.log(el.title);\n",
       "\n",
       "  document.querySelector(panelName + \"-title\").innerHTML = el.title\n",
       "  iframe = document.querySelector(panelName + \"-body\");\n",
       "\n",
       "  const tblcss = `<style> body { font-family: Arial, Helvetica, sans-serif;}\n",
       "    #csv { margin-bottom: 15px; }\n",
       "    #csv table { border-collapse: collapse;}\n",
       "    #csv table td { padding: 4px 8px; border: 1px solid silver;} </style>`;\n",
       "\n",
       "  function csvToHtmlTable(str) {\n",
       "    return '<div id=\"csv\"><table><tr><td>' +  str.replace(/[\\n\\r]+$/g, '').replace(/[\\n\\r]+/g, '</td></tr><tr><td>')\n",
       "      .replace(/,/g, '</td><td>') + '</td></tr></table></div>';\n",
       "  }\n",
       "\n",
       "  function reqListener () {\n",
       "    if (el.title.endsWith(\".csv\")) {\n",
       "      iframe.setAttribute(\"srcdoc\", tblcss + csvToHtmlTable(this.responseText));\n",
       "    } else {\n",
       "      iframe.setAttribute(\"srcdoc\", this.responseText);\n",
       "    }\n",
       "    console.log(this.responseText);\n",
       "  }\n",
       "\n",
       "  const oReq = new XMLHttpRequest();\n",
       "  oReq.addEventListener(\"load\", reqListener);\n",
       "  oReq.open(\"GET\", el.title);\n",
       "  oReq.send();\n",
       "\n",
       "\n",
       "  //iframe.src = el.title;\n",
       "  const resultPane = document.querySelector(panelName + \"-pane\");\n",
       "  if (resultPane.classList.contains(\"hidden\")) {\n",
       "    resultPane.classList.remove(\"hidden\");\n",
       "  }\n",
       "}\n",
       "function closePanel(el) {\n",
       "  const panelName = \"#\" + el.getAttribute('paneName')\n",
       "  const resultPane = document.querySelector(panelName + \"-pane\");\n",
       "  if (!resultPane.classList.contains(\"hidden\")) {\n",
       "    resultPane.classList.add(\"hidden\");\n",
       "  }\n",
       "}\n",
       "\n",
       "</script>\n",
       "<div class=\"master-wrapper\">\n",
       "  <div class=\"block master-tbl\"><div>\n",
       "<style scoped>\n",
       "    .dataframe tbody tr th:only-of-type {\n",
       "        vertical-align: middle;\n",
       "    }\n",
       "\n",
       "    .dataframe tbody tr th {\n",
       "        vertical-align: top;\n",
       "    }\n",
       "\n",
       "    .dataframe thead th {\n",
       "        text-align: right;\n",
       "    }\n",
       "</style>\n",
       "<table border=\"1\" class=\"dataframe\">\n",
       "  <thead>\n",
       "    <tr style=\"text-align: right;\">\n",
       "      <th>project</th>\n",
       "      <th>uid</th>\n",
       "      <th>iter</th>\n",
       "      <th>start</th>\n",
       "      <th>state</th>\n",
       "      <th>name</th>\n",
       "      <th>labels</th>\n",
       "      <th>inputs</th>\n",
       "      <th>parameters</th>\n",
       "      <th>results</th>\n",
       "      <th>artifacts</th>\n",
       "    </tr>\n",
       "  </thead>\n",
       "  <tbody>\n",
       "    <tr>\n",
       "      <td>function-marketplace</td>\n",
       "      <td><div title=\"f7d3d58d83b94eaa810ed406f7dcd455\"><a href=\"https://dashboard.default-tenant.app.dev39.lab.iguazeng.com/mlprojects/function-marketplace/jobs/monitor/f7d3d58d83b94eaa810ed406f7dcd455/overview\" target=\"_blank\" >...f7dcd455</a></div></td>\n",
       "      <td>0</td>\n",
       "      <td>Oct 21 06:15:48</td>\n",
       "      <td>completed</td>\n",
       "      <td>concept_drift</td>\n",
       "      <td><div class=\"dictlist\">v3io_user=dani</div><div class=\"dictlist\">kind=job</div><div class=\"dictlist\">owner=dani</div><div class=\"dictlist\">host=concept-drift-4xtgp</div></td>\n",
       "      <td><div title=\"https://s3.wasabisys.com/iguazio/data/function-marketplace-data/concept_drift/predicted_abrupto_train.csv\">base_dataset</div></td>\n",
       "      <td><div class=\"dictlist\">input_stream=http://v3io-webapi.default-tenant.svc:8081/users/dani/test/functions/concept_drift/artifacts/inputs_stream@cg</div><div class=\"dictlist\">output_stream=/users/dani/test/functions/concept_drift/artifacts/output_stream</div><div class=\"dictlist\">output_tsdb=/users/dani/test/functions/concept_drift/artifacts/output_tsdb</div><div class=\"dictlist\">tsdb_batch_size=1</div><div class=\"dictlist\">models=['ddm', 'eddm', 'pagehinkley']</div><div class=\"dictlist\">label_col=class</div><div class=\"dictlist\">prediction_col=predicted_col</div><div class=\"dictlist\">hub_url=/User/test/functions/{name}/function.yaml</div></td>\n",
       "      <td></td>\n",
       "      <td><div title=\"/User/test/functions/concept_drift/artifacts/models\">eddm_concept_drift</div><div title=\"/User/test/functions/concept_drift/artifacts/models\">pagehinkley_concept_drift</div><div title=\"/User/test/functions/concept_drift/artifacts/models\">ddm_concept_drift</div></td>\n",
       "    </tr>\n",
       "  </tbody>\n",
       "</table>\n",
       "</div></div>\n",
       "  <div id=\"result375db91d-pane\" class=\"right-pane block hidden\">\n",
       "    <div class=\"pane-header\">\n",
       "      <span id=\"result375db91d-title\" class=\"pane-header-title\">Title</span>\n",
       "      <span onclick=\"closePanel(this)\" paneName=\"result375db91d\" class=\"close clickable\">&times;</span>\n",
       "    </div>\n",
       "    <iframe class=\"fileview\" id=\"result375db91d-body\"></iframe>\n",
       "  </div>\n",
       "</div>\n"
      ],
      "text/plain": [
       "<IPython.core.display.HTML object>"
      ]
     },
     "metadata": {},
     "output_type": "display_data"
    },
    {
     "name": "stdout",
     "output_type": "stream",
     "text": [
      "\n"
     ]
    },
    {
     "data": {
      "text/html": [
       "<b> > to track results use the .show() or .logs() methods  or <a href=\"https://dashboard.default-tenant.app.dev39.lab.iguazeng.com/mlprojects/function-marketplace/jobs/monitor/f7d3d58d83b94eaa810ed406f7dcd455/overview\" target=\"_blank\">click here</a> to open in UI</b>"
      ],
      "text/plain": [
       "<IPython.core.display.HTML object>"
      ]
     },
     "metadata": {},
     "output_type": "display_data"
    },
    {
     "name": "stdout",
     "output_type": "stream",
     "text": [
      "> 2021-10-21 06:16:10,412 [info] run executed, status=completed\n"
     ]
    }
   ],
   "source": [
    "drift_run = fn.run(name='concept_drift',\n",
    "                   params={'input_stream'    : http_input_stream,\n",
    "                           'output_stream'   : output_stream,\n",
    "                           'output_tsdb'     : tsdb_path,\n",
    "                           'tsdb_batch_size' : 1,\n",
    "                           'models'          : ['ddm', 'eddm', 'pagehinkley'], # defaults\n",
    "                           'label_col'       : 'class',\n",
    "                           'prediction_col'  : 'predicted_col',\n",
    "                           'hub_url'         : '/User/test/functions/{name}/function.yaml'},\n",
    "                   inputs={'base_dataset'    : predicted_train_path},\n",
    "                   artifact_path = os.path.join(os.getcwd(), 'artifacts'),\n",
    "                   local=False)"
   ]
  },
  {
   "cell_type": "code",
   "execution_count": 137,
   "metadata": {},
   "outputs": [],
   "source": [
    "import json\n",
    "event_data = {\"class\": 1.0,\n",
    "              \"request\": {\"instances\": [{\"X1\": 0.0, \"X2\": 1.0, \"X3\": 0.0, \"X4\": 0.0}]},\n",
    "              \"resp\": [0],\n",
    "              \"when\": [\"2021-10-21 05:45:56.358580\"],\n",
    "              \"model\": [\"sababa\"]}"
   ]
  },
  {
   "cell_type": "code",
   "execution_count": 138,
   "metadata": {},
   "outputs": [
    {
     "name": "stdout",
     "output_type": "stream",
     "text": [
      "\n"
     ]
    }
   ],
   "source": [
    "import requests\n",
    "print(requests.put('http://default-tenant.app.dev39.lab.iguazeng.com:31079',json=json.dumps(event_data)).text)"
   ]
  },
  {
   "cell_type": "code",
   "execution_count": 30,
   "metadata": {},
   "outputs": [
    {
     "data": {
      "text/plain": [
       "{'data': '{\"class\": 1.0, \"request\": {\"instances\": [{\"X1\": 0.0, \"X2\": 0.0, \"X3\": 0.9780597499, \"X4\": 0.4262973477}]}, \"resp\": [1]}'}"
      ]
     },
     "execution_count": 30,
     "metadata": {},
     "output_type": "execute_result"
    }
   ],
   "source": [
    "records[40]"
   ]
  },
  {
   "cell_type": "code",
   "execution_count": 15,
   "metadata": {},
   "outputs": [
    {
     "data": {
      "text/plain": [
       "<mlrun.model.RunObject at 0x7fb3f3fe2c10>"
      ]
     },
     "execution_count": 15,
     "metadata": {},
     "output_type": "execute_result"
    }
   ],
   "source": [
    "drift_run"
   ]
  },
  {
   "cell_type": "code",
   "execution_count": null,
   "metadata": {},
   "outputs": [],
   "source": [
    "dict([(k, record[k]) for k in [\"when\", \"class\", \"model\", \"resp\", \"request\"]])"
   ]
  },
  {
   "cell_type": "code",
   "execution_count": 39,
   "metadata": {},
   "outputs": [
    {
     "name": "stdout",
     "output_type": "stream",
     "text": [
      "2021-10-21 05:45:56.358580\n"
     ]
    }
   ],
   "source": [
    "import datetime\n",
    "print(datetime.datetime.now())"
   ]
  },
  {
   "cell_type": "code",
   "execution_count": 141,
   "metadata": {},
   "outputs": [
    {
     "name": "stdout",
     "output_type": "stream",
     "text": [
      "{'class': 0.0, 'request': {'instances': [{'X1': 1.0, 'X2': 1.0, 'X3': 0.2862386695, 'X4': 0.9841967075}]}, 'resp': [0], 'when': ['2021-10-21 05:45:56.358580'], 'model': ['ddm']}\n"
     ]
    }
   ],
   "source": [
    "print(json.loads(records[1]['data']))"
   ]
  },
  {
   "cell_type": "code",
   "execution_count": 9,
   "metadata": {},
   "outputs": [
    {
     "ename": "NameError",
     "evalue": "name 'sssssss' is not defined",
     "output_type": "error",
     "traceback": [
      "\u001b[0;31m---------------------------------------------------------------------------\u001b[0m",
      "\u001b[0;31mNameError\u001b[0m                                 Traceback (most recent call last)",
      "\u001b[0;32m<ipython-input-9-da22f80aa434>\u001b[0m in \u001b[0;36m<module>\u001b[0;34m\u001b[0m\n\u001b[0;32m----> 1\u001b[0;31m \u001b[0msssssss\u001b[0m\u001b[0;34m\u001b[0m\u001b[0;34m\u001b[0m\u001b[0m\n\u001b[0m",
      "\u001b[0;31mNameError\u001b[0m: name 'sssssss' is not defined"
     ]
    }
   ],
   "source": [
    "sssssss"
   ]
  },
  {
   "cell_type": "code",
   "execution_count": 149,
   "metadata": {},
   "outputs": [
    {
     "data": {
      "text/plain": [
       "'dani/test/functions/concept_drift/artifacts/inputs_stream'"
      ]
     },
     "execution_count": 149,
     "metadata": {},
     "output_type": "execute_result"
    }
   ],
   "source": [
    "base_input_stream"
   ]
  },
  {
   "cell_type": "code",
   "execution_count": 146,
   "metadata": {},
   "outputs": [],
   "source": [
    "import json\n",
    "\n",
    "def restructure_stream_event(context, event):\n",
    "    instances = [dict()]\n",
    "    for key in predicted_test.keys():\n",
    "        if key not in ['when', 'class', 'model', 'worker', 'hostname', 'predicted_col']:\n",
    "            instances[0].update({key: event.pop(key)})\n",
    "    event['request'] = {'instances': instances}\n",
    "    event['resp'] = [int(event.pop('predicted_col'))]\n",
    "    event['when'] = [\"2021-10-21 05:45:56.358580\"]\n",
    "    event['model'] = ['real_records']\n",
    "    return event\n",
    "    \n",
    "    \n",
    "records = json.loads(predicted_test.to_json(orient='records'))\n",
    "records = [{'data': json.dumps(restructure_stream_event(context, record))} for record in records]"
   ]
  },
  {
   "cell_type": "code",
   "execution_count": 150,
   "metadata": {},
   "outputs": [],
   "source": [
    "# batch\n",
    "\n",
    "v3io_client = v3io.dataplane.Client()\n",
    "step = 1\n",
    "for idx in range(0, len(records), step):\n",
    "    response = v3io_client.put_records(container=container,\n",
    "                                       path=base_input_stream, \n",
    "                                       records=records[idx:idx+step])"
   ]
  },
  {
   "cell_type": "code",
   "execution_count": null,
   "metadata": {},
   "outputs": [],
   "source": [
    "output_stream"
   ]
  },
  {
   "cell_type": "code",
   "execution_count": 127,
   "metadata": {},
   "outputs": [
    {
     "data": {
      "text/plain": [
       "[{'data': '{\"class\": 1.0, \"request\": {\"instances\": [{\"X1\": 0.0, \"X2\": 0.0, \"X3\": 0.8317721351, \"X4\": 0.7652358167}]}, \"resp\": [1], \"when\": [\"2021-10-21 05:45:56.358580\"], \"model\": [\"ddm\"]}'}]"
      ]
     },
     "execution_count": 127,
     "metadata": {},
     "output_type": "execute_result"
    }
   ],
   "source": [
    "records[2:3]"
   ]
  },
  {
   "cell_type": "code",
   "execution_count": 126,
   "metadata": {},
   "outputs": [
    {
     "data": {
      "text/plain": [
       "b'{ \"FailedRecordCount\":0,\"Records\": [{ \"SequenceNumber\":85904,\"ShardId\":0 } ] }'"
      ]
     },
     "execution_count": 126,
     "metadata": {},
     "output_type": "execute_result"
    }
   ],
   "source": [
    "response = v3io_client.put_records(container=container,\n",
    "                                       path=base_input_stream, \n",
    "                                       records=records[idx:idx+step])\n",
    "response.body"
   ]
  },
  {
   "cell_type": "code",
   "execution_count": 125,
   "metadata": {},
   "outputs": [
    {
     "data": {
      "text/plain": [
       "b'{ \"FailedRecordCount\":0,\"Records\": [{ \"SequenceNumber\":85903,\"ShardId\":0 } ] }'"
      ]
     },
     "execution_count": 125,
     "metadata": {},
     "output_type": "execute_result"
    }
   ],
   "source": []
  },
  {
   "cell_type": "code",
   "execution_count": null,
   "metadata": {},
   "outputs": [],
   "source": []
  },
  {
   "cell_type": "code",
   "execution_count": null,
   "metadata": {},
   "outputs": [],
   "source": [
    "## Getting a model to monitor concept drift on\n",
    "import mlrun\n",
    "mlrun.set_environment(project='function-marketplace')\n",
    "\n",
    "# Importing sklearn_classifier function from the hub to easy train a model\n",
    "fn = mlrun.import_function(\"hub://sklearn_classifier\")\n",
    "fn.apply(mlrun.auto_mount())"
   ]
  },
  {
   "cell_type": "code",
   "execution_count": null,
   "metadata": {},
   "outputs": [],
   "source": [
    "# Training the model\n",
    "\n",
    "classifier_run = fn.run(name= \"sklearn_classifier\",\n",
    "                        params= {\"sample\"             : -1,\n",
    "                                 \"test_size\"          : 0.05,\n",
    "                                 \"train_val_split\"    : 0.95,\n",
    "                                 \"random_state\"       : 1,\n",
    "                                 \"n_jobs\"             : -1,\n",
    "                                 \"label_column\"       : 'class',\n",
    "                                 \"model_pkg_class\"    : \"sklearn.ensemble.RandomForestClassifier\"},\n",
    "                        inputs={\"dataset\"  : train_data_path},\n",
    "                        local=True)"
   ]
  },
  {
   "cell_type": "code",
   "execution_count": null,
   "metadata": {},
   "outputs": [],
   "source": []
  },
  {
   "cell_type": "code",
   "execution_count": null,
   "metadata": {},
   "outputs": [],
   "source": []
  },
  {
   "cell_type": "markdown",
   "metadata": {},
   "source": [
    "## Local test\n",
    "A usecase based run example"
   ]
  },
  {
   "cell_type": "code",
   "execution_count": null,
   "metadata": {},
   "outputs": [],
   "source": [
    "from mlrun import run_local, NewTask"
   ]
  },
  {
   "cell_type": "code",
   "execution_count": null,
   "metadata": {},
   "outputs": [],
   "source": [
    "container = 'bigdata'\n",
    "base_table = os.path.join('/', container, 'network-operations')\n",
    "stream_consumer_group = 'cd'\n",
    "artifacts_path = os.path.join(os.getcwd(), 'artifacts')\n",
    "\n",
    "task = NewTask(name='concept_drift_deployer',\n",
    "        project='network-operations',\n",
    "        handler=concept_drift_deployer,\n",
    "        params={'models': ['ddm', 'eddm', 'pagehinkley'],\n",
    "                'label_col': 'is_error',\n",
    "                'prediction_col': 'yscore',\n",
    "                'output_tsdb': os.path.join(base_table, 'drift_tsdb'),\n",
    "                'input_stream': f'http://{os.environ[\"V3IO_API\"]}{os.path.join(base_table, 'inference_stream')}@{stream_consumer_group}',\n",
    "                'output_stream': os.path.join(base_table, 'drift_stream')},\n",
    "        inputs={'base_dataset': 'store://network-operations/test_test_set_preds'},\n",
    "        artifact_path=artifacts_path)"
   ]
  },
  {
   "cell_type": "code",
   "execution_count": null,
   "metadata": {},
   "outputs": [],
   "source": [
    "artifacts_path = os.path.join(os.getcwd(), 'artifacts')\n",
    "artifacts_path"
   ]
  },
  {
   "cell_type": "code",
   "execution_count": null,
   "metadata": {},
   "outputs": [],
   "source": [
    "run_local(task)"
   ]
  },
  {
   "cell_type": "markdown",
   "metadata": {},
   "source": [
    "## Save function yaml"
   ]
  },
  {
   "cell_type": "code",
   "execution_count": null,
   "metadata": {},
   "outputs": [],
   "source": [
    "from os import path\n",
    "from mlrun import run_local, NewTask, mlconf, import_function, mount_v3io, code_to_function\n",
    "mlconf.dbpath = mlconf.dbpath or 'http://mlrun-api:8080'"
   ]
  },
  {
   "cell_type": "code",
   "execution_count": null,
   "metadata": {},
   "outputs": [],
   "source": [
    "# create job function object from notebook code\n",
    "fn = code_to_function(\"concept_drift\", \n",
    "                      kind='job',\n",
    "                      with_doc=True,\n",
    "                      embed_code=True)\n",
    "\n",
    "# add metadata (for templates and reuse)\n",
    "fn.spec.default_handler = \"concept_drift_deployer\"\n",
    "fn.spec.description = \"Deploy a streaming Concept Drift detector on a labeled stream\"\n",
    "fn.metadata.categories = [\"ml\", \"serve\"]\n",
    "fn.metadata.labels = {\"author\": \"orz\", \"framework\": \"sklearn\"}\n",
    "fn.export(\"function.yaml\")"
   ]
  },
  {
   "cell_type": "code",
   "execution_count": null,
   "metadata": {},
   "outputs": [],
   "source": [
    "fn.apply(mount_v3io())"
   ]
  },
  {
   "cell_type": "markdown",
   "metadata": {},
   "source": [
    "## Stream testing"
   ]
  },
  {
   "cell_type": "code",
   "execution_count": null,
   "metadata": {},
   "outputs": [],
   "source": [
    "fn.deploy()"
   ]
  },
  {
   "cell_type": "code",
   "execution_count": null,
   "metadata": {},
   "outputs": [],
   "source": [
    "fn.run(task)"
   ]
  },
  {
   "cell_type": "code",
   "execution_count": null,
   "metadata": {},
   "outputs": [],
   "source": []
  }
 ],
 "metadata": {
  "kernelspec": {
   "display_name": "Python [conda env:root] *",
   "language": "python",
   "name": "conda-root-py"
  },
  "language_info": {
   "codemirror_mode": {
    "name": "ipython",
    "version": 3
   },
   "file_extension": ".py",
   "mimetype": "text/x-python",
   "name": "python",
   "nbconvert_exporter": "python",
   "pygments_lexer": "ipython3",
   "version": "3.7.6"
  }
 },
 "nbformat": 4,
 "nbformat_minor": 4
}
