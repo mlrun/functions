{
 "cells": [
  {
   "cell_type": "markdown",
   "metadata": {},
   "source": [
    "# Describe\n",
    "\n",
    " This function will analysis the data and outputs the following artifacts per\n",
    "    column within the data frame (based on data types):\n",
    "\n",
    "    describe csv\n",
    "    histogram matrix\n",
    "    violin chart\n",
    "    correlation-matrix chart\n",
    "    correlation-matrix csv\n",
    "    imbalance pie chart\n",
    "    imbalance-weights-vec csv"
   ]
  },
  {
   "cell_type": "markdown",
   "metadata": {},
   "source": [
    "<a id=\"handler1\"></a>\n",
    "\n",
    "## analyse\n",
    "\n",
    "###  Docs\n",
    "\n",
    "#### Parameters:\n",
    "* **`context`**: `mlrun.MLClientCtx` - The MLRun function execution context\n",
    "* **`name`**: `str` - Key of the dataset to database (\"dataset\" for default).\n",
    "* **`table`**: `DataItem = None` - MLRun input pointing to pandas dataframe (csv/parquet file path)\n",
    "* **`label_column`**: `str = None` - Ground truth column label\n",
    "* **`plots_dest`**: `str = \"plots\"` - Destination folder of summary plots (relative to artifact_path)\n",
    "* **`random_state`**: `int = 1` -  When the table has more than 500,000 samples, we sample randomly 500,000 samples.\n",
    "* **`dask_key`**: `string = datasets` -  key of dataframe in dask client \"datasets\" attribute.\n",
    "* **`dask_function`**: `str = None` -  dask function url (db://..).\n",
    "* **`dask_client`**: `str = None` -  dask client object."
   ]
  },
  {
   "cell_type": "markdown",
   "metadata": {},
   "source": [
    "### DEMO\n",
    "#### Set-up"
   ]
  },
  {
   "cell_type": "code",
   "metadata": {},
   "source": [
    "import pandas as pd\n",
    "import mlrun\n",
    "import os\n",
    "from sklearn.datasets import make_classification"
   ],
   "outputs": [],
   "execution_count": null
  },
  {
   "cell_type": "code",
   "metadata": {
    "collapsed": false,
    "jupyter": {
     "outputs_hidden": false
    },
    "pycharm": {
     "name": "#%%\n"
    }
   },
   "source": [
    "# Set our project's name:\n",
    "project_name = \"new-describe-project\"\n",
    "\n",
    "# Create the project:\n",
    "project = mlrun.get_or_create_project(name=project_name, context=\"./\", user_project=True)"
   ],
   "outputs": [],
   "execution_count": null
  },
  {
   "cell_type": "markdown",
   "metadata": {},
   "source": [
    "#### Loading random dataset\n",
    "We will use make_classification to generate random dataset"
   ]
  },
  {
   "cell_type": "code",
   "metadata": {},
   "source": [
    "n_features=5\n",
    "X, y = make_classification(n_samples=100, n_features=n_features, n_classes=3, random_state = 18,\n",
    "                                     class_sep=2, n_informative=3)\n",
    "df = pd.DataFrame(X, columns=[f\"feature_{i}\" for i in range(n_features)])\n",
    "df['label'] = y\n",
    "try:\n",
    "    os.mkdir('artifacts')\n",
    "except:\n",
    "    pass\n",
    "df.to_parquet(\"artifacts/random_dataset.parquet\")"
   ],
   "outputs": [],
   "execution_count": null
  },
  {
   "cell_type": "markdown",
   "source": [
    "Import the describe MLRun function with analysis handler"
   ],
   "metadata": {
    "collapsed": false,
    "pycharm": {
     "name": "#%% md\n"
    }
   }
  },
  {
   "cell_type": "code",
   "metadata": {},
   "source": [
    "describe_func = mlrun.import_function(\"hub://describe\")\n",
    "describe_func.apply(mlrun.platforms.auto_mount())"
   ],
   "outputs": [],
   "execution_count": null
  },
  {
   "cell_type": "markdown",
   "source": [
    "#### Run the function on new data set\n",
    "Run describe function\n",
    "\n",
    "After we run the function you can see the created artifacts by click on the run uid and go -> artifacts"
   ],
   "metadata": {
    "collapsed": false
   }
  },
  {
   "cell_type": "code",
   "metadata": {
    "pycharm": {
     "name": "#%%\n"
    }
   },
   "source": [
    "describe_run = describe_func.run(\n",
    "            name=\"task-describe\",\n",
    "            handler='analyze',\n",
    "            inputs={\"table\": os.path.abspath(\"artifacts/random_dataset.parquet\")},\n",
    "            params={\"label_column\": \"label\"},\n",
    "            local=True\n",
    "        )"
   ],
   "outputs": [],
   "execution_count": null
  },
  {
   "cell_type": "code",
   "metadata": {
    "collapsed": false,
    "jupyter": {
     "outputs_hidden": false
    },
    "pycharm": {
     "name": "#%%\n"
    }
   },
   "source": [
    "describe_run.artifact('imbalance').show()"
   ],
   "outputs": [],
   "execution_count": null
  },
  {
   "cell_type": "code",
   "source": [
    "describe_run.artifact('scatter-2d').show()"
   ],
   "metadata": {
    "collapsed": false,
    "pycharm": {
     "name": "#%%\n"
    }
   },
   "outputs": [],
   "execution_count": null
  },
  {
   "cell_type": "markdown",
   "metadata": {},
   "source": [
    "#### Run the function on alredy loaded data set\n",
    "\n",
    "log new data set to the project\n"
   ]
  },
  {
   "cell_type": "code",
   "metadata": {},
   "source": [
    "context = mlrun.get_or_create_ctx(project_name)\n",
    "df = pd.read_parquet(os.path.abspath(\"artifacts/random_dataset.parquet\"))\n",
    "context.log_dataset(key=\"dataset\", db_key=\"dataset1\", stats=True, df=df)"
   ],
   "outputs": [],
   "execution_count": null
  },
  {
   "cell_type": "markdown",
   "metadata": {},
   "source": []
  },
  {
   "cell_type": "code",
   "metadata": {},
   "source": [
    "describe_run = describe_func.run(\n",
    "            name=\"task-describe\",\n",
    "            handler='analyze',\n",
    "            inputs={\"table\": os.path.abspath(\"artifacts/random_dataset.parquet\")},\n",
    "            params={\"name\": \"dataset1\", \"label_column\": \"label\"},\n",
    "            local=True\n",
    "        )"
   ],
   "outputs": [],
   "execution_count": null
  },
  {
   "cell_type": "code",
   "metadata": {
    "collapsed": false,
    "jupyter": {
     "outputs_hidden": false
    },
    "pycharm": {
     "name": "#%%\n"
    }
   },
   "source": [
    "describe_run.artifact('correlation').show()"
   ],
   "outputs": [],
   "execution_count": null
  },
  {
   "cell_type": "code",
   "source": [
    "describe_run.artifact('histograms').show()"
   ],
   "metadata": {
    "collapsed": false,
    "pycharm": {
     "name": "#%%\n"
    }
   },
   "outputs": [],
   "execution_count": null
  },
  {
   "cell_type": "markdown",
   "metadata": {
    "jupyter": {
     "outputs_hidden": false
    },
    "pycharm": {
     "name": "#%% md\n"
    }
   },
   "source": [
    "### Run the function with dask ### \n",
    "create a dask test cluster (dask function)"
   ]
  },
  {
   "cell_type": "code",
   "metadata": {
    "collapsed": false,
    "jupyter": {
     "outputs_hidden": false
    },
    "pycharm": {
     "name": "#%%\n",
     "is_executing": true
    }
   },
   "source": [
    "dask_cluster = mlrun.new_function('dask_tests', kind='dask', image='mlrun/ml-models')\n",
    "dask_cluster.apply(mlrun.mount_v3io())\n",
    "dask_cluster.spec.remote = True\n",
    "dask_cluster.with_requests(mem='2G')\n",
    "dask_cluster_name = dask_cluster.save()"
   ],
   "outputs": [],
   "execution_count": null
  },
  {
   "cell_type": "markdown",
   "source": [
    "Run the describe function.\n",
    "After we run the function you can see the created artifacts by click on the run uid and go -> artifacts"
   ],
   "metadata": {
    "collapsed": false,
    "pycharm": {
     "name": "#%% md\n"
    }
   }
  },
  {
   "cell_type": "code",
   "metadata": {
    "collapsed": false,
    "jupyter": {
     "outputs_hidden": false
    },
    "pycharm": {
     "name": "#%%\n"
    }
   },
   "source": [
    "describe_run = describe_func.run(\n",
    "            name=\"task-describe\",\n",
    "            handler='analyze',\n",
    "            inputs={\"table\": os.path.abspath(\"artifacts/random_dataset.parquet\")},\n",
    "            params={\"name\": \"dataset1\", \"label_column\": \"label\", \"dask_function\": dask_cluster_name},\n",
    "            local=True\n",
    "        )"
   ],
   "outputs": [],
   "execution_count": null
  },
  {
   "cell_type": "code",
   "metadata": {
    "collapsed": false,
    "jupyter": {
     "outputs_hidden": false
    },
    "pycharm": {
     "name": "#%%\n"
    }
   },
   "source": [
    "describe_run.artifact('violin').show()"
   ],
   "outputs": [],
   "execution_count": null
  }
 ],
 "metadata": {
  "kernelspec": {
   "display_name": "Python 3",
   "language": "python",
   "name": "python3"
  },
  "language_info": {
   "codemirror_mode": {
    "name": "ipython",
    "version": 3
   },
   "file_extension": ".py",
   "mimetype": "text/x-python",
   "name": "python",
   "nbconvert_exporter": "python",
   "pygments_lexer": "ipython3",
   "version": "3.7.6"
  }
 },
 "nbformat": 4,
 "nbformat_minor": 4
}
