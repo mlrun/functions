{
 "cells": [
  {
   "cell_type": "markdown",
   "metadata": {},
   "source": [
    "# Model Server"
   ]
  },
  {
   "cell_type": "code",
   "execution_count": 1,
   "metadata": {},
   "outputs": [],
   "source": [
    "#!python -m pip install v3io"
   ]
  },
  {
   "cell_type": "code",
   "execution_count": 2,
   "metadata": {},
   "outputs": [],
   "source": [
    "# nuclio: ignore\n",
    "import nuclio"
   ]
  },
  {
   "cell_type": "code",
   "execution_count": 3,
   "metadata": {},
   "outputs": [
    {
     "name": "stdout",
     "output_type": "stream",
     "text": [
      "%nuclio: setting kind to 'nuclio:serving'\n",
      "%nuclio: setting 'MODEL_CLASS' environment variable\n"
     ]
    }
   ],
   "source": [
    "%nuclio config kind=\"nuclio:serving\"\n",
    "%nuclio env MODEL_CLASS=ClassifierModel"
   ]
  },
  {
   "cell_type": "code",
   "execution_count": 4,
   "metadata": {},
   "outputs": [
    {
     "name": "stdout",
     "output_type": "stream",
     "text": [
      "%nuclio: setting spec.build.baseImage to 'mlrun/ml-serving:0.4.6-py37'\n"
     ]
    }
   ],
   "source": [
    "%nuclio config spec.build.baseImage = \"mlrun/ml-serving:0.4.6-py37\""
   ]
  },
  {
   "cell_type": "code",
   "execution_count": 5,
   "metadata": {},
   "outputs": [],
   "source": [
    "%%nuclio cmd -c\n",
    "python -m pip install v3io"
   ]
  },
  {
   "cell_type": "code",
   "execution_count": 6,
   "metadata": {},
   "outputs": [],
   "source": [
    "import os\n",
    "from cloudpickle import load\n",
    "import kfserving\n",
    "import numpy as np\n",
    "from typing import List\n",
    "from datetime import datetime"
   ]
  },
  {
   "cell_type": "code",
   "execution_count": 7,
   "metadata": {},
   "outputs": [],
   "source": [
    "import json\n",
    "import socket\n",
    "import v3io.dataplane\n",
    "\n",
    "v3io_client = v3io.dataplane.Client()\n",
    "hostname = None\n",
    "\n",
    "def split_path(mntpath=''):\n",
    "    if mntpath[0] == '/':\n",
    "        mntpath = mntpath[1:]\n",
    "    paths = mntpath.split('/')\n",
    "    container = paths[0]\n",
    "    subpath = ''\n",
    "    if len(paths) > 1:\n",
    "        subpath = mntpath[len(container):]\n",
    "    return container, subpath\n",
    " \n",
    "\n",
    "def init_stream(stream_path, shards=1):\n",
    "    global hostname\n",
    "    hostname = socket.gethostname()\n",
    "    container, stream_path = split_path(stream_path)\n",
    "    response = v3io_client.create_stream(container=container,\n",
    "                                         path=stream_path, \n",
    "                                         shard_count=shards,\n",
    "                                         raise_for_status=v3io.dataplane.RaiseForStatus.never)\n",
    "    response.raise_for_status([409, 204])\n",
    "    print(response.__dict__)\n",
    "    \n",
    "def push_to_stream(stream_path, data):\n",
    "    records = [{'data': json.dumps(rec)} for rec in data]\n",
    "    container, stream_path = split_path(stream_path)\n",
    "    response = v3io_client.put_records(container=container,\n",
    "                                       path=stream_path, \n",
    "                                       records=records)\n",
    "    \n",
    "    #for response_record in response.output.records:\n",
    "    #    print(response_record.__dict__)"
   ]
  },
  {
   "cell_type": "code",
   "execution_count": 8,
   "metadata": {},
   "outputs": [],
   "source": [
    "class ClassifierModel(kfserving.KFModel):\n",
    "    def __init__(self, name: str, model_dir: str, classifier = None):\n",
    "        super().__init__(name)\n",
    "        self.model_dir = model_dir\n",
    "        self.log_stream = os.environ.get('INFERENCE_STREAM', '')\n",
    "        if self.log_stream:\n",
    "            init_stream(self.log_stream)\n",
    "        if classifier:\n",
    "            self.classifier = classifier\n",
    "            self.ready = True\n",
    "\n",
    "    def load(self):\n",
    "        \"\"\"Load model from KubeFlow storage.\n",
    "        \"\"\"\n",
    "        if self.model_dir.endswith('.pkl'):\n",
    "            model_file = self.model_dir\n",
    "        else:\n",
    "            for file in os.path.listdir(self.model_dir):\n",
    "                if file.endswith('.pkl'):\n",
    "                    model_file = os.pth.join(self.model_dir, file)\n",
    "                    break\n",
    "        self.classifier = load(open(model_file, 'rb'))\n",
    "        self.ready = True\n",
    "\n",
    "    def predict(self, body: dict) -> List:\n",
    "        \"\"\"Generate model predictions from sample.\n",
    "        \n",
    "        :param body : A dict of observations, each of which is an 1-dimensional feature vector.\n",
    "            \n",
    "        Returns model predictions as a `List`, one for each row in the `body` input `List`.\n",
    "        \"\"\"\n",
    "        start = datetime.now()\n",
    "        try:\n",
    "            feats = np.asarray(body['instances'])\n",
    "            result: np.ndarray = self.classifier.predict(feats)\n",
    "            resp = result.tolist()\n",
    "        except Exception as e:\n",
    "            raise Exception(f\"Failed to predict {e}\")\n",
    "        \n",
    "        if self.log_stream:\n",
    "            data = {'request': body, 'resp': resp, \n",
    "                    'class': 'ClassifierModel', \n",
    "                    'model': self.name,\n",
    "                    'host': hostname,\n",
    "                    'when': str(start), \n",
    "                    'microsec': (datetime.now()-start).microseconds}\n",
    "            push_to_stream(self.log_stream, [data])\n",
    "\n",
    "        return resp"
   ]
  },
  {
   "cell_type": "code",
   "execution_count": 9,
   "metadata": {},
   "outputs": [],
   "source": [
    "# nuclio: end-code"
   ]
  },
  {
   "cell_type": "markdown",
   "metadata": {},
   "source": [
    "# Save"
   ]
  },
  {
   "cell_type": "code",
   "execution_count": null,
   "metadata": {},
   "outputs": [
    {
     "name": "stdout",
     "output_type": "stream",
     "text": [
      "[mlrun] 2020-04-28 15:30:04,932 saving function: iris-logisticregression, tag: latest\n",
      "[mlrun] 2020-04-28 15:30:05,041 function spec saved to path: LogisticRegression/function.yaml\n",
      "[mlrun] 2020-04-28 15:30:05,045 deploy started\n",
      "[nuclio] 2020-04-28 15:30:13,605 (info) Build complete\n"
     ]
    }
   ],
   "source": [
    "from mlrun import new_model_server\n",
    "from mlrun import mount_v3io, mlconf\n",
    "import os\n",
    "\n",
    "for model in os.listdir(mlconf.artifact_path + '/models'):\n",
    "    if model.startswith('sklearn') and model.endswith('.pkl'):\n",
    "        fn = new_model_server(f\"iris-{model.split('.')[-2]}\", model_class='ClassifierModel')\n",
    "        fn.spec.description = f\"generic sklearn {model} model server\"\n",
    "        fn.metadata.categories = ['serving', 'models']\n",
    "        fn.metadata.labels = {'author': 'yaronh'}\n",
    "        fn.save()\n",
    "        #print(fn.to_yaml())\n",
    "        fn.export(f\"{model.split('.')[-2]}/function.yaml\")\n",
    "        fn.apply(mount_v3io())\n",
    "        fn.set_envs({f\"SERVING_MODEL_iris_{model.split('.')[-2]}\": mlconf.artifact_path + f\"/models/{model.split('.')[-2]}.pkl\",\n",
    "                     'INFERENCE_STREAM': '/User/admin/tststream'})\n",
    "        fn.deploy(project='sklearn-servers')"
   ]
  },
  {
   "cell_type": "code",
   "execution_count": null,
   "metadata": {},
   "outputs": [],
   "source": []
  }
 ],
 "metadata": {
  "kernelspec": {
   "display_name": "Python 3",
   "language": "python",
   "name": "python3"
  },
  "language_info": {
   "codemirror_mode": {
    "name": "ipython",
    "version": 3
   },
   "file_extension": ".py",
   "mimetype": "text/x-python",
   "name": "python",
   "nbconvert_exporter": "python",
   "pygments_lexer": "ipython3",
   "version": "3.6.8"
  }
 },
 "nbformat": 4,
 "nbformat_minor": 4
}
