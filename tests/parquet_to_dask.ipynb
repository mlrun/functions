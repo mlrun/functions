{
 "cells": [
  {
   "cell_type": "markdown",
   "metadata": {},
   "source": [
    "# parquet to dask\n",
    "load a parquet dataset into a dask cluster"
   ]
  },
  {
   "cell_type": "code",
   "execution_count": 1,
   "metadata": {},
   "outputs": [],
   "source": [
    "import mlrun\n",
    "import os\n",
    "mlrun.mlconf.dbpath = 'http://mlrun-api:8080'\n",
    "mlrun.mlconf.remote_host = '3.133.8.252' "
   ]
  },
  {
   "cell_type": "markdown",
   "metadata": {},
   "source": [
    "## parameters\n"
   ]
  },
  {
   "cell_type": "code",
   "execution_count": 2,
   "metadata": {},
   "outputs": [],
   "source": [
    "FUNCTION           = 'parquet_to_dask'\n",
    "DESCRIPTION        = 'load parquet dataset into a dask cluster'\n",
    "\n",
    "BASE_IMAGE         = 'yjbds/mlrun-daskboost:dev'\n",
    "JOB_KIND           = 'dask'\n",
    "TASK_NAME          = 'user-task-parq-to-dask'\n",
    "\n",
    "CODE_BASE          = 'https://raw.githubusercontent.com/yjb-ds/functions/lgbm-serving/fileutils'\n",
    "\n",
    "SRC_PATH           = '/User/mlrun/airlines/dataset-small/partitions'\n",
    "\n",
    "PARTITION_COLS     = ['Year', 'Month']\n",
    "\n",
    "DASK_SHARDS = 4\n",
    "DASK_THREADS_PER = 4"
   ]
  },
  {
   "cell_type": "markdown",
   "metadata": {},
   "source": [
    "## load and configure function"
   ]
  },
  {
   "cell_type": "code",
   "execution_count": 3,
   "metadata": {},
   "outputs": [],
   "source": [
    "func_py = os.path.join(CODE_BASE, FUNCTION, 'function.py')\n",
    "func_yaml = os.path.join(CODE_BASE, FUNCTION, 'function.yaml')"
   ]
  },
  {
   "cell_type": "markdown",
   "metadata": {},
   "source": [
    "**If run the first time, create the function:**"
   ]
  },
  {
   "cell_type": "code",
   "execution_count": 4,
   "metadata": {},
   "outputs": [],
   "source": [
    "# load function from a local Python file\n",
    "parq2dask = mlrun.new_function(command=func_py, kind=JOB_KIND)\n",
    "\n",
    "parq2dask.spec.remote = True\n",
    "parq2dask.spec.replicas = 4 \n",
    "parq2dask.spec.max_replicas = 4\n",
    "parq2dask.spec.service_type = 'NodePort'\n",
    "parq2dask.spec.build.base_image = BASE_IMAGE"
   ]
  },
  {
   "cell_type": "code",
   "execution_count": 5,
   "metadata": {},
   "outputs": [
    {
     "name": "stdout",
     "output_type": "stream",
     "text": [
      "[mlrun] 2020-01-30 09:38:16,699 function spec saved to path: /User/repos/functions/fileutils/parquet_to_dask/function.yaml\n"
     ]
    }
   ],
   "source": [
    "parq2dask.export(func_yaml)"
   ]
  },
  {
   "cell_type": "markdown",
   "metadata": {},
   "source": [
    "**otherwise load it:**"
   ]
  },
  {
   "cell_type": "code",
   "execution_count": 6,
   "metadata": {},
   "outputs": [
    {
     "name": "stdout",
     "output_type": "stream",
     "text": [
      "[mlrun] 2020-01-30 09:38:18,145 starting remote build, image: .mlrun/func-default-function-latest\n"
     ]
    },
    {
     "data": {
      "text/plain": [
       "True"
      ]
     },
     "execution_count": 6,
     "metadata": {},
     "output_type": "execute_result"
    }
   ],
   "source": [
    "parq2dask = mlrun.import_function(func_yaml)\n",
    "\n",
    "parq2dask.apply(mlrun.mount_v3io())\n",
    "\n",
    "parq2dask.deploy() # skip_deployed=True, with_mlrun=False)"
   ]
  },
  {
   "cell_type": "code",
   "execution_count": 7,
   "metadata": {},
   "outputs": [
    {
     "name": "stdout",
     "output_type": "stream",
     "text": [
      "[mlrun] 2020-01-30 09:38:20,399 starting run user-task-parq-to-dask uid=8d780f8755984477975fb16927110af1  -> http://mlrun-api:8080\n",
      "[mlrun] 2020-01-30 09:38:21,436 saving function: function, tag: latest\n",
      "[mlrun] 2020-01-30 09:38:27,297 using remote dask scheduler (mlrun-function-90bd99ce-2) at: 3.133.8.252:30417\n",
      "[mlrun] 2020-01-30 09:38:27,298 remote dashboard (node) port: 3.133.8.252:30164\n"
     ]
    },
    {
     "name": "stderr",
     "output_type": "stream",
     "text": [
      "/conda/lib/python3.6/site-packages/distributed/client.py:1074: VersionMismatchWarning: Mismatched versions found\n",
      "\n",
      "dask\n",
      "+-----------+---------+\n",
      "|           | version |\n",
      "+-----------+---------+\n",
      "| client    | 2.9.2   |\n",
      "| scheduler | 2.10.0  |\n",
      "+-----------+---------+\n",
      "\n",
      "distributed\n",
      "+-----------+---------+\n",
      "|           | version |\n",
      "+-----------+---------+\n",
      "| client    | 2.9.3   |\n",
      "| scheduler | 2.10.0  |\n",
      "+-----------+---------+\n",
      "\n",
      "msgpack\n",
      "+-----------+---------+\n",
      "|           | version |\n",
      "+-----------+---------+\n",
      "| client    | 0.6.2   |\n",
      "| scheduler | 0.6.1   |\n",
      "+-----------+---------+\n",
      "  warnings.warn(version_module.VersionMismatchWarning(msg[0][\"warning\"]))\n"
     ]
    },
    {
     "name": "stdout",
     "output_type": "stream",
     "text": [
      "[mlrun] 2020-01-30 09:38:27,301 found cluster...\n",
      "[mlrun] 2020-01-30 09:38:27,301 <Client: 'tcp://10.233.64.55:8786' processes=0 threads=0, memory=0 B>\n",
      "[mlrun] 2020-01-30 09:38:27,636 log artifact scheduler at /User/mlrun/models/scheduler.json, size: None, db: Y\n",
      "   Year  Month  DayofMonth  DayOfWeek  DepTime  CRSDepTime  ArrTime  \\\n",
      "0  1997      1           7          2   1020.0        1020   1123.0   \n",
      "1  1997      1           8          3   1107.0        1020   1205.0   \n",
      "2  1997      1           9          4   1020.0        1020   1130.0   \n",
      "3  1997      1          10          5   1020.0        1020   1123.0   \n",
      "4  1997      1          12          7   1020.0        1020   1134.0   \n",
      "\n",
      "   CRSArrTime UniqueCarrier  FlightNum  ...  Dest  Distance TaxiIn TaxiOut  \\\n",
      "0        1130            WN       1293  ...   PHX     328.0    2.0     5.0   \n",
      "1        1130            WN       1293  ...   PHX     328.0    3.0     9.0   \n",
      "2        1130            WN       1293  ...   PHX     328.0    3.0     8.0   \n",
      "3        1130            WN       1293  ...   PHX     328.0    2.0     5.0   \n",
      "4        1130            WN       1293  ...   PHX     328.0    2.0     7.0   \n",
      "\n",
      "   Cancelled  CarrierDelay  WeatherDelay  NASDelay  SecurityDelay  \\\n",
      "0          0           NaN           NaN       NaN            NaN   \n",
      "1          0           NaN           NaN       NaN            NaN   \n",
      "2          0           NaN           NaN       NaN            NaN   \n",
      "3          0           NaN           NaN       NaN            NaN   \n",
      "4          0           NaN           NaN       NaN            NaN   \n",
      "\n",
      "   LateAircraftDelay  \n",
      "0                NaN  \n",
      "1                NaN  \n",
      "2                NaN  \n",
      "3                NaN  \n",
      "4                NaN  \n",
      "\n",
      "[5 rows x 23 columns]\n",
      "\n",
      "[mlrun] 2020-01-30 09:38:35,050 run ended with state \n"
     ]
    },
    {
     "data": {
      "text/html": [
       "<style> \n",
       ".dictlist {\n",
       "  background-color: #b3edff; \n",
       "  text-align: center; \n",
       "  margin: 4px; \n",
       "  border-radius: 3px; padding: 0px 3px 1px 3px; display: inline-block;}\n",
       ".artifact {\n",
       "  cursor: pointer; \n",
       "  background-color: #ffe6cc; \n",
       "  text-align: left; \n",
       "  margin: 4px; border-radius: 3px; padding: 0px 3px 1px 3px; display: inline-block;\n",
       "}\n",
       "div.block.hidden {\n",
       "  display: none;\n",
       "}\n",
       ".clickable {\n",
       "  cursor: pointer;\n",
       "}\n",
       ".ellipsis {\n",
       "  display: inline-block;\n",
       "  max-width: 60px;\n",
       "  white-space: nowrap;\n",
       "  overflow: hidden;\n",
       "  text-overflow: ellipsis;\n",
       "}\n",
       ".master-wrapper {\n",
       "  display: flex;\n",
       "  flex-flow: row nowrap;\n",
       "  justify-content: flex-start;\n",
       "  align-items: stretch;\n",
       "}\n",
       ".master-tbl {\n",
       "  flex: 3\n",
       "}\n",
       ".master-wrapper > div {\n",
       "  margin: 4px;\n",
       "  padding: 10px;\n",
       "}\n",
       "iframe.fileview {\n",
       "  border: 0 none;\n",
       "  height: 100%;\n",
       "  width: 100%;\n",
       "  white-space: pre-wrap;\n",
       "}\n",
       ".pane-header-title {\n",
       "  width: 80%;\n",
       "  font-weight: 500;\n",
       "}\n",
       ".pane-header {\n",
       "  line-height: 1;\n",
       "  background-color: #ffe6cc;\n",
       "  padding: 3px;\n",
       "}\n",
       ".pane-header .close {\n",
       "  font-size: 20px;\n",
       "  font-weight: 700;\n",
       "  float: right;\n",
       "  margin-top: -5px;\n",
       "}\n",
       ".master-wrapper .right-pane {\n",
       "  border: 1px inset silver;\n",
       "  width: 40%;\n",
       "  min-height: 300px;\n",
       "  flex: 3\n",
       "  min-width: 500px;\n",
       "}\n",
       ".master-wrapper * {\n",
       "  box-sizing: border-box;\n",
       "}\n",
       "</style><script>\n",
       "function copyToClipboard(fld) {\n",
       "    if (document.queryCommandSupported && document.queryCommandSupported('copy')) {\n",
       "        var textarea = document.createElement('textarea');\n",
       "        textarea.textContent = fld.innerHTML;\n",
       "        textarea.style.position = 'fixed';\n",
       "        document.body.appendChild(textarea);\n",
       "        textarea.select();\n",
       "\n",
       "        try {\n",
       "            return document.execCommand('copy'); // Security exception may be thrown by some browsers.\n",
       "        } catch (ex) {\n",
       "\n",
       "        } finally {\n",
       "            document.body.removeChild(textarea);\n",
       "        }\n",
       "    }\n",
       "}\n",
       "function expandPanel(el) {\n",
       "  const panelName = \"#\" + el.getAttribute('paneName');\n",
       "  console.log(el.title);\n",
       "\n",
       "  document.querySelector(panelName + \"-title\").innerHTML = el.title\n",
       "  iframe = document.querySelector(panelName + \"-body\");\n",
       "  \n",
       "  const tblcss = `<style> body { font-family: Arial, Helvetica, sans-serif;}\n",
       "    #csv { margin-bottom: 15px; }\n",
       "    #csv table { border-collapse: collapse;}\n",
       "    #csv table td { padding: 4px 8px; border: 1px solid silver;} </style>`;\n",
       "\n",
       "  function csvToHtmlTable(str) {\n",
       "    return '<div id=\"csv\"><table><tr><td>' +  str.replace(/[\\n\\r]+$/g, '').replace(/[\\n\\r]+/g, '</td></tr><tr><td>')\n",
       "      .replace(/,/g, '</td><td>') + '</td></tr></table></div>';\n",
       "  }\n",
       "  \n",
       "  function reqListener () {\n",
       "    if (el.title.endsWith(\".csv\")) {\n",
       "      iframe.setAttribute(\"srcdoc\", tblcss + csvToHtmlTable(this.responseText));\n",
       "    } else {\n",
       "      iframe.setAttribute(\"srcdoc\", this.responseText);\n",
       "    }  \n",
       "    console.log(this.responseText);\n",
       "  }\n",
       "\n",
       "  const oReq = new XMLHttpRequest();\n",
       "  oReq.addEventListener(\"load\", reqListener);\n",
       "  oReq.open(\"GET\", el.title);\n",
       "  oReq.send();\n",
       "  \n",
       "  \n",
       "  //iframe.src = el.title;\n",
       "  const resultPane = document.querySelector(panelName + \"-pane\");\n",
       "  if (resultPane.classList.contains(\"hidden\")) {\n",
       "    resultPane.classList.remove(\"hidden\");\n",
       "  }\n",
       "}\n",
       "function closePanel(el) {\n",
       "  const panelName = \"#\" + el.getAttribute('paneName')\n",
       "  const resultPane = document.querySelector(panelName + \"-pane\");\n",
       "  if (!resultPane.classList.contains(\"hidden\")) {\n",
       "    resultPane.classList.add(\"hidden\");\n",
       "  }\n",
       "}\n",
       "\n",
       "</script>\n",
       "<div class=\"master-wrapper\">\n",
       "  <div class=\"block master-tbl\"><div>\n",
       "<style scoped>\n",
       "    .dataframe tbody tr th:only-of-type {\n",
       "        vertical-align: middle;\n",
       "    }\n",
       "\n",
       "    .dataframe tbody tr th {\n",
       "        vertical-align: top;\n",
       "    }\n",
       "\n",
       "    .dataframe thead th {\n",
       "        text-align: right;\n",
       "    }\n",
       "</style>\n",
       "<table border=\"1\" class=\"dataframe\">\n",
       "  <thead>\n",
       "    <tr style=\"text-align: right;\">\n",
       "      <th>uid</th>\n",
       "      <th>iter</th>\n",
       "      <th>start</th>\n",
       "      <th>state</th>\n",
       "      <th>name</th>\n",
       "      <th>labels</th>\n",
       "      <th>inputs</th>\n",
       "      <th>parameters</th>\n",
       "      <th>results</th>\n",
       "      <th>artifacts</th>\n",
       "    </tr>\n",
       "  </thead>\n",
       "  <tbody>\n",
       "    <tr>\n",
       "      <td><div title=\"8d780f8755984477975fb16927110af1\">...110af1</div></td>\n",
       "      <td>0</td>\n",
       "      <td>Jan 30 09:38:21</td>\n",
       "      <td>completed</td>\n",
       "      <td>user-task-parq-to-dask</td>\n",
       "      <td><div class=\"dictlist\">kind=dask</div><div class=\"dictlist\">owner=admin</div><div class=\"dictlist\">host=jupyter-1-6ccccd5fdf-mz2ld</div></td>\n",
       "      <td></td>\n",
       "      <td><div class=\"dictlist\">parquet_url=/User/mlrun/airlines/dataset-small/partitions</div><div class=\"dictlist\">index_cols=['Year', 'Month']</div><div class=\"dictlist\">shards=4</div><div class=\"dictlist\">threads_per=4</div><div class=\"dictlist\">persist=True</div><div class=\"dictlist\">dask_key=testdf1</div><div class=\"dictlist\">target_path=/User/mlrun/models</div></td>\n",
       "      <td></td>\n",
       "      <td><div class=\"artifact\" onclick=\"expandPanel(this)\" paneName=\"result345166fc\" title=\"/files/mlrun/models/scheduler.json\">scheduler</div></td>\n",
       "    </tr>\n",
       "  </tbody>\n",
       "</table>\n",
       "</div></div>\n",
       "  <div id=\"result345166fc-pane\" class=\"right-pane block hidden\">\n",
       "    <div class=\"pane-header\">\n",
       "      <span id=\"result345166fc-title\" class=\"pane-header-title\">Title</span>\n",
       "      <span onclick=\"closePanel(this)\" paneName=\"result345166fc\" class=\"close clickable\">&times;</span>\n",
       "    </div>\n",
       "    <iframe class=\"fileview\" id=\"result345166fc-body\"></iframe>\n",
       "  </div>\n",
       "</div>\n"
      ],
      "text/plain": [
       "<IPython.core.display.HTML object>"
      ]
     },
     "metadata": {},
     "output_type": "display_data"
    },
    {
     "name": "stdout",
     "output_type": "stream",
     "text": [
      "to track results use .show() or .logs() or in CLI: \n",
      "!mlrun get run 8d780f8755984477975fb16927110af1  , !mlrun logs 8d780f8755984477975fb16927110af1 \n",
      "[mlrun] 2020-01-30 09:38:35,085 run executed, status=completed\n"
     ]
    }
   ],
   "source": [
    "# create and run the task\n",
    "parq_to_dask_task = mlrun.NewTask(\n",
    "    TASK_NAME, \n",
    "    handler=FUNCTION,  \n",
    "    params={\n",
    "        'parquet_url': SRC_PATH,\n",
    "        'index_cols' : PARTITION_COLS,\n",
    "        'shards'     : DASK_SHARDS,\n",
    "        'threads_per': DASK_THREADS_PER,\n",
    "        'persist'    : True,\n",
    "        'dask_key'   : 'testdf1',\n",
    "        'target_path': '/User/mlrun/models'})\n",
    "# run\n",
    "rn = parq2dask.run(parq_to_dask_task)"
   ]
  },
  {
   "cell_type": "code",
   "execution_count": 9,
   "metadata": {},
   "outputs": [
    {
     "data": {
      "text/plain": [
       "'/User/mlrun/models/scheduler.json'"
      ]
     },
     "execution_count": 9,
     "metadata": {},
     "output_type": "execute_result"
    }
   ],
   "source": [
    "rn.outputs['scheduler']"
   ]
  },
  {
   "cell_type": "markdown",
   "metadata": {},
   "source": [
    "#### What's the scheduler address?"
   ]
  },
  {
   "cell_type": "code",
   "execution_count": 10,
   "metadata": {},
   "outputs": [
    {
     "data": {
      "text/plain": [
       "{'type': 'Scheduler',\n",
       " 'id': 'Scheduler-e216939d-7eaf-4946-98dc-29a0b571b1e2',\n",
       " 'address': 'tcp://10.233.64.55:8786',\n",
       " 'services': {},\n",
       " 'workers': {}}"
      ]
     },
     "execution_count": 10,
     "metadata": {},
     "output_type": "execute_result"
    }
   ],
   "source": [
    "import json\n",
    "json.load(open(rn.outputs['scheduler']))"
   ]
  },
  {
   "cell_type": "markdown",
   "metadata": {},
   "source": [
    "### create a component 'on the fly' to summarise the table\n",
    "\n",
    "The nice thing about having a dask clkuster loaded with all you rdata is that you can write _quick and dirty_ jobs either in your notebook, a local file, or a gihub repo."
   ]
  },
  {
   "cell_type": "code",
   "execution_count": 11,
   "metadata": {},
   "outputs": [
    {
     "name": "stdout",
     "output_type": "stream",
     "text": [
      "[mlrun] 2020-01-30 09:38:53,769 function spec saved to path: /User/repos/functions/tests/describe.yaml\n",
      "[mlrun] 2020-01-30 09:38:53,822 starting run user-task-my-sum uid=5a52e1a6009647848d71dd211b741ee8  -> http://mlrun-api:8080\n",
      "[mlrun] 2020-01-30 09:38:53,905 Job is running in the background, pod: user-task-my-sum-k5nsk\n",
      "[mlrun] 2020-01-30 09:39:04,332 log artifact table-summary at /User/mlrun/models/table-summary.csv, size: None, db: Y\n",
      "\n",
      "[mlrun] 2020-01-30 09:39:04,347 run executed, status=completed\n",
      "final state: succeeded\n"
     ]
    },
    {
     "data": {
      "text/html": [
       "<style> \n",
       ".dictlist {\n",
       "  background-color: #b3edff; \n",
       "  text-align: center; \n",
       "  margin: 4px; \n",
       "  border-radius: 3px; padding: 0px 3px 1px 3px; display: inline-block;}\n",
       ".artifact {\n",
       "  cursor: pointer; \n",
       "  background-color: #ffe6cc; \n",
       "  text-align: left; \n",
       "  margin: 4px; border-radius: 3px; padding: 0px 3px 1px 3px; display: inline-block;\n",
       "}\n",
       "div.block.hidden {\n",
       "  display: none;\n",
       "}\n",
       ".clickable {\n",
       "  cursor: pointer;\n",
       "}\n",
       ".ellipsis {\n",
       "  display: inline-block;\n",
       "  max-width: 60px;\n",
       "  white-space: nowrap;\n",
       "  overflow: hidden;\n",
       "  text-overflow: ellipsis;\n",
       "}\n",
       ".master-wrapper {\n",
       "  display: flex;\n",
       "  flex-flow: row nowrap;\n",
       "  justify-content: flex-start;\n",
       "  align-items: stretch;\n",
       "}\n",
       ".master-tbl {\n",
       "  flex: 3\n",
       "}\n",
       ".master-wrapper > div {\n",
       "  margin: 4px;\n",
       "  padding: 10px;\n",
       "}\n",
       "iframe.fileview {\n",
       "  border: 0 none;\n",
       "  height: 100%;\n",
       "  width: 100%;\n",
       "  white-space: pre-wrap;\n",
       "}\n",
       ".pane-header-title {\n",
       "  width: 80%;\n",
       "  font-weight: 500;\n",
       "}\n",
       ".pane-header {\n",
       "  line-height: 1;\n",
       "  background-color: #ffe6cc;\n",
       "  padding: 3px;\n",
       "}\n",
       ".pane-header .close {\n",
       "  font-size: 20px;\n",
       "  font-weight: 700;\n",
       "  float: right;\n",
       "  margin-top: -5px;\n",
       "}\n",
       ".master-wrapper .right-pane {\n",
       "  border: 1px inset silver;\n",
       "  width: 40%;\n",
       "  min-height: 300px;\n",
       "  flex: 3\n",
       "  min-width: 500px;\n",
       "}\n",
       ".master-wrapper * {\n",
       "  box-sizing: border-box;\n",
       "}\n",
       "</style><script>\n",
       "function copyToClipboard(fld) {\n",
       "    if (document.queryCommandSupported && document.queryCommandSupported('copy')) {\n",
       "        var textarea = document.createElement('textarea');\n",
       "        textarea.textContent = fld.innerHTML;\n",
       "        textarea.style.position = 'fixed';\n",
       "        document.body.appendChild(textarea);\n",
       "        textarea.select();\n",
       "\n",
       "        try {\n",
       "            return document.execCommand('copy'); // Security exception may be thrown by some browsers.\n",
       "        } catch (ex) {\n",
       "\n",
       "        } finally {\n",
       "            document.body.removeChild(textarea);\n",
       "        }\n",
       "    }\n",
       "}\n",
       "function expandPanel(el) {\n",
       "  const panelName = \"#\" + el.getAttribute('paneName');\n",
       "  console.log(el.title);\n",
       "\n",
       "  document.querySelector(panelName + \"-title\").innerHTML = el.title\n",
       "  iframe = document.querySelector(panelName + \"-body\");\n",
       "  \n",
       "  const tblcss = `<style> body { font-family: Arial, Helvetica, sans-serif;}\n",
       "    #csv { margin-bottom: 15px; }\n",
       "    #csv table { border-collapse: collapse;}\n",
       "    #csv table td { padding: 4px 8px; border: 1px solid silver;} </style>`;\n",
       "\n",
       "  function csvToHtmlTable(str) {\n",
       "    return '<div id=\"csv\"><table><tr><td>' +  str.replace(/[\\n\\r]+$/g, '').replace(/[\\n\\r]+/g, '</td></tr><tr><td>')\n",
       "      .replace(/,/g, '</td><td>') + '</td></tr></table></div>';\n",
       "  }\n",
       "  \n",
       "  function reqListener () {\n",
       "    if (el.title.endsWith(\".csv\")) {\n",
       "      iframe.setAttribute(\"srcdoc\", tblcss + csvToHtmlTable(this.responseText));\n",
       "    } else {\n",
       "      iframe.setAttribute(\"srcdoc\", this.responseText);\n",
       "    }  \n",
       "    console.log(this.responseText);\n",
       "  }\n",
       "\n",
       "  const oReq = new XMLHttpRequest();\n",
       "  oReq.addEventListener(\"load\", reqListener);\n",
       "  oReq.open(\"GET\", el.title);\n",
       "  oReq.send();\n",
       "  \n",
       "  \n",
       "  //iframe.src = el.title;\n",
       "  const resultPane = document.querySelector(panelName + \"-pane\");\n",
       "  if (resultPane.classList.contains(\"hidden\")) {\n",
       "    resultPane.classList.remove(\"hidden\");\n",
       "  }\n",
       "}\n",
       "function closePanel(el) {\n",
       "  const panelName = \"#\" + el.getAttribute('paneName')\n",
       "  const resultPane = document.querySelector(panelName + \"-pane\");\n",
       "  if (!resultPane.classList.contains(\"hidden\")) {\n",
       "    resultPane.classList.add(\"hidden\");\n",
       "  }\n",
       "}\n",
       "\n",
       "</script>\n",
       "<div class=\"master-wrapper\">\n",
       "  <div class=\"block master-tbl\"><div>\n",
       "<style scoped>\n",
       "    .dataframe tbody tr th:only-of-type {\n",
       "        vertical-align: middle;\n",
       "    }\n",
       "\n",
       "    .dataframe tbody tr th {\n",
       "        vertical-align: top;\n",
       "    }\n",
       "\n",
       "    .dataframe thead th {\n",
       "        text-align: right;\n",
       "    }\n",
       "</style>\n",
       "<table border=\"1\" class=\"dataframe\">\n",
       "  <thead>\n",
       "    <tr style=\"text-align: right;\">\n",
       "      <th>uid</th>\n",
       "      <th>iter</th>\n",
       "      <th>start</th>\n",
       "      <th>state</th>\n",
       "      <th>name</th>\n",
       "      <th>labels</th>\n",
       "      <th>inputs</th>\n",
       "      <th>parameters</th>\n",
       "      <th>results</th>\n",
       "      <th>artifacts</th>\n",
       "    </tr>\n",
       "  </thead>\n",
       "  <tbody>\n",
       "    <tr>\n",
       "      <td><div title=\"5a52e1a6009647848d71dd211b741ee8\">...741ee8</div></td>\n",
       "      <td>0</td>\n",
       "      <td>Jan 30 09:39:02</td>\n",
       "      <td>completed</td>\n",
       "      <td>describe</td>\n",
       "      <td><div class=\"dictlist\">host=user-task-my-sum-k5nsk</div><div class=\"dictlist\">kind=job</div><div class=\"dictlist\">owner=admin</div></td>\n",
       "      <td></td>\n",
       "      <td><div class=\"dictlist\">dask_client=/User/mlrun/models/scheduler.json</div><div class=\"dictlist\">dask_key=testdf1</div><div class=\"dictlist\">key=table-summary</div><div class=\"dictlist\">name=table-summary.csv</div><div class=\"dictlist\">target_path=/User/mlrun/models</div></td>\n",
       "      <td></td>\n",
       "      <td><div class=\"artifact\" onclick=\"expandPanel(this)\" paneName=\"result093c7fad\" title=\"/files/mlrun/models/table-summary.csv\">table-summary</div></td>\n",
       "    </tr>\n",
       "  </tbody>\n",
       "</table>\n",
       "</div></div>\n",
       "  <div id=\"result093c7fad-pane\" class=\"right-pane block hidden\">\n",
       "    <div class=\"pane-header\">\n",
       "      <span id=\"result093c7fad-title\" class=\"pane-header-title\">Title</span>\n",
       "      <span onclick=\"closePanel(this)\" paneName=\"result093c7fad\" class=\"close clickable\">&times;</span>\n",
       "    </div>\n",
       "    <iframe class=\"fileview\" id=\"result093c7fad-body\"></iframe>\n",
       "  </div>\n",
       "</div>\n"
      ],
      "text/plain": [
       "<IPython.core.display.HTML object>"
      ]
     },
     "metadata": {},
     "output_type": "display_data"
    },
    {
     "name": "stdout",
     "output_type": "stream",
     "text": [
      "to track results use .show() or .logs() or in CLI: \n",
      "!mlrun get run 5a52e1a6009647848d71dd211b741ee8  , !mlrun logs 5a52e1a6009647848d71dd211b741ee8 \n",
      "[mlrun] 2020-01-30 09:39:13,120 run executed, status=completed\n"
     ]
    },
    {
     "data": {
      "text/plain": [
       "{'table-summary': '/User/mlrun/models/table-summary.csv'}"
      ]
     },
     "execution_count": 11,
     "metadata": {},
     "output_type": "execute_result"
    }
   ],
   "source": [
    "# write up function in local directory\n",
    "summ = mlrun.new_function(command='https://raw.githubusercontent.com/yjb-ds/functions/lgbm-serving/tests/describe.py', \n",
    "                          kind='job')\n",
    "# specify a base image\n",
    "summ.spec.build.base_image = BASE_IMAGE\n",
    "\n",
    "# (optional) export it as yaml\n",
    "summ.export('/User/repos/functions/tests/describe.yaml')\n",
    "\n",
    "# mount it on iguazio data fabric\n",
    "summ.apply(mlrun.mount_v3io())\n",
    "\n",
    "# deploy the function\n",
    "summ.deploy(skip_deployed=True, with_mlrun=False)\n",
    "\n",
    "# create the task\n",
    "summ_task = mlrun.NewTask(\n",
    "    'user-task-my-sum', \n",
    "    handler='table_summary',  \n",
    "    params={\n",
    "        'dask_key'   : 'testdf1',\n",
    "        'dask_client': rn.outputs['scheduler'],\n",
    "        'target_path': '/User/mlrun/models',\n",
    "        'name'       : 'table-summary.csv',\n",
    "        'key'        : 'table-summary'})\n",
    "\n",
    "# run\n",
    "rn2 = summ.run(summ_task)\n",
    "\n",
    "rn2.outputs"
   ]
  },
  {
   "cell_type": "markdown",
   "metadata": {},
   "source": [
    "## our cluster"
   ]
  },
  {
   "cell_type": "code",
   "execution_count": 17,
   "metadata": {},
   "outputs": [],
   "source": [
    "from dask.distributed import Client, LocalCluster\n",
    "\n",
    "client = Client(scheduler_file='/User/mlrun/models/scheduler.json') # Client(scheduler_file=rn.outputs['scheduler'])"
   ]
  },
  {
   "cell_type": "code",
   "execution_count": 18,
   "metadata": {},
   "outputs": [],
   "source": [
    "df = client.get_dataset('dask_key')"
   ]
  },
  {
   "cell_type": "code",
   "execution_count": 19,
   "metadata": {},
   "outputs": [
    {
     "data": {
      "text/plain": [
       "175912"
      ]
     },
     "execution_count": 19,
     "metadata": {},
     "output_type": "execute_result"
    }
   ],
   "source": [
    "df.shape[0].compute()"
   ]
  },
  {
   "cell_type": "code",
   "execution_count": 23,
   "metadata": {},
   "outputs": [
    {
     "data": {
      "text/plain": [
       "{\"('read-parquet-d8c9ad5a8e529c3979516dc1ad71970c', 7)\": 2912128,\n",
       " \"('read-parquet-d8c9ad5a8e529c3979516dc1ad71970c', 6)\": 1159726,\n",
       " \"('read-parquet-d8c9ad5a8e529c3979516dc1ad71970c', 19)\": 2912128,\n",
       " \"('read-parquet-d8c9ad5a8e529c3979516dc1ad71970c', 14)\": 2912128,\n",
       " \"('read-parquet-d8c9ad5a8e529c3979516dc1ad71970c', 16)\": 2912128,\n",
       " \"('read-parquet-d8c9ad5a8e529c3979516dc1ad71970c', 8)\": 2912128,\n",
       " \"('read-parquet-d8c9ad5a8e529c3979516dc1ad71970c', 9)\": 2912128,\n",
       " \"('read-parquet-d8c9ad5a8e529c3979516dc1ad71970c', 11)\": 2912128,\n",
       " \"('read-parquet-d8c9ad5a8e529c3979516dc1ad71970c', 3)\": 2912128,\n",
       " \"('read-parquet-d8c9ad5a8e529c3979516dc1ad71970c', 5)\": 2912128,\n",
       " \"('read-parquet-d8c9ad5a8e529c3979516dc1ad71970c', 15)\": 1159726,\n",
       " \"('read-parquet-d8c9ad5a8e529c3979516dc1ad71970c', 0)\": 2912128,\n",
       " \"('read-parquet-d8c9ad5a8e529c3979516dc1ad71970c', 1)\": 1159726,\n",
       " \"('read-parquet-d8c9ad5a8e529c3979516dc1ad71970c', 12)\": 2912128,\n",
       " \"('read-parquet-d8c9ad5a8e529c3979516dc1ad71970c', 4)\": 2912128,\n",
       " \"('read-parquet-d8c9ad5a8e529c3979516dc1ad71970c', 18)\": 2912128,\n",
       " \"('read-parquet-d8c9ad5a8e529c3979516dc1ad71970c', 10)\": 2912128,\n",
       " \"('read-parquet-d8c9ad5a8e529c3979516dc1ad71970c', 2)\": 2912128,\n",
       " \"('read-parquet-d8c9ad5a8e529c3979516dc1ad71970c', 17)\": 1159726,\n",
       " \"('read-parquet-d8c9ad5a8e529c3979516dc1ad71970c', 13)\": 2912128}"
      ]
     },
     "execution_count": 23,
     "metadata": {},
     "output_type": "execute_result"
    }
   ],
   "source": [
    "client.nbytes(summary=False)"
   ]
  },
  {
   "cell_type": "code",
   "execution_count": 24,
   "metadata": {},
   "outputs": [
    {
     "data": {
      "text/plain": [
       "{'tcp://10.233.64.56:38718': 1,\n",
       " 'tcp://10.233.64.57:36325': 1,\n",
       " 'tcp://10.233.64.58:38383': 1,\n",
       " 'tcp://10.233.64.59:44139': 1}"
      ]
     },
     "execution_count": 24,
     "metadata": {},
     "output_type": "execute_result"
    }
   ],
   "source": [
    "client.ncores()"
   ]
  },
  {
   "cell_type": "code",
   "execution_count": 26,
   "metadata": {},
   "outputs": [
    {
     "data": {
      "text/plain": [
       "{'tcp://10.233.64.56:38718': 1,\n",
       " 'tcp://10.233.64.57:36325': 1,\n",
       " 'tcp://10.233.64.58:38383': 1,\n",
       " 'tcp://10.233.64.59:44139': 1}"
      ]
     },
     "execution_count": 26,
     "metadata": {},
     "output_type": "execute_result"
    }
   ],
   "source": [
    "client.nthreads()"
   ]
  },
  {
   "cell_type": "code",
   "execution_count": 27,
   "metadata": {},
   "outputs": [
    {
     "data": {
      "text/plain": [
       "{'tcp://10.233.64.56:38718': (),\n",
       " 'tcp://10.233.64.57:36325': (),\n",
       " 'tcp://10.233.64.58:38383': (),\n",
       " 'tcp://10.233.64.59:44139': ()}"
      ]
     },
     "execution_count": 27,
     "metadata": {},
     "output_type": "execute_result"
    },
    {
     "name": "stderr",
     "output_type": "stream",
     "text": [
      "distributed.client - ERROR - Failed to reconnect to scheduler after 3.00 seconds, closing client\n",
      "distributed.client - ERROR - Failed to reconnect to scheduler after 3.00 seconds, closing client\n",
      "distributed.utils - ERROR - \n",
      "Traceback (most recent call last):\n",
      "  File \"/conda/lib/python3.6/site-packages/distributed/utils.py\", line 662, in log_errors\n",
      "    yield\n",
      "  File \"/conda/lib/python3.6/site-packages/distributed/client.py\", line 1311, in _close\n",
      "    await gen.with_timeout(timedelta(seconds=2), list(coroutines))\n",
      "  File \"/conda/lib/python3.6/asyncio/tasks.py\", line 250, in _wakeup\n",
      "    future.result()\n",
      "concurrent.futures._base.CancelledError\n",
      "distributed.utils - ERROR - \n",
      "Traceback (most recent call last):\n",
      "  File \"/conda/lib/python3.6/site-packages/distributed/utils.py\", line 662, in log_errors\n",
      "    yield\n",
      "  File \"/conda/lib/python3.6/site-packages/distributed/client.py\", line 1025, in _reconnect\n",
      "    await self._close()\n",
      "  File \"/conda/lib/python3.6/site-packages/distributed/client.py\", line 1311, in _close\n",
      "    await gen.with_timeout(timedelta(seconds=2), list(coroutines))\n",
      "  File \"/conda/lib/python3.6/asyncio/tasks.py\", line 250, in _wakeup\n",
      "    future.result()\n",
      "concurrent.futures._base.CancelledError\n",
      "distributed.utils - ERROR - \n",
      "Traceback (most recent call last):\n",
      "  File \"/conda/lib/python3.6/site-packages/distributed/utils.py\", line 662, in log_errors\n",
      "    yield\n",
      "  File \"/conda/lib/python3.6/site-packages/distributed/client.py\", line 1311, in _close\n",
      "    await gen.with_timeout(timedelta(seconds=2), list(coroutines))\n",
      "  File \"/conda/lib/python3.6/asyncio/tasks.py\", line 250, in _wakeup\n",
      "    future.result()\n",
      "concurrent.futures._base.CancelledError\n",
      "distributed.utils - ERROR - \n",
      "Traceback (most recent call last):\n",
      "  File \"/conda/lib/python3.6/site-packages/distributed/utils.py\", line 662, in log_errors\n",
      "    yield\n",
      "  File \"/conda/lib/python3.6/site-packages/distributed/client.py\", line 1025, in _reconnect\n",
      "    await self._close()\n",
      "  File \"/conda/lib/python3.6/site-packages/distributed/client.py\", line 1311, in _close\n",
      "    await gen.with_timeout(timedelta(seconds=2), list(coroutines))\n",
      "  File \"/conda/lib/python3.6/asyncio/tasks.py\", line 250, in _wakeup\n",
      "    future.result()\n",
      "concurrent.futures._base.CancelledError\n",
      "distributed.client - ERROR - Failed to reconnect to scheduler after 10.00 seconds, closing client\n",
      "distributed.client - ERROR - Failed to reconnect to scheduler after 10.00 seconds, closing client\n",
      "distributed.client - ERROR - Failed to reconnect to scheduler after 10.00 seconds, closing client\n",
      "distributed.utils - ERROR - \n",
      "Traceback (most recent call last):\n",
      "  File \"/conda/lib/python3.6/site-packages/distributed/utils.py\", line 662, in log_errors\n",
      "    yield\n",
      "  File \"/conda/lib/python3.6/site-packages/distributed/client.py\", line 1311, in _close\n",
      "    await gen.with_timeout(timedelta(seconds=2), list(coroutines))\n",
      "  File \"/conda/lib/python3.6/asyncio/tasks.py\", line 250, in _wakeup\n",
      "    future.result()\n",
      "concurrent.futures._base.CancelledError\n",
      "distributed.utils - ERROR - \n",
      "Traceback (most recent call last):\n",
      "  File \"/conda/lib/python3.6/site-packages/distributed/utils.py\", line 662, in log_errors\n",
      "    yield\n",
      "  File \"/conda/lib/python3.6/site-packages/distributed/client.py\", line 1311, in _close\n",
      "    await gen.with_timeout(timedelta(seconds=2), list(coroutines))\n",
      "  File \"/conda/lib/python3.6/asyncio/tasks.py\", line 250, in _wakeup\n",
      "    future.result()\n",
      "concurrent.futures._base.CancelledError\n",
      "distributed.utils - ERROR - \n",
      "Traceback (most recent call last):\n",
      "  File \"/conda/lib/python3.6/site-packages/distributed/utils.py\", line 662, in log_errors\n",
      "    yield\n",
      "  File \"/conda/lib/python3.6/site-packages/distributed/client.py\", line 1025, in _reconnect\n",
      "    await self._close()\n",
      "  File \"/conda/lib/python3.6/site-packages/distributed/client.py\", line 1311, in _close\n",
      "    await gen.with_timeout(timedelta(seconds=2), list(coroutines))\n",
      "  File \"/conda/lib/python3.6/asyncio/tasks.py\", line 250, in _wakeup\n",
      "    future.result()\n",
      "concurrent.futures._base.CancelledError\n",
      "distributed.utils - ERROR - \n",
      "Traceback (most recent call last):\n",
      "  File \"/conda/lib/python3.6/site-packages/distributed/utils.py\", line 662, in log_errors\n",
      "    yield\n",
      "  File \"/conda/lib/python3.6/site-packages/distributed/client.py\", line 1025, in _reconnect\n",
      "    await self._close()\n",
      "  File \"/conda/lib/python3.6/site-packages/distributed/client.py\", line 1311, in _close\n",
      "    await gen.with_timeout(timedelta(seconds=2), list(coroutines))\n",
      "  File \"/conda/lib/python3.6/asyncio/tasks.py\", line 250, in _wakeup\n",
      "    future.result()\n",
      "concurrent.futures._base.CancelledError\n",
      "distributed.utils - ERROR - \n",
      "Traceback (most recent call last):\n",
      "  File \"/conda/lib/python3.6/site-packages/distributed/utils.py\", line 662, in log_errors\n",
      "    yield\n",
      "  File \"/conda/lib/python3.6/site-packages/distributed/client.py\", line 1311, in _close\n",
      "    await gen.with_timeout(timedelta(seconds=2), list(coroutines))\n",
      "  File \"/conda/lib/python3.6/asyncio/tasks.py\", line 250, in _wakeup\n",
      "    future.result()\n",
      "concurrent.futures._base.CancelledError\n",
      "distributed.utils - ERROR - \n",
      "Traceback (most recent call last):\n",
      "  File \"/conda/lib/python3.6/site-packages/distributed/utils.py\", line 662, in log_errors\n",
      "    yield\n",
      "  File \"/conda/lib/python3.6/site-packages/distributed/client.py\", line 1025, in _reconnect\n",
      "    await self._close()\n",
      "  File \"/conda/lib/python3.6/site-packages/distributed/client.py\", line 1311, in _close\n",
      "    await gen.with_timeout(timedelta(seconds=2), list(coroutines))\n",
      "  File \"/conda/lib/python3.6/asyncio/tasks.py\", line 250, in _wakeup\n",
      "    future.result()\n",
      "concurrent.futures._base.CancelledError\n"
     ]
    }
   ],
   "source": [
    "client.processing()"
   ]
  },
  {
   "cell_type": "markdown",
   "metadata": {},
   "source": [
    "____\n",
    "\n",
    "# tests"
   ]
  },
  {
   "cell_type": "code",
   "execution_count": 20,
   "metadata": {},
   "outputs": [],
   "source": [
    "import numpy as np\n",
    "import pandas as pd\n",
    "import pyarrow as pa\n",
    "import pyarrow.parquet as pq"
   ]
  },
  {
   "cell_type": "code",
   "execution_count": null,
   "metadata": {},
   "outputs": [],
   "source": [
    "import dask\n",
    "import dask.dataframe as dd"
   ]
  },
  {
   "cell_type": "code",
   "execution_count": null,
   "metadata": {},
   "outputs": [],
   "source": [
    "dataset = pq.ParquetDataset(os.path.join(SRC_PATH))\n",
    "df = dataset.read().to_pandas()\n",
    "\n",
    "\n",
    "ddf = dd.read_parquet(SRC_PATH) #+'/*.parquet')"
   ]
  },
  {
   "cell_type": "code",
   "execution_count": null,
   "metadata": {},
   "outputs": [],
   "source": [
    "ddf = ddf.persist()"
   ]
  },
  {
   "cell_type": "code",
   "execution_count": null,
   "metadata": {},
   "outputs": [],
   "source": [
    "ddf.head()"
   ]
  },
  {
   "cell_type": "code",
   "execution_count": null,
   "metadata": {},
   "outputs": [],
   "source": [
    "ddf.shape[0].compute()"
   ]
  },
  {
   "cell_type": "code",
   "execution_count": null,
   "metadata": {},
   "outputs": [],
   "source": []
  }
 ],
 "metadata": {
  "kernelspec": {
   "display_name": "Python 3",
   "language": "python",
   "name": "python3"
  },
  "language_info": {
   "codemirror_mode": {
    "name": "ipython",
    "version": 3
   },
   "file_extension": ".py",
   "mimetype": "text/x-python",
   "name": "python",
   "nbconvert_exporter": "python",
   "pygments_lexer": "ipython3",
   "version": "3.6.8"
  }
 },
 "nbformat": 4,
 "nbformat_minor": 4
}
