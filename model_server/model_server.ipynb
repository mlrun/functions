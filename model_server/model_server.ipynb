{
 "cells": [
  {
   "cell_type": "markdown",
   "metadata": {},
   "source": [
    "# Model Server"
   ]
  },
  {
   "cell_type": "code",
   "execution_count": null,
   "metadata": {},
   "outputs": [],
   "source": [
    "#!python -m pip install v3io"
   ]
  },
  {
   "cell_type": "code",
   "execution_count": 1,
   "metadata": {},
   "outputs": [],
   "source": [
    "# nuclio: ignore\n",
    "import nuclio"
   ]
  },
  {
   "cell_type": "code",
   "execution_count": 2,
   "metadata": {},
   "outputs": [],
   "source": [
    "%nuclio config kind=\"nuclio:serving\"\n",
    "%nuclio env MODEL_CLASS=ClassifierModel"
   ]
  },
  {
   "cell_type": "code",
   "execution_count": 3,
   "metadata": {},
   "outputs": [
    {
     "name": "stdout",
     "output_type": "stream",
     "text": [
      "%nuclio: setting spec.build.baseImage to 'mlrun/ml-serving:0.4.7-py37'\n"
     ]
    }
   ],
   "source": [
    "%nuclio config spec.build.baseImage = \"mlrun/ml-serving:0.4.7-py37\""
   ]
  },
  {
   "cell_type": "code",
   "execution_count": 4,
   "metadata": {},
   "outputs": [],
   "source": [
    "%%nuclio cmd -c\n",
    "python -m pip install v3io"
   ]
  },
  {
   "cell_type": "code",
   "execution_count": 5,
   "metadata": {},
   "outputs": [],
   "source": [
    "import os\n",
    "from cloudpickle import load\n",
    "import kfserving\n",
    "import numpy as np\n",
    "from typing import List\n",
    "from datetime import datetime"
   ]
  },
  {
   "cell_type": "code",
   "execution_count": 6,
   "metadata": {},
   "outputs": [],
   "source": [
    "import json\n",
    "import socket\n",
    "import v3io.dataplane\n",
    "\n",
    "v3io_client = v3io.dataplane.Client()\n",
    "hostname = None\n",
    "\n",
    "def split_path(mntpath=''):\n",
    "    if mntpath[0] == '/':\n",
    "        mntpath = mntpath[1:]\n",
    "    paths = mntpath.split('/')\n",
    "    container = paths[0]\n",
    "    subpath = ''\n",
    "    if len(paths) > 1:\n",
    "        subpath = mntpath[len(container):]\n",
    "    return container, subpath\n",
    " \n",
    "\n",
    "def init_stream(stream_path, shards=1):\n",
    "    global hostname\n",
    "    hostname = socket.gethostname()\n",
    "    container, stream_path = split_path(stream_path)\n",
    "    response = v3io_client.create_stream(container=container,\n",
    "                                         path=stream_path, \n",
    "                                         shard_count=shards,\n",
    "                                         raise_for_status=v3io.dataplane.RaiseForStatus.never)\n",
    "    response.raise_for_status([409, 204])\n",
    "    print(response.__dict__)\n",
    "    \n",
    "def push_to_stream(stream_path, data):\n",
    "    records = [{'data': json.dumps(rec)} for rec in data]\n",
    "    container, stream_path = split_path(stream_path)\n",
    "    response = v3io_client.put_records(container=container,\n",
    "                                       path=stream_path, \n",
    "                                       records=records)\n",
    "    \n",
    "    #for response_record in response.output.records:\n",
    "    #    print(response_record.__dict__)"
   ]
  },
  {
   "cell_type": "code",
   "execution_count": 7,
   "metadata": {},
   "outputs": [],
   "source": [
    "class ClassifierModel(kfserving.KFModel):\n",
    "    def __init__(self, name: str, model_dir: str, classifier = None):\n",
    "        super().__init__(name)\n",
    "        self.model_dir = model_dir\n",
    "        #self.log_stream = os.environ.get('INFERENCE_STREAM', '')\n",
    "        #if self.log_stream:\n",
    "        #    init_stream(self.log_stream)\n",
    "        if classifier:\n",
    "            self.classifier = classifier\n",
    "            self.ready = True\n",
    "\n",
    "    def load(self):\n",
    "        \"\"\"Load model from KubeFlow storage.\n",
    "        \"\"\"\n",
    "        if self.model_dir.endswith('.pkl'):\n",
    "            model_file = self.model_dir\n",
    "        else:\n",
    "            for file in os.path.listdir(self.model_dir):\n",
    "                if file.endswith('.pkl'):\n",
    "                    model_file = os.pth.join(self.model_dir, file)\n",
    "                    break\n",
    "        self.classifier = load(open(model_file, 'rb'))\n",
    "        self.ready = True\n",
    "\n",
    "    def predict(self, body: dict) -> List:\n",
    "        \"\"\"Generate model predictions from sample.\n",
    "        \n",
    "        :param body : A dict of observations, each of which is an 1-dimensional feature vector.\n",
    "            \n",
    "        Returns model predictions as a `List`, one for each row in the `body` input `List`.\n",
    "        \"\"\"\n",
    "        start = datetime.now()\n",
    "        try:\n",
    "            feats = np.asarray(body['instances'])\n",
    "            result: np.ndarray = self.classifier.predict(feats)\n",
    "            resp = result.tolist()\n",
    "        except Exception as e:\n",
    "            raise Exception(f\"Failed to predict {e}\")\n",
    "        \n",
    "#         if self.log_stream:\n",
    "#             data = {'request': body, 'resp': resp, \n",
    "#                     'class': 'ClassifierModel', \n",
    "#                     'model': self.name,\n",
    "#                     'host': hostname,\n",
    "#                     'when': str(start), \n",
    "#                     'microsec': (datetime.now()-start).microseconds}\n",
    "#             push_to_stream(self.log_stream, [data])\n",
    "\n",
    "        return resp"
   ]
  },
  {
   "cell_type": "code",
   "execution_count": 8,
   "metadata": {},
   "outputs": [],
   "source": [
    "# nuclio: end-code"
   ]
  },
  {
   "cell_type": "markdown",
   "metadata": {},
   "source": [
    "# save and deploy"
   ]
  },
  {
   "cell_type": "code",
   "execution_count": 9,
   "metadata": {},
   "outputs": [
    {
     "name": "stdout",
     "output_type": "stream",
     "text": [
      "[mlrun] 2020-04-29 23:46:28,161 saving function: iris-adaboostclassifier, tag: latest\n",
      "[mlrun] 2020-04-29 23:46:28,192 function spec saved to path: function.yaml\n",
      "[mlrun] 2020-04-29 23:46:28,193 deploy started\n",
      "[nuclio] 2020-04-29 23:46:28,266 (info) Building processor image\n",
      "[nuclio] 2020-04-29 23:46:31,296 (info) Build complete\n",
      "[nuclio] 2020-04-29 23:47:33,844 (error) Failed to deploy. Details:\n",
      "[repeated 6 times] [E 200429 23:47:29 logger:95] Exception raised while running init_context\n",
      "Exception raised while running init_context [worker_id=\"0\"]\n",
      "[E 200429 23:47:29 logger:95] Exception raised while running init_context\n",
      "[repeated 4 times] [E 200429 23:47:29 logger:107] Caught unhandled exception while initializing\n",
      "Caught unhandled exception while initializing [err=\"Request failed with status 404: b'{\n",
      "\t\"ErrorCode\": -16777233,\n",
      "\t\"ErrorMessage\": \"Container not found\"\n",
      "}'\" || traceback=\"Traceback (most recent call last):\n",
      "  File \"/opt/nuclio/_nuclio_wrapper.py\", line 283, in run_wrapper\n",
      "    wrapper_instance = Wrapper(root_logger,\n",
      "  File \"/opt/nuclio/_nuclio_wrapper.py\", line 72, in __init__\n",
      "    getattr(entrypoint_module, 'init_context')(self._context)\n",
      "  File \"/opt/nuclio/model_server.py\", line 100, in init_context\n",
      "    nuclio_init_hook(context, globals(), 'serving')\n",
      "  File \"/mlrun-git/mlrun/runtimes/nuclio.py\", line 27, in nuclio_init_hook\n",
      "    nuclio_serving_init(context, data)\n",
      "  File \"/mlrun-git/mlrun/runtimes/serving.py\", line 82, in nuclio_serving_init\n",
      "    models = {name: fhandler(name=name, model_dir=path) for name, path in\n",
      "  File \"/mlrun-git/mlrun/runtimes/serving.py\", line 82, in <dictcomp>\n",
      "    models = {name: fhandler(name=name, model_dir=path) for name, path in\n",
      "  File \"/opt/nuclio/model_server.py\", line 53, in __init__\n",
      "    init_stream(self.log_stream)\n",
      "  File \"/opt/nuclio/model_server.py\", line 36, in init_stream\n",
      "    response.raise_for_status([409, 204])\n",
      "  File \"/usr/local/lib/python3.8/site-packages/v3io/dataplane/response.py\", line 33, in raise_for_status\n",
      "    raise RuntimeError('Request failed with status {0}: {1}'.format(self.status_code, self.body))\n",
      "RuntimeError: Request failed with status 404: b'{\n",
      "\t\"ErrorCode\": -16777233,\n",
      "\t\"ErrorMessage\": \"Container not found\"\n",
      "}'\n",
      "\" || worker_id=\"0\"]\n",
      "[repeated 3 times] [E 200429 23:47:29 logger:107] Caught unhandled exception while initializing\n",
      "[E 200429 23:47:29 logger:95] Exception raised while running init_context\n",
      "[E 200429 23:47:29 logger:107] Caught unhandled exception while initializing\n"
     ]
    },
    {
     "ename": "DeployError",
     "evalue": "cannot deploy ",
     "output_type": "error",
     "traceback": [
      "\u001b[0;31m---------------------------------------------------------------------------\u001b[0m",
      "\u001b[0;31mDeployError\u001b[0m                               Traceback (most recent call last)",
      "\u001b[0;32m<ipython-input-9-beceec293696>\u001b[0m in \u001b[0;36m<module>\u001b[0;34m\u001b[0m\n\u001b[1;32m     20\u001b[0m         fn.set_envs({f\"SERVING_MODEL_iris_{model}\": mlconf.artifact_path + f\"/sklearn_classifier/models/{model}.pkl\",\n\u001b[1;32m     21\u001b[0m                      'INFERENCE_STREAM': '/User/admin/tststream'})\n\u001b[0;32m---> 22\u001b[0;31m         \u001b[0mfn\u001b[0m\u001b[0;34m.\u001b[0m\u001b[0mdeploy\u001b[0m\u001b[0;34m(\u001b[0m\u001b[0mproject\u001b[0m\u001b[0;34m=\u001b[0m\u001b[0;34m'sklearn-servers'\u001b[0m\u001b[0;34m)\u001b[0m\u001b[0;34m\u001b[0m\u001b[0;34m\u001b[0m\u001b[0m\n\u001b[0m",
      "\u001b[0;32m~/.pythonlibs/jupyter/lib/python3.6/site-packages/mlrun/runtimes/function.py\u001b[0m in \u001b[0;36mdeploy\u001b[0;34m(self, dashboard, project, tag, kind)\u001b[0m\n\u001b[1;32m    227\u001b[0m                 \u001b[0mconfig\u001b[0m\u001b[0;34m,\u001b[0m \u001b[0mdashboard\u001b[0m\u001b[0;34m,\u001b[0m \u001b[0mname\u001b[0m\u001b[0;34m=\u001b[0m\u001b[0mself\u001b[0m\u001b[0;34m.\u001b[0m\u001b[0mmetadata\u001b[0m\u001b[0;34m.\u001b[0m\u001b[0mname\u001b[0m\u001b[0;34m,\u001b[0m\u001b[0;34m\u001b[0m\u001b[0;34m\u001b[0m\u001b[0m\n\u001b[1;32m    228\u001b[0m                 \u001b[0mproject\u001b[0m\u001b[0;34m=\u001b[0m\u001b[0mproject\u001b[0m\u001b[0;34m,\u001b[0m \u001b[0mtag\u001b[0m\u001b[0;34m=\u001b[0m\u001b[0mtag\u001b[0m\u001b[0;34m,\u001b[0m \u001b[0mverbose\u001b[0m\u001b[0;34m=\u001b[0m\u001b[0mself\u001b[0m\u001b[0;34m.\u001b[0m\u001b[0mverbose\u001b[0m\u001b[0;34m,\u001b[0m\u001b[0;34m\u001b[0m\u001b[0;34m\u001b[0m\u001b[0m\n\u001b[0;32m--> 229\u001b[0;31m                 create_new=True)\n\u001b[0m\u001b[1;32m    230\u001b[0m         \u001b[0;32melse\u001b[0m\u001b[0;34m:\u001b[0m\u001b[0;34m\u001b[0m\u001b[0;34m\u001b[0m\u001b[0m\n\u001b[1;32m    231\u001b[0m \u001b[0;34m\u001b[0m\u001b[0m\n",
      "\u001b[0;32m~/.pythonlibs/jupyter/lib/python3.6/site-packages/nuclio/deploy.py\u001b[0m in \u001b[0;36mdeploy_config\u001b[0;34m(config, dashboard_url, name, project, tag, verbose, create_new)\u001b[0m\n\u001b[1;32m    257\u001b[0m     \u001b[0;32mif\u001b[0m \u001b[0mstate\u001b[0m \u001b[0;34m!=\u001b[0m \u001b[0;34m'ready'\u001b[0m\u001b[0;34m:\u001b[0m\u001b[0;34m\u001b[0m\u001b[0;34m\u001b[0m\u001b[0m\n\u001b[1;32m    258\u001b[0m         \u001b[0mlog\u001b[0m\u001b[0;34m(\u001b[0m\u001b[0;34m'ERROR: {}'\u001b[0m\u001b[0;34m.\u001b[0m\u001b[0mformat\u001b[0m\u001b[0;34m(\u001b[0m\u001b[0mresp\u001b[0m\u001b[0;34m.\u001b[0m\u001b[0mtext\u001b[0m\u001b[0;34m)\u001b[0m\u001b[0;34m)\u001b[0m\u001b[0;34m\u001b[0m\u001b[0;34m\u001b[0m\u001b[0m\n\u001b[0;32m--> 259\u001b[0;31m         \u001b[0;32mraise\u001b[0m \u001b[0mDeployError\u001b[0m\u001b[0;34m(\u001b[0m\u001b[0;34m'cannot deploy '\u001b[0m \u001b[0;34m+\u001b[0m \u001b[0mresp\u001b[0m\u001b[0;34m.\u001b[0m\u001b[0mtext\u001b[0m\u001b[0;34m)\u001b[0m\u001b[0;34m\u001b[0m\u001b[0;34m\u001b[0m\u001b[0m\n\u001b[0m\u001b[1;32m    260\u001b[0m \u001b[0;34m\u001b[0m\u001b[0m\n\u001b[1;32m    261\u001b[0m     \u001b[0mlogger\u001b[0m\u001b[0;34m.\u001b[0m\u001b[0minfo\u001b[0m\u001b[0;34m(\u001b[0m\u001b[0;34m'done %s %s, function address: %s'\u001b[0m\u001b[0;34m,\u001b[0m \u001b[0mverb\u001b[0m\u001b[0;34m,\u001b[0m \u001b[0mname\u001b[0m\u001b[0;34m,\u001b[0m \u001b[0maddress\u001b[0m\u001b[0;34m)\u001b[0m\u001b[0;34m\u001b[0m\u001b[0;34m\u001b[0m\u001b[0m\n",
      "\u001b[0;31mDeployError\u001b[0m: cannot deploy "
     ]
    }
   ],
   "source": [
    "from mlrun import new_model_server\n",
    "from mlrun import mount_v3io, mlconf\n",
    "import os\n",
    "\n",
    "# there will be 3 models from sklearn-pipe ... let's assume that the models \n",
    "# are stored at this location and that we want to serve all 3 (for whatever reason)\n",
    "# ot sure how to manage the new inference stream in this scenario\n",
    "\n",
    "for model in os.listdir(mlconf.artifact_path + '/sklearn_classifier/models'):\n",
    "    if model.endswith(\"pkl\"):\n",
    "        model = model.split('.')[-2]\n",
    "        fn = new_model_server(f'iris-{model}', model_class='ClassifierModel')\n",
    "        fn.spec.description = f\"generic sklearn {model} model server\"\n",
    "        fn.metadata.categories = ['serving', 'models', f'{model}']\n",
    "        fn.metadata.labels = {'author': 'yaronh'}\n",
    "        fn.save()\n",
    "        #print(fn.to_yaml())\n",
    "        fn.export(f\"{model}/function.yaml\")\n",
    "        fn.apply(mount_v3io())\n",
    "        fn.set_envs({f\"SERVING_MODEL_iris_{model}\": mlconf.artifact_path + f\"/sklearn_classifier/models/{model}.pkl\",\n",
    "                     'INFERENCE_STREAM': '/User/admin/tststream'})\n",
    "        fn.deploy(project='sklearn-servers')"
   ]
  }
 ],
 "metadata": {
  "kernelspec": {
   "display_name": "Python 3",
   "language": "python",
   "name": "python3"
  },
  "language_info": {
   "codemirror_mode": {
    "name": "ipython",
    "version": 3
   },
   "file_extension": ".py",
   "mimetype": "text/x-python",
   "name": "python",
   "nbconvert_exporter": "python",
   "pygments_lexer": "ipython3",
   "version": "3.6.8"
  }
 },
 "nbformat": 4,
 "nbformat_minor": 4
}
