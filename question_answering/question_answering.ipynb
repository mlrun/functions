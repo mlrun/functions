{
 "cells": [
  {
   "cell_type": "markdown",
   "id": "4373ac8a-dc8a-40de-96cf-c69e6b419fb4",
   "metadata": {},
   "source": [
    "# Question Answering Tutorial"
   ]
  },
  {
   "cell_type": "code",
   "execution_count": 1,
   "id": "fde64c0e-f5f7-486f-a696-928e29a74781",
   "metadata": {},
   "outputs": [],
   "source": [
    "import os\n",
    "import mlrun"
   ]
  },
  {
   "cell_type": "markdown",
   "id": "caddf60f-0715-434b-b181-2524983bd49f",
   "metadata": {},
   "source": [
    "## Import function from hub\n",
    "To import function from hub replace `function.yaml` with `hub://question-answering`"
   ]
  },
  {
   "cell_type": "code",
   "execution_count": 2,
   "id": "f10177f7-6061-4a45-bd9d-2a5b3f761da1",
   "metadata": {},
   "outputs": [],
   "source": [
    "qa_function = mlrun.import_function(\"function.yaml\")"
   ]
  },
  {
   "cell_type": "markdown",
   "id": "99d1df44-e6ed-454a-bc66-e4a8b378cbee",
   "metadata": {},
   "source": [
    "## Write data file"
   ]
  },
  {
   "cell_type": "code",
   "execution_count": 3,
   "id": "67154fbd-fd62-46ba-9f2e-191123e8baf5",
   "metadata": {},
   "outputs": [],
   "source": [
    "os.makedirs(\"data\", exist_ok=True)"
   ]
  },
  {
   "cell_type": "code",
   "execution_count": 4,
   "id": "fc2f477e-c1f5-4a3e-8b73-98577104d903",
   "metadata": {},
   "outputs": [
    {
     "name": "stdout",
     "output_type": "stream",
     "text": [
      "Overwriting data/test-data.txt\n"
     ]
    }
   ],
   "source": [
    "%%writefile data/test-data.txt\n",
    "The apple color is red."
   ]
  },
  {
   "cell_type": "markdown",
   "id": "fefe93b5-1b39-4c02-8437-9f08192a9d83",
   "metadata": {},
   "source": [
    "## Runnig question answering"
   ]
  },
  {
   "cell_type": "code",
   "execution_count": 7,
   "id": "bedf235b-6020-4ee6-8ec0-0464bd8a8363",
   "metadata": {},
   "outputs": [
    {
     "name": "stdout",
     "output_type": "stream",
     "text": [
      "> 2023-08-13 11:31:10,580 [info] Storing function: {'name': 'question-answering-answer-questions', 'uid': '13fda961ca544460a48aa8df2f1249b8', 'db': 'http://mlrun-api:8080'}\n",
      "> 2023-08-13 11:31:10,696 [info] Creating prompt template\n",
      "> 2023-08-13 11:31:10,696 [info] Prompt template created:\n",
      "\n",
      "Given the following sentence:\n",
      "-----\n",
      "{}\n",
      "-----\n",
      "Answer the questions:\n",
      "1. What is the color of the apple?\n",
      "\n",
      "Answer:\n",
      "1. \n",
      "\n",
      "> 2023-08-13 11:31:10,699 [info] Loading tokenizer: gpt2\n",
      "> 2023-08-13 11:31:10,875 [info] Tokenizer loaded\n",
      "> 2023-08-13 11:31:10,875 [info] Loading generation configuration\n",
      "> 2023-08-13 11:31:10,876 [info] Generation configuration loaded.\n",
      "> 2023-08-13 11:31:10,876 [info] Loading model 'gpt2' and tokenizer into a pipeline\n",
      "> 2023-08-13 11:31:12,542 [info] Model loaded, pipeline created\n"
     ]
    },
    {
     "data": {
      "application/vnd.jupyter.widget-view+json": {
       "model_id": "0e2d83b5cdfc4468a2dd6631e9490765",
       "version_major": 2,
       "version_minor": 0
      },
      "text/plain": [
       "Generating answers:   0%|          | 0/1 [00:00<?, ?file/s]"
      ]
     },
     "metadata": {},
     "output_type": "display_data"
    },
    {
     "name": "stderr",
     "output_type": "stream",
     "text": [
      "Setting `pad_token_id` to `eos_token_id`:50256 for open-end generation.\n",
      "Setting `pad_token_id` to `eos_token_id`:50256 for open-end generation.\n"
     ]
    },
    {
     "data": {
      "text/html": [
       "<style>\n",
       ".dictlist {\n",
       "  background-color: #4EC64B;\n",
       "  text-align: center;\n",
       "  margin: 4px;\n",
       "  border-radius: 3px; padding: 0px 3px 1px 3px; display: inline-block;}\n",
       ".artifact {\n",
       "  cursor: pointer;\n",
       "  background-color: #4EC64B;\n",
       "  text-align: left;\n",
       "  margin: 4px; border-radius: 3px; padding: 0px 3px 1px 3px; display: inline-block;\n",
       "}\n",
       "div.block.hidden {\n",
       "  display: none;\n",
       "}\n",
       ".clickable {\n",
       "  cursor: pointer;\n",
       "}\n",
       ".ellipsis {\n",
       "  display: inline-block;\n",
       "  max-width: 60px;\n",
       "  white-space: nowrap;\n",
       "  overflow: hidden;\n",
       "  text-overflow: ellipsis;\n",
       "}\n",
       ".master-wrapper {\n",
       "  display: flex;\n",
       "  flex-flow: row nowrap;\n",
       "  justify-content: flex-start;\n",
       "  align-items: stretch;\n",
       "}\n",
       ".master-tbl {\n",
       "  flex: 3\n",
       "}\n",
       ".master-wrapper > div {\n",
       "  margin: 4px;\n",
       "  padding: 10px;\n",
       "}\n",
       "iframe.fileview {\n",
       "  border: 0 none;\n",
       "  height: 100%;\n",
       "  width: 100%;\n",
       "  white-space: pre-wrap;\n",
       "}\n",
       ".pane-header-title {\n",
       "  width: 80%;\n",
       "  font-weight: 500;\n",
       "}\n",
       ".pane-header {\n",
       "  line-height: 1;\n",
       "  background-color: #4EC64B;\n",
       "  padding: 3px;\n",
       "}\n",
       ".pane-header .close {\n",
       "  font-size: 20px;\n",
       "  font-weight: 700;\n",
       "  float: right;\n",
       "  margin-top: -5px;\n",
       "}\n",
       ".master-wrapper .right-pane {\n",
       "  border: 1px inset silver;\n",
       "  width: 40%;\n",
       "  min-height: 300px;\n",
       "  flex: 3\n",
       "  min-width: 500px;\n",
       "}\n",
       ".master-wrapper * {\n",
       "  box-sizing: border-box;\n",
       "}\n",
       "</style><script>\n",
       "function copyToClipboard(fld) {\n",
       "    if (document.queryCommandSupported && document.queryCommandSupported('copy')) {\n",
       "        var textarea = document.createElement('textarea');\n",
       "        textarea.textContent = fld.innerHTML;\n",
       "        textarea.style.position = 'fixed';\n",
       "        document.body.appendChild(textarea);\n",
       "        textarea.select();\n",
       "\n",
       "        try {\n",
       "            return document.execCommand('copy'); // Security exception may be thrown by some browsers.\n",
       "        } catch (ex) {\n",
       "\n",
       "        } finally {\n",
       "            document.body.removeChild(textarea);\n",
       "        }\n",
       "    }\n",
       "}\n",
       "function expandPanel(el) {\n",
       "  const panelName = \"#\" + el.getAttribute('paneName');\n",
       "  console.log(el.title);\n",
       "\n",
       "  document.querySelector(panelName + \"-title\").innerHTML = el.title\n",
       "  iframe = document.querySelector(panelName + \"-body\");\n",
       "\n",
       "  const tblcss = `<style> body { font-family: Arial, Helvetica, sans-serif;}\n",
       "    #csv { margin-bottom: 15px; }\n",
       "    #csv table { border-collapse: collapse;}\n",
       "    #csv table td { padding: 4px 8px; border: 1px solid silver;} </style>`;\n",
       "\n",
       "  function csvToHtmlTable(str) {\n",
       "    return '<div id=\"csv\"><table><tr><td>' +  str.replace(/[\\n\\r]+$/g, '').replace(/[\\n\\r]+/g, '</td></tr><tr><td>')\n",
       "      .replace(/,/g, '</td><td>') + '</td></tr></table></div>';\n",
       "  }\n",
       "\n",
       "  function reqListener () {\n",
       "    if (el.title.endsWith(\".csv\")) {\n",
       "      iframe.setAttribute(\"srcdoc\", tblcss + csvToHtmlTable(this.responseText));\n",
       "    } else {\n",
       "      iframe.setAttribute(\"srcdoc\", this.responseText);\n",
       "    }\n",
       "    console.log(this.responseText);\n",
       "  }\n",
       "\n",
       "  const oReq = new XMLHttpRequest();\n",
       "  oReq.addEventListener(\"load\", reqListener);\n",
       "  oReq.open(\"GET\", el.title);\n",
       "  oReq.send();\n",
       "\n",
       "\n",
       "  //iframe.src = el.title;\n",
       "  const resultPane = document.querySelector(panelName + \"-pane\");\n",
       "  if (resultPane.classList.contains(\"hidden\")) {\n",
       "    resultPane.classList.remove(\"hidden\");\n",
       "  }\n",
       "}\n",
       "function closePanel(el) {\n",
       "  const panelName = \"#\" + el.getAttribute('paneName')\n",
       "  const resultPane = document.querySelector(panelName + \"-pane\");\n",
       "  if (!resultPane.classList.contains(\"hidden\")) {\n",
       "    resultPane.classList.add(\"hidden\");\n",
       "  }\n",
       "}\n",
       "\n",
       "</script>\n",
       "<div class=\"master-wrapper\">\n",
       "  <div class=\"block master-tbl\"><div>\n",
       "<style scoped>\n",
       "    .dataframe tbody tr th:only-of-type {\n",
       "        vertical-align: middle;\n",
       "    }\n",
       "\n",
       "    .dataframe tbody tr th {\n",
       "        vertical-align: top;\n",
       "    }\n",
       "\n",
       "    .dataframe thead th {\n",
       "        text-align: right;\n",
       "    }\n",
       "</style>\n",
       "<table border=\"1\" class=\"dataframe\">\n",
       "  <thead>\n",
       "    <tr style=\"text-align: right;\">\n",
       "      <th>project</th>\n",
       "      <th>uid</th>\n",
       "      <th>iter</th>\n",
       "      <th>start</th>\n",
       "      <th>state</th>\n",
       "      <th>name</th>\n",
       "      <th>labels</th>\n",
       "      <th>inputs</th>\n",
       "      <th>parameters</th>\n",
       "      <th>results</th>\n",
       "      <th>artifacts</th>\n",
       "    </tr>\n",
       "  </thead>\n",
       "  <tbody>\n",
       "    <tr>\n",
       "      <td>default</td>\n",
       "      <td><div title=\"13fda961ca544460a48aa8df2f1249b8\"><a href=\"https://dashboard.default-tenant.app.llm2.iguazio-cd0.com/mlprojects/default/jobs/monitor/13fda961ca544460a48aa8df2f1249b8/overview\" target=\"_blank\" >...2f1249b8</a></div></td>\n",
       "      <td>0</td>\n",
       "      <td>Aug 13 11:31:10</td>\n",
       "      <td>completed</td>\n",
       "      <td>question-answering-answer-questions</td>\n",
       "      <td><div class=\"dictlist\">v3io_user=yonis</div><div class=\"dictlist\">kind=</div><div class=\"dictlist\">owner=yonis</div><div class=\"dictlist\">host=jupyter-yoni-67b54c579f-fhq2n</div></td>\n",
       "      <td></td>\n",
       "      <td><div class=\"dictlist\">model=gpt2</div><div class=\"dictlist\">text_wrapper=Given the following sentence:\\n-----\\n{}\\n-----</div><div class=\"dictlist\">questions=['What is the color of the apple?']</div><div class=\"dictlist\">questions_columns=['color']</div><div class=\"dictlist\">generation_config={'do_sample': True, 'temperature': 0.8, 'top_p': 0.9, 'early_stopping': True, 'max_new_tokens': 20}</div><div class=\"dictlist\">text_files_directory=data</div></td>\n",
       "      <td><div class=\"dictlist\">question_answering_errors={}</div></td>\n",
       "      <td><div title=\"v3io:///projects/default/artifacts/question-answering-answer-questions/0/question_answering_df.parquet\">question_answering_df</div></td>\n",
       "    </tr>\n",
       "  </tbody>\n",
       "</table>\n",
       "</div></div>\n",
       "  <div id=\"resultbe5a190d-pane\" class=\"right-pane block hidden\">\n",
       "    <div class=\"pane-header\">\n",
       "      <span id=\"resultbe5a190d-title\" class=\"pane-header-title\">Title</span>\n",
       "      <span onclick=\"closePanel(this)\" paneName=\"resultbe5a190d\" class=\"close clickable\">&times;</span>\n",
       "    </div>\n",
       "    <iframe class=\"fileview\" id=\"resultbe5a190d-body\"></iframe>\n",
       "  </div>\n",
       "</div>\n"
      ],
      "text/plain": [
       "<IPython.core.display.HTML object>"
      ]
     },
     "metadata": {},
     "output_type": "display_data"
    },
    {
     "name": "stdout",
     "output_type": "stream",
     "text": [
      "\n"
     ]
    },
    {
     "data": {
      "text/html": [
       "<b> > to track results use the .show() or .logs() methods  or <a href=\"https://dashboard.default-tenant.app.llm2.iguazio-cd0.com/mlprojects/default/jobs/monitor/13fda961ca544460a48aa8df2f1249b8/overview\" target=\"_blank\">click here</a> to open in UI</b>"
      ],
      "text/plain": [
       "<IPython.core.display.HTML object>"
      ]
     },
     "metadata": {},
     "output_type": "display_data"
    },
    {
     "name": "stdout",
     "output_type": "stream",
     "text": [
      "> 2023-08-13 11:31:13,407 [info] Run execution finished: {'status': 'completed', 'name': 'question-answering-answer-questions'}\n"
     ]
    }
   ],
   "source": [
    "qa_run = qa_function.run(\n",
    "        handler=\"answer_questions\",\n",
    "        params={\n",
    "            \"model\": \"gpt2\",\n",
    "            \"text_wrapper\": (\n",
    "                \"Given the following sentence:\\n\"\n",
    "                \"-----\\n\"\n",
    "                \"{}\\n\"\n",
    "                \"-----\"\n",
    "            ),\n",
    "            \"questions\": [\n",
    "                \"What is the color of the apple?\",\n",
    "            ],\n",
    "            \"questions_columns\": [\n",
    "                \"color\",\n",
    "            ],\n",
    "            \"generation_config\": {\n",
    "                \"do_sample\": True,\n",
    "                \"temperature\": 0.8,\n",
    "                \"top_p\": 0.9,\n",
    "                \"early_stopping\": True,\n",
    "                \"max_new_tokens\": 20,\n",
    "            },\n",
    "            \"text_files_directory\": \"data\",\n",
    "        },\n",
    "        returns=[\n",
    "            \"question_answering_df: dataset\",\n",
    "            \"question_answering_errors: result\",\n",
    "        ],\n",
    "        local=True,\n",
    ")"
   ]
  },
  {
   "cell_type": "markdown",
   "id": "6ef1ed96-422c-41d4-a113-3dc3269345f7",
   "metadata": {},
   "source": [
    "## See the results\n",
    "For better results need to use a better LLM, this notebook is just for showing how to use this function"
   ]
  },
  {
   "cell_type": "code",
   "execution_count": 8,
   "id": "37c367bf-cf36-4c55-86de-a8974a6d0ae2",
   "metadata": {},
   "outputs": [
    {
     "data": {
      "text/html": [
       "<div>\n",
       "<style scoped>\n",
       "    .dataframe tbody tr th:only-of-type {\n",
       "        vertical-align: middle;\n",
       "    }\n",
       "\n",
       "    .dataframe tbody tr th {\n",
       "        vertical-align: top;\n",
       "    }\n",
       "\n",
       "    .dataframe thead th {\n",
       "        text-align: right;\n",
       "    }\n",
       "</style>\n",
       "<table border=\"1\" class=\"dataframe\">\n",
       "  <thead>\n",
       "    <tr style=\"text-align: right;\">\n",
       "      <th></th>\n",
       "      <th>text_file</th>\n",
       "      <th>color</th>\n",
       "    </tr>\n",
       "  </thead>\n",
       "  <tbody>\n",
       "  </tbody>\n",
       "</table>\n",
       "</div>"
      ],
      "text/plain": [
       "Empty DataFrame\n",
       "Columns: [text_file, color]\n",
       "Index: []"
      ]
     },
     "execution_count": 8,
     "metadata": {},
     "output_type": "execute_result"
    }
   ],
   "source": [
    "qa_run.artifact(\"question_answering_df\").as_df()"
   ]
  },
  {
   "cell_type": "code",
   "execution_count": null,
   "id": "a63e01b9-c081-4c75-b420-58a895eb53f8",
   "metadata": {},
   "outputs": [],
   "source": []
  }
 ],
 "metadata": {
  "kernelspec": {
   "display_name": "mlrun-base",
   "language": "python",
   "name": "conda-env-mlrun-base-py"
  },
  "language_info": {
   "codemirror_mode": {
    "name": "ipython",
    "version": 3
   },
   "file_extension": ".py",
   "mimetype": "text/x-python",
   "name": "python",
   "nbconvert_exporter": "python",
   "pygments_lexer": "ipython3",
   "version": "3.9.16"
  }
 },
 "nbformat": 4,
 "nbformat_minor": 5
}
