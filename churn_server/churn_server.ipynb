{
 "cells": [
  {
   "cell_type": "markdown",
   "metadata": {
    "pycharm": {
     "name": "#%% md\n"
    }
   },
   "source": [
    "# **Churn Server**\n"
   ]
  },
  {
   "cell_type": "markdown",
   "metadata": {},
   "source": [
    "<a id=\"deploy\"></a>\n",
    "### Deploy our serving class using as a serverless function\n",
    "in the following section we create a new model serving function which wraps our class , and specify model and other resources."
   ]
  },
  {
   "cell_type": "code",
   "execution_count": 1,
   "metadata": {},
   "outputs": [],
   "source": [
    "import mlrun\n",
    "import pandas as pd\n",
    "import os"
   ]
  },
  {
   "cell_type": "code",
   "execution_count": 2,
   "metadata": {},
   "outputs": [
    {
     "name": "stdout",
     "output_type": "stream",
     "text": [
      "> 2021-10-12 07:29:57,497 [info] loaded project function-marketplace from MLRun DB\n"
     ]
    },
    {
     "data": {
      "text/plain": [
       "('function-marketplace', 'v3io:///projects/{{run.project}}/artifacts')"
      ]
     },
     "execution_count": 2,
     "metadata": {},
     "output_type": "execute_result"
    }
   ],
   "source": [
    "# setting environment \n",
    "mlrun.set_environment(project='function-marketplace')"
   ]
  },
  {
   "cell_type": "code",
   "execution_count": 3,
   "metadata": {},
   "outputs": [
    {
     "name": "stdout",
     "output_type": "stream",
     "text": [
      "File ‘/User/functions/churn_server/models/xgb_model.pkl’ already there; not retrieving.\n",
      "\n"
     ]
    }
   ],
   "source": [
    "# Stored artifacts path (S3)\n",
    "data_path = 'https://s3.wasabisys.com/iguazio/data/churn/test_set.csv'\n",
    "model_url = 'https://s3.wasabisys.com/iguazio/models/churn/xgb_model.pkl'\n",
    "model_path = os.getcwd() + '/models'\n",
    "\n",
    "# Downloading the model\n",
    "! wget -nc -P {model_path} {model_url}"
   ]
  },
  {
   "cell_type": "code",
   "execution_count": 4,
   "metadata": {},
   "outputs": [
    {
     "data": {
      "text/plain": [
       "<mlrun.serving.states.TaskStep at 0x7f559bdabb90>"
      ]
     },
     "execution_count": 4,
     "metadata": {},
     "output_type": "execute_result"
    }
   ],
   "source": [
    "# importing the function from the function marketplace\n",
    "fn = mlrun.import_function(\"hub://churn_server\").apply(mlrun.auto_mount())\n",
    "fn.spec.build.commands = ['pip install lifelines==0.22.8', 'pip install xgboost==1.3.1']\n",
    "\n",
    "# Adding the model \n",
    "fn.add_model(key='xgb_model', model_path=model_path ,class_name='ChurnModel')"
   ]
  },
  {
   "cell_type": "code",
   "execution_count": 5,
   "metadata": {},
   "outputs": [
    {
     "data": {
      "text/html": [
       "<div>\n",
       "<style scoped>\n",
       "    .dataframe tbody tr th:only-of-type {\n",
       "        vertical-align: middle;\n",
       "    }\n",
       "\n",
       "    .dataframe tbody tr th {\n",
       "        vertical-align: top;\n",
       "    }\n",
       "\n",
       "    .dataframe thead th {\n",
       "        text-align: right;\n",
       "    }\n",
       "</style>\n",
       "<table border=\"1\" class=\"dataframe\">\n",
       "  <thead>\n",
       "    <tr style=\"text-align: right;\">\n",
       "      <th></th>\n",
       "      <th>gender</th>\n",
       "      <th>senior</th>\n",
       "      <th>partner</th>\n",
       "      <th>deps</th>\n",
       "      <th>tenure</th>\n",
       "      <th>PhoneService</th>\n",
       "      <th>MultipleLines</th>\n",
       "      <th>OnlineSecurity</th>\n",
       "      <th>OnlineBackup</th>\n",
       "      <th>DeviceProtection</th>\n",
       "      <th>...</th>\n",
       "      <th>PaperlessBilling</th>\n",
       "      <th>MonthlyCharges</th>\n",
       "      <th>tenure_map</th>\n",
       "      <th>ISP_1</th>\n",
       "      <th>ISP_2</th>\n",
       "      <th>Contract_1</th>\n",
       "      <th>Contract_2</th>\n",
       "      <th>Payment_1</th>\n",
       "      <th>Payment_2</th>\n",
       "      <th>Payment_3</th>\n",
       "    </tr>\n",
       "  </thead>\n",
       "  <tbody>\n",
       "    <tr>\n",
       "      <th>0</th>\n",
       "      <td>0</td>\n",
       "      <td>0</td>\n",
       "      <td>1</td>\n",
       "      <td>0</td>\n",
       "      <td>27</td>\n",
       "      <td>1</td>\n",
       "      <td>0</td>\n",
       "      <td>1</td>\n",
       "      <td>0</td>\n",
       "      <td>0</td>\n",
       "      <td>...</td>\n",
       "      <td>1</td>\n",
       "      <td>101.90</td>\n",
       "      <td>2.0</td>\n",
       "      <td>1</td>\n",
       "      <td>0</td>\n",
       "      <td>1</td>\n",
       "      <td>0</td>\n",
       "      <td>1</td>\n",
       "      <td>0</td>\n",
       "      <td>0</td>\n",
       "    </tr>\n",
       "    <tr>\n",
       "      <th>1</th>\n",
       "      <td>0</td>\n",
       "      <td>1</td>\n",
       "      <td>0</td>\n",
       "      <td>0</td>\n",
       "      <td>1</td>\n",
       "      <td>1</td>\n",
       "      <td>1</td>\n",
       "      <td>0</td>\n",
       "      <td>0</td>\n",
       "      <td>0</td>\n",
       "      <td>...</td>\n",
       "      <td>1</td>\n",
       "      <td>85.70</td>\n",
       "      <td>0.0</td>\n",
       "      <td>1</td>\n",
       "      <td>0</td>\n",
       "      <td>0</td>\n",
       "      <td>0</td>\n",
       "      <td>0</td>\n",
       "      <td>1</td>\n",
       "      <td>0</td>\n",
       "    </tr>\n",
       "    <tr>\n",
       "      <th>2</th>\n",
       "      <td>1</td>\n",
       "      <td>0</td>\n",
       "      <td>0</td>\n",
       "      <td>0</td>\n",
       "      <td>1</td>\n",
       "      <td>1</td>\n",
       "      <td>0</td>\n",
       "      <td>0</td>\n",
       "      <td>0</td>\n",
       "      <td>0</td>\n",
       "      <td>...</td>\n",
       "      <td>1</td>\n",
       "      <td>69.55</td>\n",
       "      <td>0.0</td>\n",
       "      <td>1</td>\n",
       "      <td>0</td>\n",
       "      <td>0</td>\n",
       "      <td>0</td>\n",
       "      <td>0</td>\n",
       "      <td>1</td>\n",
       "      <td>0</td>\n",
       "    </tr>\n",
       "    <tr>\n",
       "      <th>3</th>\n",
       "      <td>0</td>\n",
       "      <td>0</td>\n",
       "      <td>0</td>\n",
       "      <td>0</td>\n",
       "      <td>53</td>\n",
       "      <td>1</td>\n",
       "      <td>1</td>\n",
       "      <td>0</td>\n",
       "      <td>1</td>\n",
       "      <td>1</td>\n",
       "      <td>...</td>\n",
       "      <td>0</td>\n",
       "      <td>105.55</td>\n",
       "      <td>4.0</td>\n",
       "      <td>1</td>\n",
       "      <td>0</td>\n",
       "      <td>0</td>\n",
       "      <td>1</td>\n",
       "      <td>0</td>\n",
       "      <td>1</td>\n",
       "      <td>0</td>\n",
       "    </tr>\n",
       "    <tr>\n",
       "      <th>4</th>\n",
       "      <td>0</td>\n",
       "      <td>0</td>\n",
       "      <td>0</td>\n",
       "      <td>0</td>\n",
       "      <td>43</td>\n",
       "      <td>1</td>\n",
       "      <td>1</td>\n",
       "      <td>0</td>\n",
       "      <td>1</td>\n",
       "      <td>1</td>\n",
       "      <td>...</td>\n",
       "      <td>1</td>\n",
       "      <td>104.60</td>\n",
       "      <td>3.0</td>\n",
       "      <td>1</td>\n",
       "      <td>0</td>\n",
       "      <td>0</td>\n",
       "      <td>1</td>\n",
       "      <td>0</td>\n",
       "      <td>1</td>\n",
       "      <td>0</td>\n",
       "    </tr>\n",
       "  </tbody>\n",
       "</table>\n",
       "<p>5 rows × 23 columns</p>\n",
       "</div>"
      ],
      "text/plain": [
       "   gender  senior  partner  deps  tenure  PhoneService  MultipleLines  \\\n",
       "0       0       0        1     0      27             1              0   \n",
       "1       0       1        0     0       1             1              1   \n",
       "2       1       0        0     0       1             1              0   \n",
       "3       0       0        0     0      53             1              1   \n",
       "4       0       0        0     0      43             1              1   \n",
       "\n",
       "   OnlineSecurity  OnlineBackup  DeviceProtection  ...  PaperlessBilling  \\\n",
       "0               1             0                 0  ...                 1   \n",
       "1               0             0                 0  ...                 1   \n",
       "2               0             0                 0  ...                 1   \n",
       "3               0             1                 1  ...                 0   \n",
       "4               0             1                 1  ...                 1   \n",
       "\n",
       "   MonthlyCharges  tenure_map  ISP_1  ISP_2  Contract_1  Contract_2  \\\n",
       "0          101.90         2.0      1      0           1           0   \n",
       "1           85.70         0.0      1      0           0           0   \n",
       "2           69.55         0.0      1      0           0           0   \n",
       "3          105.55         4.0      1      0           0           1   \n",
       "4          104.60         3.0      1      0           0           1   \n",
       "\n",
       "   Payment_1  Payment_2  Payment_3  \n",
       "0          1          0          0  \n",
       "1          0          1          0  \n",
       "2          0          1          0  \n",
       "3          0          1          0  \n",
       "4          0          1          0  \n",
       "\n",
       "[5 rows x 23 columns]"
      ]
     },
     "execution_count": 5,
     "metadata": {},
     "output_type": "execute_result"
    }
   ],
   "source": [
    "# Getting the data\n",
    "x_test = pd.read_csv(data_path)\n",
    "y_test = x_test['labels']\n",
    "x_test.drop(['labels'],axis=1,inplace=True)\n",
    "x_test.head()"
   ]
  },
  {
   "cell_type": "markdown",
   "metadata": {},
   "source": [
    "### **Testing the model locally**"
   ]
  },
  {
   "cell_type": "code",
   "execution_count": 6,
   "metadata": {},
   "outputs": [],
   "source": [
    "# an old version of lifelines and xgboost is required when running locally, uncomment to install\n",
    "# !pip install lifelines==0.22.8\n",
    "# !pip install xgboost==1.3.1"
   ]
  },
  {
   "cell_type": "code",
   "execution_count": 7,
   "metadata": {},
   "outputs": [
    {
     "name": "stdout",
     "output_type": "stream",
     "text": [
      "> 2021-10-12 07:30:00,756 [info] model xgb_model was loaded\n",
      "> 2021-10-12 07:30:00,757 [info] Initializing endpoint records\n",
      "> 2021-10-12 07:30:00,768 [info] Loaded ['xgb_model']\n",
      "model's accuracy : 0.7913907284768212\n"
     ]
    }
   ],
   "source": [
    "# importing the class (a must when using mock_to_server)\n",
    "from churn_server import *\n",
    "\n",
    "server = fn.to_mock_server()\n",
    "response = server.test(\"/v2/models/xgb_model/predict\",body={'inputs' : x_test.values.tolist()})\n",
    "\n",
    "# Calculating model's accuracy\n",
    "accuracy = sum(1 for x,y in zip(response['outputs'],y_test) if x == y) / len(y_test)\n",
    "print(f\"model's accuracy : {accuracy}\")"
   ]
  },
  {
   "cell_type": "markdown",
   "metadata": {},
   "source": [
    "### **Deploying and testing our model server using HTTP request**"
   ]
  },
  {
   "cell_type": "code",
   "execution_count": 9,
   "metadata": {},
   "outputs": [
    {
     "name": "stdout",
     "output_type": "stream",
     "text": [
      "> 2021-10-12 07:33:32,143 [info] Starting remote function deploy\n",
      "2021-10-12 07:33:32  (info) Deploying function\n",
      "2021-10-12 07:33:32  (info) Building\n",
      "2021-10-12 07:33:32  (info) Staging files and preparing base images\n",
      "2021-10-12 07:33:32  (info) Building processor image\n",
      "2021-10-12 07:33:33  (info) Build complete\n",
      "2021-10-12 07:33:41  (info) Function deploy complete\n",
      "> 2021-10-12 07:33:42,050 [info] successfully deployed function: {'internal_invocation_urls': ['nuclio-default-churn-server.default-tenant.svc.cluster.local:8080'], 'external_invocation_urls': ['default-tenant.app.app-lab-eks-testing.iguazio-cd1.com:31334']}\n"
     ]
    }
   ],
   "source": [
    "address = fn.deploy()"
   ]
  },
  {
   "cell_type": "markdown",
   "metadata": {},
   "source": [
    "We invoke our model serving function using test data, the data vector is specified in the `inputs` attribute."
   ]
  },
  {
   "cell_type": "code",
   "execution_count": 19,
   "metadata": {},
   "outputs": [
    {
     "name": "stdout",
     "output_type": "stream",
     "text": [
      "model's accuracy : 0.7913907284768212\n"
     ]
    }
   ],
   "source": [
    "import json\n",
    "import requests\n",
    "\n",
    "# KFServing protocol event\n",
    "event_data = {\"inputs\": x_test.values.tolist()}\n",
    "\n",
    "# sending data in a json format\n",
    "response = requests.put(address + \"/v2/models/xgb_model/predict\", json=json.dumps(event_data))\n",
    "\n",
    "# returned data is a string \n",
    "y_predict = json.loads(response.text)['outputs']\n",
    "accuracy = sum(1 for x,y in zip(y_predict,y_test) if x == y) / len(y_test)\n",
    "print(f\"model's accuracy : {accuracy}\")"
   ]
  },
  {
   "cell_type": "markdown",
   "metadata": {},
   "source": [
    "**[back to top](#top)**"
   ]
  }
 ],
 "metadata": {
  "kernelspec": {
   "display_name": "Python 3",
   "language": "python",
   "name": "python3"
  },
  "language_info": {
   "codemirror_mode": {
    "name": "ipython",
    "version": 3
   },
   "file_extension": ".py",
   "mimetype": "text/x-python",
   "name": "python",
   "nbconvert_exporter": "python",
   "pygments_lexer": "ipython3",
   "version": "3.7.6"
  }
 },
 "nbformat": 4,
 "nbformat_minor": 4
}
