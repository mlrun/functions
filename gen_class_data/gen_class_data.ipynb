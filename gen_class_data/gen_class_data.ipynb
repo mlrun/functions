{
 "cells": [
  {
   "cell_type": "code",
   "execution_count": null,
   "metadata": {},
   "outputs": [],
   "source": [
    "# nuclio: ignore\n",
    "import nuclio"
   ]
  },
  {
   "cell_type": "code",
   "execution_count": null,
   "metadata": {},
   "outputs": [],
   "source": [
    "%nuclio config kind = \"job\"\n",
    "%nuclio config spec.image = \"mlrun/ml-models\""
   ]
  },
  {
   "cell_type": "code",
   "execution_count": null,
   "metadata": {},
   "outputs": [],
   "source": [
    "import os\n",
    "import pandas as pd\n",
    "import pyarrow as pa\n",
    "import pyarrow.parquet as pq\n",
    "from typing import Optional, List, Any\n",
    "from sklearn.datasets import make_classification\n",
    "\n",
    "from mlrun.execution import MLClientCtx\n",
    "\n",
    "\n",
    "def gen_class_data(\n",
    "    context: MLClientCtx,\n",
    "    n_samples: int,\n",
    "    m_features: int,\n",
    "    k_classes: int,\n",
    "    header: Optional[List[str]],\n",
    "    label_column: Optional[str] = \"labels\",\n",
    "    weight: float = 0.5,\n",
    "    random_state: int = 1,\n",
    "    key: str = \"classifier-data\", \n",
    "    file_ext: str = \"parquet\",\n",
    "    sk_params = {}\n",
    "):\n",
    "    \"\"\"Create a binary classification sample dataset and save.\n",
    "    If no filename is given it will default to:\n",
    "    \"simdata-{n_samples}X{m_features}.parquet\".\n",
    "    \n",
    "    Additional scikit-learn parameters can be set using **sk_params, please see https://scikit-learn.org/stable/modules/generated/sklearn.datasets.make_classification.html for more details.\n",
    "    \n",
    "    :param context:       function context\n",
    "    :param n_samples:     number of rows/samples\n",
    "    :param m_features:    number of cols/features\n",
    "    :param k_classes:     number of classes\n",
    "    :param header:        header for features array\n",
    "    :param label_column:  column name of ground-truth series\n",
    "    :param weight:        fraction of sample negative value (ground-truth=0)\n",
    "    :param random_state:  rng seed (see https://scikit-learn.org/stable/glossary.html#term-random-state)\n",
    "    :param key:           key of data in artifact store\n",
    "    :param file_ext:      (pqt) extension for parquet file\n",
    "    :param sk_params:     additional parameters for `sklearn.datasets.make_classification`\n",
    "    \"\"\"\n",
    "    features, labels = make_classification(\n",
    "        n_samples=n_samples,\n",
    "        n_features=m_features,\n",
    "        weights=weight,\n",
    "        n_classes=k_classes,\n",
    "        random_state=random_state, \n",
    "        **sk_params)\n",
    "\n",
    "    # make dataframes, add column names, concatenate (X, y)\n",
    "    X = pd.DataFrame(features)\n",
    "    if not header:\n",
    "        X.columns = [\"feat_\" + str(x) for x in range(m_features)]\n",
    "    else:\n",
    "        X.columns = header\n",
    "\n",
    "    y = pd.DataFrame(labels, columns=[label_column])\n",
    "    data = pd.concat([X, y], axis=1)\n",
    "    \n",
    "    context.log_dataset(key, df=data, format=file_ext, index=False)"
   ]
  },
  {
   "cell_type": "code",
   "execution_count": null,
   "metadata": {},
   "outputs": [],
   "source": [
    "# nuclio: end-code"
   ]
  },
  {
   "cell_type": "markdown",
   "metadata": {},
   "source": [
    "### mlconfig"
   ]
  },
  {
   "cell_type": "code",
   "execution_count": null,
   "metadata": {},
   "outputs": [],
   "source": [
    "from mlrun import mlconf\n",
    "import os\n",
    "\n",
    "mlconf.dbpath = mlconf.dbpath or 'http://mlrun-api:8080'\n",
    "mlconf.artifact_path = mlconf.artifact_path or f'{os.environ[\"HOME\"]}/artifacts'"
   ]
  },
  {
   "cell_type": "markdown",
   "metadata": {},
   "source": [
    "### save"
   ]
  },
  {
   "cell_type": "code",
   "execution_count": null,
   "metadata": {},
   "outputs": [],
   "source": [
    "from mlrun import code_to_function \n",
    "# create job function object from notebook code\n",
    "fn = code_to_function(\"gen_class_data\")\n",
    "\n",
    "# add metadata (for templates and reuse)\n",
    "fn.spec.default_handler = \"gen_class_data\"\n",
    "fn.spec.description = \"simulate classification data using scikit-learn\"\n",
    "fn.metadata.categories = [\"simulators\", \"ml\"]\n",
    "fn.metadata.labels = {\"author\": \"yjb\", 'framework': 'sklearn'}\n",
    "fn.export(\"function.yaml\")"
   ]
  },
  {
   "cell_type": "markdown",
   "metadata": {},
   "source": [
    "### test"
   ]
  },
  {
   "cell_type": "code",
   "execution_count": null,
   "metadata": {},
   "outputs": [],
   "source": [
    "# load function from marketplacen\n",
    "from mlrun import import_function\n",
    "\n",
    "# vcs_branch = 'development'\n",
    "# base_vcs = f'https://raw.githubusercontent.com/mlrun/functions/{vcs_branch}/'\n",
    "# mlconf.hub_url = mlconf.hub_url or base_vcs + f'{name}/function.yaml'\n",
    "# fn = import_function(\"hub://gen_class_data\")"
   ]
  },
  {
   "cell_type": "code",
   "execution_count": null,
   "metadata": {},
   "outputs": [],
   "source": [
    "from mlrun import import_function\n",
    "\n",
    "if \"V3IO_HOME\" in list(os.environ):\n",
    "    # if you are running this on the iguazio data fabric\n",
    "    from mlrun import mount_v3io\n",
    "    fn.apply(mount_v3io())\n",
    "else:\n",
    "    # is you set up mlrun using the instructions at https://github.com/mlrun/mlrun/blob/master/hack/local/README.md\n",
    "    from mlrun.platforms import mount_pvc\n",
    "    fn.apply(mount_pvc('nfsvol', 'nfsvol', '/home/joyan/data'))"
   ]
  },
  {
   "cell_type": "code",
   "execution_count": null,
   "metadata": {},
   "outputs": [],
   "source": [
    "from mlrun import NewTask    \n",
    "\n",
    "task_params = {\n",
    "    \"name\":        \"tasks generate classification data\", \n",
    "    \"params\" : {\n",
    "        \"n_samples\"   : 100_000,\n",
    "        \"m_features\"  : 64,\n",
    "        \"k_classes\"   : 2,\n",
    "        \"weight\"      : [0.4, 0.6],\n",
    "        \"sk_params\"   : {\"n_informative\": 12},\n",
    "        \"file_ext\"    : \"csv\"}}"
   ]
  },
  {
   "cell_type": "code",
   "execution_count": null,
   "metadata": {},
   "outputs": [],
   "source": [
    "run = fn.run(\n",
    "    NewTask(**task_params), artifact_path=mlconf.artifact_path)"
   ]
  },
  {
   "cell_type": "code",
   "execution_count": null,
   "metadata": {},
   "outputs": [],
   "source": []
  }
 ],
 "metadata": {
  "kernelspec": {
   "display_name": "Python 3",
   "language": "python",
   "name": "python3"
  },
  "language_info": {
   "codemirror_mode": {
    "name": "ipython",
    "version": 3
   },
   "file_extension": ".py",
   "mimetype": "text/x-python",
   "name": "python",
   "nbconvert_exporter": "python",
   "pygments_lexer": "ipython3",
   "version": "3.7.6"
  }
 },
 "nbformat": 4,
 "nbformat_minor": 4
}
