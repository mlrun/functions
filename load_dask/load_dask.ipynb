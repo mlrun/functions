{
 "cells": [
  {
   "cell_type": "markdown",
   "metadata": {},
   "source": [
    "# load dask cluster with data\n",
    "load a parquet dataset into a dask cluster"
   ]
  },
  {
   "cell_type": "code",
   "execution_count": 1,
   "metadata": {},
   "outputs": [],
   "source": [
    "# nuclio: ignore\n",
    "import nuclio"
   ]
  },
  {
   "cell_type": "code",
   "execution_count": 2,
   "metadata": {},
   "outputs": [
    {
     "name": "stdout",
     "output_type": "stream",
     "text": [
      "%nuclio: setting kind to 'dask'\n",
      "%nuclio: setting spec.image to 'mlrun/ml-models'\n"
     ]
    }
   ],
   "source": [
    "%nuclio config kind = \"dask\"\n",
    "%nuclio config spec.image = \"mlrun/ml-models\""
   ]
  },
  {
   "cell_type": "code",
   "execution_count": 3,
   "metadata": {},
   "outputs": [],
   "source": [
    "import os\n",
    "import json\n",
    "import numpy as np\n",
    "import pandas as pd\n",
    "\n",
    "import dask\n",
    "import dask.dataframe as dd\n",
    "from dask.distributed import Client, LocalCluster\n",
    "\n",
    "from mlrun.execution import MLClientCtx\n",
    "from mlrun.datastore import DataItem\n",
    "\n",
    "from typing import List, Optional\n",
    "\n",
    "def load_dask(\n",
    "    context: MLClientCtx,\n",
    "    src_data: DataItem,\n",
    "    dask_key: str = \"dask_key\",\n",
    "    inc_cols: List[str] = [],\n",
    "    index_cols: List[str] = [],\n",
    "    dask_persist: bool = True,\n",
    "    refresh_data: bool = True,\n",
    "    scheduler_key: str = \"scheduler\"\n",
    ") -> None:\n",
    "    \"\"\"Load dataset into an existing dask cluster\n",
    "    \n",
    "    dask jobs define the dask client parameters at the job level, this method will raise an error if no client is detected.\n",
    "    \n",
    "    :param context:         the function context\n",
    "    :param src_data:        url of the data file or partitioned dataset as either\n",
    "                            artifact DataItem, string, or path object (similar to \n",
    "                            pandas read_csv)\n",
    "    :param dask_key:        destination key of data on dask cluster and artifact store\n",
    "    :param inc_cols:        include only these columns (very fast)\n",
    "    :param index_cols:      list of index column names (can be a long-running process)\n",
    "    :param dask_persist:    (True) should the data be persisted (through the `client.persist` op)\n",
    "    :param refresh_data:    (False) if the dask_key already exists in the dask cluster, this will \n",
    "                            raise an Exception.  Set to True to replace the existing cluster data.\n",
    "    :param scheduler_key:   (scheduler) the dask scheduler configuration, json also logged as an artifact\n",
    "    \"\"\"\n",
    "    if hasattr(context, \"dask_client\"):\n",
    "        dask_client = context.dask_client\n",
    "    else:\n",
    "        raise Exception(\"a dask client was not found in the execution context\")\n",
    "    \n",
    "    df = src_data.as_df(df_module=dd)\n",
    "\n",
    "    if dask_persist:\n",
    "        df = dask_client.persist(df)\n",
    "        if dask_client.datasets and dask_key in dask_client.datasets:\n",
    "            dask_client.unpublish_dataset(dask_key)\n",
    "        dask_client.publish_dataset(df, name=dask_key)\n",
    "    \n",
    "    if context:\n",
    "        context.dask_client = dask_client\n",
    "        \n",
    "    # share the scheduler, whether data is persisted or not\n",
    "    dask_client.write_scheduler_file(scheduler_key+\".json\")\n",
    "    \n",
    "    # we don't use log_dataset here until it can take into account\n",
    "    # dask origin and apply dask describe.\n",
    "    context.log_artifact(scheduler_key, local_path=scheduler_key+\".json\")"
   ]
  },
  {
   "cell_type": "code",
   "execution_count": 4,
   "metadata": {},
   "outputs": [],
   "source": [
    "# nuclio: end-code"
   ]
  },
  {
   "cell_type": "markdown",
   "metadata": {},
   "source": [
    "### mlconfig"
   ]
  },
  {
   "cell_type": "code",
   "execution_count": 5,
   "metadata": {},
   "outputs": [],
   "source": [
    "from mlrun import mlconf\n",
    "import os\n",
    "mlconf.dbpath = mlconf.dbpath or 'http://mlrun-api:8080'\n",
    "mlconf.artifact_path = mlconf.artifact_path or f'{os.environ[\"V3IO_HOME\"]}/artifacts'"
   ]
  },
  {
   "cell_type": "markdown",
   "metadata": {},
   "source": [
    "### save"
   ]
  },
  {
   "cell_type": "code",
   "execution_count": 6,
   "metadata": {},
   "outputs": [
    {
     "name": "stdout",
     "output_type": "stream",
     "text": [
      "[mlrun] 2020-05-03 15:20:55,004 warning!, server (0.4.6) and client (0.4.7) ver dont match\n",
      "[mlrun] 2020-05-03 15:20:55,036 function spec saved to path: function.yaml\n"
     ]
    },
    {
     "data": {
      "text/plain": [
       "<mlrun.runtimes.daskjob.DaskCluster at 0x7f099a0ae0b8>"
      ]
     },
     "execution_count": 6,
     "metadata": {},
     "output_type": "execute_result"
    }
   ],
   "source": [
    "from mlrun import code_to_function \n",
    "# create job function object from notebook code\n",
    "fn = code_to_function(\"load_dask\", handler=\"load_dask\")\n",
    "\n",
    "# add metadata (for templates and reuse)\n",
    "fn.spec.description = \"load dask cluster with data\"\n",
    "fn.metadata.categories = [\"data-movement\", \"utils\"]\n",
    "fn.metadata.labels = {\"author\": \"yjb\"}\n",
    "fn.spec.remote = True\n",
    "fn.spec.replicas = 4\n",
    "fn.spec.max_replicas = 8\n",
    "fn.spec.service_type = \"NodePort\"\n",
    "\n",
    "fn.save()\n",
    "fn.export(\"function.yaml\")"
   ]
  },
  {
   "cell_type": "markdown",
   "metadata": {},
   "source": [
    "### test"
   ]
  },
  {
   "cell_type": "code",
   "execution_count": 7,
   "metadata": {},
   "outputs": [],
   "source": [
    "if \"V3IO_HOME\" in list(os.environ):\n",
    "    from mlrun import mount_v3io\n",
    "    fn.apply(mount_v3io())\n",
    "else:\n",
    "    # is you set up mlrun using the instructions at https://github.com/mlrun/mlrun/blob/master/hack/local/README.md\n",
    "    from mlrun.platforms import mount_pvc\n",
    "    fn.apply(mount_pvc('nfsvol', 'nfsvol', '/home/joyan/data'))"
   ]
  },
  {
   "cell_type": "code",
   "execution_count": 8,
   "metadata": {},
   "outputs": [],
   "source": [
    "from mlrun import NewTask, run_local\n",
    "\n",
    "task_params = {\n",
    "    \"name\":        \"tasks load dask cluster with data\",\n",
    "    \"params\" : {\n",
    "        \"persist\"      : True,\n",
    "        \"refresh_data\" : True,\n",
    "        \"dask_key\"     : \"dask_key\"}}"
   ]
  },
  {
   "cell_type": "code",
   "execution_count": 9,
   "metadata": {},
   "outputs": [
    {
     "name": "stdout",
     "output_type": "stream",
     "text": [
      "[mlrun] 2020-05-03 15:21:02,447 starting run tasks load dask cluster with data uid=c8daa8be140347708531e2f8d80522f2  -> http://mlrun-api:8080\n",
      "[mlrun] 2020-05-03 15:21:02,491 warning!, server (0.4.6) and client (0.4.7) ver dont match\n",
      "[mlrun] 2020-05-03 15:21:07,733 trying dask client at: tcp://mlrun-load-dask-ff2375f9-2.default-tenant:8786\n",
      "[mlrun] 2020-05-03 15:21:07,752 using remote dask scheduler (mlrun-load-dask-ff2375f9-2) at: tcp://mlrun-load-dask-ff2375f9-2.default-tenant:8786\n"
     ]
    },
    {
     "data": {
      "text/html": [
       "<a href=\"http://default-tenant.app.yjb-mlrun-dav.iguazio-cd1.com:32392/status\" target=\"_blank\" >dashboard link: default-tenant.app.yjb-mlrun-dav.iguazio-cd1.com:32392</a>"
      ],
      "text/plain": [
       "<IPython.core.display.HTML object>"
      ]
     },
     "metadata": {},
     "output_type": "display_data"
    },
    {
     "name": "stdout",
     "output_type": "stream",
     "text": [
      "[mlrun] 2020-05-03 15:21:07,890 log artifact scheduler at /User/artifacts/scheduler.json, size: 182, db: Y\n",
      "\n",
      "[mlrun] 2020-05-03 15:21:07,927 run ended with state \n"
     ]
    },
    {
     "data": {
      "text/html": [
       "<style> \n",
       ".dictlist {\n",
       "  background-color: #b3edff; \n",
       "  text-align: center; \n",
       "  margin: 4px; \n",
       "  border-radius: 3px; padding: 0px 3px 1px 3px; display: inline-block;}\n",
       ".artifact {\n",
       "  cursor: pointer; \n",
       "  background-color: #ffe6cc; \n",
       "  text-align: left; \n",
       "  margin: 4px; border-radius: 3px; padding: 0px 3px 1px 3px; display: inline-block;\n",
       "}\n",
       "div.block.hidden {\n",
       "  display: none;\n",
       "}\n",
       ".clickable {\n",
       "  cursor: pointer;\n",
       "}\n",
       ".ellipsis {\n",
       "  display: inline-block;\n",
       "  max-width: 60px;\n",
       "  white-space: nowrap;\n",
       "  overflow: hidden;\n",
       "  text-overflow: ellipsis;\n",
       "}\n",
       ".master-wrapper {\n",
       "  display: flex;\n",
       "  flex-flow: row nowrap;\n",
       "  justify-content: flex-start;\n",
       "  align-items: stretch;\n",
       "}\n",
       ".master-tbl {\n",
       "  flex: 3\n",
       "}\n",
       ".master-wrapper > div {\n",
       "  margin: 4px;\n",
       "  padding: 10px;\n",
       "}\n",
       "iframe.fileview {\n",
       "  border: 0 none;\n",
       "  height: 100%;\n",
       "  width: 100%;\n",
       "  white-space: pre-wrap;\n",
       "}\n",
       ".pane-header-title {\n",
       "  width: 80%;\n",
       "  font-weight: 500;\n",
       "}\n",
       ".pane-header {\n",
       "  line-height: 1;\n",
       "  background-color: #ffe6cc;\n",
       "  padding: 3px;\n",
       "}\n",
       ".pane-header .close {\n",
       "  font-size: 20px;\n",
       "  font-weight: 700;\n",
       "  float: right;\n",
       "  margin-top: -5px;\n",
       "}\n",
       ".master-wrapper .right-pane {\n",
       "  border: 1px inset silver;\n",
       "  width: 40%;\n",
       "  min-height: 300px;\n",
       "  flex: 3\n",
       "  min-width: 500px;\n",
       "}\n",
       ".master-wrapper * {\n",
       "  box-sizing: border-box;\n",
       "}\n",
       "</style><script>\n",
       "function copyToClipboard(fld) {\n",
       "    if (document.queryCommandSupported && document.queryCommandSupported('copy')) {\n",
       "        var textarea = document.createElement('textarea');\n",
       "        textarea.textContent = fld.innerHTML;\n",
       "        textarea.style.position = 'fixed';\n",
       "        document.body.appendChild(textarea);\n",
       "        textarea.select();\n",
       "\n",
       "        try {\n",
       "            return document.execCommand('copy'); // Security exception may be thrown by some browsers.\n",
       "        } catch (ex) {\n",
       "\n",
       "        } finally {\n",
       "            document.body.removeChild(textarea);\n",
       "        }\n",
       "    }\n",
       "}\n",
       "function expandPanel(el) {\n",
       "  const panelName = \"#\" + el.getAttribute('paneName');\n",
       "  console.log(el.title);\n",
       "\n",
       "  document.querySelector(panelName + \"-title\").innerHTML = el.title\n",
       "  iframe = document.querySelector(panelName + \"-body\");\n",
       "  \n",
       "  const tblcss = `<style> body { font-family: Arial, Helvetica, sans-serif;}\n",
       "    #csv { margin-bottom: 15px; }\n",
       "    #csv table { border-collapse: collapse;}\n",
       "    #csv table td { padding: 4px 8px; border: 1px solid silver;} </style>`;\n",
       "\n",
       "  function csvToHtmlTable(str) {\n",
       "    return '<div id=\"csv\"><table><tr><td>' +  str.replace(/[\\n\\r]+$/g, '').replace(/[\\n\\r]+/g, '</td></tr><tr><td>')\n",
       "      .replace(/,/g, '</td><td>') + '</td></tr></table></div>';\n",
       "  }\n",
       "  \n",
       "  function reqListener () {\n",
       "    if (el.title.endsWith(\".csv\")) {\n",
       "      iframe.setAttribute(\"srcdoc\", tblcss + csvToHtmlTable(this.responseText));\n",
       "    } else {\n",
       "      iframe.setAttribute(\"srcdoc\", this.responseText);\n",
       "    }  \n",
       "    console.log(this.responseText);\n",
       "  }\n",
       "\n",
       "  const oReq = new XMLHttpRequest();\n",
       "  oReq.addEventListener(\"load\", reqListener);\n",
       "  oReq.open(\"GET\", el.title);\n",
       "  oReq.send();\n",
       "  \n",
       "  \n",
       "  //iframe.src = el.title;\n",
       "  const resultPane = document.querySelector(panelName + \"-pane\");\n",
       "  if (resultPane.classList.contains(\"hidden\")) {\n",
       "    resultPane.classList.remove(\"hidden\");\n",
       "  }\n",
       "}\n",
       "function closePanel(el) {\n",
       "  const panelName = \"#\" + el.getAttribute('paneName')\n",
       "  const resultPane = document.querySelector(panelName + \"-pane\");\n",
       "  if (!resultPane.classList.contains(\"hidden\")) {\n",
       "    resultPane.classList.add(\"hidden\");\n",
       "  }\n",
       "}\n",
       "\n",
       "</script>\n",
       "<div class=\"master-wrapper\">\n",
       "  <div class=\"block master-tbl\"><div>\n",
       "<style scoped>\n",
       "    .dataframe tbody tr th:only-of-type {\n",
       "        vertical-align: middle;\n",
       "    }\n",
       "\n",
       "    .dataframe tbody tr th {\n",
       "        vertical-align: top;\n",
       "    }\n",
       "\n",
       "    .dataframe thead th {\n",
       "        text-align: right;\n",
       "    }\n",
       "</style>\n",
       "<table border=\"1\" class=\"dataframe\">\n",
       "  <thead>\n",
       "    <tr style=\"text-align: right;\">\n",
       "      <th>project</th>\n",
       "      <th>uid</th>\n",
       "      <th>iter</th>\n",
       "      <th>start</th>\n",
       "      <th>state</th>\n",
       "      <th>name</th>\n",
       "      <th>labels</th>\n",
       "      <th>inputs</th>\n",
       "      <th>parameters</th>\n",
       "      <th>results</th>\n",
       "      <th>artifacts</th>\n",
       "    </tr>\n",
       "  </thead>\n",
       "  <tbody>\n",
       "    <tr>\n",
       "      <td></td>\n",
       "      <td><div title=\"c8daa8be140347708531e2f8d80522f2\"><a href=\"https://mlrun-ui.default-tenant.app.yjb-mlrun-dav.iguazio-cd1.com/projects//jobs/c8daa8be140347708531e2f8d80522f2/info\" target=\"_blank\" >...d80522f2</a></div></td>\n",
       "      <td>0</td>\n",
       "      <td>May 03 15:21:02</td>\n",
       "      <td>completed</td>\n",
       "      <td>tasks load dask cluster with data</td>\n",
       "      <td><div class=\"dictlist\">v3io_user=admin</div><div class=\"dictlist\">kind=dask</div><div class=\"dictlist\">owner=admin</div><div class=\"dictlist\">host=jupyter-6c5fccf844-gxlrw</div></td>\n",
       "      <td><div title=\"/User/artifacts/iris.parquet\">src_data</div></td>\n",
       "      <td><div class=\"dictlist\">persist=True</div><div class=\"dictlist\">refresh_data=True</div><div class=\"dictlist\">dask_key=dask_key</div></td>\n",
       "      <td></td>\n",
       "      <td><div class=\"artifact\" onclick=\"expandPanel(this)\" paneName=\"result40c04e06\" title=\"/files/artifacts/scheduler.json\">scheduler</div></td>\n",
       "    </tr>\n",
       "  </tbody>\n",
       "</table>\n",
       "</div></div>\n",
       "  <div id=\"result40c04e06-pane\" class=\"right-pane block hidden\">\n",
       "    <div class=\"pane-header\">\n",
       "      <span id=\"result40c04e06-title\" class=\"pane-header-title\">Title</span>\n",
       "      <span onclick=\"closePanel(this)\" paneName=\"result40c04e06\" class=\"close clickable\">&times;</span>\n",
       "    </div>\n",
       "    <iframe class=\"fileview\" id=\"result40c04e06-body\"></iframe>\n",
       "  </div>\n",
       "</div>\n"
      ],
      "text/plain": [
       "<IPython.core.display.HTML object>"
      ]
     },
     "metadata": {},
     "output_type": "display_data"
    },
    {
     "name": "stdout",
     "output_type": "stream",
     "text": [
      "to track results use .show() or .logs() or in CLI: \n",
      "!mlrun get run c8daa8be140347708531e2f8d80522f2  , !mlrun logs c8daa8be140347708531e2f8d80522f2 \n",
      "[mlrun] 2020-05-03 15:21:08,055 run executed, status=completed\n"
     ]
    }
   ],
   "source": [
    "run = fn.run(NewTask(**task_params), \n",
    "               handler=load_dask, \n",
    "               inputs={\"src_data\" : os.path.join(mlconf.artifact_path, 'iris.parquet') })"
   ]
  },
  {
   "cell_type": "code",
   "execution_count": 10,
   "metadata": {},
   "outputs": [
    {
     "data": {
      "text/plain": [
       "{'scheduler_address': 'tcp://mlrun-load-dask-ff2375f9-2.default-tenant:8786',\n",
       " 'cluster_name': 'mlrun-load-dask-ff2375f9-2',\n",
       " 'node_ports': {'dashboard': 32392, 'scheduler': 31878}}"
      ]
     },
     "execution_count": 10,
     "metadata": {},
     "output_type": "execute_result"
    }
   ],
   "source": [
    "fn.status.to_dict()"
   ]
  }
 ],
 "metadata": {
  "kernelspec": {
   "display_name": "Python 3",
   "language": "python",
   "name": "python3"
  },
  "language_info": {
   "codemirror_mode": {
    "name": "ipython",
    "version": 3
   },
   "file_extension": ".py",
   "mimetype": "text/x-python",
   "name": "python",
   "nbconvert_exporter": "python",
   "pygments_lexer": "ipython3",
   "version": "3.6.8"
  }
 },
 "nbformat": 4,
 "nbformat_minor": 4
}
