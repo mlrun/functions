{
 "cells": [
  {
   "cell_type": "markdown",
   "id": "e81bf43d-b449-4c94-a95b-fea9738b74f1",
   "metadata": {
    "tags": []
   },
   "source": [
    "# Speaker diarization\n",
    "\n",
    "A function to do speaker diarization (who speaks when) on a directory of audio files\n",
    "\n",
    "In this notebook we will go over the function's docs and outputs and see an end-to-end example of running it.\n",
    "\n",
    "1. [Documentation](#chapter1)\n",
    "2. [End-to-end Demo](#chapter2)"
   ]
  },
  {
   "cell_type": "markdown",
   "id": "8bb4cd70-d204-415e-93a1-49598ca9c22e",
   "metadata": {},
   "source": [
    "<a id=\"chapter1\"></a>\n",
    "## 1. Documentation\n",
    "\n",
    "The function receive a directory path with all the audio files in it. It walk through the directory, get all the audio file. Then it does the speaker diarization on these audio files to detect who speaks when. "
   ]
  },
  {
   "cell_type": "markdown",
   "id": "56c9c215-efd7-460c-ba81-9522d9997f0f",
   "metadata": {
    "jp-MarkdownHeadingCollapsed": true,
    "tags": []
   },
   "source": [
    "### 1.1. Parameters:\n",
    "* **context**: `mlrun.MLClientCtx`\n",
    "    \n",
    "    The MLRun context\n",
    "    \n",
    "* **input_path**: `str`\n",
    " \n",
    "    The input directory with all the audio files (now we support mp3, flv, mp4, wma, wav formats)\n",
    "     \n",
    "* **output_directory**: `str`\n",
    " \n",
    "    The directory that is used to store the result of the nemo diarization pipeline. \n",
    "     \n",
    "* **condition_show_plot**: `bool`\n",
    "    If set to true, the diarization results will be plotted in the notebook\n",
    "    \n",
    "* **num_speakers**: `int`\n",
    "    Number of sepakers in the audio file\n",
    "    \n",
    "* **vad_model**: `str`\n",
    "    Name of the VAD model to use\n",
    "    \n",
    "* **speaker_embeddings_model**: `str`\n",
    "    Name of the speaker embeddings model to use\n",
    "    \n",
    "* **msdd_model**: `str`\n",
    "    Name of the msdd model to use\n",
    "    \n",
    "* **msdd_model**: `str`\n",
    "    Name of the msdd model to use\n",
    "    \n",
    "* **device**: `str`\n",
    "    Device to use for diarization (default cuda if cuda available, else cpu)\n",
    "    \n",
    "* **kwargs**: `dict`\n",
    "    Additional arguments to pass to the diarizer following the format <config_name>__<parameter_name>__<attribute_name>.\n",
    "    The diarization pipeline has 5 configs: GeneralConfig, VADConfig, SpeakerEmbeddingConfig, ClusteringConfig, MSDDConfig. For different config we have different parameters to pass. Please refer to Nemo's [documentation](https://docs.nvidia.com/deeplearning/nemo/user-guide/docs/en/stable/asr/speaker_diarization/intro.html#) for details. Please note the default configurations in this function is suitable for telephone recordings involving 2~8 speakers in a session and may not show the best performance on the other types of acoustic conditions or dialogues."
   ]
  },
  {
   "cell_type": "markdown",
   "id": "c9ac8b8d-08bb-4a0f-ad16-f830efc1f8f9",
   "metadata": {
    "tags": []
   },
   "source": [
    "### 1.2. Outputs:\n",
    "\n",
    "There are two outputs of this function. Please note for each audio file, we will log a dataframe of the speaker segments.\n",
    "\n",
    "* **output_path**: `str`\n",
    "    \n",
    "    The directory stored all the Nemo results \n",
    "    \n",
    "* **errors** : `dict`\n",
    "    A dict of errors when processing the audio files if any"
   ]
  },
  {
   "cell_type": "markdown",
   "id": "4d40a194-6589-4c3a-8852-37a281d4ee00",
   "metadata": {},
   "source": [
    "<a id=\"chapter2\"></a>\n",
    "## 2. Demo"
   ]
  },
  {
   "cell_type": "markdown",
   "id": "5cb09c07-07d1-4766-9a00-b4bf19cb2fff",
   "metadata": {},
   "source": [
    "### 2.1 Importing the speaker_diarization function from hub"
   ]
  },
  {
   "cell_type": "markdown",
   "id": "1f72432f-3bca-4d86-9f73-c10c3a53766a",
   "metadata": {},
   "source": [
    "To import the function directly from hub, use:\n",
    "\n",
    "speaker_diarization = mlrun.import_function(\"hub://speaker_diarization\")"
   ]
  },
  {
   "cell_type": "markdown",
   "id": "38589ec9-f639-4a2a-aed7-413e19e0df58",
   "metadata": {},
   "source": [
    "### 2.2 Run the function"
   ]
  },
  {
   "cell_type": "code",
   "execution_count": 1,
   "id": "688496be-2fd6-42b3-87a9-5d219c99fcf6",
   "metadata": {},
   "outputs": [],
   "source": [
    "import tempfile\n",
    "import mlrun\n",
    "artifact_path = tempfile.mktemp()\n",
    "speaker_diarization_func = mlrun.import_function(\"function.yaml\")"
   ]
  },
  {
   "cell_type": "code",
   "execution_count": 2,
   "id": "08ae98b2-a3b8-412f-b2a5-ec3d22ee969e",
   "metadata": {},
   "outputs": [
    {
     "name": "stdout",
     "output_type": "stream",
     "text": [
      "> 2023-08-29 22:11:26,219 [info] Storing function: {'name': 'speaker-diarization-diarize', 'uid': '61616f5e4b6d463084bb33c2607ab1b2', 'db': None}\n"
     ]
    },
    {
     "data": {
      "application/vnd.jupyter.widget-view+json": {
       "model_id": "619ddfc089e2497f95ade53decae5184",
       "version_major": 2,
       "version_minor": 0
      },
      "text/plain": [
       "Diarizing:   0%|          | 0/1 [00:00<?, ?file/s]"
      ]
     },
     "metadata": {},
     "output_type": "display_data"
    },
    {
     "name": "stdout",
     "output_type": "stream",
     "text": [
      "[NeMo I 2023-08-29 22:11:47 clustering_diarizer:127] Loading pretrained vad_multilingual_marblenet model from NGC\n",
      "[NeMo I 2023-08-29 22:11:47 cloud:58] Found existing object /User/.cache/torch/NeMo/NeMo_1.20.0/vad_multilingual_marblenet/670f425c7f186060b7a7268ba6dfacb2/vad_multilingual_marblenet.nemo.\n",
      "[NeMo I 2023-08-29 22:11:47 cloud:64] Re-using file from: /User/.cache/torch/NeMo/NeMo_1.20.0/vad_multilingual_marblenet/670f425c7f186060b7a7268ba6dfacb2/vad_multilingual_marblenet.nemo\n",
      "[NeMo I 2023-08-29 22:11:47 common:913] Instantiating model from pre-trained checkpoint\n"
     ]
    },
    {
     "name": "stderr",
     "output_type": "stream",
     "text": [
      "[NeMo W 2023-08-29 22:11:47 modelPT:161] If you intend to do training or fine-tuning, please call the ModelPT.setup_training_data() method and provide a valid configuration file to setup the train data loader.\n",
      "    Train config : \n",
      "    manifest_filepath: /manifests/ami_train_0.63.json,/manifests/freesound_background_train.json,/manifests/freesound_laughter_train.json,/manifests/fisher_2004_background.json,/manifests/fisher_2004_speech_sampled.json,/manifests/google_train_manifest.json,/manifests/icsi_all_0.63.json,/manifests/musan_freesound_train.json,/manifests/musan_music_train.json,/manifests/musan_soundbible_train.json,/manifests/mandarin_train_sample.json,/manifests/german_train_sample.json,/manifests/spanish_train_sample.json,/manifests/french_train_sample.json,/manifests/russian_train_sample.json\n",
      "    sample_rate: 16000\n",
      "    labels:\n",
      "    - background\n",
      "    - speech\n",
      "    batch_size: 256\n",
      "    shuffle: true\n",
      "    is_tarred: false\n",
      "    tarred_audio_filepaths: null\n",
      "    tarred_shard_strategy: scatter\n",
      "    augmentor:\n",
      "      shift:\n",
      "        prob: 0.5\n",
      "        min_shift_ms: -10.0\n",
      "        max_shift_ms: 10.0\n",
      "      white_noise:\n",
      "        prob: 0.5\n",
      "        min_level: -90\n",
      "        max_level: -46\n",
      "        norm: true\n",
      "      noise:\n",
      "        prob: 0.5\n",
      "        manifest_path: /manifests/noise_0_1_musan_fs.json\n",
      "        min_snr_db: 0\n",
      "        max_snr_db: 30\n",
      "        max_gain_db: 300.0\n",
      "        norm: true\n",
      "      gain:\n",
      "        prob: 0.5\n",
      "        min_gain_dbfs: -10.0\n",
      "        max_gain_dbfs: 10.0\n",
      "        norm: true\n",
      "    num_workers: 16\n",
      "    pin_memory: true\n",
      "    \n",
      "[NeMo W 2023-08-29 22:11:47 modelPT:168] If you intend to do validation, please call the ModelPT.setup_validation_data() or ModelPT.setup_multiple_validation_data() method and provide a valid configuration file to setup the validation data loader(s). \n",
      "    Validation config : \n",
      "    manifest_filepath: /manifests/ami_dev_0.63.json,/manifests/freesound_background_dev.json,/manifests/freesound_laughter_dev.json,/manifests/ch120_moved_0.63.json,/manifests/fisher_2005_500_speech_sampled.json,/manifests/google_dev_manifest.json,/manifests/musan_music_dev.json,/manifests/mandarin_dev.json,/manifests/german_dev.json,/manifests/spanish_dev.json,/manifests/french_dev.json,/manifests/russian_dev.json\n",
      "    sample_rate: 16000\n",
      "    labels:\n",
      "    - background\n",
      "    - speech\n",
      "    batch_size: 256\n",
      "    shuffle: false\n",
      "    val_loss_idx: 0\n",
      "    num_workers: 16\n",
      "    pin_memory: true\n",
      "    \n",
      "[NeMo W 2023-08-29 22:11:47 modelPT:174] Please call the ModelPT.setup_test_data() or ModelPT.setup_multiple_test_data() method and provide a valid configuration file to setup the test data loader(s).\n",
      "    Test config : \n",
      "    manifest_filepath: null\n",
      "    sample_rate: 16000\n",
      "    labels:\n",
      "    - background\n",
      "    - speech\n",
      "    batch_size: 128\n",
      "    shuffle: false\n",
      "    test_loss_idx: 0\n",
      "    \n"
     ]
    },
    {
     "name": "stdout",
     "output_type": "stream",
     "text": [
      "[NeMo I 2023-08-29 22:11:47 features:289] PADDING: 16\n",
      "[NeMo I 2023-08-29 22:11:47 save_restore_connector:249] Model EncDecClassificationModel was successfully restored from /User/.cache/torch/NeMo/NeMo_1.20.0/vad_multilingual_marblenet/670f425c7f186060b7a7268ba6dfacb2/vad_multilingual_marblenet.nemo.\n",
      "[NeMo I 2023-08-29 22:11:47 clustering_diarizer:157] Loading pretrained titanet_large model from NGC\n",
      "[NeMo I 2023-08-29 22:11:47 cloud:58] Found existing object /User/.cache/torch/NeMo/NeMo_1.20.0/titanet-l/11ba0924fdf87c049e339adbf6899d48/titanet-l.nemo.\n",
      "[NeMo I 2023-08-29 22:11:47 cloud:64] Re-using file from: /User/.cache/torch/NeMo/NeMo_1.20.0/titanet-l/11ba0924fdf87c049e339adbf6899d48/titanet-l.nemo\n",
      "[NeMo I 2023-08-29 22:11:47 common:913] Instantiating model from pre-trained checkpoint\n"
     ]
    },
    {
     "name": "stderr",
     "output_type": "stream",
     "text": [
      "[NeMo W 2023-08-29 22:11:47 modelPT:161] If you intend to do training or fine-tuning, please call the ModelPT.setup_training_data() method and provide a valid configuration file to setup the train data loader.\n",
      "    Train config : \n",
      "    manifest_filepath: /manifests/combined_fisher_swbd_voxceleb12_librispeech/train.json\n",
      "    sample_rate: 16000\n",
      "    labels: null\n",
      "    batch_size: 64\n",
      "    shuffle: true\n",
      "    is_tarred: false\n",
      "    tarred_audio_filepaths: null\n",
      "    tarred_shard_strategy: scatter\n",
      "    augmentor:\n",
      "      noise:\n",
      "        manifest_path: /manifests/noise/rir_noise_manifest.json\n",
      "        prob: 0.5\n",
      "        min_snr_db: 0\n",
      "        max_snr_db: 15\n",
      "      speed:\n",
      "        prob: 0.5\n",
      "        sr: 16000\n",
      "        resample_type: kaiser_fast\n",
      "        min_speed_rate: 0.95\n",
      "        max_speed_rate: 1.05\n",
      "    num_workers: 15\n",
      "    pin_memory: true\n",
      "    \n",
      "[NeMo W 2023-08-29 22:11:47 modelPT:168] If you intend to do validation, please call the ModelPT.setup_validation_data() or ModelPT.setup_multiple_validation_data() method and provide a valid configuration file to setup the validation data loader(s). \n",
      "    Validation config : \n",
      "    manifest_filepath: /manifests/combined_fisher_swbd_voxceleb12_librispeech/dev.json\n",
      "    sample_rate: 16000\n",
      "    labels: null\n",
      "    batch_size: 128\n",
      "    shuffle: false\n",
      "    num_workers: 15\n",
      "    pin_memory: true\n",
      "    \n"
     ]
    },
    {
     "name": "stdout",
     "output_type": "stream",
     "text": [
      "[NeMo I 2023-08-29 22:11:47 features:289] PADDING: 16\n",
      "[NeMo I 2023-08-29 22:11:48 save_restore_connector:249] Model EncDecSpeakerLabelModel was successfully restored from /User/.cache/torch/NeMo/NeMo_1.20.0/titanet-l/11ba0924fdf87c049e339adbf6899d48/titanet-l.nemo.\n"
     ]
    },
    {
     "name": "stderr",
     "output_type": "stream",
     "text": [
      "[NeMo W 2023-08-29 22:11:48 clustering_diarizer:411] Deleting previous clustering diarizer outputs.\n"
     ]
    },
    {
     "name": "stdout",
     "output_type": "stream",
     "text": [
      "[NeMo I 2023-08-29 22:11:48 speaker_utils:93] Number of files to diarize: 1\n",
      "[NeMo I 2023-08-29 22:11:48 clustering_diarizer:309] Split long audio file to avoid CUDA memory issue\n"
     ]
    },
    {
     "name": "stderr",
     "output_type": "stream",
     "text": [
      "\n",
      "splitting manifest:   0%|          | 0/1 [00:00<?, ?it/s]\u001b[A\n",
      "splitting manifest: 100%|██████████| 1/1 [00:19<00:00, 19.32s/it]\u001b[A"
     ]
    },
    {
     "name": "stdout",
     "output_type": "stream",
     "text": [
      "[NeMo I 2023-08-29 22:12:07 vad_utils:107] The prepared manifest file exists. Overwriting!\n",
      "[NeMo I 2023-08-29 22:12:07 classification_models:272] Perform streaming frame-level VAD\n",
      "[NeMo I 2023-08-29 22:12:07 collections:301] Filtered duration for loading collection is  0.00 hours.\n",
      "[NeMo I 2023-08-29 22:12:07 collections:302] Dataset loaded with 3 items, total duration of  0.04 hours.\n",
      "[NeMo I 2023-08-29 22:12:07 collections:304] # 3 files loaded accounting to # 1 labels\n"
     ]
    },
    {
     "name": "stderr",
     "output_type": "stream",
     "text": [
      "\n",
      "\n",
      "vad:   0%|          | 0/3 [00:00<?, ?it/s]\u001b[A[NeMo W 2023-08-29 22:12:07 nemo_logging:349] User provided device_type of 'cuda', but CUDA is not available. Disabling\n",
      "    \n",
      "\n",
      "vad:  33%|███▎      | 1/3 [00:01<00:02,  1.39s/it]\u001b[A\n",
      "vad:  67%|██████▋   | 2/3 [00:02<00:01,  1.23s/it]\u001b[A\n",
      "vad: 100%|██████████| 3/3 [00:03<00:00,  1.08s/it]\u001b[A"
     ]
    },
    {
     "name": "stdout",
     "output_type": "stream",
     "text": [
      "[NeMo I 2023-08-29 22:12:11 clustering_diarizer:250] Generating predictions with overlapping input segments\n"
     ]
    },
    {
     "name": "stderr",
     "output_type": "stream",
     "text": [
      "\n",
      "\n",
      "generating preds:   0%|          | 0/1 [00:00<?, ?it/s]\u001b[A\n",
      "generating preds: 100%|██████████| 1/1 [00:01<00:00,  1.56s/it]\u001b[A\n",
      "                                                               \u001b[A"
     ]
    },
    {
     "name": "stdout",
     "output_type": "stream",
     "text": [
      "[NeMo I 2023-08-29 22:12:12 clustering_diarizer:262] Converting frame level prediction to speech/no-speech segment in start and end times format.\n"
     ]
    },
    {
     "name": "stderr",
     "output_type": "stream",
     "text": [
      "\n",
      "creating speech segments:   0%|          | 0/1 [00:00<?, ?it/s]\u001b[A\n",
      "creating speech segments: 100%|██████████| 1/1 [00:00<00:00,  3.85it/s]\u001b[A"
     ]
    },
    {
     "name": "stdout",
     "output_type": "stream",
     "text": [
      "[NeMo I 2023-08-29 22:12:12 clustering_diarizer:287] Subsegmentation for embedding extraction: scale0, output/real_state/speaker_outputs/subsegments_scale0.json\n",
      "[NeMo I 2023-08-29 22:12:12 clustering_diarizer:343] Extracting embeddings for Diarization\n",
      "[NeMo I 2023-08-29 22:12:12 collections:301] Filtered duration for loading collection is  0.00 hours.\n",
      "[NeMo I 2023-08-29 22:12:12 collections:302] Dataset loaded with 178 items, total duration of  0.07 hours.\n",
      "[NeMo I 2023-08-29 22:12:12 collections:304] # 178 files loaded accounting to # 1 labels\n"
     ]
    },
    {
     "name": "stderr",
     "output_type": "stream",
     "text": [
      "\n",
      "\n",
      "[1/5] extract embeddings:   0%|          | 0/3 [00:00<?, ?it/s]\u001b[A\n",
      "[1/5] extract embeddings:  33%|███▎      | 1/3 [00:02<00:05,  2.54s/it]\u001b[A\n",
      "[1/5] extract embeddings:  67%|██████▋   | 2/3 [00:04<00:02,  2.16s/it]\u001b[A\n",
      "[1/5] extract embeddings: 100%|██████████| 3/3 [00:06<00:00,  2.07s/it]\u001b[A"
     ]
    },
    {
     "name": "stdout",
     "output_type": "stream",
     "text": [
      "[NeMo I 2023-08-29 22:12:19 clustering_diarizer:389] Saved embedding files to output/real_state/speaker_outputs/embeddings\n"
     ]
    },
    {
     "name": "stderr",
     "output_type": "stream",
     "text": [
      "\n"
     ]
    },
    {
     "name": "stdout",
     "output_type": "stream",
     "text": [
      "[NeMo I 2023-08-29 22:12:19 clustering_diarizer:287] Subsegmentation for embedding extraction: scale1, output/real_state/speaker_outputs/subsegments_scale1.json\n",
      "[NeMo I 2023-08-29 22:12:19 clustering_diarizer:343] Extracting embeddings for Diarization\n",
      "[NeMo I 2023-08-29 22:12:19 collections:301] Filtered duration for loading collection is  0.00 hours.\n",
      "[NeMo I 2023-08-29 22:12:19 collections:302] Dataset loaded with 215 items, total duration of  0.07 hours.\n",
      "[NeMo I 2023-08-29 22:12:19 collections:304] # 215 files loaded accounting to # 1 labels\n"
     ]
    },
    {
     "name": "stderr",
     "output_type": "stream",
     "text": [
      "\n",
      "[2/5] extract embeddings:   0%|          | 0/4 [00:00<?, ?it/s]\u001b[A\n",
      "[2/5] extract embeddings:  25%|██▌       | 1/4 [00:02<00:07,  2.36s/it]\u001b[A\n",
      "[2/5] extract embeddings:  50%|█████     | 2/4 [00:03<00:03,  1.84s/it]\u001b[A\n",
      "[2/5] extract embeddings:  75%|███████▌  | 3/4 [00:05<00:01,  1.58s/it]\u001b[A\n",
      "[2/5] extract embeddings: 100%|██████████| 4/4 [00:05<00:00,  1.50s/it]\u001b[A"
     ]
    },
    {
     "name": "stdout",
     "output_type": "stream",
     "text": [
      "[NeMo I 2023-08-29 22:12:25 clustering_diarizer:389] Saved embedding files to output/real_state/speaker_outputs/embeddings\n"
     ]
    },
    {
     "name": "stderr",
     "output_type": "stream",
     "text": [
      "\n"
     ]
    },
    {
     "name": "stdout",
     "output_type": "stream",
     "text": [
      "[NeMo I 2023-08-29 22:12:25 clustering_diarizer:287] Subsegmentation for embedding extraction: scale2, output/real_state/speaker_outputs/subsegments_scale2.json\n",
      "[NeMo I 2023-08-29 22:12:25 clustering_diarizer:343] Extracting embeddings for Diarization\n",
      "[NeMo I 2023-08-29 22:12:25 collections:301] Filtered duration for loading collection is  0.00 hours.\n",
      "[NeMo I 2023-08-29 22:12:25 collections:302] Dataset loaded with 270 items, total duration of  0.07 hours.\n",
      "[NeMo I 2023-08-29 22:12:25 collections:304] # 270 files loaded accounting to # 1 labels\n"
     ]
    },
    {
     "name": "stderr",
     "output_type": "stream",
     "text": [
      "\n",
      "[3/5] extract embeddings:   0%|          | 0/5 [00:00<?, ?it/s]\u001b[A\n",
      "[3/5] extract embeddings:  20%|██        | 1/5 [00:02<00:08,  2.16s/it]\u001b[A\n",
      "[3/5] extract embeddings:  40%|████      | 2/5 [00:03<00:05,  1.67s/it]\u001b[A\n",
      "[3/5] extract embeddings:  60%|██████    | 3/5 [00:04<00:02,  1.43s/it]\u001b[A\n",
      "[3/5] extract embeddings:  80%|████████  | 4/5 [00:05<00:01,  1.26s/it]\u001b[A\n",
      "[3/5] extract embeddings: 100%|██████████| 5/5 [00:06<00:00,  1.28s/it]\u001b[A"
     ]
    },
    {
     "name": "stdout",
     "output_type": "stream",
     "text": [
      "[NeMo I 2023-08-29 22:12:31 clustering_diarizer:389] Saved embedding files to output/real_state/speaker_outputs/embeddings\n",
      "[NeMo I 2023-08-29 22:12:31 clustering_diarizer:287] Subsegmentation for embedding extraction: scale3, output/real_state/speaker_outputs/subsegments_scale3.json\n",
      "[NeMo I 2023-08-29 22:12:31 clustering_diarizer:343] Extracting embeddings for Diarization\n",
      "[NeMo I 2023-08-29 22:12:31 collections:301] Filtered duration for loading collection is  0.00 hours.\n",
      "[NeMo I 2023-08-29 22:12:31 collections:302] Dataset loaded with 363 items, total duration of  0.08 hours.\n",
      "[NeMo I 2023-08-29 22:12:31 collections:304] # 363 files loaded accounting to # 1 labels\n"
     ]
    },
    {
     "name": "stderr",
     "output_type": "stream",
     "text": [
      "\n",
      "\n",
      "[4/5] extract embeddings:   0%|          | 0/6 [00:00<?, ?it/s]\u001b[A\n",
      "[4/5] extract embeddings:  17%|█▋        | 1/6 [00:02<00:10,  2.16s/it]\u001b[A\n",
      "[4/5] extract embeddings:  33%|███▎      | 2/6 [00:03<00:07,  1.86s/it]\u001b[A\n",
      "[4/5] extract embeddings:  50%|█████     | 3/6 [00:04<00:03,  1.32s/it]\u001b[A\n",
      "[4/5] extract embeddings:  67%|██████▋   | 4/6 [00:05<00:02,  1.05s/it]\u001b[A\n",
      "[4/5] extract embeddings:  83%|████████▎ | 5/6 [00:05<00:00,  1.12it/s]\u001b[A\n",
      "[4/5] extract embeddings: 100%|██████████| 6/6 [00:06<00:00,  1.11s/it]\u001b[A"
     ]
    },
    {
     "name": "stdout",
     "output_type": "stream",
     "text": [
      "[NeMo I 2023-08-29 22:12:38 clustering_diarizer:389] Saved embedding files to output/real_state/speaker_outputs/embeddings\n",
      "[NeMo I 2023-08-29 22:12:38 clustering_diarizer:287] Subsegmentation for embedding extraction: scale4, output/real_state/speaker_outputs/subsegments_scale4.json\n",
      "[NeMo I 2023-08-29 22:12:38 clustering_diarizer:343] Extracting embeddings for Diarization\n",
      "[NeMo I 2023-08-29 22:12:38 collections:301] Filtered duration for loading collection is  0.00 hours.\n",
      "[NeMo I 2023-08-29 22:12:38 collections:302] Dataset loaded with 547 items, total duration of  0.08 hours.\n",
      "[NeMo I 2023-08-29 22:12:38 collections:304] # 547 files loaded accounting to # 1 labels\n"
     ]
    },
    {
     "name": "stderr",
     "output_type": "stream",
     "text": [
      "\n",
      "\n",
      "[5/5] extract embeddings:   0%|          | 0/9 [00:00<?, ?it/s]\u001b[A\n",
      "[5/5] extract embeddings:  11%|█         | 1/9 [00:02<00:16,  2.00s/it]\u001b[A\n",
      "[5/5] extract embeddings:  22%|██▏       | 2/9 [00:03<00:12,  1.77s/it]\u001b[A\n",
      "[5/5] extract embeddings:  33%|███▎      | 3/9 [00:04<00:07,  1.30s/it]\u001b[A\n",
      "[5/5] extract embeddings:  44%|████▍     | 4/9 [00:04<00:04,  1.01it/s]\u001b[A\n",
      "[5/5] extract embeddings:  56%|█████▌    | 5/9 [00:05<00:03,  1.30it/s]\u001b[A\n",
      "[5/5] extract embeddings:  67%|██████▋   | 6/9 [00:05<00:02,  1.46it/s]\u001b[A\n",
      "[5/5] extract embeddings:  78%|███████▊  | 7/9 [00:06<00:01,  1.69it/s]\u001b[A\n",
      "[5/5] extract embeddings:  89%|████████▉ | 8/9 [00:06<00:00,  1.94it/s]\u001b[A\n",
      "[5/5] extract embeddings: 100%|██████████| 9/9 [00:07<00:00,  1.21it/s]\u001b[A"
     ]
    },
    {
     "name": "stdout",
     "output_type": "stream",
     "text": [
      "[NeMo I 2023-08-29 22:12:45 clustering_diarizer:389] Saved embedding files to output/real_state/speaker_outputs/embeddings\n"
     ]
    },
    {
     "name": "stderr",
     "output_type": "stream",
     "text": [
      "\n",
      "[NeMo W 2023-08-29 22:12:45 speaker_utils:464] cuda=False, using CPU for eigen decomposition. This might slow down the clustering process.\n",
      "\n",
      "clustering:   0%|          | 0/1 [00:00<?, ?it/s]\u001b[A\n",
      "clustering: 100%|██████████| 1/1 [00:00<00:00,  1.09it/s]\u001b[A"
     ]
    },
    {
     "name": "stdout",
     "output_type": "stream",
     "text": [
      "[NeMo I 2023-08-29 22:12:46 clustering_diarizer:464] Outputs are saved in /User/functions/speaker_diarization/output/real_state directory\n"
     ]
    },
    {
     "name": "stderr",
     "output_type": "stream",
     "text": [
      "\n",
      "[NeMo W 2023-08-29 22:12:46 der:185] Check if each ground truth RTTMs were present in the provided manifest file. Skipping calculation of Diariazation Error Rate\n"
     ]
    },
    {
     "name": "stdout",
     "output_type": "stream",
     "text": [
      "> 2023-08-29 22:12:46,962 [info] Done:\n",
      "                                          audio_file diarization_results  \\\n",
      "0  /User/functions/speaker_diarization/data/real_...   output/real_state   \n",
      "\n",
      "                converted_audio_file speaker_segments  \n",
      "0  /tmp/converted_audio_m8qcgqff.wav       real_state  \n"
     ]
    },
    {
     "data": {
      "text/html": [
       "<style>\n",
       ".dictlist {\n",
       "  background-color: #4EC64B;\n",
       "  text-align: center;\n",
       "  margin: 4px;\n",
       "  border-radius: 3px; padding: 0px 3px 1px 3px; display: inline-block;}\n",
       ".artifact {\n",
       "  cursor: pointer;\n",
       "  background-color: #4EC64B;\n",
       "  text-align: left;\n",
       "  margin: 4px; border-radius: 3px; padding: 0px 3px 1px 3px; display: inline-block;\n",
       "}\n",
       "div.block.hidden {\n",
       "  display: none;\n",
       "}\n",
       ".clickable {\n",
       "  cursor: pointer;\n",
       "}\n",
       ".ellipsis {\n",
       "  display: inline-block;\n",
       "  max-width: 60px;\n",
       "  white-space: nowrap;\n",
       "  overflow: hidden;\n",
       "  text-overflow: ellipsis;\n",
       "}\n",
       ".master-wrapper {\n",
       "  display: flex;\n",
       "  flex-flow: row nowrap;\n",
       "  justify-content: flex-start;\n",
       "  align-items: stretch;\n",
       "}\n",
       ".master-tbl {\n",
       "  flex: 3\n",
       "}\n",
       ".master-wrapper > div {\n",
       "  margin: 4px;\n",
       "  padding: 10px;\n",
       "}\n",
       "iframe.fileview {\n",
       "  border: 0 none;\n",
       "  height: 100%;\n",
       "  width: 100%;\n",
       "  white-space: pre-wrap;\n",
       "}\n",
       ".pane-header-title {\n",
       "  width: 80%;\n",
       "  font-weight: 500;\n",
       "}\n",
       ".pane-header {\n",
       "  line-height: 1;\n",
       "  background-color: #4EC64B;\n",
       "  padding: 3px;\n",
       "}\n",
       ".pane-header .close {\n",
       "  font-size: 20px;\n",
       "  font-weight: 700;\n",
       "  float: right;\n",
       "  margin-top: -5px;\n",
       "}\n",
       ".master-wrapper .right-pane {\n",
       "  border: 1px inset silver;\n",
       "  width: 40%;\n",
       "  min-height: 300px;\n",
       "  flex: 3\n",
       "  min-width: 500px;\n",
       "}\n",
       ".master-wrapper * {\n",
       "  box-sizing: border-box;\n",
       "}\n",
       "</style><script>\n",
       "function copyToClipboard(fld) {\n",
       "    if (document.queryCommandSupported && document.queryCommandSupported('copy')) {\n",
       "        var textarea = document.createElement('textarea');\n",
       "        textarea.textContent = fld.innerHTML;\n",
       "        textarea.style.position = 'fixed';\n",
       "        document.body.appendChild(textarea);\n",
       "        textarea.select();\n",
       "\n",
       "        try {\n",
       "            return document.execCommand('copy'); // Security exception may be thrown by some browsers.\n",
       "        } catch (ex) {\n",
       "\n",
       "        } finally {\n",
       "            document.body.removeChild(textarea);\n",
       "        }\n",
       "    }\n",
       "}\n",
       "function expandPanel(el) {\n",
       "  const panelName = \"#\" + el.getAttribute('paneName');\n",
       "  console.log(el.title);\n",
       "\n",
       "  document.querySelector(panelName + \"-title\").innerHTML = el.title\n",
       "  iframe = document.querySelector(panelName + \"-body\");\n",
       "\n",
       "  const tblcss = `<style> body { font-family: Arial, Helvetica, sans-serif;}\n",
       "    #csv { margin-bottom: 15px; }\n",
       "    #csv table { border-collapse: collapse;}\n",
       "    #csv table td { padding: 4px 8px; border: 1px solid silver;} </style>`;\n",
       "\n",
       "  function csvToHtmlTable(str) {\n",
       "    return '<div id=\"csv\"><table><tr><td>' +  str.replace(/[\\n\\r]+$/g, '').replace(/[\\n\\r]+/g, '</td></tr><tr><td>')\n",
       "      .replace(/,/g, '</td><td>') + '</td></tr></table></div>';\n",
       "  }\n",
       "\n",
       "  function reqListener () {\n",
       "    if (el.title.endsWith(\".csv\")) {\n",
       "      iframe.setAttribute(\"srcdoc\", tblcss + csvToHtmlTable(this.responseText));\n",
       "    } else {\n",
       "      iframe.setAttribute(\"srcdoc\", this.responseText);\n",
       "    }\n",
       "    console.log(this.responseText);\n",
       "  }\n",
       "\n",
       "  const oReq = new XMLHttpRequest();\n",
       "  oReq.addEventListener(\"load\", reqListener);\n",
       "  oReq.open(\"GET\", el.title);\n",
       "  oReq.send();\n",
       "\n",
       "\n",
       "  //iframe.src = el.title;\n",
       "  const resultPane = document.querySelector(panelName + \"-pane\");\n",
       "  if (resultPane.classList.contains(\"hidden\")) {\n",
       "    resultPane.classList.remove(\"hidden\");\n",
       "  }\n",
       "}\n",
       "function closePanel(el) {\n",
       "  const panelName = \"#\" + el.getAttribute('paneName')\n",
       "  const resultPane = document.querySelector(panelName + \"-pane\");\n",
       "  if (!resultPane.classList.contains(\"hidden\")) {\n",
       "    resultPane.classList.add(\"hidden\");\n",
       "  }\n",
       "}\n",
       "\n",
       "</script>\n",
       "<div class=\"master-wrapper\">\n",
       "  <div class=\"block master-tbl\"><div>\n",
       "<style scoped>\n",
       "    .dataframe tbody tr th:only-of-type {\n",
       "        vertical-align: middle;\n",
       "    }\n",
       "\n",
       "    .dataframe tbody tr th {\n",
       "        vertical-align: top;\n",
       "    }\n",
       "\n",
       "    .dataframe thead th {\n",
       "        text-align: right;\n",
       "    }\n",
       "</style>\n",
       "<table border=\"1\" class=\"dataframe\">\n",
       "  <thead>\n",
       "    <tr style=\"text-align: right;\">\n",
       "      <th>project</th>\n",
       "      <th>uid</th>\n",
       "      <th>iter</th>\n",
       "      <th>start</th>\n",
       "      <th>state</th>\n",
       "      <th>name</th>\n",
       "      <th>labels</th>\n",
       "      <th>inputs</th>\n",
       "      <th>parameters</th>\n",
       "      <th>results</th>\n",
       "      <th>artifacts</th>\n",
       "    </tr>\n",
       "  </thead>\n",
       "  <tbody>\n",
       "    <tr>\n",
       "      <td>default</td>\n",
       "      <td><div title=\"61616f5e4b6d463084bb33c2607ab1b2\"><a href=\"https://dashboard.default-tenant.app.llm2.iguazio-cd0.com/mlprojects/default/jobs/monitor/61616f5e4b6d463084bb33c2607ab1b2/overview\" target=\"_blank\" >...607ab1b2</a></div></td>\n",
       "      <td>0</td>\n",
       "      <td>Aug 29 22:11:26</td>\n",
       "      <td>completed</td>\n",
       "      <td>speaker-diarization-diarize</td>\n",
       "      <td><div class=\"dictlist\">v3io_user=pengw</div><div class=\"dictlist\">kind=</div><div class=\"dictlist\">owner=pengw</div><div class=\"dictlist\">host=jupyter-pengw-5f99fb678d-zkdv7</div></td>\n",
       "      <td></td>\n",
       "      <td><div class=\"dictlist\">input_path=./data/real_state.mp3</div><div class=\"dictlist\">output_directory=./output</div><div class=\"dictlist\">num_speakers=2</div><div class=\"dictlist\">device=cpu</div><div class=\"dictlist\">condition_show_plot=True</div></td>\n",
       "      <td></td>\n",
       "      <td><div title=\"/tmp/tmpe0bhr2pm/speaker-diarization-diarize/0/real_state.csv\">real_state</div><div title=\"/tmp/tmpe0bhr2pm/speaker-diarization-diarize/0/output_directory.zip\">output_directory</div><div title=\"/tmp/tmpe0bhr2pm/speaker-diarization-diarize/0/dataset.parquet\">dataset</div><div title=\"/tmp/tmpe0bhr2pm/speaker-diarization-diarize/0/errored_files.npz\">errored_files</div></td>\n",
       "    </tr>\n",
       "  </tbody>\n",
       "</table>\n",
       "</div></div>\n",
       "  <div id=\"result9ad91d25-pane\" class=\"right-pane block hidden\">\n",
       "    <div class=\"pane-header\">\n",
       "      <span id=\"result9ad91d25-title\" class=\"pane-header-title\">Title</span>\n",
       "      <span onclick=\"closePanel(this)\" paneName=\"result9ad91d25\" class=\"close clickable\">&times;</span>\n",
       "    </div>\n",
       "    <iframe class=\"fileview\" id=\"result9ad91d25-body\"></iframe>\n",
       "  </div>\n",
       "</div>\n"
      ],
      "text/plain": [
       "<IPython.core.display.HTML object>"
      ]
     },
     "metadata": {},
     "output_type": "display_data"
    },
    {
     "name": "stdout",
     "output_type": "stream",
     "text": [
      "\n"
     ]
    },
    {
     "data": {
      "text/html": [
       "<b> > to track results use the .show() or .logs() methods  or <a href=\"https://dashboard.default-tenant.app.llm2.iguazio-cd0.com/mlprojects/default/jobs/monitor/61616f5e4b6d463084bb33c2607ab1b2/overview\" target=\"_blank\">click here</a> to open in UI</b>"
      ],
      "text/plain": [
       "<IPython.core.display.HTML object>"
      ]
     },
     "metadata": {},
     "output_type": "display_data"
    },
    {
     "name": "stdout",
     "output_type": "stream",
     "text": [
      "> 2023-08-29 22:12:47,420 [info] Run execution finished: {'status': 'completed', 'name': 'speaker-diarization-diarize'}\n"
     ]
    },
    {
     "data": {
      "image/png": "[encoded data removed]",
      "text/plain": [
       "<Figure size 432x288 with 1 Axes>"
      ]
     },
     "metadata": {
      "needs_background": "light"
     },
     "output_type": "display_data"
    }
   ],
   "source": [
    "speaker_diarization_run = speaker_diarization_func.run(\n",
    "    handler = \"diarize\",\n",
    "    params={\n",
    "        \"input_path\": \"./data/real_state.mp3\",\n",
    "        \"output_directory\": \"./output\",\n",
    "        \"num_speakers\": 2,\n",
    "        \"device\": \"cpu\",\n",
    "        \"condition_show_plot\": True,\n",
    "    },\n",
    "    local=True,\n",
    "    returns=[\"output_directory: path\", \"dataset: dataset\", \"errored_files\"],\n",
    "    artifact_path=artifact_path,\n",
    ")\n"
   ]
  },
  {
   "cell_type": "code",
   "execution_count": 3,
   "id": "1169204d-46aa-4e26-8298-17e02a519a57",
   "metadata": {},
   "outputs": [
    {
     "data": {
      "text/plain": [
       "{'real_state': 'store://artifacts/default/speaker-diarization-diarize_real_state:61616f5e4b6d463084bb33c2607ab1b2',\n",
       " 'output_directory': 'store://artifacts/default/speaker-diarization-diarize_output_directory:61616f5e4b6d463084bb33c2607ab1b2',\n",
       " 'dataset': 'store://artifacts/default/speaker-diarization-diarize_dataset:61616f5e4b6d463084bb33c2607ab1b2',\n",
       " 'errored_files': 'store://artifacts/default/speaker-diarization-diarize_errored_files:61616f5e4b6d463084bb33c2607ab1b2'}"
      ]
     },
     "execution_count": 3,
     "metadata": {},
     "output_type": "execute_result"
    }
   ],
   "source": [
    "speaker_diarization_run.outputs"
   ]
  },
  {
   "cell_type": "code",
   "execution_count": 4,
   "id": "e7659182-09af-4bd9-bab7-6fa63d79ba0a",
   "metadata": {},
   "outputs": [],
   "source": [
    "artifact_path += f\"/{speaker_diarization_run.metadata.name}/{speaker_diarization_run.metadata.iteration}/\""
   ]
  },
  {
   "cell_type": "code",
   "execution_count": 5,
   "id": "d64d1f13-d997-4a8a-999d-575970057d80",
   "metadata": {},
   "outputs": [],
   "source": [
    "df = mlrun.get_dataitem(artifact_path + \"dataset.parquet\").as_df()"
   ]
  },
  {
   "cell_type": "code",
   "execution_count": 6,
   "id": "a524b297-ef3c-408a-b91f-9c0c058f0bba",
   "metadata": {},
   "outputs": [
    {
     "data": {
      "text/html": [
       "<div>\n",
       "<style scoped>\n",
       "    .dataframe tbody tr th:only-of-type {\n",
       "        vertical-align: middle;\n",
       "    }\n",
       "\n",
       "    .dataframe tbody tr th {\n",
       "        vertical-align: top;\n",
       "    }\n",
       "\n",
       "    .dataframe thead th {\n",
       "        text-align: right;\n",
       "    }\n",
       "</style>\n",
       "<table border=\"1\" class=\"dataframe\">\n",
       "  <thead>\n",
       "    <tr style=\"text-align: right;\">\n",
       "      <th></th>\n",
       "      <th>audio_file</th>\n",
       "      <th>diarization_results</th>\n",
       "      <th>converted_audio_file</th>\n",
       "      <th>speaker_segments</th>\n",
       "    </tr>\n",
       "  </thead>\n",
       "  <tbody>\n",
       "    <tr>\n",
       "      <th>0</th>\n",
       "      <td>/User/functions/speaker_diarization/data/real_...</td>\n",
       "      <td>output/real_state</td>\n",
       "      <td>/tmp/converted_audio_m8qcgqff.wav</td>\n",
       "      <td>real_state</td>\n",
       "    </tr>\n",
       "  </tbody>\n",
       "</table>\n",
       "</div>"
      ],
      "text/plain": [
       "                                          audio_file diarization_results  \\\n",
       "0  /User/functions/speaker_diarization/data/real_...   output/real_state   \n",
       "\n",
       "                converted_audio_file speaker_segments  \n",
       "0  /tmp/converted_audio_m8qcgqff.wav       real_state  "
      ]
     },
     "execution_count": 6,
     "metadata": {},
     "output_type": "execute_result"
    }
   ],
   "source": [
    "df"
   ]
  },
  {
   "cell_type": "code",
   "execution_count": 7,
   "id": "59e71574-4afb-4a68-9960-246a32c9520e",
   "metadata": {},
   "outputs": [],
   "source": [
    "segments_df = mlrun.get_dataitem(artifact_path+\"real_state.csv\").as_df()"
   ]
  },
  {
   "cell_type": "code",
   "execution_count": 8,
   "id": "90d44c25-5292-424f-8195-a669007a9545",
   "metadata": {},
   "outputs": [
    {
     "data": {
      "text/html": [
       "<div>\n",
       "<style scoped>\n",
       "    .dataframe tbody tr th:only-of-type {\n",
       "        vertical-align: middle;\n",
       "    }\n",
       "\n",
       "    .dataframe tbody tr th {\n",
       "        vertical-align: top;\n",
       "    }\n",
       "\n",
       "    .dataframe thead th {\n",
       "        text-align: right;\n",
       "    }\n",
       "</style>\n",
       "<table border=\"1\" class=\"dataframe\">\n",
       "  <thead>\n",
       "    <tr style=\"text-align: right;\">\n",
       "      <th></th>\n",
       "      <th>start</th>\n",
       "      <th>end</th>\n",
       "      <th>speaker</th>\n",
       "    </tr>\n",
       "  </thead>\n",
       "  <tbody>\n",
       "    <tr>\n",
       "      <th>0</th>\n",
       "      <td>0.060</td>\n",
       "      <td>1.050</td>\n",
       "      <td>speaker_2</td>\n",
       "    </tr>\n",
       "    <tr>\n",
       "      <th>1</th>\n",
       "      <td>2.860</td>\n",
       "      <td>4.090</td>\n",
       "      <td>speaker_2</td>\n",
       "    </tr>\n",
       "    <tr>\n",
       "      <th>2</th>\n",
       "      <td>5.980</td>\n",
       "      <td>6.970</td>\n",
       "      <td>speaker_2</td>\n",
       "    </tr>\n",
       "    <tr>\n",
       "      <th>3</th>\n",
       "      <td>8.940</td>\n",
       "      <td>10.410</td>\n",
       "      <td>speaker_0</td>\n",
       "    </tr>\n",
       "    <tr>\n",
       "      <th>4</th>\n",
       "      <td>10.860</td>\n",
       "      <td>19.485</td>\n",
       "      <td>speaker_0</td>\n",
       "    </tr>\n",
       "    <tr>\n",
       "      <th>5</th>\n",
       "      <td>19.485</td>\n",
       "      <td>19.690</td>\n",
       "      <td>speaker_2</td>\n",
       "    </tr>\n",
       "    <tr>\n",
       "      <th>6</th>\n",
       "      <td>19.900</td>\n",
       "      <td>63.210</td>\n",
       "      <td>speaker_0</td>\n",
       "    </tr>\n",
       "    <tr>\n",
       "      <th>7</th>\n",
       "      <td>63.500</td>\n",
       "      <td>67.130</td>\n",
       "      <td>speaker_1</td>\n",
       "    </tr>\n",
       "    <tr>\n",
       "      <th>8</th>\n",
       "      <td>67.660</td>\n",
       "      <td>73.285</td>\n",
       "      <td>speaker_0</td>\n",
       "    </tr>\n",
       "    <tr>\n",
       "      <th>9</th>\n",
       "      <td>73.285</td>\n",
       "      <td>75.535</td>\n",
       "      <td>speaker_1</td>\n",
       "    </tr>\n",
       "    <tr>\n",
       "      <th>10</th>\n",
       "      <td>75.535</td>\n",
       "      <td>75.785</td>\n",
       "      <td>speaker_0</td>\n",
       "    </tr>\n",
       "    <tr>\n",
       "      <th>11</th>\n",
       "      <td>75.785</td>\n",
       "      <td>76.035</td>\n",
       "      <td>speaker_2</td>\n",
       "    </tr>\n",
       "    <tr>\n",
       "      <th>12</th>\n",
       "      <td>76.035</td>\n",
       "      <td>76.285</td>\n",
       "      <td>speaker_1</td>\n",
       "    </tr>\n",
       "    <tr>\n",
       "      <th>13</th>\n",
       "      <td>76.285</td>\n",
       "      <td>81.290</td>\n",
       "      <td>speaker_0</td>\n",
       "    </tr>\n",
       "    <tr>\n",
       "      <th>14</th>\n",
       "      <td>81.580</td>\n",
       "      <td>103.850</td>\n",
       "      <td>speaker_0</td>\n",
       "    </tr>\n",
       "    <tr>\n",
       "      <th>15</th>\n",
       "      <td>104.540</td>\n",
       "      <td>112.250</td>\n",
       "      <td>speaker_1</td>\n",
       "    </tr>\n",
       "    <tr>\n",
       "      <th>16</th>\n",
       "      <td>112.540</td>\n",
       "      <td>127.915</td>\n",
       "      <td>speaker_0</td>\n",
       "    </tr>\n",
       "    <tr>\n",
       "      <th>17</th>\n",
       "      <td>127.915</td>\n",
       "      <td>129.415</td>\n",
       "      <td>speaker_1</td>\n",
       "    </tr>\n",
       "    <tr>\n",
       "      <th>18</th>\n",
       "      <td>129.415</td>\n",
       "      <td>136.415</td>\n",
       "      <td>speaker_0</td>\n",
       "    </tr>\n",
       "    <tr>\n",
       "      <th>19</th>\n",
       "      <td>136.415</td>\n",
       "      <td>137.165</td>\n",
       "      <td>speaker_1</td>\n",
       "    </tr>\n",
       "    <tr>\n",
       "      <th>20</th>\n",
       "      <td>137.165</td>\n",
       "      <td>146.910</td>\n",
       "      <td>speaker_0</td>\n",
       "    </tr>\n",
       "  </tbody>\n",
       "</table>\n",
       "</div>"
      ],
      "text/plain": [
       "      start      end    speaker\n",
       "0     0.060    1.050  speaker_2\n",
       "1     2.860    4.090  speaker_2\n",
       "2     5.980    6.970  speaker_2\n",
       "3     8.940   10.410  speaker_0\n",
       "4    10.860   19.485  speaker_0\n",
       "5    19.485   19.690  speaker_2\n",
       "6    19.900   63.210  speaker_0\n",
       "7    63.500   67.130  speaker_1\n",
       "8    67.660   73.285  speaker_0\n",
       "9    73.285   75.535  speaker_1\n",
       "10   75.535   75.785  speaker_0\n",
       "11   75.785   76.035  speaker_2\n",
       "12   76.035   76.285  speaker_1\n",
       "13   76.285   81.290  speaker_0\n",
       "14   81.580  103.850  speaker_0\n",
       "15  104.540  112.250  speaker_1\n",
       "16  112.540  127.915  speaker_0\n",
       "17  127.915  129.415  speaker_1\n",
       "18  129.415  136.415  speaker_0\n",
       "19  136.415  137.165  speaker_1\n",
       "20  137.165  146.910  speaker_0"
      ]
     },
     "execution_count": 8,
     "metadata": {},
     "output_type": "execute_result"
    }
   ],
   "source": [
    "segments_df"
   ]
  },
  {
   "cell_type": "code",
   "execution_count": null,
   "id": "380fbb97-32ea-4677-99cc-cd65e9085f0f",
   "metadata": {},
   "outputs": [],
   "source": []
  }
 ],
 "metadata": {
  "kernelspec": {
   "display_name": "transcribe",
   "language": "python",
   "name": "conda-env-.conda-transcribe-py"
  },
  "language_info": {
   "codemirror_mode": {
    "name": "ipython",
    "version": 3
   },
   "file_extension": ".py",
   "mimetype": "text/x-python",
   "name": "python",
   "nbconvert_exporter": "python",
   "pygments_lexer": "ipython3",
   "version": "3.9.16"
  }
 },
 "nbformat": 4,
 "nbformat_minor": 5
}
