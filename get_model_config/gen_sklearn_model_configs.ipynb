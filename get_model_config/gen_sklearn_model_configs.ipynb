{
 "cells": [
  {
   "cell_type": "markdown",
   "metadata": {},
   "source": [
    "## generate scikit-learn model configurations WIP\n",
    "\n",
    "The following function will generate a drop in model configuration for an mlrun training pipeline\n",
    "\n",
    "It locates every class in the scikit-learn package that has a `fit` function and generates class `__init__` and `fit` parameters json files **with default values** that can be read and input **as-is** in an  mlrun pipeline.  \n",
    "\n",
    "Auto-paramter tuning can then take over and find a more optimal model for eventual deployment."
   ]
  },
  {
   "cell_type": "code",
   "execution_count": 94,
   "metadata": {},
   "outputs": [
    {
     "data": {
      "text/html": [
       "<div>\n",
       "<style scoped>\n",
       "    .dataframe tbody tr th:only-of-type {\n",
       "        vertical-align: middle;\n",
       "    }\n",
       "\n",
       "    .dataframe tbody tr th {\n",
       "        vertical-align: top;\n",
       "    }\n",
       "\n",
       "    .dataframe thead th {\n",
       "        text-align: right;\n",
       "    }\n",
       "</style>\n",
       "<table border=\"1\" class=\"dataframe\">\n",
       "  <thead>\n",
       "    <tr style=\"text-align: right;\">\n",
       "      <th></th>\n",
       "      <th>classes</th>\n",
       "      <th>config_format</th>\n",
       "    </tr>\n",
       "  </thead>\n",
       "  <tbody>\n",
       "    <tr>\n",
       "      <th>0</th>\n",
       "      <td>ARDRegression</td>\n",
       "      <td>json</td>\n",
       "    </tr>\n",
       "    <tr>\n",
       "      <th>1</th>\n",
       "      <td>AdaBoostClassifier</td>\n",
       "      <td>json</td>\n",
       "    </tr>\n",
       "    <tr>\n",
       "      <th>2</th>\n",
       "      <td>AdaBoostRegressor</td>\n",
       "      <td>json</td>\n",
       "    </tr>\n",
       "    <tr>\n",
       "      <th>3</th>\n",
       "      <td>AdditiveChi2Sampler</td>\n",
       "      <td>json</td>\n",
       "    </tr>\n",
       "    <tr>\n",
       "      <th>4</th>\n",
       "      <td>AffinityPropagation</td>\n",
       "      <td>json</td>\n",
       "    </tr>\n",
       "    <tr>\n",
       "      <th>...</th>\n",
       "      <td>...</td>\n",
       "      <td>...</td>\n",
       "    </tr>\n",
       "    <tr>\n",
       "      <th>165</th>\n",
       "      <td>SelectFpr</td>\n",
       "      <td>pickle</td>\n",
       "    </tr>\n",
       "    <tr>\n",
       "      <th>167</th>\n",
       "      <td>SelectFwe</td>\n",
       "      <td>pickle</td>\n",
       "    </tr>\n",
       "    <tr>\n",
       "      <th>168</th>\n",
       "      <td>SelectKBest</td>\n",
       "      <td>pickle</td>\n",
       "    </tr>\n",
       "    <tr>\n",
       "      <th>169</th>\n",
       "      <td>SelectPercentile</td>\n",
       "      <td>pickle</td>\n",
       "    </tr>\n",
       "    <tr>\n",
       "      <th>183</th>\n",
       "      <td>TfidfVectorizer</td>\n",
       "      <td>pickle</td>\n",
       "    </tr>\n",
       "  </tbody>\n",
       "</table>\n",
       "<p>196 rows × 2 columns</p>\n",
       "</div>"
      ],
      "text/plain": [
       "                 classes config_format\n",
       "0          ARDRegression          json\n",
       "1     AdaBoostClassifier          json\n",
       "2      AdaBoostRegressor          json\n",
       "3    AdditiveChi2Sampler          json\n",
       "4    AffinityPropagation          json\n",
       "..                   ...           ...\n",
       "165            SelectFpr        pickle\n",
       "167            SelectFwe        pickle\n",
       "168          SelectKBest        pickle\n",
       "169     SelectPercentile        pickle\n",
       "183      TfidfVectorizer        pickle\n",
       "\n",
       "[196 rows x 2 columns]"
      ]
     },
     "execution_count": 94,
     "metadata": {},
     "output_type": "execute_result"
    }
   ],
   "source": [
    "import json, os, inspect \n",
    "from importlib import import_module\n",
    "import pandas as pd\n",
    "from cloudpickle import dump, load\n",
    "from sklearn.utils.testing import all_estimators\n",
    "from inspect import getfullargspec, FullArgSpec\n",
    "\n",
    "def gen_sklearn_model_configs(\n",
    "    attr: str = 'predict_proba',\n",
    "    target_path: str = 'models'\n",
    "):\n",
    "    \"\"\"Generate model configs for all models with a specific attribute\n",
    "    \n",
    "    Currently extracts the class __init__ parameters and the\n",
    "    fit method and its parameters.\n",
    "    \n",
    "    Filters model by attribute `attr`, for example, only classes with a \n",
    "    `predict_proba` method (and `fit` of course).\n",
    "    \n",
    "    :param attrib:       the attribute filter\n",
    "    :param target_path:  destination folder for config files.\n",
    "    \"\"\"\n",
    "    os.makedirs(target_path, exist_ok=True)\n",
    "    errors = []\n",
    "    classes = []\n",
    "    config_format = []\n",
    "    \n",
    "    estimators = all_estimators()\n",
    "    clfs = []\n",
    "    for name, class_ in estimators:\n",
    "        if hasattr(class_, attr):\n",
    "            clfs.append((name, getfullargspec(class_), getfullargspec(class_.fit)))\n",
    "    \n",
    "    n_clfs = len(clfs)\n",
    "    # print(f'number of classes found: {n_clfs}')\n",
    "    for IX in range(n_clfs):\n",
    "        model = clfs[IX][0]\n",
    "        classes.append(model)\n",
    "        \n",
    "        model_json = {\"CLASS_PARAMS\": {}, \"FIT_PARAMS\": {}}\n",
    "        fit_params = {}\n",
    "        for i, key in enumerate(model_json.keys()):\n",
    "            f = clfs[IX][i+1]\n",
    "            args_paired = []\n",
    "            defs_paired = []\n",
    "\n",
    "            # reverse the args since there are fewer defaults than args\n",
    "            args = f.args\n",
    "            args.reverse()\n",
    "            n_args = len(args)\n",
    "\n",
    "            defs = f.defaults\n",
    "            if defs is None:\n",
    "                defs = [defs]\n",
    "            defs = list(defs)\n",
    "            defs.reverse()\n",
    "            n_defs = len(defs)\n",
    "\n",
    "            n_smallest = min(n_args, n_defs)\n",
    "            n_largest = max(n_args, n_defs)\n",
    "            \n",
    "            # build 2 lists that can be concatenated\n",
    "            for ix in range(n_smallest):\n",
    "                if args[ix] is not 'self':\n",
    "                    args_paired.append(args[ix])\n",
    "                    defs_paired.append(defs[ix])\n",
    "\n",
    "            for ix in range(n_smallest, n_largest):\n",
    "                if ix is not 0 and args[ix] is not 'self':\n",
    "                    args_paired.append(args[ix])\n",
    "                    defs_paired.append(None)\n",
    "            \n",
    "            # concatenate lists into appropriate structure\n",
    "            model_json[key] = dict(zip(args_paired, defs_paired))\n",
    "        \n",
    "        # HACK: save this model config, most as json, a few with functions\n",
    "        # as params are saved as pickle for now\n",
    "        try:\n",
    "            json.dump(model_json, open(f'{target_path}/{model}.json', 'w'))\n",
    "            config_format.append('json')\n",
    "        except Exception as e:\n",
    "            dump(model_json, open(f'{target_path}/{model}.pkl', 'wb'))\n",
    "            config_format.append('pickle')\n",
    "\n",
    "    df = pd.DataFrame({\"classes\": classes, \"config_format\": config_format})\n",
    "    df.sort_values([\"config_format\", \"classes\"], inplace=True)\n",
    "    df.to_csv(f'{target_path}/sklearn_class_list.csv')\n",
    "    \n",
    "    return df\n",
    "\n",
    "models = gen_sklearn_model_configs(attr='fit')\n",
    "models"
   ]
  },
  {
   "cell_type": "code",
   "execution_count": 95,
   "metadata": {},
   "outputs": [
    {
     "data": {
      "text/html": [
       "<div>\n",
       "<style scoped>\n",
       "    .dataframe tbody tr th:only-of-type {\n",
       "        vertical-align: middle;\n",
       "    }\n",
       "\n",
       "    .dataframe tbody tr th {\n",
       "        vertical-align: top;\n",
       "    }\n",
       "\n",
       "    .dataframe thead th {\n",
       "        text-align: right;\n",
       "    }\n",
       "</style>\n",
       "<table border=\"1\" class=\"dataframe\">\n",
       "  <thead>\n",
       "    <tr style=\"text-align: right;\">\n",
       "      <th></th>\n",
       "      <th>classes</th>\n",
       "      <th>config_format</th>\n",
       "    </tr>\n",
       "  </thead>\n",
       "  <tbody>\n",
       "    <tr>\n",
       "      <th>20</th>\n",
       "      <td>CountVectorizer</td>\n",
       "      <td>pickle</td>\n",
       "    </tr>\n",
       "    <tr>\n",
       "      <th>24</th>\n",
       "      <td>DictVectorizer</td>\n",
       "      <td>pickle</td>\n",
       "    </tr>\n",
       "    <tr>\n",
       "      <th>38</th>\n",
       "      <td>FeatureAgglomeration</td>\n",
       "      <td>pickle</td>\n",
       "    </tr>\n",
       "    <tr>\n",
       "      <th>39</th>\n",
       "      <td>FeatureHasher</td>\n",
       "      <td>pickle</td>\n",
       "    </tr>\n",
       "    <tr>\n",
       "      <th>47</th>\n",
       "      <td>GenericUnivariateSelect</td>\n",
       "      <td>pickle</td>\n",
       "    </tr>\n",
       "    <tr>\n",
       "      <th>55</th>\n",
       "      <td>HashingVectorizer</td>\n",
       "      <td>pickle</td>\n",
       "    </tr>\n",
       "    <tr>\n",
       "      <th>124</th>\n",
       "      <td>OneHotEncoder</td>\n",
       "      <td>pickle</td>\n",
       "    </tr>\n",
       "    <tr>\n",
       "      <th>127</th>\n",
       "      <td>OrdinalEncoder</td>\n",
       "      <td>pickle</td>\n",
       "    </tr>\n",
       "    <tr>\n",
       "      <th>164</th>\n",
       "      <td>SelectFdr</td>\n",
       "      <td>pickle</td>\n",
       "    </tr>\n",
       "    <tr>\n",
       "      <th>165</th>\n",
       "      <td>SelectFpr</td>\n",
       "      <td>pickle</td>\n",
       "    </tr>\n",
       "    <tr>\n",
       "      <th>167</th>\n",
       "      <td>SelectFwe</td>\n",
       "      <td>pickle</td>\n",
       "    </tr>\n",
       "    <tr>\n",
       "      <th>168</th>\n",
       "      <td>SelectKBest</td>\n",
       "      <td>pickle</td>\n",
       "    </tr>\n",
       "    <tr>\n",
       "      <th>169</th>\n",
       "      <td>SelectPercentile</td>\n",
       "      <td>pickle</td>\n",
       "    </tr>\n",
       "    <tr>\n",
       "      <th>183</th>\n",
       "      <td>TfidfVectorizer</td>\n",
       "      <td>pickle</td>\n",
       "    </tr>\n",
       "  </tbody>\n",
       "</table>\n",
       "</div>"
      ],
      "text/plain": [
       "                     classes config_format\n",
       "20           CountVectorizer        pickle\n",
       "24            DictVectorizer        pickle\n",
       "38      FeatureAgglomeration        pickle\n",
       "39             FeatureHasher        pickle\n",
       "47   GenericUnivariateSelect        pickle\n",
       "55         HashingVectorizer        pickle\n",
       "124            OneHotEncoder        pickle\n",
       "127           OrdinalEncoder        pickle\n",
       "164                SelectFdr        pickle\n",
       "165                SelectFpr        pickle\n",
       "167                SelectFwe        pickle\n",
       "168              SelectKBest        pickle\n",
       "169         SelectPercentile        pickle\n",
       "183          TfidfVectorizer        pickle"
      ]
     },
     "execution_count": 95,
     "metadata": {},
     "output_type": "execute_result"
    }
   ],
   "source": [
    "models[models.config_format=='pickle']"
   ]
  },
  {
   "cell_type": "code",
   "execution_count": 96,
   "metadata": {},
   "outputs": [
    {
     "data": {
      "text/plain": [
       "{'CLASS_PARAMS': {'n_iter_no_change': 10,\n",
       "  'epsilon': 1e-08,\n",
       "  'beta_2': 0.999,\n",
       "  'beta_1': 0.9,\n",
       "  'validation_fraction': 0.1,\n",
       "  'early_stopping': False,\n",
       "  'nesterovs_momentum': True,\n",
       "  'momentum': 0.9,\n",
       "  'warm_start': False,\n",
       "  'verbose': False,\n",
       "  'tol': 0.0001,\n",
       "  'random_state': None,\n",
       "  'shuffle': True,\n",
       "  'max_iter': 200,\n",
       "  'power_t': 0.5,\n",
       "  'learning_rate_init': 0.001,\n",
       "  'learning_rate': 'constant',\n",
       "  'batch_size': 'auto',\n",
       "  'alpha': 0.0001,\n",
       "  'solver': 'adam',\n",
       "  'activation': 'relu',\n",
       "  'hidden_layer_sizes': [100]},\n",
       " 'FIT_PARAMS': {'y': None, 'X': None}}"
      ]
     },
     "execution_count": 96,
     "metadata": {},
     "output_type": "execute_result"
    }
   ],
   "source": [
    "# json example\n",
    "json.load(open('models/MLPClassifier.json', 'r'))"
   ]
  },
  {
   "cell_type": "code",
   "execution_count": 97,
   "metadata": {},
   "outputs": [
    {
     "data": {
      "text/plain": [
       "{'CLASS_PARAMS': {'k': 10,\n",
       "  'score_func': <function sklearn.feature_selection.univariate_selection.f_classif(X, y)>},\n",
       " 'FIT_PARAMS': {'y': None, 'X': None}}"
      ]
     },
     "execution_count": 97,
     "metadata": {},
     "output_type": "execute_result"
    }
   ],
   "source": [
    "# pickle example\n",
    "config = load(open('models/SelectKBest.pkl', 'rb'))\n",
    "config"
   ]
  },
  {
   "cell_type": "markdown",
   "metadata": {},
   "source": [
    "### create and fit a pipeline from a pickled model class-config: SelectKBest"
   ]
  },
  {
   "cell_type": "markdown",
   "metadata": {},
   "source": [
    "In this sample we take a class model config that has been pickled, load it, define a set of scoring functions we want to apply, assemble them as a sklearn pipeline, fit and pickle the pipeline."
   ]
  },
  {
   "cell_type": "code",
   "execution_count": 124,
   "metadata": {},
   "outputs": [],
   "source": [
    "model_str              =  \"sklearn.feature_selection.SelectKBest\"\n",
    "\n",
    "scoring_functions_list = [\"sklearn.feature_selection.f_classif\", \n",
    "                          \"sklearn.feature_selection.mutual_info_classif\", \n",
    "                          \"sklearn.feature_selection.chi2\", \n",
    "                          \"sklearn.feature_selection.f_regression\"]"
   ]
  },
  {
   "cell_type": "code",
   "execution_count": 110,
   "metadata": {},
   "outputs": [],
   "source": [
    "splits = model_str.split(\".\")\n",
    "ModelClass = getattr(import_module(\".\".join(splits[:-1])), splits[-1])"
   ]
  },
  {
   "cell_type": "code",
   "execution_count": 125,
   "metadata": {},
   "outputs": [
    {
     "data": {
      "text/plain": [
       "[SelectKBest(k=10, score_func=<function f_classif at 0x7fb1d3b51730>),\n",
       " SelectKBest(k=10, score_func=<function mutual_info_classif at 0x7fb1d3a3e9d8>),\n",
       " SelectKBest(k=10, score_func=<function chi2 at 0x7fb1d3b51840>),\n",
       " SelectKBest(k=10, score_func=<function f_regression at 0x7fb1d3b518c8>)]"
      ]
     },
     "execution_count": 125,
     "metadata": {},
     "output_type": "execute_result"
    }
   ],
   "source": [
    "variations = []\n",
    "\n",
    "for score_func in scoring_functions_list:\n",
    "    mc = ModelClass(**config['CLASS_PARAMS'])\n",
    "    splits = score_func.split(\".\")\n",
    "    mc.score_func = getattr(import_module(\".\".join(splits[:-1])), \n",
    "                            splits[-1])\n",
    "    variations.append(mc)\n",
    "\n",
    "variations"
   ]
  },
  {
   "cell_type": "code",
   "execution_count": 87,
   "metadata": {},
   "outputs": [],
   "source": [
    "from sklearn.datasets import load_digits"
   ]
  },
  {
   "cell_type": "code",
   "execution_count": 88,
   "metadata": {},
   "outputs": [
    {
     "data": {
      "text/plain": [
       "(1797, 64)"
      ]
     },
     "execution_count": 88,
     "metadata": {},
     "output_type": "execute_result"
    }
   ],
   "source": [
    "X, y = load_digits(return_X_y=True)\n",
    "X.shape"
   ]
  },
  {
   "cell_type": "code",
   "execution_count": 132,
   "metadata": {},
   "outputs": [
    {
     "name": "stderr",
     "output_type": "stream",
     "text": [
      "/conda/lib/python3.6/site-packages/sklearn/feature_selection/univariate_selection.py:114: UserWarning: Features [ 0 32 39] are constant.\n",
      "  UserWarning)\n",
      "/conda/lib/python3.6/site-packages/sklearn/feature_selection/univariate_selection.py:115: RuntimeWarning: invalid value encountered in true_divide\n",
      "  f = msb / msw\n"
     ]
    },
    {
     "name": "stdout",
     "output_type": "stream",
     "text": [
      "[[13.  0. 11. ...  0. 11.  0.]\n",
      " [ 0. 16.  6. ... 16.  1. 16.]\n",
      " [ 3.  8. 16. ... 15. 16. 16.]\n",
      " ...\n",
      " [13. 10. 16. ... 16. 16. 14.]\n",
      " [14.  3. 16. ... 14.  0.  0.]\n",
      " [16.  8. 15. ... 15. 16.  6.]]\n",
      "[[11. 12.  0. ...  0.  0.  0.]\n",
      " [ 6. 15. 16. ... 16.  0. 10.]\n",
      " [16.  1. 15. ... 16.  5. 16.]\n",
      " ...\n",
      " [16.  8. 16. ... 14.  0.  6.]\n",
      " [16. 16.  7. ...  0.  2. 12.]\n",
      " [15.  5. 16. ...  6.  8. 12.]]\n",
      "[[ 0. 11. 12. ...  0.  0.  0.]\n",
      " [16.  6. 15. ... 16.  0.  0.]\n",
      " [ 8. 16.  1. ... 16.  5.  9.]\n",
      " ...\n",
      " [10. 16.  8. ... 14.  0.  0.]\n",
      " [ 3. 16. 16. ...  0.  2.  0.]\n",
      " [ 8. 15.  5. ...  6.  8.  1.]]\n",
      "[[ 0. 10.  5. ...  0. 10. 10.]\n",
      " [ 0. 16.  0. ... 16. 16. 16.]\n",
      " [ 0. 15.  0. ... 13. 16. 11.]\n",
      " ...\n",
      " [ 0.  8.  1. ... 16. 15. 13.]\n",
      " [ 0. 16.  1. ... 14.  7. 16.]\n",
      " [ 0.  6.  0. ... 15.  8. 14.]]\n"
     ]
    },
    {
     "name": "stderr",
     "output_type": "stream",
     "text": [
      "/conda/lib/python3.6/site-packages/sklearn/feature_selection/univariate_selection.py:299: RuntimeWarning: invalid value encountered in true_divide\n",
      "  corr /= X_norms\n",
      "/conda/lib/python3.6/site-packages/scipy/stats/_distn_infrastructure.py:903: RuntimeWarning: invalid value encountered in greater\n",
      "  return (a < x) & (x < b)\n",
      "/conda/lib/python3.6/site-packages/scipy/stats/_distn_infrastructure.py:903: RuntimeWarning: invalid value encountered in less\n",
      "  return (a < x) & (x < b)\n",
      "/conda/lib/python3.6/site-packages/scipy/stats/_distn_infrastructure.py:1912: RuntimeWarning: invalid value encountered in less_equal\n",
      "  cond2 = cond0 & (x <= _a)\n"
     ]
    }
   ],
   "source": [
    "# run in parallel\n",
    "for var in variations:\n",
    "    print(var.fit_transform(X, y))"
   ]
  },
  {
   "cell_type": "code",
   "execution_count": null,
   "metadata": {},
   "outputs": [],
   "source": []
  }
 ],
 "metadata": {
  "kernelspec": {
   "display_name": "Python 3",
   "language": "python",
   "name": "python3"
  },
  "language_info": {
   "codemirror_mode": {
    "name": "ipython",
    "version": 3
   },
   "file_extension": ".py",
   "mimetype": "text/x-python",
   "name": "python",
   "nbconvert_exporter": "python",
   "pygments_lexer": "ipython3",
   "version": "3.6.8"
  }
 },
 "nbformat": 4,
 "nbformat_minor": 4
}
