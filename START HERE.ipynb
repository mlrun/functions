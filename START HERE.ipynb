{
 "cells": [
  {
   "cell_type": "markdown",
   "metadata": {},
   "source": [
    "# start here\n",
    "\n",
    "1. set up a minimal conda environment for reproducibility\n",
    "2. run the `arc_to_parquet` on a file to donwload and convert it ot parquet\n",
    "3. run `describe` to get a summary of the data"
   ]
  },
  {
   "cell_type": "markdown",
   "metadata": {},
   "source": [
    "the file included here **[functions-mlrun-v046-conda-pyenv-min-nodask](functions-mlrun-v046-conda-pyenv-min-nodask.txt)** contains a minimal conda environment for running the functions repo.  To clone this into a new environment locally run the following:"
   ]
  },
  {
   "cell_type": "markdown",
   "metadata": {},
   "source": [
    "    !conda create --name <YOUR_NEW_ENV_NAME> -f functions-mlrun-v046-conda-pyenv-min-nodask.txt"
   ]
  },
  {
   "cell_type": "markdown",
   "metadata": {},
   "source": [
    "Here is a **partial `conda list`** of the included packages:\n",
    "\n",
    "    # packages in environment at /User/.conda/envs/stable: \n",
    "\n",
    "    # Name                    Version                   Build  Channel \n",
    "    arrow-cpp                 0.15.1           py37h7cd5009_5    anaconda \n",
    "    blas                      1.0                         mkl    anaconda \n",
    "    intel-openmp              2020.0                      166    anaconda \n",
    "    ipython                   7.13.0                   pypi_0    pypi \n",
    "    joblib                    0.14.1                     py_0    anaconda \n",
    "    lightgbm                  2.3.0            py37he6710b0_0    anaconda \n",
    "    matplotlib                3.1.3                    py37_0    anaconda \n",
    "    mkl                       2019.5                      281    anaconda \n",
    "    numpy                     1.18.1           py37h4f9e942_0    anaconda \n",
    "    pandas                    1.0.2            py37h0573a6f_0    anaconda \n",
    "    pip                       20.0.2                   py37_1    anaconda \n",
    "    pyarrow                   0.15.1           py37h0573a6f_0    anaconda \n",
    "    pytest                    5.4.1                    py37_0    anaconda \n",
    "    python                    3.7.6                h0371630_2    anaconda \n",
    "    pyzmq                     19.0.0                   pypi_0    pypi \n",
    "    scikit-learn              0.22.1           py37hd81dba3_0    anaconda \n",
    "    scipy                     1.4.1            py37h0b6359f_0    anaconda \n",
    "    seaborn                   0.10.0                     py_0    anaconda \n",
    "    sqlite                    3.31.1               h7b6447c_0    anaconda \n",
    "    xgboost                   1.0.2            py37h3340039_0    conda-forge "
   ]
  },
  {
   "cell_type": "code",
   "execution_count": 2,
   "metadata": {},
   "outputs": [],
   "source": [
    "# INSTALL THE KERNEL AND GIVE IT A NAME (LIKE STABLE)\n",
    "# RESTART AND START RUNNING THE TUTORIAL"
   ]
  },
  {
   "cell_type": "code",
   "execution_count": null,
   "metadata": {},
   "outputs": [],
   "source": []
  },
  {
   "cell_type": "markdown",
   "metadata": {},
   "source": [
    "**[arc_to_parquet]()** download and save to parquet\n",
    "higgs data, large..."
   ]
  },
  {
   "cell_type": "code",
   "execution_count": null,
   "metadata": {},
   "outputs": [],
   "source": []
  }
 ],
 "metadata": {
  "kernelspec": {
   "display_name": "stable",
   "language": "python",
   "name": "stable"
  },
  "language_info": {
   "codemirror_mode": {
    "name": "ipython",
    "version": 3
   },
   "file_extension": ".py",
   "mimetype": "text/x-python",
   "name": "python",
   "nbconvert_exporter": "python",
   "pygments_lexer": "ipython3",
   "version": "3.7.6"
  }
 },
 "nbformat": 4,
 "nbformat_minor": 4
}
