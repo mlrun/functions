{
 "cells": [
  {
   "cell_type": "markdown",
   "id": "cbbc90d3-8179-42fa-8f67-0cfe90546759",
   "metadata": {},
   "source": [
    "# Text to audio conversation generator"
   ]
  },
  {
   "cell_type": "markdown",
   "id": "cf22790e-9e00-46d6-9e02-13ae46b3baee",
   "metadata": {},
   "source": [
    "This function converts the text from a specified text file into speech and saves this as an audio file using the Bark library.<br>\n",
    "It's designed to facilitate easy generation of speech from written transcripts.\n"
   ]
  },
  {
   "cell_type": "markdown",
   "id": "1ed4da8a-6d60-41a3-a4b1-6c7469356ea8",
   "metadata": {},
   "source": [
    "## Example Usage:"
   ]
  },
  {
   "cell_type": "code",
   "execution_count": 1,
   "id": "bb20c4a6-f362-40e6-8f73-9145953959ec",
   "metadata": {},
   "outputs": [],
   "source": [
    "import mlrun\n",
    "import tempfile"
   ]
  },
  {
   "cell_type": "code",
   "execution_count": 2,
   "id": "d0786055-34e9-4d15-a8b2-8a736244e9de",
   "metadata": {},
   "outputs": [],
   "source": [
    "# Import function \n",
    "text_to_audio_generator_function = mlrun.import_function(\"hub://text_to_audio_generator\")"
   ]
  },
  {
   "cell_type": "code",
   "execution_count": 3,
   "id": "8f9400bf-ac37-4a52-a0ed-1b0ae399ea82",
   "metadata": {},
   "outputs": [
    {
     "name": "stdout",
     "output_type": "stream",
     "text": [
      "> 2023-12-04 14:08:48,769 [info] Storing function: {'name': 'text-to-audio-generator-generate-multi-speakers-audio', 'uid': 'ba017dfc11624de9afb5e148a6678a8b', 'db': 'http://mlrun-api:8080'}\n"
     ]
    },
    {
     "name": "stderr",
     "output_type": "stream",
     "text": [
      "torch.nn.utils.weight_norm is deprecated in favor of torch.nn.utils.parametrizations.weight_norm.\n",
      "Generating: 100%|██████████| 1/1 [00:23<00:00, 23.74s/file]"
     ]
    },
    {
     "name": "stdout",
     "output_type": "stream",
     "text": [
      "> 2023-12-04 14:10:05,123 [info] Done (1/1)\n",
      "Translations summary:\n",
      "       text_file     audio_file\n",
      "0  test_data.txt  test_data.mp3\n"
     ]
    },
    {
     "name": "stderr",
     "output_type": "stream",
     "text": [
      "\n"
     ]
    },
    {
     "data": {
      "text/html": [
       "<style>\n",
       ".dictlist {\n",
       "  background-color: #4EC64B;\n",
       "  text-align: center;\n",
       "  margin: 4px;\n",
       "  border-radius: 3px; padding: 0px 3px 1px 3px; display: inline-block;}\n",
       ".artifact {\n",
       "  cursor: pointer;\n",
       "  background-color: #4EC64B;\n",
       "  text-align: left;\n",
       "  margin: 4px; border-radius: 3px; padding: 0px 3px 1px 3px; display: inline-block;\n",
       "}\n",
       "div.block.hidden {\n",
       "  display: none;\n",
       "}\n",
       ".clickable {\n",
       "  cursor: pointer;\n",
       "}\n",
       ".ellipsis {\n",
       "  display: inline-block;\n",
       "  max-width: 60px;\n",
       "  white-space: nowrap;\n",
       "  overflow: hidden;\n",
       "  text-overflow: ellipsis;\n",
       "}\n",
       ".master-wrapper {\n",
       "  display: flex;\n",
       "  flex-flow: row nowrap;\n",
       "  justify-content: flex-start;\n",
       "  align-items: stretch;\n",
       "}\n",
       ".master-tbl {\n",
       "  flex: 3\n",
       "}\n",
       ".master-wrapper > div {\n",
       "  margin: 4px;\n",
       "  padding: 10px;\n",
       "}\n",
       "iframe.fileview {\n",
       "  border: 0 none;\n",
       "  height: 100%;\n",
       "  width: 100%;\n",
       "  white-space: pre-wrap;\n",
       "}\n",
       ".pane-header-title {\n",
       "  width: 80%;\n",
       "  font-weight: 500;\n",
       "}\n",
       ".pane-header {\n",
       "  line-height: 1;\n",
       "  background-color: #4EC64B;\n",
       "  padding: 3px;\n",
       "}\n",
       ".pane-header .close {\n",
       "  font-size: 20px;\n",
       "  font-weight: 700;\n",
       "  float: right;\n",
       "  margin-top: -5px;\n",
       "}\n",
       ".master-wrapper .right-pane {\n",
       "  border: 1px inset silver;\n",
       "  width: 40%;\n",
       "  min-height: 300px;\n",
       "  flex: 3\n",
       "  min-width: 500px;\n",
       "}\n",
       ".master-wrapper * {\n",
       "  box-sizing: border-box;\n",
       "}\n",
       "</style><script>\n",
       "function copyToClipboard(fld) {\n",
       "    if (document.queryCommandSupported && document.queryCommandSupported('copy')) {\n",
       "        var textarea = document.createElement('textarea');\n",
       "        textarea.textContent = fld.innerHTML;\n",
       "        textarea.style.position = 'fixed';\n",
       "        document.body.appendChild(textarea);\n",
       "        textarea.select();\n",
       "\n",
       "        try {\n",
       "            return document.execCommand('copy'); // Security exception may be thrown by some browsers.\n",
       "        } catch (ex) {\n",
       "\n",
       "        } finally {\n",
       "            document.body.removeChild(textarea);\n",
       "        }\n",
       "    }\n",
       "}\n",
       "function expandPanel(el) {\n",
       "  const panelName = \"#\" + el.getAttribute('paneName');\n",
       "  console.log(el.title);\n",
       "\n",
       "  document.querySelector(panelName + \"-title\").innerHTML = el.title\n",
       "  iframe = document.querySelector(panelName + \"-body\");\n",
       "\n",
       "  const tblcss = `<style> body { font-family: Arial, Helvetica, sans-serif;}\n",
       "    #csv { margin-bottom: 15px; }\n",
       "    #csv table { border-collapse: collapse;}\n",
       "    #csv table td { padding: 4px 8px; border: 1px solid silver;} </style>`;\n",
       "\n",
       "  function csvToHtmlTable(str) {\n",
       "    return '<div id=\"csv\"><table><tr><td>' +  str.replace(/[\\n\\r]+$/g, '').replace(/[\\n\\r]+/g, '</td></tr><tr><td>')\n",
       "      .replace(/,/g, '</td><td>') + '</td></tr></table></div>';\n",
       "  }\n",
       "\n",
       "  function reqListener () {\n",
       "    if (el.title.endsWith(\".csv\")) {\n",
       "      iframe.setAttribute(\"srcdoc\", tblcss + csvToHtmlTable(this.responseText));\n",
       "    } else {\n",
       "      iframe.setAttribute(\"srcdoc\", this.responseText);\n",
       "    }\n",
       "    console.log(this.responseText);\n",
       "  }\n",
       "\n",
       "  const oReq = new XMLHttpRequest();\n",
       "  oReq.addEventListener(\"load\", reqListener);\n",
       "  oReq.open(\"GET\", el.title);\n",
       "  oReq.send();\n",
       "\n",
       "\n",
       "  //iframe.src = el.title;\n",
       "  const resultPane = document.querySelector(panelName + \"-pane\");\n",
       "  if (resultPane.classList.contains(\"hidden\")) {\n",
       "    resultPane.classList.remove(\"hidden\");\n",
       "  }\n",
       "}\n",
       "function closePanel(el) {\n",
       "  const panelName = \"#\" + el.getAttribute('paneName')\n",
       "  const resultPane = document.querySelector(panelName + \"-pane\");\n",
       "  if (!resultPane.classList.contains(\"hidden\")) {\n",
       "    resultPane.classList.add(\"hidden\");\n",
       "  }\n",
       "}\n",
       "\n",
       "</script>\n",
       "<div class=\"master-wrapper\">\n",
       "  <div class=\"block master-tbl\"><div>\n",
       "<style scoped>\n",
       "    .dataframe tbody tr th:only-of-type {\n",
       "        vertical-align: middle;\n",
       "    }\n",
       "\n",
       "    .dataframe tbody tr th {\n",
       "        vertical-align: top;\n",
       "    }\n",
       "\n",
       "    .dataframe thead th {\n",
       "        text-align: right;\n",
       "    }\n",
       "</style>\n",
       "<table border=\"1\" class=\"dataframe\">\n",
       "  <thead>\n",
       "    <tr style=\"text-align: right;\">\n",
       "      <th>project</th>\n",
       "      <th>uid</th>\n",
       "      <th>iter</th>\n",
       "      <th>start</th>\n",
       "      <th>state</th>\n",
       "      <th>name</th>\n",
       "      <th>labels</th>\n",
       "      <th>inputs</th>\n",
       "      <th>parameters</th>\n",
       "      <th>results</th>\n",
       "      <th>artifacts</th>\n",
       "    </tr>\n",
       "  </thead>\n",
       "  <tbody>\n",
       "    <tr>\n",
       "      <td>default</td>\n",
       "      <td><div title=\"ba017dfc11624de9afb5e148a6678a8b\"><a href=\"https://dashboard.default-tenant.app.llm2.iguazio-cd0.com/mlprojects/default/jobs/monitor/ba017dfc11624de9afb5e148a6678a8b/overview\" target=\"_blank\" >...a6678a8b</a></div></td>\n",
       "      <td>0</td>\n",
       "      <td>Dec 04 14:08:48</td>\n",
       "      <td>completed</td>\n",
       "      <td>text-to-audio-generator-generate-multi-speakers-audio</td>\n",
       "      <td><div class=\"dictlist\">v3io_user=yonis</div><div class=\"dictlist\">kind=local</div><div class=\"dictlist\">owner=yonis</div><div class=\"dictlist\">host=jupyter-yonis-7c9bdbfb4d-9g2p2</div></td>\n",
       "      <td><div class=\"artifact\" onclick=\"expandPanel(this)\" paneName=\"resultf0d58916\" title=\"/files/text_to_audio/test_data.txt\">data_path</div></td>\n",
       "      <td><div class=\"dictlist\">output_directory=./out</div><div class=\"dictlist\">speakers={'Agent': 0, 'Client': 1}</div><div class=\"dictlist\">available_voices=['v2/en_speaker_0', 'v2/en_speaker_1']</div><div class=\"dictlist\">use_small_models=True</div><div class=\"dictlist\">use_gpu=False</div><div class=\"dictlist\">offload_cpu=True</div><div class=\"dictlist\">file_format=mp3</div></td>\n",
       "      <td></td>\n",
       "      <td><div title=\"v3io:///projects/default/artifacts/text-to-audio-generator-generate-multi-speakers-audio/0/audio_files.zip\">audio_files</div><div title=\"v3io:///projects/default/artifacts/text-to-audio-generator-generate-multi-speakers-audio/0/audio_files_dataframe.parquet\">audio_files_dataframe</div><div class=\"artifact\" onclick=\"expandPanel(this)\" paneName=\"resultf0d58916\" title=\"files/v3io/projects/default/artifacts/text-to-audio-generator-generate-multi-speakers-audio/0/text_to_speech_errors.json\">text_to_speech_errors</div></td>\n",
       "    </tr>\n",
       "  </tbody>\n",
       "</table>\n",
       "</div></div>\n",
       "  <div id=\"resultf0d58916-pane\" class=\"right-pane block hidden\">\n",
       "    <div class=\"pane-header\">\n",
       "      <span id=\"resultf0d58916-title\" class=\"pane-header-title\">Title</span>\n",
       "      <span onclick=\"closePanel(this)\" paneName=\"resultf0d58916\" class=\"close clickable\">&times;</span>\n",
       "    </div>\n",
       "    <iframe class=\"fileview\" id=\"resultf0d58916-body\"></iframe>\n",
       "  </div>\n",
       "</div>\n"
      ],
      "text/plain": [
       "<IPython.core.display.HTML object>"
      ]
     },
     "metadata": {},
     "output_type": "display_data"
    },
    {
     "name": "stdout",
     "output_type": "stream",
     "text": [
      "\n"
     ]
    },
    {
     "data": {
      "text/html": [
       "<b> > to track results use the .show() or .logs() methods  or <a href=\"https://dashboard.default-tenant.app.llm2.iguazio-cd0.com/mlprojects/default/jobs/monitor/ba017dfc11624de9afb5e148a6678a8b/overview\" target=\"_blank\">click here</a> to open in UI</b>"
      ],
      "text/plain": [
       "<IPython.core.display.HTML object>"
      ]
     },
     "metadata": {},
     "output_type": "display_data"
    },
    {
     "name": "stdout",
     "output_type": "stream",
     "text": [
      "> 2023-12-04 14:10:05,486 [info] Run execution finished: {'status': 'completed', 'name': 'text-to-audio-generator-generate-multi-speakers-audio'}\n"
     ]
    }
   ],
   "source": [
    "# Run the function with desired text files\n",
    "function_run = text_to_audio_generator_function.run(\n",
    "    handler=\"generate_multi_speakers_audio\",\n",
    "    inputs={\"data_path\": \"./test_data.txt\"},\n",
    "    params={\n",
    "        \"output_directory\": \"./out\",\n",
    "        \"speakers\": {\"Agent\": 0, \"Client\": 1},\n",
    "        \"available_voices\": [\n",
    "            \"v2/en_speaker_0\",\n",
    "            \"v2/en_speaker_1\",\n",
    "        ],\n",
    "        \"use_small_models\": True,\n",
    "        \"use_gpu\": False,\n",
    "        \"offload_cpu\": True,\n",
    "        \"file_format\": \"mp3\",\n",
    "        # \"bits_per_sample\": 8,\n",
    "    },\n",
    "    local=True,\n",
    "    returns=[\n",
    "        \"audio_files: path\",\n",
    "        \"audio_files_dataframe: dataset\",\n",
    "        \"text_to_speech_errors: file\",\n",
    "    ],\n",
    ")"
   ]
  },
  {
   "cell_type": "code",
   "execution_count": 4,
   "id": "014420d1-a03c-47de-ba96-d631d0b4ee10",
   "metadata": {},
   "outputs": [
    {
     "data": {
      "text/html": [
       "<div>\n",
       "<style scoped>\n",
       "    .dataframe tbody tr th:only-of-type {\n",
       "        vertical-align: middle;\n",
       "    }\n",
       "\n",
       "    .dataframe tbody tr th {\n",
       "        vertical-align: top;\n",
       "    }\n",
       "\n",
       "    .dataframe thead th {\n",
       "        text-align: right;\n",
       "    }\n",
       "</style>\n",
       "<table border=\"1\" class=\"dataframe\">\n",
       "  <thead>\n",
       "    <tr style=\"text-align: right;\">\n",
       "      <th></th>\n",
       "      <th>text_file</th>\n",
       "      <th>audio_file</th>\n",
       "    </tr>\n",
       "  </thead>\n",
       "  <tbody>\n",
       "    <tr>\n",
       "      <th>0</th>\n",
       "      <td>test_data.txt</td>\n",
       "      <td>test_data.mp3</td>\n",
       "    </tr>\n",
       "  </tbody>\n",
       "</table>\n",
       "</div>"
      ],
      "text/plain": [
       "       text_file     audio_file\n",
       "0  test_data.txt  test_data.mp3"
      ]
     },
     "metadata": {},
     "output_type": "display_data"
    }
   ],
   "source": [
    "function_run.artifact(\"audio_files_dataframe\").show()"
   ]
  },
  {
   "cell_type": "code",
   "execution_count": 5,
   "id": "4d23e07e-788e-4b4e-a517-d921f6a2a24c",
   "metadata": {},
   "outputs": [
    {
     "data": {
      "text/html": [
       "\n",
       "                <audio  controls=\"controls\" >\n",
       "                    <source src=\"data:audio/mpeg;base64,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\" type=\"audio/mpeg\" />\n",
       "                    Your browser does not support the audio element.\n",
       "                </audio>\n",
       "              "
      ],
      "text/plain": [
       "<IPython.lib.display.Audio object>"
      ]
     },
     "execution_count": 5,
     "metadata": {},
     "output_type": "execute_result"
    }
   ],
   "source": [
    "import IPython\n",
    "\n",
    "IPython.display.Audio(\"./out/test_data.mp3\")"
   ]
  }
 ],
 "metadata": {
  "kernelspec": {
   "display_name": "mlrun-base",
   "language": "python",
   "name": "conda-env-mlrun-base-py"
  },
  "language_info": {
   "codemirror_mode": {
    "name": "ipython",
    "version": 3
   },
   "file_extension": ".py",
   "mimetype": "text/x-python",
   "name": "python",
   "nbconvert_exporter": "python",
   "pygments_lexer": "ipython3",
   "version": "3.9.16"
  }
 },
 "nbformat": 4,
 "nbformat_minor": 5
}
