{
 "cells": [
  {
   "cell_type": "code",
   "execution_count": 1,
   "metadata": {},
   "outputs": [],
   "source": [
    "# nuclio: ignore\n",
    "import nuclio"
   ]
  },
  {
   "cell_type": "code",
   "execution_count": 2,
   "metadata": {},
   "outputs": [
    {
     "name": "stdout",
     "output_type": "stream",
     "text": [
      "%nuclio: setting kind to 'job'\n",
      "%nuclio: setting spec.image to 'yjbds/ml-models:0.4.8'\n"
     ]
    }
   ],
   "source": [
    "%nuclio config kind = \"job\"\n",
    "%nuclio config spec.image = \"yjbds/ml-models:0.4.8\""
   ]
  },
  {
   "cell_type": "code",
   "execution_count": 3,
   "metadata": {},
   "outputs": [],
   "source": [
    "import warnings\n",
    "warnings.simplefilter(action=\"ignore\", category=FutureWarning)"
   ]
  },
  {
   "cell_type": "code",
   "execution_count": 21,
   "metadata": {},
   "outputs": [],
   "source": [
    "import os\n",
    "import pandas as pd\n",
    "from mlrun.datastore import DataItem\n",
    "from mlrun.artifacts import get_model\n",
    "from mlutils import eval_class_model\n",
    "from cloudpickle import load\n",
    "from urllib.request import urlopen\n",
    "\n",
    "def test_classifier(\n",
    "    context,\n",
    "    models_path: DataItem, \n",
    "    test_set: DataItem,\n",
    "    label_column: str,\n",
    "    score_method: str = 'micro',\n",
    "    plots_dest: str = \"\",\n",
    "    model_evaluator = None,\n",
    "    default_model: str = \"model.pkl\"\n",
    ") -> None:\n",
    "    \"\"\"Test one or more classifier models against held-out dataset\n",
    "    \n",
    "    Using held-out test features, evaluates the peformance of the estimated model\n",
    "    \n",
    "    Can be part of a kubeflow pipeline as a test step that is run post EDA and \n",
    "    training/validation cycles\n",
    "    \n",
    "    :param context:         the function context\n",
    "    :param models_path:     artifact models representing a file or a folder\n",
    "    :param test_set:        test features and labels\n",
    "    :param label_column:    column name for ground truth labels\n",
    "    :param score_method:    for multiclass classification\n",
    "    :param plots_dest:      dir for test plots\n",
    "    :param model_evaluator: NOT IMPLEMENTED: specific method to generate eval, passed in as string\n",
    "                            or available in this folder\n",
    "    \"\"\"\n",
    "    xtest = test_set.as_df()\n",
    "    ytest = xtest.pop(label_column)\n",
    "    \n",
    "    try:\n",
    "        model_file, model_obj, _ = get_model(models_path.url, suffix='.pkl')\n",
    "        model_obj = load(open(model_file, \"rb\"))\n",
    "    except ValueError as va: \n",
    "        model_file = os.path.join(str(models_path), default_model)\n",
    "        model_obj = load(urlopen(model_file))\n",
    "    except Exception as a:\n",
    "        raise Exception(\"model location likely specified\")\n",
    "    \n",
    "    eval_metrics = eval_class_model(context, xtest, ytest.values, model_obj)\n",
    "\n",
    "    # just do this inside log_model?\n",
    "    model_plots = eval_metrics.pop(\"plots\")\n",
    "    for plot in model_plots:\n",
    "        context.log_artifact(plot, local_path=f\"{plots_dest}/{plot.key}.html\")\n",
    "    \n",
    "    if hasattr(eval_metrics, \"tables\"):\n",
    "        model_tables = eval_metrics.pop(\"tables\")\n",
    "        for tbl in model_tables:\n",
    "            context.log_artifact(tbl, local_path=f\"{plots_dest}/{plot.key}.csv\")\n",
    "\n",
    "    context.log_results(eval_metrics)\n",
    "    \n",
    "    # get y_hat:\n",
    "    y_hat = model_obj.predict(xtest)\n",
    "    # give the prediction columns titles/headers\n",
    "    if y_hat.ndim == 1 or y_hat.shape[1] == 1:\n",
    "        score_names = [\"yscore\"]\n",
    "    else:\n",
    "        score_names = [\"yscore_\" + str(x) for x in range(y_hat.shape[1])]\n",
    "\n",
    "    # log the test set and its predictions (should also bind model and metadata)\n",
    "    df = pd.concat([xtest, ytest, pd.DataFrame(y_hat, columns=score_names)], axis=1)\n",
    "    context.log_dataset(\"test_set_preds\", df=df, format=\"parquet\", index=False)"
   ]
  },
  {
   "cell_type": "code",
   "execution_count": 22,
   "metadata": {},
   "outputs": [],
   "source": [
    "# nuclio: end-code"
   ]
  },
  {
   "cell_type": "markdown",
   "metadata": {
    "pycharm": {
     "name": "#%% md\n"
    }
   },
   "source": [
    "### mlconfig"
   ]
  },
  {
   "cell_type": "code",
   "execution_count": 23,
   "metadata": {
    "pycharm": {
     "name": "#%%\n"
    }
   },
   "outputs": [],
   "source": [
    "from mlrun import mlconf\n",
    "import os\n",
    "\n",
    "mlconf.dbpath = mlconf.dbpath or 'http://mlrun-api:8080'\n",
    "mlconf.artifact_path = mlconf.artifact_path or f'{os.environ[\"HOME\"]}/artifacts'"
   ]
  },
  {
   "cell_type": "markdown",
   "metadata": {
    "pycharm": {
     "name": "#%% md\n"
    }
   },
   "source": [
    "### save"
   ]
  },
  {
   "cell_type": "code",
   "execution_count": 24,
   "metadata": {
    "pycharm": {
     "name": "#%%\n"
    }
   },
   "outputs": [
    {
     "name": "stdout",
     "output_type": "stream",
     "text": [
      "[mlrun] 2020-05-26 23:52:02,379 function spec saved to path: function.yaml\n"
     ]
    },
    {
     "data": {
      "text/plain": [
       "<mlrun.runtimes.kubejob.KubejobRuntime at 0x7fbbf03bc908>"
      ]
     },
     "execution_count": 24,
     "metadata": {},
     "output_type": "execute_result"
    }
   ],
   "source": [
    "from mlrun import code_to_function \n",
    "# create job function object from notebook code\n",
    "fn = code_to_function(\"test_classifier\")\n",
    "\n",
    "# add metadata (for templates and reuse)\n",
    "fn.spec.default_handler = \"test_classifier\"\n",
    "fn.spec.description = \"test a classifier using held-out or new data\"\n",
    "fn.metadata.categories = [\"ml\", \"test\"]\n",
    "fn.metadata.labels = {\"author\": \"yjb\", \"framework\": \"sklearn\"}\n",
    "fn.export(\"function.yaml\")"
   ]
  },
  {
   "cell_type": "markdown",
   "metadata": {
    "pycharm": {
     "name": "#%% md\n"
    }
   },
   "source": [
    "## tests"
   ]
  },
  {
   "cell_type": "code",
   "execution_count": 25,
   "metadata": {
    "pycharm": {
     "name": "#%%\n"
    }
   },
   "outputs": [
    {
     "data": {
      "text/plain": [
       "<mlrun.runtimes.kubejob.KubejobRuntime at 0x7fbbf03bc908>"
      ]
     },
     "execution_count": 25,
     "metadata": {},
     "output_type": "execute_result"
    }
   ],
   "source": [
    "from mlutils import get_vol_mount\n",
    "fn.apply(get_vol_mount())"
   ]
  },
  {
   "cell_type": "code",
   "execution_count": 26,
   "metadata": {},
   "outputs": [],
   "source": [
    "task_params = {\n",
    "    \"name\" : \"tasks test classifier\",\n",
    "    \"params\": {\n",
    "        \"label_column\"  : \"label\",\n",
    "        \"plots_dest\"    : \"sklearn_classifier/plots\"}}"
   ]
  },
  {
   "cell_type": "markdown",
   "metadata": {
    "pycharm": {
     "name": "#%% md\n"
    }
   },
   "source": [
    "### run locally"
   ]
  },
  {
   "cell_type": "code",
   "execution_count": 30,
   "metadata": {},
   "outputs": [],
   "source": [
    "TEST_REPO = \"https://raw.githubusercontent.com/yjb-ds/testdata/master\"\n",
    "DATA_PATH  = \"models/test_classifier/test_set.csv\"\n",
    "MODELS_PATH = \"models/test_classifier/model.pkl\""
   ]
  },
  {
   "cell_type": "code",
   "execution_count": 31,
   "metadata": {
    "pycharm": {
     "name": "#%%\n"
    }
   },
   "outputs": [
    {
     "name": "stdout",
     "output_type": "stream",
     "text": [
      "[mlrun] 2020-05-27 00:38:25,822 starting run tasks test classifier uid=1f48fec458774425a20c3a4c685083dc  -> http://mlrun-api:8080\n",
      "MULTICLASS True\n",
      "[mlrun] 2020-05-27 00:38:26,388 log artifact confusion-matrix-normalized at /User/artifacts/test-classifier/sklearn_classifier/plots/confusion-matrix-normalized.html, size: 14138, db: Y\n",
      "[mlrun] 2020-05-27 00:38:26,410 log artifact precision-recall-multiclass at /User/artifacts/test-classifier/sklearn_classifier/plots/precision-recall-multiclass.html, size: 1766, db: Y\n",
      "[mlrun] 2020-05-27 00:38:26,491 log artifact roc-multiclass at /User/artifacts/test-classifier/sklearn_classifier/plots/roc-multiclass.html, size: 20865, db: Y\n",
      "[mlrun] 2020-05-27 00:38:26,584 log artifact test_set_preds at /User/artifacts/test-classifier/test_set_preds.parquet, size: 5179, db: Y\n",
      "\n"
     ]
    },
    {
     "data": {
      "text/html": [
       "<style> \n",
       ".dictlist {\n",
       "  background-color: #b3edff; \n",
       "  text-align: center; \n",
       "  margin: 4px; \n",
       "  border-radius: 3px; padding: 0px 3px 1px 3px; display: inline-block;}\n",
       ".artifact {\n",
       "  cursor: pointer; \n",
       "  background-color: #ffe6cc; \n",
       "  text-align: left; \n",
       "  margin: 4px; border-radius: 3px; padding: 0px 3px 1px 3px; display: inline-block;\n",
       "}\n",
       "div.block.hidden {\n",
       "  display: none;\n",
       "}\n",
       ".clickable {\n",
       "  cursor: pointer;\n",
       "}\n",
       ".ellipsis {\n",
       "  display: inline-block;\n",
       "  max-width: 60px;\n",
       "  white-space: nowrap;\n",
       "  overflow: hidden;\n",
       "  text-overflow: ellipsis;\n",
       "}\n",
       ".master-wrapper {\n",
       "  display: flex;\n",
       "  flex-flow: row nowrap;\n",
       "  justify-content: flex-start;\n",
       "  align-items: stretch;\n",
       "}\n",
       ".master-tbl {\n",
       "  flex: 3\n",
       "}\n",
       ".master-wrapper > div {\n",
       "  margin: 4px;\n",
       "  padding: 10px;\n",
       "}\n",
       "iframe.fileview {\n",
       "  border: 0 none;\n",
       "  height: 100%;\n",
       "  width: 100%;\n",
       "  white-space: pre-wrap;\n",
       "}\n",
       ".pane-header-title {\n",
       "  width: 80%;\n",
       "  font-weight: 500;\n",
       "}\n",
       ".pane-header {\n",
       "  line-height: 1;\n",
       "  background-color: #ffe6cc;\n",
       "  padding: 3px;\n",
       "}\n",
       ".pane-header .close {\n",
       "  font-size: 20px;\n",
       "  font-weight: 700;\n",
       "  float: right;\n",
       "  margin-top: -5px;\n",
       "}\n",
       ".master-wrapper .right-pane {\n",
       "  border: 1px inset silver;\n",
       "  width: 40%;\n",
       "  min-height: 300px;\n",
       "  flex: 3\n",
       "  min-width: 500px;\n",
       "}\n",
       ".master-wrapper * {\n",
       "  box-sizing: border-box;\n",
       "}\n",
       "</style><script>\n",
       "function copyToClipboard(fld) {\n",
       "    if (document.queryCommandSupported && document.queryCommandSupported('copy')) {\n",
       "        var textarea = document.createElement('textarea');\n",
       "        textarea.textContent = fld.innerHTML;\n",
       "        textarea.style.position = 'fixed';\n",
       "        document.body.appendChild(textarea);\n",
       "        textarea.select();\n",
       "\n",
       "        try {\n",
       "            return document.execCommand('copy'); // Security exception may be thrown by some browsers.\n",
       "        } catch (ex) {\n",
       "\n",
       "        } finally {\n",
       "            document.body.removeChild(textarea);\n",
       "        }\n",
       "    }\n",
       "}\n",
       "function expandPanel(el) {\n",
       "  const panelName = \"#\" + el.getAttribute('paneName');\n",
       "  console.log(el.title);\n",
       "\n",
       "  document.querySelector(panelName + \"-title\").innerHTML = el.title\n",
       "  iframe = document.querySelector(panelName + \"-body\");\n",
       "  \n",
       "  const tblcss = `<style> body { font-family: Arial, Helvetica, sans-serif;}\n",
       "    #csv { margin-bottom: 15px; }\n",
       "    #csv table { border-collapse: collapse;}\n",
       "    #csv table td { padding: 4px 8px; border: 1px solid silver;} </style>`;\n",
       "\n",
       "  function csvToHtmlTable(str) {\n",
       "    return '<div id=\"csv\"><table><tr><td>' +  str.replace(/[\\n\\r]+$/g, '').replace(/[\\n\\r]+/g, '</td></tr><tr><td>')\n",
       "      .replace(/,/g, '</td><td>') + '</td></tr></table></div>';\n",
       "  }\n",
       "  \n",
       "  function reqListener () {\n",
       "    if (el.title.endsWith(\".csv\")) {\n",
       "      iframe.setAttribute(\"srcdoc\", tblcss + csvToHtmlTable(this.responseText));\n",
       "    } else {\n",
       "      iframe.setAttribute(\"srcdoc\", this.responseText);\n",
       "    }  \n",
       "    console.log(this.responseText);\n",
       "  }\n",
       "\n",
       "  const oReq = new XMLHttpRequest();\n",
       "  oReq.addEventListener(\"load\", reqListener);\n",
       "  oReq.open(\"GET\", el.title);\n",
       "  oReq.send();\n",
       "  \n",
       "  \n",
       "  //iframe.src = el.title;\n",
       "  const resultPane = document.querySelector(panelName + \"-pane\");\n",
       "  if (resultPane.classList.contains(\"hidden\")) {\n",
       "    resultPane.classList.remove(\"hidden\");\n",
       "  }\n",
       "}\n",
       "function closePanel(el) {\n",
       "  const panelName = \"#\" + el.getAttribute('paneName')\n",
       "  const resultPane = document.querySelector(panelName + \"-pane\");\n",
       "  if (!resultPane.classList.contains(\"hidden\")) {\n",
       "    resultPane.classList.add(\"hidden\");\n",
       "  }\n",
       "}\n",
       "\n",
       "</script>\n",
       "<div class=\"master-wrapper\">\n",
       "  <div class=\"block master-tbl\"><div>\n",
       "<style scoped>\n",
       "    .dataframe tbody tr th:only-of-type {\n",
       "        vertical-align: middle;\n",
       "    }\n",
       "\n",
       "    .dataframe tbody tr th {\n",
       "        vertical-align: top;\n",
       "    }\n",
       "\n",
       "    .dataframe thead th {\n",
       "        text-align: right;\n",
       "    }\n",
       "</style>\n",
       "<table border=\"1\" class=\"dataframe\">\n",
       "  <thead>\n",
       "    <tr style=\"text-align: right;\">\n",
       "      <th>project</th>\n",
       "      <th>uid</th>\n",
       "      <th>iter</th>\n",
       "      <th>start</th>\n",
       "      <th>state</th>\n",
       "      <th>name</th>\n",
       "      <th>labels</th>\n",
       "      <th>inputs</th>\n",
       "      <th>parameters</th>\n",
       "      <th>results</th>\n",
       "      <th>artifacts</th>\n",
       "    </tr>\n",
       "  </thead>\n",
       "  <tbody>\n",
       "    <tr>\n",
       "      <td>default</td>\n",
       "      <td><div title=\"1f48fec458774425a20c3a4c685083dc\"><a href=\"https://mlrun-ui.default-tenant.app.yjb-mlrun-playitagain.iguazio-cd1.com/projects/default/jobs/1f48fec458774425a20c3a4c685083dc/info\" target=\"_blank\" >...685083dc</a></div></td>\n",
       "      <td>0</td>\n",
       "      <td>May 27 00:38:25</td>\n",
       "      <td>completed</td>\n",
       "      <td>tasks test classifier</td>\n",
       "      <td><div class=\"dictlist\">v3io_user=admin</div><div class=\"dictlist\">kind=handler</div><div class=\"dictlist\">owner=admin</div><div class=\"dictlist\">host=jupyter-f9d6597fd-ns9cj</div></td>\n",
       "      <td><div title=\"https://raw.githubusercontent.com/yjb-ds/testdata/master/models/test_classifier/test_set.csv\">test_set</div><div title=\"https://raw.githubusercontent.com/yjb-ds/testdata/master/models/test_classifier/model.pkl\">models_path</div></td>\n",
       "      <td><div class=\"dictlist\">label_column=label</div><div class=\"dictlist\">plots_dest=sklearn_classifier/plots</div></td>\n",
       "      <td><div class=\"dictlist\">test-accuracy=0.9111111111111111</div><div class=\"dictlist\">test-error=0.08888888888888889</div><div class=\"dictlist\">auc-micro=0.9930864197530864</div><div class=\"dictlist\">auc-weighted=0.9886831275720165</div><div class=\"dictlist\">f1-score=0.9237472766884531</div><div class=\"dictlist\">precision_score=0.9237472766884531</div><div class=\"dictlist\">recall_score=0.9237472766884531</div><div class=\"dictlist\">tables=[]</div></td>\n",
       "      <td><div class=\"artifact\" onclick=\"expandPanel(this)\" paneName=\"result0b784720\" title=\"/files/artifacts/test-classifier/sklearn_classifier/plots/confusion-matrix-normalized.html\">confusion-matrix-normalized</div><div class=\"artifact\" onclick=\"expandPanel(this)\" paneName=\"result0b784720\" title=\"/files/artifacts/test-classifier/sklearn_classifier/plots/precision-recall-multiclass.html\">precision-recall-multiclass</div><div class=\"artifact\" onclick=\"expandPanel(this)\" paneName=\"result0b784720\" title=\"/files/artifacts/test-classifier/sklearn_classifier/plots/roc-multiclass.html\">roc-multiclass</div><div title=\"/User/artifacts/test-classifier/test_set_preds.parquet\">test_set_preds</div></td>\n",
       "    </tr>\n",
       "  </tbody>\n",
       "</table>\n",
       "</div></div>\n",
       "  <div id=\"result0b784720-pane\" class=\"right-pane block hidden\">\n",
       "    <div class=\"pane-header\">\n",
       "      <span id=\"result0b784720-title\" class=\"pane-header-title\">Title</span>\n",
       "      <span onclick=\"closePanel(this)\" paneName=\"result0b784720\" class=\"close clickable\">&times;</span>\n",
       "    </div>\n",
       "    <iframe class=\"fileview\" id=\"result0b784720-body\"></iframe>\n",
       "  </div>\n",
       "</div>\n"
      ],
      "text/plain": [
       "<IPython.core.display.HTML object>"
      ]
     },
     "metadata": {},
     "output_type": "display_data"
    },
    {
     "name": "stdout",
     "output_type": "stream",
     "text": [
      "to track results use .show() or .logs() or in CLI: \n",
      "!mlrun get run 1f48fec458774425a20c3a4c685083dc --project default , !mlrun logs 1f48fec458774425a20c3a4c685083dc --project default\n",
      "[mlrun] 2020-05-27 00:38:26,638 run executed, status=completed\n"
     ]
    },
    {
     "data": {
      "image/png": "[encoded data removed]",
      "text/plain": [
       "<Figure size 432x288 with 2 Axes>"
      ]
     },
     "metadata": {
      "needs_background": "light"
     },
     "output_type": "display_data"
    },
    {
     "data": {
      "image/png": "[encoded data removed]",
      "text/plain": [
       "<Figure size 432x288 with 1 Axes>"
      ]
     },
     "metadata": {
      "needs_background": "light"
     },
     "output_type": "display_data"
    }
   ],
   "source": [
    "from mlrun import run_local, NewTask\n",
    "\n",
    "run = run_local(NewTask(**task_params),\n",
    "                handler=test_classifier,\n",
    "                inputs={\"test_set\":   f\"{TEST_REPO}/{DATA_PATH}\",\n",
    "                        \"models_path\": f\"{TEST_REPO}/{MODELS_PATH}\"},\n",
    "                artifact_path=mlconf.artifact_path + \"/test-classifier\")"
   ]
  },
  {
   "cell_type": "markdown",
   "metadata": {
    "pycharm": {
     "name": "#%% md\n"
    }
   },
   "source": [
    "### remotely"
   ]
  },
  {
   "cell_type": "code",
   "execution_count": 33,
   "metadata": {
    "pycharm": {
     "name": "#%%\n"
    }
   },
   "outputs": [
    {
     "name": "stdout",
     "output_type": "stream",
     "text": [
      "[mlrun] 2020-05-27 00:39:16,934 starting run tasks test classifier uid=131466f59bc54059b82762c23200e8a5  -> http://mlrun-api:8080\n",
      "[mlrun] 2020-05-27 00:39:17,035 Job is running in the background, pod: tasks-test-classifier-mfvsn\n",
      "[mlrun] 2020-05-27 00:39:20,535 starting local run: main.py # test_classifier\n",
      "MULTICLASS True\n",
      "[mlrun] 2020-05-27 00:39:21,720 log artifact confusion-matrix-normalized at /User/artifacts/test-classifier/sklearn_classifier/plots/confusion-matrix-normalized.html, size: 26234, db: Y\n",
      "[mlrun] 2020-05-27 00:39:21,751 log artifact precision-recall-multiclass at /User/artifacts/test-classifier/sklearn_classifier/plots/precision-recall-multiclass.html, size: 3286, db: Y\n",
      "[mlrun] 2020-05-27 00:39:21,830 log artifact roc-multiclass at /User/artifacts/test-classifier/sklearn_classifier/plots/roc-multiclass.html, size: 41457, db: Y\n",
      "[mlrun] 2020-05-27 00:39:21,919 log artifact test_set_preds at /User/artifacts/test-classifier/test_set_preds.parquet, size: 5371, db: Y\n",
      "\n",
      "[mlrun] 2020-05-27 00:39:21,943 run executed, status=completed\n",
      "final state: succeeded\n"
     ]
    },
    {
     "data": {
      "text/html": [
       "<style> \n",
       ".dictlist {\n",
       "  background-color: #b3edff; \n",
       "  text-align: center; \n",
       "  margin: 4px; \n",
       "  border-radius: 3px; padding: 0px 3px 1px 3px; display: inline-block;}\n",
       ".artifact {\n",
       "  cursor: pointer; \n",
       "  background-color: #ffe6cc; \n",
       "  text-align: left; \n",
       "  margin: 4px; border-radius: 3px; padding: 0px 3px 1px 3px; display: inline-block;\n",
       "}\n",
       "div.block.hidden {\n",
       "  display: none;\n",
       "}\n",
       ".clickable {\n",
       "  cursor: pointer;\n",
       "}\n",
       ".ellipsis {\n",
       "  display: inline-block;\n",
       "  max-width: 60px;\n",
       "  white-space: nowrap;\n",
       "  overflow: hidden;\n",
       "  text-overflow: ellipsis;\n",
       "}\n",
       ".master-wrapper {\n",
       "  display: flex;\n",
       "  flex-flow: row nowrap;\n",
       "  justify-content: flex-start;\n",
       "  align-items: stretch;\n",
       "}\n",
       ".master-tbl {\n",
       "  flex: 3\n",
       "}\n",
       ".master-wrapper > div {\n",
       "  margin: 4px;\n",
       "  padding: 10px;\n",
       "}\n",
       "iframe.fileview {\n",
       "  border: 0 none;\n",
       "  height: 100%;\n",
       "  width: 100%;\n",
       "  white-space: pre-wrap;\n",
       "}\n",
       ".pane-header-title {\n",
       "  width: 80%;\n",
       "  font-weight: 500;\n",
       "}\n",
       ".pane-header {\n",
       "  line-height: 1;\n",
       "  background-color: #ffe6cc;\n",
       "  padding: 3px;\n",
       "}\n",
       ".pane-header .close {\n",
       "  font-size: 20px;\n",
       "  font-weight: 700;\n",
       "  float: right;\n",
       "  margin-top: -5px;\n",
       "}\n",
       ".master-wrapper .right-pane {\n",
       "  border: 1px inset silver;\n",
       "  width: 40%;\n",
       "  min-height: 300px;\n",
       "  flex: 3\n",
       "  min-width: 500px;\n",
       "}\n",
       ".master-wrapper * {\n",
       "  box-sizing: border-box;\n",
       "}\n",
       "</style><script>\n",
       "function copyToClipboard(fld) {\n",
       "    if (document.queryCommandSupported && document.queryCommandSupported('copy')) {\n",
       "        var textarea = document.createElement('textarea');\n",
       "        textarea.textContent = fld.innerHTML;\n",
       "        textarea.style.position = 'fixed';\n",
       "        document.body.appendChild(textarea);\n",
       "        textarea.select();\n",
       "\n",
       "        try {\n",
       "            return document.execCommand('copy'); // Security exception may be thrown by some browsers.\n",
       "        } catch (ex) {\n",
       "\n",
       "        } finally {\n",
       "            document.body.removeChild(textarea);\n",
       "        }\n",
       "    }\n",
       "}\n",
       "function expandPanel(el) {\n",
       "  const panelName = \"#\" + el.getAttribute('paneName');\n",
       "  console.log(el.title);\n",
       "\n",
       "  document.querySelector(panelName + \"-title\").innerHTML = el.title\n",
       "  iframe = document.querySelector(panelName + \"-body\");\n",
       "  \n",
       "  const tblcss = `<style> body { font-family: Arial, Helvetica, sans-serif;}\n",
       "    #csv { margin-bottom: 15px; }\n",
       "    #csv table { border-collapse: collapse;}\n",
       "    #csv table td { padding: 4px 8px; border: 1px solid silver;} </style>`;\n",
       "\n",
       "  function csvToHtmlTable(str) {\n",
       "    return '<div id=\"csv\"><table><tr><td>' +  str.replace(/[\\n\\r]+$/g, '').replace(/[\\n\\r]+/g, '</td></tr><tr><td>')\n",
       "      .replace(/,/g, '</td><td>') + '</td></tr></table></div>';\n",
       "  }\n",
       "  \n",
       "  function reqListener () {\n",
       "    if (el.title.endsWith(\".csv\")) {\n",
       "      iframe.setAttribute(\"srcdoc\", tblcss + csvToHtmlTable(this.responseText));\n",
       "    } else {\n",
       "      iframe.setAttribute(\"srcdoc\", this.responseText);\n",
       "    }  \n",
       "    console.log(this.responseText);\n",
       "  }\n",
       "\n",
       "  const oReq = new XMLHttpRequest();\n",
       "  oReq.addEventListener(\"load\", reqListener);\n",
       "  oReq.open(\"GET\", el.title);\n",
       "  oReq.send();\n",
       "  \n",
       "  \n",
       "  //iframe.src = el.title;\n",
       "  const resultPane = document.querySelector(panelName + \"-pane\");\n",
       "  if (resultPane.classList.contains(\"hidden\")) {\n",
       "    resultPane.classList.remove(\"hidden\");\n",
       "  }\n",
       "}\n",
       "function closePanel(el) {\n",
       "  const panelName = \"#\" + el.getAttribute('paneName')\n",
       "  const resultPane = document.querySelector(panelName + \"-pane\");\n",
       "  if (!resultPane.classList.contains(\"hidden\")) {\n",
       "    resultPane.classList.add(\"hidden\");\n",
       "  }\n",
       "}\n",
       "\n",
       "</script>\n",
       "<div class=\"master-wrapper\">\n",
       "  <div class=\"block master-tbl\"><div>\n",
       "<style scoped>\n",
       "    .dataframe tbody tr th:only-of-type {\n",
       "        vertical-align: middle;\n",
       "    }\n",
       "\n",
       "    .dataframe tbody tr th {\n",
       "        vertical-align: top;\n",
       "    }\n",
       "\n",
       "    .dataframe thead th {\n",
       "        text-align: right;\n",
       "    }\n",
       "</style>\n",
       "<table border=\"1\" class=\"dataframe\">\n",
       "  <thead>\n",
       "    <tr style=\"text-align: right;\">\n",
       "      <th>project</th>\n",
       "      <th>uid</th>\n",
       "      <th>iter</th>\n",
       "      <th>start</th>\n",
       "      <th>state</th>\n",
       "      <th>name</th>\n",
       "      <th>labels</th>\n",
       "      <th>inputs</th>\n",
       "      <th>parameters</th>\n",
       "      <th>results</th>\n",
       "      <th>artifacts</th>\n",
       "    </tr>\n",
       "  </thead>\n",
       "  <tbody>\n",
       "    <tr>\n",
       "      <td>default</td>\n",
       "      <td><div title=\"131466f59bc54059b82762c23200e8a5\"><a href=\"https://mlrun-ui.default-tenant.app.yjb-mlrun-playitagain.iguazio-cd1.com/projects/default/jobs/131466f59bc54059b82762c23200e8a5/info\" target=\"_blank\" >...3200e8a5</a></div></td>\n",
       "      <td>0</td>\n",
       "      <td>May 27 00:39:21</td>\n",
       "      <td>completed</td>\n",
       "      <td>tasks test classifier</td>\n",
       "      <td><div class=\"dictlist\">v3io_user=admin</div><div class=\"dictlist\">kind=job</div><div class=\"dictlist\">owner=admin</div><div class=\"dictlist\">host=tasks-test-classifier-mfvsn</div></td>\n",
       "      <td><div title=\"https://raw.githubusercontent.com/yjb-ds/testdata/master/models/test_classifier/test_set.csv\">test_set</div><div title=\"https://raw.githubusercontent.com/yjb-ds/testdata/master/models/test_classifier/model.pkl\">models_path</div></td>\n",
       "      <td><div class=\"dictlist\">label_column=label</div><div class=\"dictlist\">plots_dest=sklearn_classifier/plots</div></td>\n",
       "      <td><div class=\"dictlist\">test-accuracy=0.9111111111111111</div><div class=\"dictlist\">test-error=0.08888888888888889</div><div class=\"dictlist\">auc-micro=0.9930864197530864</div><div class=\"dictlist\">auc-weighted=0.9886831275720165</div><div class=\"dictlist\">f1-score=0.9237472766884531</div><div class=\"dictlist\">precision_score=0.9237472766884531</div><div class=\"dictlist\">recall_score=0.9237472766884531</div><div class=\"dictlist\">tables=[]</div></td>\n",
       "      <td><div class=\"artifact\" onclick=\"expandPanel(this)\" paneName=\"result18247331\" title=\"/files/artifacts/test-classifier/sklearn_classifier/plots/confusion-matrix-normalized.html\">confusion-matrix-normalized</div><div class=\"artifact\" onclick=\"expandPanel(this)\" paneName=\"result18247331\" title=\"/files/artifacts/test-classifier/sklearn_classifier/plots/precision-recall-multiclass.html\">precision-recall-multiclass</div><div class=\"artifact\" onclick=\"expandPanel(this)\" paneName=\"result18247331\" title=\"/files/artifacts/test-classifier/sklearn_classifier/plots/roc-multiclass.html\">roc-multiclass</div><div title=\"/User/artifacts/test-classifier/test_set_preds.parquet\">test_set_preds</div></td>\n",
       "    </tr>\n",
       "  </tbody>\n",
       "</table>\n",
       "</div></div>\n",
       "  <div id=\"result18247331-pane\" class=\"right-pane block hidden\">\n",
       "    <div class=\"pane-header\">\n",
       "      <span id=\"result18247331-title\" class=\"pane-header-title\">Title</span>\n",
       "      <span onclick=\"closePanel(this)\" paneName=\"result18247331\" class=\"close clickable\">&times;</span>\n",
       "    </div>\n",
       "    <iframe class=\"fileview\" id=\"result18247331-body\"></iframe>\n",
       "  </div>\n",
       "</div>\n"
      ],
      "text/plain": [
       "<IPython.core.display.HTML object>"
      ]
     },
     "metadata": {},
     "output_type": "display_data"
    },
    {
     "name": "stdout",
     "output_type": "stream",
     "text": [
      "to track results use .show() or .logs() or in CLI: \n",
      "!mlrun get run 131466f59bc54059b82762c23200e8a5  , !mlrun logs 131466f59bc54059b82762c23200e8a5 \n",
      "[mlrun] 2020-05-27 00:39:26,307 run executed, status=completed\n"
     ]
    }
   ],
   "source": [
    "from mlrun import NewTask\n",
    "run = fn.run(NewTask(**task_params), \n",
    "             inputs={\"test_set\":   f\"{TEST_REPO}/{DATA_PATH}\",\n",
    "                     \"models_path\": f\"{TEST_REPO}/{MODELS_PATH}\"},\n",
    "             artifact_path=mlconf.artifact_path + \"/test-classifier\")"
   ]
  },
  {
   "cell_type": "code",
   "execution_count": null,
   "metadata": {},
   "outputs": [],
   "source": []
  }
 ],
 "metadata": {
  "kernelspec": {
   "display_name": "Python 3",
   "language": "python",
   "name": "python3"
  },
  "language_info": {
   "codemirror_mode": {
    "name": "ipython",
    "version": 3
   },
   "file_extension": ".py",
   "mimetype": "text/x-python",
   "name": "python",
   "nbconvert_exporter": "python",
   "pygments_lexer": "ipython3",
   "version": "3.6.8"
  }
 },
 "nbformat": 4,
 "nbformat_minor": 4
}
