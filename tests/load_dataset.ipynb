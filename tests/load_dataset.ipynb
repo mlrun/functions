{
 "cells": [
  {
   "cell_type": "code",
   "execution_count": 1,
   "metadata": {},
   "outputs": [],
   "source": [
    "FUNCTION = 'load_dataset'\n",
    "\n",
    "task_params = {\n",
    "    \"name\"           : FUNCTION, \n",
    "    \"params\"         : {\n",
    "        \"dataset\"     : 'iris'\n",
    "    },\n",
    "    \"artifact_path\"  : f'/User/functions/{FUNCTION}/artifacts'\n",
    "}"
   ]
  },
  {
   "cell_type": "code",
   "execution_count": 5,
   "metadata": {},
   "outputs": [
    {
     "name": "stdout",
     "output_type": "stream",
     "text": [
      "function.yaml [Errno 2] No such file or directory: 'function.yaml'\n",
      "++++++++++++++++++++++++++++++++++++++++++++++++\n",
      "[mlrun] 2020-03-16 00:51:02,865 warning!, server (0.4.5) and client (0.4.6) ver dont match\n",
      "db://load_dataset:latest 'function load_dataset:latest not found in the DB'\n",
      "++++++++++++++++++++++++++++++++++++++++++++++++\n"
     ]
    },
    {
     "name": "stderr",
     "output_type": "stream",
     "text": [
      "/User/.pythonlibs/jupyter/lib/python3.6/site-packages/urllib3/connectionpool.py:847: InsecureRequestWarning: Unverified HTTPS request is being made. Adding certificate verification is strongly advised. See: https://urllib3.readthedocs.io/en/latest/advanced-usage.html#ssl-warnings\n",
      "  InsecureRequestWarning)\n"
     ]
    },
    {
     "name": "stdout",
     "output_type": "stream",
     "text": [
      "hub://load_dataset failed to read file in https://raw.githubusercontent.com/yjb-ds/functions/init_fixes/load_dataset/function.yaml\n",
      "++++++++++++++++++++++++++++++++++++++++++++++++\n"
     ]
    }
   ],
   "source": [
    "import mlrun, os\n",
    "mlrun.mlconf.dbpath = 'http://mlrun-api:8080'\n",
    "mlrun.mlconf.hub_url = os.environ[\"MLRUN_HUB_URL\"]\n",
    "\n",
    "urls = ['function.yaml', f'db://{FUNCTION}:latest', f'hub://{FUNCTION}']\n",
    "\n",
    "tasks = []\n",
    "for url in urls:\n",
    "    try:\n",
    "        rfn = mlrun.import_function(url).apply(mlrun.mount_v3io())\n",
    "        tsk = rfn.run(mlrun.NewTask(**task_params))\n",
    "        tasks.append(tsk)\n",
    "    except Exception as e:\n",
    "        print(url, str(e))\n",
    "        tasks.append(f'error {url}, {e}')\n",
    "    \n",
    "    print(\"++++++++++++++++++++++++++++++++++++++++++++++++\")"
   ]
  }
 ],
 "metadata": {
  "kernelspec": {
   "display_name": "Python 3",
   "language": "python",
   "name": "python3"
  },
  "language_info": {
   "codemirror_mode": {
    "name": "ipython",
    "version": 3
   },
   "file_extension": ".py",
   "mimetype": "text/x-python",
   "name": "python",
   "nbconvert_exporter": "python",
   "pygments_lexer": "ipython3",
   "version": "3.6.8"
  }
 },
 "nbformat": 4,
 "nbformat_minor": 4
}
