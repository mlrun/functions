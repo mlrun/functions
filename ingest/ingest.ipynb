{
 "cells": [
  {
   "cell_type": "markdown",
   "metadata": {},
   "source": [
    "# Feature Store Ingest"
   ]
  },
  {
   "cell_type": "markdown",
   "metadata": {},
   "source": [
    "Read local DataFrame, file, URL, or source into the feature store\n",
    "Ingest reads from the source, run the graph transformations, infers metadata and stats\n",
    "and writes the results to the default of specified targets."
   ]
  },
  {
   "cell_type": "markdown",
   "metadata": {},
   "source": [
    "## Creating Project"
   ]
  },
  {
   "cell_type": "code",
   "execution_count": 1,
   "metadata": {},
   "outputs": [],
   "source": [
    "import mlrun\n",
    "import mlrun.feature_store as fstore\n",
    "from  mlrun.datastore.sources import CSVSource\n",
    "from mlrun.feature_store.steps import *\n",
    "from mlrun.features import MinMaxValidator\n",
    "import pandas as pd\n",
    "import datetime"
   ]
  },
  {
   "cell_type": "code",
   "execution_count": 2,
   "metadata": {},
   "outputs": [
    {
     "name": "stdout",
     "output_type": "stream",
     "text": [
      "> 2022-01-31 13:52:16,939 [info] loaded project ingest from MLRun DB\n"
     ]
    }
   ],
   "source": [
    "# Initialize the MLRun project object\n",
    "project = mlrun.get_or_create_project('ingest', context=\"./\", user_project=True)"
   ]
  },
  {
   "cell_type": "markdown",
   "metadata": {},
   "source": [
    "## Create Sample Data For Demo"
   ]
  },
  {
   "cell_type": "code",
   "execution_count": 3,
   "metadata": {},
   "outputs": [],
   "source": [
    "quotes = pd.DataFrame(\n",
    "    {\n",
    "        \"time\": [\n",
    "            pd.Timestamp(\"2016-05-25 13:30:00.023\"),\n",
    "            pd.Timestamp(\"2016-05-25 13:30:00.023\"),\n",
    "            pd.Timestamp(\"2016-05-25 13:30:00.030\"),\n",
    "            pd.Timestamp(\"2016-05-25 13:30:00.041\"),\n",
    "            pd.Timestamp(\"2016-05-25 13:30:00.048\"),\n",
    "            pd.Timestamp(\"2016-05-25 13:30:00.049\"),\n",
    "            pd.Timestamp(\"2016-05-25 13:30:00.072\"),\n",
    "            pd.Timestamp(\"2016-05-25 13:30:00.075\"),\n",
    "        ],\n",
    "        \"ticker\": [\"GOOG\", \"MSFT\", \"MSFT\", \"MSFT\", \"GOOG\", \"AAPL\", \"GOOG\", \"MSFT\"],\n",
    "        \"bid\": [720.50, 51.95, 51.97, 51.99, 720.50, 97.99, 720.50, 52.01],\n",
    "        \"ask\": [720.93, 51.96, 51.98, 52.00, 720.93, 98.01, 720.88, 52.03],\n",
    "    }\n",
    ")\n",
    "\n",
    "# move date:\n",
    "max_date = quotes[\"time\"].max()\n",
    "now_date = datetime.datetime.now()\n",
    "delta = now_date - max_date\n",
    "quotes[\"time\"] = quotes[\"time\"] + delta"
   ]
  },
  {
   "cell_type": "code",
   "execution_count": 4,
   "metadata": {},
   "outputs": [
    {
     "data": {
      "text/html": [
       "<div>\n",
       "<style scoped>\n",
       "    .dataframe tbody tr th:only-of-type {\n",
       "        vertical-align: middle;\n",
       "    }\n",
       "\n",
       "    .dataframe tbody tr th {\n",
       "        vertical-align: top;\n",
       "    }\n",
       "\n",
       "    .dataframe thead th {\n",
       "        text-align: right;\n",
       "    }\n",
       "</style>\n",
       "<table border=\"1\" class=\"dataframe\">\n",
       "  <thead>\n",
       "    <tr style=\"text-align: right;\">\n",
       "      <th></th>\n",
       "      <th>time</th>\n",
       "      <th>ticker</th>\n",
       "      <th>bid</th>\n",
       "      <th>ask</th>\n",
       "    </tr>\n",
       "  </thead>\n",
       "  <tbody>\n",
       "    <tr>\n",
       "      <th>0</th>\n",
       "      <td>2022-01-31 13:52:16.905388</td>\n",
       "      <td>GOOG</td>\n",
       "      <td>720.50</td>\n",
       "      <td>720.93</td>\n",
       "    </tr>\n",
       "    <tr>\n",
       "      <th>1</th>\n",
       "      <td>2022-01-31 13:52:16.905388</td>\n",
       "      <td>MSFT</td>\n",
       "      <td>51.95</td>\n",
       "      <td>51.96</td>\n",
       "    </tr>\n",
       "    <tr>\n",
       "      <th>2</th>\n",
       "      <td>2022-01-31 13:52:16.912388</td>\n",
       "      <td>MSFT</td>\n",
       "      <td>51.97</td>\n",
       "      <td>51.98</td>\n",
       "    </tr>\n",
       "    <tr>\n",
       "      <th>3</th>\n",
       "      <td>2022-01-31 13:52:16.923388</td>\n",
       "      <td>MSFT</td>\n",
       "      <td>51.99</td>\n",
       "      <td>52.00</td>\n",
       "    </tr>\n",
       "    <tr>\n",
       "      <th>4</th>\n",
       "      <td>2022-01-31 13:52:16.930388</td>\n",
       "      <td>GOOG</td>\n",
       "      <td>720.50</td>\n",
       "      <td>720.93</td>\n",
       "    </tr>\n",
       "    <tr>\n",
       "      <th>5</th>\n",
       "      <td>2022-01-31 13:52:16.931388</td>\n",
       "      <td>AAPL</td>\n",
       "      <td>97.99</td>\n",
       "      <td>98.01</td>\n",
       "    </tr>\n",
       "    <tr>\n",
       "      <th>6</th>\n",
       "      <td>2022-01-31 13:52:16.954388</td>\n",
       "      <td>GOOG</td>\n",
       "      <td>720.50</td>\n",
       "      <td>720.88</td>\n",
       "    </tr>\n",
       "    <tr>\n",
       "      <th>7</th>\n",
       "      <td>2022-01-31 13:52:16.957388</td>\n",
       "      <td>MSFT</td>\n",
       "      <td>52.01</td>\n",
       "      <td>52.03</td>\n",
       "    </tr>\n",
       "  </tbody>\n",
       "</table>\n",
       "</div>"
      ],
      "text/plain": [
       "                        time ticker     bid     ask\n",
       "0 2022-01-31 13:52:16.905388   GOOG  720.50  720.93\n",
       "1 2022-01-31 13:52:16.905388   MSFT   51.95   51.96\n",
       "2 2022-01-31 13:52:16.912388   MSFT   51.97   51.98\n",
       "3 2022-01-31 13:52:16.923388   MSFT   51.99   52.00\n",
       "4 2022-01-31 13:52:16.930388   GOOG  720.50  720.93\n",
       "5 2022-01-31 13:52:16.931388   AAPL   97.99   98.01\n",
       "6 2022-01-31 13:52:16.954388   GOOG  720.50  720.88\n",
       "7 2022-01-31 13:52:16.957388   MSFT   52.01   52.03"
      ]
     },
     "execution_count": 4,
     "metadata": {},
     "output_type": "execute_result"
    }
   ],
   "source": [
    "quotes"
   ]
  },
  {
   "cell_type": "markdown",
   "metadata": {},
   "source": [
    "## Build Advanced Feature Set - With Feature Engineering Pipeline"
   ]
  },
  {
   "cell_type": "markdown",
   "metadata": {},
   "source": [
    "Define a custom pipeline step (python class)"
   ]
  },
  {
   "cell_type": "code",
   "execution_count": 5,
   "metadata": {},
   "outputs": [],
   "source": [
    "class MyMap(MapClass):\n",
    "    def __init__(self, multiplier=1, **kwargs):\n",
    "        super().__init__(**kwargs)\n",
    "        self._multiplier = multiplier\n",
    "\n",
    "    def do(self, event):\n",
    "        event[\"multi\"] = event[\"bid\"] * self._multiplier\n",
    "        return event"
   ]
  },
  {
   "cell_type": "markdown",
   "metadata": {},
   "source": [
    "Build and show the transformatiom pipeline"
   ]
  },
  {
   "cell_type": "code",
   "execution_count": 6,
   "metadata": {},
   "outputs": [
    {
     "data": {
      "image/svg+xml": [
       "<?xml version=\"1.0\" encoding=\"UTF-8\" standalone=\"no\"?>\n",
       "<!DOCTYPE svg PUBLIC \"-//W3C//DTD SVG 1.1//EN\"\n",
       " \"http://www.w3.org/Graphics/SVG/1.1/DTD/svg11.dtd\">\n",
       "<!-- Generated by graphviz version 2.40.1 (20161225.0304)\n",
       " -->\n",
       "<!-- Title: mlrun&#45;flow Pages: 1 -->\n",
       "<svg width=\"1058pt\" height=\"98pt\"\n",
       " viewBox=\"0.00 0.00 1057.84 98.00\" xmlns=\"http://www.w3.org/2000/svg\" xmlns:xlink=\"http://www.w3.org/1999/xlink\">\n",
       "<g id=\"graph0\" class=\"graph\" transform=\"scale(1 1) rotate(0) translate(4 94)\">\n",
       "<title>mlrun&#45;flow</title>\n",
       "<polygon fill=\"#ffffff\" stroke=\"transparent\" points=\"-4,4 -4,-94 1053.8378,-94 1053.8378,4 -4,4\"/>\n",
       "<!-- _start -->\n",
       "<g id=\"node1\" class=\"node\">\n",
       "<title>_start</title>\n",
       "<polygon fill=\"#d3d3d3\" stroke=\"#000000\" points=\"38.5476,-27.0493 40.698,-27.1479 42.8263,-27.2953 44.9236,-27.4913 46.9815,-27.7353 48.9917,-28.0266 50.9463,-28.3645 52.8377,-28.7479 54.6587,-29.1759 56.4025,-29.6472 58.0628,-30.1606 59.634,-30.7147 61.1107,-31.308 62.4882,-31.9388 63.7625,-32.6054 64.9302,-33.3059 65.9882,-34.0385 66.9343,-34.8012 67.7669,-35.5918 68.4849,-36.4082 69.0878,-37.2481 69.5758,-38.1093 69.9496,-38.9894 70.2102,-39.886 70.3595,-40.7965 70.3997,-41.7186 70.3334,-42.6497 70.1636,-43.5873 69.8937,-44.5287 69.5276,-45.4713 69.0691,-46.4127 68.5225,-47.3503 67.8923,-48.2814 67.1831,-49.2035 66.3996,-50.114 65.5464,-51.0106 64.6285,-51.8907 63.6504,-52.7519 62.617,-53.5918 61.5329,-54.4082 60.4024,-55.1988 59.2299,-55.9615 58.0197,-56.6941 56.7755,-57.3946 55.5012,-58.0612 54.2002,-58.692 52.8757,-59.2853 51.5309,-59.8394 50.1684,-60.3528 48.7908,-60.8241 47.4003,-61.2521 45.9989,-61.6355 44.5886,-61.9734 43.1708,-62.2647 41.7472,-62.5087 40.3189,-62.7047 38.8872,-62.8521 37.4531,-62.9507 36.0175,-63 34.5815,-63 33.146,-62.9507 31.7119,-62.8521 30.2801,-62.7047 28.8519,-62.5087 27.4282,-62.2647 26.0105,-61.9734 24.6001,-61.6355 23.1988,-61.2521 21.8083,-60.8241 20.4306,-60.3528 19.0681,-59.8394 17.7233,-59.2853 16.3989,-58.692 15.0979,-58.0612 13.8236,-57.3946 12.5794,-56.6941 11.3691,-55.9615 10.1967,-55.1988 9.0662,-54.4082 7.982,-53.5918 6.9486,-52.7519 5.9706,-51.8907 5.0526,-51.0106 4.1995,-50.114 3.4159,-49.2035 2.7067,-48.2814 2.0765,-47.3503 1.53,-46.4127 1.0715,-45.4713 .7053,-44.5287 .4355,-43.5873 .2657,-42.6497 .1993,-41.7186 .2395,-40.7965 .3888,-39.886 .6495,-38.9894 1.0232,-38.1093 1.5112,-37.2481 2.1141,-36.4082 2.8321,-35.5918 3.6647,-34.8012 4.6109,-34.0385 5.6689,-33.3059 6.8365,-32.6054 8.1108,-31.9388 9.4884,-31.308 10.9651,-30.7147 12.5362,-30.1606 14.1966,-29.6472 15.9404,-29.1759 17.7614,-28.7479 19.6528,-28.3645 21.6074,-28.0266 23.6176,-27.7353 25.6755,-27.4913 27.7728,-27.2953 29.901,-27.1479 32.0515,-27.0493 34.2154,-27 36.3837,-27 38.5476,-27.0493\"/>\n",
       "<text text-anchor=\"middle\" x=\"35.2995\" y=\"-41.3\" font-family=\"Times,serif\" font-size=\"14.00\" fill=\"#000000\">start</text>\n",
       "</g>\n",
       "<!-- map.MyMap -->\n",
       "<g id=\"node2\" class=\"node\">\n",
       "<title>map.MyMap</title>\n",
       "<ellipse fill=\"none\" stroke=\"#000000\" cx=\"175.4929\" cy=\"-45\" rx=\"68.7879\" ry=\"18\"/>\n",
       "<text text-anchor=\"middle\" x=\"175.4929\" y=\"-41.3\" font-family=\"Times,serif\" font-size=\"14.00\" fill=\"#000000\">map.MyMap</text>\n",
       "</g>\n",
       "<!-- _start&#45;&gt;map.MyMap -->\n",
       "<g id=\"edge1\" class=\"edge\">\n",
       "<title>_start&#45;&gt;map.MyMap</title>\n",
       "<path fill=\"none\" stroke=\"#000000\" d=\"M69.9541,-45C78.1119,-45 87.1389,-45 96.3785,-45\"/>\n",
       "<polygon fill=\"#000000\" stroke=\"#000000\" points=\"96.4567,-48.5001 106.4567,-45 96.4567,-41.5001 96.4567,-48.5001\"/>\n",
       "</g>\n",
       "<!-- storey.Extend -->\n",
       "<g id=\"node3\" class=\"node\">\n",
       "<title>storey.Extend</title>\n",
       "<ellipse fill=\"none\" stroke=\"#000000\" cx=\"355.7801\" cy=\"-45\" rx=\"75.2868\" ry=\"18\"/>\n",
       "<text text-anchor=\"middle\" x=\"355.7801\" y=\"-41.3\" font-family=\"Times,serif\" font-size=\"14.00\" fill=\"#000000\">storey.Extend</text>\n",
       "</g>\n",
       "<!-- map.MyMap&#45;&gt;storey.Extend -->\n",
       "<g id=\"edge2\" class=\"edge\">\n",
       "<title>map.MyMap&#45;&gt;storey.Extend</title>\n",
       "<path fill=\"none\" stroke=\"#000000\" d=\"M244.4235,-45C252.8544,-45 261.5477,-45 270.1852,-45\"/>\n",
       "<polygon fill=\"#000000\" stroke=\"#000000\" points=\"270.2801,-48.5001 280.2801,-45 270.2801,-41.5001 270.2801,-48.5001\"/>\n",
       "</g>\n",
       "<!-- filter -->\n",
       "<g id=\"node4\" class=\"node\">\n",
       "<title>filter</title>\n",
       "<ellipse fill=\"none\" stroke=\"#000000\" cx=\"500.9704\" cy=\"-45\" rx=\"33.5952\" ry=\"18\"/>\n",
       "<text text-anchor=\"middle\" x=\"500.9704\" y=\"-41.3\" font-family=\"Times,serif\" font-size=\"14.00\" fill=\"#000000\">filter</text>\n",
       "</g>\n",
       "<!-- storey.Extend&#45;&gt;filter -->\n",
       "<g id=\"edge3\" class=\"edge\">\n",
       "<title>storey.Extend&#45;&gt;filter</title>\n",
       "<path fill=\"none\" stroke=\"#000000\" d=\"M431.3521,-45C440.1696,-45 448.9285,-45 457.1072,-45\"/>\n",
       "<polygon fill=\"#000000\" stroke=\"#000000\" points=\"457.1173,-48.5001 467.1173,-45 457.1173,-41.5001 457.1173,-48.5001\"/>\n",
       "</g>\n",
       "<!-- FeaturesetValidator -->\n",
       "<g id=\"node5\" class=\"node\">\n",
       "<title>FeaturesetValidator</title>\n",
       "<ellipse fill=\"none\" stroke=\"#000000\" cx=\"673.4583\" cy=\"-45\" rx=\"102.8821\" ry=\"18\"/>\n",
       "<text text-anchor=\"middle\" x=\"673.4583\" y=\"-41.3\" font-family=\"Times,serif\" font-size=\"14.00\" fill=\"#000000\">FeaturesetValidator</text>\n",
       "</g>\n",
       "<!-- filter&#45;&gt;FeaturesetValidator -->\n",
       "<g id=\"edge4\" class=\"edge\">\n",
       "<title>filter&#45;&gt;FeaturesetValidator</title>\n",
       "<path fill=\"none\" stroke=\"#000000\" d=\"M535.0485,-45C542.8354,-45 551.5312,-45 560.6673,-45\"/>\n",
       "<polygon fill=\"#000000\" stroke=\"#000000\" points=\"560.7317,-48.5001 570.7316,-45 560.7316,-41.5001 560.7317,-48.5001\"/>\n",
       "</g>\n",
       "<!-- Aggregates -->\n",
       "<g id=\"node6\" class=\"node\">\n",
       "<title>Aggregates</title>\n",
       "<ellipse fill=\"none\" stroke=\"#000000\" cx=\"876.4935\" cy=\"-45\" rx=\"64.189\" ry=\"18\"/>\n",
       "<text text-anchor=\"middle\" x=\"876.4935\" y=\"-41.3\" font-family=\"Times,serif\" font-size=\"14.00\" fill=\"#000000\">Aggregates</text>\n",
       "</g>\n",
       "<!-- FeaturesetValidator&#45;&gt;Aggregates -->\n",
       "<g id=\"edge5\" class=\"edge\">\n",
       "<title>FeaturesetValidator&#45;&gt;Aggregates</title>\n",
       "<path fill=\"none\" stroke=\"#000000\" d=\"M776.1656,-45C784.8364,-45 793.4957,-45 801.8903,-45\"/>\n",
       "<polygon fill=\"#000000\" stroke=\"#000000\" points=\"801.9817,-48.5001 811.9817,-45 801.9816,-41.5001 801.9817,-48.5001\"/>\n",
       "</g>\n",
       "<!-- parquet -->\n",
       "<g id=\"node7\" class=\"node\">\n",
       "<title>parquet</title>\n",
       "<path fill=\"none\" stroke=\"#000000\" d=\"M1049.8378,-86.7273C1049.8378,-88.5331 1033.4779,-90 1013.3378,-90 993.1977,-90 976.8378,-88.5331 976.8378,-86.7273 976.8378,-86.7273 976.8378,-57.2727 976.8378,-57.2727 976.8378,-55.4669 993.1977,-54 1013.3378,-54 1033.4779,-54 1049.8378,-55.4669 1049.8378,-57.2727 1049.8378,-57.2727 1049.8378,-86.7273 1049.8378,-86.7273\"/>\n",
       "<path fill=\"none\" stroke=\"#000000\" d=\"M1049.8378,-86.7273C1049.8378,-84.9214 1033.4779,-83.4545 1013.3378,-83.4545 993.1977,-83.4545 976.8378,-84.9214 976.8378,-86.7273\"/>\n",
       "<text text-anchor=\"middle\" x=\"1013.3378\" y=\"-68.3\" font-family=\"Times,serif\" font-size=\"14.00\" fill=\"#000000\">parquet</text>\n",
       "</g>\n",
       "<!-- Aggregates&#45;&gt;parquet -->\n",
       "<g id=\"edge6\" class=\"edge\">\n",
       "<title>Aggregates&#45;&gt;parquet</title>\n",
       "<path fill=\"none\" stroke=\"#000000\" d=\"M929.4011,-55.4389C941.7404,-57.8735 954.7903,-60.4483 966.8284,-62.8235\"/>\n",
       "<polygon fill=\"#000000\" stroke=\"#000000\" points=\"966.1762,-66.2622 976.6646,-64.7642 967.5313,-59.3946 966.1762,-66.2622\"/>\n",
       "</g>\n",
       "<!-- nosql -->\n",
       "<g id=\"node8\" class=\"node\">\n",
       "<title>nosql</title>\n",
       "<path fill=\"none\" stroke=\"#000000\" d=\"M1040.8378,-32.7273C1040.8378,-34.5331 1028.5119,-36 1013.3378,-36 998.1637,-36 985.8378,-34.5331 985.8378,-32.7273 985.8378,-32.7273 985.8378,-3.2727 985.8378,-3.2727 985.8378,-1.4669 998.1637,0 1013.3378,0 1028.5119,0 1040.8378,-1.4669 1040.8378,-3.2727 1040.8378,-3.2727 1040.8378,-32.7273 1040.8378,-32.7273\"/>\n",
       "<path fill=\"none\" stroke=\"#000000\" d=\"M1040.8378,-32.7273C1040.8378,-30.9214 1028.5119,-29.4545 1013.3378,-29.4545 998.1637,-29.4545 985.8378,-30.9214 985.8378,-32.7273\"/>\n",
       "<text text-anchor=\"middle\" x=\"1013.3378\" y=\"-14.3\" font-family=\"Times,serif\" font-size=\"14.00\" fill=\"#000000\">nosql</text>\n",
       "</g>\n",
       "<!-- Aggregates&#45;&gt;nosql -->\n",
       "<g id=\"edge7\" class=\"edge\">\n",
       "<title>Aggregates&#45;&gt;nosql</title>\n",
       "<path fill=\"none\" stroke=\"#000000\" d=\"M929.4011,-34.5611C944.8945,-31.5042 961.5083,-28.2262 975.8328,-25.3999\"/>\n",
       "<polygon fill=\"#000000\" stroke=\"#000000\" points=\"976.6766,-28.801 985.8099,-23.4314 975.3215,-21.9334 976.6766,-28.801\"/>\n",
       "</g>\n",
       "</g>\n",
       "</svg>\n"
      ],
      "text/plain": [
       "<graphviz.dot.Digraph at 0x7fb46e6e6a10>"
      ]
     },
     "execution_count": 6,
     "metadata": {},
     "output_type": "execute_result"
    }
   ],
   "source": [
    "quotes_set = fstore.FeatureSet(\"stock-quotes\", entities=[fstore.Entity(\"ticker\")])\n",
    "\n",
    "quotes_set.graph.to(\"map.MyMap\", multiplier=3).to(\n",
    "    \"storey.Extend\", _fn=\"({'extra': event['bid'] * 77})\"\n",
    ").to(\"storey.Filter\", \"filter\", _fn=\"(event['bid'] > 51.92)\").to(\n",
    "    FeaturesetValidator()\n",
    ")\n",
    "\n",
    "quotes_set.add_aggregation(\"ask\", [\"sum\", \"max\"], \"1h\", \"10m\", name=\"asks1\")\n",
    "quotes_set.add_aggregation(\"ask\", [\"sum\", \"max\"], \"5h\", \"10m\", name=\"asks5\")\n",
    "quotes_set.add_aggregation(\"bid\", [\"min\", \"max\"], \"1h\", \"10m\", name=\"bids\")\n",
    "\n",
    "# add feature validation policy\n",
    "quotes_set[\"bid\"] = fstore.Feature(\n",
    "    validator=MinMaxValidator(min=52, severity=\"info\")\n",
    ")\n",
    "\n",
    "# add default target definitions and plot\n",
    "quotes_set.set_targets()\n",
    "quotes_set.plot(rankdir=\"LR\", with_targets=True)"
   ]
  },
  {
   "cell_type": "markdown",
   "metadata": {},
   "source": [
    "Saving the feature set in the feature store "
   ]
  },
  {
   "cell_type": "code",
   "execution_count": 7,
   "metadata": {},
   "outputs": [],
   "source": [
    "quotes_set.save()"
   ]
  },
  {
   "cell_type": "markdown",
   "metadata": {},
   "source": [
    "Creating the data source of the feature set to apply the ingest on:"
   ]
  },
  {
   "cell_type": "code",
   "execution_count": 8,
   "metadata": {},
   "outputs": [],
   "source": [
    "data_uri = 'quotes.csv'\n",
    "quotes.to_csv(data_uri, index=False)\n",
    "source = CSVSource('quotes', data_uri).to_dict()\n",
    "source"
   ]
  },
  {
   "cell_type": "markdown",
   "metadata": {},
   "source": [
    "## Import ingest function"
   ]
  },
  {
   "cell_type": "code",
   "execution_count": 10,
   "metadata": {},
   "outputs": [],
   "source": [
    "ingest_fn = mlrun.import_function(\"function.yaml\")"
   ]
  },
  {
   "cell_type": "markdown",
   "metadata": {},
   "source": [
    "## Running the function locally"
   ]
  },
  {
   "cell_type": "code",
   "execution_count": 11,
   "metadata": {},
   "outputs": [
    {
     "name": "stdout",
     "output_type": "stream",
     "text": [
      "> 2022-01-31 13:52:17,201 [info] starting run ingest-ingest uid=4bd5d12691a8439d90bf53847f59df1a DB=http://mlrun-api:8080\n",
      "> 2022-01-31 13:52:17,354 [info] Ingesting the FeatureSet: store://feature-sets/ingest-yonatan/stock-quotes\n",
      "> 2022-01-31 13:52:17,427 [info] starting ingestion task to store://feature-sets/ingest-yonatan/stock-quotes:latest.\n",
      "info! bid value is smaller than min, key=['MSFT'] time=2022-01-31 13:52:19.466055 args={'min': 52, 'value': 51.95}\n",
      "info! bid value is smaller than min, key=['MSFT'] time=2022-01-31 13:52:19.466072 args={'min': 52, 'value': 51.97}\n",
      "info! bid value is smaller than min, key=['MSFT'] time=2022-01-31 13:52:19.466085 args={'min': 52, 'value': 51.99}\n",
      "info! bid value is smaller than min, key=['MSFT'] time=2022-01-31 13:52:19.671677 args={'min': 52, 'value': 51.95}\n",
      "info! bid value is smaller than min, key=['MSFT'] time=2022-01-31 13:52:19.671692 args={'min': 52, 'value': 51.97}\n",
      "info! bid value is smaller than min, key=['MSFT'] time=2022-01-31 13:52:19.671708 args={'min': 52, 'value': 51.99}\n",
      "> 2022-01-31 13:52:19,915 [info] ingestion task completed, targets:\n",
      "> 2022-01-31 13:52:19,915 [info] [{'name': 'parquet', 'kind': 'parquet', 'path': 'v3io:///projects/ingest-yonatan/FeatureStore/stock-quotes/parquet/sets/stock-quotes-latest', 'status': 'created', 'updated': '2022-01-31T13:52:19.649303+00:00', 'last_written': datetime.datetime(2022, 1, 31, 13, 52, 19, 671753)}, {'name': 'nosql', 'kind': 'nosql', 'path': 'v3io:///projects/ingest-yonatan/FeatureStore/stock-quotes/nosql/sets/stock-quotes-latest', 'status': 'created', 'updated': '2022-01-31T13:52:19.650044+00:00'}]\n"
     ]
    },
    {
     "data": {
      "text/html": [
       "<style>\n",
       ".dictlist {\n",
       "  background-color: #4EC64B;\n",
       "  text-align: center;\n",
       "  margin: 4px;\n",
       "  border-radius: 3px; padding: 0px 3px 1px 3px; display: inline-block;}\n",
       ".artifact {\n",
       "  cursor: pointer;\n",
       "  background-color: #4EC64B;\n",
       "  text-align: left;\n",
       "  margin: 4px; border-radius: 3px; padding: 0px 3px 1px 3px; display: inline-block;\n",
       "}\n",
       "div.block.hidden {\n",
       "  display: none;\n",
       "}\n",
       ".clickable {\n",
       "  cursor: pointer;\n",
       "}\n",
       ".ellipsis {\n",
       "  display: inline-block;\n",
       "  max-width: 60px;\n",
       "  white-space: nowrap;\n",
       "  overflow: hidden;\n",
       "  text-overflow: ellipsis;\n",
       "}\n",
       ".master-wrapper {\n",
       "  display: flex;\n",
       "  flex-flow: row nowrap;\n",
       "  justify-content: flex-start;\n",
       "  align-items: stretch;\n",
       "}\n",
       ".master-tbl {\n",
       "  flex: 3\n",
       "}\n",
       ".master-wrapper > div {\n",
       "  margin: 4px;\n",
       "  padding: 10px;\n",
       "}\n",
       "iframe.fileview {\n",
       "  border: 0 none;\n",
       "  height: 100%;\n",
       "  width: 100%;\n",
       "  white-space: pre-wrap;\n",
       "}\n",
       ".pane-header-title {\n",
       "  width: 80%;\n",
       "  font-weight: 500;\n",
       "}\n",
       ".pane-header {\n",
       "  line-height: 1;\n",
       "  background-color: #4EC64B;\n",
       "  padding: 3px;\n",
       "}\n",
       ".pane-header .close {\n",
       "  font-size: 20px;\n",
       "  font-weight: 700;\n",
       "  float: right;\n",
       "  margin-top: -5px;\n",
       "}\n",
       ".master-wrapper .right-pane {\n",
       "  border: 1px inset silver;\n",
       "  width: 40%;\n",
       "  min-height: 300px;\n",
       "  flex: 3\n",
       "  min-width: 500px;\n",
       "}\n",
       ".master-wrapper * {\n",
       "  box-sizing: border-box;\n",
       "}\n",
       "</style><script>\n",
       "function copyToClipboard(fld) {\n",
       "    if (document.queryCommandSupported && document.queryCommandSupported('copy')) {\n",
       "        var textarea = document.createElement('textarea');\n",
       "        textarea.textContent = fld.innerHTML;\n",
       "        textarea.style.position = 'fixed';\n",
       "        document.body.appendChild(textarea);\n",
       "        textarea.select();\n",
       "\n",
       "        try {\n",
       "            return document.execCommand('copy'); // Security exception may be thrown by some browsers.\n",
       "        } catch (ex) {\n",
       "\n",
       "        } finally {\n",
       "            document.body.removeChild(textarea);\n",
       "        }\n",
       "    }\n",
       "}\n",
       "function expandPanel(el) {\n",
       "  const panelName = \"#\" + el.getAttribute('paneName');\n",
       "  console.log(el.title);\n",
       "\n",
       "  document.querySelector(panelName + \"-title\").innerHTML = el.title\n",
       "  iframe = document.querySelector(panelName + \"-body\");\n",
       "\n",
       "  const tblcss = `<style> body { font-family: Arial, Helvetica, sans-serif;}\n",
       "    #csv { margin-bottom: 15px; }\n",
       "    #csv table { border-collapse: collapse;}\n",
       "    #csv table td { padding: 4px 8px; border: 1px solid silver;} </style>`;\n",
       "\n",
       "  function csvToHtmlTable(str) {\n",
       "    return '<div id=\"csv\"><table><tr><td>' +  str.replace(/[\\n\\r]+$/g, '').replace(/[\\n\\r]+/g, '</td></tr><tr><td>')\n",
       "      .replace(/,/g, '</td><td>') + '</td></tr></table></div>';\n",
       "  }\n",
       "\n",
       "  function reqListener () {\n",
       "    if (el.title.endsWith(\".csv\")) {\n",
       "      iframe.setAttribute(\"srcdoc\", tblcss + csvToHtmlTable(this.responseText));\n",
       "    } else {\n",
       "      iframe.setAttribute(\"srcdoc\", this.responseText);\n",
       "    }\n",
       "    console.log(this.responseText);\n",
       "  }\n",
       "\n",
       "  const oReq = new XMLHttpRequest();\n",
       "  oReq.addEventListener(\"load\", reqListener);\n",
       "  oReq.open(\"GET\", el.title);\n",
       "  oReq.send();\n",
       "\n",
       "\n",
       "  //iframe.src = el.title;\n",
       "  const resultPane = document.querySelector(panelName + \"-pane\");\n",
       "  if (resultPane.classList.contains(\"hidden\")) {\n",
       "    resultPane.classList.remove(\"hidden\");\n",
       "  }\n",
       "}\n",
       "function closePanel(el) {\n",
       "  const panelName = \"#\" + el.getAttribute('paneName')\n",
       "  const resultPane = document.querySelector(panelName + \"-pane\");\n",
       "  if (!resultPane.classList.contains(\"hidden\")) {\n",
       "    resultPane.classList.add(\"hidden\");\n",
       "  }\n",
       "}\n",
       "\n",
       "</script>\n",
       "<div class=\"master-wrapper\">\n",
       "  <div class=\"block master-tbl\"><div>\n",
       "<style scoped>\n",
       "    .dataframe tbody tr th:only-of-type {\n",
       "        vertical-align: middle;\n",
       "    }\n",
       "\n",
       "    .dataframe tbody tr th {\n",
       "        vertical-align: top;\n",
       "    }\n",
       "\n",
       "    .dataframe thead th {\n",
       "        text-align: right;\n",
       "    }\n",
       "</style>\n",
       "<table border=\"1\" class=\"dataframe\">\n",
       "  <thead>\n",
       "    <tr style=\"text-align: right;\">\n",
       "      <th>project</th>\n",
       "      <th>uid</th>\n",
       "      <th>iter</th>\n",
       "      <th>start</th>\n",
       "      <th>state</th>\n",
       "      <th>name</th>\n",
       "      <th>labels</th>\n",
       "      <th>inputs</th>\n",
       "      <th>parameters</th>\n",
       "      <th>results</th>\n",
       "      <th>artifacts</th>\n",
       "    </tr>\n",
       "  </thead>\n",
       "  <tbody>\n",
       "    <tr>\n",
       "      <td>ingest-yonatan</td>\n",
       "      <td><div title=\"4bd5d12691a8439d90bf53847f59df1a\"><a href=\"https://dashboard.default-tenant.app.yh41.iguazio-cd1.com/mlprojects/ingest-yonatan/jobs/monitor/4bd5d12691a8439d90bf53847f59df1a/overview\" target=\"_blank\" >...7f59df1a</a></div></td>\n",
       "      <td>0</td>\n",
       "      <td>Jan 31 13:52:17</td>\n",
       "      <td>completed</td>\n",
       "      <td>ingest-ingest</td>\n",
       "      <td><div class=\"dictlist\">v3io_user=yonatan</div><div class=\"dictlist\">kind=</div><div class=\"dictlist\">owner=yonatan</div><div class=\"dictlist\">host=jupyter-yoni-647b99c95d-w4jlc</div></td>\n",
       "      <td></td>\n",
       "      <td><div class=\"dictlist\">featureset=store://feature-sets/ingest-yonatan/stock-quotes</div><div class=\"dictlist\">source={'kind': 'csv', 'name': 'quotes', 'path': 'quotes.csv'}</div><div class=\"dictlist\">infer_options=63</div><div class=\"dictlist\">overwrite=None</div><div class=\"dictlist\">targets=None</div></td>\n",
       "      <td><div class=\"dictlist\">featureset=store://feature-sets/ingest-yonatan/stock-quotes</div></td>\n",
       "      <td></td>\n",
       "    </tr>\n",
       "  </tbody>\n",
       "</table>\n",
       "</div></div>\n",
       "  <div id=\"result428f75df-pane\" class=\"right-pane block hidden\">\n",
       "    <div class=\"pane-header\">\n",
       "      <span id=\"result428f75df-title\" class=\"pane-header-title\">Title</span>\n",
       "      <span onclick=\"closePanel(this)\" paneName=\"result428f75df\" class=\"close clickable\">&times;</span>\n",
       "    </div>\n",
       "    <iframe class=\"fileview\" id=\"result428f75df-body\"></iframe>\n",
       "  </div>\n",
       "</div>\n"
      ],
      "text/plain": [
       "<IPython.core.display.HTML object>"
      ]
     },
     "metadata": {},
     "output_type": "display_data"
    },
    {
     "name": "stdout",
     "output_type": "stream",
     "text": [
      "\n"
     ]
    },
    {
     "data": {
      "text/html": [
       "<b> > to track results use the .show() or .logs() methods  or <a href=\"https://dashboard.default-tenant.app.yh41.iguazio-cd1.com/mlprojects/ingest-yonatan/jobs/monitor/4bd5d12691a8439d90bf53847f59df1a/overview\" target=\"_blank\">click here</a> to open in UI</b>"
      ],
      "text/plain": [
       "<IPython.core.display.HTML object>"
      ]
     },
     "metadata": {},
     "output_type": "display_data"
    },
    {
     "name": "stdout",
     "output_type": "stream",
     "text": [
      "> 2022-01-31 13:52:20,045 [info] run executed, status=completed\n"
     ]
    }
   ],
   "source": [
    "ingest_run = ingest_fn.run(\n",
    "    handler=\"ingest\",\n",
    "    params={\n",
    "        \"featureset\": quotes_set.uri,\n",
    "        \"source\": source,\n",
    "    },\n",
    "    local=True,\n",
    ")"
   ]
  },
  {
   "cell_type": "markdown",
   "metadata": {},
   "source": [
    "## View of the targets' state after run"
   ]
  },
  {
   "cell_type": "code",
   "execution_count": 19,
   "metadata": {},
   "outputs": [
    {
     "data": {
      "text/plain": [
       "'created'"
      ]
     },
     "execution_count": 19,
     "metadata": {},
     "output_type": "execute_result"
    }
   ],
   "source": [
    "fstore.get_feature_set(ingest_run.outputs['featureset']).status.state"
   ]
  }
 ],
 "metadata": {
  "kernelspec": {
   "display_name": "Python 3",
   "language": "python",
   "name": "python3"
  },
  "language_info": {
   "codemirror_mode": {
    "name": "ipython",
    "version": 3
   },
   "file_extension": ".py",
   "mimetype": "text/x-python",
   "name": "python",
   "nbconvert_exporter": "python",
   "pygments_lexer": "ipython3",
   "version": "3.7.6"
  }
 },
 "nbformat": 4,
 "nbformat_minor": 4
}
