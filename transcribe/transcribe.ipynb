{
 "cells": [
  {
   "cell_type": "markdown",
   "id": "a80305ba-ffff-4116-aa46-5c1b67368239",
   "metadata": {},
   "source": [
    "# Transcribe tutorial"
   ]
  },
  {
   "cell_type": "code",
   "execution_count": 1,
   "id": "bdb947f0-5b9a-492d-9676-374c38eee14a",
   "metadata": {
    "ExecuteTime": {
     "end_time": "2023-07-16T17:14:01.952515Z",
     "start_time": "2023-07-16T17:13:48.565039Z"
    }
   },
   "outputs": [],
   "source": [
    "import tempfile\n",
    "import mlrun"
   ]
  },
  {
   "cell_type": "markdown",
   "id": "b7364965-8dcd-419a-8764-dd0c87edb9f8",
   "metadata": {},
   "source": [
    "## Importing the transcribe function from hub\n",
    "\n",
    "To import the function directly from hub, use:\n",
    "```python \n",
    "transcribe_fn = mlrun.import_function(\"hub://transcribe\")\n",
    "```"
   ]
  },
  {
   "cell_type": "code",
   "execution_count": 2,
   "id": "984e7a3d",
   "metadata": {
    "ExecuteTime": {
     "end_time": "2023-07-16T17:14:01.955760Z",
     "start_time": "2023-07-16T17:14:01.954022Z"
    },
    "collapsed": false,
    "jupyter": {
     "outputs_hidden": false
    }
   },
   "outputs": [],
   "source": [
    "artifact_path = tempfile.mkdtemp()"
   ]
  },
  {
   "cell_type": "code",
   "execution_count": 3,
   "id": "2d9a80a2-8448-49cd-a92f-1ab2072fc720",
   "metadata": {
    "ExecuteTime": {
     "end_time": "2023-07-16T17:14:01.966758Z",
     "start_time": "2023-07-16T17:14:01.956508Z"
    }
   },
   "outputs": [],
   "source": [
    "transcribe_fn = mlrun.import_function(\"function.yaml\")"
   ]
  },
  {
   "cell_type": "markdown",
   "id": "7fcb6c8a-f83b-42d9-b02e-9187e85fe232",
   "metadata": {},
   "source": [
    "## Running transcribe without speaker diarization"
   ]
  },
  {
   "cell_type": "code",
   "execution_count": 4,
   "id": "1570b05f-cfb7-466d-84c8-98f4c9d54ad4",
   "metadata": {
    "ExecuteTime": {
     "end_time": "2023-07-16T17:14:12.724086Z",
     "start_time": "2023-07-16T17:14:01.969912Z"
    }
   },
   "outputs": [
    {
     "name": "stdout",
     "output_type": "stream",
     "text": [
      "> 2023-08-31 18:43:39,249 [info] Storing function: {'name': 'transcribe-transcribe', 'uid': '7aaac428055b4dab8d7fb49a204cd2c4', 'db': None}\n"
     ]
    },
    {
     "name": "stderr",
     "output_type": "stream",
     "text": [
      "\u001b[1mThe 'nopython' keyword argument was not supplied to the 'numba.jit' decorator. The implicit default value for this argument is currently False, but it will be changed to True in Numba 0.59.0. See https://numba.readthedocs.io/en/stable/reference/deprecation.html#deprecation-of-object-mode-fall-back-behaviour-when-using-jit for details.\u001b[0m\n"
     ]
    },
    {
     "name": "stdout",
     "output_type": "stream",
     "text": [
      "> 2023-08-31 18:43:45,146 [info] Loading whisper model: 'tiny'\n",
      "> 2023-08-31 18:43:46,032 [info] Model loaded.\n"
     ]
    },
    {
     "data": {
      "application/vnd.jupyter.widget-view+json": {
       "model_id": "49790614f3a347438d9ab1b4d7caffd4",
       "version_major": 2,
       "version_minor": 0
      },
      "text/plain": [
       "Transcribing:   0%|          | 0/6 [00:00<?, ?file/s]"
      ]
     },
     "metadata": {},
     "output_type": "display_data"
    },
    {
     "name": "stdout",
     "output_type": "stream",
     "text": [
      "> 2023-08-31 18:43:46,492 [warning] Error in file: '/User/functions/transcribe/data/.ipynb_checkpoints'\n",
      "> 2023-08-31 18:43:46,907 [warning] Error in file: '/User/functions/transcribe/data/error_file.txt'\n",
      "> 2023-08-31 18:44:18,983 [warning] Error in file: '/User/functions/transcribe/data/.ipynb_checkpoints/error_file-checkpoint.txt'\n",
      "> 2023-08-31 18:44:18,997 [info] Done:\n",
      "       audio_file transcription_file language      length  rate_of_speech\n",
      "0  real_state.mp3     real_state.txt       en  147.604626        2.906413\n",
      "1   speech_01.mp3      speech_01.txt       en    2.028299        3.451167\n",
      "2   speech_02.mp3      speech_02.txt       en   17.513243        3.026281\n"
     ]
    },
    {
     "data": {
      "text/html": [
       "<style>\n",
       ".dictlist {\n",
       "  background-color: #4EC64B;\n",
       "  text-align: center;\n",
       "  margin: 4px;\n",
       "  border-radius: 3px; padding: 0px 3px 1px 3px; display: inline-block;}\n",
       ".artifact {\n",
       "  cursor: pointer;\n",
       "  background-color: #4EC64B;\n",
       "  text-align: left;\n",
       "  margin: 4px; border-radius: 3px; padding: 0px 3px 1px 3px; display: inline-block;\n",
       "}\n",
       "div.block.hidden {\n",
       "  display: none;\n",
       "}\n",
       ".clickable {\n",
       "  cursor: pointer;\n",
       "}\n",
       ".ellipsis {\n",
       "  display: inline-block;\n",
       "  max-width: 60px;\n",
       "  white-space: nowrap;\n",
       "  overflow: hidden;\n",
       "  text-overflow: ellipsis;\n",
       "}\n",
       ".master-wrapper {\n",
       "  display: flex;\n",
       "  flex-flow: row nowrap;\n",
       "  justify-content: flex-start;\n",
       "  align-items: stretch;\n",
       "}\n",
       ".master-tbl {\n",
       "  flex: 3\n",
       "}\n",
       ".master-wrapper > div {\n",
       "  margin: 4px;\n",
       "  padding: 10px;\n",
       "}\n",
       "iframe.fileview {\n",
       "  border: 0 none;\n",
       "  height: 100%;\n",
       "  width: 100%;\n",
       "  white-space: pre-wrap;\n",
       "}\n",
       ".pane-header-title {\n",
       "  width: 80%;\n",
       "  font-weight: 500;\n",
       "}\n",
       ".pane-header {\n",
       "  line-height: 1;\n",
       "  background-color: #4EC64B;\n",
       "  padding: 3px;\n",
       "}\n",
       ".pane-header .close {\n",
       "  font-size: 20px;\n",
       "  font-weight: 700;\n",
       "  float: right;\n",
       "  margin-top: -5px;\n",
       "}\n",
       ".master-wrapper .right-pane {\n",
       "  border: 1px inset silver;\n",
       "  width: 40%;\n",
       "  min-height: 300px;\n",
       "  flex: 3\n",
       "  min-width: 500px;\n",
       "}\n",
       ".master-wrapper * {\n",
       "  box-sizing: border-box;\n",
       "}\n",
       "</style><script>\n",
       "function copyToClipboard(fld) {\n",
       "    if (document.queryCommandSupported && document.queryCommandSupported('copy')) {\n",
       "        var textarea = document.createElement('textarea');\n",
       "        textarea.textContent = fld.innerHTML;\n",
       "        textarea.style.position = 'fixed';\n",
       "        document.body.appendChild(textarea);\n",
       "        textarea.select();\n",
       "\n",
       "        try {\n",
       "            return document.execCommand('copy'); // Security exception may be thrown by some browsers.\n",
       "        } catch (ex) {\n",
       "\n",
       "        } finally {\n",
       "            document.body.removeChild(textarea);\n",
       "        }\n",
       "    }\n",
       "}\n",
       "function expandPanel(el) {\n",
       "  const panelName = \"#\" + el.getAttribute('paneName');\n",
       "  console.log(el.title);\n",
       "\n",
       "  document.querySelector(panelName + \"-title\").innerHTML = el.title\n",
       "  iframe = document.querySelector(panelName + \"-body\");\n",
       "\n",
       "  const tblcss = `<style> body { font-family: Arial, Helvetica, sans-serif;}\n",
       "    #csv { margin-bottom: 15px; }\n",
       "    #csv table { border-collapse: collapse;}\n",
       "    #csv table td { padding: 4px 8px; border: 1px solid silver;} </style>`;\n",
       "\n",
       "  function csvToHtmlTable(str) {\n",
       "    return '<div id=\"csv\"><table><tr><td>' +  str.replace(/[\\n\\r]+$/g, '').replace(/[\\n\\r]+/g, '</td></tr><tr><td>')\n",
       "      .replace(/,/g, '</td><td>') + '</td></tr></table></div>';\n",
       "  }\n",
       "\n",
       "  function reqListener () {\n",
       "    if (el.title.endsWith(\".csv\")) {\n",
       "      iframe.setAttribute(\"srcdoc\", tblcss + csvToHtmlTable(this.responseText));\n",
       "    } else {\n",
       "      iframe.setAttribute(\"srcdoc\", this.responseText);\n",
       "    }\n",
       "    console.log(this.responseText);\n",
       "  }\n",
       "\n",
       "  const oReq = new XMLHttpRequest();\n",
       "  oReq.addEventListener(\"load\", reqListener);\n",
       "  oReq.open(\"GET\", el.title);\n",
       "  oReq.send();\n",
       "\n",
       "\n",
       "  //iframe.src = el.title;\n",
       "  const resultPane = document.querySelector(panelName + \"-pane\");\n",
       "  if (resultPane.classList.contains(\"hidden\")) {\n",
       "    resultPane.classList.remove(\"hidden\");\n",
       "  }\n",
       "}\n",
       "function closePanel(el) {\n",
       "  const panelName = \"#\" + el.getAttribute('paneName')\n",
       "  const resultPane = document.querySelector(panelName + \"-pane\");\n",
       "  if (!resultPane.classList.contains(\"hidden\")) {\n",
       "    resultPane.classList.add(\"hidden\");\n",
       "  }\n",
       "}\n",
       "\n",
       "</script>\n",
       "<div class=\"master-wrapper\">\n",
       "  <div class=\"block master-tbl\"><div>\n",
       "<style scoped>\n",
       "    .dataframe tbody tr th:only-of-type {\n",
       "        vertical-align: middle;\n",
       "    }\n",
       "\n",
       "    .dataframe tbody tr th {\n",
       "        vertical-align: top;\n",
       "    }\n",
       "\n",
       "    .dataframe thead th {\n",
       "        text-align: right;\n",
       "    }\n",
       "</style>\n",
       "<table border=\"1\" class=\"dataframe\">\n",
       "  <thead>\n",
       "    <tr style=\"text-align: right;\">\n",
       "      <th>project</th>\n",
       "      <th>uid</th>\n",
       "      <th>iter</th>\n",
       "      <th>start</th>\n",
       "      <th>state</th>\n",
       "      <th>name</th>\n",
       "      <th>labels</th>\n",
       "      <th>inputs</th>\n",
       "      <th>parameters</th>\n",
       "      <th>results</th>\n",
       "      <th>artifacts</th>\n",
       "    </tr>\n",
       "  </thead>\n",
       "  <tbody>\n",
       "    <tr>\n",
       "      <td>default</td>\n",
       "      <td><div title=\"7aaac428055b4dab8d7fb49a204cd2c4\"><a href=\"https://dashboard.default-tenant.app.llm2.iguazio-cd0.com/mlprojects/default/jobs/monitor/7aaac428055b4dab8d7fb49a204cd2c4/overview\" target=\"_blank\" >...204cd2c4</a></div></td>\n",
       "      <td>0</td>\n",
       "      <td>Aug 31 18:43:39</td>\n",
       "      <td>completed</td>\n",
       "      <td>transcribe-transcribe</td>\n",
       "      <td><div class=\"dictlist\">v3io_user=pengw</div><div class=\"dictlist\">kind=</div><div class=\"dictlist\">owner=pengw</div><div class=\"dictlist\">host=jupyter-pengw-5f99fb678d-zkdv7</div></td>\n",
       "      <td></td>\n",
       "      <td><div class=\"dictlist\">model_name=tiny</div><div class=\"dictlist\">input_path=./data</div><div class=\"dictlist\">decoding_options={'fp16': False}</div><div class=\"dictlist\">output_directory=./output</div></td>\n",
       "      <td></td>\n",
       "      <td><div title=\"/tmp/tmpazzhw2mk/transcribe-transcribe/0/transcriptions.zip\">transcriptions</div><div title=\"/tmp/tmpazzhw2mk/transcribe-transcribe/0/transcriptions_df.parquet\">transcriptions_df</div><div title=\"/tmp/tmpazzhw2mk/transcribe-transcribe/0/transcriptions_errors.yaml\">transcriptions_errors</div></td>\n",
       "    </tr>\n",
       "  </tbody>\n",
       "</table>\n",
       "</div></div>\n",
       "  <div id=\"result1d852c9a-pane\" class=\"right-pane block hidden\">\n",
       "    <div class=\"pane-header\">\n",
       "      <span id=\"result1d852c9a-title\" class=\"pane-header-title\">Title</span>\n",
       "      <span onclick=\"closePanel(this)\" paneName=\"result1d852c9a\" class=\"close clickable\">&times;</span>\n",
       "    </div>\n",
       "    <iframe class=\"fileview\" id=\"result1d852c9a-body\"></iframe>\n",
       "  </div>\n",
       "</div>\n"
      ],
      "text/plain": [
       "<IPython.core.display.HTML object>"
      ]
     },
     "metadata": {},
     "output_type": "display_data"
    },
    {
     "name": "stdout",
     "output_type": "stream",
     "text": [
      "\n"
     ]
    },
    {
     "data": {
      "text/html": [
       "<b> > to track results use the .show() or .logs() methods  or <a href=\"https://dashboard.default-tenant.app.llm2.iguazio-cd0.com/mlprojects/default/jobs/monitor/7aaac428055b4dab8d7fb49a204cd2c4/overview\" target=\"_blank\">click here</a> to open in UI</b>"
      ],
      "text/plain": [
       "<IPython.core.display.HTML object>"
      ]
     },
     "metadata": {},
     "output_type": "display_data"
    },
    {
     "name": "stdout",
     "output_type": "stream",
     "text": [
      "> 2023-08-31 18:44:19,380 [info] Run execution finished: {'status': 'completed', 'name': 'transcribe-transcribe'}\n"
     ]
    }
   ],
   "source": [
    "transcribe_run = transcribe_fn.run(\n",
    "    handler=\"transcribe\",\n",
    "    params={\n",
    "        \"model_name\": \"tiny\",\n",
    "        \"input_path\": \"./data\",\n",
    "        \"decoding_options\": {\"fp16\": False},\n",
    "        \"output_directory\": \"./output\",\n",
    "    },\n",
    "    returns=[\n",
    "        \"transcriptions: path\",\n",
    "        \"transcriptions_df: dataset\",\n",
    "        {\"key\": \"transcriptions_errors\", \"artifact_type\": \"file\", \"file_format\": \"yaml\"},\n",
    "    ],\n",
    "    local=True,\n",
    "    artifact_path=artifact_path,\n",
    ")"
   ]
  },
  {
   "cell_type": "code",
   "execution_count": 5,
   "id": "407d1e6c-d2a4-42e7-b3e2-c51138cb30ea",
   "metadata": {
    "ExecuteTime": {
     "end_time": "2023-07-16T17:14:12.745521Z",
     "start_time": "2023-07-16T17:14:12.726898Z"
    }
   },
   "outputs": [
    {
     "data": {
      "text/plain": [
       "{'transcriptions': 'store://artifacts/default/transcribe-transcribe_transcriptions:7aaac428055b4dab8d7fb49a204cd2c4',\n",
       " 'transcriptions_df': 'store://artifacts/default/transcribe-transcribe_transcriptions_df:7aaac428055b4dab8d7fb49a204cd2c4',\n",
       " 'transcriptions_errors': 'store://artifacts/default/transcribe-transcribe_transcriptions_errors:7aaac428055b4dab8d7fb49a204cd2c4'}"
      ]
     },
     "execution_count": 5,
     "metadata": {},
     "output_type": "execute_result"
    }
   ],
   "source": [
    "transcribe_run.outputs"
   ]
  },
  {
   "cell_type": "markdown",
   "id": "2fbf3564",
   "metadata": {},
   "source": [
    "**Notice**: If connected to mlrun server, you can simply use:\n",
    "\n",
    "```python\n",
    "df = transcribe_run.artifact(\"transcriptions_df\")\n",
    "```"
   ]
  },
  {
   "cell_type": "code",
   "execution_count": 6,
   "id": "d4674039",
   "metadata": {
    "ExecuteTime": {
     "end_time": "2023-07-16T17:14:12.748292Z",
     "start_time": "2023-07-16T17:14:12.730064Z"
    },
    "collapsed": false,
    "jupyter": {
     "outputs_hidden": false
    }
   },
   "outputs": [],
   "source": [
    "artifact_path += f\"/{transcribe_run.metadata.name}/{transcribe_run.metadata.iteration}/\""
   ]
  },
  {
   "cell_type": "code",
   "execution_count": 7,
   "id": "7575e495",
   "metadata": {
    "ExecuteTime": {
     "end_time": "2023-07-16T17:25:02.719538Z",
     "start_time": "2023-07-16T17:25:02.712455Z"
    },
    "collapsed": false,
    "jupyter": {
     "outputs_hidden": false
    }
   },
   "outputs": [],
   "source": [
    "df = mlrun.get_dataitem(artifact_path + \"transcriptions_df.parquet\").as_df()"
   ]
  },
  {
   "cell_type": "code",
   "execution_count": 8,
   "id": "f280558a",
   "metadata": {
    "ExecuteTime": {
     "end_time": "2023-07-16T17:25:07.880514Z",
     "start_time": "2023-07-16T17:25:07.878158Z"
    },
    "collapsed": false,
    "jupyter": {
     "outputs_hidden": false
    }
   },
   "outputs": [
    {
     "data": {
      "text/html": [
       "<div>\n",
       "<style scoped>\n",
       "    .dataframe tbody tr th:only-of-type {\n",
       "        vertical-align: middle;\n",
       "    }\n",
       "\n",
       "    .dataframe tbody tr th {\n",
       "        vertical-align: top;\n",
       "    }\n",
       "\n",
       "    .dataframe thead th {\n",
       "        text-align: right;\n",
       "    }\n",
       "</style>\n",
       "<table border=\"1\" class=\"dataframe\">\n",
       "  <thead>\n",
       "    <tr style=\"text-align: right;\">\n",
       "      <th></th>\n",
       "      <th>audio_file</th>\n",
       "      <th>transcription_file</th>\n",
       "      <th>language</th>\n",
       "      <th>length</th>\n",
       "      <th>rate_of_speech</th>\n",
       "    </tr>\n",
       "  </thead>\n",
       "  <tbody>\n",
       "    <tr>\n",
       "      <th>0</th>\n",
       "      <td>real_state.mp3</td>\n",
       "      <td>real_state.txt</td>\n",
       "      <td>en</td>\n",
       "      <td>147.604626</td>\n",
       "      <td>2.906413</td>\n",
       "    </tr>\n",
       "    <tr>\n",
       "      <th>1</th>\n",
       "      <td>speech_01.mp3</td>\n",
       "      <td>speech_01.txt</td>\n",
       "      <td>en</td>\n",
       "      <td>2.028299</td>\n",
       "      <td>3.451167</td>\n",
       "    </tr>\n",
       "    <tr>\n",
       "      <th>2</th>\n",
       "      <td>speech_02.mp3</td>\n",
       "      <td>speech_02.txt</td>\n",
       "      <td>en</td>\n",
       "      <td>17.513243</td>\n",
       "      <td>3.026281</td>\n",
       "    </tr>\n",
       "  </tbody>\n",
       "</table>\n",
       "</div>"
      ],
      "text/plain": [
       "       audio_file transcription_file language      length  rate_of_speech\n",
       "0  real_state.mp3     real_state.txt       en  147.604626        2.906413\n",
       "1   speech_01.mp3      speech_01.txt       en    2.028299        3.451167\n",
       "2   speech_02.mp3      speech_02.txt       en   17.513243        3.026281"
      ]
     },
     "execution_count": 8,
     "metadata": {},
     "output_type": "execute_result"
    }
   ],
   "source": [
    "df.head()"
   ]
  },
  {
   "cell_type": "code",
   "execution_count": 9,
   "id": "50722801-edc1-4d9d-be81-9bf0bae67617",
   "metadata": {},
   "outputs": [
    {
     "name": "stdout",
     "output_type": "stream",
     "text": [
      " Hello, we're Luis speaking. Hi, Luis. This is Sophia. Good day. I'm finding from the real estate. Lee generation.com.au. We just want to see. Hello. Our custom lead generation packages are now live. We're getting real estate agent Lee task with speak. I know you're busy. We're going to see the LSE's, what if your team is already set up with the stakeholder movement in coming leads from property appraisals, property management and general anchorage that's fine. We'll leave you to it, but we've been working with real estate agencies for over ten years and there's always a common theme. Where is your next lead going to come from? So my call today is just a book a time when one of our real estate lead Specialist work based in Botzinyan Malburn, they'll quickly introduce a package to you. Just run through a few of the finer details, L.A.L.E. It will only take 10 to 20 minutes to give you the background of the package. So let your ask any questions you may have. Are you free next week? Wednesday during the morning or date or after lunch? I'm really sorry. I'll be running around at open. What about Friday next week? Or we can do April, April appointments as well. I can actually understand what is it? Custom lead generation package. This is your line of business, right? Real estate? Yes. So this are just custom lead generations to be honest. I don't really have the information for the package. What I really do is just to connect you to our real estate lead Specialist with what they could discuss the package with you. Any questions that you may have to be able to answer it for you. Most definitely through the appointment. It'll just take about 10 to 20 minutes. Okay. Can you come out at the moment? Are you able to send me an email? Can I have a look at it and confirm a time? I won't be because I, to be honest, I don't really have. We call out so I don't really have me or email app. But I could set you up for a Friday next week and we still have, we still have from 10 a.m. to 12 30. But I know thanks. Okay. What about if I call you back next week and then perhaps we can get an appointment time for you next week? Okay. That sounds good. All right. Thank you. All right. Thank you so much. Have a good day today. Enjoy your weekend. Okay. Thanks. Bye."
     ]
    }
   ],
   "source": [
    "!cat ./output/real_state.txt"
   ]
  },
  {
   "cell_type": "markdown",
   "id": "e55090b9-03d8-4a20-8985-444882d591ee",
   "metadata": {},
   "source": [
    "## Running transcribe with speaker diarization"
   ]
  },
  {
   "cell_type": "code",
   "execution_count": 19,
   "id": "6d9b10f1-8a3c-409e-8537-9d58d4114722",
   "metadata": {},
   "outputs": [
    {
     "name": "stdout",
     "output_type": "stream",
     "text": [
      "> 2023-08-31 19:12:10,078 [info] Project loaded successfully: {'project_name': 'transcribe'}\n",
      "> 2023-08-31 19:12:10,219 [warning] artifact/output path is not defined or is local and relative, artifacts will not be visible in the UI: {'output_path': './'}\n",
      "> 2023-08-31 19:12:10,220 [info] Storing function: {'name': 'transcribe-transcribe', 'uid': '232532c2a22f4a5f998b5b30adf4c3aa', 'db': None}\n",
      "> 2023-08-31 19:12:10,357 [info] Loading whisper model: 'tiny'\n",
      "> 2023-08-31 19:12:10,953 [info] Model loaded.\n"
     ]
    },
    {
     "data": {
      "application/vnd.jupyter.widget-view+json": {
       "model_id": "353815b119eb4c47a05914494e248bbf",
       "version_major": 2,
       "version_minor": 0
      },
      "text/plain": [
       "Transcribing:   0%|          | 0/1 [00:00<?, ?file/s]"
      ]
     },
     "metadata": {},
     "output_type": "display_data"
    },
    {
     "name": "stdout",
     "output_type": "stream",
     "text": [
      "> 2023-08-31 19:12:33,886 [info] Done:\n",
      "   audio_file transcription_file language      length  rate_of_speech\n",
      "15          .     real_state.txt       en  146.912625        3.253635\n",
      "> 2023-08-31 19:12:33,907 [warning] Skipping logging an object with the log hint '{'key': 'transcriptions_errors', 'artifact_type': 'file', 'file_format': 'yaml'}' due to the following error:\n",
      "An exception was raised during the packing of '{'key': 'transcriptions_errors', 'file_format': 'yaml'}': 'yaml'\n"
     ]
    },
    {
     "data": {
      "text/html": [
       "<style>\n",
       ".dictlist {\n",
       "  background-color: #4EC64B;\n",
       "  text-align: center;\n",
       "  margin: 4px;\n",
       "  border-radius: 3px; padding: 0px 3px 1px 3px; display: inline-block;}\n",
       ".artifact {\n",
       "  cursor: pointer;\n",
       "  background-color: #4EC64B;\n",
       "  text-align: left;\n",
       "  margin: 4px; border-radius: 3px; padding: 0px 3px 1px 3px; display: inline-block;\n",
       "}\n",
       "div.block.hidden {\n",
       "  display: none;\n",
       "}\n",
       ".clickable {\n",
       "  cursor: pointer;\n",
       "}\n",
       ".ellipsis {\n",
       "  display: inline-block;\n",
       "  max-width: 60px;\n",
       "  white-space: nowrap;\n",
       "  overflow: hidden;\n",
       "  text-overflow: ellipsis;\n",
       "}\n",
       ".master-wrapper {\n",
       "  display: flex;\n",
       "  flex-flow: row nowrap;\n",
       "  justify-content: flex-start;\n",
       "  align-items: stretch;\n",
       "}\n",
       ".master-tbl {\n",
       "  flex: 3\n",
       "}\n",
       ".master-wrapper > div {\n",
       "  margin: 4px;\n",
       "  padding: 10px;\n",
       "}\n",
       "iframe.fileview {\n",
       "  border: 0 none;\n",
       "  height: 100%;\n",
       "  width: 100%;\n",
       "  white-space: pre-wrap;\n",
       "}\n",
       ".pane-header-title {\n",
       "  width: 80%;\n",
       "  font-weight: 500;\n",
       "}\n",
       ".pane-header {\n",
       "  line-height: 1;\n",
       "  background-color: #4EC64B;\n",
       "  padding: 3px;\n",
       "}\n",
       ".pane-header .close {\n",
       "  font-size: 20px;\n",
       "  font-weight: 700;\n",
       "  float: right;\n",
       "  margin-top: -5px;\n",
       "}\n",
       ".master-wrapper .right-pane {\n",
       "  border: 1px inset silver;\n",
       "  width: 40%;\n",
       "  min-height: 300px;\n",
       "  flex: 3\n",
       "  min-width: 500px;\n",
       "}\n",
       ".master-wrapper * {\n",
       "  box-sizing: border-box;\n",
       "}\n",
       "</style><script>\n",
       "function copyToClipboard(fld) {\n",
       "    if (document.queryCommandSupported && document.queryCommandSupported('copy')) {\n",
       "        var textarea = document.createElement('textarea');\n",
       "        textarea.textContent = fld.innerHTML;\n",
       "        textarea.style.position = 'fixed';\n",
       "        document.body.appendChild(textarea);\n",
       "        textarea.select();\n",
       "\n",
       "        try {\n",
       "            return document.execCommand('copy'); // Security exception may be thrown by some browsers.\n",
       "        } catch (ex) {\n",
       "\n",
       "        } finally {\n",
       "            document.body.removeChild(textarea);\n",
       "        }\n",
       "    }\n",
       "}\n",
       "function expandPanel(el) {\n",
       "  const panelName = \"#\" + el.getAttribute('paneName');\n",
       "  console.log(el.title);\n",
       "\n",
       "  document.querySelector(panelName + \"-title\").innerHTML = el.title\n",
       "  iframe = document.querySelector(panelName + \"-body\");\n",
       "\n",
       "  const tblcss = `<style> body { font-family: Arial, Helvetica, sans-serif;}\n",
       "    #csv { margin-bottom: 15px; }\n",
       "    #csv table { border-collapse: collapse;}\n",
       "    #csv table td { padding: 4px 8px; border: 1px solid silver;} </style>`;\n",
       "\n",
       "  function csvToHtmlTable(str) {\n",
       "    return '<div id=\"csv\"><table><tr><td>' +  str.replace(/[\\n\\r]+$/g, '').replace(/[\\n\\r]+/g, '</td></tr><tr><td>')\n",
       "      .replace(/,/g, '</td><td>') + '</td></tr></table></div>';\n",
       "  }\n",
       "\n",
       "  function reqListener () {\n",
       "    if (el.title.endsWith(\".csv\")) {\n",
       "      iframe.setAttribute(\"srcdoc\", tblcss + csvToHtmlTable(this.responseText));\n",
       "    } else {\n",
       "      iframe.setAttribute(\"srcdoc\", this.responseText);\n",
       "    }\n",
       "    console.log(this.responseText);\n",
       "  }\n",
       "\n",
       "  const oReq = new XMLHttpRequest();\n",
       "  oReq.addEventListener(\"load\", reqListener);\n",
       "  oReq.open(\"GET\", el.title);\n",
       "  oReq.send();\n",
       "\n",
       "\n",
       "  //iframe.src = el.title;\n",
       "  const resultPane = document.querySelector(panelName + \"-pane\");\n",
       "  if (resultPane.classList.contains(\"hidden\")) {\n",
       "    resultPane.classList.remove(\"hidden\");\n",
       "  }\n",
       "}\n",
       "function closePanel(el) {\n",
       "  const panelName = \"#\" + el.getAttribute('paneName')\n",
       "  const resultPane = document.querySelector(panelName + \"-pane\");\n",
       "  if (!resultPane.classList.contains(\"hidden\")) {\n",
       "    resultPane.classList.add(\"hidden\");\n",
       "  }\n",
       "}\n",
       "\n",
       "</script>\n",
       "<div class=\"master-wrapper\">\n",
       "  <div class=\"block master-tbl\"><div>\n",
       "<style scoped>\n",
       "    .dataframe tbody tr th:only-of-type {\n",
       "        vertical-align: middle;\n",
       "    }\n",
       "\n",
       "    .dataframe tbody tr th {\n",
       "        vertical-align: top;\n",
       "    }\n",
       "\n",
       "    .dataframe thead th {\n",
       "        text-align: right;\n",
       "    }\n",
       "</style>\n",
       "<table border=\"1\" class=\"dataframe\">\n",
       "  <thead>\n",
       "    <tr style=\"text-align: right;\">\n",
       "      <th>project</th>\n",
       "      <th>uid</th>\n",
       "      <th>iter</th>\n",
       "      <th>start</th>\n",
       "      <th>state</th>\n",
       "      <th>name</th>\n",
       "      <th>labels</th>\n",
       "      <th>inputs</th>\n",
       "      <th>parameters</th>\n",
       "      <th>results</th>\n",
       "      <th>artifacts</th>\n",
       "    </tr>\n",
       "  </thead>\n",
       "  <tbody>\n",
       "    <tr>\n",
       "      <td>transcribe</td>\n",
       "      <td><div title=\"232532c2a22f4a5f998b5b30adf4c3aa\"><a href=\"https://dashboard.default-tenant.app.llm2.iguazio-cd0.com/mlprojects/transcribe/jobs/monitor/232532c2a22f4a5f998b5b30adf4c3aa/overview\" target=\"_blank\" >...adf4c3aa</a></div></td>\n",
       "      <td>0</td>\n",
       "      <td>Aug 31 19:12:10</td>\n",
       "      <td>completed</td>\n",
       "      <td>transcribe-transcribe</td>\n",
       "      <td><div class=\"dictlist\">v3io_user=pengw</div><div class=\"dictlist\">kind=</div><div class=\"dictlist\">owner=pengw</div><div class=\"dictlist\">host=jupyter-pengw-5f99fb678d-zkdv7</div></td>\n",
       "      <td></td>\n",
       "      <td><div class=\"dictlist\">model_name=tiny</div><div class=\"dictlist\">input_path=./data/real_state.mp3</div><div class=\"dictlist\">decoding_options={'fp16': False}</div><div class=\"dictlist\">output_directory=./output_1</div><div class=\"dictlist\">url_path=./input/dataset.parquet</div></td>\n",
       "      <td></td>\n",
       "      <td><div class=\"artifact\" onclick=\"expandPanel(this)\" paneName=\"result1a45fddf\" title=\"/files/functions/transcribe/transcribe-transcribe/0/real_state.csv\">real_state</div><div title=\"/User/functions/transcribe/transcribe-transcribe/0/transcriptions.zip\">transcriptions</div><div title=\"/User/functions/transcribe/transcribe-transcribe/0/transcriptions_df.parquet\">transcriptions_df</div></td>\n",
       "    </tr>\n",
       "  </tbody>\n",
       "</table>\n",
       "</div></div>\n",
       "  <div id=\"result1a45fddf-pane\" class=\"right-pane block hidden\">\n",
       "    <div class=\"pane-header\">\n",
       "      <span id=\"result1a45fddf-title\" class=\"pane-header-title\">Title</span>\n",
       "      <span onclick=\"closePanel(this)\" paneName=\"result1a45fddf\" class=\"close clickable\">&times;</span>\n",
       "    </div>\n",
       "    <iframe class=\"fileview\" id=\"result1a45fddf-body\"></iframe>\n",
       "  </div>\n",
       "</div>\n"
      ],
      "text/plain": [
       "<IPython.core.display.HTML object>"
      ]
     },
     "metadata": {},
     "output_type": "display_data"
    },
    {
     "name": "stdout",
     "output_type": "stream",
     "text": [
      "\n"
     ]
    },
    {
     "data": {
      "text/html": [
       "<b> > to track results use the .show() or .logs() methods  or <a href=\"https://dashboard.default-tenant.app.llm2.iguazio-cd0.com/mlprojects/transcribe/jobs/monitor/232532c2a22f4a5f998b5b30adf4c3aa/overview\" target=\"_blank\">click here</a> to open in UI</b>"
      ],
      "text/plain": [
       "<IPython.core.display.HTML object>"
      ]
     },
     "metadata": {},
     "output_type": "display_data"
    },
    {
     "name": "stdout",
     "output_type": "stream",
     "text": [
      "> 2023-08-31 19:12:34,185 [info] Run execution finished: {'status': 'completed', 'name': 'transcribe-transcribe'}\n"
     ]
    }
   ],
   "source": [
    "artifact_path = \"./\"\n",
    "proj = mlrun.get_or_create_project(\"transcribe\", \"./\")\n",
    "fn = mlrun.code_to_function(\n",
    "    project=\"transcribe\",\n",
    "    name=\"transcribe\",\n",
    "    filename=\"transcribe.py\",\n",
    "    kind=\"job\",\n",
    "    image=\"mlrun/mlrun\",\n",
    "    handler=\"transcribe\",\n",
    "    description=\"This function is used to transcribe audio file\",\n",
    ")\n",
    "transcribe_run = fn.run(\n",
    "    handler=\"transcribe\",\n",
    "    params={\n",
    "        \"model_name\": \"tiny\",\n",
    "        \"input_path\": \"./data/real_state.mp3\",\n",
    "        \"decoding_options\": {\"fp16\": False},\n",
    "        \"output_directory\": \"./output_1\",\n",
    "        \"url_path\": \"./input/dataset.parquet\",\n",
    "    },\n",
    "    returns=[\n",
    "        \"transcriptions: path\",\n",
    "        \"transcriptions_df: dataset\",\n",
    "        {\"key\": \"transcriptions_errors\", \"artifact_type\": \"file\", \"file_format\": \"yaml\"},\n",
    "    ],\n",
    "    local=True,\n",
    "    artifact_path=artifact_path,\n",
    ")"
   ]
  },
  {
   "cell_type": "code",
   "execution_count": 22,
   "id": "4c2cc6a2-38ab-4ea2-9678-e0c01ed9fb64",
   "metadata": {},
   "outputs": [],
   "source": [
    "artifact_path += f\"/{transcribe_run.metadata.name}/{transcribe_run.metadata.iteration}/\""
   ]
  },
  {
   "cell_type": "code",
   "execution_count": 24,
   "id": "a29cded4-c804-41a6-be1a-48c518881dc5",
   "metadata": {},
   "outputs": [],
   "source": [
    "df = mlrun.get_dataitem(artifact_path + \"real_state.csv\").as_df()"
   ]
  },
  {
   "cell_type": "code",
   "execution_count": 25,
   "id": "9801d725-f608-4db8-aad4-702de4f1fa04",
   "metadata": {},
   "outputs": [
    {
     "data": {
      "text/html": [
       "<div>\n",
       "<style scoped>\n",
       "    .dataframe tbody tr th:only-of-type {\n",
       "        vertical-align: middle;\n",
       "    }\n",
       "\n",
       "    .dataframe tbody tr th {\n",
       "        vertical-align: top;\n",
       "    }\n",
       "\n",
       "    .dataframe thead th {\n",
       "        text-align: right;\n",
       "    }\n",
       "</style>\n",
       "<table border=\"1\" class=\"dataframe\">\n",
       "  <thead>\n",
       "    <tr style=\"text-align: right;\">\n",
       "      <th></th>\n",
       "      <th>speaker</th>\n",
       "      <th>start_time</th>\n",
       "      <th>end_time</th>\n",
       "      <th>transcription</th>\n",
       "    </tr>\n",
       "  </thead>\n",
       "  <tbody>\n",
       "    <tr>\n",
       "      <th>0</th>\n",
       "      <td>speaker_0</td>\n",
       "      <td>8940.0</td>\n",
       "      <td>10410.0</td>\n",
       "      <td>Hello, hello, we speaking.</td>\n",
       "    </tr>\n",
       "    <tr>\n",
       "      <th>1</th>\n",
       "      <td>speaker_0</td>\n",
       "      <td>10860.0</td>\n",
       "      <td>19485.0</td>\n",
       "      <td>Hi, all of you. This is Sophia. Good day. I'm...</td>\n",
       "    </tr>\n",
       "    <tr>\n",
       "      <th>2</th>\n",
       "      <td>speaker_0</td>\n",
       "      <td>19900.0</td>\n",
       "      <td>63210.0</td>\n",
       "      <td>Our custom lead generation packages are now l...</td>\n",
       "    </tr>\n",
       "    <tr>\n",
       "      <th>3</th>\n",
       "      <td>speaker_1</td>\n",
       "      <td>63500.0</td>\n",
       "      <td>67130.0</td>\n",
       "      <td>I'm really sorry. I'll be running around at o...</td>\n",
       "    </tr>\n",
       "    <tr>\n",
       "      <th>4</th>\n",
       "      <td>speaker_0</td>\n",
       "      <td>67660.0</td>\n",
       "      <td>73285.0</td>\n",
       "      <td>What about Friday next week or we can do Apri...</td>\n",
       "    </tr>\n",
       "    <tr>\n",
       "      <th>5</th>\n",
       "      <td>speaker_1</td>\n",
       "      <td>73285.0</td>\n",
       "      <td>75535.0</td>\n",
       "      <td>Then actually understand what is.</td>\n",
       "    </tr>\n",
       "    <tr>\n",
       "      <th>6</th>\n",
       "      <td>speaker_0</td>\n",
       "      <td>75535.0</td>\n",
       "      <td>75785.0</td>\n",
       "      <td>NaN</td>\n",
       "    </tr>\n",
       "    <tr>\n",
       "      <th>7</th>\n",
       "      <td>speaker_1</td>\n",
       "      <td>76035.0</td>\n",
       "      <td>76285.0</td>\n",
       "      <td>NaN</td>\n",
       "    </tr>\n",
       "    <tr>\n",
       "      <th>8</th>\n",
       "      <td>speaker_0</td>\n",
       "      <td>76285.0</td>\n",
       "      <td>81290.0</td>\n",
       "      <td>Custom lead generation package. This is your ...</td>\n",
       "    </tr>\n",
       "    <tr>\n",
       "      <th>9</th>\n",
       "      <td>speaker_0</td>\n",
       "      <td>81580.0</td>\n",
       "      <td>103850.0</td>\n",
       "      <td>So, this are just custom lead generations to ...</td>\n",
       "    </tr>\n",
       "    <tr>\n",
       "      <th>10</th>\n",
       "      <td>speaker_1</td>\n",
       "      <td>104540.0</td>\n",
       "      <td>112250.0</td>\n",
       "      <td>Okay, because I'm like I'm out at the moment....</td>\n",
       "    </tr>\n",
       "    <tr>\n",
       "      <th>11</th>\n",
       "      <td>speaker_0</td>\n",
       "      <td>112540.0</td>\n",
       "      <td>127915.0</td>\n",
       "      <td>I won't be because I, to be honest, I don't r...</td>\n",
       "    </tr>\n",
       "    <tr>\n",
       "      <th>12</th>\n",
       "      <td>speaker_1</td>\n",
       "      <td>127915.0</td>\n",
       "      <td>129415.0</td>\n",
       "      <td>No, thanks. Sorry.</td>\n",
       "    </tr>\n",
       "    <tr>\n",
       "      <th>13</th>\n",
       "      <td>speaker_0</td>\n",
       "      <td>129415.0</td>\n",
       "      <td>136415.0</td>\n",
       "      <td>Okay, what about if I call you back next week...</td>\n",
       "    </tr>\n",
       "    <tr>\n",
       "      <th>14</th>\n",
       "      <td>speaker_1</td>\n",
       "      <td>136415.0</td>\n",
       "      <td>137165.0</td>\n",
       "      <td>Okay? Thank you very much.</td>\n",
       "    </tr>\n",
       "    <tr>\n",
       "      <th>15</th>\n",
       "      <td>speaker_0</td>\n",
       "      <td>137165.0</td>\n",
       "      <td>146910.0</td>\n",
       "      <td>Alright, I'll call you back Monday. Alright, ...</td>\n",
       "    </tr>\n",
       "  </tbody>\n",
       "</table>\n",
       "</div>"
      ],
      "text/plain": [
       "      speaker  start_time  end_time  \\\n",
       "0   speaker_0      8940.0   10410.0   \n",
       "1   speaker_0     10860.0   19485.0   \n",
       "2   speaker_0     19900.0   63210.0   \n",
       "3   speaker_1     63500.0   67130.0   \n",
       "4   speaker_0     67660.0   73285.0   \n",
       "5   speaker_1     73285.0   75535.0   \n",
       "6   speaker_0     75535.0   75785.0   \n",
       "7   speaker_1     76035.0   76285.0   \n",
       "8   speaker_0     76285.0   81290.0   \n",
       "9   speaker_0     81580.0  103850.0   \n",
       "10  speaker_1    104540.0  112250.0   \n",
       "11  speaker_0    112540.0  127915.0   \n",
       "12  speaker_1    127915.0  129415.0   \n",
       "13  speaker_0    129415.0  136415.0   \n",
       "14  speaker_1    136415.0  137165.0   \n",
       "15  speaker_0    137165.0  146910.0   \n",
       "\n",
       "                                        transcription  \n",
       "0                          Hello, hello, we speaking.  \n",
       "1    Hi, all of you. This is Sophia. Good day. I'm...  \n",
       "2    Our custom lead generation packages are now l...  \n",
       "3    I'm really sorry. I'll be running around at o...  \n",
       "4    What about Friday next week or we can do Apri...  \n",
       "5                   Then actually understand what is.  \n",
       "6                                                 NaN  \n",
       "7                                                 NaN  \n",
       "8    Custom lead generation package. This is your ...  \n",
       "9    So, this are just custom lead generations to ...  \n",
       "10   Okay, because I'm like I'm out at the moment....  \n",
       "11   I won't be because I, to be honest, I don't r...  \n",
       "12                                 No, thanks. Sorry.  \n",
       "13   Okay, what about if I call you back next week...  \n",
       "14                         Okay? Thank you very much.  \n",
       "15   Alright, I'll call you back Monday. Alright, ...  "
      ]
     },
     "execution_count": 25,
     "metadata": {},
     "output_type": "execute_result"
    }
   ],
   "source": [
    "df"
   ]
  },
  {
   "cell_type": "code",
   "execution_count": 26,
   "id": "3a6469ce-dc97-423c-9a4e-5bf45e12fd19",
   "metadata": {},
   "outputs": [
    {
     "name": "stdout",
     "output_type": "stream",
     "text": [
      "speaker_0  8940.0  10410.0: \n",
      "  Hello, hello, we speaking.\n",
      "speaker_0  10860.0  19485.0: \n",
      "  Hi, all of you. This is Sophia. Good day. I'm finding from the real estate. Lee generation.com.au. We just want to be with you.\n",
      "speaker_0  19900.0  63210.0: \n",
      "  Our custom lead generation packages are now live. We're getting real estate agent Lee task we speak. I know you're busy. I'll leave. What if you open your team is already set up with a stable stream of income and lead property management and general and curious that's fine. We'll leave it to it. But we've been working with real estate agencies for over 10 years. And there's always a common theme. Where is your next lead going to come from? So my call today is just a book a time. We had one of our real estate lead specialists were based in both Sydney and Melbourne. They'll quickly introduce a package to you. Just run through a few of the finer details. It will only take 10 to 20 minutes to give you the background of the package. The letter F and the question to may have. Are you free next week? Wednesday during the morning or date or after lunch?\n",
      "speaker_1  63500.0  67130.0: \n",
      "  I'm really sorry. I'll be running around at open.\n",
      "speaker_0  67660.0  73285.0: \n",
      "  What about Friday next week or we can do April April appointment as well?\n",
      "speaker_1  73285.0  75535.0: \n",
      "  Then actually understand what is.\n",
      "speaker_0  75535.0  75785.0: \n",
      " \n",
      "speaker_1  76035.0  76285.0: \n",
      " \n",
      "speaker_0  76285.0  81289.99999999999: \n",
      "  Custom lead generation package. This is your line of business, right? Real estate.\n",
      "speaker_0  81580.0  103850.0: \n",
      "  So, this are just custom lead generations to be honest. I don't really have the information for the package. What I really do is to connect you to our real estate lead specialist with up. They could discuss the package with you. Any questions that you may have to be able to answer it for you most definitely through the appointment. It'll just take about 10 to 20 minutes.\n",
      "speaker_1  104540.0  112250.0: \n",
      "  Okay, because I'm like I'm out at the moment. Are you able to send me an email and I can have a look at it and confirm a time?\n",
      "speaker_0  112540.0  127915.0: \n",
      "  I won't be because I, to be honest, I don't really have, we call out so I don't really have me or email app. But I could, I could set you up for say Friday next week and we still have from 10 a.m. to 1230.\n",
      "speaker_1  127915.0  129415.00000000001: \n",
      "  No, thanks. Sorry.\n",
      "speaker_0  129414.99999999999  136415.0: \n",
      "  Okay, what about if I call you back next week and then perhaps you can get an appointment time for your next week.\n",
      "speaker_1  136415.0  137165.0: \n",
      "  Okay? Thank you very much.\n",
      "speaker_0  137165.0  146910.0: \n",
      "  Alright, I'll call you back Monday. Alright, thank you so much. Have a good day today and join your weekend. Okay. Thanks. Bye. Bye."
     ]
    }
   ],
   "source": [
    "!cat output_1/real_state.txt"
   ]
  },
  {
   "cell_type": "code",
   "execution_count": null,
   "id": "daca2706-b813-4393-b28a-140d5e22555c",
   "metadata": {},
   "outputs": [],
   "source": []
  }
 ],
 "metadata": {
  "kernelspec": {
   "display_name": "transcribe",
   "language": "python",
   "name": "conda-env-.conda-transcribe-py"
  },
  "language_info": {
   "codemirror_mode": {
    "name": "ipython",
    "version": 3
   },
   "file_extension": ".py",
   "mimetype": "text/x-python",
   "name": "python",
   "nbconvert_exporter": "python",
   "pygments_lexer": "ipython3",
   "version": "3.9.16"
  }
 },
 "nbformat": 4,
 "nbformat_minor": 5
}
