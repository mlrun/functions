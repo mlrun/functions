{
 "cells": [
  {
   "cell_type": "markdown",
   "metadata": {},
   "source": [
    "# parquet to dask\n",
    "load a parquet dataset into a dask cluster"
   ]
  },
  {
   "cell_type": "code",
   "execution_count": 22,
   "metadata": {},
   "outputs": [],
   "source": [
    "import mlrun\n",
    "import os\n",
    "mlrun.mlconf.dbpath = 'http://mlrun-api:8080'\n",
    "mlrun.mlconf.remote_host = '3.133.8.252' "
   ]
  },
  {
   "cell_type": "markdown",
   "metadata": {},
   "source": [
    "## parameters\n"
   ]
  },
  {
   "cell_type": "code",
   "execution_count": 23,
   "metadata": {},
   "outputs": [],
   "source": [
    "FUNCTION           = 'parquet_to_dask'\n",
    "DESCRIPTION        = 'load parquet dataset into a dask cluster'\n",
    "\n",
    "BASE_IMAGE         = 'yjbds/mlrun-daskboost:dev'\n",
    "JOB_KIND           = 'job'\n",
    "TASK_NAME          = 'user-task-parq-to-dask'\n",
    "\n",
    "CODE_BASE          = '/User/repos/functions/fileutils'\n",
    "\n",
    "SRC_PATH           = '/User/mlrun/airlines/dataset-small/partitions'\n",
    "\n",
    "PARTITION_COLS     = ['Year', 'Month']\n",
    "\n",
    "DASK_SHARDS = 4\n",
    "DASK_THREADS_PER = 4"
   ]
  },
  {
   "cell_type": "markdown",
   "metadata": {},
   "source": [
    "## load and configure function"
   ]
  },
  {
   "cell_type": "code",
   "execution_count": 24,
   "metadata": {},
   "outputs": [],
   "source": [
    "func_py = os.path.join(CODE_BASE, FUNCTION, 'function.py')\n",
    "func_yaml = os.path.join(CODE_BASE, FUNCTION, 'function.yaml')"
   ]
  },
  {
   "cell_type": "markdown",
   "metadata": {},
   "source": [
    "**If run the first time, create the function:**"
   ]
  },
  {
   "cell_type": "code",
   "execution_count": 25,
   "metadata": {},
   "outputs": [],
   "source": [
    "# load function from a local Python file\n",
    "parq2dask = mlrun.new_function(command=func_py, kind=JOB_KIND)\n",
    "\n",
    "parq2dask.spec.remote = True\n",
    "parq2dask.spec.replicas = 4 \n",
    "parq2dask.spec.max_replicas = 4\n",
    "parq2dask.spec.service_type = 'NodePort'\n",
    "parq2dask.spec.build.base_image = BASE_IMAGE"
   ]
  },
  {
   "cell_type": "code",
   "execution_count": 26,
   "metadata": {},
   "outputs": [
    {
     "name": "stdout",
     "output_type": "stream",
     "text": [
      "[mlrun] 2020-01-30 00:27:38,400 function spec saved to path: /User/repos/functions/fileutils/parquet_to_dask/function.yaml\n"
     ]
    }
   ],
   "source": [
    "parq2dask.export(func_yaml)"
   ]
  },
  {
   "cell_type": "markdown",
   "metadata": {},
   "source": [
    "**otherwise load it:**"
   ]
  },
  {
   "cell_type": "code",
   "execution_count": 27,
   "metadata": {},
   "outputs": [
    {
     "name": "stdout",
     "output_type": "stream",
     "text": [
      "[mlrun] 2020-01-30 00:27:38,522 starting remote build, image: .mlrun/func-default-function-latest\n"
     ]
    },
    {
     "data": {
      "text/plain": [
       "True"
      ]
     },
     "execution_count": 27,
     "metadata": {},
     "output_type": "execute_result"
    }
   ],
   "source": [
    "parq2dask = mlrun.import_function(func_yaml)\n",
    "\n",
    "parq2dask.apply(mlrun.mount_v3io())\n",
    "\n",
    "parq2dask.deploy(skip_deployed=True, with_mlrun=False)"
   ]
  },
  {
   "cell_type": "code",
   "execution_count": 28,
   "metadata": {},
   "outputs": [
    {
     "name": "stdout",
     "output_type": "stream",
     "text": [
      "[mlrun] 2020-01-30 00:27:38,588 starting run user-task-parq-to-dask uid=56bcb9b52e1f4a1a81fc51f8d4e15d8e  -> http://mlrun-api:8080\n",
      "[mlrun] 2020-01-30 00:27:38,693 Job is running in the background, pod: user-task-parq-to-dask-c9fmj\n",
      "/opt/conda/lib/python3.7/site-packages/bokeh/themes/theme.py:94: YAMLLoadWarning: calling yaml.load() without Loader=... is deprecated, as the default Loader is unsafe. Please read https://msg.pyyaml.org/load for full details.\n",
      "  json = yaml.load(f)\n",
      "[mlrun] 2020-01-30 00:27:46,724 starting new cluster...\n",
      "[mlrun] 2020-01-30 00:27:48,599 <Client: 'tcp://127.0.0.1:38329' processes=4 threads=16, memory=66.45 GB>\n",
      "[mlrun] 2020-01-30 00:27:48,875 log artifact scheduler at /User/mlrun/models/scheduler.json, size: None, db: Y\n",
      "   Year  Month  DayofMonth  ...  NASDelay  SecurityDelay  LateAircraftDelay\n",
      "0  2007      1           1  ...       0.0            0.0               67.0\n",
      "1  2007      1           1  ...       0.0            0.0               17.0\n",
      "2  2007      1           1  ...       0.0            0.0                0.0\n",
      "3  2007      1           1  ...       0.0            0.0                0.0\n",
      "4  2007      1           1  ...       0.0            0.0                0.0\n",
      "\n",
      "[5 rows x 23 columns]\n",
      "\n",
      "[mlrun] 2020-01-30 00:27:49,134 run executed, status=completed\n",
      "final state: succeeded\n"
     ]
    },
    {
     "data": {
      "text/html": [
       "<style> \n",
       ".dictlist {\n",
       "  background-color: #b3edff; \n",
       "  text-align: center; \n",
       "  margin: 4px; \n",
       "  border-radius: 3px; padding: 0px 3px 1px 3px; display: inline-block;}\n",
       ".artifact {\n",
       "  cursor: pointer; \n",
       "  background-color: #ffe6cc; \n",
       "  text-align: left; \n",
       "  margin: 4px; border-radius: 3px; padding: 0px 3px 1px 3px; display: inline-block;\n",
       "}\n",
       "div.block.hidden {\n",
       "  display: none;\n",
       "}\n",
       ".clickable {\n",
       "  cursor: pointer;\n",
       "}\n",
       ".ellipsis {\n",
       "  display: inline-block;\n",
       "  max-width: 60px;\n",
       "  white-space: nowrap;\n",
       "  overflow: hidden;\n",
       "  text-overflow: ellipsis;\n",
       "}\n",
       ".master-wrapper {\n",
       "  display: flex;\n",
       "  flex-flow: row nowrap;\n",
       "  justify-content: flex-start;\n",
       "  align-items: stretch;\n",
       "}\n",
       ".master-tbl {\n",
       "  flex: 3\n",
       "}\n",
       ".master-wrapper > div {\n",
       "  margin: 4px;\n",
       "  padding: 10px;\n",
       "}\n",
       "iframe.fileview {\n",
       "  border: 0 none;\n",
       "  height: 100%;\n",
       "  width: 100%;\n",
       "  white-space: pre-wrap;\n",
       "}\n",
       ".pane-header-title {\n",
       "  width: 80%;\n",
       "  font-weight: 500;\n",
       "}\n",
       ".pane-header {\n",
       "  line-height: 1;\n",
       "  background-color: #ffe6cc;\n",
       "  padding: 3px;\n",
       "}\n",
       ".pane-header .close {\n",
       "  font-size: 20px;\n",
       "  font-weight: 700;\n",
       "  float: right;\n",
       "  margin-top: -5px;\n",
       "}\n",
       ".master-wrapper .right-pane {\n",
       "  border: 1px inset silver;\n",
       "  width: 40%;\n",
       "  min-height: 300px;\n",
       "  flex: 3\n",
       "  min-width: 500px;\n",
       "}\n",
       ".master-wrapper * {\n",
       "  box-sizing: border-box;\n",
       "}\n",
       "</style><script>\n",
       "function copyToClipboard(fld) {\n",
       "    if (document.queryCommandSupported && document.queryCommandSupported('copy')) {\n",
       "        var textarea = document.createElement('textarea');\n",
       "        textarea.textContent = fld.innerHTML;\n",
       "        textarea.style.position = 'fixed';\n",
       "        document.body.appendChild(textarea);\n",
       "        textarea.select();\n",
       "\n",
       "        try {\n",
       "            return document.execCommand('copy'); // Security exception may be thrown by some browsers.\n",
       "        } catch (ex) {\n",
       "\n",
       "        } finally {\n",
       "            document.body.removeChild(textarea);\n",
       "        }\n",
       "    }\n",
       "}\n",
       "function expandPanel(el) {\n",
       "  const panelName = \"#\" + el.getAttribute('paneName');\n",
       "  console.log(el.title);\n",
       "\n",
       "  document.querySelector(panelName + \"-title\").innerHTML = el.title\n",
       "  iframe = document.querySelector(panelName + \"-body\");\n",
       "  \n",
       "  const tblcss = `<style> body { font-family: Arial, Helvetica, sans-serif;}\n",
       "    #csv { margin-bottom: 15px; }\n",
       "    #csv table { border-collapse: collapse;}\n",
       "    #csv table td { padding: 4px 8px; border: 1px solid silver;} </style>`;\n",
       "\n",
       "  function csvToHtmlTable(str) {\n",
       "    return '<div id=\"csv\"><table><tr><td>' +  str.replace(/[\\n\\r]+$/g, '').replace(/[\\n\\r]+/g, '</td></tr><tr><td>')\n",
       "      .replace(/,/g, '</td><td>') + '</td></tr></table></div>';\n",
       "  }\n",
       "  \n",
       "  function reqListener () {\n",
       "    if (el.title.endsWith(\".csv\")) {\n",
       "      iframe.setAttribute(\"srcdoc\", tblcss + csvToHtmlTable(this.responseText));\n",
       "    } else {\n",
       "      iframe.setAttribute(\"srcdoc\", this.responseText);\n",
       "    }  \n",
       "    console.log(this.responseText);\n",
       "  }\n",
       "\n",
       "  const oReq = new XMLHttpRequest();\n",
       "  oReq.addEventListener(\"load\", reqListener);\n",
       "  oReq.open(\"GET\", el.title);\n",
       "  oReq.send();\n",
       "  \n",
       "  \n",
       "  //iframe.src = el.title;\n",
       "  const resultPane = document.querySelector(panelName + \"-pane\");\n",
       "  if (resultPane.classList.contains(\"hidden\")) {\n",
       "    resultPane.classList.remove(\"hidden\");\n",
       "  }\n",
       "}\n",
       "function closePanel(el) {\n",
       "  const panelName = \"#\" + el.getAttribute('paneName')\n",
       "  const resultPane = document.querySelector(panelName + \"-pane\");\n",
       "  if (!resultPane.classList.contains(\"hidden\")) {\n",
       "    resultPane.classList.add(\"hidden\");\n",
       "  }\n",
       "}\n",
       "\n",
       "</script>\n",
       "<div class=\"master-wrapper\">\n",
       "  <div class=\"block master-tbl\"><div>\n",
       "<style scoped>\n",
       "    .dataframe tbody tr th:only-of-type {\n",
       "        vertical-align: middle;\n",
       "    }\n",
       "\n",
       "    .dataframe tbody tr th {\n",
       "        vertical-align: top;\n",
       "    }\n",
       "\n",
       "    .dataframe thead th {\n",
       "        text-align: right;\n",
       "    }\n",
       "</style>\n",
       "<table border=\"1\" class=\"dataframe\">\n",
       "  <thead>\n",
       "    <tr style=\"text-align: right;\">\n",
       "      <th>uid</th>\n",
       "      <th>iter</th>\n",
       "      <th>start</th>\n",
       "      <th>state</th>\n",
       "      <th>name</th>\n",
       "      <th>labels</th>\n",
       "      <th>inputs</th>\n",
       "      <th>parameters</th>\n",
       "      <th>results</th>\n",
       "      <th>artifacts</th>\n",
       "    </tr>\n",
       "  </thead>\n",
       "  <tbody>\n",
       "    <tr>\n",
       "      <td><div title=\"56bcb9b52e1f4a1a81fc51f8d4e15d8e\">...e15d8e</div></td>\n",
       "      <td>0</td>\n",
       "      <td>Jan 30 00:27:46</td>\n",
       "      <td>completed</td>\n",
       "      <td>function</td>\n",
       "      <td><div class=\"dictlist\">host=user-task-parq-to-dask-c9fmj</div><div class=\"dictlist\">kind=job</div><div class=\"dictlist\">owner=admin</div></td>\n",
       "      <td></td>\n",
       "      <td><div class=\"dictlist\">dask_key=testdf1</div><div class=\"dictlist\">index_cols=['Year', 'Month']</div><div class=\"dictlist\">parquet_url=/User/mlrun/airlines/dataset-small/partitions</div><div class=\"dictlist\">persist=True</div><div class=\"dictlist\">shards=4</div><div class=\"dictlist\">target_path=/User/mlrun/models</div><div class=\"dictlist\">threads_per=4</div></td>\n",
       "      <td></td>\n",
       "      <td><div class=\"artifact\" onclick=\"expandPanel(this)\" paneName=\"result4bb90eb1\" title=\"/files/mlrun/models/scheduler.json\">scheduler</div></td>\n",
       "    </tr>\n",
       "  </tbody>\n",
       "</table>\n",
       "</div></div>\n",
       "  <div id=\"result4bb90eb1-pane\" class=\"right-pane block hidden\">\n",
       "    <div class=\"pane-header\">\n",
       "      <span id=\"result4bb90eb1-title\" class=\"pane-header-title\">Title</span>\n",
       "      <span onclick=\"closePanel(this)\" paneName=\"result4bb90eb1\" class=\"close clickable\">&times;</span>\n",
       "    </div>\n",
       "    <iframe class=\"fileview\" id=\"result4bb90eb1-body\"></iframe>\n",
       "  </div>\n",
       "</div>\n"
      ],
      "text/plain": [
       "<IPython.core.display.HTML object>"
      ]
     },
     "metadata": {},
     "output_type": "display_data"
    },
    {
     "name": "stdout",
     "output_type": "stream",
     "text": [
      "to track results use .show() or .logs() or in CLI: \n",
      "!mlrun get run 56bcb9b52e1f4a1a81fc51f8d4e15d8e  , !mlrun logs 56bcb9b52e1f4a1a81fc51f8d4e15d8e \n",
      "[mlrun] 2020-01-30 00:27:53,903 run executed, status=completed\n"
     ]
    }
   ],
   "source": [
    "# create and run the task\n",
    "parq_to_dask_task = mlrun.NewTask(\n",
    "    TASK_NAME, \n",
    "    handler=FUNCTION,  \n",
    "    params={\n",
    "        'parquet_url': SRC_PATH,\n",
    "        'index_cols' : PARTITION_COLS,\n",
    "        'shards'     : DASK_SHARDS,\n",
    "        'threads_per': DASK_THREADS_PER,\n",
    "        'persist'    : True,\n",
    "        'dask_key'   : 'testdf1',\n",
    "        'target_path': '/User/mlrun/models'})\n",
    "# run\n",
    "rn = parq2dask.run(parq_to_dask_task)"
   ]
  },
  {
   "cell_type": "code",
   "execution_count": 29,
   "metadata": {},
   "outputs": [
    {
     "data": {
      "text/plain": [
       "'/User/mlrun/models/scheduler.json'"
      ]
     },
     "execution_count": 29,
     "metadata": {},
     "output_type": "execute_result"
    }
   ],
   "source": [
    "rn.outputs['scheduler']"
   ]
  },
  {
   "cell_type": "markdown",
   "metadata": {},
   "source": [
    "#### What's the scheduler address?"
   ]
  },
  {
   "cell_type": "code",
   "execution_count": 30,
   "metadata": {},
   "outputs": [
    {
     "data": {
      "text/plain": [
       "{'type': 'Scheduler',\n",
       " 'id': 'Scheduler-0a0672a0-1532-42cb-a151-3aa3da211991',\n",
       " 'address': 'tcp://127.0.0.1:38329',\n",
       " 'services': {},\n",
       " 'workers': {'tcp://127.0.0.1:32950': {'type': 'Worker',\n",
       "   'id': 3,\n",
       "   'host': '127.0.0.1',\n",
       "   'resources': {},\n",
       "   'local_directory': '/dask-worker-space/worker-db2wzpjl',\n",
       "   'name': 3,\n",
       "   'nthreads': 4,\n",
       "   'memory_limit': 16612705280,\n",
       "   'last_seen': 1580344068.5361557,\n",
       "   'services': {},\n",
       "   'metrics': {'cpu': 0.0,\n",
       "    'memory': 154923008,\n",
       "    'time': 1580344068.530411,\n",
       "    'read_bytes': 0.0,\n",
       "    'write_bytes': 0.0,\n",
       "    'num_fds': 22,\n",
       "    'executing': 0,\n",
       "    'in_memory': 0,\n",
       "    'ready': 0,\n",
       "    'in_flight': 0,\n",
       "    'bandwidth': {'total': 100000000, 'workers': {}, 'types': {}}},\n",
       "   'nanny': 'tcp://127.0.0.1:34755'},\n",
       "  'tcp://127.0.0.1:33754': {'type': 'Worker',\n",
       "   'id': 2,\n",
       "   'host': '127.0.0.1',\n",
       "   'resources': {},\n",
       "   'local_directory': '/dask-worker-space/worker-3hgbwwcw',\n",
       "   'name': 2,\n",
       "   'nthreads': 4,\n",
       "   'memory_limit': 16612705280,\n",
       "   'last_seen': 1580344068.53231,\n",
       "   'services': {},\n",
       "   'metrics': {'cpu': 0.0,\n",
       "    'memory': 154923008,\n",
       "    'time': 1580344068.5266526,\n",
       "    'read_bytes': 0.0,\n",
       "    'write_bytes': 0.0,\n",
       "    'num_fds': 22,\n",
       "    'executing': 0,\n",
       "    'in_memory': 0,\n",
       "    'ready': 0,\n",
       "    'in_flight': 0,\n",
       "    'bandwidth': {'total': 100000000, 'workers': {}, 'types': {}}},\n",
       "   'nanny': 'tcp://127.0.0.1:36665'},\n",
       "  'tcp://127.0.0.1:40727': {'type': 'Worker',\n",
       "   'id': 1,\n",
       "   'host': '127.0.0.1',\n",
       "   'resources': {},\n",
       "   'local_directory': '/dask-worker-space/worker-evnbey62',\n",
       "   'name': 1,\n",
       "   'nthreads': 4,\n",
       "   'memory_limit': 16612705280,\n",
       "   'last_seen': 1580344068.5346513,\n",
       "   'services': {},\n",
       "   'metrics': {'cpu': 0.0,\n",
       "    'memory': 154918912,\n",
       "    'time': 1580344068.5266192,\n",
       "    'read_bytes': 0.0,\n",
       "    'write_bytes': 0.0,\n",
       "    'num_fds': 22,\n",
       "    'executing': 0,\n",
       "    'in_memory': 0,\n",
       "    'ready': 0,\n",
       "    'in_flight': 0,\n",
       "    'bandwidth': {'total': 100000000, 'workers': {}, 'types': {}}},\n",
       "   'nanny': 'tcp://127.0.0.1:42264'},\n",
       "  'tcp://127.0.0.1:43293': {'type': 'Worker',\n",
       "   'id': 0,\n",
       "   'host': '127.0.0.1',\n",
       "   'resources': {},\n",
       "   'local_directory': '/dask-worker-space/worker-_przo4q2',\n",
       "   'name': 0,\n",
       "   'nthreads': 4,\n",
       "   'memory_limit': 16612705280,\n",
       "   'last_seen': 1580344068.5533519,\n",
       "   'services': {},\n",
       "   'metrics': {'cpu': 0.0,\n",
       "    'memory': 154923008,\n",
       "    'time': 1580344068.5480375,\n",
       "    'read_bytes': 0.0,\n",
       "    'write_bytes': 0.0,\n",
       "    'num_fds': 22,\n",
       "    'executing': 0,\n",
       "    'in_memory': 0,\n",
       "    'ready': 0,\n",
       "    'in_flight': 0,\n",
       "    'bandwidth': {'total': 100000000, 'workers': {}, 'types': {}}},\n",
       "   'nanny': 'tcp://127.0.0.1:45396'}}}"
      ]
     },
     "execution_count": 30,
     "metadata": {},
     "output_type": "execute_result"
    }
   ],
   "source": [
    "import json\n",
    "json.load(open(rn.outputs['scheduler']))"
   ]
  },
  {
   "cell_type": "markdown",
   "metadata": {},
   "source": [
    "### create a component 'on the fly' to summarise the table\n",
    "\n",
    "The nice thing about having a dask clkuster loaded with all you rdata is that you can write _quick and dirty_ jobs either in your notebook, a local file, or a gihub repo."
   ]
  },
  {
   "cell_type": "code",
   "execution_count": 43,
   "metadata": {},
   "outputs": [],
   "source": [
    "summ = mlrun.new_function(\n",
    "    command='/User/repos/functions/tests/describe.py', \n",
    "    kind='job')"
   ]
  },
  {
   "cell_type": "code",
   "execution_count": 44,
   "metadata": {},
   "outputs": [],
   "source": [
    "summ.spec.build.base_image = BASE_IMAGE"
   ]
  },
  {
   "cell_type": "code",
   "execution_count": 45,
   "metadata": {},
   "outputs": [
    {
     "name": "stdout",
     "output_type": "stream",
     "text": [
      "[mlrun] 2020-01-30 00:35:45,128 function spec saved to path: /User/repos/functions/tests/describe.yaml\n"
     ]
    }
   ],
   "source": [
    "summ.export('/User/repos/functions/tests/describe.yaml')"
   ]
  },
  {
   "cell_type": "code",
   "execution_count": 46,
   "metadata": {},
   "outputs": [
    {
     "data": {
      "text/plain": [
       "'ready'"
      ]
     },
     "execution_count": 46,
     "metadata": {},
     "output_type": "execute_result"
    }
   ],
   "source": [
    "summ.apply(mlrun.mount_v3io())\n",
    "\n",
    "summ.deploy(skip_deployed=True, with_mlrun=False)"
   ]
  },
  {
   "cell_type": "code",
   "execution_count": 47,
   "metadata": {},
   "outputs": [
    {
     "name": "stdout",
     "output_type": "stream",
     "text": [
      "[mlrun] 2020-01-30 00:35:45,992 starting run user-task-my-sum uid=a90a033391c9471db638448f497fa9ef  -> http://mlrun-api:8080\n",
      "[mlrun] 2020-01-30 00:35:46,062 Job is running in the background, pod: user-task-my-sum-fdq27\n",
      "3.133.8.252:8786\n",
      "[mlrun] 2020-01-30 00:36:04,279 Traceback (most recent call last):\n",
      "  File \"/opt/conda/lib/python3.7/site-packages/distributed/comm/core.py\", line 218, in connect\n",
      "    _raise(error)\n",
      "  File \"/opt/conda/lib/python3.7/site-packages/distributed/comm/core.py\", line 203, in _raise\n",
      "    raise IOError(msg)\n",
      "OSError: Timed out trying to connect to 'tcp://127.0.0.1:38329' after 10 s: in <distributed.comm.tcp.TCPConnector object at 0x7f6863d0e750>: ConnectionRefusedError: [Errno 111] Connection refused\n",
      "\n",
      "During handling of the above exception, another exception occurred:\n",
      "\n",
      "Traceback (most recent call last):\n",
      "  File \"/opt/conda/lib/python3.7/site-packages/mlrun/runtimes/local.py\", line 199, in exec_from_params\n",
      "    val = handler(*args_list)\n",
      "  File \"/User/repos/functions/tests/describe.py\", line 41, in table_summary\n",
      "    context.dask_client = Client(scheduler_file='/User/mlrun/models/scheduler.json')\n",
      "  File \"/opt/conda/lib/python3.7/site-packages/distributed/client.py\", line 726, in __init__\n",
      "    self.start(timeout=timeout)\n",
      "  File \"/opt/conda/lib/python3.7/site-packages/distributed/client.py\", line 891, in start\n",
      "    sync(self.loop, self._start, **kwargs)\n",
      "  File \"/opt/conda/lib/python3.7/site-packages/distributed/utils.py\", line 345, in sync\n",
      "    raise exc.with_traceback(tb)\n",
      "  File \"/opt/conda/lib/python3.7/site-packages/distributed/utils.py\", line 329, in f\n",
      "    result[0] = yield future\n",
      "  File \"/opt/conda/lib/python3.7/site-packages/tornado/gen.py\", line 735, in run\n",
      "    value = future.result()\n",
      "  File \"/opt/conda/lib/python3.7/site-packages/distributed/client.py\", line 984, in _start\n",
      "    await self._ensure_connected(timeout=timeout)\n",
      "  File \"/opt/conda/lib/python3.7/site-packages/distributed/client.py\", line 1041, in _ensure_connected\n",
      "    connection_args=self.connection_args,\n",
      "  File \"/opt/conda/lib/python3.7/site-packages/distributed/comm/core.py\", line 227, in connect\n",
      "    _raise(error)\n",
      "  File \"/opt/conda/lib/python3.7/site-packages/distributed/comm/core.py\", line 203, in _raise\n",
      "    raise IOError(msg)\n",
      "OSError: Timed out trying to connect to 'tcp://127.0.0.1:38329' after 10 s: Timed out trying to connect to 'tcp://127.0.0.1:38329' after 10 s: in <distributed.comm.tcp.TCPConnector object at 0x7f6863d0e750>: ConnectionRefusedError: [Errno 111] Connection refused\n",
      "\n",
      "\n",
      "[mlrun] 2020-01-30 00:36:04,293 exec error - Timed out trying to connect to 'tcp://127.0.0.1:38329' after 10 s: Timed out trying to connect to 'tcp://127.0.0.1:38329' after 10 s: in <distributed.comm.tcp.TCPConnector object at 0x7f6863d0e750>: ConnectionRefusedError: [Errno 111] Connection refused\n",
      "[mlrun] 2020-01-30 00:36:04,323 run executed, status=error\n",
      "runtime error: Timed out trying to connect to 'tcp://127.0.0.1:38329' after 10 s: Timed out trying to connect to 'tcp://127.0.0.1:38329' after 10 s: in <distributed.comm.tcp.TCPConnector object at 0x7f6863d0e750>: ConnectionRefusedError: [Errno 111] Connection refused\n",
      "Timed out trying to connect to 'tcp://127.0.0.1:38329' after 10 s: Timed out trying to connect to 'tcp://127.0.0.1:38329' after 10 s: in <distributed.comm.tcp.TCPConnector object at 0x7f6863d0e750>: ConnectionRefusedError: [Errno 111] Connection refused\n",
      "final state: failed\n"
     ]
    },
    {
     "data": {
      "text/html": [
       "<style> \n",
       ".dictlist {\n",
       "  background-color: #b3edff; \n",
       "  text-align: center; \n",
       "  margin: 4px; \n",
       "  border-radius: 3px; padding: 0px 3px 1px 3px; display: inline-block;}\n",
       ".artifact {\n",
       "  cursor: pointer; \n",
       "  background-color: #ffe6cc; \n",
       "  text-align: left; \n",
       "  margin: 4px; border-radius: 3px; padding: 0px 3px 1px 3px; display: inline-block;\n",
       "}\n",
       "div.block.hidden {\n",
       "  display: none;\n",
       "}\n",
       ".clickable {\n",
       "  cursor: pointer;\n",
       "}\n",
       ".ellipsis {\n",
       "  display: inline-block;\n",
       "  max-width: 60px;\n",
       "  white-space: nowrap;\n",
       "  overflow: hidden;\n",
       "  text-overflow: ellipsis;\n",
       "}\n",
       ".master-wrapper {\n",
       "  display: flex;\n",
       "  flex-flow: row nowrap;\n",
       "  justify-content: flex-start;\n",
       "  align-items: stretch;\n",
       "}\n",
       ".master-tbl {\n",
       "  flex: 3\n",
       "}\n",
       ".master-wrapper > div {\n",
       "  margin: 4px;\n",
       "  padding: 10px;\n",
       "}\n",
       "iframe.fileview {\n",
       "  border: 0 none;\n",
       "  height: 100%;\n",
       "  width: 100%;\n",
       "  white-space: pre-wrap;\n",
       "}\n",
       ".pane-header-title {\n",
       "  width: 80%;\n",
       "  font-weight: 500;\n",
       "}\n",
       ".pane-header {\n",
       "  line-height: 1;\n",
       "  background-color: #ffe6cc;\n",
       "  padding: 3px;\n",
       "}\n",
       ".pane-header .close {\n",
       "  font-size: 20px;\n",
       "  font-weight: 700;\n",
       "  float: right;\n",
       "  margin-top: -5px;\n",
       "}\n",
       ".master-wrapper .right-pane {\n",
       "  border: 1px inset silver;\n",
       "  width: 40%;\n",
       "  min-height: 300px;\n",
       "  flex: 3\n",
       "  min-width: 500px;\n",
       "}\n",
       ".master-wrapper * {\n",
       "  box-sizing: border-box;\n",
       "}\n",
       "</style><script>\n",
       "function copyToClipboard(fld) {\n",
       "    if (document.queryCommandSupported && document.queryCommandSupported('copy')) {\n",
       "        var textarea = document.createElement('textarea');\n",
       "        textarea.textContent = fld.innerHTML;\n",
       "        textarea.style.position = 'fixed';\n",
       "        document.body.appendChild(textarea);\n",
       "        textarea.select();\n",
       "\n",
       "        try {\n",
       "            return document.execCommand('copy'); // Security exception may be thrown by some browsers.\n",
       "        } catch (ex) {\n",
       "\n",
       "        } finally {\n",
       "            document.body.removeChild(textarea);\n",
       "        }\n",
       "    }\n",
       "}\n",
       "function expandPanel(el) {\n",
       "  const panelName = \"#\" + el.getAttribute('paneName');\n",
       "  console.log(el.title);\n",
       "\n",
       "  document.querySelector(panelName + \"-title\").innerHTML = el.title\n",
       "  iframe = document.querySelector(panelName + \"-body\");\n",
       "  \n",
       "  const tblcss = `<style> body { font-family: Arial, Helvetica, sans-serif;}\n",
       "    #csv { margin-bottom: 15px; }\n",
       "    #csv table { border-collapse: collapse;}\n",
       "    #csv table td { padding: 4px 8px; border: 1px solid silver;} </style>`;\n",
       "\n",
       "  function csvToHtmlTable(str) {\n",
       "    return '<div id=\"csv\"><table><tr><td>' +  str.replace(/[\\n\\r]+$/g, '').replace(/[\\n\\r]+/g, '</td></tr><tr><td>')\n",
       "      .replace(/,/g, '</td><td>') + '</td></tr></table></div>';\n",
       "  }\n",
       "  \n",
       "  function reqListener () {\n",
       "    if (el.title.endsWith(\".csv\")) {\n",
       "      iframe.setAttribute(\"srcdoc\", tblcss + csvToHtmlTable(this.responseText));\n",
       "    } else {\n",
       "      iframe.setAttribute(\"srcdoc\", this.responseText);\n",
       "    }  \n",
       "    console.log(this.responseText);\n",
       "  }\n",
       "\n",
       "  const oReq = new XMLHttpRequest();\n",
       "  oReq.addEventListener(\"load\", reqListener);\n",
       "  oReq.open(\"GET\", el.title);\n",
       "  oReq.send();\n",
       "  \n",
       "  \n",
       "  //iframe.src = el.title;\n",
       "  const resultPane = document.querySelector(panelName + \"-pane\");\n",
       "  if (resultPane.classList.contains(\"hidden\")) {\n",
       "    resultPane.classList.remove(\"hidden\");\n",
       "  }\n",
       "}\n",
       "function closePanel(el) {\n",
       "  const panelName = \"#\" + el.getAttribute('paneName')\n",
       "  const resultPane = document.querySelector(panelName + \"-pane\");\n",
       "  if (!resultPane.classList.contains(\"hidden\")) {\n",
       "    resultPane.classList.add(\"hidden\");\n",
       "  }\n",
       "}\n",
       "\n",
       "</script>\n",
       "<div class=\"master-wrapper\">\n",
       "  <div class=\"block master-tbl\"><div>\n",
       "<style scoped>\n",
       "    .dataframe tbody tr th:only-of-type {\n",
       "        vertical-align: middle;\n",
       "    }\n",
       "\n",
       "    .dataframe tbody tr th {\n",
       "        vertical-align: top;\n",
       "    }\n",
       "\n",
       "    .dataframe thead th {\n",
       "        text-align: right;\n",
       "    }\n",
       "</style>\n",
       "<table border=\"1\" class=\"dataframe\">\n",
       "  <thead>\n",
       "    <tr style=\"text-align: right;\">\n",
       "      <th>uid</th>\n",
       "      <th>iter</th>\n",
       "      <th>start</th>\n",
       "      <th>state</th>\n",
       "      <th>name</th>\n",
       "      <th>labels</th>\n",
       "      <th>inputs</th>\n",
       "      <th>parameters</th>\n",
       "      <th>results</th>\n",
       "      <th>artifacts</th>\n",
       "    </tr>\n",
       "  </thead>\n",
       "  <tbody>\n",
       "    <tr>\n",
       "      <td><div title=\"a90a033391c9471db638448f497fa9ef\">...7fa9ef</div></td>\n",
       "      <td>0</td>\n",
       "      <td>Jan 30 00:35:54</td>\n",
       "      <td><div style=\"color: red;\" title=\"Timed out trying to connect to 'tcp://127.0.0.1:38329' after 10 s: Timed out trying to connect to 'tcp://127.0.0.1:38329' after 10 s: in <distributed.comm.tcp.TCPConnector object at 0x7f6863d0e750>: ConnectionRefusedError: [Errno 111] Connection refused\">error</div></td>\n",
       "      <td>describe</td>\n",
       "      <td><div class=\"dictlist\">host=user-task-my-sum-fdq27</div><div class=\"dictlist\">kind=job</div><div class=\"dictlist\">owner=admin</div></td>\n",
       "      <td></td>\n",
       "      <td><div class=\"dictlist\">dask_client=3.133.8.252:8786</div><div class=\"dictlist\">dask_key=testdf</div><div class=\"dictlist\">key=table-summary</div><div class=\"dictlist\">name=table-summary.csv</div><div class=\"dictlist\">target_path=/User/mlrun/models</div></td>\n",
       "      <td></td>\n",
       "      <td></td>\n",
       "    </tr>\n",
       "  </tbody>\n",
       "</table>\n",
       "</div></div>\n",
       "  <div id=\"result8ff7aa51-pane\" class=\"right-pane block hidden\">\n",
       "    <div class=\"pane-header\">\n",
       "      <span id=\"result8ff7aa51-title\" class=\"pane-header-title\">Title</span>\n",
       "      <span onclick=\"closePanel(this)\" paneName=\"result8ff7aa51\" class=\"close clickable\">&times;</span>\n",
       "    </div>\n",
       "    <iframe class=\"fileview\" id=\"result8ff7aa51-body\"></iframe>\n",
       "  </div>\n",
       "</div>\n"
      ],
      "text/plain": [
       "<IPython.core.display.HTML object>"
      ]
     },
     "metadata": {},
     "output_type": "display_data"
    },
    {
     "name": "stdout",
     "output_type": "stream",
     "text": [
      "to track results use .show() or .logs() or in CLI: \n",
      "!mlrun get run a90a033391c9471db638448f497fa9ef  , !mlrun logs a90a033391c9471db638448f497fa9ef \n",
      "[mlrun] 2020-01-30 00:36:08,251 run executed, status=error\n",
      "runtime error: Timed out trying to connect to 'tcp://127.0.0.1:38329' after 10 s: Timed out trying to connect to 'tcp://127.0.0.1:38329' after 10 s: in <distributed.comm.tcp.TCPConnector object at 0x7f6863d0e750>: ConnectionRefusedError: [Errno 111] Connection refused\n"
     ]
    },
    {
     "ename": "RunError",
     "evalue": "Timed out trying to connect to 'tcp://127.0.0.1:38329' after 10 s: Timed out trying to connect to 'tcp://127.0.0.1:38329' after 10 s: in <distributed.comm.tcp.TCPConnector object at 0x7f6863d0e750>: ConnectionRefusedError: [Errno 111] Connection refused",
     "output_type": "error",
     "traceback": [
      "\u001b[0;31m---------------------------------------------------------------------------\u001b[0m",
      "\u001b[0;31mRunError\u001b[0m                                  Traceback (most recent call last)",
      "\u001b[0;32m<ipython-input-47-9f011b1d54cc>\u001b[0m in \u001b[0;36m<module>\u001b[0;34m\u001b[0m\n\u001b[1;32m     10\u001b[0m         'key'        : 'table-summary'})\n\u001b[1;32m     11\u001b[0m \u001b[0;31m# run\u001b[0m\u001b[0;34m\u001b[0m\u001b[0;34m\u001b[0m\u001b[0;34m\u001b[0m\u001b[0m\n\u001b[0;32m---> 12\u001b[0;31m \u001b[0mrn2\u001b[0m \u001b[0;34m=\u001b[0m \u001b[0msumm\u001b[0m\u001b[0;34m.\u001b[0m\u001b[0mrun\u001b[0m\u001b[0;34m(\u001b[0m\u001b[0msumm_task\u001b[0m\u001b[0;34m)\u001b[0m\u001b[0;34m\u001b[0m\u001b[0;34m\u001b[0m\u001b[0m\n\u001b[0m",
      "\u001b[0;32m~/.pythonlibs/jupyter-1/lib/python3.6/site-packages/mlrun/runtimes/base.py\u001b[0m in \u001b[0;36mrun\u001b[0;34m(self, runspec, handler, name, project, params, inputs, out_path, workdir, watch, schedule)\u001b[0m\n\u001b[1;32m    266\u001b[0m                 \u001b[0mresult\u001b[0m \u001b[0;34m=\u001b[0m \u001b[0mself\u001b[0m\u001b[0;34m.\u001b[0m\u001b[0m_post_run\u001b[0m\u001b[0;34m(\u001b[0m\u001b[0mtask\u001b[0m\u001b[0;34m=\u001b[0m\u001b[0mrunspec\u001b[0m\u001b[0;34m,\u001b[0m \u001b[0merr\u001b[0m\u001b[0;34m=\u001b[0m\u001b[0merr\u001b[0m\u001b[0;34m)\u001b[0m\u001b[0;34m\u001b[0m\u001b[0;34m\u001b[0m\u001b[0m\n\u001b[1;32m    267\u001b[0m                 \u001b[0;32mreturn\u001b[0m \u001b[0mself\u001b[0m\u001b[0;34m.\u001b[0m\u001b[0m_wrap_result\u001b[0m\u001b[0;34m(\u001b[0m\u001b[0mresult\u001b[0m\u001b[0;34m,\u001b[0m \u001b[0mrunspec\u001b[0m\u001b[0;34m,\u001b[0m \u001b[0merr\u001b[0m\u001b[0;34m=\u001b[0m\u001b[0merr\u001b[0m\u001b[0;34m)\u001b[0m\u001b[0;34m\u001b[0m\u001b[0;34m\u001b[0m\u001b[0m\n\u001b[0;32m--> 268\u001b[0;31m             \u001b[0;32mreturn\u001b[0m \u001b[0mself\u001b[0m\u001b[0;34m.\u001b[0m\u001b[0m_wrap_result\u001b[0m\u001b[0;34m(\u001b[0m\u001b[0mresp\u001b[0m\u001b[0;34m,\u001b[0m \u001b[0mrunspec\u001b[0m\u001b[0;34m)\u001b[0m\u001b[0;34m\u001b[0m\u001b[0;34m\u001b[0m\u001b[0m\n\u001b[0m\u001b[1;32m    269\u001b[0m \u001b[0;34m\u001b[0m\u001b[0m\n\u001b[1;32m    270\u001b[0m         \u001b[0;32melif\u001b[0m \u001b[0mself\u001b[0m\u001b[0;34m.\u001b[0m\u001b[0m_is_remote\u001b[0m \u001b[0;32mand\u001b[0m \u001b[0;32mnot\u001b[0m \u001b[0mself\u001b[0m\u001b[0;34m.\u001b[0m\u001b[0m_is_api_server\u001b[0m \u001b[0;32mand\u001b[0m \u001b[0;32mnot\u001b[0m \u001b[0mself\u001b[0m\u001b[0;34m.\u001b[0m\u001b[0mkfp\u001b[0m\u001b[0;34m:\u001b[0m\u001b[0;34m\u001b[0m\u001b[0;34m\u001b[0m\u001b[0m\n",
      "\u001b[0;32m~/.pythonlibs/jupyter-1/lib/python3.6/site-packages/mlrun/runtimes/base.py\u001b[0m in \u001b[0;36m_wrap_result\u001b[0;34m(self, result, runspec, err)\u001b[0m\n\u001b[1;32m    334\u001b[0m                 \u001b[0;32mif\u001b[0m \u001b[0mself\u001b[0m\u001b[0;34m.\u001b[0m\u001b[0m_is_remote\u001b[0m \u001b[0;32mand\u001b[0m \u001b[0;32mnot\u001b[0m \u001b[0mself\u001b[0m\u001b[0;34m.\u001b[0m\u001b[0mis_child\u001b[0m\u001b[0;34m:\u001b[0m\u001b[0;34m\u001b[0m\u001b[0;34m\u001b[0m\u001b[0m\n\u001b[1;32m    335\u001b[0m                     \u001b[0mprint\u001b[0m\u001b[0;34m(\u001b[0m\u001b[0;34m'runtime error: {}'\u001b[0m\u001b[0;34m.\u001b[0m\u001b[0mformat\u001b[0m\u001b[0;34m(\u001b[0m\u001b[0mrun\u001b[0m\u001b[0;34m.\u001b[0m\u001b[0mstatus\u001b[0m\u001b[0;34m.\u001b[0m\u001b[0merror\u001b[0m\u001b[0;34m)\u001b[0m\u001b[0;34m)\u001b[0m\u001b[0;34m\u001b[0m\u001b[0;34m\u001b[0m\u001b[0m\n\u001b[0;32m--> 336\u001b[0;31m                 \u001b[0;32mraise\u001b[0m \u001b[0mRunError\u001b[0m\u001b[0;34m(\u001b[0m\u001b[0mrun\u001b[0m\u001b[0;34m.\u001b[0m\u001b[0mstatus\u001b[0m\u001b[0;34m.\u001b[0m\u001b[0merror\u001b[0m\u001b[0;34m)\u001b[0m\u001b[0;34m\u001b[0m\u001b[0;34m\u001b[0m\u001b[0m\n\u001b[0m\u001b[1;32m    337\u001b[0m             \u001b[0;32mreturn\u001b[0m \u001b[0mrun\u001b[0m\u001b[0;34m\u001b[0m\u001b[0;34m\u001b[0m\u001b[0m\n\u001b[1;32m    338\u001b[0m \u001b[0;34m\u001b[0m\u001b[0m\n",
      "\u001b[0;31mRunError\u001b[0m: Timed out trying to connect to 'tcp://127.0.0.1:38329' after 10 s: Timed out trying to connect to 'tcp://127.0.0.1:38329' after 10 s: in <distributed.comm.tcp.TCPConnector object at 0x7f6863d0e750>: ConnectionRefusedError: [Errno 111] Connection refused"
     ]
    }
   ],
   "source": [
    "# create and run the task\n",
    "summ_task = mlrun.NewTask(\n",
    "    'user-task-my-sum', \n",
    "    handler='table_summary',  \n",
    "    params={\n",
    "        'dask_key'   : 'testdf',\n",
    "        'dask_client': '3.133.8.252:8786',\n",
    "        'target_path': '/User/mlrun/models',\n",
    "        'name'       : 'table-summary.csv',\n",
    "        'key'        : 'table-summary'})\n",
    "# run\n",
    "rn2 = summ.run(summ_task)"
   ]
  },
  {
   "cell_type": "code",
   "execution_count": null,
   "metadata": {},
   "outputs": [],
   "source": [
    "rn2.outputs"
   ]
  },
  {
   "cell_type": "markdown",
   "metadata": {},
   "source": [
    "## our cluster"
   ]
  },
  {
   "cell_type": "code",
   "execution_count": null,
   "metadata": {},
   "outputs": [],
   "source": [
    "from dask.distributed import Client, LocalCluster\n",
    "\n",
    "client = Client(scheduler)"
   ]
  },
  {
   "cell_type": "code",
   "execution_count": null,
   "metadata": {},
   "outputs": [],
   "source": [
    "client.datasets['testdf']"
   ]
  },
  {
   "cell_type": "markdown",
   "metadata": {},
   "source": [
    "____\n",
    "\n",
    "# tests"
   ]
  },
  {
   "cell_type": "code",
   "execution_count": null,
   "metadata": {},
   "outputs": [],
   "source": [
    "import numpy as np\n",
    "import pandas as pd\n",
    "import pyarrow as pa\n",
    "import pyarrow.parquet as pq"
   ]
  },
  {
   "cell_type": "code",
   "execution_count": null,
   "metadata": {},
   "outputs": [],
   "source": [
    "import dask\n",
    "import dask.dataframe as dd"
   ]
  },
  {
   "cell_type": "code",
   "execution_count": null,
   "metadata": {},
   "outputs": [],
   "source": [
    "dataset = pq.ParquetDataset(os.path.join(SRC_PATH))\n",
    "df = dataset.read().to_pandas()\n",
    "\n",
    "\n",
    "ddf = dd.read_parquet(SRC_PATH) #+'/*.parquet')"
   ]
  },
  {
   "cell_type": "code",
   "execution_count": null,
   "metadata": {},
   "outputs": [],
   "source": [
    "ddf = ddf.persist()"
   ]
  },
  {
   "cell_type": "code",
   "execution_count": null,
   "metadata": {},
   "outputs": [],
   "source": [
    "ddf.head()"
   ]
  },
  {
   "cell_type": "code",
   "execution_count": null,
   "metadata": {},
   "outputs": [],
   "source": [
    "ddf.shape[0].compute()"
   ]
  },
  {
   "cell_type": "code",
   "execution_count": null,
   "metadata": {},
   "outputs": [],
   "source": []
  }
 ],
 "metadata": {
  "kernelspec": {
   "display_name": "Python 3",
   "language": "python",
   "name": "python3"
  },
  "language_info": {
   "codemirror_mode": {
    "name": "ipython",
    "version": 3
   },
   "file_extension": ".py",
   "mimetype": "text/x-python",
   "name": "python",
   "nbconvert_exporter": "python",
   "pygments_lexer": "ipython3",
   "version": "3.6.8"
  }
 },
 "nbformat": 4,
 "nbformat_minor": 4
}
